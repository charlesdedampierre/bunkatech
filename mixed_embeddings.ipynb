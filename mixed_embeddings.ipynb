{
 "cells": [
  {
   "cell_type": "code",
   "execution_count": 12,
   "id": "5925288c-2e87-4966-a0b5-215c2c61cedb",
   "metadata": {},
   "outputs": [],
   "source": [
    "import pandas as pd\n",
    "import numpy as np\n",
    "import umap\n",
    "#from bunkatech.semantics.extract_terms import extract_terms_df"
   ]
  },
  {
   "cell_type": "code",
   "execution_count": 13,
   "id": "52803ca4-34ce-473e-b944-f8d4d9580e1d",
   "metadata": {},
   "outputs": [],
   "source": [
    "from bunkatech.basic_class import BasicSemantics"
   ]
  },
  {
   "cell_type": "code",
   "execution_count": 16,
   "id": "6fa9c16b-a444-4846-8b91-d9f5aaf56d21",
   "metadata": {},
   "outputs": [],
   "source": [
    "model = BasicSemantics(data,\n",
    "                        text_var = 'description',\n",
    "                        index_var = 'imdb')"
   ]
  },
  {
   "cell_type": "code",
   "execution_count": 18,
   "id": "eaf0a9da-b207-43b6-b659-7b860ad14d09",
   "metadata": {},
   "outputs": [
    {
     "name": "stdout",
     "output_type": "stream",
     "text": [
      "Start Embedding...\n",
      "UMAP(n_components=5, verbose=True)\n",
      "Sun Mar 27 10:43:02 2022 Construct fuzzy simplicial set\n",
      "Sun Mar 27 10:43:05 2022 Finding Nearest Neighbors\n",
      "Sun Mar 27 10:43:07 2022 Finished Nearest Neighbor Search\n",
      "Sun Mar 27 10:43:08 2022 Construct embedding\n"
     ]
    },
    {
     "data": {
      "application/vnd.jupyter.widget-view+json": {
       "model_id": "4c7a359099c7427a94c1266aa29215ee",
       "version_major": 2,
       "version_minor": 0
      },
      "text/plain": [
       "Epochs completed:   0%|            0/500 [00:00]"
      ]
     },
     "metadata": {},
     "output_type": "display_data"
    },
    {
     "name": "stdout",
     "output_type": "stream",
     "text": [
      "Sun Mar 27 10:43:11 2022 Finished embedding\n"
     ]
    }
   ],
   "source": [
    "model.fit(extract_terms=False,\n",
    "        terms_embedding=False,\n",
    "        docs_embedding=True,\n",
    "        sample_size_terms=500,\n",
    "        terms_limit=500,\n",
    "        terms_ents=True,\n",
    "        terms_ngrams=(1, 2),\n",
    "        terms_ncs=True,\n",
    "        terms_include_pos=[\"NOUN\", \"PROPN\", \"ADJ\"],\n",
    "        terms_include_types=[\"PERSON\", \"ORG\"],\n",
    "        terms_embedding_model=\"all-MiniLM-L6-v2\",\n",
    "        docs_embedding_model=\"all-MiniLM-L6-v2\",\n",
    "        docs_multiprocessing=True,\n",
    "        terms_multiprocessing = True, \n",
    "        docs_dimension_reduction=5,\n",
    "        language=\"en\")"
   ]
  },
  {
   "cell_type": "code",
   "execution_count": 21,
   "id": "7c07cc7c-8176-4d11-a7fc-7bbd48ec8039",
   "metadata": {},
   "outputs": [],
   "source": [
    "docs_embeddings = model.docs_embeddings"
   ]
  },
  {
   "cell_type": "code",
   "execution_count": 77,
   "id": "20a6a37d-a136-489b-9dd3-017c56a10439",
   "metadata": {},
   "outputs": [],
   "source": [
    "import networkx as nx\n",
    "import multiprocessing\n",
    "from node2vec import Node2Vec\n",
    "\n",
    "edge_list = data[['imdb', 'country']]\n",
    "edge_list['country'] = edge_list['country'].apply(lambda x: x.split(', '))\n",
    "edge_list = edge_list.explode('country')\n",
    "edge_list['weight'] = 1\n",
    "edge_list.columns = ['source', 'target', 'weight']\n",
    "\n",
    "G = nx.from_pandas_edgelist(\n",
    "        edge_list, source=\"source\", target=\"target\", edge_attr=\"weight\"\n",
    "    )"
   ]
  },
  {
   "cell_type": "code",
   "execution_count": 78,
   "id": "125a5491-3037-46d0-a0b7-34d6ca2835f6",
   "metadata": {},
   "outputs": [
    {
     "data": {
      "application/vnd.jupyter.widget-view+json": {
       "model_id": "5023bbb248d040b5b15f2e5c3589f126",
       "version_major": 2,
       "version_minor": 0
      },
      "text/plain": [
       "Computing transition probabilities:   0%|          | 0/3079 [00:00<?, ?it/s]"
      ]
     },
     "metadata": {},
     "output_type": "display_data"
    },
    {
     "name": "stderr",
     "output_type": "stream",
     "text": [
      "Generating walks (CPU: 2): 100%|██████████| 1/1 [00:13<00:00, 13.75s/it]\n",
      "Generating walks (CPU: 1): 100%|██████████| 1/1 [00:14<00:00, 14.05s/it]\n",
      "Generating walks (CPU: 3): 100%|██████████| 1/1 [00:13<00:00, 13.87s/it]\n",
      "Generating walks (CPU: 4): 100%|██████████| 1/1 [00:14<00:00, 14.36s/it]\n",
      "Generating walks (CPU: 7): 100%|██████████| 1/1 [00:13<00:00, 13.95s/it]\n",
      "Generating walks (CPU: 8): 100%|██████████| 1/1 [00:14<00:00, 14.09s/it]\n",
      "Generating walks (CPU: 9): 100%|██████████| 1/1 [00:14<00:00, 14.05s/it]\n",
      "Generating walks (CPU: 6): 100%|██████████| 1/1 [00:14<00:00, 14.99s/it]\n",
      "Generating walks (CPU: 5): 100%|██████████| 1/1 [00:15<00:00, 15.55s/it]\n",
      "Generating walks (CPU: 10): 100%|██████████| 1/1 [00:14<00:00, 14.38s/it]\n"
     ]
    }
   ],
   "source": [
    "node2vec = Node2Vec(G, dimensions=700, workers=multiprocessing.cpu_count())"
   ]
  },
  {
   "cell_type": "code",
   "execution_count": 79,
   "id": "7170cbe0-4704-4720-9cd8-385f0e4cf492",
   "metadata": {},
   "outputs": [
    {
     "name": "stdout",
     "output_type": "stream",
     "text": [
      "UMAP(n_components=5, verbose=True)\n",
      "Sun Mar 27 11:14:16 2022 Construct fuzzy simplicial set\n",
      "Sun Mar 27 11:14:20 2022 Finding Nearest Neighbors\n",
      "Sun Mar 27 11:14:20 2022 Finished Nearest Neighbor Search\n",
      "Sun Mar 27 11:14:20 2022 Construct embedding\n"
     ]
    },
    {
     "data": {
      "application/vnd.jupyter.widget-view+json": {
       "model_id": "c95051982119423988f97aab47d9f3a3",
       "version_major": 2,
       "version_minor": 0
      },
      "text/plain": [
       "Epochs completed:   0%|            0/500 [00:00]"
      ]
     },
     "metadata": {},
     "output_type": "display_data"
    },
    {
     "name": "stdout",
     "output_type": "stream",
     "text": [
      "Sun Mar 27 11:14:23 2022 Finished embedding\n"
     ]
    }
   ],
   "source": [
    "model = node2vec.fit(window=30, min_count=1)\n",
    "nodes = list(map(str, G.nodes()))\n",
    "embeddings = np.array([model.wv[x] for x in nodes])\n",
    "embeddings = pd.DataFrame(embeddings, index=nodes)\n",
    "embeddings_red =  umap.UMAP(n_components=5, verbose=True).fit_transform(embeddings)\n",
    "node_embeddings = pd.DataFrame(embeddings_red, index = nodes)"
   ]
  },
  {
   "cell_type": "code",
   "execution_count": 80,
   "id": "59e703de-db6f-4646-93d0-20a0c2ba472f",
   "metadata": {},
   "outputs": [],
   "source": [
    "text_emb = docs_embeddings.add_prefix('text_')\n",
    "node_emb = node_embeddings.add_prefix('node_')"
   ]
  },
  {
   "cell_type": "code",
   "execution_count": 81,
   "id": "96e77e06-e187-4614-8de6-1d6d3989153d",
   "metadata": {},
   "outputs": [],
   "source": [
    "from sklearn.preprocessing import normalize\n",
    "\n",
    "fin_emb = pd.merge(node_emb, text_emb, left_index=True, right_index=True, how = 'outer')\n",
    "fin_emb = fin_emb.fillna(fin_emb.mean())\n",
    "fin_emb = pd.DataFrame(normalize(fin_emb), index = fin_emb.index)"
   ]
  },
  {
   "cell_type": "code",
   "execution_count": null,
   "id": "7d2a6fa8-023a-4565-bd23-5effe1a1dffa",
   "metadata": {},
   "outputs": [],
   "source": []
  },
  {
   "cell_type": "code",
   "execution_count": 84,
   "id": "0dd95396-b210-4998-a913-18b452674877",
   "metadata": {},
   "outputs": [
    {
     "name": "stdout",
     "output_type": "stream",
     "text": [
      "UMAP( verbose=True)\n",
      "Sun Mar 27 11:16:13 2022 Construct fuzzy simplicial set\n",
      "Sun Mar 27 11:16:16 2022 Finding Nearest Neighbors\n",
      "Sun Mar 27 11:16:16 2022 Finished Nearest Neighbor Search\n",
      "Sun Mar 27 11:16:16 2022 Construct embedding\n"
     ]
    },
    {
     "data": {
      "application/vnd.jupyter.widget-view+json": {
       "model_id": "dc9a614461ee46739204d0ac403f6755",
       "version_major": 2,
       "version_minor": 0
      },
      "text/plain": [
       "Epochs completed:   0%|            0/500 [00:00]"
      ]
     },
     "metadata": {},
     "output_type": "display_data"
    },
    {
     "name": "stdout",
     "output_type": "stream",
     "text": [
      "Sun Mar 27 11:16:19 2022 Finished embedding\n"
     ]
    }
   ],
   "source": [
    "fin_emb_red = umap.UMAP(n_components=2, verbose=True).fit_transform(fin_emb)\n",
    "fin_emb_red = pd.DataFrame(fin_emb_red, index = fin_emb.index)"
   ]
  },
  {
   "cell_type": "code",
   "execution_count": 94,
   "id": "acd4a91e-b5bf-4110-ab78-48f348b9617d",
   "metadata": {},
   "outputs": [
    {
     "data": {
      "text/plain": [
       "'file.html'"
      ]
     },
     "execution_count": 94,
     "metadata": {},
     "output_type": "execute_result"
    }
   ],
   "source": [
    "import plotly.express as px\n",
    "import bamboolib\n",
    "\n",
    "fig = px.scatter(fin_emb_red.reset_index(), x=0, y=1, text = 'index', height = 1500, width = 1500)\n",
    "\n",
    "\n",
    "import plotly\n",
    "plotly.offline.plot(fig, filename='file.html')"
   ]
  },
  {
   "cell_type": "code",
   "execution_count": null,
   "id": "ac46f100-0ad6-4f2d-aa2b-4cb959c5c6b8",
   "metadata": {},
   "outputs": [],
   "source": []
  },
  {
   "cell_type": "code",
   "execution_count": null,
   "id": "ff809071-c348-48ed-afd1-54fdc579238f",
   "metadata": {},
   "outputs": [],
   "source": []
  }
 ],
 "metadata": {
  "kernelspec": {
   "display_name": "Python 3 (ipykernel)",
   "language": "python",
   "name": "python3"
  },
  "language_info": {
   "codemirror_mode": {
    "name": "ipython",
    "version": 3
   },
   "file_extension": ".py",
   "mimetype": "text/x-python",
   "name": "python",
   "nbconvert_exporter": "python",
   "pygments_lexer": "ipython3",
   "version": "3.9.7"
  }
 },
 "nbformat": 4,
 "nbformat_minor": 5
}
