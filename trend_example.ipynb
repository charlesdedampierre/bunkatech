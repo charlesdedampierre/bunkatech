{
 "cells": [
  {
   "cell_type": "code",
   "execution_count": 23,
   "id": "8694bc18-5f18-4646-9ec0-cc9e1dd378a1",
   "metadata": {},
   "outputs": [],
   "source": [
    "from bunkatech.basic_class import BasicSemantics\n",
    "from bunkatech.time.time import SemanticsTrend\n",
    "import bamboolib\n",
    "import pandas as pd\n",
    "import numpy as np\n",
    "\n",
    "'''\n",
    "data = pd.read_csv(\n",
    "    \"/Users/charlesdedampierre/Desktop/ENS Projects/imaginary-world/db_film_iw (2).csv\",\n",
    "    index_col=[0],\n",
    ")\n",
    "\n",
    "data = data.sample(100)\n",
    "'''\n",
    "\n",
    "df_sample = pd.read_csv(\n",
    "        \"/Volumes/OutFriend/timeline_folding/time_sample.csv\", index_col=[0]\n",
    "    )\n",
    "platform = \"facebook\"\n",
    "df_sample= df_sample[df_sample[\"origin\"] == platform]\n",
    "#df_sample['date'] = pd.to_datetime(df_sample['date'])\n",
    "#df_sample = df_sample[df_sample['date'].dt.year >= 2019]\n",
    "df_sample = df_sample.rename(columns = {'text':'fb_text'})"
   ]
  },
  {
   "cell_type": "code",
   "execution_count": null,
   "id": "6da1b85c-8499-4cb0-8395-57f12d678ed3",
   "metadata": {},
   "outputs": [],
   "source": []
  },
  {
   "cell_type": "code",
   "execution_count": 25,
   "id": "84cf2f38-8c23-4352-8fd5-9e11cde0c5e8",
   "metadata": {},
   "outputs": [
    {
     "data": {
      "text/plain": [
       "49        2011-01-20\n",
       "64        2020-01-25\n",
       "75        2020-01-15\n",
       "86        2019-10-10\n",
       "87        2019-02-15\n",
       "             ...    \n",
       "299924    2019-04-08\n",
       "299941    2019-08-17\n",
       "299943    2016-11-30\n",
       "299948    2019-07-25\n",
       "299989    2015-08-14\n",
       "Name: date, Length: 22431, dtype: object"
      ]
     },
     "execution_count": 25,
     "metadata": {},
     "output_type": "execute_result"
    }
   ],
   "source": [
    "df_sample['date']"
   ]
  },
  {
   "cell_type": "code",
   "execution_count": 24,
   "id": "c6d2e98d-8438-4eaf-9cc4-d1e3db18aa0c",
   "metadata": {},
   "outputs": [
    {
     "ename": "ValueError",
     "evalue": "invalid literal for int() with base 10: '2011-01-20'",
     "output_type": "error",
     "traceback": [
      "\u001b[0;31m---------------------------------------------------------------------------\u001b[0m",
      "\u001b[0;31mValueError\u001b[0m                                Traceback (most recent call last)",
      "\u001b[0;32m/var/folders/9g/c1k2z1fx1y19x5dwdxzft52w0000gn/T/ipykernel_36623/935058334.py\u001b[0m in \u001b[0;36m<module>\u001b[0;34m\u001b[0m\n\u001b[0;32m----> 1\u001b[0;31m \u001b[0mdf_sample\u001b[0m\u001b[0;34m[\u001b[0m\u001b[0;34m'date'\u001b[0m\u001b[0;34m]\u001b[0m\u001b[0;34m.\u001b[0m\u001b[0mvalues\u001b[0m\u001b[0;34m.\u001b[0m\u001b[0mastype\u001b[0m\u001b[0;34m(\u001b[0m\u001b[0mnp\u001b[0m\u001b[0;34m.\u001b[0m\u001b[0mint64\u001b[0m\u001b[0;34m)\u001b[0m \u001b[0;34m//\u001b[0m \u001b[0;36m10\u001b[0m\u001b[0;34m**\u001b[0m \u001b[0;36m9\u001b[0m\u001b[0;34m\u001b[0m\u001b[0;34m\u001b[0m\u001b[0m\n\u001b[0m",
      "\u001b[0;31mValueError\u001b[0m: invalid literal for int() with base 10: '2011-01-20'"
     ]
    }
   ],
   "source": [
    "df_sample['date'].values.astype(np.int64) // 10** 9"
   ]
  },
  {
   "cell_type": "code",
   "execution_count": 2,
   "id": "b78c4416-939b-48cb-bb2c-6420645f9b25",
   "metadata": {},
   "outputs": [],
   "source": [
    "trend = SemanticsTrend(data = df_sample, text_var = 'fb_text', index_var = 'id', date_var = 'date')"
   ]
  },
  {
   "cell_type": "code",
   "execution_count": 3,
   "id": "11292f75-de49-4262-9700-188e8a3ec92a",
   "metadata": {},
   "outputs": [
    {
     "name": "stderr",
     "output_type": "stream",
     "text": [
      "Extract Terms: 100%|████████████████████████| 5000/5000 [01:50<00:00, 45.22it/s]\n"
     ]
    }
   ],
   "source": [
    "trend.fit(extract_terms = True,\n",
    "            docs_embedding = False, \n",
    "            terms_embedding = False, \n",
    "            sample_size_terms = 5000, \n",
    "            terms_limit = 5000,\n",
    "            terms_ents = False,\n",
    "            terms_ngrams = (1,2),\n",
    "            terms_ncs = True,\n",
    "            language = 'fr')"
   ]
  },
  {
   "cell_type": "code",
   "execution_count": null,
   "id": "e325efec-2fd2-4af1-a9ae-9c3478368ac9",
   "metadata": {},
   "outputs": [],
   "source": [
    "\"\"\"\n",
    "\n",
    "fig = trend.classic_trend(smoothing_scale=7, # 7 days\n",
    "                    context_scale=30, # 30 days\n",
    "                    height=800,\n",
    "                    width=800,\n",
    "                    stv_scale=1)\n",
    "fig.show()\n",
    "\n",
    "\"\"\""
   ]
  },
  {
   "cell_type": "code",
   "execution_count": null,
   "id": "85948c90-82c9-49d6-802d-d3a39a8b9b05",
   "metadata": {},
   "outputs": [],
   "source": [
    "\"\"\"\n",
    "\n",
    "fig = trend.semantic_candles(short_trend_step=3,  # 3 months \n",
    "                            long_trend_step=6, # 6 months\n",
    "                            height=800,\n",
    "                            width=800)\n",
    "                            \n",
    "\"\"\""
   ]
  },
  {
   "cell_type": "code",
   "execution_count": 6,
   "id": "408f9f5a-914f-4e11-b01b-cefe1c34554a",
   "metadata": {},
   "outputs": [
    {
     "data": {
      "text/plain": [
       "'/Users/charlesdedampierre/Desktop/anses.html'"
      ]
     },
     "execution_count": 6,
     "metadata": {},
     "output_type": "execute_result"
    }
   ],
   "source": [
    "fig = trend.moving_average_comparison(\n",
    "        smoothing_scale=7,\n",
    "        context_scale=14,\n",
    "        height=800,\n",
    "        width=1500,\n",
    "        top_terms_period = 25)\n",
    "\n",
    "import plotly\n",
    "plotly.offline.plot(fig, filename = '/Users/charlesdedampierre/Desktop/anses.html', auto_open=False)"
   ]
  },
  {
   "cell_type": "code",
   "execution_count": null,
   "id": "8c05d5da-feb7-46b5-a279-0e1ef6470d31",
   "metadata": {},
   "outputs": [],
   "source": [
    "fig.show()"
   ]
  },
  {
   "cell_type": "code",
   "execution_count": null,
   "id": "f1f4aa09-412f-47d4-af9e-cac9d813b7e8",
   "metadata": {},
   "outputs": [],
   "source": []
  },
  {
   "cell_type": "code",
   "execution_count": null,
   "id": "e1b8d847-82e4-4877-9db2-6e1ee5f48b06",
   "metadata": {},
   "outputs": [],
   "source": []
  },
  {
   "cell_type": "code",
   "execution_count": null,
   "id": "c3d2ab62-0f4a-4062-bdfb-45ed7cce6eb0",
   "metadata": {},
   "outputs": [],
   "source": []
  },
  {
   "cell_type": "code",
   "execution_count": 25,
   "id": "98516a4d-2c2f-48a3-8162-0a0d24b09180",
   "metadata": {},
   "outputs": [],
   "source": [
    "res = trend.specific_terms_time()"
   ]
  },
  {
   "cell_type": "code",
   "execution_count": null,
   "id": "09ef5b75-71d2-46f2-b8f2-db2ae45b555f",
   "metadata": {},
   "outputs": [],
   "source": []
  },
  {
   "cell_type": "code",
   "execution_count": null,
   "id": "9b5ff9b9-0afa-4f2c-b9e9-41489876a4e1",
   "metadata": {},
   "outputs": [],
   "source": []
  },
  {
   "cell_type": "code",
   "execution_count": null,
   "id": "0f0955fd-f85e-4747-b116-44c996143d90",
   "metadata": {},
   "outputs": [],
   "source": []
  },
  {
   "cell_type": "code",
   "execution_count": null,
   "id": "cc53c0b3-e3e9-4931-822c-be969ee5524d",
   "metadata": {},
   "outputs": [],
   "source": []
  },
  {
   "cell_type": "code",
   "execution_count": 30,
   "id": "0d79a5f6-e622-439e-8b99-1a7611c54f11",
   "metadata": {},
   "outputs": [],
   "source": []
  },
  {
   "cell_type": "code",
   "execution_count": null,
   "id": "e1006464-b981-469d-911a-ad7da5e68589",
   "metadata": {},
   "outputs": [],
   "source": []
  },
  {
   "cell_type": "code",
   "execution_count": null,
   "id": "9473905b-f509-408b-8543-4e8c5aaf481f",
   "metadata": {},
   "outputs": [],
   "source": []
  },
  {
   "cell_type": "code",
   "execution_count": 8,
   "id": "473fc595-efe6-445f-92f9-fb5bbaf5a263",
   "metadata": {},
   "outputs": [],
   "source": []
  },
  {
   "cell_type": "code",
   "execution_count": null,
   "id": "8cc99aca-69ad-4bbc-b14c-4ccda1e282dc",
   "metadata": {},
   "outputs": [],
   "source": []
  }
 ],
 "metadata": {
  "kernelspec": {
   "display_name": "Python 3 (ipykernel)",
   "language": "python",
   "name": "python3"
  },
  "language_info": {
   "codemirror_mode": {
    "name": "ipython",
    "version": 3
   },
   "file_extension": ".py",
   "mimetype": "text/x-python",
   "name": "python",
   "nbconvert_exporter": "python",
   "pygments_lexer": "ipython3",
   "version": "3.8.2"
  }
 },
 "nbformat": 4,
 "nbformat_minor": 5
}
