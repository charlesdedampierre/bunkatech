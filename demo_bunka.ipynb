{
 "cells": [
  {
   "cell_type": "code",
   "execution_count": null,
   "id": "57394d2a-9598-42d6-b81d-9ae923c9e584",
   "metadata": {},
   "outputs": [],
   "source": [
    "#from bunkatech.bunka_class_copy import Bunka\n"
   ]
  },
  {
   "cell_type": "code",
   "execution_count": 1,
   "id": "9a9cb733-924d-40b4-bcbd-c70468abd19b",
   "metadata": {},
   "outputs": [],
   "source": [
    "from bunkatech.basic_class_copy import BasicSemantics\n",
    "import pandas as pd"
   ]
  },
  {
   "cell_type": "code",
   "execution_count": 2,
   "id": "cdf3082c-1ff0-4fe1-8477-278ea3eb3cdc",
   "metadata": {},
   "outputs": [],
   "source": [
    "data = pd.read_csv(\n",
    "    \"/Users/charlesdedampierre/Desktop/ENS Projects/imaginary-world/db_film_iw (2).csv\",\n",
    "    index_col=[0],\n",
    ")\n",
    "\n",
    "data = data.sample(1000, random_state=42)"
   ]
  },
  {
   "cell_type": "code",
   "execution_count": 3,
   "id": "a8eb6459-a616-4f65-9917-a7355e3bf937",
   "metadata": {},
   "outputs": [],
   "source": [
    "basic = BasicSemantics(data = data, text_var = 'description', index_var = 'imdb')"
   ]
  },
  {
   "cell_type": "code",
   "execution_count": 4,
   "id": "e4f304fe-e941-46a3-8b5e-b4bee36aa418",
   "metadata": {},
   "outputs": [
    {
     "name": "stderr",
     "output_type": "stream",
     "text": [
      "Extract Terms: 100%|███████████████████████████████████████████████████| 500/500 [00:05<00:00, 86.11it/s]\n"
     ]
    },
    {
     "data": {
      "application/vnd.jupyter.widget-view+json": {
       "model_id": "70f9ef0efa85425499306e765ab29ccf",
       "version_major": 2,
       "version_minor": 0
      },
      "text/plain": [
       "Batches:   0%|          | 0/16 [00:00<?, ?it/s]"
      ]
     },
     "metadata": {},
     "output_type": "display_data"
    }
   ],
   "source": [
    "basic.fit(extract_terms=True,\n",
    "        terms_embedding=True,\n",
    "        docs_embedding=True,\n",
    "        sample_size_terms=500,\n",
    "        terms_limit=500,\n",
    "        terms_ents=True,\n",
    "        terms_ngrams=(1, 2),\n",
    "        terms_ncs=True,\n",
    "        terms_include_pos=[\"NOUN\", \"PROPN\", \"ADJ\"],\n",
    "        terms_include_types=[\"PERSON\", \"ORG\"],\n",
    "        terms_embedding_model=\"distiluse-base-multilingual-cased-v1\",\n",
    "        docs_embedding_model=\"tfidf\",\n",
    "        language=\"en\")"
   ]
  },
  {
   "cell_type": "code",
   "execution_count": 8,
   "id": "3f25e5c1-3168-498b-b1df-210f0240b9ef",
   "metadata": {},
   "outputs": [],
   "source": [
    "# create a copy for everything and then delete the original"
   ]
  },
  {
   "cell_type": "code",
   "execution_count": null,
   "id": "75cedf51-ce8d-4782-95fe-f45dd04eec7a",
   "metadata": {},
   "outputs": [],
   "source": []
  },
  {
   "cell_type": "code",
   "execution_count": null,
   "id": "b4bb23c2-0856-48b2-b1b1-8f5eb645a5c6",
   "metadata": {},
   "outputs": [],
   "source": []
  },
  {
   "cell_type": "code",
   "execution_count": null,
   "id": "516f8047-6316-4c95-9d71-ba6fd43293b0",
   "metadata": {},
   "outputs": [],
   "source": []
  },
  {
   "cell_type": "code",
   "execution_count": null,
   "id": "1e77ca04-794d-41fd-822c-489b87fbab9c",
   "metadata": {},
   "outputs": [],
   "source": []
  },
  {
   "cell_type": "code",
   "execution_count": null,
   "id": "f8075c7a-300c-4ce6-b61f-a472f7cc939b",
   "metadata": {},
   "outputs": [],
   "source": []
  },
  {
   "cell_type": "code",
   "execution_count": 2,
   "id": "43c90140-877f-460b-be20-14ae2a5723b8",
   "metadata": {},
   "outputs": [],
   "source": []
  },
  {
   "cell_type": "code",
   "execution_count": 3,
   "id": "b9bc68f0-a366-417c-8e23-5c9703a0ceb7",
   "metadata": {},
   "outputs": [],
   "source": [
    "bunka = Bunka(data, text_var = 'description', index_var = 'imdb')"
   ]
  },
  {
   "cell_type": "code",
   "execution_count": 4,
   "id": "31eac8c5-bb6f-4873-a393-18e601c639a4",
   "metadata": {},
   "outputs": [],
   "source": [
    "# they all fit the same way with the same embeddings etc but what is different is some functions"
   ]
  },
  {
   "cell_type": "code",
   "execution_count": 5,
   "id": "1d2cab0b-1c81-458f-9c87-ed421ddff99b",
   "metadata": {},
   "outputs": [
    {
     "name": "stderr",
     "output_type": "stream",
     "text": [
      "Extract Terms: 100%|███████████████████████████████████████████████████| 500/500 [00:05<00:00, 84.49it/s]\n"
     ]
    },
    {
     "data": {
      "application/vnd.jupyter.widget-view+json": {
       "model_id": "ee376a32c5f34550a2fd0c856e529447",
       "version_major": 2,
       "version_minor": 0
      },
      "text/plain": [
       "Batches:   0%|          | 0/16 [00:00<?, ?it/s]"
      ]
     },
     "metadata": {},
     "output_type": "display_data"
    },
    {
     "name": "stdout",
     "output_type": "stream",
     "text": [
      "UMAP(angular_rp_forest=True, metric='cosine', n_components=5, n_neighbors=10, verbose=True)\n",
      "Thu Mar 17 21:03:18 2022 Construct fuzzy simplicial set\n",
      "Thu Mar 17 21:03:23 2022 Finding Nearest Neighbors\n",
      "Thu Mar 17 21:03:26 2022 Finished Nearest Neighbor Search\n",
      "Thu Mar 17 21:03:28 2022 Construct embedding\n"
     ]
    },
    {
     "data": {
      "application/vnd.jupyter.widget-view+json": {
       "model_id": "0a8b9edafc47489189ea1b127fcd80a1",
       "version_major": 2,
       "version_minor": 0
      },
      "text/plain": [
       "Epochs completed:   0%|            0/500 [00:00]"
      ]
     },
     "metadata": {},
     "output_type": "display_data"
    },
    {
     "name": "stdout",
     "output_type": "stream",
     "text": [
      "Thu Mar 17 21:03:30 2022 Finished embedding\n"
     ]
    }
   ],
   "source": [
    "bunka.fit(folding=None,\n",
    "            extract_terms=True,\n",
    "            terms_embedding=True,\n",
    "            sample_size_terms=500,\n",
    "            terms_limit=500,\n",
    "            terms_ents=True,\n",
    "            terms_ngrams=(1, 2),\n",
    "            terms_ncs=True,\n",
    "            terms_include_pos=[\"NOUN\", \"PROPN\", \"ADJ\"],\n",
    "            terms_include_types=[\"PERSON\", \"ORG\"],\n",
    "            terms_embedding_model=\"distiluse-base-multilingual-cased-v1\",\n",
    "            docs_embedding_model=\"tfidf\",\n",
    "            language=\"en\",\n",
    "    )"
   ]
  },
  {
   "cell_type": "code",
   "execution_count": 6,
   "id": "d1e8e32e-cbfd-45a0-a8c2-caa1c3bda779",
   "metadata": {},
   "outputs": [],
   "source": [
    "fig = bunka.nested_maps(\n",
    "        size_rule=\"equal_size\",\n",
    "        map_type=\"treemap\",\n",
    "        width=1000,\n",
    "        height=1000,\n",
    "        query=None)"
   ]
  },
  {
   "cell_type": "code",
   "execution_count": null,
   "id": "26262857-9563-4e04-8567-682ed791b14a",
   "metadata": {},
   "outputs": [],
   "source": [
    "# they all init the same f"
   ]
  },
  {
   "cell_type": "code",
   "execution_count": null,
   "id": "97c78a26-8d38-40c9-ace4-52d428ba53d1",
   "metadata": {},
   "outputs": [],
   "source": []
  },
  {
   "cell_type": "code",
   "execution_count": null,
   "id": "c40df362-3d6d-42ab-b5d6-d913c8cc1339",
   "metadata": {},
   "outputs": [],
   "source": []
  },
  {
   "cell_type": "code",
   "execution_count": null,
   "id": "16c0bd1b-05bc-485f-a537-74043639ce56",
   "metadata": {},
   "outputs": [],
   "source": []
  }
 ],
 "metadata": {
  "kernelspec": {
   "display_name": "Python 3 (ipykernel)",
   "language": "python",
   "name": "python3"
  },
  "language_info": {
   "codemirror_mode": {
    "name": "ipython",
    "version": 3
   },
   "file_extension": ".py",
   "mimetype": "text/x-python",
   "name": "python",
   "nbconvert_exporter": "python",
   "pygments_lexer": "ipython3",
   "version": "3.8.2"
  }
 },
 "nbformat": 4,
 "nbformat_minor": 5
}
