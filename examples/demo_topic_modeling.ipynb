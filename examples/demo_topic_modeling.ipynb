{
 "cells": [
  {
   "cell_type": "code",
   "execution_count": 1,
   "id": "95d9823f-b469-4ef1-b52c-fa6f4846e795",
   "metadata": {},
   "outputs": [],
   "source": [
    "from bunkatech.topic_modeling.topics import TopicModeling\n",
    "import pandas as pd\n",
    "import bamboolib\n",
    "import plotly.express as px\n",
    "import plotly "
   ]
  },
  {
   "cell_type": "code",
   "execution_count": 22,
   "id": "ae0eec91-a936-4a61-a0f1-1cfecbf571a8",
   "metadata": {},
   "outputs": [],
   "source": [
    "data = pd.read_csv(\n",
    "    \"/Users/charlesdedampierre/Desktop/ENS Projects/imaginary-world/db_film_iw (2).csv\",\n",
    "    index_col=[0],\n",
    ")\n",
    "\n",
    "data = data.sample(9000)"
   ]
  },
  {
   "cell_type": "code",
   "execution_count": 3,
   "id": "134b47db-bfc6-4e78-bc3e-fe4a71c07102",
   "metadata": {},
   "outputs": [
    {
     "name": "stderr",
     "output_type": "stream",
     "text": [
      "Extract Terms:   0%|                                    | 0/995 [00:00<?, ?it/s]2022-03-20 07:27:57,949 - INFO : loaded 'en_core_web_sm' spaCy language pipeline\n",
      "Extract Terms: 100%|██████████████████████████| 995/995 [00:10<00:00, 93.58it/s]\n"
     ]
    },
    {
     "name": "stdout",
     "output_type": "stream",
     "text": [
      "UMAP(n_components=5, verbose=True)\n",
      "Sun Mar 20 07:28:08 2022 Construct fuzzy simplicial set\n",
      "Sun Mar 20 07:28:09 2022 Finding Nearest Neighbors\n",
      "Sun Mar 20 07:28:11 2022 Finished Nearest Neighbor Search\n",
      "Sun Mar 20 07:28:15 2022 Construct embedding\n"
     ]
    },
    {
     "data": {
      "application/vnd.jupyter.widget-view+json": {
       "model_id": "2c747ca9df99423fb95d7dd039ce47cb",
       "version_major": 2,
       "version_minor": 0
      },
      "text/plain": [
       "Epochs completed:   0%|            0/500 [00:00]"
      ]
     },
     "metadata": {},
     "output_type": "display_data"
    },
    {
     "name": "stdout",
     "output_type": "stream",
     "text": [
      "Sun Mar 20 07:28:19 2022 Finished embedding\n"
     ]
    }
   ],
   "source": [
    "# All the basic components to compute before more specialized computation\n",
    "topics = TopicModeling(data = data,\n",
    "                        text_var = 'description',\n",
    "                        index_var = 'imdb',\n",
    "                        extract_terms=True,\n",
    "                        terms_embedding=False,\n",
    "                        docs_embedding=True,\n",
    "                        sample_size_terms=1000,\n",
    "                        terms_limit=3000,\n",
    "                        terms_ents=False,\n",
    "                        terms_ngrams=(2, 2),\n",
    "                        terms_ncs=False,\n",
    "                        terms_include_pos=[\"NOUN\", \"PROPN\", \"ADJ\"],\n",
    "                        terms_include_types=[\"PERSON\", \"ORG\"],\n",
    "                        terms_embedding_model=\"distiluse-base-multilingual-cased-v1\",\n",
    "                        docs_embedding_model=\"tfidf\",\n",
    "                        language=\"en\",\n",
    "                        terms_path=None,\n",
    "                        terms_embeddings_path=None,\n",
    "                        docs_embeddings_path=None,\n",
    "                        docs_dimension_reduction = 5)"
   ]
  },
  {
   "cell_type": "code",
   "execution_count": 7,
   "id": "045e6cd7-b344-4435-8c49-4c9878f69929",
   "metadata": {},
   "outputs": [],
   "source": [
    "res = topics.get_clusters(topic_number=15, top_terms = 3)"
   ]
  },
  {
   "cell_type": "code",
   "execution_count": 14,
   "id": "0463974d-394f-4775-8178-d8e57d396b91",
   "metadata": {},
   "outputs": [
    {
     "name": "stdout",
     "output_type": "stream",
     "text": [
      "UMAP(n_components=3, verbose=True)\n",
      "Sun Mar 20 07:47:25 2022 Construct fuzzy simplicial set\n",
      "Sun Mar 20 07:47:25 2022 Finding Nearest Neighbors\n",
      "Sun Mar 20 07:47:25 2022 Finished Nearest Neighbor Search\n",
      "Sun Mar 20 07:47:25 2022 Construct embedding\n"
     ]
    },
    {
     "data": {
      "application/vnd.jupyter.widget-view+json": {
       "model_id": "6ad1bebdd21f4869bcfaa92693831352",
       "version_major": 2,
       "version_minor": 0
      },
      "text/plain": [
       "Epochs completed:   0%|            0/500 [00:00]"
      ]
     },
     "metadata": {},
     "output_type": "display_data"
    },
    {
     "name": "stdout",
     "output_type": "stream",
     "text": [
      "Sun Mar 20 07:47:27 2022 Finished embedding\n"
     ]
    }
   ],
   "source": [
    "fig_3d = topics.visualize_topics_embeddings_3d(width= 1000, height = 1000)"
   ]
  },
  {
   "cell_type": "code",
   "execution_count": 16,
   "id": "66839f66-e399-4c4d-b156-a533b79cdd44",
   "metadata": {},
   "outputs": [],
   "source": []
  },
  {
   "cell_type": "code",
   "execution_count": 18,
   "id": "5a815d47-ded9-4fa3-a3ea-284f428be80d",
   "metadata": {},
   "outputs": [],
   "source": [
    "fig = topics.temporal_topics(date_var = 'year', \n",
    "                             width=1000,\n",
    "                            height=500,\n",
    "                            normalize_y=False,\n",
    "                            min_range=2000,\n",
    "                            max_range=2020)"
   ]
  },
  {
   "cell_type": "code",
   "execution_count": 19,
   "id": "011221d3-919d-46e0-9059-dcb1ef0da98b",
   "metadata": {},
   "outputs": [
    {
     "data": {
      "application/vnd.plotly.v1+json": {
       "config": {
        "plotlyServerURL": "https://plot.ly"
       },
       "data": [
        {
         "alignmentgroup": "True",
         "hovertemplate": "cluster_name_number=2 - football team | plane crash | near future<br>year=%{x}<br>count_docs=%{y}<extra></extra>",
         "legendgroup": "2 - football team | plane crash | near future",
         "marker": {
          "color": "#636efa",
          "pattern": {
           "shape": ""
          }
         },
         "name": "2 - football team | plane crash | near future",
         "offsetgroup": "2 - football team | plane crash | near future",
         "orientation": "v",
         "showlegend": true,
         "textposition": "auto",
         "type": "bar",
         "visible": true,
         "x": [
          1924,
          1951,
          1953,
          1957,
          1963,
          1965,
          1972,
          1973,
          1975,
          1980,
          1984,
          1985,
          1986,
          1987,
          1988,
          1990,
          1991,
          1992,
          1993,
          1994,
          1995,
          1996,
          1997,
          1998,
          1999,
          2000,
          2001,
          2002,
          2003,
          2004,
          2005,
          2006,
          2007,
          2008,
          2009,
          2010,
          2011,
          2012,
          2013,
          2014,
          2015,
          2017
         ],
         "xaxis": "x",
         "y": [
          1,
          1,
          1,
          1,
          1,
          1,
          1,
          1,
          1,
          3,
          1,
          1,
          1,
          1,
          2,
          1,
          1,
          1,
          2,
          1,
          4,
          1,
          1,
          1,
          2,
          1,
          1,
          1,
          1,
          3,
          4,
          3,
          2,
          5,
          1,
          3,
          2,
          3,
          3,
          1,
          2,
          3
         ],
         "yaxis": "y"
        },
        {
         "alignmentgroup": "True",
         "hovertemplate": "cluster_name_number=3 - martial arts | true story | las vegas<br>year=%{x}<br>count_docs=%{y}<extra></extra>",
         "legendgroup": "3 - martial arts | true story | las vegas",
         "marker": {
          "color": "#EF553B",
          "pattern": {
           "shape": ""
          }
         },
         "name": "3 - martial arts | true story | las vegas",
         "offsetgroup": "3 - martial arts | true story | las vegas",
         "orientation": "v",
         "showlegend": true,
         "textposition": "auto",
         "type": "bar",
         "visible": true,
         "x": [
          1925,
          1941,
          1949,
          1951,
          1955,
          1956,
          1966,
          1969,
          1972,
          1978,
          1979,
          1981,
          1983,
          1987,
          1990,
          1991,
          1992,
          1995,
          1996,
          1997,
          1999,
          2000,
          2001,
          2003,
          2004,
          2005,
          2006,
          2007,
          2008,
          2009,
          2010,
          2011,
          2012,
          2013,
          2015,
          2016,
          2017,
          2018
         ],
         "xaxis": "x",
         "y": [
          1,
          1,
          1,
          1,
          1,
          1,
          1,
          1,
          1,
          2,
          1,
          1,
          1,
          1,
          1,
          3,
          1,
          1,
          1,
          1,
          2,
          1,
          1,
          2,
          3,
          4,
          4,
          4,
          3,
          3,
          1,
          2,
          4,
          4,
          3,
          3,
          3,
          3
         ],
         "yaxis": "y"
        },
        {
         "alignmentgroup": "True",
         "hovertemplate": "cluster_name_number=7 - young girl | head injury | young doctor<br>year=%{x}<br>count_docs=%{y}<extra></extra>",
         "legendgroup": "7 - young girl | head injury | young doctor",
         "marker": {
          "color": "#00cc96",
          "pattern": {
           "shape": ""
          }
         },
         "name": "7 - young girl | head injury | young doctor",
         "offsetgroup": "7 - young girl | head injury | young doctor",
         "orientation": "v",
         "showlegend": true,
         "textposition": "auto",
         "type": "bar",
         "visible": true,
         "x": [
          1927,
          1931,
          1932,
          1940,
          1945,
          1948,
          1970,
          1976,
          1981,
          1984,
          1985,
          1986,
          1987,
          1989,
          1991,
          1992,
          1993,
          1994,
          1995,
          1996,
          1997,
          1998,
          2000,
          2001,
          2002,
          2003,
          2004,
          2005,
          2006,
          2007,
          2008,
          2009,
          2010,
          2011,
          2012,
          2013,
          2014,
          2015,
          2016,
          2017,
          2018,
          2019
         ],
         "xaxis": "x",
         "y": [
          1,
          1,
          1,
          1,
          1,
          1,
          1,
          1,
          1,
          1,
          2,
          1,
          1,
          1,
          1,
          2,
          2,
          1,
          3,
          3,
          2,
          1,
          3,
          3,
          3,
          1,
          3,
          4,
          3,
          1,
          5,
          3,
          1,
          3,
          6,
          2,
          4,
          5,
          11,
          4,
          2,
          1
         ],
         "yaxis": "y"
        },
        {
         "alignmentgroup": "True",
         "hovertemplate": "cluster_name_number=12 - serial killer | los angeles | assassination attempt<br>year=%{x}<br>count_docs=%{y}<extra></extra>",
         "legendgroup": "12 - serial killer | los angeles | assassination attempt",
         "marker": {
          "color": "#ab63fa",
          "pattern": {
           "shape": ""
          }
         },
         "name": "12 - serial killer | los angeles | assassination attempt",
         "offsetgroup": "12 - serial killer | los angeles | assassination attempt",
         "orientation": "v",
         "showlegend": true,
         "textposition": "auto",
         "type": "bar",
         "visible": true,
         "x": [
          1934,
          1949,
          1974,
          1975,
          1978,
          1980,
          1982,
          1983,
          1986,
          1987,
          1988,
          1989,
          1991,
          1993,
          1994,
          1995,
          1996,
          1997,
          1998,
          1999,
          2002,
          2003,
          2004,
          2005,
          2006,
          2007,
          2008,
          2010,
          2012,
          2013,
          2014,
          2015,
          2016,
          2018
         ],
         "xaxis": "x",
         "y": [
          1,
          1,
          1,
          2,
          1,
          1,
          1,
          2,
          2,
          1,
          2,
          2,
          1,
          1,
          4,
          2,
          2,
          5,
          1,
          1,
          3,
          2,
          3,
          4,
          4,
          2,
          1,
          2,
          1,
          2,
          2,
          2,
          5,
          5
         ],
         "yaxis": "y"
        },
        {
         "alignmentgroup": "True",
         "hovertemplate": "cluster_name_number=5 - world war | war ii | german u<br>year=%{x}<br>count_docs=%{y}<extra></extra>",
         "legendgroup": "5 - world war | war ii | german u",
         "marker": {
          "color": "#FFA15A",
          "pattern": {
           "shape": ""
          }
         },
         "name": "5 - world war | war ii | german u",
         "offsetgroup": "5 - world war | war ii | german u",
         "orientation": "v",
         "showlegend": true,
         "textposition": "auto",
         "type": "bar",
         "visible": true,
         "x": [
          1934,
          1936,
          1943,
          1944,
          1952,
          1957,
          1960,
          1966,
          1971,
          1974,
          1981,
          1985,
          1987,
          1989,
          1993,
          1995,
          1996,
          1997,
          1999,
          2000,
          2001,
          2002,
          2003,
          2004,
          2005,
          2006,
          2007,
          2008,
          2009,
          2010,
          2011,
          2012,
          2013,
          2014,
          2015,
          2017
         ],
         "xaxis": "x",
         "y": [
          1,
          1,
          1,
          1,
          1,
          2,
          1,
          1,
          1,
          1,
          1,
          3,
          2,
          1,
          1,
          1,
          1,
          2,
          3,
          3,
          1,
          1,
          3,
          1,
          2,
          2,
          1,
          3,
          1,
          2,
          3,
          1,
          2,
          1,
          5,
          1
         ],
         "yaxis": "y"
        },
        {
         "alignmentgroup": "True",
         "hovertemplate": "cluster_name_number=0 - human race | science fiction | nuclear war<br>year=%{x}<br>count_docs=%{y}<extra></extra>",
         "legendgroup": "0 - human race | science fiction | nuclear war",
         "marker": {
          "color": "#19d3f3",
          "pattern": {
           "shape": ""
          }
         },
         "name": "0 - human race | science fiction | nuclear war",
         "offsetgroup": "0 - human race | science fiction | nuclear war",
         "orientation": "v",
         "showlegend": true,
         "textposition": "auto",
         "type": "bar",
         "visible": true,
         "x": [
          1935,
          1953,
          1959,
          1968,
          1973,
          1976,
          1981,
          1984,
          1989,
          1991,
          1992,
          1995,
          1997,
          1998,
          1999,
          2000,
          2002,
          2003,
          2005,
          2006,
          2007,
          2008,
          2009,
          2011,
          2012,
          2013,
          2014,
          2015,
          2016,
          2017,
          2018
         ],
         "xaxis": "x",
         "y": [
          1,
          1,
          1,
          1,
          1,
          2,
          1,
          1,
          2,
          1,
          3,
          1,
          2,
          1,
          1,
          1,
          1,
          1,
          1,
          1,
          3,
          1,
          3,
          3,
          1,
          5,
          2,
          4,
          1,
          3,
          2
         ],
         "yaxis": "y"
        },
        {
         "alignmentgroup": "True",
         "hovertemplate": "cluster_name_number=14 - road trip | married couple | jason voorhees<br>year=%{x}<br>count_docs=%{y}<extra></extra>",
         "legendgroup": "14 - road trip | married couple | jason voorhees",
         "marker": {
          "color": "#FF6692",
          "pattern": {
           "shape": ""
          }
         },
         "name": "14 - road trip | married couple | jason voorhees",
         "offsetgroup": "14 - road trip | married couple | jason voorhees",
         "orientation": "v",
         "showlegend": true,
         "textposition": "auto",
         "type": "bar",
         "visible": true,
         "x": [
          1939,
          1945,
          1965,
          1972,
          1974,
          1977,
          1979,
          1983,
          1988,
          1989,
          1990,
          1994,
          1995,
          1999,
          2000,
          2001,
          2002,
          2003,
          2004,
          2005,
          2006,
          2007,
          2008,
          2009,
          2010,
          2011,
          2012,
          2013,
          2014,
          2015,
          2016,
          2017,
          2018
         ],
         "xaxis": "x",
         "y": [
          1,
          1,
          1,
          1,
          1,
          1,
          1,
          1,
          3,
          1,
          1,
          4,
          1,
          1,
          2,
          2,
          1,
          2,
          6,
          4,
          3,
          3,
          1,
          3,
          1,
          2,
          4,
          6,
          6,
          3,
          3,
          4,
          2
         ],
         "yaxis": "y"
        },
        {
         "alignmentgroup": "True",
         "hovertemplate": "cluster_name_number=4 - security guard | police officer | class man<br>year=%{x}<br>count_docs=%{y}<extra></extra>",
         "legendgroup": "4 - security guard | police officer | class man",
         "marker": {
          "color": "#B6E880",
          "pattern": {
           "shape": ""
          }
         },
         "name": "4 - security guard | police officer | class man",
         "offsetgroup": "4 - security guard | police officer | class man",
         "orientation": "v",
         "showlegend": true,
         "textposition": "auto",
         "type": "bar",
         "visible": true,
         "x": [
          1941,
          1948,
          1957,
          1958,
          1970,
          1973,
          1974,
          1975,
          1979,
          1982,
          1983,
          1986,
          1990,
          1994,
          1996,
          1997,
          1998,
          1999,
          2000,
          2001,
          2002,
          2003,
          2004,
          2005,
          2006,
          2008,
          2009,
          2010,
          2011,
          2012,
          2013,
          2014,
          2015,
          2016,
          2017
         ],
         "xaxis": "x",
         "y": [
          1,
          1,
          1,
          1,
          1,
          1,
          1,
          1,
          3,
          1,
          2,
          1,
          1,
          2,
          2,
          4,
          3,
          2,
          2,
          1,
          1,
          2,
          2,
          3,
          3,
          4,
          2,
          1,
          1,
          3,
          2,
          5,
          4,
          2,
          3
         ],
         "yaxis": "y"
        },
        {
         "alignmentgroup": "True",
         "hovertemplate": "cluster_name_number=13 - san francisco | private detective | satanic cult<br>year=%{x}<br>count_docs=%{y}<extra></extra>",
         "legendgroup": "13 - san francisco | private detective | satanic cult",
         "marker": {
          "color": "#FF97FF",
          "pattern": {
           "shape": ""
          }
         },
         "name": "13 - san francisco | private detective | satanic cult",
         "offsetgroup": "13 - san francisco | private detective | satanic cult",
         "orientation": "v",
         "showlegend": true,
         "textposition": "auto",
         "type": "bar",
         "visible": true,
         "x": [
          1946,
          1948,
          1953,
          1957,
          1958,
          1962,
          1963,
          1964,
          1966,
          1969,
          1975,
          1978,
          1979,
          1981,
          1983,
          1984,
          1985,
          1986,
          1988,
          1989,
          1991,
          1994,
          1998,
          2001,
          2003,
          2004,
          2005,
          2006,
          2007,
          2008,
          2010,
          2011,
          2012,
          2013,
          2014,
          2015,
          2016,
          2017,
          2018
         ],
         "xaxis": "x",
         "y": [
          1,
          1,
          1,
          1,
          1,
          1,
          1,
          1,
          1,
          2,
          1,
          1,
          1,
          1,
          1,
          3,
          1,
          2,
          2,
          1,
          1,
          1,
          1,
          3,
          1,
          2,
          3,
          1,
          4,
          2,
          1,
          2,
          2,
          4,
          3,
          1,
          2,
          2,
          3
         ],
         "yaxis": "y"
        },
        {
         "alignmentgroup": "True",
         "hovertemplate": "cluster_name_number=11 - perilous journey | american civil | civil war<br>year=%{x}<br>count_docs=%{y}<extra></extra>",
         "legendgroup": "11 - perilous journey | american civil | civil war",
         "marker": {
          "color": "#FECB52",
          "pattern": {
           "shape": ""
          }
         },
         "name": "11 - perilous journey | american civil | civil war",
         "offsetgroup": "11 - perilous journey | american civil | civil war",
         "orientation": "v",
         "showlegend": true,
         "textposition": "auto",
         "type": "bar",
         "visible": true,
         "x": [
          1947,
          1966,
          1972,
          1975,
          1979,
          1980,
          1981,
          1983,
          1987,
          1989,
          1990,
          1992,
          1993,
          1994,
          1995,
          1996,
          1998,
          1999,
          2000,
          2001,
          2002,
          2003,
          2004,
          2006,
          2007,
          2008,
          2009,
          2010,
          2011,
          2012,
          2014,
          2016,
          2017,
          2018
         ],
         "xaxis": "x",
         "y": [
          1,
          1,
          1,
          1,
          1,
          1,
          1,
          1,
          2,
          1,
          1,
          2,
          1,
          2,
          1,
          1,
          2,
          1,
          2,
          2,
          2,
          4,
          1,
          5,
          3,
          4,
          2,
          1,
          2,
          5,
          4,
          1,
          1,
          1
         ],
         "yaxis": "y"
        },
        {
         "alignmentgroup": "True",
         "hovertemplate": "cluster_name_number=9 - young boy | taxi driver | remote village<br>year=%{x}<br>count_docs=%{y}<extra></extra>",
         "legendgroup": "9 - young boy | taxi driver | remote village",
         "marker": {
          "color": "#636efa",
          "pattern": {
           "shape": ""
          }
         },
         "name": "9 - young boy | taxi driver | remote village",
         "offsetgroup": "9 - young boy | taxi driver | remote village",
         "orientation": "v",
         "showlegend": true,
         "textposition": "auto",
         "type": "bar",
         "visible": true,
         "x": [
          1947,
          1953,
          1957,
          1959,
          1971,
          1974,
          1980,
          1983,
          1984,
          1986,
          1988,
          1989,
          1990,
          1992,
          1995,
          1997,
          1998,
          1999,
          2000,
          2001,
          2002,
          2003,
          2004,
          2005,
          2006,
          2008,
          2009,
          2010,
          2011,
          2012,
          2014,
          2016,
          2017,
          2018
         ],
         "xaxis": "x",
         "y": [
          1,
          1,
          1,
          1,
          2,
          1,
          2,
          1,
          1,
          1,
          1,
          1,
          2,
          2,
          1,
          3,
          1,
          1,
          1,
          2,
          2,
          3,
          1,
          2,
          2,
          3,
          1,
          2,
          2,
          4,
          4,
          1,
          2,
          3
         ],
         "yaxis": "y"
        },
        {
         "alignmentgroup": "True",
         "hovertemplate": "cluster_name_number=1 - wall street | santa claus | lawyer friend<br>year=%{x}<br>count_docs=%{y}<extra></extra>",
         "legendgroup": "1 - wall street | santa claus | lawyer friend",
         "marker": {
          "color": "#EF553B",
          "pattern": {
           "shape": ""
          }
         },
         "name": "1 - wall street | santa claus | lawyer friend",
         "offsetgroup": "1 - wall street | santa claus | lawyer friend",
         "orientation": "v",
         "showlegend": true,
         "textposition": "auto",
         "type": "bar",
         "visible": true,
         "x": [
          1950,
          1951,
          1956,
          1958,
          1966,
          1968,
          1969,
          1975,
          1977,
          1978,
          1981,
          1984,
          1986,
          1990,
          1991,
          1992,
          1993,
          1994,
          1995,
          1996,
          1997,
          1998,
          1999,
          2001,
          2002,
          2004,
          2005,
          2006,
          2007,
          2008,
          2009,
          2010,
          2011,
          2013,
          2014,
          2015,
          2016,
          2017,
          2018
         ],
         "xaxis": "x",
         "y": [
          1,
          1,
          1,
          2,
          1,
          1,
          1,
          1,
          1,
          1,
          1,
          1,
          1,
          1,
          1,
          1,
          2,
          2,
          1,
          3,
          1,
          4,
          3,
          2,
          1,
          3,
          2,
          2,
          3,
          4,
          7,
          3,
          2,
          2,
          5,
          4,
          2,
          1,
          2
         ],
         "yaxis": "y"
        },
        {
         "alignmentgroup": "True",
         "hovertemplate": "cluster_name_number=10 - new york | suburban family | york cop<br>year=%{x}<br>count_docs=%{y}<extra></extra>",
         "legendgroup": "10 - new york | suburban family | york cop",
         "marker": {
          "color": "#00cc96",
          "pattern": {
           "shape": ""
          }
         },
         "name": "10 - new york | suburban family | york cop",
         "offsetgroup": "10 - new york | suburban family | york cop",
         "orientation": "v",
         "showlegend": true,
         "textposition": "auto",
         "type": "bar",
         "visible": true,
         "x": [
          1952,
          1955,
          1966,
          1967,
          1968,
          1970,
          1978,
          1979,
          1981,
          1982,
          1984,
          1985,
          1986,
          1987,
          1988,
          1991,
          1992,
          1993,
          1996,
          1997,
          1998,
          1999,
          2003,
          2004,
          2005,
          2006,
          2007,
          2008,
          2009,
          2010,
          2011,
          2012,
          2013,
          2014,
          2015,
          2017,
          2018,
          2019
         ],
         "xaxis": "x",
         "y": [
          1,
          1,
          1,
          1,
          1,
          1,
          1,
          1,
          1,
          1,
          1,
          1,
          1,
          1,
          2,
          2,
          1,
          1,
          2,
          1,
          3,
          2,
          2,
          2,
          3,
          1,
          4,
          1,
          2,
          3,
          2,
          3,
          4,
          1,
          2,
          3,
          2,
          1
         ],
         "yaxis": "y"
        },
        {
         "alignmentgroup": "True",
         "hovertemplate": "cluster_name_number=6 - high school | school student | school teacher<br>year=%{x}<br>count_docs=%{y}<extra></extra>",
         "legendgroup": "6 - high school | school student | school teacher",
         "marker": {
          "color": "#ab63fa",
          "pattern": {
           "shape": ""
          }
         },
         "name": "6 - high school | school student | school teacher",
         "offsetgroup": "6 - high school | school student | school teacher",
         "orientation": "v",
         "showlegend": true,
         "textposition": "auto",
         "type": "bar",
         "visible": true,
         "x": [
          1961,
          1972,
          1973,
          1980,
          1982,
          1985,
          1987,
          1988,
          1989,
          1992,
          1993,
          1999,
          2001,
          2002,
          2003,
          2004,
          2005,
          2006,
          2008,
          2010,
          2011,
          2012,
          2014,
          2015,
          2016,
          2017,
          2018
         ],
         "xaxis": "x",
         "y": [
          1,
          1,
          1,
          2,
          1,
          2,
          1,
          1,
          1,
          2,
          1,
          1,
          1,
          1,
          2,
          1,
          2,
          1,
          2,
          1,
          2,
          2,
          1,
          3,
          1,
          1,
          3
         ],
         "yaxis": "y"
        },
        {
         "alignmentgroup": "True",
         "hovertemplate": "cluster_name_number=8 - u.s. military | supernatural forces | old boy<br>year=%{x}<br>count_docs=%{y}<extra></extra>",
         "legendgroup": "8 - u.s. military | supernatural forces | old boy",
         "marker": {
          "color": "#FFA15A",
          "pattern": {
           "shape": ""
          }
         },
         "name": "8 - u.s. military | supernatural forces | old boy",
         "offsetgroup": "8 - u.s. military | supernatural forces | old boy",
         "orientation": "v",
         "showlegend": true,
         "textposition": "auto",
         "type": "bar",
         "visible": true,
         "x": [
          1965,
          1969,
          1972,
          1974,
          1976,
          1977,
          1986,
          1987,
          1988,
          1991,
          1992,
          1993,
          1994,
          1995,
          1996,
          1998,
          2001,
          2002,
          2004,
          2005,
          2006,
          2008,
          2009,
          2010,
          2011,
          2012,
          2013,
          2014,
          2015,
          2016,
          2018
         ],
         "xaxis": "x",
         "y": [
          1,
          1,
          1,
          1,
          1,
          2,
          2,
          1,
          1,
          1,
          1,
          1,
          2,
          2,
          1,
          1,
          1,
          1,
          2,
          1,
          4,
          2,
          3,
          5,
          2,
          1,
          2,
          3,
          1,
          4,
          3
         ],
         "yaxis": "y"
        }
       ],
       "layout": {
        "barmode": "relative",
        "height": 500,
        "legend": {
         "title": {
          "text": "cluster_name_number"
         },
         "tracegroupgap": 0
        },
        "margin": {
         "t": 60
        },
        "template": {
         "data": {
          "bar": [
           {
            "error_x": {
             "color": "#2a3f5f"
            },
            "error_y": {
             "color": "#2a3f5f"
            },
            "marker": {
             "line": {
              "color": "#E5ECF6",
              "width": 0.5
             },
             "pattern": {
              "fillmode": "overlay",
              "size": 10,
              "solidity": 0.2
             }
            },
            "type": "bar"
           }
          ],
          "barpolar": [
           {
            "marker": {
             "line": {
              "color": "#E5ECF6",
              "width": 0.5
             },
             "pattern": {
              "fillmode": "overlay",
              "size": 10,
              "solidity": 0.2
             }
            },
            "type": "barpolar"
           }
          ],
          "carpet": [
           {
            "aaxis": {
             "endlinecolor": "#2a3f5f",
             "gridcolor": "white",
             "linecolor": "white",
             "minorgridcolor": "white",
             "startlinecolor": "#2a3f5f"
            },
            "baxis": {
             "endlinecolor": "#2a3f5f",
             "gridcolor": "white",
             "linecolor": "white",
             "minorgridcolor": "white",
             "startlinecolor": "#2a3f5f"
            },
            "type": "carpet"
           }
          ],
          "choropleth": [
           {
            "colorbar": {
             "outlinewidth": 0,
             "ticks": ""
            },
            "type": "choropleth"
           }
          ],
          "contour": [
           {
            "colorbar": {
             "outlinewidth": 0,
             "ticks": ""
            },
            "colorscale": [
             [
              0,
              "#0d0887"
             ],
             [
              0.1111111111111111,
              "#46039f"
             ],
             [
              0.2222222222222222,
              "#7201a8"
             ],
             [
              0.3333333333333333,
              "#9c179e"
             ],
             [
              0.4444444444444444,
              "#bd3786"
             ],
             [
              0.5555555555555556,
              "#d8576b"
             ],
             [
              0.6666666666666666,
              "#ed7953"
             ],
             [
              0.7777777777777778,
              "#fb9f3a"
             ],
             [
              0.8888888888888888,
              "#fdca26"
             ],
             [
              1,
              "#f0f921"
             ]
            ],
            "type": "contour"
           }
          ],
          "contourcarpet": [
           {
            "colorbar": {
             "outlinewidth": 0,
             "ticks": ""
            },
            "type": "contourcarpet"
           }
          ],
          "heatmap": [
           {
            "colorbar": {
             "outlinewidth": 0,
             "ticks": ""
            },
            "colorscale": [
             [
              0,
              "#0d0887"
             ],
             [
              0.1111111111111111,
              "#46039f"
             ],
             [
              0.2222222222222222,
              "#7201a8"
             ],
             [
              0.3333333333333333,
              "#9c179e"
             ],
             [
              0.4444444444444444,
              "#bd3786"
             ],
             [
              0.5555555555555556,
              "#d8576b"
             ],
             [
              0.6666666666666666,
              "#ed7953"
             ],
             [
              0.7777777777777778,
              "#fb9f3a"
             ],
             [
              0.8888888888888888,
              "#fdca26"
             ],
             [
              1,
              "#f0f921"
             ]
            ],
            "type": "heatmap"
           }
          ],
          "heatmapgl": [
           {
            "colorbar": {
             "outlinewidth": 0,
             "ticks": ""
            },
            "colorscale": [
             [
              0,
              "#0d0887"
             ],
             [
              0.1111111111111111,
              "#46039f"
             ],
             [
              0.2222222222222222,
              "#7201a8"
             ],
             [
              0.3333333333333333,
              "#9c179e"
             ],
             [
              0.4444444444444444,
              "#bd3786"
             ],
             [
              0.5555555555555556,
              "#d8576b"
             ],
             [
              0.6666666666666666,
              "#ed7953"
             ],
             [
              0.7777777777777778,
              "#fb9f3a"
             ],
             [
              0.8888888888888888,
              "#fdca26"
             ],
             [
              1,
              "#f0f921"
             ]
            ],
            "type": "heatmapgl"
           }
          ],
          "histogram": [
           {
            "marker": {
             "pattern": {
              "fillmode": "overlay",
              "size": 10,
              "solidity": 0.2
             }
            },
            "type": "histogram"
           }
          ],
          "histogram2d": [
           {
            "colorbar": {
             "outlinewidth": 0,
             "ticks": ""
            },
            "colorscale": [
             [
              0,
              "#0d0887"
             ],
             [
              0.1111111111111111,
              "#46039f"
             ],
             [
              0.2222222222222222,
              "#7201a8"
             ],
             [
              0.3333333333333333,
              "#9c179e"
             ],
             [
              0.4444444444444444,
              "#bd3786"
             ],
             [
              0.5555555555555556,
              "#d8576b"
             ],
             [
              0.6666666666666666,
              "#ed7953"
             ],
             [
              0.7777777777777778,
              "#fb9f3a"
             ],
             [
              0.8888888888888888,
              "#fdca26"
             ],
             [
              1,
              "#f0f921"
             ]
            ],
            "type": "histogram2d"
           }
          ],
          "histogram2dcontour": [
           {
            "colorbar": {
             "outlinewidth": 0,
             "ticks": ""
            },
            "colorscale": [
             [
              0,
              "#0d0887"
             ],
             [
              0.1111111111111111,
              "#46039f"
             ],
             [
              0.2222222222222222,
              "#7201a8"
             ],
             [
              0.3333333333333333,
              "#9c179e"
             ],
             [
              0.4444444444444444,
              "#bd3786"
             ],
             [
              0.5555555555555556,
              "#d8576b"
             ],
             [
              0.6666666666666666,
              "#ed7953"
             ],
             [
              0.7777777777777778,
              "#fb9f3a"
             ],
             [
              0.8888888888888888,
              "#fdca26"
             ],
             [
              1,
              "#f0f921"
             ]
            ],
            "type": "histogram2dcontour"
           }
          ],
          "mesh3d": [
           {
            "colorbar": {
             "outlinewidth": 0,
             "ticks": ""
            },
            "type": "mesh3d"
           }
          ],
          "parcoords": [
           {
            "line": {
             "colorbar": {
              "outlinewidth": 0,
              "ticks": ""
             }
            },
            "type": "parcoords"
           }
          ],
          "pie": [
           {
            "automargin": true,
            "type": "pie"
           }
          ],
          "scatter": [
           {
            "marker": {
             "colorbar": {
              "outlinewidth": 0,
              "ticks": ""
             }
            },
            "type": "scatter"
           }
          ],
          "scatter3d": [
           {
            "line": {
             "colorbar": {
              "outlinewidth": 0,
              "ticks": ""
             }
            },
            "marker": {
             "colorbar": {
              "outlinewidth": 0,
              "ticks": ""
             }
            },
            "type": "scatter3d"
           }
          ],
          "scattercarpet": [
           {
            "marker": {
             "colorbar": {
              "outlinewidth": 0,
              "ticks": ""
             }
            },
            "type": "scattercarpet"
           }
          ],
          "scattergeo": [
           {
            "marker": {
             "colorbar": {
              "outlinewidth": 0,
              "ticks": ""
             }
            },
            "type": "scattergeo"
           }
          ],
          "scattergl": [
           {
            "marker": {
             "colorbar": {
              "outlinewidth": 0,
              "ticks": ""
             }
            },
            "type": "scattergl"
           }
          ],
          "scattermapbox": [
           {
            "marker": {
             "colorbar": {
              "outlinewidth": 0,
              "ticks": ""
             }
            },
            "type": "scattermapbox"
           }
          ],
          "scatterpolar": [
           {
            "marker": {
             "colorbar": {
              "outlinewidth": 0,
              "ticks": ""
             }
            },
            "type": "scatterpolar"
           }
          ],
          "scatterpolargl": [
           {
            "marker": {
             "colorbar": {
              "outlinewidth": 0,
              "ticks": ""
             }
            },
            "type": "scatterpolargl"
           }
          ],
          "scatterternary": [
           {
            "marker": {
             "colorbar": {
              "outlinewidth": 0,
              "ticks": ""
             }
            },
            "type": "scatterternary"
           }
          ],
          "surface": [
           {
            "colorbar": {
             "outlinewidth": 0,
             "ticks": ""
            },
            "colorscale": [
             [
              0,
              "#0d0887"
             ],
             [
              0.1111111111111111,
              "#46039f"
             ],
             [
              0.2222222222222222,
              "#7201a8"
             ],
             [
              0.3333333333333333,
              "#9c179e"
             ],
             [
              0.4444444444444444,
              "#bd3786"
             ],
             [
              0.5555555555555556,
              "#d8576b"
             ],
             [
              0.6666666666666666,
              "#ed7953"
             ],
             [
              0.7777777777777778,
              "#fb9f3a"
             ],
             [
              0.8888888888888888,
              "#fdca26"
             ],
             [
              1,
              "#f0f921"
             ]
            ],
            "type": "surface"
           }
          ],
          "table": [
           {
            "cells": {
             "fill": {
              "color": "#EBF0F8"
             },
             "line": {
              "color": "white"
             }
            },
            "header": {
             "fill": {
              "color": "#C8D4E3"
             },
             "line": {
              "color": "white"
             }
            },
            "type": "table"
           }
          ]
         },
         "layout": {
          "annotationdefaults": {
           "arrowcolor": "#2a3f5f",
           "arrowhead": 0,
           "arrowwidth": 1
          },
          "autotypenumbers": "strict",
          "coloraxis": {
           "colorbar": {
            "outlinewidth": 0,
            "ticks": ""
           }
          },
          "colorscale": {
           "diverging": [
            [
             0,
             "#8e0152"
            ],
            [
             0.1,
             "#c51b7d"
            ],
            [
             0.2,
             "#de77ae"
            ],
            [
             0.3,
             "#f1b6da"
            ],
            [
             0.4,
             "#fde0ef"
            ],
            [
             0.5,
             "#f7f7f7"
            ],
            [
             0.6,
             "#e6f5d0"
            ],
            [
             0.7,
             "#b8e186"
            ],
            [
             0.8,
             "#7fbc41"
            ],
            [
             0.9,
             "#4d9221"
            ],
            [
             1,
             "#276419"
            ]
           ],
           "sequential": [
            [
             0,
             "#0d0887"
            ],
            [
             0.1111111111111111,
             "#46039f"
            ],
            [
             0.2222222222222222,
             "#7201a8"
            ],
            [
             0.3333333333333333,
             "#9c179e"
            ],
            [
             0.4444444444444444,
             "#bd3786"
            ],
            [
             0.5555555555555556,
             "#d8576b"
            ],
            [
             0.6666666666666666,
             "#ed7953"
            ],
            [
             0.7777777777777778,
             "#fb9f3a"
            ],
            [
             0.8888888888888888,
             "#fdca26"
            ],
            [
             1,
             "#f0f921"
            ]
           ],
           "sequentialminus": [
            [
             0,
             "#0d0887"
            ],
            [
             0.1111111111111111,
             "#46039f"
            ],
            [
             0.2222222222222222,
             "#7201a8"
            ],
            [
             0.3333333333333333,
             "#9c179e"
            ],
            [
             0.4444444444444444,
             "#bd3786"
            ],
            [
             0.5555555555555556,
             "#d8576b"
            ],
            [
             0.6666666666666666,
             "#ed7953"
            ],
            [
             0.7777777777777778,
             "#fb9f3a"
            ],
            [
             0.8888888888888888,
             "#fdca26"
            ],
            [
             1,
             "#f0f921"
            ]
           ]
          },
          "colorway": [
           "#636efa",
           "#EF553B",
           "#00cc96",
           "#ab63fa",
           "#FFA15A",
           "#19d3f3",
           "#FF6692",
           "#B6E880",
           "#FF97FF",
           "#FECB52"
          ],
          "font": {
           "color": "#2a3f5f"
          },
          "geo": {
           "bgcolor": "white",
           "lakecolor": "white",
           "landcolor": "#E5ECF6",
           "showlakes": true,
           "showland": true,
           "subunitcolor": "white"
          },
          "hoverlabel": {
           "align": "left"
          },
          "hovermode": "closest",
          "mapbox": {
           "style": "light"
          },
          "paper_bgcolor": "white",
          "plot_bgcolor": "#E5ECF6",
          "polar": {
           "angularaxis": {
            "gridcolor": "white",
            "linecolor": "white",
            "ticks": ""
           },
           "bgcolor": "#E5ECF6",
           "radialaxis": {
            "gridcolor": "white",
            "linecolor": "white",
            "ticks": ""
           }
          },
          "scene": {
           "xaxis": {
            "backgroundcolor": "#E5ECF6",
            "gridcolor": "white",
            "gridwidth": 2,
            "linecolor": "white",
            "showbackground": true,
            "ticks": "",
            "zerolinecolor": "white"
           },
           "yaxis": {
            "backgroundcolor": "#E5ECF6",
            "gridcolor": "white",
            "gridwidth": 2,
            "linecolor": "white",
            "showbackground": true,
            "ticks": "",
            "zerolinecolor": "white"
           },
           "zaxis": {
            "backgroundcolor": "#E5ECF6",
            "gridcolor": "white",
            "gridwidth": 2,
            "linecolor": "white",
            "showbackground": true,
            "ticks": "",
            "zerolinecolor": "white"
           }
          },
          "shapedefaults": {
           "line": {
            "color": "#2a3f5f"
           }
          },
          "ternary": {
           "aaxis": {
            "gridcolor": "white",
            "linecolor": "white",
            "ticks": ""
           },
           "baxis": {
            "gridcolor": "white",
            "linecolor": "white",
            "ticks": ""
           },
           "bgcolor": "#E5ECF6",
           "caxis": {
            "gridcolor": "white",
            "linecolor": "white",
            "ticks": ""
           }
          },
          "title": {
           "x": 0.05
          },
          "xaxis": {
           "automargin": true,
           "gridcolor": "white",
           "linecolor": "white",
           "ticks": "",
           "title": {
            "standoff": 15
           },
           "zerolinecolor": "white",
           "zerolinewidth": 2
          },
          "yaxis": {
           "automargin": true,
           "gridcolor": "white",
           "linecolor": "white",
           "ticks": "",
           "title": {
            "standoff": 15
           },
           "zerolinecolor": "white",
           "zerolinewidth": 2
          }
         }
        },
        "width": 1000,
        "xaxis": {
         "anchor": "y",
         "domain": [
          0,
          1
         ],
         "range": [
          2000,
          2020
         ],
         "title": {
          "text": "year"
         },
         "type": "linear"
        },
        "yaxis": {
         "anchor": "x",
         "autorange": true,
         "domain": [
          0,
          1
         ],
         "range": [
          0,
          44.21052631578947
         ],
         "title": {
          "text": "count_docs"
         },
         "type": "linear"
        }
       }
      },
      "image/png": "[encoded data removed]",
      "text/html": [
       "<div>                            <div id=\"88db92d5-32dd-44be-9f20-6c975e4f7bcc\" class=\"plotly-graph-div\" style=\"height:500px; width:1000px;\"></div>            <script type=\"text/javascript\">                require([\"plotly\"], function(Plotly) {                    window.PLOTLYENV=window.PLOTLYENV || {};                                    if (document.getElementById(\"88db92d5-32dd-44be-9f20-6c975e4f7bcc\")) {                    Plotly.newPlot(                        \"88db92d5-32dd-44be-9f20-6c975e4f7bcc\",                        [{\"alignmentgroup\":\"True\",\"hovertemplate\":\"cluster_name_number=2 - football team | plane crash | near future<br>year=%{x}<br>count_docs=%{y}<extra></extra>\",\"legendgroup\":\"2 - football team | plane crash | near future\",\"marker\":{\"color\":\"#636efa\",\"pattern\":{\"shape\":\"\"}},\"name\":\"2 - football team | plane crash | near future\",\"offsetgroup\":\"2 - football team | plane crash | near future\",\"orientation\":\"v\",\"showlegend\":true,\"textposition\":\"auto\",\"x\":[1924.0,1951.0,1953.0,1957.0,1963.0,1965.0,1972.0,1973.0,1975.0,1980.0,1984.0,1985.0,1986.0,1987.0,1988.0,1990.0,1991.0,1992.0,1993.0,1994.0,1995.0,1996.0,1997.0,1998.0,1999.0,2000.0,2001.0,2002.0,2003.0,2004.0,2005.0,2006.0,2007.0,2008.0,2009.0,2010.0,2011.0,2012.0,2013.0,2014.0,2015.0,2017.0],\"xaxis\":\"x\",\"y\":[1,1,1,1,1,1,1,1,1,3,1,1,1,1,2,1,1,1,2,1,4,1,1,1,2,1,1,1,1,3,4,3,2,5,1,3,2,3,3,1,2,3],\"yaxis\":\"y\",\"type\":\"bar\"},{\"alignmentgroup\":\"True\",\"hovertemplate\":\"cluster_name_number=3 - martial arts | true story | las vegas<br>year=%{x}<br>count_docs=%{y}<extra></extra>\",\"legendgroup\":\"3 - martial arts | true story | las vegas\",\"marker\":{\"color\":\"#EF553B\",\"pattern\":{\"shape\":\"\"}},\"name\":\"3 - martial arts | true story | las vegas\",\"offsetgroup\":\"3 - martial arts | true story | las vegas\",\"orientation\":\"v\",\"showlegend\":true,\"textposition\":\"auto\",\"x\":[1925.0,1941.0,1949.0,1951.0,1955.0,1956.0,1966.0,1969.0,1972.0,1978.0,1979.0,1981.0,1983.0,1987.0,1990.0,1991.0,1992.0,1995.0,1996.0,1997.0,1999.0,2000.0,2001.0,2003.0,2004.0,2005.0,2006.0,2007.0,2008.0,2009.0,2010.0,2011.0,2012.0,2013.0,2015.0,2016.0,2017.0,2018.0],\"xaxis\":\"x\",\"y\":[1,1,1,1,1,1,1,1,1,2,1,1,1,1,1,3,1,1,1,1,2,1,1,2,3,4,4,4,3,3,1,2,4,4,3,3,3,3],\"yaxis\":\"y\",\"type\":\"bar\"},{\"alignmentgroup\":\"True\",\"hovertemplate\":\"cluster_name_number=7 - young girl | head injury | young doctor<br>year=%{x}<br>count_docs=%{y}<extra></extra>\",\"legendgroup\":\"7 - young girl | head injury | young doctor\",\"marker\":{\"color\":\"#00cc96\",\"pattern\":{\"shape\":\"\"}},\"name\":\"7 - young girl | head injury | young doctor\",\"offsetgroup\":\"7 - young girl | head injury | young doctor\",\"orientation\":\"v\",\"showlegend\":true,\"textposition\":\"auto\",\"x\":[1927.0,1931.0,1932.0,1940.0,1945.0,1948.0,1970.0,1976.0,1981.0,1984.0,1985.0,1986.0,1987.0,1989.0,1991.0,1992.0,1993.0,1994.0,1995.0,1996.0,1997.0,1998.0,2000.0,2001.0,2002.0,2003.0,2004.0,2005.0,2006.0,2007.0,2008.0,2009.0,2010.0,2011.0,2012.0,2013.0,2014.0,2015.0,2016.0,2017.0,2018.0,2019.0],\"xaxis\":\"x\",\"y\":[1,1,1,1,1,1,1,1,1,1,2,1,1,1,1,2,2,1,3,3,2,1,3,3,3,1,3,4,3,1,5,3,1,3,6,2,4,5,11,4,2,1],\"yaxis\":\"y\",\"type\":\"bar\"},{\"alignmentgroup\":\"True\",\"hovertemplate\":\"cluster_name_number=12 - serial killer | los angeles | assassination attempt<br>year=%{x}<br>count_docs=%{y}<extra></extra>\",\"legendgroup\":\"12 - serial killer | los angeles | assassination attempt\",\"marker\":{\"color\":\"#ab63fa\",\"pattern\":{\"shape\":\"\"}},\"name\":\"12 - serial killer | los angeles | assassination attempt\",\"offsetgroup\":\"12 - serial killer | los angeles | assassination attempt\",\"orientation\":\"v\",\"showlegend\":true,\"textposition\":\"auto\",\"x\":[1934.0,1949.0,1974.0,1975.0,1978.0,1980.0,1982.0,1983.0,1986.0,1987.0,1988.0,1989.0,1991.0,1993.0,1994.0,1995.0,1996.0,1997.0,1998.0,1999.0,2002.0,2003.0,2004.0,2005.0,2006.0,2007.0,2008.0,2010.0,2012.0,2013.0,2014.0,2015.0,2016.0,2018.0],\"xaxis\":\"x\",\"y\":[1,1,1,2,1,1,1,2,2,1,2,2,1,1,4,2,2,5,1,1,3,2,3,4,4,2,1,2,1,2,2,2,5,5],\"yaxis\":\"y\",\"type\":\"bar\"},{\"alignmentgroup\":\"True\",\"hovertemplate\":\"cluster_name_number=5 - world war | war ii | german u<br>year=%{x}<br>count_docs=%{y}<extra></extra>\",\"legendgroup\":\"5 - world war | war ii | german u\",\"marker\":{\"color\":\"#FFA15A\",\"pattern\":{\"shape\":\"\"}},\"name\":\"5 - world war | war ii | german u\",\"offsetgroup\":\"5 - world war | war ii | german u\",\"orientation\":\"v\",\"showlegend\":true,\"textposition\":\"auto\",\"x\":[1934.0,1936.0,1943.0,1944.0,1952.0,1957.0,1960.0,1966.0,1971.0,1974.0,1981.0,1985.0,1987.0,1989.0,1993.0,1995.0,1996.0,1997.0,1999.0,2000.0,2001.0,2002.0,2003.0,2004.0,2005.0,2006.0,2007.0,2008.0,2009.0,2010.0,2011.0,2012.0,2013.0,2014.0,2015.0,2017.0],\"xaxis\":\"x\",\"y\":[1,1,1,1,1,2,1,1,1,1,1,3,2,1,1,1,1,2,3,3,1,1,3,1,2,2,1,3,1,2,3,1,2,1,5,1],\"yaxis\":\"y\",\"type\":\"bar\"},{\"alignmentgroup\":\"True\",\"hovertemplate\":\"cluster_name_number=0 - human race | science fiction | nuclear war<br>year=%{x}<br>count_docs=%{y}<extra></extra>\",\"legendgroup\":\"0 - human race | science fiction | nuclear war\",\"marker\":{\"color\":\"#19d3f3\",\"pattern\":{\"shape\":\"\"}},\"name\":\"0 - human race | science fiction | nuclear war\",\"offsetgroup\":\"0 - human race | science fiction | nuclear war\",\"orientation\":\"v\",\"showlegend\":true,\"textposition\":\"auto\",\"x\":[1935.0,1953.0,1959.0,1968.0,1973.0,1976.0,1981.0,1984.0,1989.0,1991.0,1992.0,1995.0,1997.0,1998.0,1999.0,2000.0,2002.0,2003.0,2005.0,2006.0,2007.0,2008.0,2009.0,2011.0,2012.0,2013.0,2014.0,2015.0,2016.0,2017.0,2018.0],\"xaxis\":\"x\",\"y\":[1,1,1,1,1,2,1,1,2,1,3,1,2,1,1,1,1,1,1,1,3,1,3,3,1,5,2,4,1,3,2],\"yaxis\":\"y\",\"type\":\"bar\"},{\"alignmentgroup\":\"True\",\"hovertemplate\":\"cluster_name_number=14 - road trip | married couple | jason voorhees<br>year=%{x}<br>count_docs=%{y}<extra></extra>\",\"legendgroup\":\"14 - road trip | married couple | jason voorhees\",\"marker\":{\"color\":\"#FF6692\",\"pattern\":{\"shape\":\"\"}},\"name\":\"14 - road trip | married couple | jason voorhees\",\"offsetgroup\":\"14 - road trip | married couple | jason voorhees\",\"orientation\":\"v\",\"showlegend\":true,\"textposition\":\"auto\",\"x\":[1939.0,1945.0,1965.0,1972.0,1974.0,1977.0,1979.0,1983.0,1988.0,1989.0,1990.0,1994.0,1995.0,1999.0,2000.0,2001.0,2002.0,2003.0,2004.0,2005.0,2006.0,2007.0,2008.0,2009.0,2010.0,2011.0,2012.0,2013.0,2014.0,2015.0,2016.0,2017.0,2018.0],\"xaxis\":\"x\",\"y\":[1,1,1,1,1,1,1,1,3,1,1,4,1,1,2,2,1,2,6,4,3,3,1,3,1,2,4,6,6,3,3,4,2],\"yaxis\":\"y\",\"type\":\"bar\"},{\"alignmentgroup\":\"True\",\"hovertemplate\":\"cluster_name_number=4 - security guard | police officer | class man<br>year=%{x}<br>count_docs=%{y}<extra></extra>\",\"legendgroup\":\"4 - security guard | police officer | class man\",\"marker\":{\"color\":\"#B6E880\",\"pattern\":{\"shape\":\"\"}},\"name\":\"4 - security guard | police officer | class man\",\"offsetgroup\":\"4 - security guard | police officer | class man\",\"orientation\":\"v\",\"showlegend\":true,\"textposition\":\"auto\",\"x\":[1941.0,1948.0,1957.0,1958.0,1970.0,1973.0,1974.0,1975.0,1979.0,1982.0,1983.0,1986.0,1990.0,1994.0,1996.0,1997.0,1998.0,1999.0,2000.0,2001.0,2002.0,2003.0,2004.0,2005.0,2006.0,2008.0,2009.0,2010.0,2011.0,2012.0,2013.0,2014.0,2015.0,2016.0,2017.0],\"xaxis\":\"x\",\"y\":[1,1,1,1,1,1,1,1,3,1,2,1,1,2,2,4,3,2,2,1,1,2,2,3,3,4,2,1,1,3,2,5,4,2,3],\"yaxis\":\"y\",\"type\":\"bar\"},{\"alignmentgroup\":\"True\",\"hovertemplate\":\"cluster_name_number=13 - san francisco | private detective | satanic cult<br>year=%{x}<br>count_docs=%{y}<extra></extra>\",\"legendgroup\":\"13 - san francisco | private detective | satanic cult\",\"marker\":{\"color\":\"#FF97FF\",\"pattern\":{\"shape\":\"\"}},\"name\":\"13 - san francisco | private detective | satanic cult\",\"offsetgroup\":\"13 - san francisco | private detective | satanic cult\",\"orientation\":\"v\",\"showlegend\":true,\"textposition\":\"auto\",\"x\":[1946.0,1948.0,1953.0,1957.0,1958.0,1962.0,1963.0,1964.0,1966.0,1969.0,1975.0,1978.0,1979.0,1981.0,1983.0,1984.0,1985.0,1986.0,1988.0,1989.0,1991.0,1994.0,1998.0,2001.0,2003.0,2004.0,2005.0,2006.0,2007.0,2008.0,2010.0,2011.0,2012.0,2013.0,2014.0,2015.0,2016.0,2017.0,2018.0],\"xaxis\":\"x\",\"y\":[1,1,1,1,1,1,1,1,1,2,1,1,1,1,1,3,1,2,2,1,1,1,1,3,1,2,3,1,4,2,1,2,2,4,3,1,2,2,3],\"yaxis\":\"y\",\"type\":\"bar\"},{\"alignmentgroup\":\"True\",\"hovertemplate\":\"cluster_name_number=11 - perilous journey | american civil | civil war<br>year=%{x}<br>count_docs=%{y}<extra></extra>\",\"legendgroup\":\"11 - perilous journey | american civil | civil war\",\"marker\":{\"color\":\"#FECB52\",\"pattern\":{\"shape\":\"\"}},\"name\":\"11 - perilous journey | american civil | civil war\",\"offsetgroup\":\"11 - perilous journey | american civil | civil war\",\"orientation\":\"v\",\"showlegend\":true,\"textposition\":\"auto\",\"x\":[1947.0,1966.0,1972.0,1975.0,1979.0,1980.0,1981.0,1983.0,1987.0,1989.0,1990.0,1992.0,1993.0,1994.0,1995.0,1996.0,1998.0,1999.0,2000.0,2001.0,2002.0,2003.0,2004.0,2006.0,2007.0,2008.0,2009.0,2010.0,2011.0,2012.0,2014.0,2016.0,2017.0,2018.0],\"xaxis\":\"x\",\"y\":[1,1,1,1,1,1,1,1,2,1,1,2,1,2,1,1,2,1,2,2,2,4,1,5,3,4,2,1,2,5,4,1,1,1],\"yaxis\":\"y\",\"type\":\"bar\"},{\"alignmentgroup\":\"True\",\"hovertemplate\":\"cluster_name_number=9 - young boy | taxi driver | remote village<br>year=%{x}<br>count_docs=%{y}<extra></extra>\",\"legendgroup\":\"9 - young boy | taxi driver | remote village\",\"marker\":{\"color\":\"#636efa\",\"pattern\":{\"shape\":\"\"}},\"name\":\"9 - young boy | taxi driver | remote village\",\"offsetgroup\":\"9 - young boy | taxi driver | remote village\",\"orientation\":\"v\",\"showlegend\":true,\"textposition\":\"auto\",\"x\":[1947.0,1953.0,1957.0,1959.0,1971.0,1974.0,1980.0,1983.0,1984.0,1986.0,1988.0,1989.0,1990.0,1992.0,1995.0,1997.0,1998.0,1999.0,2000.0,2001.0,2002.0,2003.0,2004.0,2005.0,2006.0,2008.0,2009.0,2010.0,2011.0,2012.0,2014.0,2016.0,2017.0,2018.0],\"xaxis\":\"x\",\"y\":[1,1,1,1,2,1,2,1,1,1,1,1,2,2,1,3,1,1,1,2,2,3,1,2,2,3,1,2,2,4,4,1,2,3],\"yaxis\":\"y\",\"type\":\"bar\"},{\"alignmentgroup\":\"True\",\"hovertemplate\":\"cluster_name_number=1 - wall street | santa claus | lawyer friend<br>year=%{x}<br>count_docs=%{y}<extra></extra>\",\"legendgroup\":\"1 - wall street | santa claus | lawyer friend\",\"marker\":{\"color\":\"#EF553B\",\"pattern\":{\"shape\":\"\"}},\"name\":\"1 - wall street | santa claus | lawyer friend\",\"offsetgroup\":\"1 - wall street | santa claus | lawyer friend\",\"orientation\":\"v\",\"showlegend\":true,\"textposition\":\"auto\",\"x\":[1950.0,1951.0,1956.0,1958.0,1966.0,1968.0,1969.0,1975.0,1977.0,1978.0,1981.0,1984.0,1986.0,1990.0,1991.0,1992.0,1993.0,1994.0,1995.0,1996.0,1997.0,1998.0,1999.0,2001.0,2002.0,2004.0,2005.0,2006.0,2007.0,2008.0,2009.0,2010.0,2011.0,2013.0,2014.0,2015.0,2016.0,2017.0,2018.0],\"xaxis\":\"x\",\"y\":[1,1,1,2,1,1,1,1,1,1,1,1,1,1,1,1,2,2,1,3,1,4,3,2,1,3,2,2,3,4,7,3,2,2,5,4,2,1,2],\"yaxis\":\"y\",\"type\":\"bar\"},{\"alignmentgroup\":\"True\",\"hovertemplate\":\"cluster_name_number=10 - new york | suburban family | york cop<br>year=%{x}<br>count_docs=%{y}<extra></extra>\",\"legendgroup\":\"10 - new york | suburban family | york cop\",\"marker\":{\"color\":\"#00cc96\",\"pattern\":{\"shape\":\"\"}},\"name\":\"10 - new york | suburban family | york cop\",\"offsetgroup\":\"10 - new york | suburban family | york cop\",\"orientation\":\"v\",\"showlegend\":true,\"textposition\":\"auto\",\"x\":[1952.0,1955.0,1966.0,1967.0,1968.0,1970.0,1978.0,1979.0,1981.0,1982.0,1984.0,1985.0,1986.0,1987.0,1988.0,1991.0,1992.0,1993.0,1996.0,1997.0,1998.0,1999.0,2003.0,2004.0,2005.0,2006.0,2007.0,2008.0,2009.0,2010.0,2011.0,2012.0,2013.0,2014.0,2015.0,2017.0,2018.0,2019.0],\"xaxis\":\"x\",\"y\":[1,1,1,1,1,1,1,1,1,1,1,1,1,1,2,2,1,1,2,1,3,2,2,2,3,1,4,1,2,3,2,3,4,1,2,3,2,1],\"yaxis\":\"y\",\"type\":\"bar\"},{\"alignmentgroup\":\"True\",\"hovertemplate\":\"cluster_name_number=6 - high school | school student | school teacher<br>year=%{x}<br>count_docs=%{y}<extra></extra>\",\"legendgroup\":\"6 - high school | school student | school teacher\",\"marker\":{\"color\":\"#ab63fa\",\"pattern\":{\"shape\":\"\"}},\"name\":\"6 - high school | school student | school teacher\",\"offsetgroup\":\"6 - high school | school student | school teacher\",\"orientation\":\"v\",\"showlegend\":true,\"textposition\":\"auto\",\"x\":[1961.0,1972.0,1973.0,1980.0,1982.0,1985.0,1987.0,1988.0,1989.0,1992.0,1993.0,1999.0,2001.0,2002.0,2003.0,2004.0,2005.0,2006.0,2008.0,2010.0,2011.0,2012.0,2014.0,2015.0,2016.0,2017.0,2018.0],\"xaxis\":\"x\",\"y\":[1,1,1,2,1,2,1,1,1,2,1,1,1,1,2,1,2,1,2,1,2,2,1,3,1,1,3],\"yaxis\":\"y\",\"type\":\"bar\"},{\"alignmentgroup\":\"True\",\"hovertemplate\":\"cluster_name_number=8 - u.s. military | supernatural forces | old boy<br>year=%{x}<br>count_docs=%{y}<extra></extra>\",\"legendgroup\":\"8 - u.s. military | supernatural forces | old boy\",\"marker\":{\"color\":\"#FFA15A\",\"pattern\":{\"shape\":\"\"}},\"name\":\"8 - u.s. military | supernatural forces | old boy\",\"offsetgroup\":\"8 - u.s. military | supernatural forces | old boy\",\"orientation\":\"v\",\"showlegend\":true,\"textposition\":\"auto\",\"x\":[1965.0,1969.0,1972.0,1974.0,1976.0,1977.0,1986.0,1987.0,1988.0,1991.0,1992.0,1993.0,1994.0,1995.0,1996.0,1998.0,2001.0,2002.0,2004.0,2005.0,2006.0,2008.0,2009.0,2010.0,2011.0,2012.0,2013.0,2014.0,2015.0,2016.0,2018.0],\"xaxis\":\"x\",\"y\":[1,1,1,1,1,2,2,1,1,1,1,1,2,2,1,1,1,1,2,1,4,2,3,5,2,1,2,3,1,4,3],\"yaxis\":\"y\",\"type\":\"bar\"}],                        {\"template\":{\"data\":{\"bar\":[{\"error_x\":{\"color\":\"#2a3f5f\"},\"error_y\":{\"color\":\"#2a3f5f\"},\"marker\":{\"line\":{\"color\":\"#E5ECF6\",\"width\":0.5},\"pattern\":{\"fillmode\":\"overlay\",\"size\":10,\"solidity\":0.2}},\"type\":\"bar\"}],\"barpolar\":[{\"marker\":{\"line\":{\"color\":\"#E5ECF6\",\"width\":0.5},\"pattern\":{\"fillmode\":\"overlay\",\"size\":10,\"solidity\":0.2}},\"type\":\"barpolar\"}],\"carpet\":[{\"aaxis\":{\"endlinecolor\":\"#2a3f5f\",\"gridcolor\":\"white\",\"linecolor\":\"white\",\"minorgridcolor\":\"white\",\"startlinecolor\":\"#2a3f5f\"},\"baxis\":{\"endlinecolor\":\"#2a3f5f\",\"gridcolor\":\"white\",\"linecolor\":\"white\",\"minorgridcolor\":\"white\",\"startlinecolor\":\"#2a3f5f\"},\"type\":\"carpet\"}],\"choropleth\":[{\"colorbar\":{\"outlinewidth\":0,\"ticks\":\"\"},\"type\":\"choropleth\"}],\"contour\":[{\"colorbar\":{\"outlinewidth\":0,\"ticks\":\"\"},\"colorscale\":[[0.0,\"#0d0887\"],[0.1111111111111111,\"#46039f\"],[0.2222222222222222,\"#7201a8\"],[0.3333333333333333,\"#9c179e\"],[0.4444444444444444,\"#bd3786\"],[0.5555555555555556,\"#d8576b\"],[0.6666666666666666,\"#ed7953\"],[0.7777777777777778,\"#fb9f3a\"],[0.8888888888888888,\"#fdca26\"],[1.0,\"#f0f921\"]],\"type\":\"contour\"}],\"contourcarpet\":[{\"colorbar\":{\"outlinewidth\":0,\"ticks\":\"\"},\"type\":\"contourcarpet\"}],\"heatmap\":[{\"colorbar\":{\"outlinewidth\":0,\"ticks\":\"\"},\"colorscale\":[[0.0,\"#0d0887\"],[0.1111111111111111,\"#46039f\"],[0.2222222222222222,\"#7201a8\"],[0.3333333333333333,\"#9c179e\"],[0.4444444444444444,\"#bd3786\"],[0.5555555555555556,\"#d8576b\"],[0.6666666666666666,\"#ed7953\"],[0.7777777777777778,\"#fb9f3a\"],[0.8888888888888888,\"#fdca26\"],[1.0,\"#f0f921\"]],\"type\":\"heatmap\"}],\"heatmapgl\":[{\"colorbar\":{\"outlinewidth\":0,\"ticks\":\"\"},\"colorscale\":[[0.0,\"#0d0887\"],[0.1111111111111111,\"#46039f\"],[0.2222222222222222,\"#7201a8\"],[0.3333333333333333,\"#9c179e\"],[0.4444444444444444,\"#bd3786\"],[0.5555555555555556,\"#d8576b\"],[0.6666666666666666,\"#ed7953\"],[0.7777777777777778,\"#fb9f3a\"],[0.8888888888888888,\"#fdca26\"],[1.0,\"#f0f921\"]],\"type\":\"heatmapgl\"}],\"histogram\":[{\"marker\":{\"pattern\":{\"fillmode\":\"overlay\",\"size\":10,\"solidity\":0.2}},\"type\":\"histogram\"}],\"histogram2d\":[{\"colorbar\":{\"outlinewidth\":0,\"ticks\":\"\"},\"colorscale\":[[0.0,\"#0d0887\"],[0.1111111111111111,\"#46039f\"],[0.2222222222222222,\"#7201a8\"],[0.3333333333333333,\"#9c179e\"],[0.4444444444444444,\"#bd3786\"],[0.5555555555555556,\"#d8576b\"],[0.6666666666666666,\"#ed7953\"],[0.7777777777777778,\"#fb9f3a\"],[0.8888888888888888,\"#fdca26\"],[1.0,\"#f0f921\"]],\"type\":\"histogram2d\"}],\"histogram2dcontour\":[{\"colorbar\":{\"outlinewidth\":0,\"ticks\":\"\"},\"colorscale\":[[0.0,\"#0d0887\"],[0.1111111111111111,\"#46039f\"],[0.2222222222222222,\"#7201a8\"],[0.3333333333333333,\"#9c179e\"],[0.4444444444444444,\"#bd3786\"],[0.5555555555555556,\"#d8576b\"],[0.6666666666666666,\"#ed7953\"],[0.7777777777777778,\"#fb9f3a\"],[0.8888888888888888,\"#fdca26\"],[1.0,\"#f0f921\"]],\"type\":\"histogram2dcontour\"}],\"mesh3d\":[{\"colorbar\":{\"outlinewidth\":0,\"ticks\":\"\"},\"type\":\"mesh3d\"}],\"parcoords\":[{\"line\":{\"colorbar\":{\"outlinewidth\":0,\"ticks\":\"\"}},\"type\":\"parcoords\"}],\"pie\":[{\"automargin\":true,\"type\":\"pie\"}],\"scatter\":[{\"marker\":{\"colorbar\":{\"outlinewidth\":0,\"ticks\":\"\"}},\"type\":\"scatter\"}],\"scatter3d\":[{\"line\":{\"colorbar\":{\"outlinewidth\":0,\"ticks\":\"\"}},\"marker\":{\"colorbar\":{\"outlinewidth\":0,\"ticks\":\"\"}},\"type\":\"scatter3d\"}],\"scattercarpet\":[{\"marker\":{\"colorbar\":{\"outlinewidth\":0,\"ticks\":\"\"}},\"type\":\"scattercarpet\"}],\"scattergeo\":[{\"marker\":{\"colorbar\":{\"outlinewidth\":0,\"ticks\":\"\"}},\"type\":\"scattergeo\"}],\"scattergl\":[{\"marker\":{\"colorbar\":{\"outlinewidth\":0,\"ticks\":\"\"}},\"type\":\"scattergl\"}],\"scattermapbox\":[{\"marker\":{\"colorbar\":{\"outlinewidth\":0,\"ticks\":\"\"}},\"type\":\"scattermapbox\"}],\"scatterpolar\":[{\"marker\":{\"colorbar\":{\"outlinewidth\":0,\"ticks\":\"\"}},\"type\":\"scatterpolar\"}],\"scatterpolargl\":[{\"marker\":{\"colorbar\":{\"outlinewidth\":0,\"ticks\":\"\"}},\"type\":\"scatterpolargl\"}],\"scatterternary\":[{\"marker\":{\"colorbar\":{\"outlinewidth\":0,\"ticks\":\"\"}},\"type\":\"scatterternary\"}],\"surface\":[{\"colorbar\":{\"outlinewidth\":0,\"ticks\":\"\"},\"colorscale\":[[0.0,\"#0d0887\"],[0.1111111111111111,\"#46039f\"],[0.2222222222222222,\"#7201a8\"],[0.3333333333333333,\"#9c179e\"],[0.4444444444444444,\"#bd3786\"],[0.5555555555555556,\"#d8576b\"],[0.6666666666666666,\"#ed7953\"],[0.7777777777777778,\"#fb9f3a\"],[0.8888888888888888,\"#fdca26\"],[1.0,\"#f0f921\"]],\"type\":\"surface\"}],\"table\":[{\"cells\":{\"fill\":{\"color\":\"#EBF0F8\"},\"line\":{\"color\":\"white\"}},\"header\":{\"fill\":{\"color\":\"#C8D4E3\"},\"line\":{\"color\":\"white\"}},\"type\":\"table\"}]},\"layout\":{\"annotationdefaults\":{\"arrowcolor\":\"#2a3f5f\",\"arrowhead\":0,\"arrowwidth\":1},\"autotypenumbers\":\"strict\",\"coloraxis\":{\"colorbar\":{\"outlinewidth\":0,\"ticks\":\"\"}},\"colorscale\":{\"diverging\":[[0,\"#8e0152\"],[0.1,\"#c51b7d\"],[0.2,\"#de77ae\"],[0.3,\"#f1b6da\"],[0.4,\"#fde0ef\"],[0.5,\"#f7f7f7\"],[0.6,\"#e6f5d0\"],[0.7,\"#b8e186\"],[0.8,\"#7fbc41\"],[0.9,\"#4d9221\"],[1,\"#276419\"]],\"sequential\":[[0.0,\"#0d0887\"],[0.1111111111111111,\"#46039f\"],[0.2222222222222222,\"#7201a8\"],[0.3333333333333333,\"#9c179e\"],[0.4444444444444444,\"#bd3786\"],[0.5555555555555556,\"#d8576b\"],[0.6666666666666666,\"#ed7953\"],[0.7777777777777778,\"#fb9f3a\"],[0.8888888888888888,\"#fdca26\"],[1.0,\"#f0f921\"]],\"sequentialminus\":[[0.0,\"#0d0887\"],[0.1111111111111111,\"#46039f\"],[0.2222222222222222,\"#7201a8\"],[0.3333333333333333,\"#9c179e\"],[0.4444444444444444,\"#bd3786\"],[0.5555555555555556,\"#d8576b\"],[0.6666666666666666,\"#ed7953\"],[0.7777777777777778,\"#fb9f3a\"],[0.8888888888888888,\"#fdca26\"],[1.0,\"#f0f921\"]]},\"colorway\":[\"#636efa\",\"#EF553B\",\"#00cc96\",\"#ab63fa\",\"#FFA15A\",\"#19d3f3\",\"#FF6692\",\"#B6E880\",\"#FF97FF\",\"#FECB52\"],\"font\":{\"color\":\"#2a3f5f\"},\"geo\":{\"bgcolor\":\"white\",\"lakecolor\":\"white\",\"landcolor\":\"#E5ECF6\",\"showlakes\":true,\"showland\":true,\"subunitcolor\":\"white\"},\"hoverlabel\":{\"align\":\"left\"},\"hovermode\":\"closest\",\"mapbox\":{\"style\":\"light\"},\"paper_bgcolor\":\"white\",\"plot_bgcolor\":\"#E5ECF6\",\"polar\":{\"angularaxis\":{\"gridcolor\":\"white\",\"linecolor\":\"white\",\"ticks\":\"\"},\"bgcolor\":\"#E5ECF6\",\"radialaxis\":{\"gridcolor\":\"white\",\"linecolor\":\"white\",\"ticks\":\"\"}},\"scene\":{\"xaxis\":{\"backgroundcolor\":\"#E5ECF6\",\"gridcolor\":\"white\",\"gridwidth\":2,\"linecolor\":\"white\",\"showbackground\":true,\"ticks\":\"\",\"zerolinecolor\":\"white\"},\"yaxis\":{\"backgroundcolor\":\"#E5ECF6\",\"gridcolor\":\"white\",\"gridwidth\":2,\"linecolor\":\"white\",\"showbackground\":true,\"ticks\":\"\",\"zerolinecolor\":\"white\"},\"zaxis\":{\"backgroundcolor\":\"#E5ECF6\",\"gridcolor\":\"white\",\"gridwidth\":2,\"linecolor\":\"white\",\"showbackground\":true,\"ticks\":\"\",\"zerolinecolor\":\"white\"}},\"shapedefaults\":{\"line\":{\"color\":\"#2a3f5f\"}},\"ternary\":{\"aaxis\":{\"gridcolor\":\"white\",\"linecolor\":\"white\",\"ticks\":\"\"},\"baxis\":{\"gridcolor\":\"white\",\"linecolor\":\"white\",\"ticks\":\"\"},\"bgcolor\":\"#E5ECF6\",\"caxis\":{\"gridcolor\":\"white\",\"linecolor\":\"white\",\"ticks\":\"\"}},\"title\":{\"x\":0.05},\"xaxis\":{\"automargin\":true,\"gridcolor\":\"white\",\"linecolor\":\"white\",\"ticks\":\"\",\"title\":{\"standoff\":15},\"zerolinecolor\":\"white\",\"zerolinewidth\":2},\"yaxis\":{\"automargin\":true,\"gridcolor\":\"white\",\"linecolor\":\"white\",\"ticks\":\"\",\"title\":{\"standoff\":15},\"zerolinecolor\":\"white\",\"zerolinewidth\":2}}},\"xaxis\":{\"anchor\":\"y\",\"domain\":[0.0,1.0],\"title\":{\"text\":\"year\"},\"range\":[2000,2020]},\"yaxis\":{\"anchor\":\"x\",\"domain\":[0.0,1.0],\"title\":{\"text\":\"count_docs\"}},\"legend\":{\"title\":{\"text\":\"cluster_name_number\"},\"tracegroupgap\":0},\"margin\":{\"t\":60},\"barmode\":\"relative\",\"height\":500,\"width\":1000},                        {\"responsive\": true}                    ).then(function(){\n",
       "                            \n",
       "var gd = document.getElementById('88db92d5-32dd-44be-9f20-6c975e4f7bcc');\n",
       "var x = new MutationObserver(function (mutations, observer) {{\n",
       "        var display = window.getComputedStyle(gd).display;\n",
       "        if (!display || display === 'none') {{\n",
       "            console.log([gd, 'removed!']);\n",
       "            Plotly.purge(gd);\n",
       "            observer.disconnect();\n",
       "        }}\n",
       "}});\n",
       "\n",
       "// Listen for the removal of the full notebook cells\n",
       "var notebookContainer = gd.closest('#notebook-container');\n",
       "if (notebookContainer) {{\n",
       "    x.observe(notebookContainer, {childList: true});\n",
       "}}\n",
       "\n",
       "// Listen for the clearing of the current output cell\n",
       "var outputEl = gd.closest('.output');\n",
       "if (outputEl) {{\n",
       "    x.observe(outputEl, {childList: true});\n",
       "}}\n",
       "\n",
       "                        })                };                });            </script>        </div>"
      ]
     },
     "metadata": {},
     "output_type": "display_data"
    }
   ],
   "source": [
    "fig.show()"
   ]
  },
  {
   "cell_type": "code",
   "execution_count": null,
   "id": "96c91c40-a51c-4afe-9621-f15a0beff4db",
   "metadata": {},
   "outputs": [],
   "source": []
  },
  {
   "cell_type": "code",
   "execution_count": 20,
   "id": "339e8f10-7efa-46b8-9b56-ad7521c09ffc",
   "metadata": {},
   "outputs": [
    {
     "data": {
      "application/vnd.jupyter.widget-view+json": {
       "model_id": "8c89aa4e5920419aac3f0ce4c9f2c386"
      },
      "text/html": [
       "<div>\n",
       "<style scoped>\n",
       "    .dataframe tbody tr th:only-of-type {\n",
       "        vertical-align: middle;\n",
       "    }\n",
       "\n",
       "    .dataframe tbody tr th {\n",
       "        vertical-align: top;\n",
       "    }\n",
       "\n",
       "    .dataframe thead th {\n",
       "        text-align: right;\n",
       "    }\n",
       "</style>\n",
       "<table border=\"1\" class=\"dataframe\">\n",
       "  <thead>\n",
       "    <tr style=\"text-align: right;\">\n",
       "      <th></th>\n",
       "      <th>clusters</th>\n",
       "      <th>centroid_docs</th>\n",
       "      <th>farest_doc</th>\n",
       "      <th>cluster_radius</th>\n",
       "    </tr>\n",
       "  </thead>\n",
       "  <tbody>\n",
       "    <tr>\n",
       "      <th>0</th>\n",
       "      <td>14 - road trip | married couple | jason voorhees</td>\n",
       "      <td>Three friends discover their new flatmate dead...</td>\n",
       "      <td>Hoping to walk away with a massive fortune, a ...</td>\n",
       "      <td>1.289141</td>\n",
       "    </tr>\n",
       "    <tr>\n",
       "      <th>1</th>\n",
       "      <td>7 - young girl | head injury | young doctor</td>\n",
       "      <td>After losing her job, making out with her soon...</td>\n",
       "      <td>After leaving her philandering husband, an ele...</td>\n",
       "      <td>1.595060</td>\n",
       "    </tr>\n",
       "    <tr>\n",
       "      <th>2</th>\n",
       "      <td>9 - young boy | taxi driver | remote village</td>\n",
       "      <td>A rude, contemptuous talk show host becomes ov...</td>\n",
       "      <td>After discovering that an asteroid the size of...</td>\n",
       "      <td>1.492261</td>\n",
       "    </tr>\n",
       "    <tr>\n",
       "      <th>3</th>\n",
       "      <td>2 - football team | plane crash | near future</td>\n",
       "      <td>Blair, a fighter pilot, joins an interstellar ...</td>\n",
       "      <td>A hot shot Washington DC lobbyist and his prot...</td>\n",
       "      <td>1.463501</td>\n",
       "    </tr>\n",
       "    <tr>\n",
       "      <th>4</th>\n",
       "      <td>12 - serial killer | los angeles | assassinati...</td>\n",
       "      <td>A logger defends his family from a group of da...</td>\n",
       "      <td>Four skaters follow their idol on his summer t...</td>\n",
       "      <td>1.470694</td>\n",
       "    </tr>\n",
       "    <tr>\n",
       "      <th>5</th>\n",
       "      <td>1 - wall street | santa claus | lawyer friend</td>\n",
       "      <td>Tommy Riley has moved with his dad to Chicago ...</td>\n",
       "      <td>Having recovered from wounds received in a fai...</td>\n",
       "      <td>1.563509</td>\n",
       "    </tr>\n",
       "    <tr>\n",
       "      <th>6</th>\n",
       "      <td>0 - human race | science fiction | nuclear war</td>\n",
       "      <td>At a home for retired musicians, the annual co...</td>\n",
       "      <td>A comedic look at the relationship between a w...</td>\n",
       "      <td>1.191426</td>\n",
       "    </tr>\n",
       "    <tr>\n",
       "      <th>7</th>\n",
       "      <td>10 - new york | suburban family | york cop</td>\n",
       "      <td>A giant, reptilian monster surfaces, leaving d...</td>\n",
       "      <td>A woman sets out to make life a living hell fo...</td>\n",
       "      <td>1.732996</td>\n",
       "    </tr>\n",
       "    <tr>\n",
       "      <th>8</th>\n",
       "      <td>8 - u.s. military | supernatural forces | old boy</td>\n",
       "      <td>A teenage girl and her father discover alien c...</td>\n",
       "      <td>Ashwat Raina and his teammates arrive in Pokhr...</td>\n",
       "      <td>1.460702</td>\n",
       "    </tr>\n",
       "    <tr>\n",
       "      <th>9</th>\n",
       "      <td>5 - world war | war ii | german u</td>\n",
       "      <td>When a group of friends fail to lower the ladd...</td>\n",
       "      <td>An introvert freshman is taken under the wings...</td>\n",
       "      <td>1.341478</td>\n",
       "    </tr>\n",
       "    <tr>\n",
       "      <th>10</th>\n",
       "      <td>11 - perilous journey | american civil | civil...</td>\n",
       "      <td>Death, who takes the form of a young man, asks...</td>\n",
       "      <td>Batman must battle former district attorney Ha...</td>\n",
       "      <td>1.641623</td>\n",
       "    </tr>\n",
       "    <tr>\n",
       "      <th>11</th>\n",
       "      <td>13 - san francisco | private detective | satan...</td>\n",
       "      <td>Following the murder of a prominent leftist, a...</td>\n",
       "      <td>Shotgun Stories tracks a feud that erupts betw...</td>\n",
       "      <td>1.295864</td>\n",
       "    </tr>\n",
       "    <tr>\n",
       "      <th>12</th>\n",
       "      <td>4 - security guard | police officer | class man</td>\n",
       "      <td>A young driver, Speed Racer, aspires to be cha...</td>\n",
       "      <td>A widower is determined to get to the bottom o...</td>\n",
       "      <td>1.284317</td>\n",
       "    </tr>\n",
       "    <tr>\n",
       "      <th>13</th>\n",
       "      <td>6 - high school | school student | school teacher</td>\n",
       "      <td>Ovidiu, a high-school teacher looking for an e...</td>\n",
       "      <td>Cheyenne, a retired rock star living off his r...</td>\n",
       "      <td>1.584093</td>\n",
       "    </tr>\n",
       "    <tr>\n",
       "      <th>14</th>\n",
       "      <td>3 - martial arts | true story | las vegas</td>\n",
       "      <td>Mel Brooks brings his one-of-a-kind comic touc...</td>\n",
       "      <td>Wong Fei-Hung (</td>\n",
       "      <td>1.160045</td>\n",
       "    </tr>\n",
       "  </tbody>\n",
       "</table>\n",
       "</div>"
      ],
      "text/plain": [
       "                                             clusters  \\\n",
       "0    14 - road trip | married couple | jason voorhees   \n",
       "1         7 - young girl | head injury | young doctor   \n",
       "2        9 - young boy | taxi driver | remote village   \n",
       "3       2 - football team | plane crash | near future   \n",
       "4   12 - serial killer | los angeles | assassinati...   \n",
       "5       1 - wall street | santa claus | lawyer friend   \n",
       "6      0 - human race | science fiction | nuclear war   \n",
       "7          10 - new york | suburban family | york cop   \n",
       "8   8 - u.s. military | supernatural forces | old boy   \n",
       "9                   5 - world war | war ii | german u   \n",
       "10  11 - perilous journey | american civil | civil...   \n",
       "11  13 - san francisco | private detective | satan...   \n",
       "12    4 - security guard | police officer | class man   \n",
       "13  6 - high school | school student | school teacher   \n",
       "14          3 - martial arts | true story | las vegas   \n",
       "\n",
       "                                        centroid_docs  \\\n",
       "0   Three friends discover their new flatmate dead...   \n",
       "1   After losing her job, making out with her soon...   \n",
       "2   A rude, contemptuous talk show host becomes ov...   \n",
       "3   Blair, a fighter pilot, joins an interstellar ...   \n",
       "4   A logger defends his family from a group of da...   \n",
       "5   Tommy Riley has moved with his dad to Chicago ...   \n",
       "6   At a home for retired musicians, the annual co...   \n",
       "7   A giant, reptilian monster surfaces, leaving d...   \n",
       "8   A teenage girl and her father discover alien c...   \n",
       "9   When a group of friends fail to lower the ladd...   \n",
       "10  Death, who takes the form of a young man, asks...   \n",
       "11  Following the murder of a prominent leftist, a...   \n",
       "12  A young driver, Speed Racer, aspires to be cha...   \n",
       "13  Ovidiu, a high-school teacher looking for an e...   \n",
       "14  Mel Brooks brings his one-of-a-kind comic touc...   \n",
       "\n",
       "                                           farest_doc  cluster_radius  \n",
       "0   Hoping to walk away with a massive fortune, a ...        1.289141  \n",
       "1   After leaving her philandering husband, an ele...        1.595060  \n",
       "2   After discovering that an asteroid the size of...        1.492261  \n",
       "3   A hot shot Washington DC lobbyist and his prot...        1.463501  \n",
       "4   Four skaters follow their idol on his summer t...        1.470694  \n",
       "5   Having recovered from wounds received in a fai...        1.563509  \n",
       "6   A comedic look at the relationship between a w...        1.191426  \n",
       "7   A woman sets out to make life a living hell fo...        1.732996  \n",
       "8   Ashwat Raina and his teammates arrive in Pokhr...        1.460702  \n",
       "9   An introvert freshman is taken under the wings...        1.341478  \n",
       "10  Batman must battle former district attorney Ha...        1.641623  \n",
       "11  Shotgun Stories tracks a feud that erupts betw...        1.295864  \n",
       "12  A widower is determined to get to the bottom o...        1.284317  \n",
       "13  Cheyenne, a retired rock star living off his r...        1.584093  \n",
       "14                                    Wong Fei-Hung (        1.160045  "
      ]
     },
     "metadata": {},
     "output_type": "display_data"
    }
   ],
   "source": [
    "topics.get_centroid_documents()"
   ]
  },
  {
   "cell_type": "code",
   "execution_count": null,
   "id": "84d1695e-1a7a-4552-b98a-e5427f7c2a0c",
   "metadata": {},
   "outputs": [],
   "source": []
  },
  {
   "cell_type": "code",
   "execution_count": null,
   "id": "63395c1e-b98e-4578-b486-e55f25a14874",
   "metadata": {},
   "outputs": [],
   "source": []
  },
  {
   "cell_type": "code",
   "execution_count": null,
   "id": "e50e1033-b174-4eb9-aa04-56000aee6c18",
   "metadata": {},
   "outputs": [],
   "source": []
  }
 ],
 "metadata": {
  "kernelspec": {
   "display_name": "Python 3 (ipykernel)",
   "language": "python",
   "name": "python3"
  },
  "language_info": {
   "codemirror_mode": {
    "name": "ipython",
    "version": 3
   },
   "file_extension": ".py",
   "mimetype": "text/x-python",
   "name": "python",
   "nbconvert_exporter": "python",
   "pygments_lexer": "ipython3",
   "version": "3.9.7"
  }
 },
 "nbformat": 4,
 "nbformat_minor": 5
}
