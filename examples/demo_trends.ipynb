{
 "cells": [
  {
   "cell_type": "code",
   "execution_count": 1,
   "id": "9b5ff9b9-0afa-4f2c-b9e9-41489876a4e1",
   "metadata": {},
   "outputs": [],
   "source": [
    "from bunkatech.time.time import SemanticsTrends\n",
    "import bamboolib\n",
    "import pandas as pd\n",
    "import numpy as np\n",
    "\n",
    "'''\n",
    "data = pd.read_csv(\n",
    "    \"/Users/charlesdedampierre/Desktop/ENS Projects/imaginary-world/db_film_iw (2).csv\",\n",
    "    index_col=[0],\n",
    ")\n",
    "\n",
    "data = data.sample(100)\n",
    "'''\n",
    "\n",
    "df_sample = pd.read_csv(\n",
    "        \"/Volumes/OutFriend/timeline_folding/time_sample.csv\", index_col=[0]\n",
    "    )\n",
    "platform = \"facebook\"\n",
    "df_sample= df_sample[df_sample[\"origin\"] == platform]\n",
    "df_sample['date'] = pd.to_datetime(df_sample['date'])\n",
    "df_sample = df_sample[df_sample['date'].dt.year >= 2019]\n",
    "df_sample = df_sample.rename(columns = {'text':'fb_text'})"
   ]
  },
  {
   "cell_type": "code",
   "execution_count": 4,
   "id": "0f0955fd-f85e-4747-b116-44c996143d90",
   "metadata": {},
   "outputs": [
    {
     "name": "stderr",
     "output_type": "stream",
     "text": [
      "Extract Terms: 100%|███████████████████████████████████████████████████| 500/500 [00:10<00:00, 47.54it/s]\n"
     ]
    }
   ],
   "source": [
    "# All the basic components to compute before more specialized computation\n",
    "trends = SemanticsTrends(data = df_sample,\n",
    "                    text_var = 'fb_text',\n",
    "                    index_var = 'id',\n",
    "                    extract_terms=True,\n",
    "                    terms_embedding=False,\n",
    "                    docs_embedding=False,\n",
    "                    sample_size_terms=500,\n",
    "                    terms_limit=500,\n",
    "                    terms_ents=True,\n",
    "                    terms_ngrams=(1, 2),\n",
    "                    terms_ncs=True,\n",
    "                    terms_include_pos=[\"NOUN\", \"PROPN\", \"ADJ\"],\n",
    "                    terms_include_types=[\"PERSON\", \"ORG\"],\n",
    "                    terms_embedding_model=\"distiluse-base-multilingual-cased-v1\",\n",
    "                    docs_embedding_model=\"tfidf\",\n",
    "                    language=\"en\",\n",
    "                    terms_path=None,\n",
    "                    terms_embeddings_path=None,\n",
    "                    docs_embeddings_path=None)"
   ]
  },
  {
   "cell_type": "code",
   "execution_count": 5,
   "id": "cc53c0b3-e3e9-4931-822c-be969ee5524d",
   "metadata": {},
   "outputs": [],
   "source": [
    "trends.fit('date')"
   ]
  },
  {
   "cell_type": "code",
   "execution_count": 7,
   "id": "0d79a5f6-e622-439e-8b99-1a7611c54f11",
   "metadata": {},
   "outputs": [],
   "source": [
    "fig = trends.classic_trend(smoothing_scale=7, # 7 days\n",
    "                    context_scale=30, # 30 days\n",
    "                    height=800,\n",
    "                    width=800,\n",
    "                    stv_scale=1)\n"
   ]
  },
  {
   "cell_type": "code",
   "execution_count": 10,
   "id": "e1006464-b981-469d-911a-ad7da5e68589",
   "metadata": {},
   "outputs": [],
   "source": [
    "fig = trends.semantic_candles(short_trend_step=3,  # 3 months \n",
    "                            long_trend_step=6, # 6 months\n",
    "                            height=800,\n",
    "                            width=800)"
   ]
  },
  {
   "cell_type": "code",
   "execution_count": 8,
   "id": "473fc595-efe6-445f-92f9-fb5bbaf5a263",
   "metadata": {},
   "outputs": [],
   "source": [
    "import plotly\n",
    "plotly.offline.plot(fig, filename = '/Users/charlesdedampierre/Desktop/anses.html', auto_open=False)"
   ]
  },
  {
   "cell_type": "code",
   "execution_count": null,
   "id": "8cc99aca-69ad-4bbc-b14c-4ccda1e282dc",
   "metadata": {},
   "outputs": [],
   "source": []
  }
 ],
 "metadata": {
  "kernelspec": {
   "display_name": "Python 3 (ipykernel)",
   "language": "python",
   "name": "python3"
  },
  "language_info": {
   "codemirror_mode": {
    "name": "ipython",
    "version": 3
   },
   "file_extension": ".py",
   "mimetype": "text/x-python",
   "name": "python",
   "nbconvert_exporter": "python",
   "pygments_lexer": "ipython3",
   "version": "3.9.7"
  }
 },
 "nbformat": 4,
 "nbformat_minor": 5
}
