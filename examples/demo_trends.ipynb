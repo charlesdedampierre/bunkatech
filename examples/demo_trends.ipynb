{
 "cells": [
  {
   "cell_type": "markdown",
   "id": "93bb7a4d-3bba-4190-891c-655f1b85fa2e",
   "metadata": {},
   "source": [
    "# Demo Topic Trends"
   ]
  },
  {
   "cell_type": "markdown",
   "id": "eb784c43-ed04-47fd-befa-b39020de621a",
   "metadata": {},
   "source": [
    "The Semantic Trend class carries out trend detection & topic detection over time. It uses coincepts from Finance (Candles, and moving-averages)"
   ]
  },
  {
   "cell_type": "code",
   "execution_count": null,
   "id": "f09a926e-a0ad-40a7-bda1-8d8d017c5d1e",
   "metadata": {},
   "outputs": [],
   "source": [
    "import sys\n",
    "sys.path.append(\"../../bunkatech\")"
   ]
  },
  {
   "cell_type": "code",
   "execution_count": 1,
   "id": "9b5ff9b9-0afa-4f2c-b9e9-41489876a4e1",
   "metadata": {},
   "outputs": [],
   "source": [
    "import pandas as pd\n",
    "from bunkatech.time import SemanticsTrends\n",
    "import warnings\n",
    "warnings.filterwarnings('ignore')\n",
    " \n",
    "    \n",
    "data = pd.read_csv('../data/imdb.csv', index_col = [0])\n",
    "data = data.sample(2000, random_state = 42)"
   ]
  },
  {
   "cell_type": "code",
   "execution_count": 2,
   "id": "0f0955fd-f85e-4747-b116-44c996143d90",
   "metadata": {},
   "outputs": [
    {
     "name": "stderr",
     "output_type": "stream",
     "text": [
      "  0%|                                                                           | 0/1991 [00:00<?, ?it/s]2022-03-31 09:10:48,829 - INFO : loaded 'en_core_web_sm' spaCy language pipeline\n",
      "2022-03-31 09:10:48,837 - INFO : loaded 'en_core_web_sm' spaCy language pipeline\n",
      "2022-03-31 09:10:48,842 - INFO : loaded 'en_core_web_sm' spaCy language pipeline\n",
      "2022-03-31 09:10:48,842 - INFO : loaded 'en_core_web_sm' spaCy language pipeline\n",
      "2022-03-31 09:10:48,859 - INFO : loaded 'en_core_web_sm' spaCy language pipeline\n",
      "2022-03-31 09:10:48,861 - INFO : loaded 'en_core_web_sm' spaCy language pipeline\n",
      "2022-03-31 09:10:48,864 - INFO : loaded 'en_core_web_sm' spaCy language pipeline\n",
      "2022-03-31 09:10:48,893 - INFO : loaded 'en_core_web_sm' spaCy language pipeline\n",
      "100%|███████████████████████████████████████████████████████████████| 1991/1991 [00:08<00:00, 223.11it/s]\n",
      "2022-03-31 09:10:51,596 - INFO : Load pretrained SentenceTransformer: all-MiniLM-L6-v2\n",
      "2022-03-31 09:10:59,035 - INFO : Use pytorch device: cpu\n"
     ]
    },
    {
     "data": {
      "application/vnd.jupyter.widget-view+json": {
       "model_id": "c3336c8329c744d1b99f08433d0d778b",
       "version_major": 2,
       "version_minor": 0
      },
      "text/plain": [
       "Batches:   0%|          | 0/63 [00:00<?, ?it/s]"
      ]
     },
     "metadata": {},
     "output_type": "display_data"
    },
    {
     "name": "stderr",
     "output_type": "stream",
     "text": [
      "2022-03-31 09:11:07,091 - INFO : Load pretrained SentenceTransformer: all-MiniLM-L6-v2\n"
     ]
    },
    {
     "name": "stdout",
     "output_type": "stream",
     "text": [
      "Start Embedding...\n"
     ]
    },
    {
     "name": "stderr",
     "output_type": "stream",
     "text": [
      "2022-03-31 09:11:14,631 - INFO : Use pytorch device: cpu\n",
      "2022-03-31 09:11:14,632 - INFO : CUDA is not available. Start 4 CPU worker\n",
      "2022-03-31 09:11:14,632 - INFO : Start multi-process pool on devices: cpu, cpu, cpu, cpu\n"
     ]
    },
    {
     "name": "stdout",
     "output_type": "stream",
     "text": [
      "huggingface/tokenizers: The current process just got forked, after parallelism has already been used. Disabling parallelism to avoid deadlocks...\n",
      "To disable this warning, you can either:\n",
      "\t- Avoid using `tokenizers` before the fork if possible\n",
      "\t- Explicitly set the environment variable TOKENIZERS_PARALLELISM=(true | false)\n",
      "huggingface/tokenizers: The current process just got forked, after parallelism has already been used. Disabling parallelism to avoid deadlocks...\n",
      "To disable this warning, you can either:\n",
      "\t- Avoid using `tokenizers` before the fork if possible\n",
      "\t- Explicitly set the environment variable TOKENIZERS_PARALLELISM=(true | false)\n",
      "huggingface/tokenizers: The current process just got forked, after parallelism has already been used. Disabling parallelism to avoid deadlocks...\n",
      "To disable this warning, you can either:\n",
      "\t- Avoid using `tokenizers` before the fork if possible\n",
      "\t- Explicitly set the environment variable TOKENIZERS_PARALLELISM=(true | false)\n",
      "huggingface/tokenizers: The current process just got forked, after parallelism has already been used. Disabling parallelism to avoid deadlocks...\n",
      "To disable this warning, you can either:\n",
      "\t- Avoid using `tokenizers` before the fork if possible\n",
      "\t- Explicitly set the environment variable TOKENIZERS_PARALLELISM=(true | false)\n",
      "huggingface/tokenizers: The current process just got forked, after parallelism has already been used. Disabling parallelism to avoid deadlocks...\n",
      "To disable this warning, you can either:\n",
      "\t- Avoid using `tokenizers` before the fork if possible\n",
      "\t- Explicitly set the environment variable TOKENIZERS_PARALLELISM=(true | false)\n"
     ]
    },
    {
     "name": "stderr",
     "output_type": "stream",
     "text": [
      "2022-03-31 09:11:19,960 - INFO : Chunk data into packages of size 50\n"
     ]
    },
    {
     "name": "stdout",
     "output_type": "stream",
     "text": [
      "UMAP(n_components=5, verbose=True)\n",
      "Thu Mar 31 09:11:35 2022 Construct fuzzy simplicial set\n",
      "Thu Mar 31 09:11:37 2022 Finding Nearest Neighbors\n",
      "Thu Mar 31 09:11:38 2022 Finished Nearest Neighbor Search\n",
      "Thu Mar 31 09:11:39 2022 Construct embedding\n"
     ]
    },
    {
     "data": {
      "application/vnd.jupyter.widget-view+json": {
       "model_id": "d3238a0071b24abca497c6fbae738784",
       "version_major": 2,
       "version_minor": 0
      },
      "text/plain": [
       "Epochs completed:   0%|            0/500 [00:00]"
      ]
     },
     "metadata": {},
     "output_type": "display_data"
    },
    {
     "name": "stdout",
     "output_type": "stream",
     "text": [
      "Thu Mar 31 09:11:41 2022 Finished embedding\n"
     ]
    }
   ],
   "source": [
    "trends = SemanticsTrends(data = data,\n",
    "                        text_var = 'description',\n",
    "                        index_var = 'imdb',\n",
    "                        extract_terms=True,\n",
    "                        terms_embedding=True,\n",
    "                        docs_embedding=True,\n",
    "                        sample_size_terms=2000,\n",
    "                        terms_limit=2000,\n",
    "                        terms_ents=False,\n",
    "                        terms_ngrams=(2, 2),\n",
    "                        terms_ncs=False,\n",
    "                        terms_include_pos=[\"NOUN\", \"PROPN\", \"ADJ\"],\n",
    "                        terms_include_types=[\"PERSON\", \"ORG\"],\n",
    "                        terms_embedding_model=\"all-MiniLM-L6-v2\",\n",
    "                        docs_embedding_model=\"all-MiniLM-L6-v2\",\n",
    "                        language=\"en\",\n",
    "                        terms_path=None,\n",
    "                        docs_dimension_reduction = 5,\n",
    "                        terms_embeddings_path=None,\n",
    "                        docs_embeddings_path=None,\n",
    "                        docs_multiprocessing = True,\n",
    "                        terms_multiprocessing = True)"
   ]
  },
  {
   "cell_type": "markdown",
   "id": "0461f0da-fa9b-4b7c-8010-eaf3444918f5",
   "metadata": {},
   "source": [
    "#### Fit with the name of the column referencing to the time"
   ]
  },
  {
   "cell_type": "code",
   "execution_count": 5,
   "id": "cc53c0b3-e3e9-4931-822c-be969ee5524d",
   "metadata": {},
   "outputs": [],
   "source": [
    "trends.fit('year')"
   ]
  },
  {
   "cell_type": "markdown",
   "id": "1a965030-68d9-4310-b1ac-e7b78275900a",
   "metadata": {},
   "source": [
    "#### Display the trend by comparing two moving averages: the smoothing_scale and the context_scale."
   ]
  },
  {
   "cell_type": "markdown",
   "id": "7ad3f213-c0ea-42df-852b-b3370524352b",
   "metadata": {},
   "source": [
    "If the time is year, then smoothing_scale = 2, refers to 2 years."
   ]
  },
  {
   "cell_type": "code",
   "execution_count": 11,
   "id": "0d79a5f6-e622-439e-8b99-1a7611c54f11",
   "metadata": {},
   "outputs": [
    {
     "data": {
      "application/vnd.plotly.v1+json": {
       "config": {
        "plotlyServerURL": "https://plot.ly"
       },
       "data": [
        {
         "mode": "lines",
         "name": "data",
         "type": "scatter",
         "x": [
          1915,
          1920,
          1923,
          1924,
          1925,
          1926,
          1927,
          1929,
          1930,
          1931,
          1932,
          1933,
          1935,
          1936,
          1937,
          1938,
          1939,
          1940,
          1941,
          1942,
          1943,
          1944,
          1945,
          1946,
          1947,
          1948,
          1949,
          1950,
          1951,
          1952,
          1953,
          1954,
          1955,
          1956,
          1957,
          1958,
          1959,
          1960,
          1961,
          1962,
          1963,
          1964,
          1965,
          1966,
          1967,
          1968,
          1969,
          1970,
          1971,
          1972,
          1973,
          1974,
          1975,
          1976,
          1977,
          1978,
          1979,
          1980,
          1981,
          1982,
          1983,
          1984,
          1985,
          1986,
          1987,
          1988,
          1989,
          1990,
          1991,
          1992,
          1993,
          1994,
          1995,
          1996,
          1997,
          1998,
          1999,
          2000,
          2001,
          2002,
          2003,
          2004,
          2005,
          2006,
          2007,
          2008,
          2009,
          2010,
          2011,
          2012,
          2013,
          2014,
          2015,
          2016,
          2017,
          2018,
          2019
         ],
         "y": [
          1,
          1,
          1,
          2,
          1,
          1,
          2,
          1,
          2,
          4,
          2,
          2,
          1,
          4,
          1,
          5,
          7,
          4,
          2,
          2,
          2,
          2,
          3,
          2,
          4,
          5,
          4,
          1,
          3,
          1,
          9,
          6,
          5,
          3,
          1,
          7,
          7,
          6,
          4,
          8,
          6,
          9,
          4,
          7,
          8,
          14,
          2,
          5,
          11,
          3,
          11,
          5,
          9,
          13,
          10,
          13,
          10,
          11,
          13,
          16,
          12,
          22,
          21,
          23,
          19,
          17,
          20,
          30,
          21,
          24,
          26,
          32,
          37,
          44,
          41,
          42,
          31,
          45,
          56,
          50,
          43,
          60,
          61,
          66,
          88,
          81,
          72,
          58,
          71,
          63,
          81,
          78,
          67,
          65,
          60,
          55,
          2
         ]
        },
        {
         "mode": "lines",
         "name": "moving_average",
         "type": "scatter",
         "x": [
          1915,
          1920,
          1923,
          1924,
          1925,
          1926,
          1927,
          1929,
          1930,
          1931,
          1932,
          1933,
          1935,
          1936,
          1937,
          1938,
          1939,
          1940,
          1941,
          1942,
          1943,
          1944,
          1945,
          1946,
          1947,
          1948,
          1949,
          1950,
          1951,
          1952,
          1953,
          1954,
          1955,
          1956,
          1957,
          1958,
          1959,
          1960,
          1961,
          1962,
          1963,
          1964,
          1965,
          1966,
          1967,
          1968,
          1969,
          1970,
          1971,
          1972,
          1973,
          1974,
          1975,
          1976,
          1977,
          1978,
          1979,
          1980,
          1981,
          1982,
          1983,
          1984,
          1985,
          1986,
          1987,
          1988,
          1989,
          1990,
          1991,
          1992,
          1993,
          1994,
          1995,
          1996,
          1997,
          1998,
          1999,
          2000,
          2001,
          2002,
          2003,
          2004,
          2005,
          2006,
          2007,
          2008,
          2009,
          2010,
          2011,
          2012,
          2013,
          2014,
          2015,
          2016,
          2017,
          2018,
          2019
         ],
         "y": [
          null,
          null,
          null,
          null,
          1.2,
          1.2,
          1.4,
          1.4,
          1.4,
          2,
          2.2,
          2.2,
          2.2,
          2.6,
          2,
          2.6,
          3.6,
          4.2,
          3.8,
          4,
          3.4,
          2.4,
          2.2,
          2.2,
          2.6,
          3.2,
          3.6,
          3.2,
          3.4,
          2.8,
          3.6,
          4,
          4.8,
          4.8,
          4.8,
          4.4,
          4.6,
          4.8,
          5,
          6.4,
          6.2,
          6.6,
          6.2,
          6.8,
          6.8,
          8.4,
          7,
          7.2,
          8,
          7,
          6.4,
          7,
          7.8,
          8.2,
          9.6,
          10,
          11,
          11.4,
          11.4,
          12.6,
          12.4,
          14.8,
          16.8,
          18.8,
          19.4,
          20.4,
          20,
          21.8,
          21.4,
          22.4,
          24.2,
          26.6,
          28,
          32.6,
          36,
          39.2,
          39,
          40.6,
          43,
          44.8,
          45,
          50.8,
          54,
          56,
          63.6,
          71.2,
          73.6,
          73,
          74,
          69,
          69,
          70.2,
          72,
          70.8,
          70.2,
          65,
          49.8
         ]
        },
        {
         "marker": {
          "color": "grey"
         },
         "mode": "lines",
         "name": "lower",
         "type": "scatter",
         "x": [
          1915,
          1920,
          1923,
          1924,
          1925,
          1926,
          1927,
          1929,
          1930,
          1931,
          1932,
          1933,
          1935,
          1936,
          1937,
          1938,
          1939,
          1940,
          1941,
          1942,
          1943,
          1944,
          1945,
          1946,
          1947,
          1948,
          1949,
          1950,
          1951,
          1952,
          1953,
          1954,
          1955,
          1956,
          1957,
          1958,
          1959,
          1960,
          1961,
          1962,
          1963,
          1964,
          1965,
          1966,
          1967,
          1968,
          1969,
          1970,
          1971,
          1972,
          1973,
          1974,
          1975,
          1976,
          1977,
          1978,
          1979,
          1980,
          1981,
          1982,
          1983,
          1984,
          1985,
          1986,
          1987,
          1988,
          1989,
          1990,
          1991,
          1992,
          1993,
          1994,
          1995,
          1996,
          1997,
          1998,
          1999,
          2000,
          2001,
          2002,
          2003,
          2004,
          2005,
          2006,
          2007,
          2008,
          2009,
          2010,
          2011,
          2012,
          2013,
          2014,
          2015,
          2016,
          2017,
          2018,
          2019
         ],
         "y": [
          null,
          null,
          null,
          null,
          0.7527864045000421,
          0.7527864045000421,
          0.8522774424948337,
          0.8522774424948337,
          0.8522774424948337,
          0.7752551286084111,
          1.104554884989668,
          1.104554884989668,
          1.104554884989668,
          1.2583592135001263,
          0.7752551286084111,
          0.7834097875415051,
          0.9923190379189406,
          2.03205166113212,
          1.4125327227373354,
          1.8786796564403576,
          1.2091097699793356,
          1.5055728090000842,
          1.7527864045000423,
          1.7527864045000423,
          1.7055728090000843,
          1.8961595189594704,
          2.4598245749008623,
          1.556832327484502,
          1.88342491118969,
          1.0111456180001683,
          0.3136646549690032,
          0.5358983848622456,
          1.7668498223793798,
          1.7668498223793798,
          1.7668498223793798,
          1.9916810842415416,
          1.9923190379189402,
          2.116718427000252,
          2.4504902432036078,
          4.883424911189691,
          4.716760302580868,
          4.650641131038207,
          3.919649149801724,
          4.8764615938328655,
          4.8764615938328655,
          4.753083494237907,
          2.41742430504416,
          2.7615317957655705,
          3.256583509747431,
          1.7559557591492423,
          2.0641033222642404,
          3.2583426132260587,
          4.16681957508301,
          4.052711729334455,
          6.633520605161734,
          6.6833752096446,
          9.129171306613028,
          9.883424911189689,
          9.883424911189689,
          10.297827113355732,
          10.097827113355732,
          10.361531795765572,
          12.250274733569071,
          14.141674120459154,
          15.006823472702239,
          17.991681084241538,
          17.76393202250021,
          16.73048325774537,
          16.37008946401628,
          17.470496982453504,
          20.175077640500376,
          22.1502809077426,
          21.557950636637436,
          24.42687330331898,
          28.823649952796337,
          34.43554830017136,
          33.8521849295065,
          35.00535970772026,
          34.02782077753682,
          35.43517218524547,
          35.699462381130864,
          43.60972879510098,
          46.483351810813545,
          46.699462381130864,
          47.43522347819185,
          58.60238117738118,
          62.631864333442984,
          61.12565791296208,
          62.66421595124537,
          60.139977426665325,
          60.139977426665325,
          60.46860749943771,
          64.51668522645213,
          62.6636617572768,
          61.27251435173375,
          56.368661749183964,
          22.676209704394186
         ]
        },
        {
         "fill": "tonexty",
         "marker": {
          "color": "grey"
         },
         "mode": "lines",
         "name": "higher",
         "type": "scatter",
         "x": [
          1915,
          1920,
          1923,
          1924,
          1925,
          1926,
          1927,
          1929,
          1930,
          1931,
          1932,
          1933,
          1935,
          1936,
          1937,
          1938,
          1939,
          1940,
          1941,
          1942,
          1943,
          1944,
          1945,
          1946,
          1947,
          1948,
          1949,
          1950,
          1951,
          1952,
          1953,
          1954,
          1955,
          1956,
          1957,
          1958,
          1959,
          1960,
          1961,
          1962,
          1963,
          1964,
          1965,
          1966,
          1967,
          1968,
          1969,
          1970,
          1971,
          1972,
          1973,
          1974,
          1975,
          1976,
          1977,
          1978,
          1979,
          1980,
          1981,
          1982,
          1983,
          1984,
          1985,
          1986,
          1987,
          1988,
          1989,
          1990,
          1991,
          1992,
          1993,
          1994,
          1995,
          1996,
          1997,
          1998,
          1999,
          2000,
          2001,
          2002,
          2003,
          2004,
          2005,
          2006,
          2007,
          2008,
          2009,
          2010,
          2011,
          2012,
          2013,
          2014,
          2015,
          2016,
          2017,
          2018,
          2019
         ],
         "y": [
          null,
          null,
          null,
          null,
          1.6472135954999578,
          1.6472135954999578,
          1.9477225575051662,
          1.9477225575051662,
          1.9477225575051662,
          3.224744871391589,
          3.2954451150103323,
          3.2954451150103323,
          3.2954451150103323,
          3.9416407864998737,
          3.224744871391589,
          4.416590212458495,
          6.20768096208106,
          6.36794833886788,
          6.187467277262664,
          6.121320343559642,
          5.590890230020664,
          3.2944271909999157,
          2.647213595499958,
          2.647213595499958,
          3.494427190999916,
          4.50384048104053,
          4.740175425099138,
          4.843167672515499,
          4.91657508881031,
          4.588854381999831,
          6.8863353450309965,
          7.464101615137754,
          7.83315017762062,
          7.83315017762062,
          7.83315017762062,
          6.808318915758459,
          7.207680962081059,
          7.483281572999747,
          7.549509756796392,
          7.91657508881031,
          7.683239697419133,
          8.549358868961793,
          8.480350850198276,
          8.723538406167135,
          8.723538406167135,
          12.046916505762095,
          11.582575694955839,
          11.63846820423443,
          12.743416490252569,
          12.244044240850759,
          10.73589667773576,
          10.74165738677394,
          11.43318042491699,
          12.347288270665544,
          12.566479394838264,
          13.3166247903554,
          12.870828693386972,
          12.916575088810312,
          12.916575088810312,
          14.902172886644268,
          14.702172886644268,
          19.23846820423443,
          21.34972526643093,
          23.458325879540848,
          23.79317652729776,
          22.80831891575846,
          22.23606797749979,
          26.869516742254632,
          26.429910535983716,
          27.329503017546493,
          28.224922359499622,
          31.0497190922574,
          34.442049363362564,
          40.77312669668102,
          43.17635004720366,
          43.96445169982864,
          44.1478150704935,
          46.19464029227974,
          51.97217922246318,
          54.164827814754524,
          54.300537618869136,
          57.99027120489902,
          61.516648189186455,
          65.30053761886914,
          79.76477652180816,
          83.79761882261883,
          84.568135666557,
          84.87434208703792,
          85.33578404875463,
          77.86002257333467,
          77.86002257333467,
          79.9313925005623,
          79.48331477354787,
          78.9363382427232,
          79.12748564826626,
          73.63133825081603,
          76.92379029560581
         ]
        }
       ],
       "layout": {
        "height": 800,
        "showlegend": true,
        "template": {
         "data": {
          "bar": [
           {
            "error_x": {
             "color": "#2a3f5f"
            },
            "error_y": {
             "color": "#2a3f5f"
            },
            "marker": {
             "line": {
              "color": "#E5ECF6",
              "width": 0.5
             }
            },
            "type": "bar"
           }
          ],
          "barpolar": [
           {
            "marker": {
             "line": {
              "color": "#E5ECF6",
              "width": 0.5
             }
            },
            "type": "barpolar"
           }
          ],
          "carpet": [
           {
            "aaxis": {
             "endlinecolor": "#2a3f5f",
             "gridcolor": "white",
             "linecolor": "white",
             "minorgridcolor": "white",
             "startlinecolor": "#2a3f5f"
            },
            "baxis": {
             "endlinecolor": "#2a3f5f",
             "gridcolor": "white",
             "linecolor": "white",
             "minorgridcolor": "white",
             "startlinecolor": "#2a3f5f"
            },
            "type": "carpet"
           }
          ],
          "choropleth": [
           {
            "colorbar": {
             "outlinewidth": 0,
             "ticks": ""
            },
            "type": "choropleth"
           }
          ],
          "contour": [
           {
            "colorbar": {
             "outlinewidth": 0,
             "ticks": ""
            },
            "colorscale": [
             [
              0,
              "#0d0887"
             ],
             [
              0.1111111111111111,
              "#46039f"
             ],
             [
              0.2222222222222222,
              "#7201a8"
             ],
             [
              0.3333333333333333,
              "#9c179e"
             ],
             [
              0.4444444444444444,
              "#bd3786"
             ],
             [
              0.5555555555555556,
              "#d8576b"
             ],
             [
              0.6666666666666666,
              "#ed7953"
             ],
             [
              0.7777777777777778,
              "#fb9f3a"
             ],
             [
              0.8888888888888888,
              "#fdca26"
             ],
             [
              1,
              "#f0f921"
             ]
            ],
            "type": "contour"
           }
          ],
          "contourcarpet": [
           {
            "colorbar": {
             "outlinewidth": 0,
             "ticks": ""
            },
            "type": "contourcarpet"
           }
          ],
          "heatmap": [
           {
            "colorbar": {
             "outlinewidth": 0,
             "ticks": ""
            },
            "colorscale": [
             [
              0,
              "#0d0887"
             ],
             [
              0.1111111111111111,
              "#46039f"
             ],
             [
              0.2222222222222222,
              "#7201a8"
             ],
             [
              0.3333333333333333,
              "#9c179e"
             ],
             [
              0.4444444444444444,
              "#bd3786"
             ],
             [
              0.5555555555555556,
              "#d8576b"
             ],
             [
              0.6666666666666666,
              "#ed7953"
             ],
             [
              0.7777777777777778,
              "#fb9f3a"
             ],
             [
              0.8888888888888888,
              "#fdca26"
             ],
             [
              1,
              "#f0f921"
             ]
            ],
            "type": "heatmap"
           }
          ],
          "heatmapgl": [
           {
            "colorbar": {
             "outlinewidth": 0,
             "ticks": ""
            },
            "colorscale": [
             [
              0,
              "#0d0887"
             ],
             [
              0.1111111111111111,
              "#46039f"
             ],
             [
              0.2222222222222222,
              "#7201a8"
             ],
             [
              0.3333333333333333,
              "#9c179e"
             ],
             [
              0.4444444444444444,
              "#bd3786"
             ],
             [
              0.5555555555555556,
              "#d8576b"
             ],
             [
              0.6666666666666666,
              "#ed7953"
             ],
             [
              0.7777777777777778,
              "#fb9f3a"
             ],
             [
              0.8888888888888888,
              "#fdca26"
             ],
             [
              1,
              "#f0f921"
             ]
            ],
            "type": "heatmapgl"
           }
          ],
          "histogram": [
           {
            "marker": {
             "colorbar": {
              "outlinewidth": 0,
              "ticks": ""
             }
            },
            "type": "histogram"
           }
          ],
          "histogram2d": [
           {
            "colorbar": {
             "outlinewidth": 0,
             "ticks": ""
            },
            "colorscale": [
             [
              0,
              "#0d0887"
             ],
             [
              0.1111111111111111,
              "#46039f"
             ],
             [
              0.2222222222222222,
              "#7201a8"
             ],
             [
              0.3333333333333333,
              "#9c179e"
             ],
             [
              0.4444444444444444,
              "#bd3786"
             ],
             [
              0.5555555555555556,
              "#d8576b"
             ],
             [
              0.6666666666666666,
              "#ed7953"
             ],
             [
              0.7777777777777778,
              "#fb9f3a"
             ],
             [
              0.8888888888888888,
              "#fdca26"
             ],
             [
              1,
              "#f0f921"
             ]
            ],
            "type": "histogram2d"
           }
          ],
          "histogram2dcontour": [
           {
            "colorbar": {
             "outlinewidth": 0,
             "ticks": ""
            },
            "colorscale": [
             [
              0,
              "#0d0887"
             ],
             [
              0.1111111111111111,
              "#46039f"
             ],
             [
              0.2222222222222222,
              "#7201a8"
             ],
             [
              0.3333333333333333,
              "#9c179e"
             ],
             [
              0.4444444444444444,
              "#bd3786"
             ],
             [
              0.5555555555555556,
              "#d8576b"
             ],
             [
              0.6666666666666666,
              "#ed7953"
             ],
             [
              0.7777777777777778,
              "#fb9f3a"
             ],
             [
              0.8888888888888888,
              "#fdca26"
             ],
             [
              1,
              "#f0f921"
             ]
            ],
            "type": "histogram2dcontour"
           }
          ],
          "mesh3d": [
           {
            "colorbar": {
             "outlinewidth": 0,
             "ticks": ""
            },
            "type": "mesh3d"
           }
          ],
          "parcoords": [
           {
            "line": {
             "colorbar": {
              "outlinewidth": 0,
              "ticks": ""
             }
            },
            "type": "parcoords"
           }
          ],
          "pie": [
           {
            "automargin": true,
            "type": "pie"
           }
          ],
          "scatter": [
           {
            "marker": {
             "colorbar": {
              "outlinewidth": 0,
              "ticks": ""
             }
            },
            "type": "scatter"
           }
          ],
          "scatter3d": [
           {
            "line": {
             "colorbar": {
              "outlinewidth": 0,
              "ticks": ""
             }
            },
            "marker": {
             "colorbar": {
              "outlinewidth": 0,
              "ticks": ""
             }
            },
            "type": "scatter3d"
           }
          ],
          "scattercarpet": [
           {
            "marker": {
             "colorbar": {
              "outlinewidth": 0,
              "ticks": ""
             }
            },
            "type": "scattercarpet"
           }
          ],
          "scattergeo": [
           {
            "marker": {
             "colorbar": {
              "outlinewidth": 0,
              "ticks": ""
             }
            },
            "type": "scattergeo"
           }
          ],
          "scattergl": [
           {
            "marker": {
             "colorbar": {
              "outlinewidth": 0,
              "ticks": ""
             }
            },
            "type": "scattergl"
           }
          ],
          "scattermapbox": [
           {
            "marker": {
             "colorbar": {
              "outlinewidth": 0,
              "ticks": ""
             }
            },
            "type": "scattermapbox"
           }
          ],
          "scatterpolar": [
           {
            "marker": {
             "colorbar": {
              "outlinewidth": 0,
              "ticks": ""
             }
            },
            "type": "scatterpolar"
           }
          ],
          "scatterpolargl": [
           {
            "marker": {
             "colorbar": {
              "outlinewidth": 0,
              "ticks": ""
             }
            },
            "type": "scatterpolargl"
           }
          ],
          "scatterternary": [
           {
            "marker": {
             "colorbar": {
              "outlinewidth": 0,
              "ticks": ""
             }
            },
            "type": "scatterternary"
           }
          ],
          "surface": [
           {
            "colorbar": {
             "outlinewidth": 0,
             "ticks": ""
            },
            "colorscale": [
             [
              0,
              "#0d0887"
             ],
             [
              0.1111111111111111,
              "#46039f"
             ],
             [
              0.2222222222222222,
              "#7201a8"
             ],
             [
              0.3333333333333333,
              "#9c179e"
             ],
             [
              0.4444444444444444,
              "#bd3786"
             ],
             [
              0.5555555555555556,
              "#d8576b"
             ],
             [
              0.6666666666666666,
              "#ed7953"
             ],
             [
              0.7777777777777778,
              "#fb9f3a"
             ],
             [
              0.8888888888888888,
              "#fdca26"
             ],
             [
              1,
              "#f0f921"
             ]
            ],
            "type": "surface"
           }
          ],
          "table": [
           {
            "cells": {
             "fill": {
              "color": "#EBF0F8"
             },
             "line": {
              "color": "white"
             }
            },
            "header": {
             "fill": {
              "color": "#C8D4E3"
             },
             "line": {
              "color": "white"
             }
            },
            "type": "table"
           }
          ]
         },
         "layout": {
          "annotationdefaults": {
           "arrowcolor": "#2a3f5f",
           "arrowhead": 0,
           "arrowwidth": 1
          },
          "autotypenumbers": "strict",
          "coloraxis": {
           "colorbar": {
            "outlinewidth": 0,
            "ticks": ""
           }
          },
          "colorscale": {
           "diverging": [
            [
             0,
             "#8e0152"
            ],
            [
             0.1,
             "#c51b7d"
            ],
            [
             0.2,
             "#de77ae"
            ],
            [
             0.3,
             "#f1b6da"
            ],
            [
             0.4,
             "#fde0ef"
            ],
            [
             0.5,
             "#f7f7f7"
            ],
            [
             0.6,
             "#e6f5d0"
            ],
            [
             0.7,
             "#b8e186"
            ],
            [
             0.8,
             "#7fbc41"
            ],
            [
             0.9,
             "#4d9221"
            ],
            [
             1,
             "#276419"
            ]
           ],
           "sequential": [
            [
             0,
             "#0d0887"
            ],
            [
             0.1111111111111111,
             "#46039f"
            ],
            [
             0.2222222222222222,
             "#7201a8"
            ],
            [
             0.3333333333333333,
             "#9c179e"
            ],
            [
             0.4444444444444444,
             "#bd3786"
            ],
            [
             0.5555555555555556,
             "#d8576b"
            ],
            [
             0.6666666666666666,
             "#ed7953"
            ],
            [
             0.7777777777777778,
             "#fb9f3a"
            ],
            [
             0.8888888888888888,
             "#fdca26"
            ],
            [
             1,
             "#f0f921"
            ]
           ],
           "sequentialminus": [
            [
             0,
             "#0d0887"
            ],
            [
             0.1111111111111111,
             "#46039f"
            ],
            [
             0.2222222222222222,
             "#7201a8"
            ],
            [
             0.3333333333333333,
             "#9c179e"
            ],
            [
             0.4444444444444444,
             "#bd3786"
            ],
            [
             0.5555555555555556,
             "#d8576b"
            ],
            [
             0.6666666666666666,
             "#ed7953"
            ],
            [
             0.7777777777777778,
             "#fb9f3a"
            ],
            [
             0.8888888888888888,
             "#fdca26"
            ],
            [
             1,
             "#f0f921"
            ]
           ]
          },
          "colorway": [
           "#636efa",
           "#EF553B",
           "#00cc96",
           "#ab63fa",
           "#FFA15A",
           "#19d3f3",
           "#FF6692",
           "#B6E880",
           "#FF97FF",
           "#FECB52"
          ],
          "font": {
           "color": "#2a3f5f"
          },
          "geo": {
           "bgcolor": "white",
           "lakecolor": "white",
           "landcolor": "#E5ECF6",
           "showlakes": true,
           "showland": true,
           "subunitcolor": "white"
          },
          "hoverlabel": {
           "align": "left"
          },
          "hovermode": "closest",
          "mapbox": {
           "style": "light"
          },
          "paper_bgcolor": "white",
          "plot_bgcolor": "#E5ECF6",
          "polar": {
           "angularaxis": {
            "gridcolor": "white",
            "linecolor": "white",
            "ticks": ""
           },
           "bgcolor": "#E5ECF6",
           "radialaxis": {
            "gridcolor": "white",
            "linecolor": "white",
            "ticks": ""
           }
          },
          "scene": {
           "xaxis": {
            "backgroundcolor": "#E5ECF6",
            "gridcolor": "white",
            "gridwidth": 2,
            "linecolor": "white",
            "showbackground": true,
            "ticks": "",
            "zerolinecolor": "white"
           },
           "yaxis": {
            "backgroundcolor": "#E5ECF6",
            "gridcolor": "white",
            "gridwidth": 2,
            "linecolor": "white",
            "showbackground": true,
            "ticks": "",
            "zerolinecolor": "white"
           },
           "zaxis": {
            "backgroundcolor": "#E5ECF6",
            "gridcolor": "white",
            "gridwidth": 2,
            "linecolor": "white",
            "showbackground": true,
            "ticks": "",
            "zerolinecolor": "white"
           }
          },
          "shapedefaults": {
           "line": {
            "color": "#2a3f5f"
           }
          },
          "ternary": {
           "aaxis": {
            "gridcolor": "white",
            "linecolor": "white",
            "ticks": ""
           },
           "baxis": {
            "gridcolor": "white",
            "linecolor": "white",
            "ticks": ""
           },
           "bgcolor": "#E5ECF6",
           "caxis": {
            "gridcolor": "white",
            "linecolor": "white",
            "ticks": ""
           }
          },
          "title": {
           "x": 0.05
          },
          "xaxis": {
           "automargin": true,
           "gridcolor": "white",
           "linecolor": "white",
           "ticks": "",
           "title": {
            "standoff": 15
           },
           "zerolinecolor": "white",
           "zerolinewidth": 2
          },
          "yaxis": {
           "automargin": true,
           "gridcolor": "white",
           "linecolor": "white",
           "ticks": "",
           "title": {
            "standoff": 15
           },
           "zerolinecolor": "white",
           "zerolinewidth": 2
          }
         }
        },
        "title": {
         "font": {
          "color": "#000000",
          "family": "Arial",
          "size": 20
         },
         "text": "<b>Temporal Trend</b>"
        },
        "width": 1200,
        "xaxis": {
         "autorange": true,
         "range": [
          1915,
          2019
         ],
         "rangeslider": {
          "autorange": true,
          "range": [
           1915,
           2019
          ],
          "visible": true,
          "yaxis": {
           "_template": null,
           "rangemode": "match"
          }
         },
         "type": "linear"
        },
        "yaxis": {
         "autorange": true,
         "range": [
          -4.557798419754942,
          92.87146307472395
         ],
         "type": "linear"
        }
       }
      },
      "image/png": "[encoded data removed]",
      "text/html": [
       "<div>                            <div id=\"f8c0bc1d-b8ba-46bb-92e2-7e6645dea4c0\" class=\"plotly-graph-div\" style=\"height:800px; width:1200px;\"></div>            <script type=\"text/javascript\">                require([\"plotly\"], function(Plotly) {                    window.PLOTLYENV=window.PLOTLYENV || {};                                    if (document.getElementById(\"f8c0bc1d-b8ba-46bb-92e2-7e6645dea4c0\")) {                    Plotly.newPlot(                        \"f8c0bc1d-b8ba-46bb-92e2-7e6645dea4c0\",                        [{\"mode\": \"lines\", \"name\": \"data\", \"type\": \"scatter\", \"x\": [1915.0, 1920.0, 1923.0, 1924.0, 1925.0, 1926.0, 1927.0, 1929.0, 1930.0, 1931.0, 1932.0, 1933.0, 1935.0, 1936.0, 1937.0, 1938.0, 1939.0, 1940.0, 1941.0, 1942.0, 1943.0, 1944.0, 1945.0, 1946.0, 1947.0, 1948.0, 1949.0, 1950.0, 1951.0, 1952.0, 1953.0, 1954.0, 1955.0, 1956.0, 1957.0, 1958.0, 1959.0, 1960.0, 1961.0, 1962.0, 1963.0, 1964.0, 1965.0, 1966.0, 1967.0, 1968.0, 1969.0, 1970.0, 1971.0, 1972.0, 1973.0, 1974.0, 1975.0, 1976.0, 1977.0, 1978.0, 1979.0, 1980.0, 1981.0, 1982.0, 1983.0, 1984.0, 1985.0, 1986.0, 1987.0, 1988.0, 1989.0, 1990.0, 1991.0, 1992.0, 1993.0, 1994.0, 1995.0, 1996.0, 1997.0, 1998.0, 1999.0, 2000.0, 2001.0, 2002.0, 2003.0, 2004.0, 2005.0, 2006.0, 2007.0, 2008.0, 2009.0, 2010.0, 2011.0, 2012.0, 2013.0, 2014.0, 2015.0, 2016.0, 2017.0, 2018.0, 2019.0], \"y\": [1, 1, 1, 2, 1, 1, 2, 1, 2, 4, 2, 2, 1, 4, 1, 5, 7, 4, 2, 2, 2, 2, 3, 2, 4, 5, 4, 1, 3, 1, 9, 6, 5, 3, 1, 7, 7, 6, 4, 8, 6, 9, 4, 7, 8, 14, 2, 5, 11, 3, 11, 5, 9, 13, 10, 13, 10, 11, 13, 16, 12, 22, 21, 23, 19, 17, 20, 30, 21, 24, 26, 32, 37, 44, 41, 42, 31, 45, 56, 50, 43, 60, 61, 66, 88, 81, 72, 58, 71, 63, 81, 78, 67, 65, 60, 55, 2]}, {\"mode\": \"lines\", \"name\": \"moving_average\", \"type\": \"scatter\", \"x\": [1915.0, 1920.0, 1923.0, 1924.0, 1925.0, 1926.0, 1927.0, 1929.0, 1930.0, 1931.0, 1932.0, 1933.0, 1935.0, 1936.0, 1937.0, 1938.0, 1939.0, 1940.0, 1941.0, 1942.0, 1943.0, 1944.0, 1945.0, 1946.0, 1947.0, 1948.0, 1949.0, 1950.0, 1951.0, 1952.0, 1953.0, 1954.0, 1955.0, 1956.0, 1957.0, 1958.0, 1959.0, 1960.0, 1961.0, 1962.0, 1963.0, 1964.0, 1965.0, 1966.0, 1967.0, 1968.0, 1969.0, 1970.0, 1971.0, 1972.0, 1973.0, 1974.0, 1975.0, 1976.0, 1977.0, 1978.0, 1979.0, 1980.0, 1981.0, 1982.0, 1983.0, 1984.0, 1985.0, 1986.0, 1987.0, 1988.0, 1989.0, 1990.0, 1991.0, 1992.0, 1993.0, 1994.0, 1995.0, 1996.0, 1997.0, 1998.0, 1999.0, 2000.0, 2001.0, 2002.0, 2003.0, 2004.0, 2005.0, 2006.0, 2007.0, 2008.0, 2009.0, 2010.0, 2011.0, 2012.0, 2013.0, 2014.0, 2015.0, 2016.0, 2017.0, 2018.0, 2019.0], \"y\": [null, null, null, null, 1.2, 1.2, 1.4, 1.4, 1.4, 2.0, 2.2, 2.2, 2.2, 2.6, 2.0, 2.6, 3.6, 4.2, 3.8, 4.0, 3.4, 2.4, 2.2, 2.2, 2.6, 3.2, 3.6, 3.2, 3.4, 2.8, 3.6, 4.0, 4.8, 4.8, 4.8, 4.4, 4.6, 4.8, 5.0, 6.4, 6.2, 6.6, 6.2, 6.8, 6.8, 8.4, 7.0, 7.2, 8.0, 7.0, 6.4, 7.0, 7.8, 8.2, 9.6, 10.0, 11.0, 11.4, 11.4, 12.6, 12.4, 14.8, 16.8, 18.8, 19.4, 20.4, 20.0, 21.8, 21.4, 22.4, 24.2, 26.6, 28.0, 32.6, 36.0, 39.2, 39.0, 40.6, 43.0, 44.8, 45.0, 50.8, 54.0, 56.0, 63.6, 71.2, 73.6, 73.0, 74.0, 69.0, 69.0, 70.2, 72.0, 70.8, 70.2, 65.0, 49.8]}, {\"marker\": {\"color\": \"grey\"}, \"mode\": \"lines\", \"name\": \"lower\", \"type\": \"scatter\", \"x\": [1915.0, 1920.0, 1923.0, 1924.0, 1925.0, 1926.0, 1927.0, 1929.0, 1930.0, 1931.0, 1932.0, 1933.0, 1935.0, 1936.0, 1937.0, 1938.0, 1939.0, 1940.0, 1941.0, 1942.0, 1943.0, 1944.0, 1945.0, 1946.0, 1947.0, 1948.0, 1949.0, 1950.0, 1951.0, 1952.0, 1953.0, 1954.0, 1955.0, 1956.0, 1957.0, 1958.0, 1959.0, 1960.0, 1961.0, 1962.0, 1963.0, 1964.0, 1965.0, 1966.0, 1967.0, 1968.0, 1969.0, 1970.0, 1971.0, 1972.0, 1973.0, 1974.0, 1975.0, 1976.0, 1977.0, 1978.0, 1979.0, 1980.0, 1981.0, 1982.0, 1983.0, 1984.0, 1985.0, 1986.0, 1987.0, 1988.0, 1989.0, 1990.0, 1991.0, 1992.0, 1993.0, 1994.0, 1995.0, 1996.0, 1997.0, 1998.0, 1999.0, 2000.0, 2001.0, 2002.0, 2003.0, 2004.0, 2005.0, 2006.0, 2007.0, 2008.0, 2009.0, 2010.0, 2011.0, 2012.0, 2013.0, 2014.0, 2015.0, 2016.0, 2017.0, 2018.0, 2019.0], \"y\": [null, null, null, null, 0.7527864045000421, 0.7527864045000421, 0.8522774424948337, 0.8522774424948337, 0.8522774424948337, 0.7752551286084111, 1.104554884989668, 1.104554884989668, 1.104554884989668, 1.2583592135001263, 0.7752551286084111, 0.7834097875415051, 0.9923190379189406, 2.03205166113212, 1.4125327227373354, 1.8786796564403576, 1.2091097699793356, 1.5055728090000842, 1.7527864045000423, 1.7527864045000423, 1.7055728090000843, 1.8961595189594704, 2.4598245749008623, 1.556832327484502, 1.88342491118969, 1.0111456180001683, 0.3136646549690032, 0.5358983848622456, 1.7668498223793798, 1.7668498223793798, 1.7668498223793798, 1.9916810842415416, 1.9923190379189402, 2.116718427000252, 2.4504902432036078, 4.883424911189691, 4.716760302580868, 4.650641131038207, 3.919649149801724, 4.8764615938328655, 4.8764615938328655, 4.753083494237907, 2.41742430504416, 2.7615317957655705, 3.256583509747431, 1.7559557591492423, 2.0641033222642404, 3.2583426132260587, 4.16681957508301, 4.052711729334455, 6.633520605161734, 6.6833752096446, 9.129171306613028, 9.883424911189689, 9.883424911189689, 10.297827113355732, 10.097827113355732, 10.361531795765572, 12.250274733569071, 14.141674120459154, 15.006823472702239, 17.991681084241538, 17.76393202250021, 16.73048325774537, 16.37008946401628, 17.470496982453504, 20.175077640500376, 22.1502809077426, 21.557950636637436, 24.42687330331898, 28.823649952796337, 34.43554830017136, 33.8521849295065, 35.00535970772026, 34.02782077753682, 35.43517218524547, 35.699462381130864, 43.60972879510098, 46.483351810813545, 46.699462381130864, 47.43522347819185, 58.60238117738118, 62.631864333442984, 61.12565791296208, 62.66421595124537, 60.139977426665325, 60.139977426665325, 60.46860749943771, 64.51668522645213, 62.6636617572768, 61.27251435173375, 56.368661749183964, 22.676209704394186]}, {\"fill\": \"tonexty\", \"marker\": {\"color\": \"grey\"}, \"mode\": \"lines\", \"name\": \"higher\", \"type\": \"scatter\", \"x\": [1915.0, 1920.0, 1923.0, 1924.0, 1925.0, 1926.0, 1927.0, 1929.0, 1930.0, 1931.0, 1932.0, 1933.0, 1935.0, 1936.0, 1937.0, 1938.0, 1939.0, 1940.0, 1941.0, 1942.0, 1943.0, 1944.0, 1945.0, 1946.0, 1947.0, 1948.0, 1949.0, 1950.0, 1951.0, 1952.0, 1953.0, 1954.0, 1955.0, 1956.0, 1957.0, 1958.0, 1959.0, 1960.0, 1961.0, 1962.0, 1963.0, 1964.0, 1965.0, 1966.0, 1967.0, 1968.0, 1969.0, 1970.0, 1971.0, 1972.0, 1973.0, 1974.0, 1975.0, 1976.0, 1977.0, 1978.0, 1979.0, 1980.0, 1981.0, 1982.0, 1983.0, 1984.0, 1985.0, 1986.0, 1987.0, 1988.0, 1989.0, 1990.0, 1991.0, 1992.0, 1993.0, 1994.0, 1995.0, 1996.0, 1997.0, 1998.0, 1999.0, 2000.0, 2001.0, 2002.0, 2003.0, 2004.0, 2005.0, 2006.0, 2007.0, 2008.0, 2009.0, 2010.0, 2011.0, 2012.0, 2013.0, 2014.0, 2015.0, 2016.0, 2017.0, 2018.0, 2019.0], \"y\": [null, null, null, null, 1.6472135954999578, 1.6472135954999578, 1.9477225575051662, 1.9477225575051662, 1.9477225575051662, 3.224744871391589, 3.2954451150103323, 3.2954451150103323, 3.2954451150103323, 3.9416407864998737, 3.224744871391589, 4.416590212458495, 6.20768096208106, 6.36794833886788, 6.187467277262664, 6.121320343559642, 5.590890230020664, 3.2944271909999157, 2.647213595499958, 2.647213595499958, 3.494427190999916, 4.50384048104053, 4.740175425099138, 4.843167672515499, 4.91657508881031, 4.588854381999831, 6.8863353450309965, 7.464101615137754, 7.83315017762062, 7.83315017762062, 7.83315017762062, 6.808318915758459, 7.207680962081059, 7.483281572999747, 7.549509756796392, 7.91657508881031, 7.683239697419133, 8.549358868961793, 8.480350850198276, 8.723538406167135, 8.723538406167135, 12.046916505762095, 11.582575694955839, 11.63846820423443, 12.743416490252569, 12.244044240850759, 10.73589667773576, 10.74165738677394, 11.43318042491699, 12.347288270665544, 12.566479394838264, 13.3166247903554, 12.870828693386972, 12.916575088810312, 12.916575088810312, 14.902172886644268, 14.702172886644268, 19.23846820423443, 21.34972526643093, 23.458325879540848, 23.79317652729776, 22.80831891575846, 22.23606797749979, 26.869516742254632, 26.429910535983716, 27.329503017546493, 28.224922359499622, 31.0497190922574, 34.442049363362564, 40.77312669668102, 43.17635004720366, 43.96445169982864, 44.1478150704935, 46.19464029227974, 51.97217922246318, 54.164827814754524, 54.300537618869136, 57.99027120489902, 61.516648189186455, 65.30053761886914, 79.76477652180816, 83.79761882261883, 84.568135666557, 84.87434208703792, 85.33578404875463, 77.86002257333467, 77.86002257333467, 79.9313925005623, 79.48331477354787, 78.9363382427232, 79.12748564826626, 73.63133825081603, 76.92379029560581]}],                        {\"height\": 800, \"showlegend\": true, \"template\": {\"data\": {\"bar\": [{\"error_x\": {\"color\": \"#2a3f5f\"}, \"error_y\": {\"color\": \"#2a3f5f\"}, \"marker\": {\"line\": {\"color\": \"#E5ECF6\", \"width\": 0.5}}, \"type\": \"bar\"}], \"barpolar\": [{\"marker\": {\"line\": {\"color\": \"#E5ECF6\", \"width\": 0.5}}, \"type\": \"barpolar\"}], \"carpet\": [{\"aaxis\": {\"endlinecolor\": \"#2a3f5f\", \"gridcolor\": \"white\", \"linecolor\": \"white\", \"minorgridcolor\": \"white\", \"startlinecolor\": \"#2a3f5f\"}, \"baxis\": {\"endlinecolor\": \"#2a3f5f\", \"gridcolor\": \"white\", \"linecolor\": \"white\", \"minorgridcolor\": \"white\", \"startlinecolor\": \"#2a3f5f\"}, \"type\": \"carpet\"}], \"choropleth\": [{\"colorbar\": {\"outlinewidth\": 0, \"ticks\": \"\"}, \"type\": \"choropleth\"}], \"contour\": [{\"colorbar\": {\"outlinewidth\": 0, \"ticks\": \"\"}, \"colorscale\": [[0.0, \"#0d0887\"], [0.1111111111111111, \"#46039f\"], [0.2222222222222222, \"#7201a8\"], [0.3333333333333333, \"#9c179e\"], [0.4444444444444444, \"#bd3786\"], [0.5555555555555556, \"#d8576b\"], [0.6666666666666666, \"#ed7953\"], [0.7777777777777778, \"#fb9f3a\"], [0.8888888888888888, \"#fdca26\"], [1.0, \"#f0f921\"]], \"type\": \"contour\"}], \"contourcarpet\": [{\"colorbar\": {\"outlinewidth\": 0, \"ticks\": \"\"}, \"type\": \"contourcarpet\"}], \"heatmap\": [{\"colorbar\": {\"outlinewidth\": 0, \"ticks\": \"\"}, \"colorscale\": [[0.0, \"#0d0887\"], [0.1111111111111111, \"#46039f\"], [0.2222222222222222, \"#7201a8\"], [0.3333333333333333, \"#9c179e\"], [0.4444444444444444, \"#bd3786\"], [0.5555555555555556, \"#d8576b\"], [0.6666666666666666, \"#ed7953\"], [0.7777777777777778, \"#fb9f3a\"], [0.8888888888888888, \"#fdca26\"], [1.0, \"#f0f921\"]], \"type\": \"heatmap\"}], \"heatmapgl\": [{\"colorbar\": {\"outlinewidth\": 0, \"ticks\": \"\"}, \"colorscale\": [[0.0, \"#0d0887\"], [0.1111111111111111, \"#46039f\"], [0.2222222222222222, \"#7201a8\"], [0.3333333333333333, \"#9c179e\"], [0.4444444444444444, \"#bd3786\"], [0.5555555555555556, \"#d8576b\"], [0.6666666666666666, \"#ed7953\"], [0.7777777777777778, \"#fb9f3a\"], [0.8888888888888888, \"#fdca26\"], [1.0, \"#f0f921\"]], \"type\": \"heatmapgl\"}], \"histogram\": [{\"marker\": {\"colorbar\": {\"outlinewidth\": 0, \"ticks\": \"\"}}, \"type\": \"histogram\"}], \"histogram2d\": [{\"colorbar\": {\"outlinewidth\": 0, \"ticks\": \"\"}, \"colorscale\": [[0.0, \"#0d0887\"], [0.1111111111111111, \"#46039f\"], [0.2222222222222222, \"#7201a8\"], [0.3333333333333333, \"#9c179e\"], [0.4444444444444444, \"#bd3786\"], [0.5555555555555556, \"#d8576b\"], [0.6666666666666666, \"#ed7953\"], [0.7777777777777778, \"#fb9f3a\"], [0.8888888888888888, \"#fdca26\"], [1.0, \"#f0f921\"]], \"type\": \"histogram2d\"}], \"histogram2dcontour\": [{\"colorbar\": {\"outlinewidth\": 0, \"ticks\": \"\"}, \"colorscale\": [[0.0, \"#0d0887\"], [0.1111111111111111, \"#46039f\"], [0.2222222222222222, \"#7201a8\"], [0.3333333333333333, \"#9c179e\"], [0.4444444444444444, \"#bd3786\"], [0.5555555555555556, \"#d8576b\"], [0.6666666666666666, \"#ed7953\"], [0.7777777777777778, \"#fb9f3a\"], [0.8888888888888888, \"#fdca26\"], [1.0, \"#f0f921\"]], \"type\": \"histogram2dcontour\"}], \"mesh3d\": [{\"colorbar\": {\"outlinewidth\": 0, \"ticks\": \"\"}, \"type\": \"mesh3d\"}], \"parcoords\": [{\"line\": {\"colorbar\": {\"outlinewidth\": 0, \"ticks\": \"\"}}, \"type\": \"parcoords\"}], \"pie\": [{\"automargin\": true, \"type\": \"pie\"}], \"scatter\": [{\"marker\": {\"colorbar\": {\"outlinewidth\": 0, \"ticks\": \"\"}}, \"type\": \"scatter\"}], \"scatter3d\": [{\"line\": {\"colorbar\": {\"outlinewidth\": 0, \"ticks\": \"\"}}, \"marker\": {\"colorbar\": {\"outlinewidth\": 0, \"ticks\": \"\"}}, \"type\": \"scatter3d\"}], \"scattercarpet\": [{\"marker\": {\"colorbar\": {\"outlinewidth\": 0, \"ticks\": \"\"}}, \"type\": \"scattercarpet\"}], \"scattergeo\": [{\"marker\": {\"colorbar\": {\"outlinewidth\": 0, \"ticks\": \"\"}}, \"type\": \"scattergeo\"}], \"scattergl\": [{\"marker\": {\"colorbar\": {\"outlinewidth\": 0, \"ticks\": \"\"}}, \"type\": \"scattergl\"}], \"scattermapbox\": [{\"marker\": {\"colorbar\": {\"outlinewidth\": 0, \"ticks\": \"\"}}, \"type\": \"scattermapbox\"}], \"scatterpolar\": [{\"marker\": {\"colorbar\": {\"outlinewidth\": 0, \"ticks\": \"\"}}, \"type\": \"scatterpolar\"}], \"scatterpolargl\": [{\"marker\": {\"colorbar\": {\"outlinewidth\": 0, \"ticks\": \"\"}}, \"type\": \"scatterpolargl\"}], \"scatterternary\": [{\"marker\": {\"colorbar\": {\"outlinewidth\": 0, \"ticks\": \"\"}}, \"type\": \"scatterternary\"}], \"surface\": [{\"colorbar\": {\"outlinewidth\": 0, \"ticks\": \"\"}, \"colorscale\": [[0.0, \"#0d0887\"], [0.1111111111111111, \"#46039f\"], [0.2222222222222222, \"#7201a8\"], [0.3333333333333333, \"#9c179e\"], [0.4444444444444444, \"#bd3786\"], [0.5555555555555556, \"#d8576b\"], [0.6666666666666666, \"#ed7953\"], [0.7777777777777778, \"#fb9f3a\"], [0.8888888888888888, \"#fdca26\"], [1.0, \"#f0f921\"]], \"type\": \"surface\"}], \"table\": [{\"cells\": {\"fill\": {\"color\": \"#EBF0F8\"}, \"line\": {\"color\": \"white\"}}, \"header\": {\"fill\": {\"color\": \"#C8D4E3\"}, \"line\": {\"color\": \"white\"}}, \"type\": \"table\"}]}, \"layout\": {\"annotationdefaults\": {\"arrowcolor\": \"#2a3f5f\", \"arrowhead\": 0, \"arrowwidth\": 1}, \"autotypenumbers\": \"strict\", \"coloraxis\": {\"colorbar\": {\"outlinewidth\": 0, \"ticks\": \"\"}}, \"colorscale\": {\"diverging\": [[0, \"#8e0152\"], [0.1, \"#c51b7d\"], [0.2, \"#de77ae\"], [0.3, \"#f1b6da\"], [0.4, \"#fde0ef\"], [0.5, \"#f7f7f7\"], [0.6, \"#e6f5d0\"], [0.7, \"#b8e186\"], [0.8, \"#7fbc41\"], [0.9, \"#4d9221\"], [1, \"#276419\"]], \"sequential\": [[0.0, \"#0d0887\"], [0.1111111111111111, \"#46039f\"], [0.2222222222222222, \"#7201a8\"], [0.3333333333333333, \"#9c179e\"], [0.4444444444444444, \"#bd3786\"], [0.5555555555555556, \"#d8576b\"], [0.6666666666666666, \"#ed7953\"], [0.7777777777777778, \"#fb9f3a\"], [0.8888888888888888, \"#fdca26\"], [1.0, \"#f0f921\"]], \"sequentialminus\": [[0.0, \"#0d0887\"], [0.1111111111111111, \"#46039f\"], [0.2222222222222222, \"#7201a8\"], [0.3333333333333333, \"#9c179e\"], [0.4444444444444444, \"#bd3786\"], [0.5555555555555556, \"#d8576b\"], [0.6666666666666666, \"#ed7953\"], [0.7777777777777778, \"#fb9f3a\"], [0.8888888888888888, \"#fdca26\"], [1.0, \"#f0f921\"]]}, \"colorway\": [\"#636efa\", \"#EF553B\", \"#00cc96\", \"#ab63fa\", \"#FFA15A\", \"#19d3f3\", \"#FF6692\", \"#B6E880\", \"#FF97FF\", \"#FECB52\"], \"font\": {\"color\": \"#2a3f5f\"}, \"geo\": {\"bgcolor\": \"white\", \"lakecolor\": \"white\", \"landcolor\": \"#E5ECF6\", \"showlakes\": true, \"showland\": true, \"subunitcolor\": \"white\"}, \"hoverlabel\": {\"align\": \"left\"}, \"hovermode\": \"closest\", \"mapbox\": {\"style\": \"light\"}, \"paper_bgcolor\": \"white\", \"plot_bgcolor\": \"#E5ECF6\", \"polar\": {\"angularaxis\": {\"gridcolor\": \"white\", \"linecolor\": \"white\", \"ticks\": \"\"}, \"bgcolor\": \"#E5ECF6\", \"radialaxis\": {\"gridcolor\": \"white\", \"linecolor\": \"white\", \"ticks\": \"\"}}, \"scene\": {\"xaxis\": {\"backgroundcolor\": \"#E5ECF6\", \"gridcolor\": \"white\", \"gridwidth\": 2, \"linecolor\": \"white\", \"showbackground\": true, \"ticks\": \"\", \"zerolinecolor\": \"white\"}, \"yaxis\": {\"backgroundcolor\": \"#E5ECF6\", \"gridcolor\": \"white\", \"gridwidth\": 2, \"linecolor\": \"white\", \"showbackground\": true, \"ticks\": \"\", \"zerolinecolor\": \"white\"}, \"zaxis\": {\"backgroundcolor\": \"#E5ECF6\", \"gridcolor\": \"white\", \"gridwidth\": 2, \"linecolor\": \"white\", \"showbackground\": true, \"ticks\": \"\", \"zerolinecolor\": \"white\"}}, \"shapedefaults\": {\"line\": {\"color\": \"#2a3f5f\"}}, \"ternary\": {\"aaxis\": {\"gridcolor\": \"white\", \"linecolor\": \"white\", \"ticks\": \"\"}, \"baxis\": {\"gridcolor\": \"white\", \"linecolor\": \"white\", \"ticks\": \"\"}, \"bgcolor\": \"#E5ECF6\", \"caxis\": {\"gridcolor\": \"white\", \"linecolor\": \"white\", \"ticks\": \"\"}}, \"title\": {\"x\": 0.05}, \"xaxis\": {\"automargin\": true, \"gridcolor\": \"white\", \"linecolor\": \"white\", \"ticks\": \"\", \"title\": {\"standoff\": 15}, \"zerolinecolor\": \"white\", \"zerolinewidth\": 2}, \"yaxis\": {\"automargin\": true, \"gridcolor\": \"white\", \"linecolor\": \"white\", \"ticks\": \"\", \"title\": {\"standoff\": 15}, \"zerolinecolor\": \"white\", \"zerolinewidth\": 2}}}, \"title\": {\"font\": {\"color\": \"#000000\", \"family\": \"Arial\", \"size\": 20}, \"text\": \"<b>Temporal Trend</b>\"}, \"width\": 1200, \"xaxis\": {\"rangeslider\": {\"visible\": true}}},                        {\"responsive\": true}                    ).then(function(){\n",
       "                            \n",
       "var gd = document.getElementById('f8c0bc1d-b8ba-46bb-92e2-7e6645dea4c0');\n",
       "var x = new MutationObserver(function (mutations, observer) {{\n",
       "        var display = window.getComputedStyle(gd).display;\n",
       "        if (!display || display === 'none') {{\n",
       "            console.log([gd, 'removed!']);\n",
       "            Plotly.purge(gd);\n",
       "            observer.disconnect();\n",
       "        }}\n",
       "}});\n",
       "\n",
       "// Listen for the removal of the full notebook cells\n",
       "var notebookContainer = gd.closest('#notebook-container');\n",
       "if (notebookContainer) {{\n",
       "    x.observe(notebookContainer, {childList: true});\n",
       "}}\n",
       "\n",
       "// Listen for the clearing of the current output cell\n",
       "var outputEl = gd.closest('.output');\n",
       "if (outputEl) {{\n",
       "    x.observe(outputEl, {childList: true});\n",
       "}}\n",
       "\n",
       "                        })                };                });            </script>        </div>"
      ]
     },
     "metadata": {},
     "output_type": "display_data"
    }
   ],
   "source": [
    "fig = trends.classic_trend(smoothing_scale=5, # 2 years\n",
    "                    context_scale=5, # 5 years\n",
    "                    height=800,\n",
    "                    width=1200,\n",
    "                    stv_scale=1) # the stv over the context_scale\n",
    "\n",
    "fig.show()"
   ]
  },
  {
   "cell_type": "code",
   "execution_count": 8,
   "id": "473fc595-efe6-445f-92f9-fb5bbaf5a263",
   "metadata": {},
   "outputs": [],
   "source": [
    "# If you wish to export the .html fig\n",
    "import plotly\n",
    "plotly.offline.plot(fig, filename = 'fig.html', auto_open=False)"
   ]
  }
 ],
 "metadata": {
  "kernelspec": {
   "display_name": "Python 3 (ipykernel)",
   "language": "python",
   "name": "python3"
  },
  "language_info": {
   "codemirror_mode": {
    "name": "ipython",
    "version": 3
   },
   "file_extension": ".py",
   "mimetype": "text/x-python",
   "name": "python",
   "nbconvert_exporter": "python",
   "pygments_lexer": "ipython3",
   "version": "3.8.14"
  }
 },
 "nbformat": 4,
 "nbformat_minor": 5
}
