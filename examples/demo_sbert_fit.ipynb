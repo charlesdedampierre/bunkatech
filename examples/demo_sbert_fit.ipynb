{
 "cells": [
  {
   "cell_type": "code",
   "execution_count": 2,
   "id": "8db62982-91fb-4b2f-94de-24cac563356b",
   "metadata": {},
   "outputs": [],
   "source": [
    "import pandas as pd\n",
    "import pickle\n",
    "from bunkatech.classifier.sbert_fit import sbert_fit"
   ]
  },
  {
   "cell_type": "code",
   "execution_count": 10,
   "id": "6dcbfd27-4ab2-438e-bb34-498a3225370c",
   "metadata": {},
   "outputs": [],
   "source": [
    "df = pd.read_csv(\"data/imdb_movies.csv\", index_col=[0])\n",
    "df = df.sample(100)"
   ]
  },
  {
   "cell_type": "code",
   "execution_count": null,
   "id": "a3615bda-790f-42a9-894f-cb17fad1a0e1",
   "metadata": {},
   "outputs": [],
   "source": [
    "# First a sbert on a classification task\n",
    "\n",
    "model_fitted = sbert_fit(\n",
    "    df,\n",
    "    col_text=\"description\",\n",
    "    col_label=\"iw\",\n",
    "    st_model=\"distiluse-base-multilingual-cased-v1\",\n",
    "    num_training=32,\n",
    "    num_itr=5,\n",
    ")\n",
    "\n",
    "pickle.dump(\n",
    "    model_fitted,\n",
    "    open(\n",
    "        \"sbert_fitted.pkl\",\n",
    "        \"wb\",\n",
    "    ),\n",
    ")"
   ]
  },
  {
   "cell_type": "code",
   "execution_count": null,
   "id": "bd1e8762-384b-4e34-b7dc-7fb67de48463",
   "metadata": {},
   "outputs": [],
   "source": []
  }
 ],
 "metadata": {
  "kernelspec": {
   "display_name": "Python 3 (ipykernel)",
   "language": "python",
   "name": "python3"
  },
  "language_info": {
   "codemirror_mode": {
    "name": "ipython",
    "version": 3
   },
   "file_extension": ".py",
   "mimetype": "text/x-python",
   "name": "python",
   "nbconvert_exporter": "python",
   "pygments_lexer": "ipython3",
   "version": "3.8.2"
  }
 },
 "nbformat": 4,
 "nbformat_minor": 5
}
