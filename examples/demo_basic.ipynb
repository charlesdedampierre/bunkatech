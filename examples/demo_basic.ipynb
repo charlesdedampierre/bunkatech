{
 "cells": [
  {
   "cell_type": "markdown",
   "id": "ddfb21fc-3706-4a00-8097-5e5ce65b5172",
   "metadata": {},
   "source": [
    "## Demo BasicSemantics"
   ]
  },
  {
   "cell_type": "markdown",
   "id": "7c166a32-5ca7-4f4f-8a27-6cb08e4901ce",
   "metadata": {},
   "source": [
    "Basis Semantic is the core class of bunkatech. It carries out the basic operations, namely: \n",
    "- terms extraction\n",
    "- terms embeddings\n",
    "- document embeddings"
   ]
  },
  {
   "cell_type": "code",
   "execution_count": 2,
   "id": "844db572-9606-45f2-948c-5c336a68ecc5",
   "metadata": {},
   "outputs": [],
   "source": [
    "import pandas as pd\n",
    "from bunkatech import BasicSemantics\n",
    "from sklearn.datasets import fetch_20newsgroups\n",
    " \n",
    "# Load Data\n",
    "docs = fetch_20newsgroups(subset='all',  remove=('headers', 'footers', 'quotes'))['data']\n",
    "data = pd.DataFrame(docs, columns = ['docs'])\n",
    "data = data.sample(2000, random_state = 42).reset_index(drop=True)\n",
    "data['doc_index'] = data.index"
   ]
  },
  {
   "cell_type": "markdown",
   "id": "4feb00b7-3c5d-4016-aaa8-7f3e5f836d69",
   "metadata": {},
   "source": [
    "###  Instantiate the BasicSemantics class"
   ]
  },
  {
   "cell_type": "code",
   "execution_count": 3,
   "id": "a2ca4d74-7f36-4770-9d8f-711d30e20806",
   "metadata": {},
   "outputs": [],
   "source": [
    "basic = BasicSemantics(data,\n",
    "        text_var = 'docs',\n",
    "        index_var = 'doc_index',\n",
    "        terms_path=None, # no pre-extracted terms\n",
    "        terms_embeddings_path=None, # no pre-computed terms embeddings\n",
    "        docs_embeddings_path=None) # no pre-computed docs embeddings"
   ]
  },
  {
   "cell_type": "markdown",
   "id": "84ac6107-9648-4550-a171-08e8fb3c0c96",
   "metadata": {},
   "source": [
    "#### Fit the class"
   ]
  },
  {
   "cell_type": "markdown",
   "id": "0a27ccdf-ddc2-4aa1-8b62-28c373f50e03",
   "metadata": {},
   "source": [
    "For multilangue embedding, **distiluse-base-multilingual-cased-v1** is the best to use. For only english, you may use **all-MiniLM-L6-v2**"
   ]
  },
  {
   "cell_type": "code",
   "execution_count": 4,
   "id": "bb5b0ba8-30d0-4cd6-8abc-51908643256b",
   "metadata": {},
   "outputs": [
    {
     "name": "stderr",
     "output_type": "stream",
     "text": [
      "100%|█████████████████████████████████████████████████████████████████████████████| 1000/1000 [00:11<00:00, 83.83it/s]\n"
     ]
    },
    {
     "data": {
      "application/vnd.jupyter.widget-view+json": {
       "model_id": "685ae7563d544107a6b0c6d0f4eb8cef",
       "version_major": 2,
       "version_minor": 0
      },
      "text/plain": [
       "Batches:   0%|          | 0/63 [00:00<?, ?it/s]"
      ]
     },
     "metadata": {},
     "output_type": "display_data"
    },
    {
     "name": "stdout",
     "output_type": "stream",
     "text": [
      "Start Embedding...\n"
     ]
    },
    {
     "data": {
      "application/vnd.jupyter.widget-view+json": {
       "model_id": "06839b96d006406eb36479e6a9e2fbb5",
       "version_major": 2,
       "version_minor": 0
      },
      "text/plain": [
       "Batches:   0%|          | 0/63 [00:00<?, ?it/s]"
      ]
     },
     "metadata": {},
     "output_type": "display_data"
    },
    {
     "name": "stdout",
     "output_type": "stream",
     "text": [
      "UMAP(n_components=5, verbose=True)\n",
      "Wed Mar 30 14:57:17 2022 Construct fuzzy simplicial set\n",
      "Wed Mar 30 14:57:18 2022 Finding Nearest Neighbors\n",
      "Wed Mar 30 14:57:20 2022 Finished Nearest Neighbor Search\n",
      "Wed Mar 30 14:57:21 2022 Construct embedding\n"
     ]
    },
    {
     "data": {
      "application/vnd.jupyter.widget-view+json": {
       "model_id": "e9d5ed2293cc46f0b7e903464f8a21ae",
       "version_major": 2,
       "version_minor": 0
      },
      "text/plain": [
       "Epochs completed:   0%|            0/500 [00:00]"
      ]
     },
     "metadata": {},
     "output_type": "display_data"
    },
    {
     "name": "stdout",
     "output_type": "stream",
     "text": [
      "Wed Mar 30 14:57:23 2022 Finished embedding\n"
     ]
    }
   ],
   "source": [
    "basic.fit(extract_terms=True, # Extract terms\n",
    "          language=\"en\", # Language of extraction terms\n",
    "           sample_size_terms=1000, # Sample to extract terms from\n",
    "            terms_ents=True, # Extract entities as part of terms\n",
    "            terms_include_types=[\"PERSON\", \"ORG\"], # Chose entities to keep from entities\n",
    "            terms_ncs=False, # Extract nouns chuncks as part of terms\n",
    "            terms_ngrams=(2, 2), # Chose ngrams to extract, bigrams are recommended\n",
    "            terms_include_pos=[\"NOUN\", \"PROPN\", \"ADJ\"], # Chose part-of-speech to keep from n-grams\n",
    "            terms_limit=2000, # Top extracted Terms to keep\n",
    "            terms_embedding=True, # Embed the Extracted terms\n",
    "            docs_embedding=True, # Embed the documents\n",
    "            terms_embedding_model=\"all-MiniLM-L6-v2\", # Terms Embedding model\n",
    "            docs_embedding_model=\"all-MiniLM-L6-v2\", # Docs Embedding model\n",
    "            docs_dimension_reduction = 5, # Number of dimensions to reduce the docs embedding. Enter False if you do not want to wish to reduce.\n",
    "            docs_multiprocessing = False, # You can multiprocess the process to accelerate the embeddings of documents\n",
    "            ) "
   ]
  },
  {
   "cell_type": "markdown",
   "id": "79838b99-be51-4499-8d51-275edc27ab3d",
   "metadata": {},
   "source": [
    "#### Display the results"
   ]
  },
  {
   "cell_type": "code",
   "execution_count": 5,
   "id": "c25ec3ad-0f8a-4d82-bab6-e5b05eca5050",
   "metadata": {},
   "outputs": [],
   "source": [
    "terms = basic.terms # Display extracted terms\n",
    "terms_embeddings = basic.terms_embeddings # Display terms embeddings\n",
    "docs_embeddings = basic.docs_embeddings # Display docs embeddings"
   ]
  },
  {
   "cell_type": "code",
   "execution_count": 6,
   "id": "73684474-632a-4019-bb44-5553fae31108",
   "metadata": {},
   "outputs": [
    {
     "data": {
      "text/html": [
       "<div>\n",
       "<style scoped>\n",
       "    .dataframe tbody tr th:only-of-type {\n",
       "        vertical-align: middle;\n",
       "    }\n",
       "\n",
       "    .dataframe tbody tr th {\n",
       "        vertical-align: top;\n",
       "    }\n",
       "\n",
       "    .dataframe thead th {\n",
       "        text-align: right;\n",
       "    }\n",
       "</style>\n",
       "<table border=\"1\" class=\"dataframe\">\n",
       "  <thead>\n",
       "    <tr style=\"text-align: right;\">\n",
       "      <th></th>\n",
       "      <th>lemma</th>\n",
       "      <th>count_terms</th>\n",
       "      <th>text</th>\n",
       "      <th>main form</th>\n",
       "      <th>ent</th>\n",
       "    </tr>\n",
       "  </thead>\n",
       "  <tbody>\n",
       "    <tr>\n",
       "      <th>0</th>\n",
       "      <td>fbi</td>\n",
       "      <td>16</td>\n",
       "      <td>FBI</td>\n",
       "      <td>fbi</td>\n",
       "      <td>ORG</td>\n",
       "    </tr>\n",
       "    <tr>\n",
       "      <th>1</th>\n",
       "      <td>sun</td>\n",
       "      <td>16</td>\n",
       "      <td>Sun | SUN</td>\n",
       "      <td>sun</td>\n",
       "      <td>ORG | PERSON</td>\n",
       "    </tr>\n",
       "    <tr>\n",
       "      <th>2</th>\n",
       "      <td>faq</td>\n",
       "      <td>15</td>\n",
       "      <td>FAQ</td>\n",
       "      <td>faq</td>\n",
       "      <td>ORG</td>\n",
       "    </tr>\n",
       "    <tr>\n",
       "      <th>3</th>\n",
       "      <td>ibm</td>\n",
       "      <td>15</td>\n",
       "      <td>IBM</td>\n",
       "      <td>ibm</td>\n",
       "      <td>ORG</td>\n",
       "    </tr>\n",
       "    <tr>\n",
       "      <th>4</th>\n",
       "      <td>apple</td>\n",
       "      <td>14</td>\n",
       "      <td>Apple</td>\n",
       "      <td>apple</td>\n",
       "      <td>ORG</td>\n",
       "    </tr>\n",
       "  </tbody>\n",
       "</table>\n",
       "</div>"
      ],
      "text/plain": [
       "   lemma  count_terms       text main form           ent\n",
       "0    fbi           16        FBI       fbi           ORG\n",
       "1    sun           16  Sun | SUN       sun  ORG | PERSON\n",
       "2    faq           15        FAQ       faq           ORG\n",
       "3    ibm           15        IBM       ibm           ORG\n",
       "4  apple           14      Apple     apple           ORG"
      ]
     },
     "execution_count": 6,
     "metadata": {},
     "output_type": "execute_result"
    }
   ],
   "source": [
    "terms.head(5)"
   ]
  },
  {
   "cell_type": "code",
   "execution_count": 7,
   "id": "8a6e7571-2803-44c3-a6c2-4054f96f7054",
   "metadata": {},
   "outputs": [
    {
     "data": {
      "text/html": [
       "<div>\n",
       "<style scoped>\n",
       "    .dataframe tbody tr th:only-of-type {\n",
       "        vertical-align: middle;\n",
       "    }\n",
       "\n",
       "    .dataframe tbody tr th {\n",
       "        vertical-align: top;\n",
       "    }\n",
       "\n",
       "    .dataframe thead th {\n",
       "        text-align: right;\n",
       "    }\n",
       "</style>\n",
       "<table border=\"1\" class=\"dataframe\">\n",
       "  <thead>\n",
       "    <tr style=\"text-align: right;\">\n",
       "      <th></th>\n",
       "      <th>0</th>\n",
       "      <th>1</th>\n",
       "      <th>2</th>\n",
       "      <th>3</th>\n",
       "      <th>4</th>\n",
       "      <th>5</th>\n",
       "      <th>6</th>\n",
       "      <th>7</th>\n",
       "      <th>8</th>\n",
       "      <th>9</th>\n",
       "      <th>...</th>\n",
       "      <th>374</th>\n",
       "      <th>375</th>\n",
       "      <th>376</th>\n",
       "      <th>377</th>\n",
       "      <th>378</th>\n",
       "      <th>379</th>\n",
       "      <th>380</th>\n",
       "      <th>381</th>\n",
       "      <th>382</th>\n",
       "      <th>383</th>\n",
       "    </tr>\n",
       "  </thead>\n",
       "  <tbody>\n",
       "    <tr>\n",
       "      <th>fbi</th>\n",
       "      <td>-0.010757</td>\n",
       "      <td>-0.022580</td>\n",
       "      <td>-0.072251</td>\n",
       "      <td>0.027075</td>\n",
       "      <td>0.028994</td>\n",
       "      <td>-0.062471</td>\n",
       "      <td>0.082013</td>\n",
       "      <td>0.005155</td>\n",
       "      <td>0.013121</td>\n",
       "      <td>-0.025359</td>\n",
       "      <td>...</td>\n",
       "      <td>0.069753</td>\n",
       "      <td>-0.038552</td>\n",
       "      <td>0.022208</td>\n",
       "      <td>0.011805</td>\n",
       "      <td>-0.099422</td>\n",
       "      <td>0.011224</td>\n",
       "      <td>0.052369</td>\n",
       "      <td>-0.007461</td>\n",
       "      <td>0.111011</td>\n",
       "      <td>-0.064966</td>\n",
       "    </tr>\n",
       "    <tr>\n",
       "      <th>sun</th>\n",
       "      <td>-0.034100</td>\n",
       "      <td>0.110354</td>\n",
       "      <td>0.031398</td>\n",
       "      <td>0.096041</td>\n",
       "      <td>0.028723</td>\n",
       "      <td>-0.019378</td>\n",
       "      <td>0.170204</td>\n",
       "      <td>-0.063061</td>\n",
       "      <td>0.067839</td>\n",
       "      <td>-0.011797</td>\n",
       "      <td>...</td>\n",
       "      <td>-0.051929</td>\n",
       "      <td>-0.038254</td>\n",
       "      <td>-0.045386</td>\n",
       "      <td>-0.004905</td>\n",
       "      <td>-0.020007</td>\n",
       "      <td>0.017308</td>\n",
       "      <td>0.085608</td>\n",
       "      <td>-0.012262</td>\n",
       "      <td>-0.032810</td>\n",
       "      <td>0.038905</td>\n",
       "    </tr>\n",
       "    <tr>\n",
       "      <th>faq</th>\n",
       "      <td>0.007975</td>\n",
       "      <td>-0.007841</td>\n",
       "      <td>-0.106851</td>\n",
       "      <td>0.032403</td>\n",
       "      <td>-0.032816</td>\n",
       "      <td>0.064804</td>\n",
       "      <td>0.070553</td>\n",
       "      <td>0.063417</td>\n",
       "      <td>-0.068213</td>\n",
       "      <td>0.007695</td>\n",
       "      <td>...</td>\n",
       "      <td>0.019992</td>\n",
       "      <td>0.054783</td>\n",
       "      <td>0.061933</td>\n",
       "      <td>-0.055984</td>\n",
       "      <td>-0.032177</td>\n",
       "      <td>-0.011321</td>\n",
       "      <td>0.091173</td>\n",
       "      <td>0.004498</td>\n",
       "      <td>0.069162</td>\n",
       "      <td>-0.005235</td>\n",
       "    </tr>\n",
       "    <tr>\n",
       "      <th>ibm</th>\n",
       "      <td>-0.094194</td>\n",
       "      <td>-0.012911</td>\n",
       "      <td>-0.030876</td>\n",
       "      <td>-0.046995</td>\n",
       "      <td>-0.042532</td>\n",
       "      <td>-0.000814</td>\n",
       "      <td>0.076230</td>\n",
       "      <td>0.075563</td>\n",
       "      <td>0.068856</td>\n",
       "      <td>-0.035880</td>\n",
       "      <td>...</td>\n",
       "      <td>-0.047528</td>\n",
       "      <td>-0.010515</td>\n",
       "      <td>-0.076038</td>\n",
       "      <td>0.047723</td>\n",
       "      <td>0.007834</td>\n",
       "      <td>0.095698</td>\n",
       "      <td>0.078301</td>\n",
       "      <td>0.000371</td>\n",
       "      <td>0.085381</td>\n",
       "      <td>-0.029013</td>\n",
       "    </tr>\n",
       "    <tr>\n",
       "      <th>apple</th>\n",
       "      <td>-0.006138</td>\n",
       "      <td>0.031012</td>\n",
       "      <td>0.064794</td>\n",
       "      <td>0.010941</td>\n",
       "      <td>0.005267</td>\n",
       "      <td>-0.047476</td>\n",
       "      <td>0.081203</td>\n",
       "      <td>0.028981</td>\n",
       "      <td>0.066762</td>\n",
       "      <td>0.030300</td>\n",
       "      <td>...</td>\n",
       "      <td>0.013608</td>\n",
       "      <td>-0.019269</td>\n",
       "      <td>0.021374</td>\n",
       "      <td>-0.099896</td>\n",
       "      <td>-0.067282</td>\n",
       "      <td>0.076550</td>\n",
       "      <td>0.160245</td>\n",
       "      <td>-0.048190</td>\n",
       "      <td>0.073520</td>\n",
       "      <td>0.089539</td>\n",
       "    </tr>\n",
       "  </tbody>\n",
       "</table>\n",
       "<p>5 rows × 384 columns</p>\n",
       "</div>"
      ],
      "text/plain": [
       "            0         1         2         3         4         5         6    \\\n",
       "fbi   -0.010757 -0.022580 -0.072251  0.027075  0.028994 -0.062471  0.082013   \n",
       "sun   -0.034100  0.110354  0.031398  0.096041  0.028723 -0.019378  0.170204   \n",
       "faq    0.007975 -0.007841 -0.106851  0.032403 -0.032816  0.064804  0.070553   \n",
       "ibm   -0.094194 -0.012911 -0.030876 -0.046995 -0.042532 -0.000814  0.076230   \n",
       "apple -0.006138  0.031012  0.064794  0.010941  0.005267 -0.047476  0.081203   \n",
       "\n",
       "            7         8         9    ...       374       375       376  \\\n",
       "fbi    0.005155  0.013121 -0.025359  ...  0.069753 -0.038552  0.022208   \n",
       "sun   -0.063061  0.067839 -0.011797  ... -0.051929 -0.038254 -0.045386   \n",
       "faq    0.063417 -0.068213  0.007695  ...  0.019992  0.054783  0.061933   \n",
       "ibm    0.075563  0.068856 -0.035880  ... -0.047528 -0.010515 -0.076038   \n",
       "apple  0.028981  0.066762  0.030300  ...  0.013608 -0.019269  0.021374   \n",
       "\n",
       "            377       378       379       380       381       382       383  \n",
       "fbi    0.011805 -0.099422  0.011224  0.052369 -0.007461  0.111011 -0.064966  \n",
       "sun   -0.004905 -0.020007  0.017308  0.085608 -0.012262 -0.032810  0.038905  \n",
       "faq   -0.055984 -0.032177 -0.011321  0.091173  0.004498  0.069162 -0.005235  \n",
       "ibm    0.047723  0.007834  0.095698  0.078301  0.000371  0.085381 -0.029013  \n",
       "apple -0.099896 -0.067282  0.076550  0.160245 -0.048190  0.073520  0.089539  \n",
       "\n",
       "[5 rows x 384 columns]"
      ]
     },
     "execution_count": 7,
     "metadata": {},
     "output_type": "execute_result"
    }
   ],
   "source": [
    "terms_embeddings.head(5)"
   ]
  },
  {
   "cell_type": "code",
   "execution_count": 8,
   "id": "d8e531ca-59e9-4565-9012-2903d1125e8b",
   "metadata": {},
   "outputs": [
    {
     "data": {
      "text/html": [
       "<div>\n",
       "<style scoped>\n",
       "    .dataframe tbody tr th:only-of-type {\n",
       "        vertical-align: middle;\n",
       "    }\n",
       "\n",
       "    .dataframe tbody tr th {\n",
       "        vertical-align: top;\n",
       "    }\n",
       "\n",
       "    .dataframe thead th {\n",
       "        text-align: right;\n",
       "    }\n",
       "</style>\n",
       "<table border=\"1\" class=\"dataframe\">\n",
       "  <thead>\n",
       "    <tr style=\"text-align: right;\">\n",
       "      <th></th>\n",
       "      <th>0</th>\n",
       "      <th>1</th>\n",
       "      <th>2</th>\n",
       "      <th>3</th>\n",
       "      <th>4</th>\n",
       "    </tr>\n",
       "    <tr>\n",
       "      <th>doc_index</th>\n",
       "      <th></th>\n",
       "      <th></th>\n",
       "      <th></th>\n",
       "      <th></th>\n",
       "      <th></th>\n",
       "    </tr>\n",
       "  </thead>\n",
       "  <tbody>\n",
       "    <tr>\n",
       "      <th>0</th>\n",
       "      <td>8.752942</td>\n",
       "      <td>7.512095</td>\n",
       "      <td>3.858257</td>\n",
       "      <td>4.748151</td>\n",
       "      <td>4.997494</td>\n",
       "    </tr>\n",
       "    <tr>\n",
       "      <th>1</th>\n",
       "      <td>8.577482</td>\n",
       "      <td>0.563074</td>\n",
       "      <td>3.324986</td>\n",
       "      <td>6.020840</td>\n",
       "      <td>5.804401</td>\n",
       "    </tr>\n",
       "    <tr>\n",
       "      <th>2</th>\n",
       "      <td>8.478346</td>\n",
       "      <td>2.663219</td>\n",
       "      <td>4.824983</td>\n",
       "      <td>6.247846</td>\n",
       "      <td>6.066621</td>\n",
       "    </tr>\n",
       "    <tr>\n",
       "      <th>3</th>\n",
       "      <td>8.936728</td>\n",
       "      <td>4.108136</td>\n",
       "      <td>6.747239</td>\n",
       "      <td>6.290255</td>\n",
       "      <td>3.968288</td>\n",
       "    </tr>\n",
       "    <tr>\n",
       "      <th>4</th>\n",
       "      <td>10.344117</td>\n",
       "      <td>4.097079</td>\n",
       "      <td>7.081563</td>\n",
       "      <td>5.168822</td>\n",
       "      <td>4.030689</td>\n",
       "    </tr>\n",
       "  </tbody>\n",
       "</table>\n",
       "</div>"
      ],
      "text/plain": [
       "                   0         1         2         3         4\n",
       "doc_index                                                   \n",
       "0           8.752942  7.512095  3.858257  4.748151  4.997494\n",
       "1           8.577482  0.563074  3.324986  6.020840  5.804401\n",
       "2           8.478346  2.663219  4.824983  6.247846  6.066621\n",
       "3           8.936728  4.108136  6.747239  6.290255  3.968288\n",
       "4          10.344117  4.097079  7.081563  5.168822  4.030689"
      ]
     },
     "execution_count": 8,
     "metadata": {},
     "output_type": "execute_result"
    }
   ],
   "source": [
    "docs_embeddings.head(5)"
   ]
  },
  {
   "cell_type": "code",
   "execution_count": null,
   "id": "e232a4d8-e1d0-4fb4-b426-644855684e0d",
   "metadata": {},
   "outputs": [],
   "source": []
  },
  {
   "cell_type": "code",
   "execution_count": null,
   "id": "81db94a1-6ddc-45d5-912a-5bcda4e46137",
   "metadata": {},
   "outputs": [],
   "source": []
  }
 ],
 "metadata": {
  "kernelspec": {
   "display_name": "Python 3 (ipykernel)",
   "language": "python",
   "name": "python3"
  },
  "language_info": {
   "codemirror_mode": {
    "name": "ipython",
    "version": 3
   },
   "file_extension": ".py",
   "mimetype": "text/x-python",
   "name": "python",
   "nbconvert_exporter": "python",
   "pygments_lexer": "ipython3",
   "version": "3.9.7"
  }
 },
 "nbformat": 4,
 "nbformat_minor": 5
}
