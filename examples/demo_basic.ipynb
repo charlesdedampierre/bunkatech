{
 "cells": [
  {
   "cell_type": "markdown",
   "id": "ddfb21fc-3706-4a00-8097-5e5ce65b5172",
   "metadata": {},
   "source": [
    "## Demo BasicSemantics"
   ]
  },
  {
   "cell_type": "markdown",
   "id": "7c166a32-5ca7-4f4f-8a27-6cb08e4901ce",
   "metadata": {},
   "source": [
    "Basis Semantic is the core class of bunkatech. It carries out the basic operations, namely: \n",
    "- terms extraction\n",
    "- terms embeddings\n",
    "- document embeddings"
   ]
  },
  {
   "cell_type": "code",
   "execution_count": 1,
   "id": "844db572-9606-45f2-948c-5c336a68ecc5",
   "metadata": {},
   "outputs": [],
   "source": [
    "import pandas as pd\n",
    "from bunkatech import BasicSemantics\n",
    "import warnings\n",
    "warnings.filterwarnings('ignore')\n",
    " \n",
    "    \n",
    "data = pd.read_csv('../data/imdb.csv', index_col = [0])\n",
    "data = data.sample(2000, random_state = 42)"
   ]
  },
  {
   "cell_type": "markdown",
   "id": "4feb00b7-3c5d-4016-aaa8-7f3e5f836d69",
   "metadata": {},
   "source": [
    "###  Instantiate the BasicSemantics class"
   ]
  },
  {
   "cell_type": "code",
   "execution_count": 2,
   "id": "a2ca4d74-7f36-4770-9d8f-711d30e20806",
   "metadata": {},
   "outputs": [],
   "source": [
    "basic = BasicSemantics(data,\n",
    "        text_var = 'description',\n",
    "        index_var = 'imdb',\n",
    "        terms_path=None, # no pre-extracted terms\n",
    "        terms_embeddings_path=None, # no pre-computed terms embeddings\n",
    "        docs_embeddings_path=None) # no pre-computed docs embeddings"
   ]
  },
  {
   "cell_type": "markdown",
   "id": "84ac6107-9648-4550-a171-08e8fb3c0c96",
   "metadata": {},
   "source": [
    "#### Fit the class"
   ]
  },
  {
   "cell_type": "markdown",
   "id": "0a27ccdf-ddc2-4aa1-8b62-28c373f50e03",
   "metadata": {},
   "source": [
    "For multilangue embedding, **distiluse-base-multilingual-cased-v1** is the best to use. For only english, you may use **all-MiniLM-L6-v2**"
   ]
  },
  {
   "cell_type": "code",
   "execution_count": null,
   "id": "bb5b0ba8-30d0-4cd6-8abc-51908643256b",
   "metadata": {},
   "outputs": [
    {
     "name": "stderr",
     "output_type": "stream",
     "text": [
      "  0%|                                                                           | 0/1000 [00:00<?, ?it/s]2022-03-31 09:35:53,054 - INFO : loaded 'en_core_web_sm' spaCy language pipeline\n",
      "2022-03-31 09:35:53,057 - INFO : loaded 'en_core_web_sm' spaCy language pipeline\n",
      "2022-03-31 09:35:53,077 - INFO : loaded 'en_core_web_sm' spaCy language pipeline\n",
      "2022-03-31 09:35:53,107 - INFO : loaded 'en_core_web_sm' spaCy language pipeline\n",
      "2022-03-31 09:35:53,107 - INFO : loaded 'en_core_web_sm' spaCy language pipeline\n",
      "2022-03-31 09:35:53,113 - INFO : loaded 'en_core_web_sm' spaCy language pipeline\n",
      "2022-03-31 09:35:53,119 - INFO : loaded 'en_core_web_sm' spaCy language pipeline\n",
      "  0%|                                                                 | 1/1000 [00:07<2:05:57,  7.57s/it]2022-03-31 09:35:53,227 - INFO : loaded 'en_core_web_sm' spaCy language pipeline\n",
      "100%|███████████████████████████████████████████████████████████████| 1000/1000 [00:08<00:00, 112.17it/s]\n",
      "2022-03-31 09:35:54,805 - INFO : Load pretrained SentenceTransformer: all-MiniLM-L6-v2\n",
      "2022-03-31 09:36:02,244 - INFO : Use pytorch device: cpu\n"
     ]
    },
    {
     "data": {
      "application/vnd.jupyter.widget-view+json": {
       "model_id": "dc3d6249782d4705bea73553cbcce67c",
       "version_major": 2,
       "version_minor": 0
      },
      "text/plain": [
       "Batches:   0%|          | 0/63 [00:00<?, ?it/s]"
      ]
     },
     "metadata": {},
     "output_type": "display_data"
    },
    {
     "name": "stderr",
     "output_type": "stream",
     "text": [
      "2022-03-31 09:36:10,170 - INFO : Load pretrained SentenceTransformer: all-MiniLM-L6-v2\n"
     ]
    },
    {
     "name": "stdout",
     "output_type": "stream",
     "text": [
      "Start Embedding...\n"
     ]
    },
    {
     "name": "stderr",
     "output_type": "stream",
     "text": [
      "2022-03-31 09:36:17,614 - INFO : Use pytorch device: cpu\n"
     ]
    },
    {
     "data": {
      "application/vnd.jupyter.widget-view+json": {
       "model_id": "5113ad3a2d2e4b5c8060370e0cfd34a2",
       "version_major": 2,
       "version_minor": 0
      },
      "text/plain": [
       "Batches:   0%|          | 0/63 [00:00<?, ?it/s]"
      ]
     },
     "metadata": {},
     "output_type": "display_data"
    }
   ],
   "source": [
    "basic.fit(extract_terms=True, # Extract terms\n",
    "          language=\"en\", # Language of extraction terms\n",
    "           sample_size_terms=1000, # Sample to extract terms from\n",
    "            terms_ents=True, # Extract entities as part of terms\n",
    "            terms_include_types=[\"PERSON\", \"ORG\"], # Chose entities to keep from entities\n",
    "            terms_ncs=False, # Extract nouns chuncks as part of terms\n",
    "            terms_ngrams=(2, 2), # Chose ngrams to extract, bigrams are recommended\n",
    "            terms_include_pos=[\"NOUN\", \"PROPN\", \"ADJ\"], # Chose part-of-speech to keep from n-grams\n",
    "            terms_limit=2000, # Top extracted Terms to keep\n",
    "            terms_embedding=True, # Embed the Extracted terms\n",
    "            docs_embedding=True, # Embed the documents\n",
    "            terms_embedding_model=\"all-MiniLM-L6-v2\", # Terms Embedding model\n",
    "            docs_embedding_model=\"all-MiniLM-L6-v2\", # Docs Embedding model\n",
    "            docs_dimension_reduction = 5, # Number of dimensions to reduce the docs embedding. Enter False if you do not want to wish to reduce.\n",
    "            docs_multiprocessing = False, # You can multiprocess the process to accelerate the embeddings of documents\n",
    "            ) "
   ]
  },
  {
   "cell_type": "markdown",
   "id": "79838b99-be51-4499-8d51-275edc27ab3d",
   "metadata": {},
   "source": [
    "#### Display the results"
   ]
  },
  {
   "cell_type": "code",
   "execution_count": null,
   "id": "c25ec3ad-0f8a-4d82-bab6-e5b05eca5050",
   "metadata": {},
   "outputs": [],
   "source": [
    "terms = basic.terms # Display extracted terms\n",
    "terms_embeddings = basic.terms_embeddings # Display terms embeddings\n",
    "docs_embeddings = basic.docs_embeddings # Display docs embeddings"
   ]
  },
  {
   "cell_type": "code",
   "execution_count": null,
   "id": "73684474-632a-4019-bb44-5553fae31108",
   "metadata": {},
   "outputs": [],
   "source": [
    "terms.head(5)"
   ]
  },
  {
   "cell_type": "code",
   "execution_count": null,
   "id": "8a6e7571-2803-44c3-a6c2-4054f96f7054",
   "metadata": {},
   "outputs": [],
   "source": [
    "terms_embeddings.head(5)"
   ]
  },
  {
   "cell_type": "code",
   "execution_count": null,
   "id": "d8e531ca-59e9-4565-9012-2903d1125e8b",
   "metadata": {},
   "outputs": [],
   "source": [
    "docs_embeddings.head(5)"
   ]
  },
  {
   "cell_type": "code",
   "execution_count": null,
   "id": "e232a4d8-e1d0-4fb4-b426-644855684e0d",
   "metadata": {},
   "outputs": [],
   "source": []
  }
 ],
 "metadata": {
  "kernelspec": {
   "display_name": "Python 3 (ipykernel)",
   "language": "python",
   "name": "python3"
  },
  "language_info": {
   "codemirror_mode": {
    "name": "ipython",
    "version": 3
   },
   "file_extension": ".py",
   "mimetype": "text/x-python",
   "name": "python",
   "nbconvert_exporter": "python",
   "pygments_lexer": "ipython3",
   "version": "3.9.7"
  }
 },
 "nbformat": 4,
 "nbformat_minor": 5
}
