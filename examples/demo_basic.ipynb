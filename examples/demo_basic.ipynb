{
 "cells": [
  {
   "cell_type": "code",
   "execution_count": 11,
   "id": "844db572-9606-45f2-948c-5c336a68ecc5",
   "metadata": {},
   "outputs": [],
   "source": [
    "import pandas as pd\n",
    "from bunkatech import BasicSemantics\n",
    "from sklearn.datasets import fetch_20newsgroups\n",
    " \n",
    "# Load Data\n",
    "docs = fetch_20newsgroups(subset='all',  remove=('headers', 'footers', 'quotes'))['data']\n",
    "data = pd.DataFrame(docs, columns = ['docs'])\n",
    "data = data.sample(2000, random_state = 42).reset_index(drop=True)\n",
    "data['doc_index'] = data.index"
   ]
  },
  {
   "cell_type": "markdown",
   "id": "4feb00b7-3c5d-4016-aaa8-7f3e5f836d69",
   "metadata": {},
   "source": [
    "###  Instantiate the BasicSemantics class"
   ]
  },
  {
   "cell_type": "code",
   "execution_count": 12,
   "id": "a2ca4d74-7f36-4770-9d8f-711d30e20806",
   "metadata": {},
   "outputs": [],
   "source": [
    "basic = BasicSemantics(data,\n",
    "        text_var = 'docs',\n",
    "        index_var = 'doc_index',\n",
    "        terms_path=None, # no pre-extracted terms\n",
    "        terms_embeddings_path=None, # no pre-computed terms embeddings\n",
    "        docs_embeddings_path=None) # no pre-computed docs embeddings"
   ]
  },
  {
   "cell_type": "markdown",
   "id": "84ac6107-9648-4550-a171-08e8fb3c0c96",
   "metadata": {},
   "source": [
    "#### Fit the class"
   ]
  },
  {
   "cell_type": "code",
   "execution_count": 14,
   "id": "bb5b0ba8-30d0-4cd6-8abc-51908643256b",
   "metadata": {},
   "outputs": [
    {
     "name": "stderr",
     "output_type": "stream",
     "text": [
      "100%|████████████████████████████████████████████████| 1000/1000 [00:14<00:00, 70.08it/s]\n"
     ]
    },
    {
     "data": {
      "application/vnd.jupyter.widget-view+json": {
       "model_id": "6af5f70523a34ceaa64fd5a98b0a511e",
       "version_major": 2,
       "version_minor": 0
      },
      "text/plain": [
       "Batches:   0%|          | 0/63 [00:00<?, ?it/s]"
      ]
     },
     "metadata": {},
     "output_type": "display_data"
    }
   ],
   "source": [
    "basic.fit(extract_terms=True, # Extract terms\n",
    "          language=\"en\", # Language of extraction terms\n",
    "           sample_size_terms=1000, # Sample to extract terms from\n",
    "            terms_ents=True, # Extract entities as part of terms\n",
    "            terms_include_types=[\"PERSON\", \"ORG\"], # Chose entities to keep from entities\n",
    "            terms_ncs=False, # Extract nouns chuncks as part of terms\n",
    "            terms_ngrams=(2, 2), # Chose ngrams to extract, bigrams are recommended\n",
    "            terms_include_pos=[\"NOUN\", \"PROPN\", \"ADJ\"], # Chose part-of-speech to keep from n-grams\n",
    "            terms_limit=2000, # Top extracted Terms to keep\n",
    "            terms_embedding=True, # Embed the Extracted terms\n",
    "            docs_embedding=False, # Embed the documents\n",
    "            terms_embedding_model=\"distiluse-base-multilingual-cased-v1\", # Terms Embedding model\n",
    "            docs_embedding_model=\"distiluse-base-multilingual-cased-v1\", # Docs Embedding model\n",
    "            docs_dimension_reduction = 5, # Number of dimensions to reduce the doc embedding\n",
    "            ) "
   ]
  },
  {
   "cell_type": "code",
   "execution_count": null,
   "id": "93888ea0-cd39-459f-aba0-23ece138b15a",
   "metadata": {},
   "outputs": [],
   "source": []
  },
  {
   "cell_type": "code",
   "execution_count": null,
   "id": "8382a520-9c50-4603-af02-c45956123907",
   "metadata": {},
   "outputs": [],
   "source": []
  },
  {
   "cell_type": "code",
   "execution_count": null,
   "id": "cda52a44-8970-47a5-b768-9419197f5a69",
   "metadata": {},
   "outputs": [],
   "source": []
  },
  {
   "cell_type": "code",
   "execution_count": null,
   "id": "3c1d7860-1d77-450e-8c2c-8996e99efcce",
   "metadata": {},
   "outputs": [],
   "source": []
  },
  {
   "cell_type": "code",
   "execution_count": null,
   "id": "1fa78be0-58c8-4b0c-818b-ee872885ffee",
   "metadata": {},
   "outputs": [],
   "source": []
  },
  {
   "cell_type": "code",
   "execution_count": null,
   "id": "7985ff6d-58d9-4bb1-b179-73fdba10761c",
   "metadata": {},
   "outputs": [],
   "source": [
    "# 4998  two nan withing the text, see how to hanfl it"
   ]
  },
  {
   "cell_type": "code",
   "execution_count": 12,
   "id": "c25ec3ad-0f8a-4d82-bab6-e5b05eca5050",
   "metadata": {},
   "outputs": [],
   "source": [
    "terms = basic.terms\n",
    "terms_embeddings = basic.terms_embeddings\n",
    "docs_embeddings = basic.docs_embeddings"
   ]
  },
  {
   "cell_type": "code",
   "execution_count": null,
   "id": "73684474-632a-4019-bb44-5553fae31108",
   "metadata": {},
   "outputs": [],
   "source": []
  },
  {
   "cell_type": "code",
   "execution_count": 14,
   "id": "ad0929ce-4753-4268-8812-afbb620d3132",
   "metadata": {},
   "outputs": [],
   "source": [
    "#terms.to_csv('/Volumes/OutFriend/shaping_ai/demo_data/terms.csv')\n",
    "#terms_embeddings.to_csv('/Volumes/OutFriend/shaping_ai/demo_data/terms_embeddings.csv')\n",
    "#docs_embeddings.to_csv('/Volumes/OutFriend/shaping_ai/demo_data/docs_embeddings.csv')"
   ]
  },
  {
   "cell_type": "code",
   "execution_count": null,
   "id": "67c80a09-058e-429f-bda3-0ad580f77328",
   "metadata": {},
   "outputs": [],
   "source": []
  }
 ],
 "metadata": {
  "kernelspec": {
   "display_name": "Python 3 (ipykernel)",
   "language": "python",
   "name": "python3"
  },
  "language_info": {
   "codemirror_mode": {
    "name": "ipython",
    "version": 3
   },
   "file_extension": ".py",
   "mimetype": "text/x-python",
   "name": "python",
   "nbconvert_exporter": "python",
   "pygments_lexer": "ipython3",
   "version": "3.9.7"
  }
 },
 "nbformat": 4,
 "nbformat_minor": 5
}
