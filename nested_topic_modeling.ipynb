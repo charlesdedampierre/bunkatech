{
 "cells": [
  {
   "cell_type": "code",
   "execution_count": 1,
   "id": "4ca26c75-643b-4fdc-990d-27c2cf0f15e1",
   "metadata": {},
   "outputs": [],
   "source": [
    "from bunkatech.nested_topic_modeling import nested_topic_modeling\n",
    "import pandas as pd\n",
    "import plotly\n",
    "import pickle\n",
    "from sklearn.datasets import fetch_20newsgroups\n",
    "\n",
    "docs = fetch_20newsgroups(subset=\"all\", remove=(\"headers\", \"footers\", \"quotes\"))[\"data\"]\n",
    "df = pd.DataFrame(docs)\n",
    "df = df.sample(500)\n",
    "df = df.reset_index(drop=True)\n",
    "df.columns = [\"text\"]\n",
    "df[\"bindex\"] = df.index"
   ]
  },
  {
   "cell_type": "markdown",
   "id": "e6df8f02-749e-47de-a3bc-879e090b1d3f",
   "metadata": {},
   "source": [
    "#### Fit the model"
   ]
  },
  {
   "cell_type": "code",
   "execution_count": 2,
   "id": "e0424ad0-3a19-4284-9279-f2bfee38837e",
   "metadata": {},
   "outputs": [
    {
     "name": "stdout",
     "output_type": "stream",
     "text": [
      "Embeddings..\n",
      "Reducing the vectors..\n",
      "UMAP(angular_rp_forest=True, metric='cosine', n_components=5, n_neighbors=10, verbose=True)\n",
      "Wed Feb 16 22:00:37 2022 Construct fuzzy simplicial set\n",
      "Wed Feb 16 22:00:37 2022 Finding Nearest Neighbors\n",
      "Wed Feb 16 22:00:39 2022 Finished Nearest Neighbor Search\n",
      "Wed Feb 16 22:00:41 2022 Construct embedding\n"
     ]
    },
    {
     "data": {
      "application/vnd.jupyter.widget-view+json": {
       "model_id": "ffb41cb7d4144dc18c1d1ebad8a154f2",
       "version_major": 2,
       "version_minor": 0
      },
      "text/plain": [
       "Epochs completed:   0%|            0/500 [00:00]"
      ]
     },
     "metadata": {},
     "output_type": "display_data"
    },
    {
     "name": "stdout",
     "output_type": "stream",
     "text": [
      "Wed Feb 16 22:00:43 2022 Finished embedding\n",
      "Extract Terms...\n"
     ]
    },
    {
     "name": "stderr",
     "output_type": "stream",
     "text": [
      "100%|█████████████████████████████████████████████████████████████████████████████████████████████████████| 196/196 [00:09<00:00, 21.68it/s]\n"
     ]
    }
   ],
   "source": [
    "bunka = nested_topic_modeling().fit(\n",
    "    df,\n",
    "    text_var=\"text\",\n",
    "    index_var=\"bindex\",\n",
    "    sample_size=200,\n",
    "    sample_terms=200,\n",
    "    embeddings_model=\"tfidf\",\n",
    "    ngrams=(1, 2),\n",
    "    ents=False,\n",
    "    language=\"en\",\n",
    "    db_path=\".\",\n",
    ")"
   ]
  },
  {
   "cell_type": "markdown",
   "id": "8e9db617-f12c-4f47-859c-9b6c03979ba4",
   "metadata": {},
   "source": [
    "#### Access the Bunka Visualization"
   ]
  },
  {
   "cell_type": "code",
   "execution_count": 3,
   "id": "31763b73-9cd4-4f00-8cfa-65aa5376af64",
   "metadata": {},
   "outputs": [
    {
     "data": {
      "text/plain": [
       "'saved_graph/sunburst.html'"
      ]
     },
     "execution_count": 3,
     "metadata": {},
     "output_type": "execute_result"
    }
   ],
   "source": [
    "plotly.offline.plot(bunka.sankey, auto_open=True, filename=\"saved_graph/sankey.html\")\n",
    "plotly.offline.plot(bunka.treemap, auto_open=True, filename=\"saved_graph/treemap.html\")\n",
    "plotly.offline.plot(\n",
    "    bunka.sunburst, auto_open=True, filename=\"saved_graph/sunburst.html\"\n",
    ")"
   ]
  },
  {
   "cell_type": "markdown",
   "id": "e196bbdf-cb2a-4a92-9bd5-2e3f9ca308e9",
   "metadata": {},
   "source": [
    "#### Get informations computed by the moded"
   ]
  },
  {
   "cell_type": "code",
   "execution_count": 6,
   "id": "6a6a81fc-98d2-478f-9480-c0d1aa76a1e4",
   "metadata": {},
   "outputs": [],
   "source": [
    "terms = bunka.terms\n",
    "df_cluster_names = bunka.h_clusters_names\n",
    "df = bunka.df\n",
    "df_embeddings = bunka.embeddings\n",
    "df_indexed = bunka.indexed_terms"
   ]
  },
  {
   "cell_type": "code",
   "execution_count": null,
   "id": "82eba2a2-89fb-4eaf-9f4c-2dd3dc0bdb70",
   "metadata": {},
   "outputs": [],
   "source": []
  },
  {
   "cell_type": "code",
   "execution_count": null,
   "id": "f97d6db4-affd-42c2-82a3-ef773adb38de",
   "metadata": {},
   "outputs": [],
   "source": []
  },
  {
   "cell_type": "code",
   "execution_count": null,
   "id": "b5b3220e-c773-4151-9a87-9224625cb985",
   "metadata": {},
   "outputs": [],
   "source": []
  },
  {
   "cell_type": "code",
   "execution_count": null,
   "id": "37bedd85-e44d-45dc-a811-91b0f6fe7ec5",
   "metadata": {},
   "outputs": [],
   "source": []
  }
 ],
 "metadata": {
  "kernelspec": {
   "display_name": "Python 3 (ipykernel)",
   "language": "python",
   "name": "python3"
  },
  "language_info": {
   "codemirror_mode": {
    "name": "ipython",
    "version": 3
   },
   "file_extension": ".py",
   "mimetype": "text/x-python",
   "name": "python",
   "nbconvert_exporter": "python",
   "pygments_lexer": "ipython3",
   "version": "3.8.2"
  }
 },
 "nbformat": 4,
 "nbformat_minor": 5
}
