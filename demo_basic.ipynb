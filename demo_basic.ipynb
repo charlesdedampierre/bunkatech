{
 "cells": [
  {
   "cell_type": "code",
   "execution_count": 2,
   "id": "5ba31ec1-7a2b-4fda-92c8-5133a77b1fb2",
   "metadata": {},
   "outputs": [],
   "source": [
    "import pandas as pd\n",
    "from bunkatech.basic_class import BasicSemantics"
   ]
  },
  {
   "cell_type": "code",
   "execution_count": 3,
   "id": "667e4f15-0e60-4b27-a477-67aaa2f370c9",
   "metadata": {},
   "outputs": [],
   "source": [
    "data = pd.read_csv('/Volumes/OutFriend/shaping_ai/data_minus_neutre.csv')\n",
    "data = data.sample(3000, random_state = 42)"
   ]
  },
  {
   "cell_type": "code",
   "execution_count": 5,
   "id": "979834da-9619-418f-93f6-52e01f941fcd",
   "metadata": {},
   "outputs": [
    {
     "data": {
      "text/plain": [
       "4123     2019\n",
       "4315     2016\n",
       "12783    2016\n",
       "7307     2016\n",
       "6497     2018\n",
       "         ... \n",
       "11285    2019\n",
       "5234     2017\n",
       "5902     2017\n",
       "11469    2018\n",
       "10269    2019\n",
       "Name: date, Length: 3000, dtype: int64"
      ]
     },
     "execution_count": 5,
     "metadata": {},
     "output_type": "execute_result"
    }
   ],
   "source": [
    "data.date"
   ]
  },
  {
   "cell_type": "code",
   "execution_count": 3,
   "id": "1073caac-ef6b-4582-be6f-f652854b972d",
   "metadata": {},
   "outputs": [],
   "source": [
    "terms_path = '/Volumes/OutFriend/shaping_ai/demo_data/terms.csv'\n",
    "terms_embeddings_path = '/Volumes/OutFriend/shaping_ai/demo_data/terms_embeddings.csv'\n",
    "docs_embeddings_path = '/Volumes/OutFriend/shaping_ai/demo_data/docs_embeddings.csv'"
   ]
  },
  {
   "cell_type": "code",
   "execution_count": 4,
   "id": "a2ca4d74-7f36-4770-9d8f-711d30e20806",
   "metadata": {},
   "outputs": [],
   "source": [
    "basic = BasicSemantics(data,\n",
    "        text_var = 'content',\n",
    "        index_var = 'unique_id',\n",
    "        terms_path=terms_path,\n",
    "        terms_embeddings_path=terms_embeddings_path,\n",
    "        docs_embeddings_path=docs_embeddings_path)"
   ]
  },
  {
   "cell_type": "code",
   "execution_count": null,
   "id": "44601a4a-dfe8-48b5-aa0d-9960bc36a918",
   "metadata": {},
   "outputs": [],
   "source": []
  },
  {
   "cell_type": "code",
   "execution_count": 9,
   "id": "28420c02-83e6-44d7-a147-d1dfd047fccf",
   "metadata": {},
   "outputs": [],
   "source": [
    "# Get the camembert"
   ]
  },
  {
   "cell_type": "code",
   "execution_count": 10,
   "id": "bb5b0ba8-30d0-4cd6-8abc-51908643256b",
   "metadata": {},
   "outputs": [],
   "source": [
    "basic.fit(extract_terms=True,\n",
    "            terms_embedding=True,\n",
    "            docs_embedding=True,\n",
    "            sample_size_terms=3000,\n",
    "            terms_limit=3000,\n",
    "            terms_ents=False,\n",
    "            terms_ngrams=(2, 2),\n",
    "            terms_ncs=False,\n",
    "            terms_include_pos=[\"NOUN\", \"PROPN\", \"ADJ\"],\n",
    "            terms_include_types=[\"PERSON\", \"ORG\"],\n",
    "            terms_embedding_model=\"distiluse-base-multilingual-cased-v1\",\n",
    "            docs_embedding_model=\"distiluse-base-multilingual-cased-v1\",\n",
    "            docs_dimension_reduction = 5,\n",
    "            language=\"fr\")"
   ]
  },
  {
   "cell_type": "code",
   "execution_count": null,
   "id": "233ce7c9-1f17-4b0e-8af8-794a88b63736",
   "metadata": {},
   "outputs": [],
   "source": []
  },
  {
   "cell_type": "code",
   "execution_count": null,
   "id": "1fa78be0-58c8-4b0c-818b-ee872885ffee",
   "metadata": {},
   "outputs": [],
   "source": []
  },
  {
   "cell_type": "code",
   "execution_count": null,
   "id": "7985ff6d-58d9-4bb1-b179-73fdba10761c",
   "metadata": {},
   "outputs": [],
   "source": [
    "# 4998  two nan withing the text, see how to hanfl it"
   ]
  },
  {
   "cell_type": "code",
   "execution_count": 12,
   "id": "c25ec3ad-0f8a-4d82-bab6-e5b05eca5050",
   "metadata": {},
   "outputs": [],
   "source": [
    "terms = basic.terms\n",
    "terms_embeddings = basic.terms_embeddings\n",
    "docs_embeddings = basic.docs_embeddings"
   ]
  },
  {
   "cell_type": "code",
   "execution_count": null,
   "id": "73684474-632a-4019-bb44-5553fae31108",
   "metadata": {},
   "outputs": [],
   "source": []
  },
  {
   "cell_type": "code",
   "execution_count": 14,
   "id": "ad0929ce-4753-4268-8812-afbb620d3132",
   "metadata": {},
   "outputs": [],
   "source": [
    "#terms.to_csv('/Volumes/OutFriend/shaping_ai/demo_data/terms.csv')\n",
    "#terms_embeddings.to_csv('/Volumes/OutFriend/shaping_ai/demo_data/terms_embeddings.csv')\n",
    "#docs_embeddings.to_csv('/Volumes/OutFriend/shaping_ai/demo_data/docs_embeddings.csv')"
   ]
  },
  {
   "cell_type": "code",
   "execution_count": null,
   "id": "67c80a09-058e-429f-bda3-0ad580f77328",
   "metadata": {},
   "outputs": [],
   "source": []
  }
 ],
 "metadata": {
  "kernelspec": {
   "display_name": "Python 3 (ipykernel)",
   "language": "python",
   "name": "python3"
  },
  "language_info": {
   "codemirror_mode": {
    "name": "ipython",
    "version": 3
   },
   "file_extension": ".py",
   "mimetype": "text/x-python",
   "name": "python",
   "nbconvert_exporter": "python",
   "pygments_lexer": "ipython3",
   "version": "3.8.2"
  }
 },
 "nbformat": 4,
 "nbformat_minor": 5
}
