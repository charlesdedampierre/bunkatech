{
 "cells": [
  {
   "cell_type": "code",
   "execution_count": 3,
   "id": "d4af7d68-9087-4451-9041-9c877b086595",
   "metadata": {},
   "outputs": [],
   "source": [
    "import textacy\n",
    "from functools import partial\n",
    "import pandas as pd"
   ]
  },
  {
   "cell_type": "code",
   "execution_count": 8,
   "id": "5ba31ec1-7a2b-4fda-92c8-5133a77b1fb2",
   "metadata": {},
   "outputs": [],
   "source": [
    "import pandas as pd\n",
    "from bunkatech.basic_class import BasicSemantics"
   ]
  },
  {
   "cell_type": "code",
   "execution_count": 9,
   "id": "667e4f15-0e60-4b27-a477-67aaa2f370c9",
   "metadata": {},
   "outputs": [
    {
     "data": {
      "text/plain": [
       "'\\n\\ndata = pd.read_csv(\\'/Users/charlesdedampierre/Desktop/SciencePo Projects/shaping-ai/demo_data/data_minus_neutre.csv\\')\\ndata = data.sample(3000, random_state = 42)\\n\\nterms_path = \"/Users/charlesdedampierre/Desktop/SciencePo Projects/shaping-ai/demo_data/terms.csv\"\\nterms_embeddings_path = \"/Users/charlesdedampierre/Desktop/SciencePo Projects/shaping-ai/demo_data/terms_embeddings.csv\"\\ndocs_embeddings_path = \"/Users/charlesdedampierre/Desktop/SciencePo Projects/shaping-ai/demo_data/docs_embeddings.csv\"\\n\\n\\n'"
      ]
     },
     "execution_count": 9,
     "metadata": {},
     "output_type": "execute_result"
    }
   ],
   "source": [
    "\"\"\"\n",
    "\n",
    "data = pd.read_csv('/Users/charlesdedampierre/Desktop/SciencePo Projects/shaping-ai/demo_data/data_minus_neutre.csv')\n",
    "data = data.sample(3000, random_state = 42)\n",
    "\n",
    "terms_path = \"/Users/charlesdedampierre/Desktop/SciencePo Projects/shaping-ai/demo_data/terms.csv\"\n",
    "terms_embeddings_path = \"/Users/charlesdedampierre/Desktop/SciencePo Projects/shaping-ai/demo_data/terms_embeddings.csv\"\n",
    "docs_embeddings_path = \"/Users/charlesdedampierre/Desktop/SciencePo Projects/shaping-ai/demo_data/docs_embeddings.csv\"\n",
    "\n",
    "\n",
    "\"\"\""
   ]
  },
  {
   "cell_type": "code",
   "execution_count": null,
   "id": "979834da-9619-418f-93f6-52e01f941fcd",
   "metadata": {},
   "outputs": [],
   "source": []
  },
  {
   "cell_type": "code",
   "execution_count": 3,
   "id": "1073caac-ef6b-4582-be6f-f652854b972d",
   "metadata": {},
   "outputs": [],
   "source": []
  },
  {
   "cell_type": "code",
   "execution_count": null,
   "id": "f1b75ec3-7c63-44e2-81dd-7167ebe4f9b8",
   "metadata": {},
   "outputs": [],
   "source": []
  },
  {
   "cell_type": "code",
   "execution_count": 13,
   "id": "a2ca4d74-7f36-4770-9d8f-711d30e20806",
   "metadata": {},
   "outputs": [],
   "source": [
    "basic = BasicSemantics(data,\n",
    "        text_var = 'text_chinese',\n",
    "        index_var = 'index',\n",
    "        terms_path=None,\n",
    "        terms_embeddings_path=None,\n",
    "        docs_embeddings_path=None)"
   ]
  },
  {
   "cell_type": "code",
   "execution_count": null,
   "id": "44601a4a-dfe8-48b5-aa0d-9960bc36a918",
   "metadata": {},
   "outputs": [],
   "source": []
  },
  {
   "cell_type": "code",
   "execution_count": 14,
   "id": "28420c02-83e6-44d7-a147-d1dfd047fccf",
   "metadata": {},
   "outputs": [],
   "source": [
    "# Get the camembert"
   ]
  },
  {
   "cell_type": "code",
   "execution_count": 15,
   "id": "bb5b0ba8-30d0-4cd6-8abc-51908643256b",
   "metadata": {},
   "outputs": [
    {
     "name": "stderr",
     "output_type": "stream",
     "text": [
      "Extract Terms:   0%|                                                                     | 0/10 [00:00<?, ?it/s]/Users/charlesdedampierre/Desktop/bunka/bunkatech/bunkatech/semantics/extract_terms.py:166: FutureWarning: The frame.append method is deprecated and will be removed from pandas in a future version. Use pandas.concat instead.\n",
      "  df_terms = df_terms.append(df)\n",
      "Extract Terms:  10%|██████                                                       | 1/10 [00:00<00:02,  3.56it/s]/Users/charlesdedampierre/Desktop/bunka/bunkatech/bunkatech/semantics/extract_terms.py:166: FutureWarning: The frame.append method is deprecated and will be removed from pandas in a future version. Use pandas.concat instead.\n",
      "  df_terms = df_terms.append(df)\n",
      "/Users/charlesdedampierre/Desktop/bunka/bunkatech/bunkatech/semantics/extract_terms.py:166: FutureWarning: The frame.append method is deprecated and will be removed from pandas in a future version. Use pandas.concat instead.\n",
      "  df_terms = df_terms.append(df)\n",
      "Extract Terms:  30%|██████████████████▎                                          | 3/10 [00:00<00:00,  8.76it/s]/Users/charlesdedampierre/Desktop/bunka/bunkatech/bunkatech/semantics/extract_terms.py:166: FutureWarning: The frame.append method is deprecated and will be removed from pandas in a future version. Use pandas.concat instead.\n",
      "  df_terms = df_terms.append(df)\n",
      "/Users/charlesdedampierre/Desktop/bunka/bunkatech/bunkatech/semantics/extract_terms.py:166: FutureWarning: The frame.append method is deprecated and will be removed from pandas in a future version. Use pandas.concat instead.\n",
      "  df_terms = df_terms.append(df)\n",
      "/Users/charlesdedampierre/Desktop/bunka/bunkatech/bunkatech/semantics/extract_terms.py:166: FutureWarning: The frame.append method is deprecated and will be removed from pandas in a future version. Use pandas.concat instead.\n",
      "  df_terms = df_terms.append(df)\n",
      "Extract Terms:  60%|████████████████████████████████████▌                        | 6/10 [00:00<00:00, 14.39it/s]/Users/charlesdedampierre/Desktop/bunka/bunkatech/bunkatech/semantics/extract_terms.py:166: FutureWarning: The frame.append method is deprecated and will be removed from pandas in a future version. Use pandas.concat instead.\n",
      "  df_terms = df_terms.append(df)\n",
      "/Users/charlesdedampierre/Desktop/bunka/bunkatech/bunkatech/semantics/extract_terms.py:166: FutureWarning: The frame.append method is deprecated and will be removed from pandas in a future version. Use pandas.concat instead.\n",
      "  df_terms = df_terms.append(df)\n",
      "/Users/charlesdedampierre/Desktop/bunka/bunkatech/bunkatech/semantics/extract_terms.py:166: FutureWarning: The frame.append method is deprecated and will be removed from pandas in a future version. Use pandas.concat instead.\n",
      "  df_terms = df_terms.append(df)\n",
      "Extract Terms:  90%|██████████████████████████████████████████████████████▉      | 9/10 [00:00<00:00, 17.75it/s]/Users/charlesdedampierre/Desktop/bunka/bunkatech/bunkatech/semantics/extract_terms.py:166: FutureWarning: The frame.append method is deprecated and will be removed from pandas in a future version. Use pandas.concat instead.\n",
      "  df_terms = df_terms.append(df)\n",
      "Extract Terms: 100%|████████████████████████████████████████████████████████████| 10/10 [00:00<00:00, 14.71it/s]\n"
     ]
    },
    {
     "data": {
      "application/vnd.jupyter.widget-view+json": {
       "model_id": "03c70dd168694e11890c0d0af593b391",
       "version_major": 2,
       "version_minor": 0
      },
      "text/plain": [
       "Batches:   0%|          | 0/1 [00:00<?, ?it/s]"
      ]
     },
     "metadata": {},
     "output_type": "display_data"
    }
   ],
   "source": [
    "basic.fit(extract_terms=True,\n",
    "            terms_embedding=True,\n",
    "            docs_embedding=False,\n",
    "            sample_size_terms=10,\n",
    "            terms_limit=500,\n",
    "            terms_ents=True,\n",
    "            terms_ngrams=(1, 1),\n",
    "            terms_ncs=False,\n",
    "            terms_include_pos=[\"NOUN\", \"PROPN\", \"ADJ\"],\n",
    "            terms_include_types=[\"PERSON\", \"ORG\"],\n",
    "            terms_embedding_model=\"distiluse-base-multilingual-cased-v1\",\n",
    "            docs_embedding_model=\"distiluse-base-multilingual-cased-v1\",\n",
    "            docs_dimension_reduction = 5,\n",
    "            language=\"zh\")"
   ]
  },
  {
   "cell_type": "code",
   "execution_count": null,
   "id": "93888ea0-cd39-459f-aba0-23ece138b15a",
   "metadata": {},
   "outputs": [],
   "source": []
  },
  {
   "cell_type": "code",
   "execution_count": null,
   "id": "8382a520-9c50-4603-af02-c45956123907",
   "metadata": {},
   "outputs": [],
   "source": []
  },
  {
   "cell_type": "code",
   "execution_count": null,
   "id": "cda52a44-8970-47a5-b768-9419197f5a69",
   "metadata": {},
   "outputs": [],
   "source": []
  },
  {
   "cell_type": "code",
   "execution_count": null,
   "id": "3c1d7860-1d77-450e-8c2c-8996e99efcce",
   "metadata": {},
   "outputs": [],
   "source": []
  },
  {
   "cell_type": "code",
   "execution_count": null,
   "id": "1fa78be0-58c8-4b0c-818b-ee872885ffee",
   "metadata": {},
   "outputs": [],
   "source": []
  },
  {
   "cell_type": "code",
   "execution_count": null,
   "id": "7985ff6d-58d9-4bb1-b179-73fdba10761c",
   "metadata": {},
   "outputs": [],
   "source": [
    "# 4998  two nan withing the text, see how to hanfl it"
   ]
  },
  {
   "cell_type": "code",
   "execution_count": 12,
   "id": "c25ec3ad-0f8a-4d82-bab6-e5b05eca5050",
   "metadata": {},
   "outputs": [],
   "source": [
    "terms = basic.terms\n",
    "terms_embeddings = basic.terms_embeddings\n",
    "docs_embeddings = basic.docs_embeddings"
   ]
  },
  {
   "cell_type": "code",
   "execution_count": null,
   "id": "73684474-632a-4019-bb44-5553fae31108",
   "metadata": {},
   "outputs": [],
   "source": []
  },
  {
   "cell_type": "code",
   "execution_count": 14,
   "id": "ad0929ce-4753-4268-8812-afbb620d3132",
   "metadata": {},
   "outputs": [],
   "source": [
    "#terms.to_csv('/Volumes/OutFriend/shaping_ai/demo_data/terms.csv')\n",
    "#terms_embeddings.to_csv('/Volumes/OutFriend/shaping_ai/demo_data/terms_embeddings.csv')\n",
    "#docs_embeddings.to_csv('/Volumes/OutFriend/shaping_ai/demo_data/docs_embeddings.csv')"
   ]
  },
  {
   "cell_type": "code",
   "execution_count": null,
   "id": "67c80a09-058e-429f-bda3-0ad580f77328",
   "metadata": {},
   "outputs": [],
   "source": []
  }
 ],
 "metadata": {
  "kernelspec": {
   "display_name": "Python 3 (ipykernel)",
   "language": "python",
   "name": "python3"
  },
  "language_info": {
   "codemirror_mode": {
    "name": "ipython",
    "version": 3
   },
   "file_extension": ".py",
   "mimetype": "text/x-python",
   "name": "python",
   "nbconvert_exporter": "python",
   "pygments_lexer": "ipython3",
   "version": "3.9.7"
  }
 },
 "nbformat": 4,
 "nbformat_minor": 5
}
