{
 "cells": [
  {
   "cell_type": "code",
   "execution_count": 1,
   "id": "6da97071-3ae3-4a0c-afb0-579417427fa6",
   "metadata": {},
   "outputs": [],
   "source": [
    "import pandas as pd\n",
    "import bamboolib\n",
    "import plotly\n",
    "from random import sample\n",
    "\n",
    "from bunkatech.topic_modeling import topic_modeling\n",
    "from bunkatech.nested_topic_modeling import nested_topic_modeling"
   ]
  },
  {
   "cell_type": "code",
   "execution_count": 2,
   "id": "32e78a0f-2f1c-4f4d-accd-2b2e44a00acb",
   "metadata": {},
   "outputs": [],
   "source": [
    "#df = pd.read_csv(\"data/imdb_movies.csv\", index_col=[0])\n",
    "#df = df[df[\"description\"].notna()]\n",
    "#docs = list(df[\"description\"])"
   ]
  },
  {
   "cell_type": "code",
   "execution_count": 3,
   "id": "544e3870-6adc-4b80-97ea-427063b3e288",
   "metadata": {},
   "outputs": [],
   "source": [
    "from sklearn.datasets import fetch_20newsgroups\n",
    "docs = fetch_20newsgroups(subset=\"all\", remove=(\"headers\", \"footers\", \"quotes\"))[\"data\"]\n",
    "docs = sample(docs, 5000)"
   ]
  },
  {
   "cell_type": "code",
   "execution_count": 4,
   "id": "f60cb514-df21-4b10-9293-c6b59353ad66",
   "metadata": {},
   "outputs": [],
   "source": [
    "full_docs = []\n",
    "for doc in docs:\n",
    "    res = doc.split('.')\n",
    "    full_docs.append(res)\n",
    "\n",
    "flat_list = [item for sublist in full_docs for item in sublist]\n",
    "flat_list = [x for x in flat_list if x != '']"
   ]
  },
  {
   "cell_type": "code",
   "execution_count": null,
   "id": "a9ef49dc-8816-4cbc-a7e9-68592d5d6fd2",
   "metadata": {},
   "outputs": [],
   "source": [
    "topics = topic_modeling(flat_list, \n",
    "                        topic_number=40, \n",
    "                        ngrams=(1, 2), \n",
    "                        ents=False,\n",
    "                        sample_terms = 2000,\n",
    "                        model = 'sbert')"
   ]
  },
  {
   "cell_type": "code",
   "execution_count": null,
   "id": "8d170c8f-5ee4-4162-bbb9-c643efb173f0",
   "metadata": {},
   "outputs": [],
   "source": []
  },
  {
   "cell_type": "code",
   "execution_count": null,
   "id": "e06968a3-5d40-45fc-be12-2a382f67ea17",
   "metadata": {},
   "outputs": [],
   "source": []
  },
  {
   "cell_type": "markdown",
   "id": "6a06224e-6a15-4374-a2a1-c605ff8b08ea",
   "metadata": {},
   "source": [
    "#### Nested Topic Modeling"
   ]
  },
  {
   "cell_type": "code",
   "execution_count": 7,
   "id": "b54ccd6e-8547-4c3f-90bf-945fb4448567",
   "metadata": {},
   "outputs": [
    {
     "name": "stdout",
     "output_type": "stream",
     "text": [
      "Embeddings..\n",
      "Territory embedding..\n"
     ]
    },
    {
     "data": {
      "application/vnd.jupyter.widget-view+json": {
       "model_id": "d2f3e521572d4e7c84b19ee219d29386",
       "version_major": 2,
       "version_minor": 0
      },
      "text/plain": [
       "Batches:   0%|          | 0/282 [00:00<?, ?it/s]"
      ]
     },
     "metadata": {},
     "output_type": "display_data"
    },
    {
     "name": "stdout",
     "output_type": "stream",
     "text": [
      "Reducing the vectors..\n",
      "UMAP(angular_rp_forest=True, metric='cosine', n_components=5, n_neighbors=10, verbose=True)\n",
      "Thu Feb 10 14:30:46 2022 Construct fuzzy simplicial set\n",
      "Thu Feb 10 14:30:46 2022 Finding Nearest Neighbors\n",
      "Thu Feb 10 14:30:46 2022 Building RP forest with 10 trees\n",
      "Thu Feb 10 14:30:46 2022 NN descent for 13 iterations\n",
      "\t 1  /  13\n",
      "\t 2  /  13\n",
      "\t 3  /  13\n",
      "\t 4  /  13\n",
      "\t 5  /  13\n",
      "\t 6  /  13\n",
      "\t 7  /  13\n",
      "\t 8  /  13\n",
      "\t 9  /  13\n",
      "\tStopping threshold met -- exiting after 9 iterations\n",
      "Thu Feb 10 14:30:59 2022 Finished Nearest Neighbor Search\n",
      "Thu Feb 10 14:30:59 2022 Construct embedding\n"
     ]
    },
    {
     "data": {
      "application/vnd.jupyter.widget-view+json": {
       "model_id": "e95972b69c9d4706a4c53d29d636d4a9",
       "version_major": 2,
       "version_minor": 0
      },
      "text/plain": [
       "Epochs completed:   0%|            0/500 [00:00]"
      ]
     },
     "metadata": {},
     "output_type": "display_data"
    },
    {
     "name": "stdout",
     "output_type": "stream",
     "text": [
      "Thu Feb 10 14:31:06 2022 Finished embedding\n",
      "Extract Terms...\n"
     ]
    },
    {
     "name": "stderr",
     "output_type": "stream",
     "text": [
      "100%|██████████████████████████████████████| 3000/3000 [00:29<00:00, 102.11it/s]\n"
     ]
    },
    {
     "name": "stdout",
     "output_type": "stream",
     "text": [
      "huggingface/tokenizers: The current process just got forked, after parallelism has already been used. Disabling parallelism to avoid deadlocks...\n",
      "To disable this warning, you can either:\n",
      "\t- Avoid using `tokenizers` before the fork if possible\n",
      "\t- Explicitly set the environment variable TOKENIZERS_PARALLELISM=(true | false)\n",
      "huggingface/tokenizers: The current process just got forked, after parallelism has already been used. Disabling parallelism to avoid deadlocks...\n",
      "To disable this warning, you can either:\n",
      "\t- Avoid using `tokenizers` before the fork if possible\n",
      "\t- Explicitly set the environment variable TOKENIZERS_PARALLELISM=(true | false)\n"
     ]
    },
    {
     "data": {
      "text/plain": [
       "'saved_graph/treemap.html'"
      ]
     },
     "execution_count": 7,
     "metadata": {},
     "output_type": "execute_result"
    }
   ],
   "source": [
    "treemap, sankey, sunburst = nested_topic_modeling(\n",
    "    df,\n",
    "    text_var=\"description\",\n",
    "    index_var=\"imdb\",\n",
    "    sample_size=9000,\n",
    "    sample_terms=3000,\n",
    "    embeddings_model = 'sbert'\n",
    ")\n",
    "plotly.offline.plot(sankey, auto_open=True, filename=\"saved_graph/sankey.html\")\n",
    "plotly.offline.plot(treemap, auto_open=True, filename=\"saved_graph/treemap.html\")\n",
    "plotly.offline.plot(sunburst, auto_open=True, filename=\"saved_graph/sunburst.html\")"
   ]
  },
  {
   "cell_type": "code",
   "execution_count": null,
   "id": "3aec8ec6-6eb1-48bb-9186-bc87c88a4573",
   "metadata": {},
   "outputs": [],
   "source": []
  },
  {
   "cell_type": "code",
   "execution_count": null,
   "id": "b98d471f-1286-4aa7-993c-26a6a6ecb2d3",
   "metadata": {},
   "outputs": [],
   "source": []
  }
 ],
 "metadata": {
  "kernelspec": {
   "display_name": "Python 3 (ipykernel)",
   "language": "python",
   "name": "python3"
  },
  "language_info": {
   "codemirror_mode": {
    "name": "ipython",
    "version": 3
   },
   "file_extension": ".py",
   "mimetype": "text/x-python",
   "name": "python",
   "nbconvert_exporter": "python",
   "pygments_lexer": "ipython3",
   "version": "3.8.2"
  }
 },
 "nbformat": 4,
 "nbformat_minor": 5
}
