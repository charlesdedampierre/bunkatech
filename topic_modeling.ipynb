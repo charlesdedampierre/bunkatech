{
 "cells": [
  {
   "cell_type": "code",
   "execution_count": 5,
   "id": "6da97071-3ae3-4a0c-afb0-579417427fa6",
   "metadata": {},
   "outputs": [],
   "source": [
    "import pandas as pd\n",
    "import bamboolib\n",
    "import plotly\n",
    "\n",
    "from bunkatech.topic_modeling import topic_modeling\n",
    "from bunkatech.nested_topic_modeling import nested_topic_modeling"
   ]
  },
  {
   "cell_type": "code",
   "execution_count": 6,
   "id": "32e78a0f-2f1c-4f4d-accd-2b2e44a00acb",
   "metadata": {},
   "outputs": [],
   "source": [
    "df = pd.read_csv(\"data/imdb_movies.csv\", index_col=[0])\n",
    "df = df[df[\"description\"].notna()]\n",
    "docs = list(df[\"description\"])"
   ]
  },
  {
   "cell_type": "code",
   "execution_count": 3,
   "id": "a9ef49dc-8816-4cbc-a7e9-68592d5d6fd2",
   "metadata": {},
   "outputs": [
    {
     "name": "stdout",
     "output_type": "stream",
     "text": [
      "Create Embeddings & Umap...\n",
      "Embeddings..\n",
      "Reducing the vectors..\n",
      "UMAP(angular_rp_forest=True, metric='cosine', n_components=5, n_neighbors=10, verbose=True)\n",
      "Thu Feb 10 14:15:43 2022 Construct fuzzy simplicial set\n",
      "Thu Feb 10 14:15:43 2022 Finding Nearest Neighbors\n",
      "Thu Feb 10 14:15:43 2022 Building RP forest with 10 trees\n",
      "Thu Feb 10 14:15:44 2022 metric NN descent for 13 iterations\n",
      "\t 1  /  13\n",
      "\t 2  /  13\n",
      "\t 3  /  13\n",
      "\t 4  /  13\n",
      "\t 5  /  13\n",
      "\t 6  /  13\n",
      "\t 7  /  13\n",
      "\t 8  /  13\n",
      "\t 9  /  13\n",
      "\t 10  /  13\n",
      "\t 11  /  13\n",
      "\t 12  /  13\n",
      "\tStopping threshold met -- exiting after 12 iterations\n",
      "Thu Feb 10 14:16:13 2022 Finished Nearest Neighbor Search\n",
      "Thu Feb 10 14:16:15 2022 Construct embedding\n"
     ]
    },
    {
     "data": {
      "application/vnd.jupyter.widget-view+json": {
       "model_id": "7ff9bc604934436bba4a31fe7f0dd3a6",
       "version_major": 2,
       "version_minor": 0
      },
      "text/plain": [
       "Epochs completed:   0%|            0/500 [00:00]"
      ]
     },
     "metadata": {},
     "output_type": "display_data"
    },
    {
     "name": "stdout",
     "output_type": "stream",
     "text": [
      "Thu Feb 10 14:16:25 2022 Finished embedding\n",
      "Create Clusters...\n",
      "Extract Terms...\n"
     ]
    },
    {
     "name": "stderr",
     "output_type": "stream",
     "text": [
      "100%|███████████████████████████████████████| 3000/3000 [00:33<00:00, 90.23it/s]\n"
     ]
    }
   ],
   "source": [
    "topics = topic_modeling(docs, topic_number=15)"
   ]
  },
  {
   "cell_type": "markdown",
   "id": "6a06224e-6a15-4374-a2a1-c605ff8b08ea",
   "metadata": {},
   "source": [
    "#### Nested Topic Modeling"
   ]
  },
  {
   "cell_type": "code",
   "execution_count": null,
   "id": "b54ccd6e-8547-4c3f-90bf-945fb4448567",
   "metadata": {},
   "outputs": [
    {
     "name": "stdout",
     "output_type": "stream",
     "text": [
      "Embeddings..\n"
     ]
    }
   ],
   "source": [
    "treemap, sankey = nested_topic_modeling(\n",
    "    df,\n",
    "    text_var=\"description\",\n",
    "    index_var=\"imdb\",\n",
    "    sample_size=9000,\n",
    "    sample_terms=3000,\n",
    "    embeddings_model = 'sbert'\n",
    ")\n",
    "plotly.offline.plot(sankey, auto_open=True, filename=\"saved_graph/sankey.html\")\n",
    "plotly.offline.plot(treemap, auto_open=True, filename=\"saved_graph/treemap.html\")"
   ]
  },
  {
   "cell_type": "code",
   "execution_count": null,
   "id": "3aec8ec6-6eb1-48bb-9186-bc87c88a4573",
   "metadata": {},
   "outputs": [],
   "source": []
  },
  {
   "cell_type": "code",
   "execution_count": null,
   "id": "b98d471f-1286-4aa7-993c-26a6a6ecb2d3",
   "metadata": {},
   "outputs": [],
   "source": []
  }
 ],
 "metadata": {
  "kernelspec": {
   "display_name": "Python 3 (ipykernel)",
   "language": "python",
   "name": "python3"
  },
  "language_info": {
   "codemirror_mode": {
    "name": "ipython",
    "version": 3
   },
   "file_extension": ".py",
   "mimetype": "text/x-python",
   "name": "python",
   "nbconvert_exporter": "python",
   "pygments_lexer": "ipython3",
   "version": "3.8.2"
  }
 },
 "nbformat": 4,
 "nbformat_minor": 5
}
