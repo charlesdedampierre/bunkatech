{
 "cells": [
  {
   "cell_type": "code",
   "execution_count": 1,
   "id": "6da97071-3ae3-4a0c-afb0-579417427fa6",
   "metadata": {},
   "outputs": [],
   "source": [
    "from bunkatech.topic_modeling import topic_modeling\n",
    "import pandas as pd\n",
    "import bamboolib"
   ]
  },
  {
   "cell_type": "code",
   "execution_count": 3,
   "id": "fe77233f-b8ef-40f5-96db-7990bfa0f883",
   "metadata": {},
   "outputs": [
    {
     "name": "stdout",
     "output_type": "stream",
     "text": [
      "Create Embeddings & Umap...\n",
      "Embeddings..\n",
      "Reducing the vectors..\n",
      "UMAP(angular_rp_forest=True, metric='cosine', n_components=5, n_neighbors=10, verbose=True)\n",
      "Thu Feb 10 10:52:39 2022 Construct fuzzy simplicial set\n",
      "Thu Feb 10 10:52:39 2022 Finding Nearest Neighbors\n",
      "Thu Feb 10 10:52:39 2022 Building RP forest with 10 trees\n",
      "Thu Feb 10 10:52:41 2022 metric NN descent for 13 iterations\n",
      "\t 1  /  13\n",
      "\t 2  /  13\n",
      "\t 3  /  13\n",
      "\t 4  /  13\n",
      "\t 5  /  13\n",
      "\t 6  /  13\n",
      "\t 7  /  13\n",
      "\t 8  /  13\n",
      "\t 9  /  13\n",
      "\t 10  /  13\n",
      "\t 11  /  13\n",
      "\t 12  /  13\n",
      "\tStopping threshold met -- exiting after 12 iterations\n",
      "Thu Feb 10 10:53:55 2022 Finished Nearest Neighbor Search\n",
      "Thu Feb 10 10:54:03 2022 Construct embedding\n"
     ]
    },
    {
     "data": {
      "application/vnd.jupyter.widget-view+json": {
       "model_id": "1d68f04465df4b2991292427add3d210",
       "version_major": 2,
       "version_minor": 0
      },
      "text/plain": [
       "Epochs completed:   0%|            0/500 [00:00]"
      ]
     },
     "metadata": {},
     "output_type": "display_data"
    },
    {
     "name": "stdout",
     "output_type": "stream",
     "text": [
      "Thu Feb 10 10:54:30 2022 Finished embedding\n",
      "Create Clusters...\n",
      "Extract Terms...\n"
     ]
    },
    {
     "name": "stderr",
     "output_type": "stream",
     "text": [
      "100%|███████████████████████████████████████| 3000/3000 [01:48<00:00, 27.72it/s]\n"
     ]
    }
   ],
   "source": [
    "df = pd.read_csv(\"data/imdb_movies.csv\", index_col=[0])\n",
    "df = df[df[\"description\"].notna()]\n",
    "docs = list(df[\"description\"])\n",
    "\n",
    "topics = topic_modeling(docs, topic_number=15)"
   ]
  },
  {
   "cell_type": "code",
   "execution_count": null,
   "id": "37d21737-d166-4b02-84c1-3bec226ed90f",
   "metadata": {},
   "outputs": [],
   "source": []
  },
  {
   "cell_type": "code",
   "execution_count": null,
   "id": "45ab68bc-c21c-4fa6-9eb8-423662401656",
   "metadata": {},
   "outputs": [],
   "source": []
  }
 ],
 "metadata": {
  "kernelspec": {
   "display_name": "Python 3 (ipykernel)",
   "language": "python",
   "name": "python3"
  },
  "language_info": {
   "codemirror_mode": {
    "name": "ipython",
    "version": 3
   },
   "file_extension": ".py",
   "mimetype": "text/x-python",
   "name": "python",
   "nbconvert_exporter": "python",
   "pygments_lexer": "ipython3",
   "version": "3.8.2"
  }
 },
 "nbformat": 4,
 "nbformat_minor": 5
}
