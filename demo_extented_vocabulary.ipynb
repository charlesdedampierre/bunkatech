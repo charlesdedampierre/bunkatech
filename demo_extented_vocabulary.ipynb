{
 "cells": [
  {
   "cell_type": "code",
   "execution_count": 1,
   "id": "f728eddc-51f5-442a-bf89-5bc9cecd064d",
   "metadata": {},
   "outputs": [],
   "source": [
    "\n",
    "from bunkatech.semantics.vocabulary_extension import sbert_extension\n",
    "import pandas as pd\n",
    "import bamboolib\n",
    "\n",
    "# df = pd.read_csv(\"sample_test.csv\")\n",
    "\n",
    "df = pd.read_excel(\n",
    "    \"/Users/charlesdedampierre/Desktop/SciencePo Projects/shaping-ai/labeling/SHAI-LABELS-ROUND-1.xlsx\"\n",
    ")\n",
    "\n",
    "df = df.reset_index(drop=True)\n",
    "df[\"bindex\"] = df.index\n",
    "\n",
    "folding = [\"bien\", \"opportunité\", \"innovation\", \"amélioration\", \"promesses\"]\n",
    "folding = [\"critique de l'intelligence artificielle\"]"
   ]
  },
  {
   "cell_type": "code",
   "execution_count": 5,
   "id": "af4f01f5-8130-42c9-a993-fa878cda7c87",
   "metadata": {},
   "outputs": [
    {
     "name": "stderr",
     "output_type": "stream",
     "text": [
      "Extract Terms: 100%|████████████████████████| 1000/1000 [00:22<00:00, 43.80it/s]\n"
     ]
    },
    {
     "data": {
      "application/vnd.jupyter.widget-view+json": {
       "model_id": "cf189d2ef4ae4afd968cc200534d55b7",
       "version_major": 2,
       "version_minor": 0
      },
      "text/plain": [
       "Batches:   0%|          | 0/125 [00:00<?, ?it/s]"
      ]
     },
     "metadata": {},
     "output_type": "display_data"
    }
   ],
   "source": [
    "res = sbert_extension(\n",
    "    folding,\n",
    "    df,\n",
    "    text_var=\"title_lead\",\n",
    "    sample_terms=1000,\n",
    "    language=\"fr\",\n",
    "    top_n=15,\n",
    "    #bert_model=\"/Volumes/OutFriend/sbert_model/distiluse-base-multilingual-cased-v1\",\n",
    "    bert_model=\"distiluse-base-multilingual-cased-v1\",\n",
    "\n",
    ")"
   ]
  },
  {
   "cell_type": "code",
   "execution_count": null,
   "id": "230178e9-d59d-4cfe-98bc-eefac63df89f",
   "metadata": {},
   "outputs": [],
   "source": []
  },
  {
   "cell_type": "code",
   "execution_count": null,
   "id": "fa3bd0ed-67c5-4726-bbe3-2e3b4104d134",
   "metadata": {},
   "outputs": [],
   "source": []
  },
  {
   "cell_type": "code",
   "execution_count": null,
   "id": "48552909-393c-4ece-a9bf-eebf9ea068e8",
   "metadata": {},
   "outputs": [],
   "source": []
  }
 ],
 "metadata": {
  "kernelspec": {
   "display_name": "Python 3 (ipykernel)",
   "language": "python",
   "name": "python3"
  },
  "language_info": {
   "codemirror_mode": {
    "name": "ipython",
    "version": 3
   },
   "file_extension": ".py",
   "mimetype": "text/x-python",
   "name": "python",
   "nbconvert_exporter": "python",
   "pygments_lexer": "ipython3",
   "version": "3.8.2"
  }
 },
 "nbformat": 4,
 "nbformat_minor": 5
}
