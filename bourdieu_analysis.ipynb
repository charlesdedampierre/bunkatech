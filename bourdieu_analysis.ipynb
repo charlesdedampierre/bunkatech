{
 "cells": [
  {
   "cell_type": "code",
   "execution_count": null,
   "id": "e6943d4a-50cc-44df-9692-108c3e7aff7e",
   "metadata": {},
   "outputs": [],
   "source": [
    "from bunkatech.semantics.bourdieu import Bourdieu\n",
    "import pandas as pd"
   ]
  },
  {
   "cell_type": "code",
   "execution_count": null,
   "id": "4105a149-a8e3-4eba-9728-9bee301ce551",
   "metadata": {},
   "outputs": [],
   "source": [
    "data = pd.read_csv(\n",
    "    \"/Users/charlesdedampierre/Desktop/ENS Projects/imaginary-world/db_film_iw (2).csv\",\n",
    "    index_col=[0],\n",
    ")\n"
   ]
  },
  {
   "cell_type": "code",
   "execution_count": null,
   "id": "3c3b57ff-3e6d-439b-8b91-9b0ddd6c19d4",
   "metadata": {},
   "outputs": [],
   "source": [
    "model = Bourdieu()\n",
    "model.fit(data = data, text_var = 'description', index_var = 'imdb')"
   ]
  },
  {
   "cell_type": "code",
   "execution_count": null,
   "id": "d4a88016-b41e-4cf5-b0c5-22ea0b9764be",
   "metadata": {},
   "outputs": [],
   "source": [
    "terms = model.extract_terms(sample_size = 1000,\n",
    "                    limit=1000,\n",
    "                    ents=True,\n",
    "                    ncs=True,\n",
    "                    ngrams=(1, 2),\n",
    "                    include_pos=[\"NOUN\", \"PROPN\", \"ADJ\"],\n",
    "                    include_types=[\"PERSON\", \"ORG\"],\n",
    "                    language=\"en\")"
   ]
  },
  {
   "cell_type": "code",
   "execution_count": null,
   "id": "9021c565-5bce-40dc-9242-47fbe574b164",
   "metadata": {},
   "outputs": [],
   "source": [
    "df_bert = model.sbert_embedding(bert_model=\"distiluse-base-multilingual-cased-v1\")"
   ]
  },
  {
   "cell_type": "code",
   "execution_count": null,
   "id": "a1aea1bd-1ee4-43ec-85af-70445a8baf49",
   "metadata": {},
   "outputs": [],
   "source": []
  },
  {
   "cell_type": "code",
   "execution_count": null,
   "id": "6d04337e-6a7a-44b6-9f09-49b809314e52",
   "metadata": {},
   "outputs": [],
   "source": [
    "projection = ['man', 'woman'] \n",
    "projection_2 = ['new', 'life']"
   ]
  },
  {
   "cell_type": "code",
   "execution_count": null,
   "id": "54ba18bc-b549-42e2-aeb9-574b8b734448",
   "metadata": {},
   "outputs": [],
   "source": [
    "pd.options.mode.chained_assignment = None"
   ]
  },
  {
   "cell_type": "code",
   "execution_count": null,
   "id": "3f43b5c0-0a8f-4536-a924-0a9b73cd1afa",
   "metadata": {},
   "outputs": [],
   "source": [
    "fig_terms  = model.bourdieu_projection_terms(\n",
    "                    projection = projection,\n",
    "                    projection_2 = projection_2,\n",
    "                    height = 1000,\n",
    "                    width = 1000)"
   ]
  },
  {
   "cell_type": "code",
   "execution_count": null,
   "id": "b9b7b327-cee8-4636-9cf4-d488d60ef0de",
   "metadata": {},
   "outputs": [],
   "source": [
    "fig_document = model.bourdieu_projection_documents(projection = projection, \n",
    "                                                   projection_2 = projection_2,\n",
    "                                                   width=1000,\n",
    "                                                   height=1000)"
   ]
  },
  {
   "cell_type": "code",
   "execution_count": null,
   "id": "92d8b51c-7614-41ed-8ae4-5303a7b75c26",
   "metadata": {},
   "outputs": [],
   "source": [
    "fig_document.show()"
   ]
  },
  {
   "cell_type": "code",
   "execution_count": null,
   "id": "57ac62e1-a9e4-4146-937e-e951c99666b5",
   "metadata": {},
   "outputs": [],
   "source": []
  }
 ],
 "metadata": {
  "kernelspec": {
   "display_name": "Python 3 (ipykernel)",
   "language": "python",
   "name": "python3"
  },
  "language_info": {
   "codemirror_mode": {
    "name": "ipython",
    "version": 3
   },
   "file_extension": ".py",
   "mimetype": "text/x-python",
   "name": "python",
   "nbconvert_exporter": "python",
   "pygments_lexer": "ipython3",
   "version": "3.8.2"
  }
 },
 "nbformat": 4,
 "nbformat_minor": 5
}
