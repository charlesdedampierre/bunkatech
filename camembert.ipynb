{
 "cells": [
  {
   "cell_type": "code",
   "execution_count": 2,
   "id": "808b7de3-ae22-4e87-851e-ef081d6b94f1",
   "metadata": {},
   "outputs": [
    {
     "ename": "TypeError",
     "evalue": "expected str, bytes or os.PathLike object, not NoneType",
     "output_type": "error",
     "traceback": [
      "\u001b[0;31m---------------------------------------------------------------------------\u001b[0m",
      "\u001b[0;31mTypeError\u001b[0m                                 Traceback (most recent call last)",
      "\u001b[0;32m/var/folders/9g/c1k2z1fx1y19x5dwdxzft52w0000gn/T/ipykernel_834/1618561956.py\u001b[0m in \u001b[0;36m<module>\u001b[0;34m\u001b[0m\n\u001b[1;32m      3\u001b[0m \u001b[0;32mimport\u001b[0m \u001b[0mbamboolib\u001b[0m\u001b[0;34m\u001b[0m\u001b[0;34m\u001b[0m\u001b[0m\n\u001b[1;32m      4\u001b[0m \u001b[0;32mfrom\u001b[0m \u001b[0mtqdm\u001b[0m\u001b[0;34m.\u001b[0m\u001b[0mnotebook\u001b[0m \u001b[0;32mimport\u001b[0m \u001b[0mtqdm\u001b[0m\u001b[0;34m\u001b[0m\u001b[0;34m\u001b[0m\u001b[0m\n\u001b[0;32m----> 5\u001b[0;31m \u001b[0;32mfrom\u001b[0m \u001b[0mutils\u001b[0m \u001b[0;32mimport\u001b[0m \u001b[0mf\u001b[0m\u001b[0;34m\u001b[0m\u001b[0;34m\u001b[0m\u001b[0m\n\u001b[0m\u001b[1;32m      6\u001b[0m \u001b[0;31m#from utils import camembert_embedding\u001b[0m\u001b[0;34m\u001b[0m\u001b[0;34m\u001b[0m\u001b[0;34m\u001b[0m\u001b[0m\n",
      "\u001b[0;32m~/Desktop/BUNKATECH/bunkatech/utils.py\u001b[0m in \u001b[0;36m<module>\u001b[0;34m\u001b[0m\n\u001b[1;32m     21\u001b[0m \u001b[0;34m\u001b[0m\u001b[0m\n\u001b[1;32m     22\u001b[0m \u001b[0mmodel_path\u001b[0m \u001b[0;34m=\u001b[0m \u001b[0;34m'/Volumes/OutFriend/camembert/camembert-base/'\u001b[0m\u001b[0;34m\u001b[0m\u001b[0;34m\u001b[0m\u001b[0m\n\u001b[0;32m---> 23\u001b[0;31m \u001b[0mcamembert\u001b[0m \u001b[0;34m=\u001b[0m \u001b[0mCamembertModel\u001b[0m\u001b[0;34m.\u001b[0m\u001b[0mfrom_pretrained\u001b[0m\u001b[0;34m(\u001b[0m\u001b[0mmodel_path\u001b[0m\u001b[0;34m)\u001b[0m\u001b[0;34m\u001b[0m\u001b[0;34m\u001b[0m\u001b[0m\n\u001b[0m\u001b[1;32m     24\u001b[0m \u001b[0;34m\u001b[0m\u001b[0m\n\u001b[1;32m     25\u001b[0m \u001b[0;32mdef\u001b[0m \u001b[0mcamembert_embedding\u001b[0m\u001b[0;34m(\u001b[0m\u001b[0mlist\u001b[0m\u001b[0;34m)\u001b[0m\u001b[0;34m:\u001b[0m\u001b[0;34m\u001b[0m\u001b[0;34m\u001b[0m\u001b[0m\n",
      "\u001b[0;32m/Library/Frameworks/Python.framework/Versions/3.8/lib/python3.8/site-packages/fairseq/models/roberta/model_camembert.py\u001b[0m in \u001b[0;36mfrom_pretrained\u001b[0;34m(cls, model_name_or_path, checkpoint_file, data_name_or_path, bpe, **kwargs)\u001b[0m\n\u001b[1;32m     39\u001b[0m         \u001b[0;32mfrom\u001b[0m \u001b[0mfairseq\u001b[0m \u001b[0;32mimport\u001b[0m \u001b[0mhub_utils\u001b[0m\u001b[0;34m\u001b[0m\u001b[0;34m\u001b[0m\u001b[0m\n\u001b[1;32m     40\u001b[0m \u001b[0;34m\u001b[0m\u001b[0m\n\u001b[0;32m---> 41\u001b[0;31m         x = hub_utils.from_pretrained(\n\u001b[0m\u001b[1;32m     42\u001b[0m             \u001b[0mmodel_name_or_path\u001b[0m\u001b[0;34m,\u001b[0m\u001b[0;34m\u001b[0m\u001b[0;34m\u001b[0m\u001b[0m\n\u001b[1;32m     43\u001b[0m             \u001b[0mcheckpoint_file\u001b[0m\u001b[0;34m,\u001b[0m\u001b[0;34m\u001b[0m\u001b[0;34m\u001b[0m\u001b[0m\n",
      "\u001b[0;32m/Library/Frameworks/Python.framework/Versions/3.8/lib/python3.8/site-packages/fairseq/hub_utils.py\u001b[0m in \u001b[0;36mfrom_pretrained\u001b[0;34m(model_name_or_path, checkpoint_file, data_name_or_path, archive_map, **kwargs)\u001b[0m\n\u001b[1;32m     53\u001b[0m     \u001b[0;31m# convenience hack for loading data and BPE codes from model archive\u001b[0m\u001b[0;34m\u001b[0m\u001b[0;34m\u001b[0m\u001b[0;34m\u001b[0m\u001b[0m\n\u001b[1;32m     54\u001b[0m     \u001b[0;32mif\u001b[0m \u001b[0mdata_name_or_path\u001b[0m\u001b[0;34m.\u001b[0m\u001b[0mstartswith\u001b[0m\u001b[0;34m(\u001b[0m\u001b[0;34m\".\"\u001b[0m\u001b[0;34m)\u001b[0m\u001b[0;34m:\u001b[0m\u001b[0;34m\u001b[0m\u001b[0;34m\u001b[0m\u001b[0m\n\u001b[0;32m---> 55\u001b[0;31m         \u001b[0mkwargs\u001b[0m\u001b[0;34m[\u001b[0m\u001b[0;34m\"data\"\u001b[0m\u001b[0;34m]\u001b[0m \u001b[0;34m=\u001b[0m \u001b[0mos\u001b[0m\u001b[0;34m.\u001b[0m\u001b[0mpath\u001b[0m\u001b[0;34m.\u001b[0m\u001b[0mabspath\u001b[0m\u001b[0;34m(\u001b[0m\u001b[0mos\u001b[0m\u001b[0;34m.\u001b[0m\u001b[0mpath\u001b[0m\u001b[0;34m.\u001b[0m\u001b[0mjoin\u001b[0m\u001b[0;34m(\u001b[0m\u001b[0mmodel_path\u001b[0m\u001b[0;34m,\u001b[0m \u001b[0mdata_name_or_path\u001b[0m\u001b[0;34m)\u001b[0m\u001b[0;34m)\u001b[0m\u001b[0;34m\u001b[0m\u001b[0;34m\u001b[0m\u001b[0m\n\u001b[0m\u001b[1;32m     56\u001b[0m     \u001b[0;32melse\u001b[0m\u001b[0;34m:\u001b[0m\u001b[0;34m\u001b[0m\u001b[0;34m\u001b[0m\u001b[0m\n\u001b[1;32m     57\u001b[0m         \u001b[0mkwargs\u001b[0m\u001b[0;34m[\u001b[0m\u001b[0;34m\"data\"\u001b[0m\u001b[0;34m]\u001b[0m \u001b[0;34m=\u001b[0m \u001b[0mfile_utils\u001b[0m\u001b[0;34m.\u001b[0m\u001b[0mload_archive_file\u001b[0m\u001b[0;34m(\u001b[0m\u001b[0mdata_name_or_path\u001b[0m\u001b[0;34m)\u001b[0m\u001b[0;34m\u001b[0m\u001b[0;34m\u001b[0m\u001b[0m\n",
      "\u001b[0;32m/Library/Frameworks/Python.framework/Versions/3.8/lib/python3.8/posixpath.py\u001b[0m in \u001b[0;36mjoin\u001b[0;34m(a, *p)\u001b[0m\n\u001b[1;32m     74\u001b[0m     \u001b[0mwill\u001b[0m \u001b[0mbe\u001b[0m \u001b[0mdiscarded\u001b[0m\u001b[0;34m.\u001b[0m  \u001b[0mAn\u001b[0m \u001b[0mempty\u001b[0m \u001b[0mlast\u001b[0m \u001b[0mpart\u001b[0m \u001b[0mwill\u001b[0m \u001b[0mresult\u001b[0m \u001b[0;32min\u001b[0m \u001b[0ma\u001b[0m \u001b[0mpath\u001b[0m \u001b[0mthat\u001b[0m\u001b[0;34m\u001b[0m\u001b[0;34m\u001b[0m\u001b[0m\n\u001b[1;32m     75\u001b[0m     ends with a separator.\"\"\"\n\u001b[0;32m---> 76\u001b[0;31m     \u001b[0ma\u001b[0m \u001b[0;34m=\u001b[0m \u001b[0mos\u001b[0m\u001b[0;34m.\u001b[0m\u001b[0mfspath\u001b[0m\u001b[0;34m(\u001b[0m\u001b[0ma\u001b[0m\u001b[0;34m)\u001b[0m\u001b[0;34m\u001b[0m\u001b[0;34m\u001b[0m\u001b[0m\n\u001b[0m\u001b[1;32m     77\u001b[0m     \u001b[0msep\u001b[0m \u001b[0;34m=\u001b[0m \u001b[0m_get_sep\u001b[0m\u001b[0;34m(\u001b[0m\u001b[0ma\u001b[0m\u001b[0;34m)\u001b[0m\u001b[0;34m\u001b[0m\u001b[0;34m\u001b[0m\u001b[0m\n\u001b[1;32m     78\u001b[0m     \u001b[0mpath\u001b[0m \u001b[0;34m=\u001b[0m \u001b[0ma\u001b[0m\u001b[0;34m\u001b[0m\u001b[0;34m\u001b[0m\u001b[0m\n",
      "\u001b[0;31mTypeError\u001b[0m: expected str, bytes or os.PathLike object, not NoneType"
     ]
    }
   ],
   "source": [
    "#from fairseq.models.roberta import CamembertModel\n",
    "import pandas as pd\n",
    "import bamboolib\n",
    "from tqdm.notebook import tqdm\n",
    "from utils import f\n",
    "#from utils import camembert_embedding"
   ]
  },
  {
   "cell_type": "code",
   "execution_count": null,
   "id": "9609c90d-2da0-43d9-bd62-be21daaf4b62",
   "metadata": {},
   "outputs": [],
   "source": [
    "import pandas as pd\n",
    "\n",
    "data = pd.read_excel(\n",
    "    \"/Users/charlesdedampierre/Desktop/SciencePo Projects/shaping-ai/labeling/SHAI-LABELS-ROUND-1.xlsx\"\n",
    ")\n",
    "\n",
    "data[\"bindex\"] = data.index\n",
    "data = data.sample(10)\n",
    "data = data.reset_index(drop=True)"
   ]
  },
  {
   "cell_type": "code",
   "execution_count": null,
   "id": "ff16327b-99de-418a-a0a5-6a9f7b4a86be",
   "metadata": {},
   "outputs": [],
   "source": [
    "from multiprocessing import Pool"
   ]
  },
  {
   "cell_type": "code",
   "execution_count": 8,
   "id": "4b00ff9e-80e6-4dfa-a037-996b02e3b1a5",
   "metadata": {},
   "outputs": [],
   "source": [
    "import numpy as np"
   ]
  },
  {
   "cell_type": "code",
   "execution_count": 9,
   "id": "27a31a19-77b4-4693-9c63-64459457a14a",
   "metadata": {},
   "outputs": [],
   "source": [
    "with Pool(8) as p:\n",
    "        res = p.map(f, np.arange(1,100))"
   ]
  },
  {
   "cell_type": "code",
   "execution_count": null,
   "id": "a3f15a67-b344-4780-ab5f-821a368a00e0",
   "metadata": {},
   "outputs": [],
   "source": []
  },
  {
   "cell_type": "code",
   "execution_count": 10,
   "id": "c080ab14-325c-446e-951a-9f8cd10467e1",
   "metadata": {},
   "outputs": [
    {
     "ename": "TypeError",
     "evalue": "expected str, bytes or os.PathLike object, not NoneType",
     "output_type": "error",
     "traceback": [
      "\u001b[0;31m---------------------------------------------------------------------------\u001b[0m",
      "\u001b[0;31mRemoteTraceback\u001b[0m                           Traceback (most recent call last)",
      "\u001b[0;31mRemoteTraceback\u001b[0m: \n\"\"\"\nTraceback (most recent call last):\n  File \"/Library/Frameworks/Python.framework/Versions/3.8/lib/python3.8/multiprocessing/pool.py\", line 125, in worker\n    result = (True, func(*args, **kwds))\n  File \"/Library/Frameworks/Python.framework/Versions/3.8/lib/python3.8/multiprocessing/pool.py\", line 48, in mapstar\n    return list(map(*args))\n  File \"/Users/charlesdedampierre/Desktop/BUNKATECH/bunkatech/utils.py\", line 24, in camembert_embedding\n    camembert = CamembertModel.from_pretrained(model_path)\n  File \"/Library/Frameworks/Python.framework/Versions/3.8/lib/python3.8/site-packages/fairseq/models/roberta/model_camembert.py\", line 41, in from_pretrained\n    x = hub_utils.from_pretrained(\n  File \"/Library/Frameworks/Python.framework/Versions/3.8/lib/python3.8/site-packages/fairseq/hub_utils.py\", line 55, in from_pretrained\n    kwargs[\"data\"] = os.path.abspath(os.path.join(model_path, data_name_or_path))\n  File \"/Library/Frameworks/Python.framework/Versions/3.8/lib/python3.8/posixpath.py\", line 76, in join\n    a = os.fspath(a)\nTypeError: expected str, bytes or os.PathLike object, not NoneType\n\"\"\"",
      "\nThe above exception was the direct cause of the following exception:\n",
      "\u001b[0;31mTypeError\u001b[0m                                 Traceback (most recent call last)",
      "\u001b[0;32m/var/folders/9g/c1k2z1fx1y19x5dwdxzft52w0000gn/T/ipykernel_753/2473127345.py\u001b[0m in \u001b[0;36m<module>\u001b[0;34m\u001b[0m\n\u001b[1;32m      1\u001b[0m \u001b[0;32mwith\u001b[0m \u001b[0mPool\u001b[0m\u001b[0;34m(\u001b[0m\u001b[0;36m5\u001b[0m\u001b[0;34m)\u001b[0m \u001b[0;32mas\u001b[0m \u001b[0mp\u001b[0m\u001b[0;34m:\u001b[0m\u001b[0;34m\u001b[0m\u001b[0;34m\u001b[0m\u001b[0m\n\u001b[0;32m----> 2\u001b[0;31m         \u001b[0mres\u001b[0m \u001b[0;34m=\u001b[0m \u001b[0mp\u001b[0m\u001b[0;34m.\u001b[0m\u001b[0mmap\u001b[0m\u001b[0;34m(\u001b[0m\u001b[0mcamembert_embedding\u001b[0m\u001b[0;34m,\u001b[0m  \u001b[0mdata\u001b[0m\u001b[0;34m[\u001b[0m\u001b[0;34m'title_lead'\u001b[0m\u001b[0;34m]\u001b[0m\u001b[0;34m.\u001b[0m\u001b[0mto_list\u001b[0m\u001b[0;34m(\u001b[0m\u001b[0;34m)\u001b[0m\u001b[0;34m)\u001b[0m\u001b[0;34m\u001b[0m\u001b[0;34m\u001b[0m\u001b[0m\n\u001b[0m",
      "\u001b[0;32m/Library/Frameworks/Python.framework/Versions/3.8/lib/python3.8/multiprocessing/pool.py\u001b[0m in \u001b[0;36mmap\u001b[0;34m(self, func, iterable, chunksize)\u001b[0m\n\u001b[1;32m    362\u001b[0m         \u001b[0;32min\u001b[0m \u001b[0ma\u001b[0m \u001b[0mlist\u001b[0m \u001b[0mthat\u001b[0m \u001b[0;32mis\u001b[0m \u001b[0mreturned\u001b[0m\u001b[0;34m.\u001b[0m\u001b[0;34m\u001b[0m\u001b[0;34m\u001b[0m\u001b[0m\n\u001b[1;32m    363\u001b[0m         '''\n\u001b[0;32m--> 364\u001b[0;31m         \u001b[0;32mreturn\u001b[0m \u001b[0mself\u001b[0m\u001b[0;34m.\u001b[0m\u001b[0m_map_async\u001b[0m\u001b[0;34m(\u001b[0m\u001b[0mfunc\u001b[0m\u001b[0;34m,\u001b[0m \u001b[0miterable\u001b[0m\u001b[0;34m,\u001b[0m \u001b[0mmapstar\u001b[0m\u001b[0;34m,\u001b[0m \u001b[0mchunksize\u001b[0m\u001b[0;34m)\u001b[0m\u001b[0;34m.\u001b[0m\u001b[0mget\u001b[0m\u001b[0;34m(\u001b[0m\u001b[0;34m)\u001b[0m\u001b[0;34m\u001b[0m\u001b[0;34m\u001b[0m\u001b[0m\n\u001b[0m\u001b[1;32m    365\u001b[0m \u001b[0;34m\u001b[0m\u001b[0m\n\u001b[1;32m    366\u001b[0m     \u001b[0;32mdef\u001b[0m \u001b[0mstarmap\u001b[0m\u001b[0;34m(\u001b[0m\u001b[0mself\u001b[0m\u001b[0;34m,\u001b[0m \u001b[0mfunc\u001b[0m\u001b[0;34m,\u001b[0m \u001b[0miterable\u001b[0m\u001b[0;34m,\u001b[0m \u001b[0mchunksize\u001b[0m\u001b[0;34m=\u001b[0m\u001b[0;32mNone\u001b[0m\u001b[0;34m)\u001b[0m\u001b[0;34m:\u001b[0m\u001b[0;34m\u001b[0m\u001b[0;34m\u001b[0m\u001b[0m\n",
      "\u001b[0;32m/Library/Frameworks/Python.framework/Versions/3.8/lib/python3.8/multiprocessing/pool.py\u001b[0m in \u001b[0;36mget\u001b[0;34m(self, timeout)\u001b[0m\n\u001b[1;32m    766\u001b[0m             \u001b[0;32mreturn\u001b[0m \u001b[0mself\u001b[0m\u001b[0;34m.\u001b[0m\u001b[0m_value\u001b[0m\u001b[0;34m\u001b[0m\u001b[0;34m\u001b[0m\u001b[0m\n\u001b[1;32m    767\u001b[0m         \u001b[0;32melse\u001b[0m\u001b[0;34m:\u001b[0m\u001b[0;34m\u001b[0m\u001b[0;34m\u001b[0m\u001b[0m\n\u001b[0;32m--> 768\u001b[0;31m             \u001b[0;32mraise\u001b[0m \u001b[0mself\u001b[0m\u001b[0;34m.\u001b[0m\u001b[0m_value\u001b[0m\u001b[0;34m\u001b[0m\u001b[0;34m\u001b[0m\u001b[0m\n\u001b[0m\u001b[1;32m    769\u001b[0m \u001b[0;34m\u001b[0m\u001b[0m\n\u001b[1;32m    770\u001b[0m     \u001b[0;32mdef\u001b[0m \u001b[0m_set\u001b[0m\u001b[0;34m(\u001b[0m\u001b[0mself\u001b[0m\u001b[0;34m,\u001b[0m \u001b[0mi\u001b[0m\u001b[0;34m,\u001b[0m \u001b[0mobj\u001b[0m\u001b[0;34m)\u001b[0m\u001b[0;34m:\u001b[0m\u001b[0;34m\u001b[0m\u001b[0;34m\u001b[0m\u001b[0m\n",
      "\u001b[0;31mTypeError\u001b[0m: expected str, bytes or os.PathLike object, not NoneType"
     ]
    }
   ],
   "source": [
    "with Pool(5) as p:\n",
    "        res = p.map(camembert_embedding,  data['title_lead'].to_list())"
   ]
  },
  {
   "cell_type": "code",
   "execution_count": null,
   "id": "e6129247-50e1-47f0-89fa-2cc2255d7368",
   "metadata": {},
   "outputs": [],
   "source": []
  },
  {
   "cell_type": "code",
   "execution_count": 17,
   "id": "e5d4b7a1-9b86-4d02-becd-2f18df1e2893",
   "metadata": {},
   "outputs": [],
   "source": [
    "camembert = CamembertModel.from_pretrained('/Volumes/OutFriend/camembert/camembert-base/')"
   ]
  },
  {
   "cell_type": "code",
   "execution_count": null,
   "id": "6601f68d-864a-4f38-ba39-11b1ea8c3ed1",
   "metadata": {},
   "outputs": [],
   "source": [
    "#tqdm(list, total = len(list))"
   ]
  },
  {
   "cell_type": "code",
   "execution_count": 104,
   "id": "eb3b9e88-3460-4920-a3b3-2080e652709b",
   "metadata": {},
   "outputs": [],
   "source": [
    "def camembert_embedding(list):\n",
    "    \n",
    "    embeddings = []\n",
    "    for sentence in list:\n",
    "\n",
    "        # Extract the last layer's features\n",
    "        tokens = camembert.encode(sentence)\n",
    "        last_layer_features = camembert.extract_features(tokens)[0].detach().numpy() \n",
    "\n",
    "        # The sentence is the mean of the embeddings\n",
    "        embedding = pd.DataFrame(last_layer_features).mean()\n",
    "        embeddings.append(embedding)\n",
    "    \n",
    "    \n",
    "    return embeddings"
   ]
  },
  {
   "cell_type": "code",
   "execution_count": null,
   "id": "61fd6ef5-dc5e-4736-a9ae-2e5e0bbff34b",
   "metadata": {},
   "outputs": [],
   "source": []
  },
  {
   "cell_type": "code",
   "execution_count": 3,
   "id": "a550f1de-96e3-4783-b6a0-71321cf87501",
   "metadata": {},
   "outputs": [],
   "source": []
  },
  {
   "cell_type": "code",
   "execution_count": 86,
   "id": "e3121074-6d4a-46e6-8102-346a15df871e",
   "metadata": {},
   "outputs": [],
   "source": [
    "# how to do parallel computing"
   ]
  },
  {
   "cell_type": "code",
   "execution_count": 87,
   "id": "e86d1885-9844-451d-b190-f8f17d22ae70",
   "metadata": {},
   "outputs": [],
   "source": [
    "import multiprocessing\n",
    "a_pool = multiprocessing.Pool()"
   ]
  },
  {
   "cell_type": "code",
   "execution_count": 96,
   "id": "7f9a01b3-7def-4ec7-92cc-7bfec0803bdf",
   "metadata": {},
   "outputs": [
    {
     "data": {
      "application/vnd.jupyter.widget-view+json": {
       "model_id": "833937f747cd4f75849cd3697e2eb226",
       "version_major": 2,
       "version_minor": 0
      },
      "text/plain": [
       "  0%|          | 0/10 [00:00<?, ?it/s]"
      ]
     },
     "metadata": {},
     "output_type": "display_data"
    }
   ],
   "source": [
    "embeddings = camembert_embedding(data['title_lead'].to_list())"
   ]
  },
  {
   "cell_type": "code",
   "execution_count": 1,
   "id": "16c7b92a-f10d-493b-a4b3-29cb688c82f1",
   "metadata": {},
   "outputs": [],
   "source": [
    "from utils import f\n",
    "from utils import camembert_embedding"
   ]
  },
  {
   "cell_type": "code",
   "execution_count": 6,
   "id": "5f76accb-8c4f-4222-b5cb-191abe03dc74",
   "metadata": {},
   "outputs": [],
   "source": [
    "from multiprocessing import Pool"
   ]
  },
  {
   "cell_type": "code",
   "execution_count": null,
   "id": "2585064f-62ce-4bf2-82f7-f77e6da45a87",
   "metadata": {},
   "outputs": [],
   "source": []
  },
  {
   "cell_type": "code",
   "execution_count": null,
   "id": "cee742ed-972f-422e-9207-a2f80b357e33",
   "metadata": {},
   "outputs": [],
   "source": [
    "\n",
    "if __name__ == '__main__':\n",
    "    with Pool(5) as p:\n",
    "        print(p.map(f, [1, 2, 3]))"
   ]
  },
  {
   "cell_type": "code",
   "execution_count": 99,
   "id": "9e1a389e-3c2f-40b9-9be7-5f5e59cc8ff5",
   "metadata": {},
   "outputs": [
    {
     "name": "stdout",
     "output_type": "stream",
     "text": [
      "[1, 4, 9, 16, 25]\n"
     ]
    }
   ],
   "source": [
    "import multiprocess as mp\n",
    "\n",
    "def f(x):\n",
    "    return x*x\n",
    "\n",
    "with mp.Pool(5) as pool:\n",
    "    print(pool.map(f, [1, 2, 3, 4, 5]))"
   ]
  },
  {
   "cell_type": "code",
   "execution_count": 105,
   "id": "17bec7f1-3a96-4acb-9942-b10f8fa243af",
   "metadata": {},
   "outputs": [
    {
     "name": "stderr",
     "output_type": "stream",
     "text": [
      "Process ForkPoolWorker-40:\n",
      "Process ForkPoolWorker-37:\n",
      "Process SpawnPoolWorker-142:\n",
      "Traceback (most recent call last):\n",
      "  File \"/Library/Frameworks/Python.framework/Versions/3.8/lib/python3.8/multiprocessing/process.py\", line 315, in _bootstrap\n",
      "    self.run()\n",
      "  File \"/Library/Frameworks/Python.framework/Versions/3.8/lib/python3.8/multiprocessing/process.py\", line 108, in run\n",
      "    self._target(*self._args, **self._kwargs)\n",
      "  File \"/Library/Frameworks/Python.framework/Versions/3.8/lib/python3.8/multiprocessing/pool.py\", line 114, in worker\n",
      "    task = get()\n",
      "  File \"/Library/Frameworks/Python.framework/Versions/3.8/lib/python3.8/multiprocessing/queues.py\", line 355, in get\n",
      "    with self._rlock:\n",
      "  File \"/Library/Frameworks/Python.framework/Versions/3.8/lib/python3.8/multiprocessing/synchronize.py\", line 95, in __enter__\n",
      "    return self._semlock.__enter__()\n",
      "KeyboardInterrupt\n",
      "Process SpawnPoolWorker-144:\n",
      "Traceback (most recent call last):\n",
      "  File \"/Library/Frameworks/Python.framework/Versions/3.8/lib/python3.8/multiprocessing/process.py\", line 315, in _bootstrap\n",
      "    self.run()\n",
      "  File \"/Library/Frameworks/Python.framework/Versions/3.8/lib/python3.8/multiprocessing/process.py\", line 108, in run\n",
      "    self._target(*self._args, **self._kwargs)\n",
      "  File \"/Library/Frameworks/Python.framework/Versions/3.8/lib/python3.8/multiprocessing/pool.py\", line 114, in worker\n",
      "    task = get()\n",
      "  File \"/Library/Frameworks/Python.framework/Versions/3.8/lib/python3.8/multiprocessing/queues.py\", line 355, in get\n",
      "    with self._rlock:\n",
      "  File \"/Library/Frameworks/Python.framework/Versions/3.8/lib/python3.8/multiprocessing/synchronize.py\", line 95, in __enter__\n",
      "    return self._semlock.__enter__()\n",
      "KeyboardInterrupt\n",
      "Process SpawnPoolWorker-143:\n",
      "Traceback (most recent call last):\n",
      "  File \"/Library/Frameworks/Python.framework/Versions/3.8/lib/python3.8/multiprocessing/process.py\", line 315, in _bootstrap\n",
      "    self.run()\n",
      "  File \"/Library/Frameworks/Python.framework/Versions/3.8/lib/python3.8/multiprocessing/process.py\", line 108, in run\n",
      "    self._target(*self._args, **self._kwargs)\n",
      "  File \"/Library/Frameworks/Python.framework/Versions/3.8/lib/python3.8/multiprocessing/pool.py\", line 114, in worker\n",
      "    task = get()\n",
      "  File \"/Library/Frameworks/Python.framework/Versions/3.8/lib/python3.8/multiprocessing/queues.py\", line 355, in get\n",
      "    with self._rlock:\n",
      "  File \"/Library/Frameworks/Python.framework/Versions/3.8/lib/python3.8/multiprocessing/synchronize.py\", line 95, in __enter__\n",
      "    return self._semlock.__enter__()\n",
      "KeyboardInterrupt\n"
     ]
    },
    {
     "ename": "KeyboardInterrupt",
     "evalue": "",
     "output_type": "error",
     "traceback": [
      "\u001b[0;31m---------------------------------------------------------------------------\u001b[0m",
      "\u001b[0;31mKeyboardInterrupt\u001b[0m                         Traceback (most recent call last)",
      "\u001b[0;32m/var/folders/9g/c1k2z1fx1y19x5dwdxzft52w0000gn/T/ipykernel_8002/1584330981.py\u001b[0m in \u001b[0;36m<module>\u001b[0;34m\u001b[0m\n\u001b[1;32m      2\u001b[0m \u001b[0;34m\u001b[0m\u001b[0m\n\u001b[1;32m      3\u001b[0m \u001b[0;32mwith\u001b[0m \u001b[0mmp\u001b[0m\u001b[0;34m.\u001b[0m\u001b[0mPool\u001b[0m\u001b[0;34m(\u001b[0m\u001b[0;36m8\u001b[0m\u001b[0;34m)\u001b[0m \u001b[0;32mas\u001b[0m \u001b[0mpool\u001b[0m\u001b[0;34m:\u001b[0m\u001b[0;34m\u001b[0m\u001b[0;34m\u001b[0m\u001b[0m\n\u001b[0;32m----> 4\u001b[0;31m     \u001b[0mres\u001b[0m \u001b[0;34m=\u001b[0m \u001b[0mpool\u001b[0m\u001b[0;34m.\u001b[0m\u001b[0mmap\u001b[0m\u001b[0;34m(\u001b[0m\u001b[0mcamembert_embedding\u001b[0m\u001b[0;34m,\u001b[0m \u001b[0mdata\u001b[0m\u001b[0;34m[\u001b[0m\u001b[0;34m'title_lead'\u001b[0m\u001b[0;34m]\u001b[0m\u001b[0;34m.\u001b[0m\u001b[0mto_list\u001b[0m\u001b[0;34m(\u001b[0m\u001b[0;34m)\u001b[0m\u001b[0;34m)\u001b[0m\u001b[0;34m\u001b[0m\u001b[0;34m\u001b[0m\u001b[0m\n\u001b[0m",
      "\u001b[0;32m/Library/Frameworks/Python.framework/Versions/3.8/lib/python3.8/site-packages/multiprocess/pool.py\u001b[0m in \u001b[0;36mmap\u001b[0;34m(self, func, iterable, chunksize)\u001b[0m\n\u001b[1;32m    362\u001b[0m         \u001b[0;32min\u001b[0m \u001b[0ma\u001b[0m \u001b[0mlist\u001b[0m \u001b[0mthat\u001b[0m \u001b[0;32mis\u001b[0m \u001b[0mreturned\u001b[0m\u001b[0;34m.\u001b[0m\u001b[0;34m\u001b[0m\u001b[0;34m\u001b[0m\u001b[0m\n\u001b[1;32m    363\u001b[0m         '''\n\u001b[0;32m--> 364\u001b[0;31m         \u001b[0;32mreturn\u001b[0m \u001b[0mself\u001b[0m\u001b[0;34m.\u001b[0m\u001b[0m_map_async\u001b[0m\u001b[0;34m(\u001b[0m\u001b[0mfunc\u001b[0m\u001b[0;34m,\u001b[0m \u001b[0miterable\u001b[0m\u001b[0;34m,\u001b[0m \u001b[0mmapstar\u001b[0m\u001b[0;34m,\u001b[0m \u001b[0mchunksize\u001b[0m\u001b[0;34m)\u001b[0m\u001b[0;34m.\u001b[0m\u001b[0mget\u001b[0m\u001b[0;34m(\u001b[0m\u001b[0;34m)\u001b[0m\u001b[0;34m\u001b[0m\u001b[0;34m\u001b[0m\u001b[0m\n\u001b[0m\u001b[1;32m    365\u001b[0m \u001b[0;34m\u001b[0m\u001b[0m\n\u001b[1;32m    366\u001b[0m     \u001b[0;32mdef\u001b[0m \u001b[0mstarmap\u001b[0m\u001b[0;34m(\u001b[0m\u001b[0mself\u001b[0m\u001b[0;34m,\u001b[0m \u001b[0mfunc\u001b[0m\u001b[0;34m,\u001b[0m \u001b[0miterable\u001b[0m\u001b[0;34m,\u001b[0m \u001b[0mchunksize\u001b[0m\u001b[0;34m=\u001b[0m\u001b[0;32mNone\u001b[0m\u001b[0;34m)\u001b[0m\u001b[0;34m:\u001b[0m\u001b[0;34m\u001b[0m\u001b[0;34m\u001b[0m\u001b[0m\n",
      "\u001b[0;32m/Library/Frameworks/Python.framework/Versions/3.8/lib/python3.8/site-packages/multiprocess/pool.py\u001b[0m in \u001b[0;36mget\u001b[0;34m(self, timeout)\u001b[0m\n\u001b[1;32m    763\u001b[0m \u001b[0;34m\u001b[0m\u001b[0m\n\u001b[1;32m    764\u001b[0m     \u001b[0;32mdef\u001b[0m \u001b[0mget\u001b[0m\u001b[0;34m(\u001b[0m\u001b[0mself\u001b[0m\u001b[0;34m,\u001b[0m \u001b[0mtimeout\u001b[0m\u001b[0;34m=\u001b[0m\u001b[0;32mNone\u001b[0m\u001b[0;34m)\u001b[0m\u001b[0;34m:\u001b[0m\u001b[0;34m\u001b[0m\u001b[0;34m\u001b[0m\u001b[0m\n\u001b[0;32m--> 765\u001b[0;31m         \u001b[0mself\u001b[0m\u001b[0;34m.\u001b[0m\u001b[0mwait\u001b[0m\u001b[0;34m(\u001b[0m\u001b[0mtimeout\u001b[0m\u001b[0;34m)\u001b[0m\u001b[0;34m\u001b[0m\u001b[0;34m\u001b[0m\u001b[0m\n\u001b[0m\u001b[1;32m    766\u001b[0m         \u001b[0;32mif\u001b[0m \u001b[0;32mnot\u001b[0m \u001b[0mself\u001b[0m\u001b[0;34m.\u001b[0m\u001b[0mready\u001b[0m\u001b[0;34m(\u001b[0m\u001b[0;34m)\u001b[0m\u001b[0;34m:\u001b[0m\u001b[0;34m\u001b[0m\u001b[0;34m\u001b[0m\u001b[0m\n\u001b[1;32m    767\u001b[0m             \u001b[0;32mraise\u001b[0m \u001b[0mTimeoutError\u001b[0m\u001b[0;34m\u001b[0m\u001b[0;34m\u001b[0m\u001b[0m\n",
      "\u001b[0;32m/Library/Frameworks/Python.framework/Versions/3.8/lib/python3.8/site-packages/multiprocess/pool.py\u001b[0m in \u001b[0;36mwait\u001b[0;34m(self, timeout)\u001b[0m\n\u001b[1;32m    760\u001b[0m \u001b[0;34m\u001b[0m\u001b[0m\n\u001b[1;32m    761\u001b[0m     \u001b[0;32mdef\u001b[0m \u001b[0mwait\u001b[0m\u001b[0;34m(\u001b[0m\u001b[0mself\u001b[0m\u001b[0;34m,\u001b[0m \u001b[0mtimeout\u001b[0m\u001b[0;34m=\u001b[0m\u001b[0;32mNone\u001b[0m\u001b[0;34m)\u001b[0m\u001b[0;34m:\u001b[0m\u001b[0;34m\u001b[0m\u001b[0;34m\u001b[0m\u001b[0m\n\u001b[0;32m--> 762\u001b[0;31m         \u001b[0mself\u001b[0m\u001b[0;34m.\u001b[0m\u001b[0m_event\u001b[0m\u001b[0;34m.\u001b[0m\u001b[0mwait\u001b[0m\u001b[0;34m(\u001b[0m\u001b[0mtimeout\u001b[0m\u001b[0;34m)\u001b[0m\u001b[0;34m\u001b[0m\u001b[0;34m\u001b[0m\u001b[0m\n\u001b[0m\u001b[1;32m    763\u001b[0m \u001b[0;34m\u001b[0m\u001b[0m\n\u001b[1;32m    764\u001b[0m     \u001b[0;32mdef\u001b[0m \u001b[0mget\u001b[0m\u001b[0;34m(\u001b[0m\u001b[0mself\u001b[0m\u001b[0;34m,\u001b[0m \u001b[0mtimeout\u001b[0m\u001b[0;34m=\u001b[0m\u001b[0;32mNone\u001b[0m\u001b[0;34m)\u001b[0m\u001b[0;34m:\u001b[0m\u001b[0;34m\u001b[0m\u001b[0;34m\u001b[0m\u001b[0m\n",
      "\u001b[0;32m/Library/Frameworks/Python.framework/Versions/3.8/lib/python3.8/threading.py\u001b[0m in \u001b[0;36mwait\u001b[0;34m(self, timeout)\u001b[0m\n\u001b[1;32m    556\u001b[0m             \u001b[0msignaled\u001b[0m \u001b[0;34m=\u001b[0m \u001b[0mself\u001b[0m\u001b[0;34m.\u001b[0m\u001b[0m_flag\u001b[0m\u001b[0;34m\u001b[0m\u001b[0;34m\u001b[0m\u001b[0m\n\u001b[1;32m    557\u001b[0m             \u001b[0;32mif\u001b[0m \u001b[0;32mnot\u001b[0m \u001b[0msignaled\u001b[0m\u001b[0;34m:\u001b[0m\u001b[0;34m\u001b[0m\u001b[0;34m\u001b[0m\u001b[0m\n\u001b[0;32m--> 558\u001b[0;31m                 \u001b[0msignaled\u001b[0m \u001b[0;34m=\u001b[0m \u001b[0mself\u001b[0m\u001b[0;34m.\u001b[0m\u001b[0m_cond\u001b[0m\u001b[0;34m.\u001b[0m\u001b[0mwait\u001b[0m\u001b[0;34m(\u001b[0m\u001b[0mtimeout\u001b[0m\u001b[0;34m)\u001b[0m\u001b[0;34m\u001b[0m\u001b[0;34m\u001b[0m\u001b[0m\n\u001b[0m\u001b[1;32m    559\u001b[0m             \u001b[0;32mreturn\u001b[0m \u001b[0msignaled\u001b[0m\u001b[0;34m\u001b[0m\u001b[0;34m\u001b[0m\u001b[0m\n\u001b[1;32m    560\u001b[0m \u001b[0;34m\u001b[0m\u001b[0m\n",
      "\u001b[0;32m/Library/Frameworks/Python.framework/Versions/3.8/lib/python3.8/threading.py\u001b[0m in \u001b[0;36mwait\u001b[0;34m(self, timeout)\u001b[0m\n\u001b[1;32m    300\u001b[0m         \u001b[0;32mtry\u001b[0m\u001b[0;34m:\u001b[0m    \u001b[0;31m# restore state no matter what (e.g., KeyboardInterrupt)\u001b[0m\u001b[0;34m\u001b[0m\u001b[0;34m\u001b[0m\u001b[0m\n\u001b[1;32m    301\u001b[0m             \u001b[0;32mif\u001b[0m \u001b[0mtimeout\u001b[0m \u001b[0;32mis\u001b[0m \u001b[0;32mNone\u001b[0m\u001b[0;34m:\u001b[0m\u001b[0;34m\u001b[0m\u001b[0;34m\u001b[0m\u001b[0m\n\u001b[0;32m--> 302\u001b[0;31m                 \u001b[0mwaiter\u001b[0m\u001b[0;34m.\u001b[0m\u001b[0macquire\u001b[0m\u001b[0;34m(\u001b[0m\u001b[0;34m)\u001b[0m\u001b[0;34m\u001b[0m\u001b[0;34m\u001b[0m\u001b[0m\n\u001b[0m\u001b[1;32m    303\u001b[0m                 \u001b[0mgotit\u001b[0m \u001b[0;34m=\u001b[0m \u001b[0;32mTrue\u001b[0m\u001b[0;34m\u001b[0m\u001b[0;34m\u001b[0m\u001b[0m\n\u001b[1;32m    304\u001b[0m             \u001b[0;32melse\u001b[0m\u001b[0;34m:\u001b[0m\u001b[0;34m\u001b[0m\u001b[0;34m\u001b[0m\u001b[0m\n",
      "\u001b[0;31mKeyboardInterrupt\u001b[0m: "
     ]
    }
   ],
   "source": [
    "import multiprocess as mp\n",
    "\n",
    "with mp.Pool(8) as pool:\n",
    "    res = pool.map(camembert_embedding, data['title_lead'].to_list())"
   ]
  },
  {
   "cell_type": "code",
   "execution_count": null,
   "id": "cda4575c-cbb1-4d12-b845-a6a6e0646c30",
   "metadata": {},
   "outputs": [],
   "source": []
  },
  {
   "cell_type": "code",
   "execution_count": null,
   "id": "542cc3b1-1c79-4416-adb1-45084c1e0c14",
   "metadata": {},
   "outputs": [],
   "source": []
  },
  {
   "cell_type": "code",
   "execution_count": null,
   "id": "90dad623-912c-49cc-9f00-8477e6ca085c",
   "metadata": {},
   "outputs": [],
   "source": [
    "\n",
    "\n"
   ]
  },
  {
   "cell_type": "code",
   "execution_count": null,
   "id": "f5e75f37-e430-4021-ba49-60ed421b3f09",
   "metadata": {},
   "outputs": [],
   "source": [
    "#embeddings = camembert_embedding(data['title_lead'])"
   ]
  },
  {
   "cell_type": "code",
   "execution_count": null,
   "id": "091c41e5-ed33-4a27-80d6-fd7ff64a8158",
   "metadata": {},
   "outputs": [],
   "source": []
  },
  {
   "cell_type": "code",
   "execution_count": 72,
   "id": "c3051473-8827-4434-a832-42be5cdd0c9b",
   "metadata": {},
   "outputs": [],
   "source": [
    "import plotly.express as px\n",
    "from sklearn.cluster import KMeans"
   ]
  },
  {
   "cell_type": "code",
   "execution_count": 73,
   "id": "9b43de4f-cef3-47c6-a6d4-bbabc6635e40",
   "metadata": {},
   "outputs": [],
   "source": [
    "def wrap_by_word(string, n_words):\n",
    "    \"\"\"returns a string where \\\\n is inserted between every n words\"\"\"\n",
    "    try:\n",
    "        a = string.split()\n",
    "        ret = \"\"\n",
    "        for i in range(0, len(a), n_words):\n",
    "            ret += \" \".join(a[i : i + n_words]) + \"<br>\"\n",
    "    except:\n",
    "        pass\n",
    "\n",
    "    return ret"
   ]
  },
  {
   "cell_type": "code",
   "execution_count": 74,
   "id": "fec8179d-f0d4-40dc-b422-c53e85f88233",
   "metadata": {},
   "outputs": [],
   "source": [
    "def make_bubble(emb, data, text_var, n_clusters=20, width=1000, height=1000):\n",
    "\n",
    "    print(\"UMAP Reduction...\")\n",
    "    X_embedded_fit = umap.UMAP(n_components=2).fit_transform(emb)\n",
    "\n",
    "    df_emb = pd.DataFrame(X_embedded_fit, columns=[\"dim_1\", \"dim_2\"])\n",
    "\n",
    "    df_emb[\"clusters\"] = (\n",
    "        KMeans(n_clusters=n_clusters).fit(X_embedded_fit).labels_.astype(str)\n",
    "    )\n",
    "    df_emb[text_var] = data[text_var].apply(lambda x: wrap_by_word(x, 10))\n",
    "\n",
    "    fig = px.scatter(\n",
    "        df_emb,\n",
    "        x=\"dim_1\",\n",
    "        y=\"dim_2\",\n",
    "        color=\"clusters\",\n",
    "        hover_data=[text_var],\n",
    "        width=width,\n",
    "        height=height,\n",
    "    )\n",
    "\n",
    "    return fig"
   ]
  },
  {
   "cell_type": "code",
   "execution_count": 77,
   "id": "9d01ed96-e119-4c32-ba30-661552176179",
   "metadata": {},
   "outputs": [
    {
     "name": "stdout",
     "output_type": "stream",
     "text": [
      "UMAP Reduction...\n"
     ]
    }
   ],
   "source": [
    "fig = make_bubble(embeddings, data.reset_index(drop=True), text_var= 'title_lead', n_clusters=3, width=1000, height=1000)"
   ]
  },
  {
   "cell_type": "code",
   "execution_count": 78,
   "id": "a01cbbad-16da-43a4-ab23-59cd350a2980",
   "metadata": {},
   "outputs": [
    {
     "data": {
      "application/vnd.plotly.v1+json": {
       "config": {
        "plotlyServerURL": "https://plot.ly"
       },
       "data": [
        {
         "customdata": [
          [
           "drone volt remporte deux appels d'offres majeurs auprès de rte<br>aof drone volt expert en intelligence artificielle embarquée et constructeur<br>de drones civils professionnels annonce avoir remporté deux appels d'offres<br>majeurs auprès de rte réseau de transport et d'electricité il<br>a été sélectionné pour la fourniture de drones et la<br>formation de plus de pilotes les livraisons de drones et<br>les formations s'étaleront du quatrième trimestre jusqu'au quatrième trimestre et<br>portent sur un montant cumulé de plus de euros aof<br>en savoir plus electronique la bataille fait rage sur le<br>marché mondial des téléviseurs le chinois tcl particulièrement offensif a<br>affiché d'excellentes performances l'an passé il a livré millions de<br>téléviseurs en augmentation de par rapport à ce chiffre inclut<br>les livraisons à<br>"
          ],
          [
           "l'assureur de nouvelle génération luko récolte m€ environ un an<br>après une série a de m la jeune compagnie d'assurance<br>habitation luko est passée de à plus de clients aujourd'hui<br>elle officialise un nouveau tour de table de m réalisée<br>avec une petite partie de dette l'opération a été menée<br>par eqt ventures nouvel entrant aux côtés de business angels<br>et d'investisseurs historiques que sont les américains accel et funders<br>fund de peter thiel ou encore l'autrichien speedinvest cette série<br>b permettra à la jeune pousse lancée il y a<br>moins de trois ans de financer sa croissance en france<br>pour du montant levé de s'étendre dans au moins un<br>autre pays européen l'an prochain et d'alimenter ses projets d'investissements<br>dans la protection du foyer sur le volet technologique sur<br>ce dernier point elle<br>"
          ],
          [
           "david nedzela nommé directeur marketing d'evoyageurs sncf david nedzela prend<br>en charge la direction marketing evoyageurs sncf membre du comité<br>de direction il sera rattaché à alexandre viros dg d'evoyageurs<br>sncf avec pour mission de développer la vision clients commune<br>au groupe et à l'ensemble de ses marques ouisncf l'assistant<br>sncf et rail europe en s'appuyant sur l'ia après un<br>master ebusiness à l'escp david nedzela a commencé sa carrière<br>au sein de la direction marketing chez kelkoo en tant<br>que sea manager en il participe au lancement de l'agence<br>nextedia comme digital marketing strategist pour des comptes tels que<br>accor cdiscount et marmara avant de rejoindre microsoft en pour<br>lancer l'offre publicitaire du moteur de recherche msn sur le<br>marché français en il cofonde greenzer puis rejoint marc ménasé<br>e<br>"
          ],
          [
           "siemens healthineers veut améliorer le traitement du cancer grâce à<br>l'ia la branche médicale de siemens a annoncé l'acquisition de<br>l'américain varian pour près de milliards d'euros basée en californie<br>cette société est spécialisée dans les technologies d voir l'article<br>ce document référence un lien url de site non hébergé<br>par cision<br>"
          ],
          [
           "des maths au langage des maths au langage grégory renard<br>ans cofondateur et pdg de xbrain san francisco le dessin<br>animé qu'il regardait enfant grégory renard en a fait une<br>réalité dans ulysse le héros peut compter en toutes circonstances<br>sur shyrka l'ordinateur central de son vaisseau en créant la<br>société xbrain pour cerveau augmenté l'agrégé de mathématiques veut de<br>la même manière permettre à l'humain de dégager son potentiel<br>grâce à la machine spécialiste du langage il a créé<br>un équivalent du célèbre siri d'apple en ce français expatrié<br>à menlo park au coeur de la silicon valley développe<br>des assistants personnels pour l'automobile ainsi qu'une intelligence destinée à<br>seconder les opérateurs des call centers en clair le système<br>prend en charge par téléphone<br>"
          ],
          [
           "repères citoyens débat demain personnes ont été conviées à débattre<br>dans métropoles françaises sur le thème des transports et des<br>villes du futur à toulouse rendezvous à la salle barcelone<br>le véhicule autonome a quelques arguments il n'est jamais sujet<br>à la fatigue et à l'hypovigilance son intelligence artificielle et<br>ses capteurs peuvent l'avertir de dangers invisibles pour un humain<br>"
          ],
          [
           "hello world le jour où une intelligence artificielle a dévoilé<br>son morceau composé avec stromae la pochette de l'album hello<br>world composé à l'aide d'une intelligence artificielle the pirouettes et<br>stromae ont notamment participé hello world afp sipa vaton voir<br>un androïde aux faux airs de david guetta monter sur<br>scène et remuer en rythme derrière ses platines les invités<br>amassés devant la gaïté lyrique mercredi soir sont un peu<br>perdus avant d'emprunter les escaliers souterrains à quelques pas de<br>l'entrée traditionnelle du centre culturel de la rue papin e<br>arrondissement de paris ils viennent découvrir en avantpremière hello world<br>un album multiartistes composé à l'aide d'une intelligence artificielle ia<br>le nom de stromae est sur toutes les lèvres l'artiste<br>aidé par la technologie on entame les festivités par une<br>courte exposition des instruments de m<br>"
          ],
          [
           "minier lit l'avenir par olivier bureau vous ne regarderez plus<br>jamais votre smartphone comme avant il y a aussi fort<br>à parier qu'après avoir lu en apnée m le bord<br>de l'abîme le dernier thriller de bernard minier vous n'adressiez<br>plus la parole à votre assistant vocal cette fois l'écrivain<br>de ans auteur du triomphal glacé adapté en série sur<br>m nous embarque à hongkong moïra une jeune française a<br>été recrutée par la société ming un empire chinois du<br>numérique où elle intègre le service d'intelligence artificielle ia a<br>elle de rendre plus humain deus le super assistant personnel<br>vocal en plein développement celui qui doit supplanter tous les<br>autres les siri alexa et confrères dans le même temps<br>une série de meurtres frappe des employés et exsalariés de<br>ming m le thrill<br>"
          ],
          [
           "les idées expérience client déc la rédaction a sélectionné pour<br>vous une sélection d'informations percutantes au menu cette semaine des<br>kiosques de télémédecine dans les pharmacies walgreens aux étatsunis the<br>lego store élue meilleure enseigne en termes d'expérience en magasin<br>et les clients anglais déçus du canal tchat louis vuitton<br>rejoint le club des marques de luxe munies d'un chabot<br>louis vuitton dernier acteur du luxe à embrasser la tendance<br>chatbot lance un chatbot le lv virtual advisor sur messenger<br>l'outil utilise une technologie d'intelligence artificielle développée par l'éditeur modeai<br>et se monte capable selon la marque de recommander un<br>article ou de répondre à des questions d'ordre logistique l'assistant<br>n'est pour l'heure disponible qu'aux étatsunis mais il devrait être<br>déployé proch<br>"
          ],
          [
           "cac test non concluant des pts le cac a bénéficié<br>de l'activation d'un algorithme haussier pour s'inscrire dans un canal<br>ascendant parfaitement rectiligne entre h et h lequel a conduit<br>le cac sans aucun à coup jusque vers pts +<br>de hausse puis avec la rumeur d'un désaccord persistant de<br>la bundesbank concernant la monétisation de la dette des etats<br>la bourse de paris a recédé de son avance de<br>façon tout aussi linéaire le cac revenant à pts vers<br>h quelques achats de fin de séance ont permis de<br>porter le gain du jour à + à pts dans<br>des volumes de mdse ce qui est relativement élevé pour<br>un lundi et carrément exceptionnel en l'absence des investisseurs américains<br>en congé aujourd'hui le débordement des pts quelques jours seulement<br>après le test des pts se<br>"
          ],
          [
           "convargo l'algorithme qui bouleverse le fret routier le blablacar du<br>transport routier a séduit les plus grands investisseurs français il<br>mise sur la diversité de ses services pour se distinguer<br>dans un secteur en pleine ébullition qui vise à optimiser<br>le remplissage des camions entre un quart et un tiers<br>des camions roulent à vide ou sont remplis seulement à<br>moitié explique maxime legardez le fondateur de convargo nous remplaçons<br>des dizaines d'intermédiaires à contacter par fax ou téléphone par<br>une seule interface en ligne nous faisons gagner du temps<br>à nos clients qu'ils aient à gérer l'envoi d'une palette<br>ou d'un camion entier concrètement la plateforme convargo met en<br>relation entreprises avec la flotte de camions de transporteurs grâce<br>à notre algorithme nous calculons le meilleur moment pour opti<br>"
          ],
          [
           "france l'expérience client au coeur du magasin ikea madeleine pour<br>son e magasin en france l'enseigne d'ameublement a choisi de<br>s'implanter pour la première fois dans un centreville afin de<br>se rapprocher de la clientèle le nouveau point de vente<br>paris la madeleine dans le er arrondissement a été conçu<br>comme un lieu de vie et d'expérience sur m ikea<br>paris la madeleine est plus qu'un magasin c'est un nouveau<br>lieu de vie inspirant et expérientiel créé par les parisiens<br>pour les parisiens précise annie bétreau la directrice un magasin<br>unique aménagé autour des activités quotidiennes des parisiens l'endroit a<br>en effet été pensé en cocréation avec les clients d'ikea<br>family près de contributions ont été enregistrées une zone d'accueil<br>et quatre univers reposant sur les différents besoins à la<br>maison structurent l'expérie<br>"
          ],
          [
           "tiktok donne de la visibilité aux girls bands et c'est<br>une bonne nouvelle tiktok est rythmé par des tendances explique<br>variety on constate l'apparition par intermittence de danses chansons ou<br>challenges dont la popularité ne s'explique pas vraiment pourtant relève<br>l'hebdomadaire culturel américain le mystérieux algorithme est devenu pendant le<br>confinement lié au covid le champion d'un phénomène beaucoup plus<br>permanent en poussant les groupes exclusivement féminins au premier plan<br>des pages suggérées 'pour vous' des plateformes parmi les contenus<br>récemment mis en avant par l'application chinoise de partage de<br>vidéos on trouve entre autres la musique r b des<br>britanniques four of diamonds la photo cidessus la country des<br>américaines k sisters texas et taylor red tennessee ou encore<br>la pop alternative des quatre jeunes femmes originai<br>"
          ],
          [
           "la mutuelle générale met le deep learning au coeur de<br>sa gestion de courriers entrants l e courrier postal n'est<br>pas mort qu'on se le dise et avec lui la<br>problématique de la qualification des flux entrants reste une préoccupation<br>de taille dans les entreprises dont le fonctionnement dépend encore<br>largement de ce lien papier avec leurs clients c'est le<br>cas de la mutuelle générale troisième mutuelle santé en france<br>avec plus de million de personnes protégées elle intervient sur<br>les marchés des particuliers et des entreprises en santé et<br>en prévoyance cette activité génère de très nombreux échanges postaux<br>la mutuelle générale reçoit entre et courriers par jour en<br>moyenne et des pointes à en fin d'année au menu<br>des demandes de remboursement des devis pour la prise en<br>charge de soins des changements de situation des factures de<br>"
          ],
          [
           "la société générale multiplie les efforts en direction des fintech<br>acquisitions partenariats la société générale est sur tous les fronts<br>de la fintech après le rachat annoncé fin septembre de<br>treezor plateforme de services bancaires qui sert de moteur à<br>de nombreuses jeunes pousses de la finance la banque en<br>rouge et noir a lancé lundi un incubateur destiné cette<br>fois à ses activités de marché chez sg cib le<br>global markets incubator c'est son nom a vocation à accueillir<br>un nombre limité de fintech selon un proche du groupe<br>confiée en cette rentrée à antoine connault qui travaillait depuis<br>à la direction de la stratégie et du développement des<br>activités de banque de grande clientèle et solutions investisseurs la<br>structure a ouvert jusqu'au novembre un appel à candidatures incubation<br>de six mois pour les startup choisies les soc<br>"
          ],
          [
           "kubrick à brac h arte kubrick par kubrick documentaire français<br>de gregory monro h grand manitou de la revue positif<br>michel ciment a touché du doigt un graal journalistique il<br>a eu le privilège d'approcher longuement stanley kubrick d'ordinaire plus<br>que rétif à analyser son oeuvre dans la presse illustré<br>d'archives folles dont un home movie montrant le futur génie<br>alors bambin en train d'enquiquiner sa soeur ou d'accessoires filmés<br>comme des fétiches masque d' eyes wide shut mobilier de<br>l'odyssée de l'espace ce documentaire tente de mettre en images<br>la parole kubrickienne extraite des enregistrements audio de ciment on<br>devine que la tâche fut ardue si le plus confiné<br>des cinéastes terré dans son manoir anglais depuis lolita raconte<br>de façon<br>"
          ],
          [
           "kai fu lee l'ia sera plus foudroyante que l'électricité il<br>est l'expert qui parle le mieux de l'intelligence artificielle ia<br>comme de la chine le point avait retracé en avril<br>le parcours exceptionnel de kaifu lee né à taïwan émigré<br>aux etatsunis à l'âge de ans le chercheur s'impose comme<br>un pionnier de la reconnaissance vocale après avoir travaillé chez<br>apple et microsoft puis dirigé google chine en il fonde<br>en la société d'investissement en capitalrisque sinovation ventures pour écrire<br>son bestseller mondial ia la plus grande mutation de l'histoire<br>les arènes ce pédagogue hors pair a sollicité sa connaissance<br>intime des deux cultures chinoise et américaine ainsi que sa<br>double expérience dans les sciences et les affaires dans ce<br>livre majeur kaifu lee raconte comment la chine rattrape non<br>seulement son<br>"
          ],
          [
           "oui link une promotion pour valoriser la mobilité durable et<br>accessible evoyageurs sncf présentait fin janvier la nouvelle promotion oui<br>link à l'occasion du salon changenow les jeunes pousses sélectionnées<br>répondent notamment aux enjeux de durabilité et d'accessibilité dans les<br>transports l'accélérateur de startups d'evoyageur sncf dévoile les noms des<br>jeunes pousses qui composent sa nouvelle promotion pour ce cru<br>les problématiques ont notamment été axées sur le green it<br>la mobilité inclusive ou bien encore l'intelligence artificielle oui link<br>accueille ainsi les jeunes pousses suivantes au sein de son<br>programme tresorio qui a développé des chaudières numériques ou microdata<br>centers capables de refroidir les serveurs informatiques et de récupérer<br>stocker et réutiliser de la chaleur produite pour chauffer les<br>bâtiments qui l<br>"
          ],
          [
           "geert chielens ahold delhaize notre taux de conversion atteint le<br>groupe ahold delhaize a fait évoluer son outil it en<br>adoptant sap hybris pour monter en puissance sur l'ecommerce le<br>distributeur qui vend dans pays enregistre par exemple une croissance<br>de en belgique en ligne avec un taux de conversion<br>de précisions sur ce projet avec nessim makloufi directeur sap<br>hybris france et geert chielens responsable delivery adhold delhaize en<br>le groupe ahold delhzaize est confronté à un changement de<br>technologie et le distributeur a investi dans sap hybris pour<br>accompagner sa croissance notamment sur ecommerce le groupe est en<br>effet présent dans pays servant près de millions de clients<br>et se positionnant dans le top des acteurs food retail<br>geert chielens responsable delivery adhold delhaize et également en char<br>"
          ]
         ],
         "hovertemplate": "clusters=2<br>dim_1=%{x}<br>dim_2=%{y}<br>title_lead=%{customdata[0]}<extra></extra>",
         "legendgroup": "2",
         "marker": {
          "color": "#636efa",
          "symbol": "circle"
         },
         "mode": "markers",
         "name": "2",
         "orientation": "v",
         "showlegend": true,
         "type": "scatter",
         "x": [
          -0.09384961426258087,
          -0.22897064685821533,
          0.3219665288925171,
          0.9002090096473694,
          1.100037693977356,
          0.7831401228904724,
          1.3707797527313232,
          1.3831288814544678,
          0.566862940788269,
          0.0292714461684227,
          0.31708329916000366,
          0.7606128454208374,
          1.0902196168899536,
          -0.4525192081928253,
          -0.27280041575431824,
          1.3106746673583984,
          1.266977310180664,
          0.20244315266609192,
          -0.04545897617936134
         ],
         "xaxis": "x",
         "y": [
          -5.711185932159424,
          -4.667171001434326,
          -5.439187526702881,
          -5.352668285369873,
          -4.422327995300293,
          -3.9106485843658447,
          -4.090936660766602,
          -3.7454850673675537,
          -4.474790096282959,
          -4.913382530212402,
          -4.204038143157959,
          -4.693411827087402,
          -3.473736524581909,
          -4.447397708892822,
          -4.1544718742370605,
          -3.665018320083618,
          -4.913845539093018,
          -4.49044132232666,
          -5.220305442810059
         ],
         "yaxis": "y"
        },
        {
         "customdata": [
          [
           "rpt un nouveau site d'ia à pékin atteste des ambitions<br>chinoises pekin reuters bien lire dans le titre ia au<br>lieu de ai un site spécialisé dans l'intelligence artificielle ia<br>doit être construit à pékin la chine ambitionnant de devenir<br>un er mondial en la matière d'ici rapporte mercredi l'agence<br>de presse officielle chine nouvelle le site accueillera jusqu'à entreprises<br>et aura une production annuelle estimée à milliards de yuans<br>milliards d'euros précise chine nouvelle citant un rapport des autorités<br>du district de mentougou de pékin zhongguancun development group le<br>promoteur de ce projet de milliards de yuans milliard d'euros<br>prévoit de s'associer avec des universités étrangères pour construire un<br>laboratoire d'ia de niveau national ajoute chine nouvelle zhongguancun development<br>group et les re<br>"
          ],
          [
           "aiva premier compositeur de musique artificielle qu’estce qu’aiva aiva artificial<br>intelligence virtual artist est un algorithme de composition musicale développé<br>par une startup luxembourgeoise aiva technologies depuis le mois de<br>février elle utilise le calcul matriciel et le deep learning<br>pour composer des œuvres de musique classique à partir d’un<br>répertoire d’une quinzaine de milliers d’œuvres de compositeurs majeurs bach<br>mozart beethoven etc qu’elle a assimilées les œuvres de référence<br>ont été analysées classifiées et rentrées sous forme de partition<br>pour apprendre à la machine à composer elle s’est donc<br>fait un modèle mathématique de ce qu’est la musique classique<br>d’une période considérée selon les critères qu’on lui assigne pour<br>la période de référence baroque classique romantique modern<br>"
          ],
          [
           "une appli au secours des hôteliers pour un hôtelier faire<br>les comptes se révèle parfois être un vrai cauchemar joseph<br>delacou le sait lui qui a travaillé six ans dans<br>l'hôtellerie pour chaque élément de la gestion hôtelière on a<br>un outil mais quand on arrive au contrôle des coûts<br>là il manque quelque chose pour remplacer les tableaux excel<br>pas toujours très clairs il propose aujourd'hui l'aide de sa<br>jeune entreprise hotelskipper avec son ami d'enfance roland paire sur<br>le volet technique le jeune brestois a créé son propre<br>logiciel de contrôle des coûts il suffit à l'hôtelier d'envoyer<br>sa facture par email à hotelskipper elle est automatiquement reconnue<br>par l'algorithme et les données sont numérisées et traitées c'est<br>facile pour les hôteliers et c'est surtout le moins contraignant<br>possible<br>"
          ],
          [
           "les chantous de loud'ia au fest deiz de dimanche groupe<br>de copains passionnés de musique traditionnelle l'association les amis sonneurs<br>des landes propose son e festdeiz sur terre battue dimanche<br>l'idée du groupe a pour but de faire revivre au<br>public les festoùdeiz d'antan dans un hangar où les musiciens<br>sont juchés sur une scène de fabrication sommaire proche des<br>danseurs chaque année des groupes de réputation régionale et audelà<br>prêtent leur concours dimanche les chantous de loud'ia habitués du<br>tamm kreiz seront présents en compagnie de musiciens amateurs et<br>confirmés les sonneurs hervé et christophe hch + maligorn du<br>et bien entendu les sonneurs des landes dimanche à h<br>festdeiz à la croixdeslandes entrées buvette et crêpes wwwsonneursdeslandesfrgd<br>"
          ],
          [
           "le rapport villani est attendu pour janvier le premier ministre<br>édouard philippe a confié le septembre une mission sur l'intelligence<br>artificielle au mathématicien et député lrem de l'essonne cédric villani<br>celuici devra rendre son rapport en janvier cette demande prend<br>le relais de la mission france ia qu'avait lancée axelle<br>lemaire secrétaire d'état au numérique du gouvernement précédent elle avait<br>déjà abouti à un premier rapport écrit avec le concours<br>de contributeurs et qui se terminait sur recommandations à l'époque<br>françois hollande avait annoncé vouloir consacrer milliard d'euros sur dix<br>ans au titre des investissements d'avenir pour soutenir la recherche<br>sur l'intelligence artificielle sans rompre avec cette promesse le nouveau<br>gouvernement a jugé que ce travail était trop fourretout il<br>a dem<br>"
          ],
          [
           "pascal chabot dans les années quand on se projetait dans<br>l'avenir on imaginait un monde où la technologie jouerait le<br>premier rôle dans nos modes de vie pour le meilleur<br>et pour le pire ce monde est désormais sous nos<br>yeux nous baignons dedans un cocktail sucrésalé de robotisation de<br>vie numérique de crise écologique de progrès génétiques d'intelligence artificielle<br>de financiarisation tous azimuts mais aussi de transparence et de<br>montée des populismes bref tout ce que le philosophe belge<br>pascal chabot dans un essai remarquable exister résister ce qui<br>dépend de nous appelle les ultraforces en trente ans elles<br>ont chamboulé nos moeurs au travail dans la famille nos<br>relations amoureuses notre rapport au temps ou notre perception de<br>l'avenir estce un bien est<br>"
          ],
          [
           "une application d'ia peut prévoir le succès d'une molécule une<br>équipe de praticienschercheurs de gustave roussy et de l'université parissud<br>vient de développer une application d'intelligence artificielle resolved capable de<br>prévoir si une molécule sera autorisée ou non dans les<br>six ans à partir des données pharmacologiques et d'essais de<br>phase i en cancérologie le développement d'un médicament est long<br>coûteux et demande l'implication de plusieurs milliers de patients alors<br>qu'environ des médicaments en développement dans les maladies infectieuses en<br>ophtalmologie et près de toutes disciplines confondues recevront une amm<br>après une phase i seulement des molécules testées l'obtiendront en<br>cancérologie précise le dr loic verlingue oncologue et chef de<br>la data science team du département de l'innovation théra<br>"
          ],
          [
           "salestrip la plateforme tout en un signée salesforce qui s'attaque<br>au voyage d'affaires salesforce présente salestrip la dernière solution technologique<br>dédiée au marché du voyage d'affaires sa mission devenir une<br>plateforme toutenun qui permet de réserver d'acheter des billets et<br>de gérer chaque voyage nourrie à la data salestrip utilise<br>l'intelligence artificielle pour être capable de prédire combien va coûter<br>un voyage et combien il va pouvoir rapporter à l'entreprise<br>l'objectif final est de mieux gérer les budgets pour résumé<br>salestrip permet au marché de savoir combien je vais gagner<br>en dépensant tant et à quel moment déclare eoin landers<br>président de salestrip et viceprésident produits à nos confrères de<br>déplacementsproscom directement intégrée au crm de salesforce salestrip prend en<br>compte toutes les données récoltées afin de les analyser et<br>d'être<br>"
          ],
          [
           "symbiose relever les défis de l'exploitation de la cinquième façade<br>jamais une telle opération n'a été réalisée sur des bâtiments<br>existants conçus dans les années c'est déjà complexe sur du<br>neuf alors de l'ancien il ne s'agit pas de venir<br>avec ses quatre planches et un bout de plexi observe<br>luc stephan directeur de nantes métropole habitat nmh partenaire du<br>projet symbiose qui vise à greffer une serre sur le<br>toit d'un immeuble du parc locatif nantais dans les quartiers<br>nord de la ville objectif utiliser l'énergie solaire pour limiter<br>le recours à l'énergie carbonée et réduire les charges locatives<br>via une pompe à chaleur et un échangeur le système<br>sera couplé au dispositif de chauffage actuel il bénéficiera d'un<br>pilotage prédictif grâce à un algorithme intégrant de l'intelligence artificielle<br>mis au point par la startup e<br>"
          ],
          [
           "des neurones numériques quatre lettres toutes simples pour nommer une<br>petite révolution jast est une intelligence artificielle ia nouvelle génération<br>capable de détecter n'importe quelle donnée un son une forme<br>qui se répète et de l'enregistrer en toute autonomie personne<br>n'a eu besoin de lui dire au préalable quoi chercher<br>si une telle prouesse est possible c'est que cette technologie<br>est directement inspirée de l'intelligence humaine autrement dit les neurones<br>numériques de jast fonctionnent comme ceux de notre cerveau enfin<br>et surtout pour que cet algorithme fonctionne il suffit de<br>l'implémenter sur une puce électronique valant à peine euros etablie<br>en californie la société brainchip qui développe des solutions logicielles<br>et matérielles consacrées à l'ia pour la surveillance civi<br>"
          ],
          [
           "cévennes le collectif migrants s'engage v ia le dispositif d'accueil<br>welcome en france familles du bassin alésien se préparent à<br>accueillir deux réfugiés un engagement citoyen auquel le maire d'alès<br>max roustan refuse d'accorder un tarif réduit pour les transports<br>collectifs il s'appelle boubacar et son errance depuis sa guinée<br>natale prendra momentanément fin le novembre lors de son accueil<br>dans une famille du bassin alésien sur le territoire autres<br>familles se sont engagées dans le dispositif baptisé welcome en<br>france permettant d'offrir un mois durant l'hébergement à un demandeur<br>d'asile dans l'attente huit mois environ d'une place en centre<br>d'accueil pour demandeurs d'asile cada au niveau national des demandeurs<br>d'asile ne trouvent pas de places d'hébergement un geste de<br>fraternité devant<br>"
          ],
          [
           "le créateur de l’assistant vocal alexa voudrait lui donner un<br>corps robotique après avoir intégré alexa dans plus de millions<br>d’objets connectés amazon voudrait aller plus loin le géant américain<br>pourrait en effet donner un corps à son assistant intelligent<br>et peutêtre en faire un vrai robot le seul moyen<br>de rendre les assistants personnels vraiment intelligents est de leur<br>offrir des yeux pour qu’ils explorent le monde a expliqué<br>rohit prasad viceprésident d’amazon à la tête de l’équipe de<br>scientifiques qui a mis en point alexa lors d’une conférence<br>organisée par le mit technology review revue de technologie du<br>mit le mars il considère ainsi que l’assistant d’amazon serait<br>plus performant avec un corps bénéficiant de caméras pour se<br>déplacer et observer le monde autour de lui un corps<br>pour mieux comprendre le monde comme le rappelle mit tec<br>"
          ],
          [
           "une éthique nécessaire pour une technologie sans contrôle éthique l'intelligence<br>artificielle bat l'homme aux échecs et au jeu de go<br>elle s'invite dans les voitures pour autonomiser leur conduite elle<br>anime des robots qui ressemblent à des humains pour mieux<br>interagir avec eux sans contrôle ou presque cette technologie s'immisce<br>progressivement dans nos vies et fait naître de nouveaux questionnements<br>éthiques comment programmer une voiture autonome pilotée par ordinateur de<br>telle sorte qu'elle mette le moins de vies humaines en<br>danger dans une situation accidentelle de quelle manière encadrer les<br>armes autonomes capables de sélectionner des cibles pour les éliminer<br>afin d'éviter qu'elles ne se retournent contre nous le problème<br>est que ces applications ne sont aujourd'hui cadrées par personne<br>par aucune instance estime raj<br>"
          ],
          [
           "coronavirus de l'utilité de l'intelligence artificielle le coronavirus continue de<br>se répandre inégalement d'un continent à l'autre plus de morts<br>dans le monde dont plus de en france à ce<br>jour et le bilan s'alourdit quotidiennement pourtant si la crise<br>actuelle du covid est bien plus grave que celle du<br>précédent coronavirus le sras qui a fait près de morts<br>il y a dixsept ans les gouvernements disposent pour la<br>combattre de l'intelligence artificielle ia ce nouvel outil aux applications<br>innombrables or dans ce domaine on constate une différence d'approche<br>et de moyens importante entre les pays du sudest asiatique<br>taiwan singapour chine et corée du sud et la majorité<br>des pays occidentaux en asie l'ia est utilisée à tous<br>les niveaux de la lutte contre l'épidémie de la détection<br>des foyers de contagio<br>"
          ],
          [
           "duel hommemachine l'armée de l'air des étatsunis va organiser en<br>juillet un combat entre un avion de chasse piloté par<br>un humain et un autre piloté par une intelligence artificielle<br>les militaires planchent depuis sur ce projet d'appareils capables de<br>faire des arbitrages tactiques<br>"
          ],
          [
           "conseil régionalles aides pour le secteur réuni en commission permanente<br>le février le conseil régional a alloué des subventions à<br>diverses entreprises et associations du secteuraménagementsubvention de € à l'ulamir<br>aulne châteauneufdufaou cette somme est attribuée pour la création d'une<br>ludothèque itinérante € au syndicat mixte du parc naturel régional<br>d'armorique le faou pour le développement du domaine de menezmeur<br>à hanvec phase économie emploile conseil régional de bretagne a<br>alloué une avance remboursable de € à la sas bookbeo<br>à rosnoën cette somme est attribuée pour la plateforme de<br>services innovants dédiés aux activités du maritime mer et littoral<br>et basés sur les technologies de réalité augmentée et d'intelligence<br>artificielleagriculture € à un exploitant agricole de d<br>"
          ],
          [
           "sidetrade chiffre d'affaires en hausse de au troisième trimestre aof<br>sidetrade plateforme d'intelligence artificielle dédiée à l'accélération du revenu et<br>du cashflow des entreprises a annoncé que son chiffre d'affaires<br>au troisième trimestre était en see article this document contains<br>links to websites that are not hosted by cision<br>"
          ]
         ],
         "hovertemplate": "clusters=1<br>dim_1=%{x}<br>dim_2=%{y}<br>title_lead=%{customdata[0]}<extra></extra>",
         "legendgroup": "1",
         "marker": {
          "color": "#EF553B",
          "symbol": "circle"
         },
         "mode": "markers",
         "name": "1",
         "orientation": "v",
         "showlegend": true,
         "type": "scatter",
         "x": [
          1.4424890279769897,
          1.7074556350708008,
          1.2602955102920532,
          2.098681926727295,
          2.6017165184020996,
          1.9864808320999146,
          2.139732599258423,
          1.658016324043274,
          2.080378532409668,
          1.5870373249053955,
          2.431096076965332,
          1.2680788040161133,
          2.4550886154174805,
          2.5725998878479004,
          2.3008713722229004,
          3.0446438789367676,
          2.0414116382598877
         ],
         "xaxis": "x",
         "y": [
          -5.240492820739746,
          -6.333446025848389,
          -6.4431023597717285,
          -4.24139928817749,
          -4.9100022315979,
          -6.227563858032227,
          -5.463834285736084,
          -6.997823238372803,
          -5.052208423614502,
          -5.753920555114746,
          -4.596192836761475,
          -5.866082668304443,
          -6.524629592895508,
          -5.683541774749756,
          -6.245066165924072,
          -4.757447719573975,
          -7.182583332061768
         ],
         "yaxis": "y"
        },
        {
         "customdata": [
          [
           "face au coronavirus nabla dévoile ses plans dans la santé<br>il s'agit d'une des startup les plus courtisées par les<br>investisseurs dans la french tech depuisson lancement à l'été l'équipe<br>de nabla composée d'anciens de facebook et d'aufeminin était restée<br>discrète sur ses activités la crise du coronavirus la pousse<br>à lever le voile sur ses plans d'avenir lors de<br>sa création nabla avait pour objectif d'industrialiser les recherches les<br>plus récentes en intelligence artificielle afin de les rendre accessibles<br>aux entreprises durant un an des prototypes ont été développés<br>dans différents secteurs mais c'est seulement il y a six<br>mois que la jeune pousse a trouvé sa voie notre<br>philosophie a toujours été d'augmenter les humains plutôt que de<br>les remplacer indique delphine groll cofondatrice et directrice des opérations<br>de nabla l<br>"
          ],
          [
           "la boulimie des géants américains de la high tech facebook<br>amazon google et apple avec le rachat d'oculus vr et<br>surtout quelques semaines plus tôt de whatsapp pour milliards de<br>dollars facebook est rentré dans la course aux plus grosses<br>acquisitions dans le secteur hightech américain comme le montre cette<br>infographie du wall street journal amazon google et apple ont<br>eux aussi réalisé d'importantes opérations au cours des dix dernières<br>années dans des domaines aussi variés que la robotique la<br>publicité la géolocalisation ou encore l'intelligence artificielle<br>"
          ],
          [
           "quand marseille accentue son virage numérique nice s'ancre dans la<br>smart city s'il y a bien un sujet qui rassemble<br>à marseille c'est le smart port car audelà d'être un<br>concept ou un état d'esprit c'est avant tout un comité<br>de pilotage qui réfléchit sur ce que doit être le<br>french smart port in med ainsi le grand port maritime<br>de marseille gpmm l'état la région le conseil départemental des<br>bouches du rhône la métropole aixmarseille provence la ville de<br>marseille euroméditerranée la caisse des dépôts l'agence régionale pour l'innovation<br>et l'internationalisation des entreprises et l'union maritime et fluviale ont<br>pour mission de donner toute son ampleur au numérique sur<br>un outil portuaire premier port français et numéro de méditerranée<br>qui a fait le pari que ce serait là un<br>axe de développement et de mutation car s'il est résolument<br>industriel<br>"
          ],
          [
           "plus de français sur ont déjà entendu parler de l'intelligence<br>artificielle sans que cela soit représentatif de leur compréhension du<br>phénomène renaissance numérique plus de français sur ont déjà entendu<br>parler de l'intelligence artificielle sans que cela soit représentatif de<br>leur compréhension du phénomène renaissance numérique plus de français sur<br>ont déjà entendu parler de l'intelligence artificielle sans que cela<br>soit représentatif de leur compréhension du phénomène renaissance numérique d'après<br>une enquête conduite par médiamétrie pour le think tank renaissance<br>numérique des français ont déjà entendu parler de l'intelligence artificielle<br>une proportion qui avoisine même lorsqu'une définition de l'intelligence artificielle<br>est proposée aux internautes audelà de ces chiffres renaissance numérique<br>estime que cette notoriété n'est pas représentative de la compréhension<br>qu'ont les français de l'intelligence artificielle<br>"
          ],
          [
           "des smartphones à tous les prix appels téléphoniques surf mailing<br>réseaux sociaux guidage gps a moins de vivre totalement coupé<br>du monde il s'avère aujourd'hui difficile de se passer de<br>smartphone malheureusement ces bijoux de technologie coûtent de plus en<br>plus cher et se démodent en seulement quelques mois ceux<br>qui ne souhaitent pas se ruiner pourront se tourner vers<br>le redmi a du chinois xiaomi compact avec son écran<br>de pouces il fait tourner les applications courantes sans broncher<br>si l'on ne s'extasiera pas sur sa réactivité le manque<br>de luminosité de son écran ou la qualité très moyenne<br>de ses photos et vidéos on appréciera son rapport qualitéprix<br>imbattable € avec go de mémoire dans la catégorie supérieure<br>le honor x se distingue par une magnifique dalle sans<br>bords de<br>"
          ],
          [
           "en bref le député claude de ganay a présenté son<br>rapport sur l'intelligence artificielle le député de la e circonscription<br>gienla ferté claude de ganay a présenté mercredi mars à<br>paris son rapport sur l'intelligence artificielle rédigé avec sa collègue<br>sénatrice dominique gillot tous deux membres de l'office parlementaire d'évaluation<br>des choix scientifiques et technologiques opecst ce rapport a requis<br>des centaines d'heures de travail de nombreuses auditions en france<br>et à l'étranger il a été nourri des réflexions d'experts<br>de renommée mondiale et dans l'optique d'être le plus exhaustif<br>possible indique claude de ganay nous y formulons propositions fortes<br>pour démystifier les fantasmes qui existent à propos de l'intelligence<br>artificielle informer l'opinion publique d<br>"
          ],
          [
           "les géants chinois de l’intelligence artificielle sur la liste rouge<br>américaine à washington alors que les négociations commerciales entre la<br>chine et les étatsunis reprennent à washington un nouveau sujet<br>de discorde apparaît le département du commerce a ajouté sociétés<br>chinoises spécialisées dans l’intelligence artificielle et la reconnaissance faciale à<br>la liste des entités qui ne peuvent pas librement acheter<br>des composants auprès de sociétés américaines le géant chinois des<br>équipements téléphoniques huawei technologies figure déjà sur cette liste depuis<br>le mois de mai à ses côtés se trouvent désormais<br>aussi entre autres hikvision digital technology megvii technology et sensetime<br>group les autorités américaines justifient leur décision en citant l’implication<br>de ces firmes dans la surveillance la répression et la<br>détention arbitraire de milli<br>"
          ],
          [
           "le gouvernement mise sur l'intelligence artificielle le gouvernement annonce mercredi<br>novembre sa stratégie nationale de recherche en intelligence artificielle qui<br>prévoit au total millions d'euros de dépenses jusqu'en pour le<br>budget de l'état dr la ministre de l'enseignement supérieur et<br>de la recherche frédérique vidal et le secrétaire d'etat au<br>numérique mounir mahjoubi présenteront à toulouse ce mercredi novembre les<br>grandes orientations du plan qui reprennent des propositions du rapport<br>présenté au printemps dernier par le député et mathématicien cédric<br>villani selon les grandes lignes du plan présenté par le<br>gouvernement l'etat va notamment consacrer millions d'euros aux ia des<br>centres interdisciplinaires appelés à devenir les vaisseaux amiraux de la<br>recherche française en intelligence artificielle q<br>"
          ],
          [
           "grâce à l'intelligence artificielle picterra simplifie l'analyse d'images satellite interpréter<br>des images satellite ou des clichés capturés par drone implique<br>un travail d'analyse complexe et laborieux en mettant l'intelligence artificielle<br>au service de l'imagerie aérienne et spatiale la startup suisse<br>picterra souhaite rendre cette analyse simple et rapide pour examiner<br>une situation rien de tel que de prendre un peu<br>de hauteur les images aériennes en sont certainement les preuves<br>les plus éloquentes du moins lorsqu'elles ont bénéficié d'un fastidieux<br>travail d'analyse une tâche rendue plus rapide plus fiable et<br>surtout bien plus simple par la plateforme intelligente picterra présenté<br>il y a quelques jours à berne dans le cadre<br>du geosummit le salon suisse de la géoinformation cet outil<br>se destine aussi bien aux particuliers qu'aux professionnels n<br>"
          ],
          [
           "l'automatisation intelligente un rôle essentiel contre le covid et pour<br>sécuriser la continuité des activités compte tenu des progrès survenus<br>au cours des dernières années je suis convaincu que l'intelligence<br>artificielle et l'automatisation sont clés pour faire face à la<br>pandémie de coronavirus tout ou presque a déjà été dit<br>sur l'impact sans précédent engendré par la crise de le<br>covid en l'espace de quelques semaines le coronavirus est entré<br>dans le langage courant a l'heure où j'écris ces lignes<br>pays ont été touchés et plus de personnes ont été<br>infectées poussant de nombreux pays à confiner leurs citoyens la<br>crise a poussé les économies nationales et les entreprises à<br>remettre en question leur mode de fonctionnement la pandémie va<br>à coup sûr s'inscrire dans l'histoire comme l'un des défis<br>majeurs auxquels l'humanité a dû faire face si nous essayons<br>toujours de so<br>"
          ],
          [
           "oneplus investit dans un nouveau centre de rd en inde<br>oneplus la marque de smartphones haut de gamme er en<br>inde a annoncé aujourd'hui ses projets d'installation d'un centre de<br>recherche et développement dans la ville de hyderabad la société<br>investirait près de millions de dollars au cours des trois<br>prochaines années les installations joueront non seulement un rôle essentiel<br>dans le développement de l'intelligence artificielle et du machine learning<br>mais elles conduiront également à des innovations utiles et pertinentes<br>pour les utilisateurs la ville est également l'une des zones<br>les plus actives du pays pour les startups en particulier<br>dans le domaine des technologies émergentes la ville d'hyderabad est<br>l'un des plus grands hubs informatiques du pays et offre<br>ainsi un panel considérable de talents un atout majeur pour<br>on<br>"
          ],
          [
           "les fonds britanniques veulent plus de clarté sur les salaires<br>des dirigeants les gérants britanniques relancent le débat sur la<br>rémunération des dirigeants des grandes entreprises the investment association ia<br>qui représente des fonds d'investissement totalisant milliards de livres milliards<br>d'euros d'actifs sous gestion a publié lundi une lettre ouverte<br>à l'intention des présidents des comités de rémunération des plus<br>importantes entreprises cotées à londres afin d'inciter ces dernières à<br>adopter des principes de rémunération plus transparents et plus flexibles<br>alors que la première ministre theresa may a promis de<br>s'attaquer à la rémunération jugée excessive de grands patrons comme<br>ceux de bp ou wpp l'ia pousse les grandes entreprises<br>à publier le ratio mesurant l'écart entre le salaire de<br>leur directeur général dg et le salaire médi<br>"
          ],
          [
           "les données changent le monde le logiciel mange le monde<br>écrivait il y a cinq ans le cofondateur de netscape<br>marc andreessen dans une tribune du wall street journal les<br>données pilotent le monde lui répond aujourd'hui mckinsey cinq ans<br>après sa première grande étude sur le big data le<br>cabinet américain publie une copieuse mise à jour aujourd'hui notent<br>ses auteurs les données sont devenues un actif critique des<br>entreprises si la plupart en ont pris conscience elles peinent<br>encore à intégrer correctement les outils d'analyse de données dans<br>leurs activités quotidiennes d'abord parce qu'elles n'ont pas adapté leurs<br>organisations encore trop verticales ensuite parce qu'elles ne savent pas<br>attirer et retenir les bons talents qu'ils s'agisse de data<br>scientists ou de ce que l'étude appelle d<br>"
          ],
          [
           "les principaux axes opérationnels de l'it requis pour tirer parti<br>de l'edge les entreprises tous secteurs d'activité confondus sont actuellement<br>confrontées à un changement d'une ampleur sans précédent à l'heure<br>de franchir le cap de la transformation numérique de leurs<br>opérations cette évolution implique la mise en oeuvre d'appareils connectés<br>de technologies intelligentes et d'un réseau toujours plus étendu en<br>vue de renforcer son avantage concurrentiel l'edge computing désigne les<br>produits qui facilitent le traitement des données à la source<br>ou à proximité de la source première des données offrant<br>ainsi des résultats bien plus rapides que les architectures traditionnelles<br>à la périphérie les entreprises peuvent déployer des technologies des<br>mobiles utilisés par les clients pour se connecter aux services<br>jusqu'aux capteurs d'activité sans oublier l'<br>"
          ]
         ],
         "hovertemplate": "clusters=0<br>dim_1=%{x}<br>dim_2=%{y}<br>title_lead=%{customdata[0]}<extra></extra>",
         "legendgroup": "0",
         "marker": {
          "color": "#00cc96",
          "symbol": "circle"
         },
         "mode": "markers",
         "name": "0",
         "orientation": "v",
         "showlegend": true,
         "type": "scatter",
         "x": [
          3.1118276119232178,
          3.214108943939209,
          3.517373561859131,
          4.250948429107666,
          2.7792978286743164,
          3.757962942123413,
          2.870384454727173,
          3.3722167015075684,
          4.184145450592041,
          3.7874197959899902,
          3.9568166732788086,
          3.604666233062744,
          3.656722068786621,
          3.5126707553863525
         ],
         "xaxis": "x",
         "y": [
          -6.760003566741943,
          -6.331995487213135,
          -5.141848564147949,
          -6.671322345733643,
          -6.797359466552734,
          -5.684817314147949,
          -6.023997783660889,
          -5.309222221374512,
          -6.510237216949463,
          -6.7297139167785645,
          -7.084653854370117,
          -6.302058696746826,
          -6.5966010093688965,
          -7.047764301300049
         ],
         "yaxis": "y"
        }
       ],
       "layout": {
        "height": 1000,
        "legend": {
         "title": {
          "text": "clusters"
         },
         "tracegroupgap": 0
        },
        "margin": {
         "t": 60
        },
        "template": {
         "data": {
          "bar": [
           {
            "error_x": {
             "color": "#2a3f5f"
            },
            "error_y": {
             "color": "#2a3f5f"
            },
            "marker": {
             "line": {
              "color": "#E5ECF6",
              "width": 0.5
             },
             "pattern": {
              "fillmode": "overlay",
              "size": 10,
              "solidity": 0.2
             }
            },
            "type": "bar"
           }
          ],
          "barpolar": [
           {
            "marker": {
             "line": {
              "color": "#E5ECF6",
              "width": 0.5
             },
             "pattern": {
              "fillmode": "overlay",
              "size": 10,
              "solidity": 0.2
             }
            },
            "type": "barpolar"
           }
          ],
          "carpet": [
           {
            "aaxis": {
             "endlinecolor": "#2a3f5f",
             "gridcolor": "white",
             "linecolor": "white",
             "minorgridcolor": "white",
             "startlinecolor": "#2a3f5f"
            },
            "baxis": {
             "endlinecolor": "#2a3f5f",
             "gridcolor": "white",
             "linecolor": "white",
             "minorgridcolor": "white",
             "startlinecolor": "#2a3f5f"
            },
            "type": "carpet"
           }
          ],
          "choropleth": [
           {
            "colorbar": {
             "outlinewidth": 0,
             "ticks": ""
            },
            "type": "choropleth"
           }
          ],
          "contour": [
           {
            "colorbar": {
             "outlinewidth": 0,
             "ticks": ""
            },
            "colorscale": [
             [
              0,
              "#0d0887"
             ],
             [
              0.1111111111111111,
              "#46039f"
             ],
             [
              0.2222222222222222,
              "#7201a8"
             ],
             [
              0.3333333333333333,
              "#9c179e"
             ],
             [
              0.4444444444444444,
              "#bd3786"
             ],
             [
              0.5555555555555556,
              "#d8576b"
             ],
             [
              0.6666666666666666,
              "#ed7953"
             ],
             [
              0.7777777777777778,
              "#fb9f3a"
             ],
             [
              0.8888888888888888,
              "#fdca26"
             ],
             [
              1,
              "#f0f921"
             ]
            ],
            "type": "contour"
           }
          ],
          "contourcarpet": [
           {
            "colorbar": {
             "outlinewidth": 0,
             "ticks": ""
            },
            "type": "contourcarpet"
           }
          ],
          "heatmap": [
           {
            "colorbar": {
             "outlinewidth": 0,
             "ticks": ""
            },
            "colorscale": [
             [
              0,
              "#0d0887"
             ],
             [
              0.1111111111111111,
              "#46039f"
             ],
             [
              0.2222222222222222,
              "#7201a8"
             ],
             [
              0.3333333333333333,
              "#9c179e"
             ],
             [
              0.4444444444444444,
              "#bd3786"
             ],
             [
              0.5555555555555556,
              "#d8576b"
             ],
             [
              0.6666666666666666,
              "#ed7953"
             ],
             [
              0.7777777777777778,
              "#fb9f3a"
             ],
             [
              0.8888888888888888,
              "#fdca26"
             ],
             [
              1,
              "#f0f921"
             ]
            ],
            "type": "heatmap"
           }
          ],
          "heatmapgl": [
           {
            "colorbar": {
             "outlinewidth": 0,
             "ticks": ""
            },
            "colorscale": [
             [
              0,
              "#0d0887"
             ],
             [
              0.1111111111111111,
              "#46039f"
             ],
             [
              0.2222222222222222,
              "#7201a8"
             ],
             [
              0.3333333333333333,
              "#9c179e"
             ],
             [
              0.4444444444444444,
              "#bd3786"
             ],
             [
              0.5555555555555556,
              "#d8576b"
             ],
             [
              0.6666666666666666,
              "#ed7953"
             ],
             [
              0.7777777777777778,
              "#fb9f3a"
             ],
             [
              0.8888888888888888,
              "#fdca26"
             ],
             [
              1,
              "#f0f921"
             ]
            ],
            "type": "heatmapgl"
           }
          ],
          "histogram": [
           {
            "marker": {
             "pattern": {
              "fillmode": "overlay",
              "size": 10,
              "solidity": 0.2
             }
            },
            "type": "histogram"
           }
          ],
          "histogram2d": [
           {
            "colorbar": {
             "outlinewidth": 0,
             "ticks": ""
            },
            "colorscale": [
             [
              0,
              "#0d0887"
             ],
             [
              0.1111111111111111,
              "#46039f"
             ],
             [
              0.2222222222222222,
              "#7201a8"
             ],
             [
              0.3333333333333333,
              "#9c179e"
             ],
             [
              0.4444444444444444,
              "#bd3786"
             ],
             [
              0.5555555555555556,
              "#d8576b"
             ],
             [
              0.6666666666666666,
              "#ed7953"
             ],
             [
              0.7777777777777778,
              "#fb9f3a"
             ],
             [
              0.8888888888888888,
              "#fdca26"
             ],
             [
              1,
              "#f0f921"
             ]
            ],
            "type": "histogram2d"
           }
          ],
          "histogram2dcontour": [
           {
            "colorbar": {
             "outlinewidth": 0,
             "ticks": ""
            },
            "colorscale": [
             [
              0,
              "#0d0887"
             ],
             [
              0.1111111111111111,
              "#46039f"
             ],
             [
              0.2222222222222222,
              "#7201a8"
             ],
             [
              0.3333333333333333,
              "#9c179e"
             ],
             [
              0.4444444444444444,
              "#bd3786"
             ],
             [
              0.5555555555555556,
              "#d8576b"
             ],
             [
              0.6666666666666666,
              "#ed7953"
             ],
             [
              0.7777777777777778,
              "#fb9f3a"
             ],
             [
              0.8888888888888888,
              "#fdca26"
             ],
             [
              1,
              "#f0f921"
             ]
            ],
            "type": "histogram2dcontour"
           }
          ],
          "mesh3d": [
           {
            "colorbar": {
             "outlinewidth": 0,
             "ticks": ""
            },
            "type": "mesh3d"
           }
          ],
          "parcoords": [
           {
            "line": {
             "colorbar": {
              "outlinewidth": 0,
              "ticks": ""
             }
            },
            "type": "parcoords"
           }
          ],
          "pie": [
           {
            "automargin": true,
            "type": "pie"
           }
          ],
          "scatter": [
           {
            "marker": {
             "colorbar": {
              "outlinewidth": 0,
              "ticks": ""
             }
            },
            "type": "scatter"
           }
          ],
          "scatter3d": [
           {
            "line": {
             "colorbar": {
              "outlinewidth": 0,
              "ticks": ""
             }
            },
            "marker": {
             "colorbar": {
              "outlinewidth": 0,
              "ticks": ""
             }
            },
            "type": "scatter3d"
           }
          ],
          "scattercarpet": [
           {
            "marker": {
             "colorbar": {
              "outlinewidth": 0,
              "ticks": ""
             }
            },
            "type": "scattercarpet"
           }
          ],
          "scattergeo": [
           {
            "marker": {
             "colorbar": {
              "outlinewidth": 0,
              "ticks": ""
             }
            },
            "type": "scattergeo"
           }
          ],
          "scattergl": [
           {
            "marker": {
             "colorbar": {
              "outlinewidth": 0,
              "ticks": ""
             }
            },
            "type": "scattergl"
           }
          ],
          "scattermapbox": [
           {
            "marker": {
             "colorbar": {
              "outlinewidth": 0,
              "ticks": ""
             }
            },
            "type": "scattermapbox"
           }
          ],
          "scatterpolar": [
           {
            "marker": {
             "colorbar": {
              "outlinewidth": 0,
              "ticks": ""
             }
            },
            "type": "scatterpolar"
           }
          ],
          "scatterpolargl": [
           {
            "marker": {
             "colorbar": {
              "outlinewidth": 0,
              "ticks": ""
             }
            },
            "type": "scatterpolargl"
           }
          ],
          "scatterternary": [
           {
            "marker": {
             "colorbar": {
              "outlinewidth": 0,
              "ticks": ""
             }
            },
            "type": "scatterternary"
           }
          ],
          "surface": [
           {
            "colorbar": {
             "outlinewidth": 0,
             "ticks": ""
            },
            "colorscale": [
             [
              0,
              "#0d0887"
             ],
             [
              0.1111111111111111,
              "#46039f"
             ],
             [
              0.2222222222222222,
              "#7201a8"
             ],
             [
              0.3333333333333333,
              "#9c179e"
             ],
             [
              0.4444444444444444,
              "#bd3786"
             ],
             [
              0.5555555555555556,
              "#d8576b"
             ],
             [
              0.6666666666666666,
              "#ed7953"
             ],
             [
              0.7777777777777778,
              "#fb9f3a"
             ],
             [
              0.8888888888888888,
              "#fdca26"
             ],
             [
              1,
              "#f0f921"
             ]
            ],
            "type": "surface"
           }
          ],
          "table": [
           {
            "cells": {
             "fill": {
              "color": "#EBF0F8"
             },
             "line": {
              "color": "white"
             }
            },
            "header": {
             "fill": {
              "color": "#C8D4E3"
             },
             "line": {
              "color": "white"
             }
            },
            "type": "table"
           }
          ]
         },
         "layout": {
          "annotationdefaults": {
           "arrowcolor": "#2a3f5f",
           "arrowhead": 0,
           "arrowwidth": 1
          },
          "autotypenumbers": "strict",
          "coloraxis": {
           "colorbar": {
            "outlinewidth": 0,
            "ticks": ""
           }
          },
          "colorscale": {
           "diverging": [
            [
             0,
             "#8e0152"
            ],
            [
             0.1,
             "#c51b7d"
            ],
            [
             0.2,
             "#de77ae"
            ],
            [
             0.3,
             "#f1b6da"
            ],
            [
             0.4,
             "#fde0ef"
            ],
            [
             0.5,
             "#f7f7f7"
            ],
            [
             0.6,
             "#e6f5d0"
            ],
            [
             0.7,
             "#b8e186"
            ],
            [
             0.8,
             "#7fbc41"
            ],
            [
             0.9,
             "#4d9221"
            ],
            [
             1,
             "#276419"
            ]
           ],
           "sequential": [
            [
             0,
             "#0d0887"
            ],
            [
             0.1111111111111111,
             "#46039f"
            ],
            [
             0.2222222222222222,
             "#7201a8"
            ],
            [
             0.3333333333333333,
             "#9c179e"
            ],
            [
             0.4444444444444444,
             "#bd3786"
            ],
            [
             0.5555555555555556,
             "#d8576b"
            ],
            [
             0.6666666666666666,
             "#ed7953"
            ],
            [
             0.7777777777777778,
             "#fb9f3a"
            ],
            [
             0.8888888888888888,
             "#fdca26"
            ],
            [
             1,
             "#f0f921"
            ]
           ],
           "sequentialminus": [
            [
             0,
             "#0d0887"
            ],
            [
             0.1111111111111111,
             "#46039f"
            ],
            [
             0.2222222222222222,
             "#7201a8"
            ],
            [
             0.3333333333333333,
             "#9c179e"
            ],
            [
             0.4444444444444444,
             "#bd3786"
            ],
            [
             0.5555555555555556,
             "#d8576b"
            ],
            [
             0.6666666666666666,
             "#ed7953"
            ],
            [
             0.7777777777777778,
             "#fb9f3a"
            ],
            [
             0.8888888888888888,
             "#fdca26"
            ],
            [
             1,
             "#f0f921"
            ]
           ]
          },
          "colorway": [
           "#636efa",
           "#EF553B",
           "#00cc96",
           "#ab63fa",
           "#FFA15A",
           "#19d3f3",
           "#FF6692",
           "#B6E880",
           "#FF97FF",
           "#FECB52"
          ],
          "font": {
           "color": "#2a3f5f"
          },
          "geo": {
           "bgcolor": "white",
           "lakecolor": "white",
           "landcolor": "#E5ECF6",
           "showlakes": true,
           "showland": true,
           "subunitcolor": "white"
          },
          "hoverlabel": {
           "align": "left"
          },
          "hovermode": "closest",
          "mapbox": {
           "style": "light"
          },
          "paper_bgcolor": "white",
          "plot_bgcolor": "#E5ECF6",
          "polar": {
           "angularaxis": {
            "gridcolor": "white",
            "linecolor": "white",
            "ticks": ""
           },
           "bgcolor": "#E5ECF6",
           "radialaxis": {
            "gridcolor": "white",
            "linecolor": "white",
            "ticks": ""
           }
          },
          "scene": {
           "xaxis": {
            "backgroundcolor": "#E5ECF6",
            "gridcolor": "white",
            "gridwidth": 2,
            "linecolor": "white",
            "showbackground": true,
            "ticks": "",
            "zerolinecolor": "white"
           },
           "yaxis": {
            "backgroundcolor": "#E5ECF6",
            "gridcolor": "white",
            "gridwidth": 2,
            "linecolor": "white",
            "showbackground": true,
            "ticks": "",
            "zerolinecolor": "white"
           },
           "zaxis": {
            "backgroundcolor": "#E5ECF6",
            "gridcolor": "white",
            "gridwidth": 2,
            "linecolor": "white",
            "showbackground": true,
            "ticks": "",
            "zerolinecolor": "white"
           }
          },
          "shapedefaults": {
           "line": {
            "color": "#2a3f5f"
           }
          },
          "ternary": {
           "aaxis": {
            "gridcolor": "white",
            "linecolor": "white",
            "ticks": ""
           },
           "baxis": {
            "gridcolor": "white",
            "linecolor": "white",
            "ticks": ""
           },
           "bgcolor": "#E5ECF6",
           "caxis": {
            "gridcolor": "white",
            "linecolor": "white",
            "ticks": ""
           }
          },
          "title": {
           "x": 0.05
          },
          "xaxis": {
           "automargin": true,
           "gridcolor": "white",
           "linecolor": "white",
           "ticks": "",
           "title": {
            "standoff": 15
           },
           "zerolinecolor": "white",
           "zerolinewidth": 2
          },
          "yaxis": {
           "automargin": true,
           "gridcolor": "white",
           "linecolor": "white",
           "ticks": "",
           "title": {
            "standoff": 15
           },
           "zerolinecolor": "white",
           "zerolinewidth": 2
          }
         }
        },
        "width": 1000,
        "xaxis": {
         "anchor": "y",
         "autorange": true,
         "domain": [
          0,
          1
         ],
         "range": [
          -0.7402600113111004,
          4.538689232225941
         ],
         "title": {
          "text": "dim_1"
         },
         "type": "linear"
        },
        "yaxis": {
         "anchor": "x",
         "autorange": true,
         "domain": [
          0,
          1
         ],
         "range": [
          -7.408791535910018,
          -3.2475283207336596
         ],
         "title": {
          "text": "dim_2"
         },
         "type": "linear"
        }
       }
      },
      "image/png": "[encoded data removed]",
      "text/html": [
       "<div>                            <div id=\"aaabee5f-513d-420d-8bf6-df24b5daabf6\" class=\"plotly-graph-div\" style=\"height:1000px; width:1000px;\"></div>            <script type=\"text/javascript\">                require([\"plotly\"], function(Plotly) {                    window.PLOTLYENV=window.PLOTLYENV || {};                                    if (document.getElementById(\"aaabee5f-513d-420d-8bf6-df24b5daabf6\")) {                    Plotly.newPlot(                        \"aaabee5f-513d-420d-8bf6-df24b5daabf6\",                        [{\"customdata\":[[\"drone volt remporte deux appels d'offres majeurs aupr\\u00e8s de rte<br>aof drone volt expert en intelligence artificielle embarqu\\u00e9e et constructeur<br>de drones civils professionnels annonce avoir remport\\u00e9 deux appels d'offres<br>majeurs aupr\\u00e8s de rte r\\u00e9seau de transport et d'electricit\\u00e9 il<br>a \\u00e9t\\u00e9 s\\u00e9lectionn\\u00e9 pour la fourniture de drones et la<br>formation de plus de pilotes les livraisons de drones et<br>les formations s'\\u00e9taleront du quatri\\u00e8me trimestre jusqu'au quatri\\u00e8me trimestre et<br>portent sur un montant cumul\\u00e9 de plus de euros aof<br>en savoir plus electronique la bataille fait rage sur le<br>march\\u00e9 mondial des t\\u00e9l\\u00e9viseurs le chinois tcl particuli\\u00e8rement offensif a<br>affich\\u00e9 d'excellentes performances l'an pass\\u00e9 il a livr\\u00e9 millions de<br>t\\u00e9l\\u00e9viseurs en augmentation de par rapport \\u00e0 ce chiffre inclut<br>les livraisons \\u00e0<br>\"],[\"l'assureur de nouvelle g\\u00e9n\\u00e9ration luko r\\u00e9colte m\\u20ac environ un an<br>apr\\u00e8s une s\\u00e9rie a de m la jeune compagnie d'assurance<br>habitation luko est pass\\u00e9e de \\u00e0 plus de clients aujourd'hui<br>elle officialise un nouveau tour de table de m r\\u00e9alis\\u00e9e<br>avec une petite partie de dette l'op\\u00e9ration a \\u00e9t\\u00e9 men\\u00e9e<br>par eqt ventures nouvel entrant aux c\\u00f4t\\u00e9s de business angels<br>et d'investisseurs historiques que sont les am\\u00e9ricains accel et funders<br>fund de peter thiel ou encore l'autrichien speedinvest cette s\\u00e9rie<br>b permettra \\u00e0 la jeune pousse lanc\\u00e9e il y a<br>moins de trois ans de financer sa croissance en france<br>pour du montant lev\\u00e9 de s'\\u00e9tendre dans au moins un<br>autre pays europ\\u00e9en l'an prochain et d'alimenter ses projets d'investissements<br>dans la protection du foyer sur le volet technologique sur<br>ce dernier point elle<br>\"],[\"david nedzela nomm\\u00e9 directeur marketing d'evoyageurs sncf david nedzela prend<br>en charge la direction marketing evoyageurs sncf membre du comit\\u00e9<br>de direction il sera rattach\\u00e9 \\u00e0 alexandre viros dg d'evoyageurs<br>sncf avec pour mission de d\\u00e9velopper la vision clients commune<br>au groupe et \\u00e0 l'ensemble de ses marques ouisncf l'assistant<br>sncf et rail europe en s'appuyant sur l'ia apr\\u00e8s un<br>master ebusiness \\u00e0 l'escp david nedzela a commenc\\u00e9 sa carri\\u00e8re<br>au sein de la direction marketing chez kelkoo en tant<br>que sea manager en il participe au lancement de l'agence<br>nextedia comme digital marketing strategist pour des comptes tels que<br>accor cdiscount et marmara avant de rejoindre microsoft en pour<br>lancer l'offre publicitaire du moteur de recherche msn sur le<br>march\\u00e9 fran\\u00e7ais en il cofonde greenzer puis rejoint marc m\\u00e9nas\\u00e9<br>e<br>\"],[\"siemens healthineers veut am\\u00e9liorer le traitement du cancer gr\\u00e2ce \\u00e0<br>l'ia la branche m\\u00e9dicale de siemens a annonc\\u00e9 l'acquisition de<br>l'am\\u00e9ricain varian pour pr\\u00e8s de milliards d'euros bas\\u00e9e en californie<br>cette soci\\u00e9t\\u00e9 est sp\\u00e9cialis\\u00e9e dans les technologies d voir l'article<br>ce document r\\u00e9f\\u00e9rence un lien url de site non h\\u00e9berg\\u00e9<br>par cision<br>\"],[\"des maths au langage des maths au langage gr\\u00e9gory renard<br>ans cofondateur et pdg de xbrain san francisco le dessin<br>anim\\u00e9 qu'il regardait enfant gr\\u00e9gory renard en a fait une<br>r\\u00e9alit\\u00e9 dans ulysse le h\\u00e9ros peut compter en toutes circonstances<br>sur shyrka l'ordinateur central de son vaisseau en cr\\u00e9ant la<br>soci\\u00e9t\\u00e9 xbrain pour cerveau augment\\u00e9 l'agr\\u00e9g\\u00e9 de math\\u00e9matiques veut de<br>la m\\u00eame mani\\u00e8re permettre \\u00e0 l'humain de d\\u00e9gager son potentiel<br>gr\\u00e2ce \\u00e0 la machine sp\\u00e9cialiste du langage il a cr\\u00e9\\u00e9<br>un \\u00e9quivalent du c\\u00e9l\\u00e8bre siri d'apple en ce fran\\u00e7ais expatri\\u00e9<br>\\u00e0 menlo park au coeur de la silicon valley d\\u00e9veloppe<br>des assistants personnels pour l'automobile ainsi qu'une intelligence destin\\u00e9e \\u00e0<br>seconder les op\\u00e9rateurs des call centers en clair le syst\\u00e8me<br>prend en charge par t\\u00e9l\\u00e9phone<br>\"],[\"rep\\u00e8res citoyens d\\u00e9bat demain personnes ont \\u00e9t\\u00e9 convi\\u00e9es \\u00e0 d\\u00e9battre<br>dans m\\u00e9tropoles fran\\u00e7aises sur le th\\u00e8me des transports et des<br>villes du futur \\u00e0 toulouse rendezvous \\u00e0 la salle barcelone<br>le v\\u00e9hicule autonome a quelques arguments il n'est jamais sujet<br>\\u00e0 la fatigue et \\u00e0 l'hypovigilance son intelligence artificielle et<br>ses capteurs peuvent l'avertir de dangers invisibles pour un humain<br>\"],[\"hello world le jour o\\u00f9 une intelligence artificielle a d\\u00e9voil\\u00e9<br>son morceau compos\\u00e9 avec stromae la pochette de l'album hello<br>world compos\\u00e9 \\u00e0 l'aide d'une intelligence artificielle the pirouettes et<br>stromae ont notamment particip\\u00e9 hello world afp sipa vaton voir<br>un andro\\u00efde aux faux airs de david guetta monter sur<br>sc\\u00e8ne et remuer en rythme derri\\u00e8re ses platines les invit\\u00e9s<br>amass\\u00e9s devant la ga\\u00eft\\u00e9 lyrique mercredi soir sont un peu<br>perdus avant d'emprunter les escaliers souterrains \\u00e0 quelques pas de<br>l'entr\\u00e9e traditionnelle du centre culturel de la rue papin e<br>arrondissement de paris ils viennent d\\u00e9couvrir en avantpremi\\u00e8re hello world<br>un album multiartistes compos\\u00e9 \\u00e0 l'aide d'une intelligence artificielle ia<br>le nom de stromae est sur toutes les l\\u00e8vres l'artiste<br>aid\\u00e9 par la technologie on entame les festivit\\u00e9s par une<br>courte exposition des instruments de m<br>\"],[\"minier lit l'avenir par olivier bureau vous ne regarderez plus<br>jamais votre smartphone comme avant il y a aussi fort<br>\\u00e0 parier qu'apr\\u00e8s avoir lu en apn\\u00e9e m le bord<br>de l'ab\\u00eeme le dernier thriller de bernard minier vous n'adressiez<br>plus la parole \\u00e0 votre assistant vocal cette fois l'\\u00e9crivain<br>de ans auteur du triomphal glac\\u00e9 adapt\\u00e9 en s\\u00e9rie sur<br>m nous embarque \\u00e0 hongkong mo\\u00efra une jeune fran\\u00e7aise a<br>\\u00e9t\\u00e9 recrut\\u00e9e par la soci\\u00e9t\\u00e9 ming un empire chinois du<br>num\\u00e9rique o\\u00f9 elle int\\u00e8gre le service d'intelligence artificielle ia a<br>elle de rendre plus humain deus le super assistant personnel<br>vocal en plein d\\u00e9veloppement celui qui doit supplanter tous les<br>autres les siri alexa et confr\\u00e8res dans le m\\u00eame temps<br>une s\\u00e9rie de meurtres frappe des employ\\u00e9s et exsalari\\u00e9s de<br>ming m le thrill<br>\"],[\"les id\\u00e9es exp\\u00e9rience client d\\u00e9c la r\\u00e9daction a s\\u00e9lectionn\\u00e9 pour<br>vous une s\\u00e9lection d'informations percutantes au menu cette semaine des<br>kiosques de t\\u00e9l\\u00e9m\\u00e9decine dans les pharmacies walgreens aux \\u00e9tatsunis the<br>lego store \\u00e9lue meilleure enseigne en termes d'exp\\u00e9rience en magasin<br>et les clients anglais d\\u00e9\\u00e7us du canal tchat louis vuitton<br>rejoint le club des marques de luxe munies d'un chabot<br>louis vuitton dernier acteur du luxe \\u00e0 embrasser la tendance<br>chatbot lance un chatbot le lv virtual advisor sur messenger<br>l'outil utilise une technologie d'intelligence artificielle d\\u00e9velopp\\u00e9e par l'\\u00e9diteur modeai<br>et se monte capable selon la marque de recommander un<br>article ou de r\\u00e9pondre \\u00e0 des questions d'ordre logistique l'assistant<br>n'est pour l'heure disponible qu'aux \\u00e9tatsunis mais il devrait \\u00eatre<br>d\\u00e9ploy\\u00e9 proch<br>\"],[\"cac test non concluant des pts le cac a b\\u00e9n\\u00e9fici\\u00e9<br>de l'activation d'un algorithme haussier pour s'inscrire dans un canal<br>ascendant parfaitement rectiligne entre h et h lequel a conduit<br>le cac sans aucun \\u00e0 coup jusque vers pts +<br>de hausse puis avec la rumeur d'un d\\u00e9saccord persistant de<br>la bundesbank concernant la mon\\u00e9tisation de la dette des etats<br>la bourse de paris a rec\\u00e9d\\u00e9 de son avance de<br>fa\\u00e7on tout aussi lin\\u00e9aire le cac revenant \\u00e0 pts vers<br>h quelques achats de fin de s\\u00e9ance ont permis de<br>porter le gain du jour \\u00e0 + \\u00e0 pts dans<br>des volumes de mdse ce qui est relativement \\u00e9lev\\u00e9 pour<br>un lundi et carr\\u00e9ment exceptionnel en l'absence des investisseurs am\\u00e9ricains<br>en cong\\u00e9 aujourd'hui le d\\u00e9bordement des pts quelques jours seulement<br>apr\\u00e8s le test des pts se<br>\"],[\"convargo l'algorithme qui bouleverse le fret routier le blablacar du<br>transport routier a s\\u00e9duit les plus grands investisseurs fran\\u00e7ais il<br>mise sur la diversit\\u00e9 de ses services pour se distinguer<br>dans un secteur en pleine \\u00e9bullition qui vise \\u00e0 optimiser<br>le remplissage des camions entre un quart et un tiers<br>des camions roulent \\u00e0 vide ou sont remplis seulement \\u00e0<br>moiti\\u00e9 explique maxime legardez le fondateur de convargo nous rempla\\u00e7ons<br>des dizaines d'interm\\u00e9diaires \\u00e0 contacter par fax ou t\\u00e9l\\u00e9phone par<br>une seule interface en ligne nous faisons gagner du temps<br>\\u00e0 nos clients qu'ils aient \\u00e0 g\\u00e9rer l'envoi d'une palette<br>ou d'un camion entier concr\\u00e8tement la plateforme convargo met en<br>relation entreprises avec la flotte de camions de transporteurs gr\\u00e2ce<br>\\u00e0 notre algorithme nous calculons le meilleur moment pour opti<br>\"],[\"france l'exp\\u00e9rience client au coeur du magasin ikea madeleine pour<br>son e magasin en france l'enseigne d'ameublement a choisi de<br>s'implanter pour la premi\\u00e8re fois dans un centreville afin de<br>se rapprocher de la client\\u00e8le le nouveau point de vente<br>paris la madeleine dans le er arrondissement a \\u00e9t\\u00e9 con\\u00e7u<br>comme un lieu de vie et d'exp\\u00e9rience sur m ikea<br>paris la madeleine est plus qu'un magasin c'est un nouveau<br>lieu de vie inspirant et exp\\u00e9rientiel cr\\u00e9\\u00e9 par les parisiens<br>pour les parisiens pr\\u00e9cise annie b\\u00e9treau la directrice un magasin<br>unique am\\u00e9nag\\u00e9 autour des activit\\u00e9s quotidiennes des parisiens l'endroit a<br>en effet \\u00e9t\\u00e9 pens\\u00e9 en cocr\\u00e9ation avec les clients d'ikea<br>family pr\\u00e8s de contributions ont \\u00e9t\\u00e9 enregistr\\u00e9es une zone d'accueil<br>et quatre univers reposant sur les diff\\u00e9rents besoins \\u00e0 la<br>maison structurent l'exp\\u00e9rie<br>\"],[\"tiktok donne de la visibilit\\u00e9 aux girls bands et c'est<br>une bonne nouvelle tiktok est rythm\\u00e9 par des tendances explique<br>variety on constate l'apparition par intermittence de danses chansons ou<br>challenges dont la popularit\\u00e9 ne s'explique pas vraiment pourtant rel\\u00e8ve<br>l'hebdomadaire culturel am\\u00e9ricain le myst\\u00e9rieux algorithme est devenu pendant le<br>confinement li\\u00e9 au covid le champion d'un ph\\u00e9nom\\u00e8ne beaucoup plus<br>permanent en poussant les groupes exclusivement f\\u00e9minins au premier plan<br>des pages sugg\\u00e9r\\u00e9es 'pour vous' des plateformes parmi les contenus<br>r\\u00e9cemment mis en avant par l'application chinoise de partage de<br>vid\\u00e9os on trouve entre autres la musique r b des<br>britanniques four of diamonds la photo cidessus la country des<br>am\\u00e9ricaines k sisters texas et taylor red tennessee ou encore<br>la pop alternative des quatre jeunes femmes originai<br>\"],[\"la mutuelle g\\u00e9n\\u00e9rale met le deep learning au coeur de<br>sa gestion de courriers entrants l e courrier postal n'est<br>pas mort qu'on se le dise et avec lui la<br>probl\\u00e9matique de la qualification des flux entrants reste une pr\\u00e9occupation<br>de taille dans les entreprises dont le fonctionnement d\\u00e9pend encore<br>largement de ce lien papier avec leurs clients c'est le<br>cas de la mutuelle g\\u00e9n\\u00e9rale troisi\\u00e8me mutuelle sant\\u00e9 en france<br>avec plus de million de personnes prot\\u00e9g\\u00e9es elle intervient sur<br>les march\\u00e9s des particuliers et des entreprises en sant\\u00e9 et<br>en pr\\u00e9voyance cette activit\\u00e9 g\\u00e9n\\u00e8re de tr\\u00e8s nombreux \\u00e9changes postaux<br>la mutuelle g\\u00e9n\\u00e9rale re\\u00e7oit entre et courriers par jour en<br>moyenne et des pointes \\u00e0 en fin d'ann\\u00e9e au menu<br>des demandes de remboursement des devis pour la prise en<br>charge de soins des changements de situation des factures de<br>\"],[\"la soci\\u00e9t\\u00e9 g\\u00e9n\\u00e9rale multiplie les efforts en direction des fintech<br>acquisitions partenariats la soci\\u00e9t\\u00e9 g\\u00e9n\\u00e9rale est sur tous les fronts<br>de la fintech apr\\u00e8s le rachat annonc\\u00e9 fin septembre de<br>treezor plateforme de services bancaires qui sert de moteur \\u00e0<br>de nombreuses jeunes pousses de la finance la banque en<br>rouge et noir a lanc\\u00e9 lundi un incubateur destin\\u00e9 cette<br>fois \\u00e0 ses activit\\u00e9s de march\\u00e9 chez sg cib le<br>global markets incubator c'est son nom a vocation \\u00e0 accueillir<br>un nombre limit\\u00e9 de fintech selon un proche du groupe<br>confi\\u00e9e en cette rentr\\u00e9e \\u00e0 antoine connault qui travaillait depuis<br>\\u00e0 la direction de la strat\\u00e9gie et du d\\u00e9veloppement des<br>activit\\u00e9s de banque de grande client\\u00e8le et solutions investisseurs la<br>structure a ouvert jusqu'au novembre un appel \\u00e0 candidatures incubation<br>de six mois pour les startup choisies les soc<br>\"],[\"kubrick \\u00e0 brac h arte kubrick par kubrick documentaire fran\\u00e7ais<br>de gregory monro h grand manitou de la revue positif<br>michel ciment a touch\\u00e9 du doigt un graal journalistique il<br>a eu le privil\\u00e8ge d'approcher longuement stanley kubrick d'ordinaire plus<br>que r\\u00e9tif \\u00e0 analyser son oeuvre dans la presse illustr\\u00e9<br>d'archives folles dont un home movie montrant le futur g\\u00e9nie<br>alors bambin en train d'enquiquiner sa soeur ou d'accessoires film\\u00e9s<br>comme des f\\u00e9tiches masque d' eyes wide shut mobilier de<br>l'odyss\\u00e9e de l'espace ce documentaire tente de mettre en images<br>la parole kubrickienne extraite des enregistrements audio de ciment on<br>devine que la t\\u00e2che fut ardue si le plus confin\\u00e9<br>des cin\\u00e9astes terr\\u00e9 dans son manoir anglais depuis lolita raconte<br>de fa\\u00e7on<br>\"],[\"kai fu lee l'ia sera plus foudroyante que l'\\u00e9lectricit\\u00e9 il<br>est l'expert qui parle le mieux de l'intelligence artificielle ia<br>comme de la chine le point avait retrac\\u00e9 en avril<br>le parcours exceptionnel de kaifu lee n\\u00e9 \\u00e0 ta\\u00efwan \\u00e9migr\\u00e9<br>aux etatsunis \\u00e0 l'\\u00e2ge de ans le chercheur s'impose comme<br>un pionnier de la reconnaissance vocale apr\\u00e8s avoir travaill\\u00e9 chez<br>apple et microsoft puis dirig\\u00e9 google chine en il fonde<br>en la soci\\u00e9t\\u00e9 d'investissement en capitalrisque sinovation ventures pour \\u00e9crire<br>son bestseller mondial ia la plus grande mutation de l'histoire<br>les ar\\u00e8nes ce p\\u00e9dagogue hors pair a sollicit\\u00e9 sa connaissance<br>intime des deux cultures chinoise et am\\u00e9ricaine ainsi que sa<br>double exp\\u00e9rience dans les sciences et les affaires dans ce<br>livre majeur kaifu lee raconte comment la chine rattrape non<br>seulement son<br>\"],[\"oui link une promotion pour valoriser la mobilit\\u00e9 durable et<br>accessible evoyageurs sncf pr\\u00e9sentait fin janvier la nouvelle promotion oui<br>link \\u00e0 l'occasion du salon changenow les jeunes pousses s\\u00e9lectionn\\u00e9es<br>r\\u00e9pondent notamment aux enjeux de durabilit\\u00e9 et d'accessibilit\\u00e9 dans les<br>transports l'acc\\u00e9l\\u00e9rateur de startups d'evoyageur sncf d\\u00e9voile les noms des<br>jeunes pousses qui composent sa nouvelle promotion pour ce cru<br>les probl\\u00e9matiques ont notamment \\u00e9t\\u00e9 ax\\u00e9es sur le green it<br>la mobilit\\u00e9 inclusive ou bien encore l'intelligence artificielle oui link<br>accueille ainsi les jeunes pousses suivantes au sein de son<br>programme tresorio qui a d\\u00e9velopp\\u00e9 des chaudi\\u00e8res num\\u00e9riques ou microdata<br>centers capables de refroidir les serveurs informatiques et de r\\u00e9cup\\u00e9rer<br>stocker et r\\u00e9utiliser de la chaleur produite pour chauffer les<br>b\\u00e2timents qui l<br>\"],[\"geert chielens ahold delhaize notre taux de conversion atteint le<br>groupe ahold delhaize a fait \\u00e9voluer son outil it en<br>adoptant sap hybris pour monter en puissance sur l'ecommerce le<br>distributeur qui vend dans pays enregistre par exemple une croissance<br>de en belgique en ligne avec un taux de conversion<br>de pr\\u00e9cisions sur ce projet avec nessim makloufi directeur sap<br>hybris france et geert chielens responsable delivery adhold delhaize en<br>le groupe ahold delhzaize est confront\\u00e9 \\u00e0 un changement de<br>technologie et le distributeur a investi dans sap hybris pour<br>accompagner sa croissance notamment sur ecommerce le groupe est en<br>effet pr\\u00e9sent dans pays servant pr\\u00e8s de millions de clients<br>et se positionnant dans le top des acteurs food retail<br>geert chielens responsable delivery adhold delhaize et \\u00e9galement en char<br>\"]],\"hovertemplate\":\"clusters=2<br>dim_1=%{x}<br>dim_2=%{y}<br>title_lead=%{customdata[0]}<extra></extra>\",\"legendgroup\":\"2\",\"marker\":{\"color\":\"#636efa\",\"symbol\":\"circle\"},\"mode\":\"markers\",\"name\":\"2\",\"orientation\":\"v\",\"showlegend\":true,\"x\":[-0.09384961426258087,-0.22897064685821533,0.3219665288925171,0.9002090096473694,1.100037693977356,0.7831401228904724,1.3707797527313232,1.3831288814544678,0.566862940788269,0.0292714461684227,0.31708329916000366,0.7606128454208374,1.0902196168899536,-0.4525192081928253,-0.27280041575431824,1.3106746673583984,1.266977310180664,0.20244315266609192,-0.04545897617936134],\"xaxis\":\"x\",\"y\":[-5.711185932159424,-4.667171001434326,-5.439187526702881,-5.352668285369873,-4.422327995300293,-3.9106485843658447,-4.090936660766602,-3.7454850673675537,-4.474790096282959,-4.913382530212402,-4.204038143157959,-4.693411827087402,-3.473736524581909,-4.447397708892822,-4.1544718742370605,-3.665018320083618,-4.913845539093018,-4.49044132232666,-5.220305442810059],\"yaxis\":\"y\",\"type\":\"scatter\"},{\"customdata\":[[\"rpt un nouveau site d'ia \\u00e0 p\\u00e9kin atteste des ambitions<br>chinoises pekin reuters bien lire dans le titre ia au<br>lieu de ai un site sp\\u00e9cialis\\u00e9 dans l'intelligence artificielle ia<br>doit \\u00eatre construit \\u00e0 p\\u00e9kin la chine ambitionnant de devenir<br>un er mondial en la mati\\u00e8re d'ici rapporte mercredi l'agence<br>de presse officielle chine nouvelle le site accueillera jusqu'\\u00e0 entreprises<br>et aura une production annuelle estim\\u00e9e \\u00e0 milliards de yuans<br>milliards d'euros pr\\u00e9cise chine nouvelle citant un rapport des autorit\\u00e9s<br>du district de mentougou de p\\u00e9kin zhongguancun development group le<br>promoteur de ce projet de milliards de yuans milliard d'euros<br>pr\\u00e9voit de s'associer avec des universit\\u00e9s \\u00e9trang\\u00e8res pour construire un<br>laboratoire d'ia de niveau national ajoute chine nouvelle zhongguancun development<br>group et les re<br>\"],[\"aiva premier compositeur de musique artificielle qu\\u2019estce qu\\u2019aiva aiva artificial<br>intelligence virtual artist est un algorithme de composition musicale d\\u00e9velopp\\u00e9<br>par une startup luxembourgeoise aiva technologies depuis le mois de<br>f\\u00e9vrier elle utilise le calcul matriciel et le deep learning<br>pour composer des \\u0153uvres de musique classique \\u00e0 partir d\\u2019un<br>r\\u00e9pertoire d\\u2019une quinzaine de milliers d\\u2019\\u0153uvres de compositeurs majeurs bach<br>mozart beethoven etc qu\\u2019elle a assimil\\u00e9es les \\u0153uvres de r\\u00e9f\\u00e9rence<br>ont \\u00e9t\\u00e9 analys\\u00e9es classifi\\u00e9es et rentr\\u00e9es sous forme de partition<br>pour apprendre \\u00e0 la machine \\u00e0 composer elle s\\u2019est donc<br>fait un mod\\u00e8le math\\u00e9matique de ce qu\\u2019est la musique classique<br>d\\u2019une p\\u00e9riode consid\\u00e9r\\u00e9e selon les crit\\u00e8res qu\\u2019on lui assigne pour<br>la p\\u00e9riode de r\\u00e9f\\u00e9rence baroque classique romantique modern<br>\"],[\"une appli au secours des h\\u00f4teliers pour un h\\u00f4telier faire<br>les comptes se r\\u00e9v\\u00e8le parfois \\u00eatre un vrai cauchemar joseph<br>delacou le sait lui qui a travaill\\u00e9 six ans dans<br>l'h\\u00f4tellerie pour chaque \\u00e9l\\u00e9ment de la gestion h\\u00f4teli\\u00e8re on a<br>un outil mais quand on arrive au contr\\u00f4le des co\\u00fbts<br>l\\u00e0 il manque quelque chose pour remplacer les tableaux excel<br>pas toujours tr\\u00e8s clairs il propose aujourd'hui l'aide de sa<br>jeune entreprise hotelskipper avec son ami d'enfance roland paire sur<br>le volet technique le jeune brestois a cr\\u00e9\\u00e9 son propre<br>logiciel de contr\\u00f4le des co\\u00fbts il suffit \\u00e0 l'h\\u00f4telier d'envoyer<br>sa facture par email \\u00e0 hotelskipper elle est automatiquement reconnue<br>par l'algorithme et les donn\\u00e9es sont num\\u00e9ris\\u00e9es et trait\\u00e9es c'est<br>facile pour les h\\u00f4teliers et c'est surtout le moins contraignant<br>possible<br>\"],[\"les chantous de loud'ia au fest deiz de dimanche groupe<br>de copains passionn\\u00e9s de musique traditionnelle l'association les amis sonneurs<br>des landes propose son e festdeiz sur terre battue dimanche<br>l'id\\u00e9e du groupe a pour but de faire revivre au<br>public les festo\\u00f9deiz d'antan dans un hangar o\\u00f9 les musiciens<br>sont juch\\u00e9s sur une sc\\u00e8ne de fabrication sommaire proche des<br>danseurs chaque ann\\u00e9e des groupes de r\\u00e9putation r\\u00e9gionale et audel\\u00e0<br>pr\\u00eatent leur concours dimanche les chantous de loud'ia habitu\\u00e9s du<br>tamm kreiz seront pr\\u00e9sents en compagnie de musiciens amateurs et<br>confirm\\u00e9s les sonneurs herv\\u00e9 et christophe hch + maligorn du<br>et bien entendu les sonneurs des landes dimanche \\u00e0 h<br>festdeiz \\u00e0 la croixdeslandes entr\\u00e9es buvette et cr\\u00eapes wwwsonneursdeslandesfrgd<br>\"],[\"le rapport villani est attendu pour janvier le premier ministre<br>\\u00e9douard philippe a confi\\u00e9 le septembre une mission sur l'intelligence<br>artificielle au math\\u00e9maticien et d\\u00e9put\\u00e9 lrem de l'essonne c\\u00e9dric villani<br>celuici devra rendre son rapport en janvier cette demande prend<br>le relais de la mission france ia qu'avait lanc\\u00e9e axelle<br>lemaire secr\\u00e9taire d'\\u00e9tat au num\\u00e9rique du gouvernement pr\\u00e9c\\u00e9dent elle avait<br>d\\u00e9j\\u00e0 abouti \\u00e0 un premier rapport \\u00e9crit avec le concours<br>de contributeurs et qui se terminait sur recommandations \\u00e0 l'\\u00e9poque<br>fran\\u00e7ois hollande avait annonc\\u00e9 vouloir consacrer milliard d'euros sur dix<br>ans au titre des investissements d'avenir pour soutenir la recherche<br>sur l'intelligence artificielle sans rompre avec cette promesse le nouveau<br>gouvernement a jug\\u00e9 que ce travail \\u00e9tait trop fourretout il<br>a dem<br>\"],[\"pascal chabot dans les ann\\u00e9es quand on se projetait dans<br>l'avenir on imaginait un monde o\\u00f9 la technologie jouerait le<br>premier r\\u00f4le dans nos modes de vie pour le meilleur<br>et pour le pire ce monde est d\\u00e9sormais sous nos<br>yeux nous baignons dedans un cocktail sucr\\u00e9sal\\u00e9 de robotisation de<br>vie num\\u00e9rique de crise \\u00e9cologique de progr\\u00e8s g\\u00e9n\\u00e9tiques d'intelligence artificielle<br>de financiarisation tous azimuts mais aussi de transparence et de<br>mont\\u00e9e des populismes bref tout ce que le philosophe belge<br>pascal chabot dans un essai remarquable exister r\\u00e9sister ce qui<br>d\\u00e9pend de nous appelle les ultraforces en trente ans elles<br>ont chamboul\\u00e9 nos moeurs au travail dans la famille nos<br>relations amoureuses notre rapport au temps ou notre perception de<br>l'avenir estce un bien est<br>\"],[\"une application d'ia peut pr\\u00e9voir le succ\\u00e8s d'une mol\\u00e9cule une<br>\\u00e9quipe de praticienschercheurs de gustave roussy et de l'universit\\u00e9 parissud<br>vient de d\\u00e9velopper une application d'intelligence artificielle resolved capable de<br>pr\\u00e9voir si une mol\\u00e9cule sera autoris\\u00e9e ou non dans les<br>six ans \\u00e0 partir des donn\\u00e9es pharmacologiques et d'essais de<br>phase i en canc\\u00e9rologie le d\\u00e9veloppement d'un m\\u00e9dicament est long<br>co\\u00fbteux et demande l'implication de plusieurs milliers de patients alors<br>qu'environ des m\\u00e9dicaments en d\\u00e9veloppement dans les maladies infectieuses en<br>ophtalmologie et pr\\u00e8s de toutes disciplines confondues recevront une amm<br>apr\\u00e8s une phase i seulement des mol\\u00e9cules test\\u00e9es l'obtiendront en<br>canc\\u00e9rologie pr\\u00e9cise le dr loic verlingue oncologue et chef de<br>la data science team du d\\u00e9partement de l'innovation th\\u00e9ra<br>\"],[\"salestrip la plateforme tout en un sign\\u00e9e salesforce qui s'attaque<br>au voyage d'affaires salesforce pr\\u00e9sente salestrip la derni\\u00e8re solution technologique<br>d\\u00e9di\\u00e9e au march\\u00e9 du voyage d'affaires sa mission devenir une<br>plateforme toutenun qui permet de r\\u00e9server d'acheter des billets et<br>de g\\u00e9rer chaque voyage nourrie \\u00e0 la data salestrip utilise<br>l'intelligence artificielle pour \\u00eatre capable de pr\\u00e9dire combien va co\\u00fbter<br>un voyage et combien il va pouvoir rapporter \\u00e0 l'entreprise<br>l'objectif final est de mieux g\\u00e9rer les budgets pour r\\u00e9sum\\u00e9<br>salestrip permet au march\\u00e9 de savoir combien je vais gagner<br>en d\\u00e9pensant tant et \\u00e0 quel moment d\\u00e9clare eoin landers<br>pr\\u00e9sident de salestrip et vicepr\\u00e9sident produits \\u00e0 nos confr\\u00e8res de<br>d\\u00e9placementsproscom directement int\\u00e9gr\\u00e9e au crm de salesforce salestrip prend en<br>compte toutes les donn\\u00e9es r\\u00e9colt\\u00e9es afin de les analyser et<br>d'\\u00eatre<br>\"],[\"symbiose relever les d\\u00e9fis de l'exploitation de la cinqui\\u00e8me fa\\u00e7ade<br>jamais une telle op\\u00e9ration n'a \\u00e9t\\u00e9 r\\u00e9alis\\u00e9e sur des b\\u00e2timents<br>existants con\\u00e7us dans les ann\\u00e9es c'est d\\u00e9j\\u00e0 complexe sur du<br>neuf alors de l'ancien il ne s'agit pas de venir<br>avec ses quatre planches et un bout de plexi observe<br>luc stephan directeur de nantes m\\u00e9tropole habitat nmh partenaire du<br>projet symbiose qui vise \\u00e0 greffer une serre sur le<br>toit d'un immeuble du parc locatif nantais dans les quartiers<br>nord de la ville objectif utiliser l'\\u00e9nergie solaire pour limiter<br>le recours \\u00e0 l'\\u00e9nergie carbon\\u00e9e et r\\u00e9duire les charges locatives<br>via une pompe \\u00e0 chaleur et un \\u00e9changeur le syst\\u00e8me<br>sera coupl\\u00e9 au dispositif de chauffage actuel il b\\u00e9n\\u00e9ficiera d'un<br>pilotage pr\\u00e9dictif gr\\u00e2ce \\u00e0 un algorithme int\\u00e9grant de l'intelligence artificielle<br>mis au point par la startup e<br>\"],[\"des neurones num\\u00e9riques quatre lettres toutes simples pour nommer une<br>petite r\\u00e9volution jast est une intelligence artificielle ia nouvelle g\\u00e9n\\u00e9ration<br>capable de d\\u00e9tecter n'importe quelle donn\\u00e9e un son une forme<br>qui se r\\u00e9p\\u00e8te et de l'enregistrer en toute autonomie personne<br>n'a eu besoin de lui dire au pr\\u00e9alable quoi chercher<br>si une telle prouesse est possible c'est que cette technologie<br>est directement inspir\\u00e9e de l'intelligence humaine autrement dit les neurones<br>num\\u00e9riques de jast fonctionnent comme ceux de notre cerveau enfin<br>et surtout pour que cet algorithme fonctionne il suffit de<br>l'impl\\u00e9menter sur une puce \\u00e9lectronique valant \\u00e0 peine euros etablie<br>en californie la soci\\u00e9t\\u00e9 brainchip qui d\\u00e9veloppe des solutions logicielles<br>et mat\\u00e9rielles consacr\\u00e9es \\u00e0 l'ia pour la surveillance civi<br>\"],[\"c\\u00e9vennes le collectif migrants s'engage v ia le dispositif d'accueil<br>welcome en france familles du bassin al\\u00e9sien se pr\\u00e9parent \\u00e0<br>accueillir deux r\\u00e9fugi\\u00e9s un engagement citoyen auquel le maire d'al\\u00e8s<br>max roustan refuse d'accorder un tarif r\\u00e9duit pour les transports<br>collectifs il s'appelle boubacar et son errance depuis sa guin\\u00e9e<br>natale prendra momentan\\u00e9ment fin le novembre lors de son accueil<br>dans une famille du bassin al\\u00e9sien sur le territoire autres<br>familles se sont engag\\u00e9es dans le dispositif baptis\\u00e9 welcome en<br>france permettant d'offrir un mois durant l'h\\u00e9bergement \\u00e0 un demandeur<br>d'asile dans l'attente huit mois environ d'une place en centre<br>d'accueil pour demandeurs d'asile cada au niveau national des demandeurs<br>d'asile ne trouvent pas de places d'h\\u00e9bergement un geste de<br>fraternit\\u00e9 devant<br>\"],[\"le cr\\u00e9ateur de l\\u2019assistant vocal alexa voudrait lui donner un<br>corps robotique apr\\u00e8s avoir int\\u00e9gr\\u00e9 alexa dans plus de millions<br>d\\u2019objets connect\\u00e9s amazon voudrait aller plus loin le g\\u00e9ant am\\u00e9ricain<br>pourrait en effet donner un corps \\u00e0 son assistant intelligent<br>et peut\\u00eatre en faire un vrai robot le seul moyen<br>de rendre les assistants personnels vraiment intelligents est de leur<br>offrir des yeux pour qu\\u2019ils explorent le monde a expliqu\\u00e9<br>rohit prasad vicepr\\u00e9sident d\\u2019amazon \\u00e0 la t\\u00eate de l\\u2019\\u00e9quipe de<br>scientifiques qui a mis en point alexa lors d\\u2019une conf\\u00e9rence<br>organis\\u00e9e par le mit technology review revue de technologie du<br>mit le mars il consid\\u00e8re ainsi que l\\u2019assistant d\\u2019amazon serait<br>plus performant avec un corps b\\u00e9n\\u00e9ficiant de cam\\u00e9ras pour se<br>d\\u00e9placer et observer le monde autour de lui un corps<br>pour mieux comprendre le monde comme le rappelle mit tec<br>\"],[\"une \\u00e9thique n\\u00e9cessaire pour une technologie sans contr\\u00f4le \\u00e9thique l'intelligence<br>artificielle bat l'homme aux \\u00e9checs et au jeu de go<br>elle s'invite dans les voitures pour autonomiser leur conduite elle<br>anime des robots qui ressemblent \\u00e0 des humains pour mieux<br>interagir avec eux sans contr\\u00f4le ou presque cette technologie s'immisce<br>progressivement dans nos vies et fait na\\u00eetre de nouveaux questionnements<br>\\u00e9thiques comment programmer une voiture autonome pilot\\u00e9e par ordinateur de<br>telle sorte qu'elle mette le moins de vies humaines en<br>danger dans une situation accidentelle de quelle mani\\u00e8re encadrer les<br>armes autonomes capables de s\\u00e9lectionner des cibles pour les \\u00e9liminer<br>afin d'\\u00e9viter qu'elles ne se retournent contre nous le probl\\u00e8me<br>est que ces applications ne sont aujourd'hui cadr\\u00e9es par personne<br>par aucune instance estime raj<br>\"],[\"coronavirus de l'utilit\\u00e9 de l'intelligence artificielle le coronavirus continue de<br>se r\\u00e9pandre in\\u00e9galement d'un continent \\u00e0 l'autre plus de morts<br>dans le monde dont plus de en france \\u00e0 ce<br>jour et le bilan s'alourdit quotidiennement pourtant si la crise<br>actuelle du covid est bien plus grave que celle du<br>pr\\u00e9c\\u00e9dent coronavirus le sras qui a fait pr\\u00e8s de morts<br>il y a dixsept ans les gouvernements disposent pour la<br>combattre de l'intelligence artificielle ia ce nouvel outil aux applications<br>innombrables or dans ce domaine on constate une diff\\u00e9rence d'approche<br>et de moyens importante entre les pays du sudest asiatique<br>taiwan singapour chine et cor\\u00e9e du sud et la majorit\\u00e9<br>des pays occidentaux en asie l'ia est utilis\\u00e9e \\u00e0 tous<br>les niveaux de la lutte contre l'\\u00e9pid\\u00e9mie de la d\\u00e9tection<br>des foyers de contagio<br>\"],[\"duel hommemachine l'arm\\u00e9e de l'air des \\u00e9tatsunis va organiser en<br>juillet un combat entre un avion de chasse pilot\\u00e9 par<br>un humain et un autre pilot\\u00e9 par une intelligence artificielle<br>les militaires planchent depuis sur ce projet d'appareils capables de<br>faire des arbitrages tactiques<br>\"],[\"conseil r\\u00e9gionalles aides pour le secteur r\\u00e9uni en commission permanente<br>le f\\u00e9vrier le conseil r\\u00e9gional a allou\\u00e9 des subventions \\u00e0<br>diverses entreprises et associations du secteuram\\u00e9nagementsubvention de \\u20ac \\u00e0 l'ulamir<br>aulne ch\\u00e2teauneufdufaou cette somme est attribu\\u00e9e pour la cr\\u00e9ation d'une<br>ludoth\\u00e8que itin\\u00e9rante \\u20ac au syndicat mixte du parc naturel r\\u00e9gional<br>d'armorique le faou pour le d\\u00e9veloppement du domaine de menezmeur<br>\\u00e0 hanvec phase \\u00e9conomie emploile conseil r\\u00e9gional de bretagne a<br>allou\\u00e9 une avance remboursable de \\u20ac \\u00e0 la sas bookbeo<br>\\u00e0 rosno\\u00ebn cette somme est attribu\\u00e9e pour la plateforme de<br>services innovants d\\u00e9di\\u00e9s aux activit\\u00e9s du maritime mer et littoral<br>et bas\\u00e9s sur les technologies de r\\u00e9alit\\u00e9 augment\\u00e9e et d'intelligence<br>artificielleagriculture \\u20ac \\u00e0 un exploitant agricole de d<br>\"],[\"sidetrade chiffre d'affaires en hausse de au troisi\\u00e8me trimestre aof<br>sidetrade plateforme d'intelligence artificielle d\\u00e9di\\u00e9e \\u00e0 l'acc\\u00e9l\\u00e9ration du revenu et<br>du cashflow des entreprises a annonc\\u00e9 que son chiffre d'affaires<br>au troisi\\u00e8me trimestre \\u00e9tait en see article this document contains<br>links to websites that are not hosted by cision<br>\"]],\"hovertemplate\":\"clusters=1<br>dim_1=%{x}<br>dim_2=%{y}<br>title_lead=%{customdata[0]}<extra></extra>\",\"legendgroup\":\"1\",\"marker\":{\"color\":\"#EF553B\",\"symbol\":\"circle\"},\"mode\":\"markers\",\"name\":\"1\",\"orientation\":\"v\",\"showlegend\":true,\"x\":[1.4424890279769897,1.7074556350708008,1.2602955102920532,2.098681926727295,2.6017165184020996,1.9864808320999146,2.139732599258423,1.658016324043274,2.080378532409668,1.5870373249053955,2.431096076965332,1.2680788040161133,2.4550886154174805,2.5725998878479004,2.3008713722229004,3.0446438789367676,2.0414116382598877],\"xaxis\":\"x\",\"y\":[-5.240492820739746,-6.333446025848389,-6.4431023597717285,-4.24139928817749,-4.9100022315979,-6.227563858032227,-5.463834285736084,-6.997823238372803,-5.052208423614502,-5.753920555114746,-4.596192836761475,-5.866082668304443,-6.524629592895508,-5.683541774749756,-6.245066165924072,-4.757447719573975,-7.182583332061768],\"yaxis\":\"y\",\"type\":\"scatter\"},{\"customdata\":[[\"face au coronavirus nabla d\\u00e9voile ses plans dans la sant\\u00e9<br>il s'agit d'une des startup les plus courtis\\u00e9es par les<br>investisseurs dans la french tech depuisson lancement \\u00e0 l'\\u00e9t\\u00e9 l'\\u00e9quipe<br>de nabla compos\\u00e9e d'anciens de facebook et d'aufeminin \\u00e9tait rest\\u00e9e<br>discr\\u00e8te sur ses activit\\u00e9s la crise du coronavirus la pousse<br>\\u00e0 lever le voile sur ses plans d'avenir lors de<br>sa cr\\u00e9ation nabla avait pour objectif d'industrialiser les recherches les<br>plus r\\u00e9centes en intelligence artificielle afin de les rendre accessibles<br>aux entreprises durant un an des prototypes ont \\u00e9t\\u00e9 d\\u00e9velopp\\u00e9s<br>dans diff\\u00e9rents secteurs mais c'est seulement il y a six<br>mois que la jeune pousse a trouv\\u00e9 sa voie notre<br>philosophie a toujours \\u00e9t\\u00e9 d'augmenter les humains plut\\u00f4t que de<br>les remplacer indique delphine groll cofondatrice et directrice des op\\u00e9rations<br>de nabla l<br>\"],[\"la boulimie des g\\u00e9ants am\\u00e9ricains de la high tech facebook<br>amazon google et apple avec le rachat d'oculus vr et<br>surtout quelques semaines plus t\\u00f4t de whatsapp pour milliards de<br>dollars facebook est rentr\\u00e9 dans la course aux plus grosses<br>acquisitions dans le secteur hightech am\\u00e9ricain comme le montre cette<br>infographie du wall street journal amazon google et apple ont<br>eux aussi r\\u00e9alis\\u00e9 d'importantes op\\u00e9rations au cours des dix derni\\u00e8res<br>ann\\u00e9es dans des domaines aussi vari\\u00e9s que la robotique la<br>publicit\\u00e9 la g\\u00e9olocalisation ou encore l'intelligence artificielle<br>\"],[\"quand marseille accentue son virage num\\u00e9rique nice s'ancre dans la<br>smart city s'il y a bien un sujet qui rassemble<br>\\u00e0 marseille c'est le smart port car audel\\u00e0 d'\\u00eatre un<br>concept ou un \\u00e9tat d'esprit c'est avant tout un comit\\u00e9<br>de pilotage qui r\\u00e9fl\\u00e9chit sur ce que doit \\u00eatre le<br>french smart port in med ainsi le grand port maritime<br>de marseille gpmm l'\\u00e9tat la r\\u00e9gion le conseil d\\u00e9partemental des<br>bouches du rh\\u00f4ne la m\\u00e9tropole aixmarseille provence la ville de<br>marseille eurom\\u00e9diterran\\u00e9e la caisse des d\\u00e9p\\u00f4ts l'agence r\\u00e9gionale pour l'innovation<br>et l'internationalisation des entreprises et l'union maritime et fluviale ont<br>pour mission de donner toute son ampleur au num\\u00e9rique sur<br>un outil portuaire premier port fran\\u00e7ais et num\\u00e9ro de m\\u00e9diterran\\u00e9e<br>qui a fait le pari que ce serait l\\u00e0 un<br>axe de d\\u00e9veloppement et de mutation car s'il est r\\u00e9solument<br>industriel<br>\"],[\"plus de fran\\u00e7ais sur ont d\\u00e9j\\u00e0 entendu parler de l'intelligence<br>artificielle sans que cela soit repr\\u00e9sentatif de leur compr\\u00e9hension du<br>ph\\u00e9nom\\u00e8ne renaissance num\\u00e9rique plus de fran\\u00e7ais sur ont d\\u00e9j\\u00e0 entendu<br>parler de l'intelligence artificielle sans que cela soit repr\\u00e9sentatif de<br>leur compr\\u00e9hension du ph\\u00e9nom\\u00e8ne renaissance num\\u00e9rique plus de fran\\u00e7ais sur<br>ont d\\u00e9j\\u00e0 entendu parler de l'intelligence artificielle sans que cela<br>soit repr\\u00e9sentatif de leur compr\\u00e9hension du ph\\u00e9nom\\u00e8ne renaissance num\\u00e9rique d'apr\\u00e8s<br>une enqu\\u00eate conduite par m\\u00e9diam\\u00e9trie pour le think tank renaissance<br>num\\u00e9rique des fran\\u00e7ais ont d\\u00e9j\\u00e0 entendu parler de l'intelligence artificielle<br>une proportion qui avoisine m\\u00eame lorsqu'une d\\u00e9finition de l'intelligence artificielle<br>est propos\\u00e9e aux internautes audel\\u00e0 de ces chiffres renaissance num\\u00e9rique<br>estime que cette notori\\u00e9t\\u00e9 n'est pas repr\\u00e9sentative de la compr\\u00e9hension<br>qu'ont les fran\\u00e7ais de l'intelligence artificielle<br>\"],[\"des smartphones \\u00e0 tous les prix appels t\\u00e9l\\u00e9phoniques surf mailing<br>r\\u00e9seaux sociaux guidage gps a moins de vivre totalement coup\\u00e9<br>du monde il s'av\\u00e8re aujourd'hui difficile de se passer de<br>smartphone malheureusement ces bijoux de technologie co\\u00fbtent de plus en<br>plus cher et se d\\u00e9modent en seulement quelques mois ceux<br>qui ne souhaitent pas se ruiner pourront se tourner vers<br>le redmi a du chinois xiaomi compact avec son \\u00e9cran<br>de pouces il fait tourner les applications courantes sans broncher<br>si l'on ne s'extasiera pas sur sa r\\u00e9activit\\u00e9 le manque<br>de luminosit\\u00e9 de son \\u00e9cran ou la qualit\\u00e9 tr\\u00e8s moyenne<br>de ses photos et vid\\u00e9os on appr\\u00e9ciera son rapport qualit\\u00e9prix<br>imbattable \\u20ac avec go de m\\u00e9moire dans la cat\\u00e9gorie sup\\u00e9rieure<br>le honor x se distingue par une magnifique dalle sans<br>bords de<br>\"],[\"en bref le d\\u00e9put\\u00e9 claude de ganay a pr\\u00e9sent\\u00e9 son<br>rapport sur l'intelligence artificielle le d\\u00e9put\\u00e9 de la e circonscription<br>gienla fert\\u00e9 claude de ganay a pr\\u00e9sent\\u00e9 mercredi mars \\u00e0<br>paris son rapport sur l'intelligence artificielle r\\u00e9dig\\u00e9 avec sa coll\\u00e8gue<br>s\\u00e9natrice dominique gillot tous deux membres de l'office parlementaire d'\\u00e9valuation<br>des choix scientifiques et technologiques opecst ce rapport a requis<br>des centaines d'heures de travail de nombreuses auditions en france<br>et \\u00e0 l'\\u00e9tranger il a \\u00e9t\\u00e9 nourri des r\\u00e9flexions d'experts<br>de renomm\\u00e9e mondiale et dans l'optique d'\\u00eatre le plus exhaustif<br>possible indique claude de ganay nous y formulons propositions fortes<br>pour d\\u00e9mystifier les fantasmes qui existent \\u00e0 propos de l'intelligence<br>artificielle informer l'opinion publique d<br>\"],[\"les g\\u00e9ants chinois de l\\u2019intelligence artificielle sur la liste rouge<br>am\\u00e9ricaine \\u00e0 washington alors que les n\\u00e9gociations commerciales entre la<br>chine et les \\u00e9tatsunis reprennent \\u00e0 washington un nouveau sujet<br>de discorde appara\\u00eet le d\\u00e9partement du commerce a ajout\\u00e9 soci\\u00e9t\\u00e9s<br>chinoises sp\\u00e9cialis\\u00e9es dans l\\u2019intelligence artificielle et la reconnaissance faciale \\u00e0<br>la liste des entit\\u00e9s qui ne peuvent pas librement acheter<br>des composants aupr\\u00e8s de soci\\u00e9t\\u00e9s am\\u00e9ricaines le g\\u00e9ant chinois des<br>\\u00e9quipements t\\u00e9l\\u00e9phoniques huawei technologies figure d\\u00e9j\\u00e0 sur cette liste depuis<br>le mois de mai \\u00e0 ses c\\u00f4t\\u00e9s se trouvent d\\u00e9sormais<br>aussi entre autres hikvision digital technology megvii technology et sensetime<br>group les autorit\\u00e9s am\\u00e9ricaines justifient leur d\\u00e9cision en citant l\\u2019implication<br>de ces firmes dans la surveillance la r\\u00e9pression et la<br>d\\u00e9tention arbitraire de milli<br>\"],[\"le gouvernement mise sur l'intelligence artificielle le gouvernement annonce mercredi<br>novembre sa strat\\u00e9gie nationale de recherche en intelligence artificielle qui<br>pr\\u00e9voit au total millions d'euros de d\\u00e9penses jusqu'en pour le<br>budget de l'\\u00e9tat dr la ministre de l'enseignement sup\\u00e9rieur et<br>de la recherche fr\\u00e9d\\u00e9rique vidal et le secr\\u00e9taire d'etat au<br>num\\u00e9rique mounir mahjoubi pr\\u00e9senteront \\u00e0 toulouse ce mercredi novembre les<br>grandes orientations du plan qui reprennent des propositions du rapport<br>pr\\u00e9sent\\u00e9 au printemps dernier par le d\\u00e9put\\u00e9 et math\\u00e9maticien c\\u00e9dric<br>villani selon les grandes lignes du plan pr\\u00e9sent\\u00e9 par le<br>gouvernement l'etat va notamment consacrer millions d'euros aux ia des<br>centres interdisciplinaires appel\\u00e9s \\u00e0 devenir les vaisseaux amiraux de la<br>recherche fran\\u00e7aise en intelligence artificielle q<br>\"],[\"gr\\u00e2ce \\u00e0 l'intelligence artificielle picterra simplifie l'analyse d'images satellite interpr\\u00e9ter<br>des images satellite ou des clich\\u00e9s captur\\u00e9s par drone implique<br>un travail d'analyse complexe et laborieux en mettant l'intelligence artificielle<br>au service de l'imagerie a\\u00e9rienne et spatiale la startup suisse<br>picterra souhaite rendre cette analyse simple et rapide pour examiner<br>une situation rien de tel que de prendre un peu<br>de hauteur les images a\\u00e9riennes en sont certainement les preuves<br>les plus \\u00e9loquentes du moins lorsqu'elles ont b\\u00e9n\\u00e9fici\\u00e9 d'un fastidieux<br>travail d'analyse une t\\u00e2che rendue plus rapide plus fiable et<br>surtout bien plus simple par la plateforme intelligente picterra pr\\u00e9sent\\u00e9<br>il y a quelques jours \\u00e0 berne dans le cadre<br>du geosummit le salon suisse de la g\\u00e9oinformation cet outil<br>se destine aussi bien aux particuliers qu'aux professionnels n<br>\"],[\"l'automatisation intelligente un r\\u00f4le essentiel contre le covid et pour<br>s\\u00e9curiser la continuit\\u00e9 des activit\\u00e9s compte tenu des progr\\u00e8s survenus<br>au cours des derni\\u00e8res ann\\u00e9es je suis convaincu que l'intelligence<br>artificielle et l'automatisation sont cl\\u00e9s pour faire face \\u00e0 la<br>pand\\u00e9mie de coronavirus tout ou presque a d\\u00e9j\\u00e0 \\u00e9t\\u00e9 dit<br>sur l'impact sans pr\\u00e9c\\u00e9dent engendr\\u00e9 par la crise de le<br>covid en l'espace de quelques semaines le coronavirus est entr\\u00e9<br>dans le langage courant a l'heure o\\u00f9 j'\\u00e9cris ces lignes<br>pays ont \\u00e9t\\u00e9 touch\\u00e9s et plus de personnes ont \\u00e9t\\u00e9<br>infect\\u00e9es poussant de nombreux pays \\u00e0 confiner leurs citoyens la<br>crise a pouss\\u00e9 les \\u00e9conomies nationales et les entreprises \\u00e0<br>remettre en question leur mode de fonctionnement la pand\\u00e9mie va<br>\\u00e0 coup s\\u00fbr s'inscrire dans l'histoire comme l'un des d\\u00e9fis<br>majeurs auxquels l'humanit\\u00e9 a d\\u00fb faire face si nous essayons<br>toujours de so<br>\"],[\"oneplus investit dans un nouveau centre de rd en inde<br>oneplus la marque de smartphones haut de gamme er en<br>inde a annonc\\u00e9 aujourd'hui ses projets d'installation d'un centre de<br>recherche et d\\u00e9veloppement dans la ville de hyderabad la soci\\u00e9t\\u00e9<br>investirait pr\\u00e8s de millions de dollars au cours des trois<br>prochaines ann\\u00e9es les installations joueront non seulement un r\\u00f4le essentiel<br>dans le d\\u00e9veloppement de l'intelligence artificielle et du machine learning<br>mais elles conduiront \\u00e9galement \\u00e0 des innovations utiles et pertinentes<br>pour les utilisateurs la ville est \\u00e9galement l'une des zones<br>les plus actives du pays pour les startups en particulier<br>dans le domaine des technologies \\u00e9mergentes la ville d'hyderabad est<br>l'un des plus grands hubs informatiques du pays et offre<br>ainsi un panel consid\\u00e9rable de talents un atout majeur pour<br>on<br>\"],[\"les fonds britanniques veulent plus de clart\\u00e9 sur les salaires<br>des dirigeants les g\\u00e9rants britanniques relancent le d\\u00e9bat sur la<br>r\\u00e9mun\\u00e9ration des dirigeants des grandes entreprises the investment association ia<br>qui repr\\u00e9sente des fonds d'investissement totalisant milliards de livres milliards<br>d'euros d'actifs sous gestion a publi\\u00e9 lundi une lettre ouverte<br>\\u00e0 l'intention des pr\\u00e9sidents des comit\\u00e9s de r\\u00e9mun\\u00e9ration des plus<br>importantes entreprises cot\\u00e9es \\u00e0 londres afin d'inciter ces derni\\u00e8res \\u00e0<br>adopter des principes de r\\u00e9mun\\u00e9ration plus transparents et plus flexibles<br>alors que la premi\\u00e8re ministre theresa may a promis de<br>s'attaquer \\u00e0 la r\\u00e9mun\\u00e9ration jug\\u00e9e excessive de grands patrons comme<br>ceux de bp ou wpp l'ia pousse les grandes entreprises<br>\\u00e0 publier le ratio mesurant l'\\u00e9cart entre le salaire de<br>leur directeur g\\u00e9n\\u00e9ral dg et le salaire m\\u00e9di<br>\"],[\"les donn\\u00e9es changent le monde le logiciel mange le monde<br>\\u00e9crivait il y a cinq ans le cofondateur de netscape<br>marc andreessen dans une tribune du wall street journal les<br>donn\\u00e9es pilotent le monde lui r\\u00e9pond aujourd'hui mckinsey cinq ans<br>apr\\u00e8s sa premi\\u00e8re grande \\u00e9tude sur le big data le<br>cabinet am\\u00e9ricain publie une copieuse mise \\u00e0 jour aujourd'hui notent<br>ses auteurs les donn\\u00e9es sont devenues un actif critique des<br>entreprises si la plupart en ont pris conscience elles peinent<br>encore \\u00e0 int\\u00e9grer correctement les outils d'analyse de donn\\u00e9es dans<br>leurs activit\\u00e9s quotidiennes d'abord parce qu'elles n'ont pas adapt\\u00e9 leurs<br>organisations encore trop verticales ensuite parce qu'elles ne savent pas<br>attirer et retenir les bons talents qu'ils s'agisse de data<br>scientists ou de ce que l'\\u00e9tude appelle d<br>\"],[\"les principaux axes op\\u00e9rationnels de l'it requis pour tirer parti<br>de l'edge les entreprises tous secteurs d'activit\\u00e9 confondus sont actuellement<br>confront\\u00e9es \\u00e0 un changement d'une ampleur sans pr\\u00e9c\\u00e9dent \\u00e0 l'heure<br>de franchir le cap de la transformation num\\u00e9rique de leurs<br>op\\u00e9rations cette \\u00e9volution implique la mise en oeuvre d'appareils connect\\u00e9s<br>de technologies intelligentes et d'un r\\u00e9seau toujours plus \\u00e9tendu en<br>vue de renforcer son avantage concurrentiel l'edge computing d\\u00e9signe les<br>produits qui facilitent le traitement des donn\\u00e9es \\u00e0 la source<br>ou \\u00e0 proximit\\u00e9 de la source premi\\u00e8re des donn\\u00e9es offrant<br>ainsi des r\\u00e9sultats bien plus rapides que les architectures traditionnelles<br>\\u00e0 la p\\u00e9riph\\u00e9rie les entreprises peuvent d\\u00e9ployer des technologies des<br>mobiles utilis\\u00e9s par les clients pour se connecter aux services<br>jusqu'aux capteurs d'activit\\u00e9 sans oublier l'<br>\"]],\"hovertemplate\":\"clusters=0<br>dim_1=%{x}<br>dim_2=%{y}<br>title_lead=%{customdata[0]}<extra></extra>\",\"legendgroup\":\"0\",\"marker\":{\"color\":\"#00cc96\",\"symbol\":\"circle\"},\"mode\":\"markers\",\"name\":\"0\",\"orientation\":\"v\",\"showlegend\":true,\"x\":[3.1118276119232178,3.214108943939209,3.517373561859131,4.250948429107666,2.7792978286743164,3.757962942123413,2.870384454727173,3.3722167015075684,4.184145450592041,3.7874197959899902,3.9568166732788086,3.604666233062744,3.656722068786621,3.5126707553863525],\"xaxis\":\"x\",\"y\":[-6.760003566741943,-6.331995487213135,-5.141848564147949,-6.671322345733643,-6.797359466552734,-5.684817314147949,-6.023997783660889,-5.309222221374512,-6.510237216949463,-6.7297139167785645,-7.084653854370117,-6.302058696746826,-6.5966010093688965,-7.047764301300049],\"yaxis\":\"y\",\"type\":\"scatter\"}],                        {\"template\":{\"data\":{\"bar\":[{\"error_x\":{\"color\":\"#2a3f5f\"},\"error_y\":{\"color\":\"#2a3f5f\"},\"marker\":{\"line\":{\"color\":\"#E5ECF6\",\"width\":0.5},\"pattern\":{\"fillmode\":\"overlay\",\"size\":10,\"solidity\":0.2}},\"type\":\"bar\"}],\"barpolar\":[{\"marker\":{\"line\":{\"color\":\"#E5ECF6\",\"width\":0.5},\"pattern\":{\"fillmode\":\"overlay\",\"size\":10,\"solidity\":0.2}},\"type\":\"barpolar\"}],\"carpet\":[{\"aaxis\":{\"endlinecolor\":\"#2a3f5f\",\"gridcolor\":\"white\",\"linecolor\":\"white\",\"minorgridcolor\":\"white\",\"startlinecolor\":\"#2a3f5f\"},\"baxis\":{\"endlinecolor\":\"#2a3f5f\",\"gridcolor\":\"white\",\"linecolor\":\"white\",\"minorgridcolor\":\"white\",\"startlinecolor\":\"#2a3f5f\"},\"type\":\"carpet\"}],\"choropleth\":[{\"colorbar\":{\"outlinewidth\":0,\"ticks\":\"\"},\"type\":\"choropleth\"}],\"contour\":[{\"colorbar\":{\"outlinewidth\":0,\"ticks\":\"\"},\"colorscale\":[[0.0,\"#0d0887\"],[0.1111111111111111,\"#46039f\"],[0.2222222222222222,\"#7201a8\"],[0.3333333333333333,\"#9c179e\"],[0.4444444444444444,\"#bd3786\"],[0.5555555555555556,\"#d8576b\"],[0.6666666666666666,\"#ed7953\"],[0.7777777777777778,\"#fb9f3a\"],[0.8888888888888888,\"#fdca26\"],[1.0,\"#f0f921\"]],\"type\":\"contour\"}],\"contourcarpet\":[{\"colorbar\":{\"outlinewidth\":0,\"ticks\":\"\"},\"type\":\"contourcarpet\"}],\"heatmap\":[{\"colorbar\":{\"outlinewidth\":0,\"ticks\":\"\"},\"colorscale\":[[0.0,\"#0d0887\"],[0.1111111111111111,\"#46039f\"],[0.2222222222222222,\"#7201a8\"],[0.3333333333333333,\"#9c179e\"],[0.4444444444444444,\"#bd3786\"],[0.5555555555555556,\"#d8576b\"],[0.6666666666666666,\"#ed7953\"],[0.7777777777777778,\"#fb9f3a\"],[0.8888888888888888,\"#fdca26\"],[1.0,\"#f0f921\"]],\"type\":\"heatmap\"}],\"heatmapgl\":[{\"colorbar\":{\"outlinewidth\":0,\"ticks\":\"\"},\"colorscale\":[[0.0,\"#0d0887\"],[0.1111111111111111,\"#46039f\"],[0.2222222222222222,\"#7201a8\"],[0.3333333333333333,\"#9c179e\"],[0.4444444444444444,\"#bd3786\"],[0.5555555555555556,\"#d8576b\"],[0.6666666666666666,\"#ed7953\"],[0.7777777777777778,\"#fb9f3a\"],[0.8888888888888888,\"#fdca26\"],[1.0,\"#f0f921\"]],\"type\":\"heatmapgl\"}],\"histogram\":[{\"marker\":{\"pattern\":{\"fillmode\":\"overlay\",\"size\":10,\"solidity\":0.2}},\"type\":\"histogram\"}],\"histogram2d\":[{\"colorbar\":{\"outlinewidth\":0,\"ticks\":\"\"},\"colorscale\":[[0.0,\"#0d0887\"],[0.1111111111111111,\"#46039f\"],[0.2222222222222222,\"#7201a8\"],[0.3333333333333333,\"#9c179e\"],[0.4444444444444444,\"#bd3786\"],[0.5555555555555556,\"#d8576b\"],[0.6666666666666666,\"#ed7953\"],[0.7777777777777778,\"#fb9f3a\"],[0.8888888888888888,\"#fdca26\"],[1.0,\"#f0f921\"]],\"type\":\"histogram2d\"}],\"histogram2dcontour\":[{\"colorbar\":{\"outlinewidth\":0,\"ticks\":\"\"},\"colorscale\":[[0.0,\"#0d0887\"],[0.1111111111111111,\"#46039f\"],[0.2222222222222222,\"#7201a8\"],[0.3333333333333333,\"#9c179e\"],[0.4444444444444444,\"#bd3786\"],[0.5555555555555556,\"#d8576b\"],[0.6666666666666666,\"#ed7953\"],[0.7777777777777778,\"#fb9f3a\"],[0.8888888888888888,\"#fdca26\"],[1.0,\"#f0f921\"]],\"type\":\"histogram2dcontour\"}],\"mesh3d\":[{\"colorbar\":{\"outlinewidth\":0,\"ticks\":\"\"},\"type\":\"mesh3d\"}],\"parcoords\":[{\"line\":{\"colorbar\":{\"outlinewidth\":0,\"ticks\":\"\"}},\"type\":\"parcoords\"}],\"pie\":[{\"automargin\":true,\"type\":\"pie\"}],\"scatter\":[{\"marker\":{\"colorbar\":{\"outlinewidth\":0,\"ticks\":\"\"}},\"type\":\"scatter\"}],\"scatter3d\":[{\"line\":{\"colorbar\":{\"outlinewidth\":0,\"ticks\":\"\"}},\"marker\":{\"colorbar\":{\"outlinewidth\":0,\"ticks\":\"\"}},\"type\":\"scatter3d\"}],\"scattercarpet\":[{\"marker\":{\"colorbar\":{\"outlinewidth\":0,\"ticks\":\"\"}},\"type\":\"scattercarpet\"}],\"scattergeo\":[{\"marker\":{\"colorbar\":{\"outlinewidth\":0,\"ticks\":\"\"}},\"type\":\"scattergeo\"}],\"scattergl\":[{\"marker\":{\"colorbar\":{\"outlinewidth\":0,\"ticks\":\"\"}},\"type\":\"scattergl\"}],\"scattermapbox\":[{\"marker\":{\"colorbar\":{\"outlinewidth\":0,\"ticks\":\"\"}},\"type\":\"scattermapbox\"}],\"scatterpolar\":[{\"marker\":{\"colorbar\":{\"outlinewidth\":0,\"ticks\":\"\"}},\"type\":\"scatterpolar\"}],\"scatterpolargl\":[{\"marker\":{\"colorbar\":{\"outlinewidth\":0,\"ticks\":\"\"}},\"type\":\"scatterpolargl\"}],\"scatterternary\":[{\"marker\":{\"colorbar\":{\"outlinewidth\":0,\"ticks\":\"\"}},\"type\":\"scatterternary\"}],\"surface\":[{\"colorbar\":{\"outlinewidth\":0,\"ticks\":\"\"},\"colorscale\":[[0.0,\"#0d0887\"],[0.1111111111111111,\"#46039f\"],[0.2222222222222222,\"#7201a8\"],[0.3333333333333333,\"#9c179e\"],[0.4444444444444444,\"#bd3786\"],[0.5555555555555556,\"#d8576b\"],[0.6666666666666666,\"#ed7953\"],[0.7777777777777778,\"#fb9f3a\"],[0.8888888888888888,\"#fdca26\"],[1.0,\"#f0f921\"]],\"type\":\"surface\"}],\"table\":[{\"cells\":{\"fill\":{\"color\":\"#EBF0F8\"},\"line\":{\"color\":\"white\"}},\"header\":{\"fill\":{\"color\":\"#C8D4E3\"},\"line\":{\"color\":\"white\"}},\"type\":\"table\"}]},\"layout\":{\"annotationdefaults\":{\"arrowcolor\":\"#2a3f5f\",\"arrowhead\":0,\"arrowwidth\":1},\"autotypenumbers\":\"strict\",\"coloraxis\":{\"colorbar\":{\"outlinewidth\":0,\"ticks\":\"\"}},\"colorscale\":{\"diverging\":[[0,\"#8e0152\"],[0.1,\"#c51b7d\"],[0.2,\"#de77ae\"],[0.3,\"#f1b6da\"],[0.4,\"#fde0ef\"],[0.5,\"#f7f7f7\"],[0.6,\"#e6f5d0\"],[0.7,\"#b8e186\"],[0.8,\"#7fbc41\"],[0.9,\"#4d9221\"],[1,\"#276419\"]],\"sequential\":[[0.0,\"#0d0887\"],[0.1111111111111111,\"#46039f\"],[0.2222222222222222,\"#7201a8\"],[0.3333333333333333,\"#9c179e\"],[0.4444444444444444,\"#bd3786\"],[0.5555555555555556,\"#d8576b\"],[0.6666666666666666,\"#ed7953\"],[0.7777777777777778,\"#fb9f3a\"],[0.8888888888888888,\"#fdca26\"],[1.0,\"#f0f921\"]],\"sequentialminus\":[[0.0,\"#0d0887\"],[0.1111111111111111,\"#46039f\"],[0.2222222222222222,\"#7201a8\"],[0.3333333333333333,\"#9c179e\"],[0.4444444444444444,\"#bd3786\"],[0.5555555555555556,\"#d8576b\"],[0.6666666666666666,\"#ed7953\"],[0.7777777777777778,\"#fb9f3a\"],[0.8888888888888888,\"#fdca26\"],[1.0,\"#f0f921\"]]},\"colorway\":[\"#636efa\",\"#EF553B\",\"#00cc96\",\"#ab63fa\",\"#FFA15A\",\"#19d3f3\",\"#FF6692\",\"#B6E880\",\"#FF97FF\",\"#FECB52\"],\"font\":{\"color\":\"#2a3f5f\"},\"geo\":{\"bgcolor\":\"white\",\"lakecolor\":\"white\",\"landcolor\":\"#E5ECF6\",\"showlakes\":true,\"showland\":true,\"subunitcolor\":\"white\"},\"hoverlabel\":{\"align\":\"left\"},\"hovermode\":\"closest\",\"mapbox\":{\"style\":\"light\"},\"paper_bgcolor\":\"white\",\"plot_bgcolor\":\"#E5ECF6\",\"polar\":{\"angularaxis\":{\"gridcolor\":\"white\",\"linecolor\":\"white\",\"ticks\":\"\"},\"bgcolor\":\"#E5ECF6\",\"radialaxis\":{\"gridcolor\":\"white\",\"linecolor\":\"white\",\"ticks\":\"\"}},\"scene\":{\"xaxis\":{\"backgroundcolor\":\"#E5ECF6\",\"gridcolor\":\"white\",\"gridwidth\":2,\"linecolor\":\"white\",\"showbackground\":true,\"ticks\":\"\",\"zerolinecolor\":\"white\"},\"yaxis\":{\"backgroundcolor\":\"#E5ECF6\",\"gridcolor\":\"white\",\"gridwidth\":2,\"linecolor\":\"white\",\"showbackground\":true,\"ticks\":\"\",\"zerolinecolor\":\"white\"},\"zaxis\":{\"backgroundcolor\":\"#E5ECF6\",\"gridcolor\":\"white\",\"gridwidth\":2,\"linecolor\":\"white\",\"showbackground\":true,\"ticks\":\"\",\"zerolinecolor\":\"white\"}},\"shapedefaults\":{\"line\":{\"color\":\"#2a3f5f\"}},\"ternary\":{\"aaxis\":{\"gridcolor\":\"white\",\"linecolor\":\"white\",\"ticks\":\"\"},\"baxis\":{\"gridcolor\":\"white\",\"linecolor\":\"white\",\"ticks\":\"\"},\"bgcolor\":\"#E5ECF6\",\"caxis\":{\"gridcolor\":\"white\",\"linecolor\":\"white\",\"ticks\":\"\"}},\"title\":{\"x\":0.05},\"xaxis\":{\"automargin\":true,\"gridcolor\":\"white\",\"linecolor\":\"white\",\"ticks\":\"\",\"title\":{\"standoff\":15},\"zerolinecolor\":\"white\",\"zerolinewidth\":2},\"yaxis\":{\"automargin\":true,\"gridcolor\":\"white\",\"linecolor\":\"white\",\"ticks\":\"\",\"title\":{\"standoff\":15},\"zerolinecolor\":\"white\",\"zerolinewidth\":2}}},\"xaxis\":{\"anchor\":\"y\",\"domain\":[0.0,1.0],\"title\":{\"text\":\"dim_1\"}},\"yaxis\":{\"anchor\":\"x\",\"domain\":[0.0,1.0],\"title\":{\"text\":\"dim_2\"}},\"legend\":{\"title\":{\"text\":\"clusters\"},\"tracegroupgap\":0},\"margin\":{\"t\":60},\"height\":1000,\"width\":1000},                        {\"responsive\": true}                    ).then(function(){\n",
       "                            \n",
       "var gd = document.getElementById('aaabee5f-513d-420d-8bf6-df24b5daabf6');\n",
       "var x = new MutationObserver(function (mutations, observer) {{\n",
       "        var display = window.getComputedStyle(gd).display;\n",
       "        if (!display || display === 'none') {{\n",
       "            console.log([gd, 'removed!']);\n",
       "            Plotly.purge(gd);\n",
       "            observer.disconnect();\n",
       "        }}\n",
       "}});\n",
       "\n",
       "// Listen for the removal of the full notebook cells\n",
       "var notebookContainer = gd.closest('#notebook-container');\n",
       "if (notebookContainer) {{\n",
       "    x.observe(notebookContainer, {childList: true});\n",
       "}}\n",
       "\n",
       "// Listen for the clearing of the current output cell\n",
       "var outputEl = gd.closest('.output');\n",
       "if (outputEl) {{\n",
       "    x.observe(outputEl, {childList: true});\n",
       "}}\n",
       "\n",
       "                        })                };                });            </script>        </div>"
      ]
     },
     "metadata": {},
     "output_type": "display_data"
    }
   ],
   "source": [
    "fig.show()"
   ]
  },
  {
   "cell_type": "code",
   "execution_count": null,
   "id": "4d7a5bf4-2a17-451f-95e8-d0ed78e6494a",
   "metadata": {},
   "outputs": [],
   "source": []
  }
 ],
 "metadata": {
  "kernelspec": {
   "display_name": "Python 3 (ipykernel)",
   "language": "python",
   "name": "python3"
  },
  "language_info": {
   "codemirror_mode": {
    "name": "ipython",
    "version": 3
   },
   "file_extension": ".py",
   "mimetype": "text/x-python",
   "name": "python",
   "nbconvert_exporter": "python",
   "pygments_lexer": "ipython3",
   "version": "3.8.2"
  }
 },
 "nbformat": 4,
 "nbformat_minor": 5
}
