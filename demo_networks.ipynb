{
 "cells": [
  {
   "cell_type": "code",
   "execution_count": 10,
   "id": "5391d4a9-9adb-46e9-9b48-677296216ac1",
   "metadata": {},
   "outputs": [],
   "source": [
    "from bunkatech.networks.networks_class import SemanticNetworks\n",
    "import pandas as pd"
   ]
  },
  {
   "cell_type": "code",
   "execution_count": 2,
   "id": "f9c8c629-f4bd-4b0b-a159-2738b8606ac4",
   "metadata": {},
   "outputs": [],
   "source": [
    "data = pd.read_csv(\n",
    "    \"/Users/charlesdedampierre/Desktop/ENS Projects/imaginary-world/db_film_iw (2).csv\",\n",
    "    index_col=[0],\n",
    ")\n",
    "\n",
    "\n",
    "data = data.sample(500)\n",
    "\n",
    "data = data[['imdb', 'description', 'genre', 'country']].copy().dropna()\n",
    "data['genre'] = data['genre'].apply(lambda x: x.split(', '))\n",
    "data['country'] = data['country'].apply(lambda x: x.split(', '))\n",
    "data = data.explode('genre')\n",
    "data = data.explode('country')\n"
   ]
  },
  {
   "cell_type": "code",
   "execution_count": 3,
   "id": "d94ebe6f-6c8a-4606-bfd8-6b2471b5b9e3",
   "metadata": {},
   "outputs": [
    {
     "name": "stderr",
     "output_type": "stream",
     "text": [
      "Extract Terms: 100%|███████████████████████████████████████████████████| 498/498 [00:05<00:00, 87.00it/s]\n"
     ]
    }
   ],
   "source": [
    "net = SemanticNetworks(data = data,\n",
    "                        text_var = 'description',\n",
    "                        index_var = 'imdb',\n",
    "                        extract_terms=True,\n",
    "                        terms_embedding=False,\n",
    "                        docs_embedding=False,\n",
    "                        sample_size_terms=500,\n",
    "                        terms_limit=500,\n",
    "                        terms_ents=True,\n",
    "                        terms_ngrams=(1, 2),\n",
    "                        terms_ncs=True,\n",
    "                        terms_include_pos=[\"NOUN\", \"PROPN\", \"ADJ\"],\n",
    "                        terms_include_types=[\"PERSON\", \"ORG\"],\n",
    "                        terms_embedding_model=\"distiluse-base-multilingual-cased-v1\",\n",
    "                        docs_embedding_model=\"tfidf\",\n",
    "                        language=\"en\",\n",
    "                        terms_path=None,\n",
    "                        terms_embeddings_path=None,\n",
    "                        docs_embeddings_path=None)"
   ]
  },
  {
   "cell_type": "code",
   "execution_count": 4,
   "id": "a35cc340-fdba-41ce-a621-3469bfed2d2d",
   "metadata": {},
   "outputs": [
    {
     "data": {
      "application/vnd.jupyter.widget-view+json": {
       "model_id": "af6487810be64325a3760e2ccea659e1",
       "version_major": 2,
       "version_minor": 0
      },
      "text/plain": [
       "Computing transition probabilities:   0%|          | 0/499 [00:00<?, ?it/s]"
      ]
     },
     "metadata": {},
     "output_type": "display_data"
    },
    {
     "name": "stderr",
     "output_type": "stream",
     "text": [
      "Generating walks (CPU: 8): 100%|██████████| 1/1 [00:00<00:00,  5.41it/s]"
     ]
    },
    {
     "data": {
      "application/vnd.jupyter.widget-view+json": {
       "model_id": "4ecde7a502a942acba0c129abd3d6c65",
       "version_major": 2,
       "version_minor": 0
      },
      "text/plain": [
       "Computing transition probabilities:   0%|          | 0/514 [00:00<?, ?it/s]"
      ]
     },
     "metadata": {},
     "output_type": "display_data"
    },
    {
     "name": "stderr",
     "output_type": "stream",
     "text": [
      "\n",
      "Generating walks (CPU: 1):   0%|          | 0/2 [00:00<?, ?it/s]\n",
      "Generating walks (CPU: 1): 100%|██████████| 2/2 [00:00<00:00,  7.66it/s]\n",
      "Generating walks (CPU: 2): 100%|██████████| 2/2 [00:00<00:00,  7.09it/s]\n",
      "Generating walks (CPU: 3): 100%|██████████| 1/1 [00:00<00:00,  3.28it/s]\n",
      "Generating walks (CPU: 4): 100%|██████████| 1/1 [00:00<00:00,  3.16it/s]\n",
      "Generating walks (CPU: 5): 100%|██████████| 1/1 [00:00<00:00,  3.76it/s]\n",
      "Generating walks (CPU: 6): 100%|██████████| 1/1 [00:00<00:00,  3.69it/s]\n",
      "Generating walks (CPU: 8): 100%|██████████| 1/1 [00:00<00:00,  4.21it/s]"
     ]
    }
   ],
   "source": [
    "fig = net.fit_draw(top_n=500,\n",
    "                    variables = ['main form'], \n",
    "                    global_filter=0.2,\n",
    "                    n_neighbours=8,\n",
    "                    method=\"node2vec\",\n",
    "                    n_cluster=15,\n",
    "                    bin_number=30,\n",
    "                    black_hole_force=5,\n",
    "                    color=\"community\",\n",
    "                    size=\"size\",\n",
    "                    symbol=\"entity\",\n",
    "                    textfont_size=9,\n",
    "                    edge_size=0.5,\n",
    "                    height=2000,\n",
    "                    width=2000,\n",
    "                    template=\"plotly_dark\")"
   ]
  },
  {
   "cell_type": "code",
   "execution_count": null,
   "id": "94d3b5f0-35a1-4bff-b6e2-e4489a2ac261",
   "metadata": {},
   "outputs": [
    {
     "name": "stderr",
     "output_type": "stream",
     "text": [
      "\n",
      "\n",
      "\n",
      "\n",
      "\n",
      "\n",
      "\n",
      "\n"
     ]
    }
   ],
   "source": [
    "import plotly \n",
    "\n",
    "plotly.offline.plot(fig, filename = 'filename.html', auto_open=True)"
   ]
  },
  {
   "cell_type": "code",
   "execution_count": null,
   "id": "a359fdf8-762a-4c35-85a7-2c29970de07b",
   "metadata": {},
   "outputs": [],
   "source": []
  }
 ],
 "metadata": {
  "kernelspec": {
   "display_name": "Python 3 (ipykernel)",
   "language": "python",
   "name": "python3"
  },
  "language_info": {
   "codemirror_mode": {
    "name": "ipython",
    "version": 3
   },
   "file_extension": ".py",
   "mimetype": "text/x-python",
   "name": "python",
   "nbconvert_exporter": "python",
   "pygments_lexer": "ipython3",
   "version": "3.8.2"
  }
 },
 "nbformat": 4,
 "nbformat_minor": 5
}
