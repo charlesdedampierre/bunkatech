{
 "cells": [
  {
   "cell_type": "code",
   "execution_count": 1,
   "id": "a0e43bb4-4116-40e5-8785-550dfa22ca59",
   "metadata": {},
   "outputs": [],
   "source": [
    "from bunkatech.networks.network_class import SemanticNetwork\n",
    "import pandas as pd\n",
    "import networkx as nx\n",
    "\n",
    "data = pd.read_csv(\n",
    "    \"/Users/charlesdedampierre/Desktop/ENS Projects/imaginary-world/db_film_iw (2).csv\",\n",
    "    index_col=[0],\n",
    ")\n",
    "\n",
    "data = data[['imdb', 'genre', 'country']].copy().dropna()\n",
    "data['genre'] = data['genre'].apply(lambda x: x.split(', '))\n",
    "data['country'] = data['country'].apply(lambda x: x.split(', '))\n",
    "data = data.explode('genre')\n",
    "data = data.explode('country')\n"
   ]
  },
  {
   "cell_type": "code",
   "execution_count": 7,
   "id": "ace01dd3-2754-40c8-a7a3-fe5c31321dc5",
   "metadata": {},
   "outputs": [],
   "source": [
    "net = SemanticNetwork(data, variables = ['country'], key = 'imdb')"
   ]
  },
  {
   "cell_type": "code",
   "execution_count": 16,
   "id": "04539d6c-fab0-4286-94c9-fc707137c031",
   "metadata": {},
   "outputs": [
    {
     "data": {
      "application/vnd.jupyter.widget-view+json": {
       "model_id": "68b9ed5c0bfa42ffb860751d26f48113",
       "version_major": 2,
       "version_minor": 0
      },
      "text/plain": [
       "Computing transition probabilities:   0%|          | 0/21 [00:00<?, ?it/s]"
      ]
     },
     "metadata": {},
     "output_type": "display_data"
    },
    {
     "name": "stderr",
     "output_type": "stream",
     "text": [
      "\n",
      "Generating walks (CPU: 1):   0%|          | 0/2 [00:00<?, ?it/s]\n",
      "Generating walks (CPU: 1): 100%|██████████| 2/2 [00:00<00:00, 138.99it/s]\n",
      "Generating walks (CPU: 3):   0%|          | 0/1 [00:00<?, ?it/s]\n",
      "Generating walks (CPU: 3): 100%|██████████| 1/1 [00:00<00:00, 119.89it/s]\n",
      "Generating walks (CPU: 2): 100%|██████████| 2/2 [00:00<00:00, 139.98it/s]\n",
      "Generating walks (CPU: 4): 100%|██████████| 1/1 [00:00<00:00, 124.01it/s]\n",
      "Generating walks (CPU: 6): 100%|██████████| 1/1 [00:00<00:00, 137.59it/s]\n",
      "Generating walks (CPU: 8): 100%|██████████| 1/1 [00:00<00:00, 149.76it/s]"
     ]
    },
    {
     "data": {
      "application/vnd.jupyter.widget-view+json": {
       "model_id": "6bb1e2152397464192f9c531148adcdd",
       "version_major": 2,
       "version_minor": 0
      },
      "text/plain": [
       "Computing transition probabilities:   0%|          | 0/23 [00:00<?, ?it/s]"
      ]
     },
     "metadata": {},
     "output_type": "display_data"
    },
    {
     "name": "stderr",
     "output_type": "stream",
     "text": [
      "\n",
      "Generating walks (CPU: 1):   0%|          | 0/2 [00:00<?, ?it/s]\n",
      "Generating walks (CPU: 2):   0%|          | 0/2 [00:00<?, ?it/s]\n",
      "Generating walks (CPU: 1): 100%|██████████| 2/2 [00:00<00:00, 105.84it/s]\n",
      "Generating walks (CPU: 4):   0%|          | 0/1 [00:00<?, ?it/s]\n",
      "Generating walks (CPU: 5):   0%|          | 0/1 [00:00<?, ?it/s]\n",
      "Generating walks (CPU: 5): 100%|██████████| 1/1 [00:00<00:00, 69.80it/s]\n",
      "Generating walks (CPU: 6): 100%|██████████| 1/1 [00:00<00:00, 99.04it/s]\n",
      "Generating walks (CPU: 8): 100%|██████████| 1/1 [00:00<00:00, 108.85it/s]"
     ]
    }
   ],
   "source": [
    "fig = net.pipeline(top_n=100,\n",
    "                    global_filter=0.1,\n",
    "                    n_neighbours=10,\n",
    "                    method=\"node2vec\",\n",
    "                    n_cluster=5,\n",
    "                    bin_number=30,\n",
    "                    black_hole_force=3,\n",
    "                    color=\"community\",\n",
    "                    size=\"size\",\n",
    "                    symbol=\"entity\",\n",
    "                    textfont_size=9,\n",
    "                    edge_size=1,\n",
    "                    height=1000,\n",
    "                    width=1000,\n",
    "                    template=\"plotly_dark\")"
   ]
  },
  {
   "cell_type": "code",
   "execution_count": 17,
   "id": "a9ed561f-8f2b-40c1-9918-7ba120e7bb34",
   "metadata": {},
   "outputs": [
    {
     "data": {
      "application/vnd.plotly.v1+json": {
       "config": {
        "plotlyServerURL": "https://plot.ly"
       },
       "data": [
        {
         "line": {
          "color": "cornflowerblue",
          "width": 0.2973382523913178
         },
         "mode": "lines",
         "type": "scatter",
         "x": [
          50.051021575927734,
          -49.21186828613281,
          null
         ],
         "y": [
          5.55490255355835,
          -38.231990814208984,
          null
         ]
        },
        {
         "line": {
          "color": "cornflowerblue",
          "width": 0.3892435782973393
         },
         "mode": "lines",
         "type": "scatter",
         "x": [
          50.051021575927734,
          16.882583618164062,
          null
         ],
         "y": [
          5.55490255355835,
          18.680267333984375,
          null
         ]
        },
        {
         "line": {
          "color": "cornflowerblue",
          "width": 0.46596042113412606
         },
         "mode": "lines",
         "type": "scatter",
         "x": [
          50.051021575927734,
          50.02238082885742,
          null
         ],
         "y": [
          5.55490255355835,
          33.702144622802734,
          null
         ]
        },
        {
         "line": {
          "color": "cornflowerblue",
          "width": 0.5839268312414753
         },
         "mode": "lines",
         "type": "scatter",
         "x": [
          50.051021575927734,
          -69.95880126953125,
          null
         ],
         "y": [
          5.55490255355835,
          56.17936706542969,
          null
         ]
        },
        {
         "line": {
          "color": "cornflowerblue",
          "width": 0.24678346390917377
         },
         "mode": "lines",
         "type": "scatter",
         "x": [
          50.051021575927734,
          135.98934936523438,
          null
         ],
         "y": [
          5.55490255355835,
          16.62999725341797,
          null
         ]
        },
        {
         "line": {
          "color": "cornflowerblue",
          "width": 0.33652161865531166
         },
         "mode": "lines",
         "type": "scatter",
         "x": [
          50.051021575927734,
          -23.71996307373047,
          null
         ],
         "y": [
          5.55490255355835,
          32.529659271240234,
          null
         ]
        },
        {
         "line": {
          "color": "cornflowerblue",
          "width": 0.24032774877801186
         },
         "mode": "lines",
         "type": "scatter",
         "x": [
          50.051021575927734,
          5.037303447723389,
          null
         ],
         "y": [
          5.55490255355835,
          -4.934942245483398,
          null
         ]
        },
        {
         "line": {
          "color": "cornflowerblue",
          "width": 0.1377316876184123
         },
         "mode": "lines",
         "type": "scatter",
         "x": [
          50.051021575927734,
          12.821133613586426,
          null
         ],
         "y": [
          5.55490255355835,
          40.63925552368164,
          null
         ]
        },
        {
         "line": {
          "color": "cornflowerblue",
          "width": 0.14905414527114713
         },
         "mode": "lines",
         "type": "scatter",
         "x": [
          50.051021575927734,
          -15.903101921081543,
          null
         ],
         "y": [
          5.55490255355835,
          -79.87010955810547,
          null
         ]
        },
        {
         "line": {
          "color": "cornflowerblue",
          "width": 0
         },
         "mode": "lines",
         "type": "scatter",
         "x": [
          50.051021575927734,
          -21.57406234741211,
          null
         ],
         "y": [
          5.55490255355835,
          -17.00296401977539,
          null
         ]
        },
        {
         "line": {
          "color": "cornflowerblue",
          "width": 0.5810320404406268
         },
         "mode": "lines",
         "type": "scatter",
         "x": [
          -49.21186828613281,
          26.518817901611328,
          null
         ],
         "y": [
          -38.231990814208984,
          -61.81422424316406,
          null
         ]
        },
        {
         "line": {
          "color": "cornflowerblue",
          "width": 0.44148602859989333
         },
         "mode": "lines",
         "type": "scatter",
         "x": [
          -49.21186828613281,
          56.34515380859375,
          null
         ],
         "y": [
          -38.231990814208984,
          -84.65728759765625,
          null
         ]
        },
        {
         "line": {
          "color": "cornflowerblue",
          "width": 0.5347370019547341
         },
         "mode": "lines",
         "type": "scatter",
         "x": [
          -49.21186828613281,
          50.02238082885742,
          null
         ],
         "y": [
          -38.231990814208984,
          33.702144622802734,
          null
         ]
        },
        {
         "line": {
          "color": "cornflowerblue",
          "width": 0.490189425438247
         },
         "mode": "lines",
         "type": "scatter",
         "x": [
          -49.21186828613281,
          39.27327346801758,
          null
         ],
         "y": [
          -38.231990814208984,
          -34.42540740966797,
          null
         ]
        },
        {
         "line": {
          "color": "cornflowerblue",
          "width": 0.5975669655311421
         },
         "mode": "lines",
         "type": "scatter",
         "x": [
          -49.21186828613281,
          8.328275680541992,
          null
         ],
         "y": [
          -38.231990814208984,
          67.30243682861328,
          null
         ]
        },
        {
         "line": {
          "color": "cornflowerblue",
          "width": 0.5383777687674933
         },
         "mode": "lines",
         "type": "scatter",
         "x": [
          -49.21186828613281,
          128.7059783935547,
          null
         ],
         "y": [
          -38.231990814208984,
          104.89427185058594,
          null
         ]
        },
        {
         "line": {
          "color": "cornflowerblue",
          "width": 0.49549525417058804
         },
         "mode": "lines",
         "type": "scatter",
         "x": [
          -49.21186828613281,
          71.07559204101562,
          null
         ],
         "y": [
          -38.231990814208984,
          -15.864188194274902,
          null
         ]
        },
        {
         "line": {
          "color": "cornflowerblue",
          "width": 0.19276948306845645
         },
         "mode": "lines",
         "type": "scatter",
         "x": [
          -49.21186828613281,
          88.70441436767578,
          null
         ],
         "y": [
          -38.231990814208984,
          136.3404083251953,
          null
         ]
        },
        {
         "line": {
          "color": "cornflowerblue",
          "width": 0.24159766229137755
         },
         "mode": "lines",
         "type": "scatter",
         "x": [
          -49.21186828613281,
          135.98934936523438,
          null
         ],
         "y": [
          -38.231990814208984,
          16.62999725341797,
          null
         ]
        },
        {
         "line": {
          "color": "cornflowerblue",
          "width": 0.418092717328499
         },
         "mode": "lines",
         "type": "scatter",
         "x": [
          -49.21186828613281,
          -11.216813087463379,
          null
         ],
         "y": [
          -38.231990814208984,
          -154.89227294921875,
          null
         ]
        },
        {
         "line": {
          "color": "cornflowerblue",
          "width": 0.16418158448233933
         },
         "mode": "lines",
         "type": "scatter",
         "x": [
          -49.21186828613281,
          12.821133613586426,
          null
         ],
         "y": [
          -38.231990814208984,
          40.63925552368164,
          null
         ]
        },
        {
         "line": {
          "color": "cornflowerblue",
          "width": 0.3729229033670367
         },
         "mode": "lines",
         "type": "scatter",
         "x": [
          -49.21186828613281,
          -106.62833404541016,
          null
         ],
         "y": [
          -38.231990814208984,
          6.821207046508789,
          null
         ]
        },
        {
         "line": {
          "color": "cornflowerblue",
          "width": 0.35346349677943373
         },
         "mode": "lines",
         "type": "scatter",
         "x": [
          -49.21186828613281,
          122.25877380371094,
          null
         ],
         "y": [
          -38.231990814208984,
          -107.40074920654297,
          null
         ]
        },
        {
         "line": {
          "color": "cornflowerblue",
          "width": 0.15240340565371532
         },
         "mode": "lines",
         "type": "scatter",
         "x": [
          -49.21186828613281,
          16.882583618164062,
          null
         ],
         "y": [
          -38.231990814208984,
          18.680267333984375,
          null
         ]
        },
        {
         "line": {
          "color": "cornflowerblue",
          "width": 0.4058649540958509
         },
         "mode": "lines",
         "type": "scatter",
         "x": [
          -49.21186828613281,
          168.8450469970703,
          null
         ],
         "y": [
          -38.231990814208984,
          57.75188064575195,
          null
         ]
        },
        {
         "line": {
          "color": "cornflowerblue",
          "width": 0.3156274259723645
         },
         "mode": "lines",
         "type": "scatter",
         "x": [
          -49.21186828613281,
          -23.71996307373047,
          null
         ],
         "y": [
          -38.231990814208984,
          32.529659271240234,
          null
         ]
        },
        {
         "line": {
          "color": "cornflowerblue",
          "width": 0.3102927587545604
         },
         "mode": "lines",
         "type": "scatter",
         "x": [
          -49.21186828613281,
          -15.903101921081543,
          null
         ],
         "y": [
          -38.231990814208984,
          -79.87010955810547,
          null
         ]
        },
        {
         "line": {
          "color": "cornflowerblue",
          "width": 0
         },
         "mode": "lines",
         "type": "scatter",
         "x": [
          -49.21186828613281,
          -137.02554321289062,
          null
         ],
         "y": [
          -38.231990814208984,
          66.60595703125,
          null
         ]
        },
        {
         "line": {
          "color": "cornflowerblue",
          "width": 0.2932723103269903
         },
         "mode": "lines",
         "type": "scatter",
         "x": [
          16.882583618164062,
          -69.95880126953125,
          null
         ],
         "y": [
          18.680267333984375,
          56.17936706542969,
          null
         ]
        },
        {
         "line": {
          "color": "cornflowerblue",
          "width": 0.10528706351947804
         },
         "mode": "lines",
         "type": "scatter",
         "x": [
          16.882583618164062,
          5.037303447723389,
          null
         ],
         "y": [
          18.680267333984375,
          -4.934942245483398,
          null
         ]
        },
        {
         "line": {
          "color": "cornflowerblue",
          "width": 0.28829688185452285
         },
         "mode": "lines",
         "type": "scatter",
         "x": [
          16.882583618164062,
          12.821133613586426,
          null
         ],
         "y": [
          18.680267333984375,
          40.63925552368164,
          null
         ]
        },
        {
         "line": {
          "color": "cornflowerblue",
          "width": 0.16894443492405314
         },
         "mode": "lines",
         "type": "scatter",
         "x": [
          16.882583618164062,
          122.25877380371094,
          null
         ],
         "y": [
          18.680267333984375,
          -107.40074920654297,
          null
         ]
        },
        {
         "line": {
          "color": "cornflowerblue",
          "width": 0.22358617100087713
         },
         "mode": "lines",
         "type": "scatter",
         "x": [
          16.882583618164062,
          -23.71996307373047,
          null
         ],
         "y": [
          18.680267333984375,
          32.529659271240234,
          null
         ]
        },
        {
         "line": {
          "color": "cornflowerblue",
          "width": 0
         },
         "mode": "lines",
         "type": "scatter",
         "x": [
          16.882583618164062,
          -21.57406234741211,
          null
         ],
         "y": [
          18.680267333984375,
          -17.00296401977539,
          null
         ]
        },
        {
         "line": {
          "color": "cornflowerblue",
          "width": 0.28163086353322153
         },
         "mode": "lines",
         "type": "scatter",
         "x": [
          50.02238082885742,
          26.518817901611328,
          null
         ],
         "y": [
          33.702144622802734,
          -61.81422424316406,
          null
         ]
        },
        {
         "line": {
          "color": "cornflowerblue",
          "width": 0.30077168237983193
         },
         "mode": "lines",
         "type": "scatter",
         "x": [
          50.02238082885742,
          56.34515380859375,
          null
         ],
         "y": [
          33.702144622802734,
          -84.65728759765625,
          null
         ]
        },
        {
         "line": {
          "color": "cornflowerblue",
          "width": 0.3423666073998454
         },
         "mode": "lines",
         "type": "scatter",
         "x": [
          50.02238082885742,
          122.25877380371094,
          null
         ],
         "y": [
          33.702144622802734,
          -107.40074920654297,
          null
         ]
        },
        {
         "line": {
          "color": "cornflowerblue",
          "width": 0.4050962716909254
         },
         "mode": "lines",
         "type": "scatter",
         "x": [
          50.02238082885742,
          -23.71996307373047,
          null
         ],
         "y": [
          33.702144622802734,
          32.529659271240234,
          null
         ]
        },
        {
         "line": {
          "color": "cornflowerblue",
          "width": 0.43322367617885527
         },
         "mode": "lines",
         "type": "scatter",
         "x": [
          50.02238082885742,
          -11.216813087463379,
          null
         ],
         "y": [
          33.702144622802734,
          -154.89227294921875,
          null
         ]
        },
        {
         "line": {
          "color": "cornflowerblue",
          "width": 0
         },
         "mode": "lines",
         "type": "scatter",
         "x": [
          50.02238082885742,
          -21.57406234741211,
          null
         ],
         "y": [
          33.702144622802734,
          -17.00296401977539,
          null
         ]
        },
        {
         "line": {
          "color": "cornflowerblue",
          "width": 0.3136517527225272
         },
         "mode": "lines",
         "type": "scatter",
         "x": [
          -69.95880126953125,
          56.34515380859375,
          null
         ],
         "y": [
          56.17936706542969,
          -84.65728759765625,
          null
         ]
        },
        {
         "line": {
          "color": "cornflowerblue",
          "width": 0.29984281348128716
         },
         "mode": "lines",
         "type": "scatter",
         "x": [
          -69.95880126953125,
          135.98934936523438,
          null
         ],
         "y": [
          56.17936706542969,
          16.62999725341797,
          null
         ]
        },
        {
         "line": {
          "color": "cornflowerblue",
          "width": 0.3497083242800797
         },
         "mode": "lines",
         "type": "scatter",
         "x": [
          -69.95880126953125,
          88.70441436767578,
          null
         ],
         "y": [
          56.17936706542969,
          136.3404083251953,
          null
         ]
        },
        {
         "line": {
          "color": "cornflowerblue",
          "width": 0.6161072129148429
         },
         "mode": "lines",
         "type": "scatter",
         "x": [
          -69.95880126953125,
          5.037303447723389,
          null
         ],
         "y": [
          56.17936706542969,
          -4.934942245483398,
          null
         ]
        },
        {
         "line": {
          "color": "cornflowerblue",
          "width": 0
         },
         "mode": "lines",
         "type": "scatter",
         "x": [
          -69.95880126953125,
          -21.57406234741211,
          null
         ],
         "y": [
          56.17936706542969,
          -17.00296401977539,
          null
         ]
        },
        {
         "line": {
          "color": "cornflowerblue",
          "width": 0.18064089276200737
         },
         "mode": "lines",
         "type": "scatter",
         "x": [
          135.98934936523438,
          5.037303447723389,
          null
         ],
         "y": [
          16.62999725341797,
          -4.934942245483398,
          null
         ]
        },
        {
         "line": {
          "color": "cornflowerblue",
          "width": 0.30476608011077055
         },
         "mode": "lines",
         "type": "scatter",
         "x": [
          135.98934936523438,
          88.70441436767578,
          null
         ],
         "y": [
          16.62999725341797,
          136.3404083251953,
          null
         ]
        },
        {
         "line": {
          "color": "cornflowerblue",
          "width": 0.23355724067282269
         },
         "mode": "lines",
         "type": "scatter",
         "x": [
          135.98934936523438,
          12.821133613586426,
          null
         ],
         "y": [
          16.62999725341797,
          40.63925552368164,
          null
         ]
        },
        {
         "line": {
          "color": "cornflowerblue",
          "width": 0.29614669939171845
         },
         "mode": "lines",
         "type": "scatter",
         "x": [
          135.98934936523438,
          56.34515380859375,
          null
         ],
         "y": [
          16.62999725341797,
          -84.65728759765625,
          null
         ]
        },
        {
         "line": {
          "color": "cornflowerblue",
          "width": 0
         },
         "mode": "lines",
         "type": "scatter",
         "x": [
          135.98934936523438,
          -21.57406234741211,
          null
         ],
         "y": [
          16.62999725341797,
          -17.00296401977539,
          null
         ]
        },
        {
         "line": {
          "color": "cornflowerblue",
          "width": 0.194384391058182
         },
         "mode": "lines",
         "type": "scatter",
         "x": [
          -23.71996307373047,
          -11.216813087463379,
          null
         ],
         "y": [
          32.529659271240234,
          -154.89227294921875,
          null
         ]
        },
        {
         "line": {
          "color": "cornflowerblue",
          "width": 0.4009236276442483
         },
         "mode": "lines",
         "type": "scatter",
         "x": [
          -23.71996307373047,
          12.821133613586426,
          null
         ],
         "y": [
          32.529659271240234,
          40.63925552368164,
          null
         ]
        },
        {
         "line": {
          "color": "cornflowerblue",
          "width": 0.44480899657432793
         },
         "mode": "lines",
         "type": "scatter",
         "x": [
          -23.71996307373047,
          122.25877380371094,
          null
         ],
         "y": [
          32.529659271240234,
          -107.40074920654297,
          null
         ]
        },
        {
         "line": {
          "color": "cornflowerblue",
          "width": 0
         },
         "mode": "lines",
         "type": "scatter",
         "x": [
          -23.71996307373047,
          -21.57406234741211,
          null
         ],
         "y": [
          32.529659271240234,
          -17.00296401977539,
          null
         ]
        },
        {
         "line": {
          "color": "cornflowerblue",
          "width": 0.3092634625244202
         },
         "mode": "lines",
         "type": "scatter",
         "x": [
          56.34515380859375,
          5.037303447723389,
          null
         ],
         "y": [
          -84.65728759765625,
          -4.934942245483398,
          null
         ]
        },
        {
         "line": {
          "color": "cornflowerblue",
          "width": 0.5587921577631774
         },
         "mode": "lines",
         "type": "scatter",
         "x": [
          56.34515380859375,
          8.328275680541992,
          null
         ],
         "y": [
          -84.65728759765625,
          67.30243682861328,
          null
         ]
        },
        {
         "line": {
          "color": "cornflowerblue",
          "width": 0.394860175721499
         },
         "mode": "lines",
         "type": "scatter",
         "x": [
          56.34515380859375,
          -106.62833404541016,
          null
         ],
         "y": [
          -84.65728759765625,
          6.821207046508789,
          null
         ]
        },
        {
         "line": {
          "color": "cornflowerblue",
          "width": 0.34953912466205733
         },
         "mode": "lines",
         "type": "scatter",
         "x": [
          56.34515380859375,
          39.27327346801758,
          null
         ],
         "y": [
          -84.65728759765625,
          -34.42540740966797,
          null
         ]
        },
        {
         "line": {
          "color": "cornflowerblue",
          "width": 0.4175083993015798
         },
         "mode": "lines",
         "type": "scatter",
         "x": [
          56.34515380859375,
          88.70441436767578,
          null
         ],
         "y": [
          -84.65728759765625,
          136.3404083251953,
          null
         ]
        },
        {
         "line": {
          "color": "cornflowerblue",
          "width": 0.2969496982049043
         },
         "mode": "lines",
         "type": "scatter",
         "x": [
          56.34515380859375,
          168.8450469970703,
          null
         ],
         "y": [
          -84.65728759765625,
          57.75188064575195,
          null
         ]
        },
        {
         "line": {
          "color": "cornflowerblue",
          "width": 0
         },
         "mode": "lines",
         "type": "scatter",
         "x": [
          56.34515380859375,
          -137.02554321289062,
          null
         ],
         "y": [
          -84.65728759765625,
          66.60595703125,
          null
         ]
        },
        {
         "line": {
          "color": "cornflowerblue",
          "width": 0.3711812750592292
         },
         "mode": "lines",
         "type": "scatter",
         "x": [
          88.70441436767578,
          5.037303447723389,
          null
         ],
         "y": [
          136.3404083251953,
          -4.934942245483398,
          null
         ]
        },
        {
         "line": {
          "color": "cornflowerblue",
          "width": 0.1752962352241689
         },
         "mode": "lines",
         "type": "scatter",
         "x": [
          88.70441436767578,
          -106.62833404541016,
          null
         ],
         "y": [
          136.3404083251953,
          6.821207046508789,
          null
         ]
        },
        {
         "line": {
          "color": "cornflowerblue",
          "width": 0
         },
         "mode": "lines",
         "type": "scatter",
         "x": [
          88.70441436767578,
          -21.57406234741211,
          null
         ],
         "y": [
          136.3404083251953,
          -17.00296401977539,
          null
         ]
        },
        {
         "line": {
          "color": "cornflowerblue",
          "width": 0
         },
         "mode": "lines",
         "type": "scatter",
         "x": [
          5.037303447723389,
          -21.57406234741211,
          null
         ],
         "y": [
          -4.934942245483398,
          -17.00296401977539,
          null
         ]
        },
        {
         "line": {
          "color": "cornflowerblue",
          "width": 0.31822259545411913
         },
         "mode": "lines",
         "type": "scatter",
         "x": [
          26.518817901611328,
          39.27327346801758,
          null
         ],
         "y": [
          -61.81422424316406,
          -34.42540740966797,
          null
         ]
        },
        {
         "line": {
          "color": "cornflowerblue",
          "width": 0.2656890979360772
         },
         "mode": "lines",
         "type": "scatter",
         "x": [
          26.518817901611328,
          71.07559204101562,
          null
         ],
         "y": [
          -61.81422424316406,
          -15.864188194274902,
          null
         ]
        },
        {
         "line": {
          "color": "cornflowerblue",
          "width": 0.3123384673253828
         },
         "mode": "lines",
         "type": "scatter",
         "x": [
          26.518817901611328,
          168.8450469970703,
          null
         ],
         "y": [
          -61.81422424316406,
          57.75188064575195,
          null
         ]
        },
        {
         "line": {
          "color": "cornflowerblue",
          "width": 0.5716481097342351
         },
         "mode": "lines",
         "type": "scatter",
         "x": [
          26.518817901611328,
          128.7059783935547,
          null
         ],
         "y": [
          -61.81422424316406,
          104.89427185058594,
          null
         ]
        },
        {
         "line": {
          "color": "cornflowerblue",
          "width": 0.21472828336562377
         },
         "mode": "lines",
         "type": "scatter",
         "x": [
          26.518817901611328,
          -11.216813087463379,
          null
         ],
         "y": [
          -61.81422424316406,
          -154.89227294921875,
          null
         ]
        },
        {
         "line": {
          "color": "cornflowerblue",
          "width": 0.1740268126529006
         },
         "mode": "lines",
         "type": "scatter",
         "x": [
          26.518817901611328,
          -15.903101921081543,
          null
         ],
         "y": [
          -61.81422424316406,
          -79.87010955810547,
          null
         ]
        },
        {
         "line": {
          "color": "cornflowerblue",
          "width": 0
         },
         "mode": "lines",
         "type": "scatter",
         "x": [
          26.518817901611328,
          -137.02554321289062,
          null
         ],
         "y": [
          -61.81422424316406,
          66.60595703125,
          null
         ]
        },
        {
         "line": {
          "color": "cornflowerblue",
          "width": 0.2315783234633814
         },
         "mode": "lines",
         "type": "scatter",
         "x": [
          39.27327346801758,
          128.7059783935547,
          null
         ],
         "y": [
          -34.42540740966797,
          104.89427185058594,
          null
         ]
        },
        {
         "line": {
          "color": "cornflowerblue",
          "width": 0.36758870276279576
         },
         "mode": "lines",
         "type": "scatter",
         "x": [
          39.27327346801758,
          8.328275680541992,
          null
         ],
         "y": [
          -34.42540740966797,
          67.30243682861328,
          null
         ]
        },
        {
         "line": {
          "color": "cornflowerblue",
          "width": 0.30509953279191876
         },
         "mode": "lines",
         "type": "scatter",
         "x": [
          39.27327346801758,
          -106.62833404541016,
          null
         ],
         "y": [
          -34.42540740966797,
          6.821207046508789,
          null
         ]
        },
        {
         "line": {
          "color": "cornflowerblue",
          "width": 0.21741310392489166
         },
         "mode": "lines",
         "type": "scatter",
         "x": [
          39.27327346801758,
          168.8450469970703,
          null
         ],
         "y": [
          -34.42540740966797,
          57.75188064575195,
          null
         ]
        },
        {
         "line": {
          "color": "cornflowerblue",
          "width": 0.21580876447953085
         },
         "mode": "lines",
         "type": "scatter",
         "x": [
          39.27327346801758,
          71.07559204101562,
          null
         ],
         "y": [
          -34.42540740966797,
          -15.864188194274902,
          null
         ]
        },
        {
         "line": {
          "color": "cornflowerblue",
          "width": 0
         },
         "mode": "lines",
         "type": "scatter",
         "x": [
          39.27327346801758,
          -137.02554321289062,
          null
         ],
         "y": [
          -34.42540740966797,
          66.60595703125,
          null
         ]
        },
        {
         "line": {
          "color": "cornflowerblue",
          "width": 0.3623269999031737
         },
         "mode": "lines",
         "type": "scatter",
         "x": [
          71.07559204101562,
          128.7059783935547,
          null
         ],
         "y": [
          -15.864188194274902,
          104.89427185058594,
          null
         ]
        },
        {
         "line": {
          "color": "cornflowerblue",
          "width": 0.2696561052641243
         },
         "mode": "lines",
         "type": "scatter",
         "x": [
          71.07559204101562,
          8.328275680541992,
          null
         ],
         "y": [
          -15.864188194274902,
          67.30243682861328,
          null
         ]
        },
        {
         "line": {
          "color": "cornflowerblue",
          "width": 0.1834158426681595
         },
         "mode": "lines",
         "type": "scatter",
         "x": [
          71.07559204101562,
          168.8450469970703,
          null
         ],
         "y": [
          -15.864188194274902,
          57.75188064575195,
          null
         ]
        },
        {
         "line": {
          "color": "cornflowerblue",
          "width": 0.16509538026717271
         },
         "mode": "lines",
         "type": "scatter",
         "x": [
          71.07559204101562,
          -15.903101921081543,
          null
         ],
         "y": [
          -15.864188194274902,
          -79.87010955810547,
          null
         ]
        },
        {
         "line": {
          "color": "cornflowerblue",
          "width": 0
         },
         "mode": "lines",
         "type": "scatter",
         "x": [
          71.07559204101562,
          -137.02554321289062,
          null
         ],
         "y": [
          -15.864188194274902,
          66.60595703125,
          null
         ]
        },
        {
         "line": {
          "color": "cornflowerblue",
          "width": 0.21334498126639265
         },
         "mode": "lines",
         "type": "scatter",
         "x": [
          168.8450469970703,
          128.7059783935547,
          null
         ],
         "y": [
          57.75188064575195,
          104.89427185058594,
          null
         ]
        },
        {
         "line": {
          "color": "cornflowerblue",
          "width": 0.1851090757303556
         },
         "mode": "lines",
         "type": "scatter",
         "x": [
          168.8450469970703,
          -106.62833404541016,
          null
         ],
         "y": [
          57.75188064575195,
          6.821207046508789,
          null
         ]
        },
        {
         "line": {
          "color": "cornflowerblue",
          "width": 0.27844415440928655
         },
         "mode": "lines",
         "type": "scatter",
         "x": [
          168.8450469970703,
          8.328275680541992,
          null
         ],
         "y": [
          57.75188064575195,
          67.30243682861328,
          null
         ]
        },
        {
         "line": {
          "color": "cornflowerblue",
          "width": 0
         },
         "mode": "lines",
         "type": "scatter",
         "x": [
          168.8450469970703,
          -137.02554321289062,
          null
         ],
         "y": [
          57.75188064575195,
          66.60595703125,
          null
         ]
        },
        {
         "line": {
          "color": "cornflowerblue",
          "width": 0.18253346298717982
         },
         "mode": "lines",
         "type": "scatter",
         "x": [
          128.7059783935547,
          -11.216813087463379,
          null
         ],
         "y": [
          104.89427185058594,
          -154.89227294921875,
          null
         ]
        },
        {
         "line": {
          "color": "cornflowerblue",
          "width": 0.2153042006581885
         },
         "mode": "lines",
         "type": "scatter",
         "x": [
          128.7059783935547,
          8.328275680541992,
          null
         ],
         "y": [
          104.89427185058594,
          67.30243682861328,
          null
         ]
        },
        {
         "line": {
          "color": "cornflowerblue",
          "width": 0.16343106625378676
         },
         "mode": "lines",
         "type": "scatter",
         "x": [
          128.7059783935547,
          -15.903101921081543,
          null
         ],
         "y": [
          104.89427185058594,
          -79.87010955810547,
          null
         ]
        },
        {
         "line": {
          "color": "cornflowerblue",
          "width": 0
         },
         "mode": "lines",
         "type": "scatter",
         "x": [
          128.7059783935547,
          -137.02554321289062,
          null
         ],
         "y": [
          104.89427185058594,
          66.60595703125,
          null
         ]
        },
        {
         "line": {
          "color": "cornflowerblue",
          "width": 0.4122126388523251
         },
         "mode": "lines",
         "type": "scatter",
         "x": [
          8.328275680541992,
          -106.62833404541016,
          null
         ],
         "y": [
          67.30243682861328,
          6.821207046508789,
          null
         ]
        },
        {
         "line": {
          "color": "cornflowerblue",
          "width": 0.1758331593471009
         },
         "mode": "lines",
         "type": "scatter",
         "x": [
          8.328275680541992,
          -15.903101921081543,
          null
         ],
         "y": [
          67.30243682861328,
          -79.87010955810547,
          null
         ]
        },
        {
         "line": {
          "color": "cornflowerblue",
          "width": 0
         },
         "mode": "lines",
         "type": "scatter",
         "x": [
          8.328275680541992,
          -137.02554321289062,
          null
         ],
         "y": [
          67.30243682861328,
          66.60595703125,
          null
         ]
        },
        {
         "line": {
          "color": "cornflowerblue",
          "width": 0
         },
         "mode": "lines",
         "type": "scatter",
         "x": [
          -106.62833404541016,
          -137.02554321289062,
          null
         ],
         "y": [
          6.821207046508789,
          66.60595703125,
          null
         ]
        },
        {
         "line": {
          "color": "cornflowerblue",
          "width": 0.25724608944403826
         },
         "mode": "lines",
         "type": "scatter",
         "x": [
          122.25877380371094,
          -11.216813087463379,
          null
         ],
         "y": [
          -107.40074920654297,
          -154.89227294921875,
          null
         ]
        },
        {
         "line": {
          "color": "cornflowerblue",
          "width": 0.43131674055321284
         },
         "mode": "lines",
         "type": "scatter",
         "x": [
          122.25877380371094,
          12.821133613586426,
          null
         ],
         "y": [
          -107.40074920654297,
          40.63925552368164,
          null
         ]
        },
        {
         "line": {
          "color": "cornflowerblue",
          "width": 0
         },
         "mode": "lines",
         "type": "scatter",
         "x": [
          122.25877380371094,
          -21.57406234741211,
          null
         ],
         "y": [
          -107.40074920654297,
          -17.00296401977539,
          null
         ]
        },
        {
         "line": {
          "color": "cornflowerblue",
          "width": 0
         },
         "mode": "lines",
         "type": "scatter",
         "x": [
          -11.216813087463379,
          -21.57406234741211,
          null
         ],
         "y": [
          -154.89227294921875,
          -17.00296401977539,
          null
         ]
        },
        {
         "line": {
          "color": "cornflowerblue",
          "width": 0
         },
         "mode": "lines",
         "type": "scatter",
         "x": [
          12.821133613586426,
          -21.57406234741211,
          null
         ],
         "y": [
          40.63925552368164,
          -17.00296401977539,
          null
         ]
        },
        {
         "line": {
          "color": "cornflowerblue",
          "width": 0
         },
         "mode": "lines",
         "type": "scatter",
         "x": [
          -15.903101921081543,
          -137.02554321289062,
          null
         ],
         "y": [
          -79.87010955810547,
          66.60595703125,
          null
         ]
        },
        {
         "hoverinfo": "text",
         "marker": {
          "color": [
           0,
           1,
           0,
           0,
           0,
           0,
           0,
           1,
           0,
           0,
           1,
           1,
           1,
           1,
           1,
           1,
           1,
           0,
           0,
           0,
           1
          ],
          "opacity": [
           0.6,
           0.6,
           0.6,
           0.6,
           0.6,
           0.6,
           0.6,
           0.6,
           0.6,
           0.6,
           0.6,
           0.6,
           0.6,
           0.6,
           0.6,
           0.6,
           0.6,
           0.6,
           0.6,
           0.6,
           0.6
          ],
          "size": [
           27,
           30,
           15,
           26,
           21,
           17,
           23,
           29,
           12,
           11,
           14,
           8,
           6,
           5,
           9,
           24,
           3,
           18,
           1,
           20,
           2
          ],
          "symbol": [
           0,
           0,
           0,
           0,
           0,
           0,
           0,
           0,
           0,
           0,
           0,
           0,
           0,
           0,
           0,
           0,
           0,
           0,
           0,
           0,
           0
          ]
         },
         "mode": "markers+text",
         "text": [
          "<b>Action</b>",
          "<b>Drama</b>",
          "<b>Sci-Fi</b>",
          "<b>Crime</b>",
          "<b>Adventure</b>",
          "<b>Fantasy</b>",
          "<b>Thriller</b>",
          "<b>Comedy</b>",
          "<b>Family</b>",
          "<b>Animation</b>",
          "<b>Biography</b>",
          "<b>Music</b>",
          "<b>War</b>",
          "<b>Sport</b>",
          "<b>History</b>",
          "<b>Romance</b>",
          "<b>Musical</b>",
          "<b>Mystery</b>",
          "<b>Film-Noir</b>",
          "<b>Horror</b>",
          "<b>Western</b>"
         ],
         "textfont": {
          "size": 9
         },
         "textposition": "top center",
         "type": "scatter",
         "x": [
          50.051021575927734,
          -49.21186828613281,
          16.882583618164062,
          50.02238082885742,
          -69.95880126953125,
          135.98934936523438,
          -23.71996307373047,
          56.34515380859375,
          88.70441436767578,
          5.037303447723389,
          26.518817901611328,
          39.27327346801758,
          71.07559204101562,
          168.8450469970703,
          128.7059783935547,
          8.328275680541992,
          -106.62833404541016,
          122.25877380371094,
          -11.216813087463379,
          12.821133613586426,
          -15.903101921081543
         ],
         "y": [
          5.55490255355835,
          -38.231990814208984,
          18.680267333984375,
          33.702144622802734,
          56.17936706542969,
          16.62999725341797,
          32.529659271240234,
          -84.65728759765625,
          136.3404083251953,
          -4.934942245483398,
          -61.81422424316406,
          -34.42540740966797,
          -15.864188194274902,
          57.75188064575195,
          104.89427185058594,
          67.30243682861328,
          6.821207046508789,
          -107.40074920654297,
          -154.89227294921875,
          40.63925552368164,
          -79.87010955810547
         ]
        }
       ],
       "layout": {
        "height": 1000,
        "showlegend": false,
        "template": {
         "data": {
          "bar": [
           {
            "error_x": {
             "color": "#f2f5fa"
            },
            "error_y": {
             "color": "#f2f5fa"
            },
            "marker": {
             "line": {
              "color": "rgb(17,17,17)",
              "width": 0.5
             },
             "pattern": {
              "fillmode": "overlay",
              "size": 10,
              "solidity": 0.2
             }
            },
            "type": "bar"
           }
          ],
          "barpolar": [
           {
            "marker": {
             "line": {
              "color": "rgb(17,17,17)",
              "width": 0.5
             },
             "pattern": {
              "fillmode": "overlay",
              "size": 10,
              "solidity": 0.2
             }
            },
            "type": "barpolar"
           }
          ],
          "carpet": [
           {
            "aaxis": {
             "endlinecolor": "#A2B1C6",
             "gridcolor": "#506784",
             "linecolor": "#506784",
             "minorgridcolor": "#506784",
             "startlinecolor": "#A2B1C6"
            },
            "baxis": {
             "endlinecolor": "#A2B1C6",
             "gridcolor": "#506784",
             "linecolor": "#506784",
             "minorgridcolor": "#506784",
             "startlinecolor": "#A2B1C6"
            },
            "type": "carpet"
           }
          ],
          "choropleth": [
           {
            "colorbar": {
             "outlinewidth": 0,
             "ticks": ""
            },
            "type": "choropleth"
           }
          ],
          "contour": [
           {
            "colorbar": {
             "outlinewidth": 0,
             "ticks": ""
            },
            "colorscale": [
             [
              0,
              "#0d0887"
             ],
             [
              0.1111111111111111,
              "#46039f"
             ],
             [
              0.2222222222222222,
              "#7201a8"
             ],
             [
              0.3333333333333333,
              "#9c179e"
             ],
             [
              0.4444444444444444,
              "#bd3786"
             ],
             [
              0.5555555555555556,
              "#d8576b"
             ],
             [
              0.6666666666666666,
              "#ed7953"
             ],
             [
              0.7777777777777778,
              "#fb9f3a"
             ],
             [
              0.8888888888888888,
              "#fdca26"
             ],
             [
              1,
              "#f0f921"
             ]
            ],
            "type": "contour"
           }
          ],
          "contourcarpet": [
           {
            "colorbar": {
             "outlinewidth": 0,
             "ticks": ""
            },
            "type": "contourcarpet"
           }
          ],
          "heatmap": [
           {
            "colorbar": {
             "outlinewidth": 0,
             "ticks": ""
            },
            "colorscale": [
             [
              0,
              "#0d0887"
             ],
             [
              0.1111111111111111,
              "#46039f"
             ],
             [
              0.2222222222222222,
              "#7201a8"
             ],
             [
              0.3333333333333333,
              "#9c179e"
             ],
             [
              0.4444444444444444,
              "#bd3786"
             ],
             [
              0.5555555555555556,
              "#d8576b"
             ],
             [
              0.6666666666666666,
              "#ed7953"
             ],
             [
              0.7777777777777778,
              "#fb9f3a"
             ],
             [
              0.8888888888888888,
              "#fdca26"
             ],
             [
              1,
              "#f0f921"
             ]
            ],
            "type": "heatmap"
           }
          ],
          "heatmapgl": [
           {
            "colorbar": {
             "outlinewidth": 0,
             "ticks": ""
            },
            "colorscale": [
             [
              0,
              "#0d0887"
             ],
             [
              0.1111111111111111,
              "#46039f"
             ],
             [
              0.2222222222222222,
              "#7201a8"
             ],
             [
              0.3333333333333333,
              "#9c179e"
             ],
             [
              0.4444444444444444,
              "#bd3786"
             ],
             [
              0.5555555555555556,
              "#d8576b"
             ],
             [
              0.6666666666666666,
              "#ed7953"
             ],
             [
              0.7777777777777778,
              "#fb9f3a"
             ],
             [
              0.8888888888888888,
              "#fdca26"
             ],
             [
              1,
              "#f0f921"
             ]
            ],
            "type": "heatmapgl"
           }
          ],
          "histogram": [
           {
            "marker": {
             "pattern": {
              "fillmode": "overlay",
              "size": 10,
              "solidity": 0.2
             }
            },
            "type": "histogram"
           }
          ],
          "histogram2d": [
           {
            "colorbar": {
             "outlinewidth": 0,
             "ticks": ""
            },
            "colorscale": [
             [
              0,
              "#0d0887"
             ],
             [
              0.1111111111111111,
              "#46039f"
             ],
             [
              0.2222222222222222,
              "#7201a8"
             ],
             [
              0.3333333333333333,
              "#9c179e"
             ],
             [
              0.4444444444444444,
              "#bd3786"
             ],
             [
              0.5555555555555556,
              "#d8576b"
             ],
             [
              0.6666666666666666,
              "#ed7953"
             ],
             [
              0.7777777777777778,
              "#fb9f3a"
             ],
             [
              0.8888888888888888,
              "#fdca26"
             ],
             [
              1,
              "#f0f921"
             ]
            ],
            "type": "histogram2d"
           }
          ],
          "histogram2dcontour": [
           {
            "colorbar": {
             "outlinewidth": 0,
             "ticks": ""
            },
            "colorscale": [
             [
              0,
              "#0d0887"
             ],
             [
              0.1111111111111111,
              "#46039f"
             ],
             [
              0.2222222222222222,
              "#7201a8"
             ],
             [
              0.3333333333333333,
              "#9c179e"
             ],
             [
              0.4444444444444444,
              "#bd3786"
             ],
             [
              0.5555555555555556,
              "#d8576b"
             ],
             [
              0.6666666666666666,
              "#ed7953"
             ],
             [
              0.7777777777777778,
              "#fb9f3a"
             ],
             [
              0.8888888888888888,
              "#fdca26"
             ],
             [
              1,
              "#f0f921"
             ]
            ],
            "type": "histogram2dcontour"
           }
          ],
          "mesh3d": [
           {
            "colorbar": {
             "outlinewidth": 0,
             "ticks": ""
            },
            "type": "mesh3d"
           }
          ],
          "parcoords": [
           {
            "line": {
             "colorbar": {
              "outlinewidth": 0,
              "ticks": ""
             }
            },
            "type": "parcoords"
           }
          ],
          "pie": [
           {
            "automargin": true,
            "type": "pie"
           }
          ],
          "scatter": [
           {
            "marker": {
             "line": {
              "color": "#283442"
             }
            },
            "type": "scatter"
           }
          ],
          "scatter3d": [
           {
            "line": {
             "colorbar": {
              "outlinewidth": 0,
              "ticks": ""
             }
            },
            "marker": {
             "colorbar": {
              "outlinewidth": 0,
              "ticks": ""
             }
            },
            "type": "scatter3d"
           }
          ],
          "scattercarpet": [
           {
            "marker": {
             "colorbar": {
              "outlinewidth": 0,
              "ticks": ""
             }
            },
            "type": "scattercarpet"
           }
          ],
          "scattergeo": [
           {
            "marker": {
             "colorbar": {
              "outlinewidth": 0,
              "ticks": ""
             }
            },
            "type": "scattergeo"
           }
          ],
          "scattergl": [
           {
            "marker": {
             "line": {
              "color": "#283442"
             }
            },
            "type": "scattergl"
           }
          ],
          "scattermapbox": [
           {
            "marker": {
             "colorbar": {
              "outlinewidth": 0,
              "ticks": ""
             }
            },
            "type": "scattermapbox"
           }
          ],
          "scatterpolar": [
           {
            "marker": {
             "colorbar": {
              "outlinewidth": 0,
              "ticks": ""
             }
            },
            "type": "scatterpolar"
           }
          ],
          "scatterpolargl": [
           {
            "marker": {
             "colorbar": {
              "outlinewidth": 0,
              "ticks": ""
             }
            },
            "type": "scatterpolargl"
           }
          ],
          "scatterternary": [
           {
            "marker": {
             "colorbar": {
              "outlinewidth": 0,
              "ticks": ""
             }
            },
            "type": "scatterternary"
           }
          ],
          "surface": [
           {
            "colorbar": {
             "outlinewidth": 0,
             "ticks": ""
            },
            "colorscale": [
             [
              0,
              "#0d0887"
             ],
             [
              0.1111111111111111,
              "#46039f"
             ],
             [
              0.2222222222222222,
              "#7201a8"
             ],
             [
              0.3333333333333333,
              "#9c179e"
             ],
             [
              0.4444444444444444,
              "#bd3786"
             ],
             [
              0.5555555555555556,
              "#d8576b"
             ],
             [
              0.6666666666666666,
              "#ed7953"
             ],
             [
              0.7777777777777778,
              "#fb9f3a"
             ],
             [
              0.8888888888888888,
              "#fdca26"
             ],
             [
              1,
              "#f0f921"
             ]
            ],
            "type": "surface"
           }
          ],
          "table": [
           {
            "cells": {
             "fill": {
              "color": "#506784"
             },
             "line": {
              "color": "rgb(17,17,17)"
             }
            },
            "header": {
             "fill": {
              "color": "#2a3f5f"
             },
             "line": {
              "color": "rgb(17,17,17)"
             }
            },
            "type": "table"
           }
          ]
         },
         "layout": {
          "annotationdefaults": {
           "arrowcolor": "#f2f5fa",
           "arrowhead": 0,
           "arrowwidth": 1
          },
          "autotypenumbers": "strict",
          "coloraxis": {
           "colorbar": {
            "outlinewidth": 0,
            "ticks": ""
           }
          },
          "colorscale": {
           "diverging": [
            [
             0,
             "#8e0152"
            ],
            [
             0.1,
             "#c51b7d"
            ],
            [
             0.2,
             "#de77ae"
            ],
            [
             0.3,
             "#f1b6da"
            ],
            [
             0.4,
             "#fde0ef"
            ],
            [
             0.5,
             "#f7f7f7"
            ],
            [
             0.6,
             "#e6f5d0"
            ],
            [
             0.7,
             "#b8e186"
            ],
            [
             0.8,
             "#7fbc41"
            ],
            [
             0.9,
             "#4d9221"
            ],
            [
             1,
             "#276419"
            ]
           ],
           "sequential": [
            [
             0,
             "#0d0887"
            ],
            [
             0.1111111111111111,
             "#46039f"
            ],
            [
             0.2222222222222222,
             "#7201a8"
            ],
            [
             0.3333333333333333,
             "#9c179e"
            ],
            [
             0.4444444444444444,
             "#bd3786"
            ],
            [
             0.5555555555555556,
             "#d8576b"
            ],
            [
             0.6666666666666666,
             "#ed7953"
            ],
            [
             0.7777777777777778,
             "#fb9f3a"
            ],
            [
             0.8888888888888888,
             "#fdca26"
            ],
            [
             1,
             "#f0f921"
            ]
           ],
           "sequentialminus": [
            [
             0,
             "#0d0887"
            ],
            [
             0.1111111111111111,
             "#46039f"
            ],
            [
             0.2222222222222222,
             "#7201a8"
            ],
            [
             0.3333333333333333,
             "#9c179e"
            ],
            [
             0.4444444444444444,
             "#bd3786"
            ],
            [
             0.5555555555555556,
             "#d8576b"
            ],
            [
             0.6666666666666666,
             "#ed7953"
            ],
            [
             0.7777777777777778,
             "#fb9f3a"
            ],
            [
             0.8888888888888888,
             "#fdca26"
            ],
            [
             1,
             "#f0f921"
            ]
           ]
          },
          "colorway": [
           "#636efa",
           "#EF553B",
           "#00cc96",
           "#ab63fa",
           "#FFA15A",
           "#19d3f3",
           "#FF6692",
           "#B6E880",
           "#FF97FF",
           "#FECB52"
          ],
          "font": {
           "color": "#f2f5fa"
          },
          "geo": {
           "bgcolor": "rgb(17,17,17)",
           "lakecolor": "rgb(17,17,17)",
           "landcolor": "rgb(17,17,17)",
           "showlakes": true,
           "showland": true,
           "subunitcolor": "#506784"
          },
          "hoverlabel": {
           "align": "left"
          },
          "hovermode": "closest",
          "mapbox": {
           "style": "dark"
          },
          "paper_bgcolor": "rgb(17,17,17)",
          "plot_bgcolor": "rgb(17,17,17)",
          "polar": {
           "angularaxis": {
            "gridcolor": "#506784",
            "linecolor": "#506784",
            "ticks": ""
           },
           "bgcolor": "rgb(17,17,17)",
           "radialaxis": {
            "gridcolor": "#506784",
            "linecolor": "#506784",
            "ticks": ""
           }
          },
          "scene": {
           "xaxis": {
            "backgroundcolor": "rgb(17,17,17)",
            "gridcolor": "#506784",
            "gridwidth": 2,
            "linecolor": "#506784",
            "showbackground": true,
            "ticks": "",
            "zerolinecolor": "#C8D4E3"
           },
           "yaxis": {
            "backgroundcolor": "rgb(17,17,17)",
            "gridcolor": "#506784",
            "gridwidth": 2,
            "linecolor": "#506784",
            "showbackground": true,
            "ticks": "",
            "zerolinecolor": "#C8D4E3"
           },
           "zaxis": {
            "backgroundcolor": "rgb(17,17,17)",
            "gridcolor": "#506784",
            "gridwidth": 2,
            "linecolor": "#506784",
            "showbackground": true,
            "ticks": "",
            "zerolinecolor": "#C8D4E3"
           }
          },
          "shapedefaults": {
           "line": {
            "color": "#f2f5fa"
           }
          },
          "sliderdefaults": {
           "bgcolor": "#C8D4E3",
           "bordercolor": "rgb(17,17,17)",
           "borderwidth": 1,
           "tickwidth": 0
          },
          "ternary": {
           "aaxis": {
            "gridcolor": "#506784",
            "linecolor": "#506784",
            "ticks": ""
           },
           "baxis": {
            "gridcolor": "#506784",
            "linecolor": "#506784",
            "ticks": ""
           },
           "bgcolor": "rgb(17,17,17)",
           "caxis": {
            "gridcolor": "#506784",
            "linecolor": "#506784",
            "ticks": ""
           }
          },
          "title": {
           "x": 0.05
          },
          "updatemenudefaults": {
           "bgcolor": "#506784",
           "borderwidth": 0
          },
          "xaxis": {
           "automargin": true,
           "gridcolor": "#283442",
           "linecolor": "#506784",
           "ticks": "",
           "title": {
            "standoff": 15
           },
           "zerolinecolor": "#283442",
           "zerolinewidth": 2
          },
          "yaxis": {
           "automargin": true,
           "gridcolor": "#283442",
           "linecolor": "#506784",
           "ticks": "",
           "title": {
            "standoff": 15
           },
           "zerolinecolor": "#283442",
           "zerolinewidth": 2
          }
         }
        },
        "width": 1000,
        "xaxis": {
         "autorange": true,
         "range": [
          -137.02554321289062,
          186.20929972010788
         ],
         "showgrid": false,
         "showticklabels": false,
         "type": "linear",
         "zeroline": false
        },
        "yaxis": {
         "autorange": true,
         "range": [
          -172.50634576856476,
          155.75592041015625
         ],
         "showgrid": false,
         "showticklabels": false,
         "type": "linear",
         "zeroline": false
        }
       }
      },
      "image/png": "[encoded data removed]",
      "text/html": [
       "<div>                            <div id=\"9aeba03b-7d3f-4081-82bc-3ab3112bf054\" class=\"plotly-graph-div\" style=\"height:1000px; width:1000px;\"></div>            <script type=\"text/javascript\">                require([\"plotly\"], function(Plotly) {                    window.PLOTLYENV=window.PLOTLYENV || {};                                    if (document.getElementById(\"9aeba03b-7d3f-4081-82bc-3ab3112bf054\")) {                    Plotly.newPlot(                        \"9aeba03b-7d3f-4081-82bc-3ab3112bf054\",                        [{\"line\":{\"color\":\"cornflowerblue\",\"width\":0.2973382523913178},\"mode\":\"lines\",\"x\":[50.051021575927734,-49.21186828613281,null],\"y\":[5.55490255355835,-38.231990814208984,null],\"type\":\"scatter\"},{\"line\":{\"color\":\"cornflowerblue\",\"width\":0.3892435782973393},\"mode\":\"lines\",\"x\":[50.051021575927734,16.882583618164062,null],\"y\":[5.55490255355835,18.680267333984375,null],\"type\":\"scatter\"},{\"line\":{\"color\":\"cornflowerblue\",\"width\":0.46596042113412606},\"mode\":\"lines\",\"x\":[50.051021575927734,50.02238082885742,null],\"y\":[5.55490255355835,33.702144622802734,null],\"type\":\"scatter\"},{\"line\":{\"color\":\"cornflowerblue\",\"width\":0.5839268312414753},\"mode\":\"lines\",\"x\":[50.051021575927734,-69.95880126953125,null],\"y\":[5.55490255355835,56.17936706542969,null],\"type\":\"scatter\"},{\"line\":{\"color\":\"cornflowerblue\",\"width\":0.24678346390917377},\"mode\":\"lines\",\"x\":[50.051021575927734,135.98934936523438,null],\"y\":[5.55490255355835,16.62999725341797,null],\"type\":\"scatter\"},{\"line\":{\"color\":\"cornflowerblue\",\"width\":0.33652161865531166},\"mode\":\"lines\",\"x\":[50.051021575927734,-23.71996307373047,null],\"y\":[5.55490255355835,32.529659271240234,null],\"type\":\"scatter\"},{\"line\":{\"color\":\"cornflowerblue\",\"width\":0.24032774877801186},\"mode\":\"lines\",\"x\":[50.051021575927734,5.037303447723389,null],\"y\":[5.55490255355835,-4.934942245483398,null],\"type\":\"scatter\"},{\"line\":{\"color\":\"cornflowerblue\",\"width\":0.1377316876184123},\"mode\":\"lines\",\"x\":[50.051021575927734,12.821133613586426,null],\"y\":[5.55490255355835,40.63925552368164,null],\"type\":\"scatter\"},{\"line\":{\"color\":\"cornflowerblue\",\"width\":0.14905414527114713},\"mode\":\"lines\",\"x\":[50.051021575927734,-15.903101921081543,null],\"y\":[5.55490255355835,-79.87010955810547,null],\"type\":\"scatter\"},{\"line\":{\"color\":\"cornflowerblue\",\"width\":0},\"mode\":\"lines\",\"x\":[50.051021575927734,-21.57406234741211,null],\"y\":[5.55490255355835,-17.00296401977539,null],\"type\":\"scatter\"},{\"line\":{\"color\":\"cornflowerblue\",\"width\":0.5810320404406268},\"mode\":\"lines\",\"x\":[-49.21186828613281,26.518817901611328,null],\"y\":[-38.231990814208984,-61.81422424316406,null],\"type\":\"scatter\"},{\"line\":{\"color\":\"cornflowerblue\",\"width\":0.44148602859989333},\"mode\":\"lines\",\"x\":[-49.21186828613281,56.34515380859375,null],\"y\":[-38.231990814208984,-84.65728759765625,null],\"type\":\"scatter\"},{\"line\":{\"color\":\"cornflowerblue\",\"width\":0.5347370019547341},\"mode\":\"lines\",\"x\":[-49.21186828613281,50.02238082885742,null],\"y\":[-38.231990814208984,33.702144622802734,null],\"type\":\"scatter\"},{\"line\":{\"color\":\"cornflowerblue\",\"width\":0.490189425438247},\"mode\":\"lines\",\"x\":[-49.21186828613281,39.27327346801758,null],\"y\":[-38.231990814208984,-34.42540740966797,null],\"type\":\"scatter\"},{\"line\":{\"color\":\"cornflowerblue\",\"width\":0.5975669655311421},\"mode\":\"lines\",\"x\":[-49.21186828613281,8.328275680541992,null],\"y\":[-38.231990814208984,67.30243682861328,null],\"type\":\"scatter\"},{\"line\":{\"color\":\"cornflowerblue\",\"width\":0.5383777687674933},\"mode\":\"lines\",\"x\":[-49.21186828613281,128.7059783935547,null],\"y\":[-38.231990814208984,104.89427185058594,null],\"type\":\"scatter\"},{\"line\":{\"color\":\"cornflowerblue\",\"width\":0.49549525417058804},\"mode\":\"lines\",\"x\":[-49.21186828613281,71.07559204101562,null],\"y\":[-38.231990814208984,-15.864188194274902,null],\"type\":\"scatter\"},{\"line\":{\"color\":\"cornflowerblue\",\"width\":0.19276948306845645},\"mode\":\"lines\",\"x\":[-49.21186828613281,88.70441436767578,null],\"y\":[-38.231990814208984,136.3404083251953,null],\"type\":\"scatter\"},{\"line\":{\"color\":\"cornflowerblue\",\"width\":0.24159766229137755},\"mode\":\"lines\",\"x\":[-49.21186828613281,135.98934936523438,null],\"y\":[-38.231990814208984,16.62999725341797,null],\"type\":\"scatter\"},{\"line\":{\"color\":\"cornflowerblue\",\"width\":0.418092717328499},\"mode\":\"lines\",\"x\":[-49.21186828613281,-11.216813087463379,null],\"y\":[-38.231990814208984,-154.89227294921875,null],\"type\":\"scatter\"},{\"line\":{\"color\":\"cornflowerblue\",\"width\":0.16418158448233933},\"mode\":\"lines\",\"x\":[-49.21186828613281,12.821133613586426,null],\"y\":[-38.231990814208984,40.63925552368164,null],\"type\":\"scatter\"},{\"line\":{\"color\":\"cornflowerblue\",\"width\":0.3729229033670367},\"mode\":\"lines\",\"x\":[-49.21186828613281,-106.62833404541016,null],\"y\":[-38.231990814208984,6.821207046508789,null],\"type\":\"scatter\"},{\"line\":{\"color\":\"cornflowerblue\",\"width\":0.35346349677943373},\"mode\":\"lines\",\"x\":[-49.21186828613281,122.25877380371094,null],\"y\":[-38.231990814208984,-107.40074920654297,null],\"type\":\"scatter\"},{\"line\":{\"color\":\"cornflowerblue\",\"width\":0.15240340565371532},\"mode\":\"lines\",\"x\":[-49.21186828613281,16.882583618164062,null],\"y\":[-38.231990814208984,18.680267333984375,null],\"type\":\"scatter\"},{\"line\":{\"color\":\"cornflowerblue\",\"width\":0.4058649540958509},\"mode\":\"lines\",\"x\":[-49.21186828613281,168.8450469970703,null],\"y\":[-38.231990814208984,57.75188064575195,null],\"type\":\"scatter\"},{\"line\":{\"color\":\"cornflowerblue\",\"width\":0.3156274259723645},\"mode\":\"lines\",\"x\":[-49.21186828613281,-23.71996307373047,null],\"y\":[-38.231990814208984,32.529659271240234,null],\"type\":\"scatter\"},{\"line\":{\"color\":\"cornflowerblue\",\"width\":0.3102927587545604},\"mode\":\"lines\",\"x\":[-49.21186828613281,-15.903101921081543,null],\"y\":[-38.231990814208984,-79.87010955810547,null],\"type\":\"scatter\"},{\"line\":{\"color\":\"cornflowerblue\",\"width\":0},\"mode\":\"lines\",\"x\":[-49.21186828613281,-137.02554321289062,null],\"y\":[-38.231990814208984,66.60595703125,null],\"type\":\"scatter\"},{\"line\":{\"color\":\"cornflowerblue\",\"width\":0.2932723103269903},\"mode\":\"lines\",\"x\":[16.882583618164062,-69.95880126953125,null],\"y\":[18.680267333984375,56.17936706542969,null],\"type\":\"scatter\"},{\"line\":{\"color\":\"cornflowerblue\",\"width\":0.10528706351947804},\"mode\":\"lines\",\"x\":[16.882583618164062,5.037303447723389,null],\"y\":[18.680267333984375,-4.934942245483398,null],\"type\":\"scatter\"},{\"line\":{\"color\":\"cornflowerblue\",\"width\":0.28829688185452285},\"mode\":\"lines\",\"x\":[16.882583618164062,12.821133613586426,null],\"y\":[18.680267333984375,40.63925552368164,null],\"type\":\"scatter\"},{\"line\":{\"color\":\"cornflowerblue\",\"width\":0.16894443492405314},\"mode\":\"lines\",\"x\":[16.882583618164062,122.25877380371094,null],\"y\":[18.680267333984375,-107.40074920654297,null],\"type\":\"scatter\"},{\"line\":{\"color\":\"cornflowerblue\",\"width\":0.22358617100087713},\"mode\":\"lines\",\"x\":[16.882583618164062,-23.71996307373047,null],\"y\":[18.680267333984375,32.529659271240234,null],\"type\":\"scatter\"},{\"line\":{\"color\":\"cornflowerblue\",\"width\":0},\"mode\":\"lines\",\"x\":[16.882583618164062,-21.57406234741211,null],\"y\":[18.680267333984375,-17.00296401977539,null],\"type\":\"scatter\"},{\"line\":{\"color\":\"cornflowerblue\",\"width\":0.28163086353322153},\"mode\":\"lines\",\"x\":[50.02238082885742,26.518817901611328,null],\"y\":[33.702144622802734,-61.81422424316406,null],\"type\":\"scatter\"},{\"line\":{\"color\":\"cornflowerblue\",\"width\":0.30077168237983193},\"mode\":\"lines\",\"x\":[50.02238082885742,56.34515380859375,null],\"y\":[33.702144622802734,-84.65728759765625,null],\"type\":\"scatter\"},{\"line\":{\"color\":\"cornflowerblue\",\"width\":0.3423666073998454},\"mode\":\"lines\",\"x\":[50.02238082885742,122.25877380371094,null],\"y\":[33.702144622802734,-107.40074920654297,null],\"type\":\"scatter\"},{\"line\":{\"color\":\"cornflowerblue\",\"width\":0.4050962716909254},\"mode\":\"lines\",\"x\":[50.02238082885742,-23.71996307373047,null],\"y\":[33.702144622802734,32.529659271240234,null],\"type\":\"scatter\"},{\"line\":{\"color\":\"cornflowerblue\",\"width\":0.43322367617885527},\"mode\":\"lines\",\"x\":[50.02238082885742,-11.216813087463379,null],\"y\":[33.702144622802734,-154.89227294921875,null],\"type\":\"scatter\"},{\"line\":{\"color\":\"cornflowerblue\",\"width\":0},\"mode\":\"lines\",\"x\":[50.02238082885742,-21.57406234741211,null],\"y\":[33.702144622802734,-17.00296401977539,null],\"type\":\"scatter\"},{\"line\":{\"color\":\"cornflowerblue\",\"width\":0.3136517527225272},\"mode\":\"lines\",\"x\":[-69.95880126953125,56.34515380859375,null],\"y\":[56.17936706542969,-84.65728759765625,null],\"type\":\"scatter\"},{\"line\":{\"color\":\"cornflowerblue\",\"width\":0.29984281348128716},\"mode\":\"lines\",\"x\":[-69.95880126953125,135.98934936523438,null],\"y\":[56.17936706542969,16.62999725341797,null],\"type\":\"scatter\"},{\"line\":{\"color\":\"cornflowerblue\",\"width\":0.3497083242800797},\"mode\":\"lines\",\"x\":[-69.95880126953125,88.70441436767578,null],\"y\":[56.17936706542969,136.3404083251953,null],\"type\":\"scatter\"},{\"line\":{\"color\":\"cornflowerblue\",\"width\":0.6161072129148429},\"mode\":\"lines\",\"x\":[-69.95880126953125,5.037303447723389,null],\"y\":[56.17936706542969,-4.934942245483398,null],\"type\":\"scatter\"},{\"line\":{\"color\":\"cornflowerblue\",\"width\":0},\"mode\":\"lines\",\"x\":[-69.95880126953125,-21.57406234741211,null],\"y\":[56.17936706542969,-17.00296401977539,null],\"type\":\"scatter\"},{\"line\":{\"color\":\"cornflowerblue\",\"width\":0.18064089276200737},\"mode\":\"lines\",\"x\":[135.98934936523438,5.037303447723389,null],\"y\":[16.62999725341797,-4.934942245483398,null],\"type\":\"scatter\"},{\"line\":{\"color\":\"cornflowerblue\",\"width\":0.30476608011077055},\"mode\":\"lines\",\"x\":[135.98934936523438,88.70441436767578,null],\"y\":[16.62999725341797,136.3404083251953,null],\"type\":\"scatter\"},{\"line\":{\"color\":\"cornflowerblue\",\"width\":0.23355724067282269},\"mode\":\"lines\",\"x\":[135.98934936523438,12.821133613586426,null],\"y\":[16.62999725341797,40.63925552368164,null],\"type\":\"scatter\"},{\"line\":{\"color\":\"cornflowerblue\",\"width\":0.29614669939171845},\"mode\":\"lines\",\"x\":[135.98934936523438,56.34515380859375,null],\"y\":[16.62999725341797,-84.65728759765625,null],\"type\":\"scatter\"},{\"line\":{\"color\":\"cornflowerblue\",\"width\":0},\"mode\":\"lines\",\"x\":[135.98934936523438,-21.57406234741211,null],\"y\":[16.62999725341797,-17.00296401977539,null],\"type\":\"scatter\"},{\"line\":{\"color\":\"cornflowerblue\",\"width\":0.194384391058182},\"mode\":\"lines\",\"x\":[-23.71996307373047,-11.216813087463379,null],\"y\":[32.529659271240234,-154.89227294921875,null],\"type\":\"scatter\"},{\"line\":{\"color\":\"cornflowerblue\",\"width\":0.4009236276442483},\"mode\":\"lines\",\"x\":[-23.71996307373047,12.821133613586426,null],\"y\":[32.529659271240234,40.63925552368164,null],\"type\":\"scatter\"},{\"line\":{\"color\":\"cornflowerblue\",\"width\":0.44480899657432793},\"mode\":\"lines\",\"x\":[-23.71996307373047,122.25877380371094,null],\"y\":[32.529659271240234,-107.40074920654297,null],\"type\":\"scatter\"},{\"line\":{\"color\":\"cornflowerblue\",\"width\":0},\"mode\":\"lines\",\"x\":[-23.71996307373047,-21.57406234741211,null],\"y\":[32.529659271240234,-17.00296401977539,null],\"type\":\"scatter\"},{\"line\":{\"color\":\"cornflowerblue\",\"width\":0.3092634625244202},\"mode\":\"lines\",\"x\":[56.34515380859375,5.037303447723389,null],\"y\":[-84.65728759765625,-4.934942245483398,null],\"type\":\"scatter\"},{\"line\":{\"color\":\"cornflowerblue\",\"width\":0.5587921577631774},\"mode\":\"lines\",\"x\":[56.34515380859375,8.328275680541992,null],\"y\":[-84.65728759765625,67.30243682861328,null],\"type\":\"scatter\"},{\"line\":{\"color\":\"cornflowerblue\",\"width\":0.394860175721499},\"mode\":\"lines\",\"x\":[56.34515380859375,-106.62833404541016,null],\"y\":[-84.65728759765625,6.821207046508789,null],\"type\":\"scatter\"},{\"line\":{\"color\":\"cornflowerblue\",\"width\":0.34953912466205733},\"mode\":\"lines\",\"x\":[56.34515380859375,39.27327346801758,null],\"y\":[-84.65728759765625,-34.42540740966797,null],\"type\":\"scatter\"},{\"line\":{\"color\":\"cornflowerblue\",\"width\":0.4175083993015798},\"mode\":\"lines\",\"x\":[56.34515380859375,88.70441436767578,null],\"y\":[-84.65728759765625,136.3404083251953,null],\"type\":\"scatter\"},{\"line\":{\"color\":\"cornflowerblue\",\"width\":0.2969496982049043},\"mode\":\"lines\",\"x\":[56.34515380859375,168.8450469970703,null],\"y\":[-84.65728759765625,57.75188064575195,null],\"type\":\"scatter\"},{\"line\":{\"color\":\"cornflowerblue\",\"width\":0},\"mode\":\"lines\",\"x\":[56.34515380859375,-137.02554321289062,null],\"y\":[-84.65728759765625,66.60595703125,null],\"type\":\"scatter\"},{\"line\":{\"color\":\"cornflowerblue\",\"width\":0.3711812750592292},\"mode\":\"lines\",\"x\":[88.70441436767578,5.037303447723389,null],\"y\":[136.3404083251953,-4.934942245483398,null],\"type\":\"scatter\"},{\"line\":{\"color\":\"cornflowerblue\",\"width\":0.1752962352241689},\"mode\":\"lines\",\"x\":[88.70441436767578,-106.62833404541016,null],\"y\":[136.3404083251953,6.821207046508789,null],\"type\":\"scatter\"},{\"line\":{\"color\":\"cornflowerblue\",\"width\":0},\"mode\":\"lines\",\"x\":[88.70441436767578,-21.57406234741211,null],\"y\":[136.3404083251953,-17.00296401977539,null],\"type\":\"scatter\"},{\"line\":{\"color\":\"cornflowerblue\",\"width\":0},\"mode\":\"lines\",\"x\":[5.037303447723389,-21.57406234741211,null],\"y\":[-4.934942245483398,-17.00296401977539,null],\"type\":\"scatter\"},{\"line\":{\"color\":\"cornflowerblue\",\"width\":0.31822259545411913},\"mode\":\"lines\",\"x\":[26.518817901611328,39.27327346801758,null],\"y\":[-61.81422424316406,-34.42540740966797,null],\"type\":\"scatter\"},{\"line\":{\"color\":\"cornflowerblue\",\"width\":0.2656890979360772},\"mode\":\"lines\",\"x\":[26.518817901611328,71.07559204101562,null],\"y\":[-61.81422424316406,-15.864188194274902,null],\"type\":\"scatter\"},{\"line\":{\"color\":\"cornflowerblue\",\"width\":0.3123384673253828},\"mode\":\"lines\",\"x\":[26.518817901611328,168.8450469970703,null],\"y\":[-61.81422424316406,57.75188064575195,null],\"type\":\"scatter\"},{\"line\":{\"color\":\"cornflowerblue\",\"width\":0.5716481097342351},\"mode\":\"lines\",\"x\":[26.518817901611328,128.7059783935547,null],\"y\":[-61.81422424316406,104.89427185058594,null],\"type\":\"scatter\"},{\"line\":{\"color\":\"cornflowerblue\",\"width\":0.21472828336562377},\"mode\":\"lines\",\"x\":[26.518817901611328,-11.216813087463379,null],\"y\":[-61.81422424316406,-154.89227294921875,null],\"type\":\"scatter\"},{\"line\":{\"color\":\"cornflowerblue\",\"width\":0.1740268126529006},\"mode\":\"lines\",\"x\":[26.518817901611328,-15.903101921081543,null],\"y\":[-61.81422424316406,-79.87010955810547,null],\"type\":\"scatter\"},{\"line\":{\"color\":\"cornflowerblue\",\"width\":0},\"mode\":\"lines\",\"x\":[26.518817901611328,-137.02554321289062,null],\"y\":[-61.81422424316406,66.60595703125,null],\"type\":\"scatter\"},{\"line\":{\"color\":\"cornflowerblue\",\"width\":0.2315783234633814},\"mode\":\"lines\",\"x\":[39.27327346801758,128.7059783935547,null],\"y\":[-34.42540740966797,104.89427185058594,null],\"type\":\"scatter\"},{\"line\":{\"color\":\"cornflowerblue\",\"width\":0.36758870276279576},\"mode\":\"lines\",\"x\":[39.27327346801758,8.328275680541992,null],\"y\":[-34.42540740966797,67.30243682861328,null],\"type\":\"scatter\"},{\"line\":{\"color\":\"cornflowerblue\",\"width\":0.30509953279191876},\"mode\":\"lines\",\"x\":[39.27327346801758,-106.62833404541016,null],\"y\":[-34.42540740966797,6.821207046508789,null],\"type\":\"scatter\"},{\"line\":{\"color\":\"cornflowerblue\",\"width\":0.21741310392489166},\"mode\":\"lines\",\"x\":[39.27327346801758,168.8450469970703,null],\"y\":[-34.42540740966797,57.75188064575195,null],\"type\":\"scatter\"},{\"line\":{\"color\":\"cornflowerblue\",\"width\":0.21580876447953085},\"mode\":\"lines\",\"x\":[39.27327346801758,71.07559204101562,null],\"y\":[-34.42540740966797,-15.864188194274902,null],\"type\":\"scatter\"},{\"line\":{\"color\":\"cornflowerblue\",\"width\":0},\"mode\":\"lines\",\"x\":[39.27327346801758,-137.02554321289062,null],\"y\":[-34.42540740966797,66.60595703125,null],\"type\":\"scatter\"},{\"line\":{\"color\":\"cornflowerblue\",\"width\":0.3623269999031737},\"mode\":\"lines\",\"x\":[71.07559204101562,128.7059783935547,null],\"y\":[-15.864188194274902,104.89427185058594,null],\"type\":\"scatter\"},{\"line\":{\"color\":\"cornflowerblue\",\"width\":0.2696561052641243},\"mode\":\"lines\",\"x\":[71.07559204101562,8.328275680541992,null],\"y\":[-15.864188194274902,67.30243682861328,null],\"type\":\"scatter\"},{\"line\":{\"color\":\"cornflowerblue\",\"width\":0.1834158426681595},\"mode\":\"lines\",\"x\":[71.07559204101562,168.8450469970703,null],\"y\":[-15.864188194274902,57.75188064575195,null],\"type\":\"scatter\"},{\"line\":{\"color\":\"cornflowerblue\",\"width\":0.16509538026717271},\"mode\":\"lines\",\"x\":[71.07559204101562,-15.903101921081543,null],\"y\":[-15.864188194274902,-79.87010955810547,null],\"type\":\"scatter\"},{\"line\":{\"color\":\"cornflowerblue\",\"width\":0},\"mode\":\"lines\",\"x\":[71.07559204101562,-137.02554321289062,null],\"y\":[-15.864188194274902,66.60595703125,null],\"type\":\"scatter\"},{\"line\":{\"color\":\"cornflowerblue\",\"width\":0.21334498126639265},\"mode\":\"lines\",\"x\":[168.8450469970703,128.7059783935547,null],\"y\":[57.75188064575195,104.89427185058594,null],\"type\":\"scatter\"},{\"line\":{\"color\":\"cornflowerblue\",\"width\":0.1851090757303556},\"mode\":\"lines\",\"x\":[168.8450469970703,-106.62833404541016,null],\"y\":[57.75188064575195,6.821207046508789,null],\"type\":\"scatter\"},{\"line\":{\"color\":\"cornflowerblue\",\"width\":0.27844415440928655},\"mode\":\"lines\",\"x\":[168.8450469970703,8.328275680541992,null],\"y\":[57.75188064575195,67.30243682861328,null],\"type\":\"scatter\"},{\"line\":{\"color\":\"cornflowerblue\",\"width\":0},\"mode\":\"lines\",\"x\":[168.8450469970703,-137.02554321289062,null],\"y\":[57.75188064575195,66.60595703125,null],\"type\":\"scatter\"},{\"line\":{\"color\":\"cornflowerblue\",\"width\":0.18253346298717982},\"mode\":\"lines\",\"x\":[128.7059783935547,-11.216813087463379,null],\"y\":[104.89427185058594,-154.89227294921875,null],\"type\":\"scatter\"},{\"line\":{\"color\":\"cornflowerblue\",\"width\":0.2153042006581885},\"mode\":\"lines\",\"x\":[128.7059783935547,8.328275680541992,null],\"y\":[104.89427185058594,67.30243682861328,null],\"type\":\"scatter\"},{\"line\":{\"color\":\"cornflowerblue\",\"width\":0.16343106625378676},\"mode\":\"lines\",\"x\":[128.7059783935547,-15.903101921081543,null],\"y\":[104.89427185058594,-79.87010955810547,null],\"type\":\"scatter\"},{\"line\":{\"color\":\"cornflowerblue\",\"width\":0},\"mode\":\"lines\",\"x\":[128.7059783935547,-137.02554321289062,null],\"y\":[104.89427185058594,66.60595703125,null],\"type\":\"scatter\"},{\"line\":{\"color\":\"cornflowerblue\",\"width\":0.4122126388523251},\"mode\":\"lines\",\"x\":[8.328275680541992,-106.62833404541016,null],\"y\":[67.30243682861328,6.821207046508789,null],\"type\":\"scatter\"},{\"line\":{\"color\":\"cornflowerblue\",\"width\":0.1758331593471009},\"mode\":\"lines\",\"x\":[8.328275680541992,-15.903101921081543,null],\"y\":[67.30243682861328,-79.87010955810547,null],\"type\":\"scatter\"},{\"line\":{\"color\":\"cornflowerblue\",\"width\":0},\"mode\":\"lines\",\"x\":[8.328275680541992,-137.02554321289062,null],\"y\":[67.30243682861328,66.60595703125,null],\"type\":\"scatter\"},{\"line\":{\"color\":\"cornflowerblue\",\"width\":0},\"mode\":\"lines\",\"x\":[-106.62833404541016,-137.02554321289062,null],\"y\":[6.821207046508789,66.60595703125,null],\"type\":\"scatter\"},{\"line\":{\"color\":\"cornflowerblue\",\"width\":0.25724608944403826},\"mode\":\"lines\",\"x\":[122.25877380371094,-11.216813087463379,null],\"y\":[-107.40074920654297,-154.89227294921875,null],\"type\":\"scatter\"},{\"line\":{\"color\":\"cornflowerblue\",\"width\":0.43131674055321284},\"mode\":\"lines\",\"x\":[122.25877380371094,12.821133613586426,null],\"y\":[-107.40074920654297,40.63925552368164,null],\"type\":\"scatter\"},{\"line\":{\"color\":\"cornflowerblue\",\"width\":0},\"mode\":\"lines\",\"x\":[122.25877380371094,-21.57406234741211,null],\"y\":[-107.40074920654297,-17.00296401977539,null],\"type\":\"scatter\"},{\"line\":{\"color\":\"cornflowerblue\",\"width\":0},\"mode\":\"lines\",\"x\":[-11.216813087463379,-21.57406234741211,null],\"y\":[-154.89227294921875,-17.00296401977539,null],\"type\":\"scatter\"},{\"line\":{\"color\":\"cornflowerblue\",\"width\":0},\"mode\":\"lines\",\"x\":[12.821133613586426,-21.57406234741211,null],\"y\":[40.63925552368164,-17.00296401977539,null],\"type\":\"scatter\"},{\"line\":{\"color\":\"cornflowerblue\",\"width\":0},\"mode\":\"lines\",\"x\":[-15.903101921081543,-137.02554321289062,null],\"y\":[-79.87010955810547,66.60595703125,null],\"type\":\"scatter\"},{\"hoverinfo\":\"text\",\"marker\":{\"color\":[0,1,0,0,0,0,0,1,0,0,1,1,1,1,1,1,1,0,0,0,1],\"opacity\":[0.6,0.6,0.6,0.6,0.6,0.6,0.6,0.6,0.6,0.6,0.6,0.6,0.6,0.6,0.6,0.6,0.6,0.6,0.6,0.6,0.6],\"size\":[27,30,15,26,21,17,23,29,12,11,14,8,6,5,9,24,3,18,1,20,2],\"symbol\":[0,0,0,0,0,0,0,0,0,0,0,0,0,0,0,0,0,0,0,0,0]},\"mode\":\"markers+text\",\"text\":[\"<b>Action</b>\",\"<b>Drama</b>\",\"<b>Sci-Fi</b>\",\"<b>Crime</b>\",\"<b>Adventure</b>\",\"<b>Fantasy</b>\",\"<b>Thriller</b>\",\"<b>Comedy</b>\",\"<b>Family</b>\",\"<b>Animation</b>\",\"<b>Biography</b>\",\"<b>Music</b>\",\"<b>War</b>\",\"<b>Sport</b>\",\"<b>History</b>\",\"<b>Romance</b>\",\"<b>Musical</b>\",\"<b>Mystery</b>\",\"<b>Film-Noir</b>\",\"<b>Horror</b>\",\"<b>Western</b>\"],\"textfont\":{\"size\":9},\"textposition\":\"top center\",\"x\":[50.051021575927734,-49.21186828613281,16.882583618164062,50.02238082885742,-69.95880126953125,135.98934936523438,-23.71996307373047,56.34515380859375,88.70441436767578,5.037303447723389,26.518817901611328,39.27327346801758,71.07559204101562,168.8450469970703,128.7059783935547,8.328275680541992,-106.62833404541016,122.25877380371094,-11.216813087463379,12.821133613586426,-15.903101921081543],\"y\":[5.55490255355835,-38.231990814208984,18.680267333984375,33.702144622802734,56.17936706542969,16.62999725341797,32.529659271240234,-84.65728759765625,136.3404083251953,-4.934942245483398,-61.81422424316406,-34.42540740966797,-15.864188194274902,57.75188064575195,104.89427185058594,67.30243682861328,6.821207046508789,-107.40074920654297,-154.89227294921875,40.63925552368164,-79.87010955810547],\"type\":\"scatter\"}],                        {\"height\":1000,\"width\":1000,\"xaxis\":{\"showgrid\":false,\"zeroline\":false,\"showticklabels\":false},\"yaxis\":{\"showgrid\":false,\"zeroline\":false,\"showticklabels\":false},\"template\":{\"data\":{\"barpolar\":[{\"marker\":{\"line\":{\"color\":\"rgb(17,17,17)\",\"width\":0.5},\"pattern\":{\"fillmode\":\"overlay\",\"size\":10,\"solidity\":0.2}},\"type\":\"barpolar\"}],\"bar\":[{\"error_x\":{\"color\":\"#f2f5fa\"},\"error_y\":{\"color\":\"#f2f5fa\"},\"marker\":{\"line\":{\"color\":\"rgb(17,17,17)\",\"width\":0.5},\"pattern\":{\"fillmode\":\"overlay\",\"size\":10,\"solidity\":0.2}},\"type\":\"bar\"}],\"carpet\":[{\"aaxis\":{\"endlinecolor\":\"#A2B1C6\",\"gridcolor\":\"#506784\",\"linecolor\":\"#506784\",\"minorgridcolor\":\"#506784\",\"startlinecolor\":\"#A2B1C6\"},\"baxis\":{\"endlinecolor\":\"#A2B1C6\",\"gridcolor\":\"#506784\",\"linecolor\":\"#506784\",\"minorgridcolor\":\"#506784\",\"startlinecolor\":\"#A2B1C6\"},\"type\":\"carpet\"}],\"choropleth\":[{\"colorbar\":{\"outlinewidth\":0,\"ticks\":\"\"},\"type\":\"choropleth\"}],\"contourcarpet\":[{\"colorbar\":{\"outlinewidth\":0,\"ticks\":\"\"},\"type\":\"contourcarpet\"}],\"contour\":[{\"colorbar\":{\"outlinewidth\":0,\"ticks\":\"\"},\"colorscale\":[[0.0,\"#0d0887\"],[0.1111111111111111,\"#46039f\"],[0.2222222222222222,\"#7201a8\"],[0.3333333333333333,\"#9c179e\"],[0.4444444444444444,\"#bd3786\"],[0.5555555555555556,\"#d8576b\"],[0.6666666666666666,\"#ed7953\"],[0.7777777777777778,\"#fb9f3a\"],[0.8888888888888888,\"#fdca26\"],[1.0,\"#f0f921\"]],\"type\":\"contour\"}],\"heatmapgl\":[{\"colorbar\":{\"outlinewidth\":0,\"ticks\":\"\"},\"colorscale\":[[0.0,\"#0d0887\"],[0.1111111111111111,\"#46039f\"],[0.2222222222222222,\"#7201a8\"],[0.3333333333333333,\"#9c179e\"],[0.4444444444444444,\"#bd3786\"],[0.5555555555555556,\"#d8576b\"],[0.6666666666666666,\"#ed7953\"],[0.7777777777777778,\"#fb9f3a\"],[0.8888888888888888,\"#fdca26\"],[1.0,\"#f0f921\"]],\"type\":\"heatmapgl\"}],\"heatmap\":[{\"colorbar\":{\"outlinewidth\":0,\"ticks\":\"\"},\"colorscale\":[[0.0,\"#0d0887\"],[0.1111111111111111,\"#46039f\"],[0.2222222222222222,\"#7201a8\"],[0.3333333333333333,\"#9c179e\"],[0.4444444444444444,\"#bd3786\"],[0.5555555555555556,\"#d8576b\"],[0.6666666666666666,\"#ed7953\"],[0.7777777777777778,\"#fb9f3a\"],[0.8888888888888888,\"#fdca26\"],[1.0,\"#f0f921\"]],\"type\":\"heatmap\"}],\"histogram2dcontour\":[{\"colorbar\":{\"outlinewidth\":0,\"ticks\":\"\"},\"colorscale\":[[0.0,\"#0d0887\"],[0.1111111111111111,\"#46039f\"],[0.2222222222222222,\"#7201a8\"],[0.3333333333333333,\"#9c179e\"],[0.4444444444444444,\"#bd3786\"],[0.5555555555555556,\"#d8576b\"],[0.6666666666666666,\"#ed7953\"],[0.7777777777777778,\"#fb9f3a\"],[0.8888888888888888,\"#fdca26\"],[1.0,\"#f0f921\"]],\"type\":\"histogram2dcontour\"}],\"histogram2d\":[{\"colorbar\":{\"outlinewidth\":0,\"ticks\":\"\"},\"colorscale\":[[0.0,\"#0d0887\"],[0.1111111111111111,\"#46039f\"],[0.2222222222222222,\"#7201a8\"],[0.3333333333333333,\"#9c179e\"],[0.4444444444444444,\"#bd3786\"],[0.5555555555555556,\"#d8576b\"],[0.6666666666666666,\"#ed7953\"],[0.7777777777777778,\"#fb9f3a\"],[0.8888888888888888,\"#fdca26\"],[1.0,\"#f0f921\"]],\"type\":\"histogram2d\"}],\"histogram\":[{\"marker\":{\"pattern\":{\"fillmode\":\"overlay\",\"size\":10,\"solidity\":0.2}},\"type\":\"histogram\"}],\"mesh3d\":[{\"colorbar\":{\"outlinewidth\":0,\"ticks\":\"\"},\"type\":\"mesh3d\"}],\"parcoords\":[{\"line\":{\"colorbar\":{\"outlinewidth\":0,\"ticks\":\"\"}},\"type\":\"parcoords\"}],\"pie\":[{\"automargin\":true,\"type\":\"pie\"}],\"scatter3d\":[{\"line\":{\"colorbar\":{\"outlinewidth\":0,\"ticks\":\"\"}},\"marker\":{\"colorbar\":{\"outlinewidth\":0,\"ticks\":\"\"}},\"type\":\"scatter3d\"}],\"scattercarpet\":[{\"marker\":{\"colorbar\":{\"outlinewidth\":0,\"ticks\":\"\"}},\"type\":\"scattercarpet\"}],\"scattergeo\":[{\"marker\":{\"colorbar\":{\"outlinewidth\":0,\"ticks\":\"\"}},\"type\":\"scattergeo\"}],\"scattergl\":[{\"marker\":{\"line\":{\"color\":\"#283442\"}},\"type\":\"scattergl\"}],\"scattermapbox\":[{\"marker\":{\"colorbar\":{\"outlinewidth\":0,\"ticks\":\"\"}},\"type\":\"scattermapbox\"}],\"scatterpolargl\":[{\"marker\":{\"colorbar\":{\"outlinewidth\":0,\"ticks\":\"\"}},\"type\":\"scatterpolargl\"}],\"scatterpolar\":[{\"marker\":{\"colorbar\":{\"outlinewidth\":0,\"ticks\":\"\"}},\"type\":\"scatterpolar\"}],\"scatter\":[{\"marker\":{\"line\":{\"color\":\"#283442\"}},\"type\":\"scatter\"}],\"scatterternary\":[{\"marker\":{\"colorbar\":{\"outlinewidth\":0,\"ticks\":\"\"}},\"type\":\"scatterternary\"}],\"surface\":[{\"colorbar\":{\"outlinewidth\":0,\"ticks\":\"\"},\"colorscale\":[[0.0,\"#0d0887\"],[0.1111111111111111,\"#46039f\"],[0.2222222222222222,\"#7201a8\"],[0.3333333333333333,\"#9c179e\"],[0.4444444444444444,\"#bd3786\"],[0.5555555555555556,\"#d8576b\"],[0.6666666666666666,\"#ed7953\"],[0.7777777777777778,\"#fb9f3a\"],[0.8888888888888888,\"#fdca26\"],[1.0,\"#f0f921\"]],\"type\":\"surface\"}],\"table\":[{\"cells\":{\"fill\":{\"color\":\"#506784\"},\"line\":{\"color\":\"rgb(17,17,17)\"}},\"header\":{\"fill\":{\"color\":\"#2a3f5f\"},\"line\":{\"color\":\"rgb(17,17,17)\"}},\"type\":\"table\"}]},\"layout\":{\"annotationdefaults\":{\"arrowcolor\":\"#f2f5fa\",\"arrowhead\":0,\"arrowwidth\":1},\"autotypenumbers\":\"strict\",\"coloraxis\":{\"colorbar\":{\"outlinewidth\":0,\"ticks\":\"\"}},\"colorscale\":{\"diverging\":[[0,\"#8e0152\"],[0.1,\"#c51b7d\"],[0.2,\"#de77ae\"],[0.3,\"#f1b6da\"],[0.4,\"#fde0ef\"],[0.5,\"#f7f7f7\"],[0.6,\"#e6f5d0\"],[0.7,\"#b8e186\"],[0.8,\"#7fbc41\"],[0.9,\"#4d9221\"],[1,\"#276419\"]],\"sequential\":[[0.0,\"#0d0887\"],[0.1111111111111111,\"#46039f\"],[0.2222222222222222,\"#7201a8\"],[0.3333333333333333,\"#9c179e\"],[0.4444444444444444,\"#bd3786\"],[0.5555555555555556,\"#d8576b\"],[0.6666666666666666,\"#ed7953\"],[0.7777777777777778,\"#fb9f3a\"],[0.8888888888888888,\"#fdca26\"],[1.0,\"#f0f921\"]],\"sequentialminus\":[[0.0,\"#0d0887\"],[0.1111111111111111,\"#46039f\"],[0.2222222222222222,\"#7201a8\"],[0.3333333333333333,\"#9c179e\"],[0.4444444444444444,\"#bd3786\"],[0.5555555555555556,\"#d8576b\"],[0.6666666666666666,\"#ed7953\"],[0.7777777777777778,\"#fb9f3a\"],[0.8888888888888888,\"#fdca26\"],[1.0,\"#f0f921\"]]},\"colorway\":[\"#636efa\",\"#EF553B\",\"#00cc96\",\"#ab63fa\",\"#FFA15A\",\"#19d3f3\",\"#FF6692\",\"#B6E880\",\"#FF97FF\",\"#FECB52\"],\"font\":{\"color\":\"#f2f5fa\"},\"geo\":{\"bgcolor\":\"rgb(17,17,17)\",\"lakecolor\":\"rgb(17,17,17)\",\"landcolor\":\"rgb(17,17,17)\",\"showlakes\":true,\"showland\":true,\"subunitcolor\":\"#506784\"},\"hoverlabel\":{\"align\":\"left\"},\"hovermode\":\"closest\",\"mapbox\":{\"style\":\"dark\"},\"paper_bgcolor\":\"rgb(17,17,17)\",\"plot_bgcolor\":\"rgb(17,17,17)\",\"polar\":{\"angularaxis\":{\"gridcolor\":\"#506784\",\"linecolor\":\"#506784\",\"ticks\":\"\"},\"bgcolor\":\"rgb(17,17,17)\",\"radialaxis\":{\"gridcolor\":\"#506784\",\"linecolor\":\"#506784\",\"ticks\":\"\"}},\"scene\":{\"xaxis\":{\"backgroundcolor\":\"rgb(17,17,17)\",\"gridcolor\":\"#506784\",\"gridwidth\":2,\"linecolor\":\"#506784\",\"showbackground\":true,\"ticks\":\"\",\"zerolinecolor\":\"#C8D4E3\"},\"yaxis\":{\"backgroundcolor\":\"rgb(17,17,17)\",\"gridcolor\":\"#506784\",\"gridwidth\":2,\"linecolor\":\"#506784\",\"showbackground\":true,\"ticks\":\"\",\"zerolinecolor\":\"#C8D4E3\"},\"zaxis\":{\"backgroundcolor\":\"rgb(17,17,17)\",\"gridcolor\":\"#506784\",\"gridwidth\":2,\"linecolor\":\"#506784\",\"showbackground\":true,\"ticks\":\"\",\"zerolinecolor\":\"#C8D4E3\"}},\"shapedefaults\":{\"line\":{\"color\":\"#f2f5fa\"}},\"sliderdefaults\":{\"bgcolor\":\"#C8D4E3\",\"bordercolor\":\"rgb(17,17,17)\",\"borderwidth\":1,\"tickwidth\":0},\"ternary\":{\"aaxis\":{\"gridcolor\":\"#506784\",\"linecolor\":\"#506784\",\"ticks\":\"\"},\"baxis\":{\"gridcolor\":\"#506784\",\"linecolor\":\"#506784\",\"ticks\":\"\"},\"bgcolor\":\"rgb(17,17,17)\",\"caxis\":{\"gridcolor\":\"#506784\",\"linecolor\":\"#506784\",\"ticks\":\"\"}},\"title\":{\"x\":0.05},\"updatemenudefaults\":{\"bgcolor\":\"#506784\",\"borderwidth\":0},\"xaxis\":{\"automargin\":true,\"gridcolor\":\"#283442\",\"linecolor\":\"#506784\",\"ticks\":\"\",\"title\":{\"standoff\":15},\"zerolinecolor\":\"#283442\",\"zerolinewidth\":2},\"yaxis\":{\"automargin\":true,\"gridcolor\":\"#283442\",\"linecolor\":\"#506784\",\"ticks\":\"\",\"title\":{\"standoff\":15},\"zerolinecolor\":\"#283442\",\"zerolinewidth\":2}}},\"showlegend\":false},                        {\"responsive\": true}                    ).then(function(){\n",
       "                            \n",
       "var gd = document.getElementById('9aeba03b-7d3f-4081-82bc-3ab3112bf054');\n",
       "var x = new MutationObserver(function (mutations, observer) {{\n",
       "        var display = window.getComputedStyle(gd).display;\n",
       "        if (!display || display === 'none') {{\n",
       "            console.log([gd, 'removed!']);\n",
       "            Plotly.purge(gd);\n",
       "            observer.disconnect();\n",
       "        }}\n",
       "}});\n",
       "\n",
       "// Listen for the removal of the full notebook cells\n",
       "var notebookContainer = gd.closest('#notebook-container');\n",
       "if (notebookContainer) {{\n",
       "    x.observe(notebookContainer, {childList: true});\n",
       "}}\n",
       "\n",
       "// Listen for the clearing of the current output cell\n",
       "var outputEl = gd.closest('.output');\n",
       "if (outputEl) {{\n",
       "    x.observe(outputEl, {childList: true});\n",
       "}}\n",
       "\n",
       "                        })                };                });            </script>        </div>"
      ]
     },
     "metadata": {},
     "output_type": "display_data"
    }
   ],
   "source": [
    "fig.show()"
   ]
  },
  {
   "cell_type": "code",
   "execution_count": 6,
   "id": "d355a2f8-de24-4ecd-851e-85422c09f742",
   "metadata": {},
   "outputs": [
    {
     "data": {
      "text/html": [
       "<div>\n",
       "<style scoped>\n",
       "    .dataframe tbody tr th:only-of-type {\n",
       "        vertical-align: middle;\n",
       "    }\n",
       "\n",
       "    .dataframe tbody tr th {\n",
       "        vertical-align: top;\n",
       "    }\n",
       "\n",
       "    .dataframe thead th {\n",
       "        text-align: right;\n",
       "    }\n",
       "</style>\n",
       "<table border=\"1\" class=\"dataframe\">\n",
       "  <thead>\n",
       "    <tr style=\"text-align: right;\">\n",
       "      <th></th>\n",
       "      <th>0</th>\n",
       "      <th>1</th>\n",
       "      <th>centrality</th>\n",
       "      <th>community</th>\n",
       "      <th>entity</th>\n",
       "      <th>size</th>\n",
       "    </tr>\n",
       "  </thead>\n",
       "  <tbody>\n",
       "    <tr>\n",
       "      <th>Action</th>\n",
       "      <td>-3.203862</td>\n",
       "      <td>-1.159245</td>\n",
       "      <td>29.0</td>\n",
       "      <td>1</td>\n",
       "      <td>1</td>\n",
       "      <td>30</td>\n",
       "    </tr>\n",
       "    <tr>\n",
       "      <th>USA</th>\n",
       "      <td>-2.739341</td>\n",
       "      <td>-2.364487</td>\n",
       "      <td>30.0</td>\n",
       "      <td>1</td>\n",
       "      <td>0</td>\n",
       "      <td>30</td>\n",
       "    </tr>\n",
       "    <tr>\n",
       "      <th>Adventure</th>\n",
       "      <td>-2.830848</td>\n",
       "      <td>0.158641</td>\n",
       "      <td>29.0</td>\n",
       "      <td>1</td>\n",
       "      <td>1</td>\n",
       "      <td>28</td>\n",
       "    </tr>\n",
       "    <tr>\n",
       "      <th>Crime</th>\n",
       "      <td>-4.828079</td>\n",
       "      <td>-4.673138</td>\n",
       "      <td>28.0</td>\n",
       "      <td>5</td>\n",
       "      <td>1</td>\n",
       "      <td>29</td>\n",
       "    </tr>\n",
       "    <tr>\n",
       "      <th>China</th>\n",
       "      <td>-6.835649</td>\n",
       "      <td>1.657612</td>\n",
       "      <td>15.0</td>\n",
       "      <td>9</td>\n",
       "      <td>0</td>\n",
       "      <td>22</td>\n",
       "    </tr>\n",
       "    <tr>\n",
       "      <th>...</th>\n",
       "      <td>...</td>\n",
       "      <td>...</td>\n",
       "      <td>...</td>\n",
       "      <td>...</td>\n",
       "      <td>...</td>\n",
       "      <td>...</td>\n",
       "    </tr>\n",
       "    <tr>\n",
       "      <th>network_center_5</th>\n",
       "      <td>-6.434970</td>\n",
       "      <td>-3.541419</td>\n",
       "      <td>NaN</td>\n",
       "      <td>5</td>\n",
       "      <td>centroid</td>\n",
       "      <td>1</td>\n",
       "    </tr>\n",
       "    <tr>\n",
       "      <th>network_center_6</th>\n",
       "      <td>-0.055485</td>\n",
       "      <td>4.143098</td>\n",
       "      <td>NaN</td>\n",
       "      <td>6</td>\n",
       "      <td>centroid</td>\n",
       "      <td>1</td>\n",
       "    </tr>\n",
       "    <tr>\n",
       "      <th>network_center_7</th>\n",
       "      <td>6.095755</td>\n",
       "      <td>-3.428873</td>\n",
       "      <td>NaN</td>\n",
       "      <td>7</td>\n",
       "      <td>centroid</td>\n",
       "      <td>1</td>\n",
       "    </tr>\n",
       "    <tr>\n",
       "      <th>network_center_8</th>\n",
       "      <td>1.897201</td>\n",
       "      <td>-6.759901</td>\n",
       "      <td>NaN</td>\n",
       "      <td>8</td>\n",
       "      <td>centroid</td>\n",
       "      <td>1</td>\n",
       "    </tr>\n",
       "    <tr>\n",
       "      <th>network_center_9</th>\n",
       "      <td>-7.213910</td>\n",
       "      <td>1.684428</td>\n",
       "      <td>NaN</td>\n",
       "      <td>9</td>\n",
       "      <td>centroid</td>\n",
       "      <td>1</td>\n",
       "    </tr>\n",
       "  </tbody>\n",
       "</table>\n",
       "<p>110 rows × 6 columns</p>\n",
       "</div>"
      ],
      "text/plain": [
       "                         0         1  centrality  community    entity  size\n",
       "Action           -3.203862 -1.159245        29.0          1         1    30\n",
       "USA              -2.739341 -2.364487        30.0          1         0    30\n",
       "Adventure        -2.830848  0.158641        29.0          1         1    28\n",
       "Crime            -4.828079 -4.673138        28.0          5         1    29\n",
       "China            -6.835649  1.657612        15.0          9         0    22\n",
       "...                    ...       ...         ...        ...       ...   ...\n",
       "network_center_5 -6.434970 -3.541419         NaN          5  centroid     1\n",
       "network_center_6 -0.055485  4.143098         NaN          6  centroid     1\n",
       "network_center_7  6.095755 -3.428873         NaN          7  centroid     1\n",
       "network_center_8  1.897201 -6.759901         NaN          8  centroid     1\n",
       "network_center_9 -7.213910  1.684428         NaN          9  centroid     1\n",
       "\n",
       "[110 rows x 6 columns]"
      ]
     },
     "execution_count": 6,
     "metadata": {},
     "output_type": "execute_result"
    }
   ],
   "source": [
    "net.df_node"
   ]
  },
  {
   "cell_type": "code",
   "execution_count": null,
   "id": "5391d4a9-9adb-46e9-9b48-677296216ac1",
   "metadata": {},
   "outputs": [],
   "source": []
  }
 ],
 "metadata": {
  "kernelspec": {
   "display_name": "Python 3 (ipykernel)",
   "language": "python",
   "name": "python3"
  },
  "language_info": {
   "codemirror_mode": {
    "name": "ipython",
    "version": 3
   },
   "file_extension": ".py",
   "mimetype": "text/x-python",
   "name": "python",
   "nbconvert_exporter": "python",
   "pygments_lexer": "ipython3",
   "version": "3.8.2"
  }
 },
 "nbformat": 4,
 "nbformat_minor": 5
}
