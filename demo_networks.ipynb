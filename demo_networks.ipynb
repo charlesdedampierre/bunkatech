{
 "cells": [
  {
   "cell_type": "code",
   "execution_count": 1,
   "id": "a0e43bb4-4116-40e5-8785-550dfa22ca59",
   "metadata": {},
   "outputs": [],
   "source": [
    "from bunkatech.networks.network_class import SemanticNetwork\n",
    "import pandas as pd\n",
    "import networkx as nx\n",
    "\n",
    "data = pd.read_csv(\n",
    "    \"/Users/charlesdedampierre/Desktop/ENS Projects/imaginary-world/db_film_iw (2).csv\",\n",
    "    index_col=[0],\n",
    ")\n",
    "\n",
    "data = data[['imdb', 'genre', 'country']].copy().dropna()\n",
    "data['genre'] = data['genre'].apply(lambda x: x.split(', '))\n",
    "data['country'] = data['country'].apply(lambda x: x.split(', '))\n",
    "data = data.explode('genre')\n",
    "data = data.explode('country')\n"
   ]
  },
  {
   "cell_type": "code",
   "execution_count": 3,
   "id": "d355a2f8-de24-4ecd-851e-85422c09f742",
   "metadata": {},
   "outputs": [
    {
     "data": {
      "application/vnd.jupyter.widget-view+json": {
       "model_id": "2efbaa1ab90b4fe3a7f16fe7082990d7",
       "version_major": 2,
       "version_minor": 0
      },
      "text/plain": [
       "Computing transition probabilities:   0%|          | 0/98 [00:00<?, ?it/s]"
      ]
     },
     "metadata": {},
     "output_type": "display_data"
    },
    {
     "name": "stderr",
     "output_type": "stream",
     "text": [
      "\n",
      "Generating walks (CPU: 1):   0%|          | 0/2 [00:00<?, ?it/s]\n",
      "Generating walks (CPU: 2):   0%|          | 0/2 [00:00<?, ?it/s]\n",
      "Generating walks (CPU: 3):   0%|          | 0/1 [00:00<?, ?it/s]\n",
      "Generating walks (CPU: 1): 100%|██████████| 2/2 [00:00<00:00, 20.38it/s]\n",
      "Generating walks (CPU: 4): 100%|██████████| 1/1 [00:00<00:00, 22.76it/s]\n",
      "Generating walks (CPU: 5): 100%|██████████| 1/1 [00:00<00:00, 27.19it/s]\n",
      "Generating walks (CPU: 6): 100%|██████████| 1/1 [00:00<00:00, 27.94it/s]\n",
      "Generating walks (CPU: 8): 100%|██████████| 1/1 [00:00<00:00, 30.42it/s]"
     ]
    },
    {
     "data": {
      "application/vnd.jupyter.widget-view+json": {
       "model_id": "1f2115a3f5ff428bac92b560b963d72e",
       "version_major": 2,
       "version_minor": 0
      },
      "text/plain": [
       "Computing transition probabilities:   0%|          | 0/108 [00:00<?, ?it/s]"
      ]
     },
     "metadata": {},
     "output_type": "display_data"
    },
    {
     "name": "stderr",
     "output_type": "stream",
     "text": [
      "\n",
      "Generating walks (CPU: 1):   0%|          | 0/2 [00:00<?, ?it/s]\n",
      "Generating walks (CPU: 2):   0%|          | 0/2 [00:00<?, ?it/s]\n",
      "Generating walks (CPU: 3):   0%|          | 0/1 [00:00<?, ?it/s]\n",
      "Generating walks (CPU: 3): 100%|██████████| 1/1 [00:00<00:00, 11.98it/s]\n",
      "Generating walks (CPU: 4): 100%|██████████| 1/1 [00:00<00:00, 13.14it/s]\n",
      "Generating walks (CPU: 5): 100%|██████████| 1/1 [00:00<00:00, 16.35it/s]\n",
      "Generating walks (CPU: 6): 100%|██████████| 1/1 [00:00<00:00, 17.20it/s]\n",
      "Generating walks (CPU: 8): 100%|██████████| 1/1 [00:00<00:00, 20.99it/s]"
     ]
    },
    {
     "data": {
      "application/vnd.plotly.v1+json": {
       "config": {
        "plotlyServerURL": "https://plot.ly"
       },
       "data": [
        {
         "line": {
          "color": "cornflowerblue",
          "width": 0.6954798547756316
         },
         "mode": "lines",
         "type": "scatter",
         "x": [
          -3.025320053100586,
          -0.695706844329834,
          null
         ],
         "y": [
          -3.402789354324341,
          -3.8832733631134033,
          null
         ]
        },
        {
         "line": {
          "color": "cornflowerblue",
          "width": 0.7956917453825592
         },
         "mode": "lines",
         "type": "scatter",
         "x": [
          -3.025320053100586,
          0.7593147158622742,
          null
         ],
         "y": [
          -3.402789354324341,
          -4.895992279052734,
          null
         ]
        },
        {
         "line": {
          "color": "cornflowerblue",
          "width": 0.5320678324896667
         },
         "mode": "lines",
         "type": "scatter",
         "x": [
          -3.025320053100586,
          -2.382744550704956,
          null
         ],
         "y": [
          -3.402789354324341,
          -2.972510814666748,
          null
         ]
        },
        {
         "line": {
          "color": "cornflowerblue",
          "width": 0.7705434091937515
         },
         "mode": "lines",
         "type": "scatter",
         "x": [
          -3.025320053100586,
          -4.462895393371582,
          null
         ],
         "y": [
          -3.402789354324341,
          1.043902039527893,
          null
         ]
        },
        {
         "line": {
          "color": "cornflowerblue",
          "width": 0.9342003778519445
         },
         "mode": "lines",
         "type": "scatter",
         "x": [
          -3.025320053100586,
          -2.6546692848205566,
          null
         ],
         "y": [
          -3.402789354324341,
          -3.3455584049224854,
          null
         ]
        },
        {
         "line": {
          "color": "cornflowerblue",
          "width": 0.741581746239736
         },
         "mode": "lines",
         "type": "scatter",
         "x": [
          -3.025320053100586,
          -2.8954691886901855,
          null
         ],
         "y": [
          -3.402789354324341,
          -2.4151504039764404,
          null
         ]
        },
        {
         "line": {
          "color": "cornflowerblue",
          "width": 0.4966151125133465
         },
         "mode": "lines",
         "type": "scatter",
         "x": [
          -3.025320053100586,
          1.7392162084579468,
          null
         ],
         "y": [
          -3.402789354324341,
          -7.298854351043701,
          null
         ]
        },
        {
         "line": {
          "color": "cornflowerblue",
          "width": 0
         },
         "mode": "lines",
         "type": "scatter",
         "x": [
          -3.025320053100586,
          -1.0601037740707397,
          null
         ],
         "y": [
          -3.402789354324341,
          -2.278170585632324,
          null
         ]
        },
        {
         "line": {
          "color": "cornflowerblue",
          "width": 0.803640414622122
         },
         "mode": "lines",
         "type": "scatter",
         "x": [
          -0.695706844329834,
          -2.123562812805176,
          null
         ],
         "y": [
          -3.8832733631134033,
          -1.7770745754241943,
          null
         ]
        },
        {
         "line": {
          "color": "cornflowerblue",
          "width": 1.0174727956125078
         },
         "mode": "lines",
         "type": "scatter",
         "x": [
          -0.695706844329834,
          -0.42609289288520813,
          null
         ],
         "y": [
          -3.8832733631134033,
          -1.6907260417938232,
          null
         ]
        },
        {
         "line": {
          "color": "cornflowerblue",
          "width": 1.2734162472360238
         },
         "mode": "lines",
         "type": "scatter",
         "x": [
          -0.695706844329834,
          -0.6112854480743408,
          null
         ],
         "y": [
          -3.8832733631134033,
          -1.3087753057479858,
          null
         ]
        },
        {
         "line": {
          "color": "cornflowerblue",
          "width": 0.9404970674275586
         },
         "mode": "lines",
         "type": "scatter",
         "x": [
          -0.695706844329834,
          -6.404237270355225,
          null
         ],
         "y": [
          -3.8832733631134033,
          -5.919153213500977,
          null
         ]
        },
        {
         "line": {
          "color": "cornflowerblue",
          "width": 0.9526215350815781
         },
         "mode": "lines",
         "type": "scatter",
         "x": [
          -0.695706844329834,
          -0.6384429335594177,
          null
         ],
         "y": [
          -3.8832733631134033,
          -2.491394519805908,
          null
         ]
        },
        {
         "line": {
          "color": "cornflowerblue",
          "width": 0.9500866167643858
         },
         "mode": "lines",
         "type": "scatter",
         "x": [
          -0.695706844329834,
          -1.0004652738571167,
          null
         ],
         "y": [
          -3.8832733631134033,
          -0.915282130241394,
          null
         ]
        },
        {
         "line": {
          "color": "cornflowerblue",
          "width": 1.0148170906985354
         },
         "mode": "lines",
         "type": "scatter",
         "x": [
          -0.695706844329834,
          -1.9475975036621094,
          null
         ],
         "y": [
          -3.8832733631134033,
          -0.8779391050338745,
          null
         ]
        },
        {
         "line": {
          "color": "cornflowerblue",
          "width": 0.7899429133911848
         },
         "mode": "lines",
         "type": "scatter",
         "x": [
          -0.695706844329834,
          -2.419635057449341,
          null
         ],
         "y": [
          -3.8832733631134033,
          -4.468696117401123,
          null
         ]
        },
        {
         "line": {
          "color": "cornflowerblue",
          "width": 0.907512648973051
         },
         "mode": "lines",
         "type": "scatter",
         "x": [
          -0.695706844329834,
          5.643202304840088,
          null
         ],
         "y": [
          -3.8832733631134033,
          -7.1055216789245605,
          null
         ]
        },
        {
         "line": {
          "color": "cornflowerblue",
          "width": 1.3212273281657403
         },
         "mode": "lines",
         "type": "scatter",
         "x": [
          -0.695706844329834,
          0.7359210252761841,
          null
         ],
         "y": [
          -3.8832733631134033,
          -2.4273197650909424,
          null
         ]
        },
        {
         "line": {
          "color": "cornflowerblue",
          "width": 0.7557941138137699
         },
         "mode": "lines",
         "type": "scatter",
         "x": [
          -0.695706844329834,
          -0.6591405272483826,
          null
         ],
         "y": [
          -3.8832733631134033,
          -8.202556610107422,
          null
         ]
        },
        {
         "line": {
          "color": "cornflowerblue",
          "width": 1.2583295886363626
         },
         "mode": "lines",
         "type": "scatter",
         "x": [
          -0.695706844329834,
          0.02812773548066616,
          null
         ],
         "y": [
          -3.8832733631134033,
          -3.478724718093872,
          null
         ]
        },
        {
         "line": {
          "color": "cornflowerblue",
          "width": 0.5605449145731597
         },
         "mode": "lines",
         "type": "scatter",
         "x": [
          -0.695706844329834,
          1.106619119644165,
          null
         ],
         "y": [
          -3.8832733631134033,
          -3.8142035007476807,
          null
         ]
        },
        {
         "line": {
          "color": "cornflowerblue",
          "width": 1.0688999482689436
         },
         "mode": "lines",
         "type": "scatter",
         "x": [
          -0.695706844329834,
          1.3652284145355225,
          null
         ],
         "y": [
          -3.8832733631134033,
          -3.590304136276245,
          null
         ]
        },
        {
         "line": {
          "color": "cornflowerblue",
          "width": 0.9109624076689832
         },
         "mode": "lines",
         "type": "scatter",
         "x": [
          -0.695706844329834,
          -0.05931005999445915,
          null
         ],
         "y": [
          -3.8832733631134033,
          3.714719295501709,
          null
         ]
        },
        {
         "line": {
          "color": "cornflowerblue",
          "width": 1.525958135069418
         },
         "mode": "lines",
         "type": "scatter",
         "x": [
          -0.695706844329834,
          -2.6546692848205566,
          null
         ],
         "y": [
          -3.8832733631134033,
          -3.3455584049224854,
          null
         ]
        },
        {
         "line": {
          "color": "cornflowerblue",
          "width": 1.9427388273331032
         },
         "mode": "lines",
         "type": "scatter",
         "x": [
          -0.695706844329834,
          -1.684312105178833,
          null
         ],
         "y": [
          -3.8832733631134033,
          -2.9888062477111816,
          null
         ]
        },
        {
         "line": {
          "color": "cornflowerblue",
          "width": 0.5770093999526553
         },
         "mode": "lines",
         "type": "scatter",
         "x": [
          -0.695706844329834,
          -2.8954691886901855,
          null
         ],
         "y": [
          -3.8832733631134033,
          -2.4151504039764404,
          null
         ]
        },
        {
         "line": {
          "color": "cornflowerblue",
          "width": 1.0608381711235766
         },
         "mode": "lines",
         "type": "scatter",
         "x": [
          -0.695706844329834,
          0.37457114458084106,
          null
         ],
         "y": [
          -3.8832733631134033,
          -1.6131783723831177,
          null
         ]
        },
        {
         "line": {
          "color": "cornflowerblue",
          "width": 0.6694083358418318
         },
         "mode": "lines",
         "type": "scatter",
         "x": [
          -0.695706844329834,
          5.511551856994629,
          null
         ],
         "y": [
          -3.8832733631134033,
          -6.968996524810791,
          null
         ]
        },
        {
         "line": {
          "color": "cornflowerblue",
          "width": 0.9508036172245449
         },
         "mode": "lines",
         "type": "scatter",
         "x": [
          -0.695706844329834,
          0.1870143860578537,
          null
         ],
         "y": [
          -3.8832733631134033,
          -6.369262218475342,
          null
         ]
        },
        {
         "line": {
          "color": "cornflowerblue",
          "width": 1.131843078592527
         },
         "mode": "lines",
         "type": "scatter",
         "x": [
          -0.695706844329834,
          -2.163369655609131,
          null
         ],
         "y": [
          -3.8832733631134033,
          -4.109903335571289,
          null
         ]
        },
        {
         "line": {
          "color": "cornflowerblue",
          "width": 1.3724608179088116
         },
         "mode": "lines",
         "type": "scatter",
         "x": [
          -0.695706844329834,
          -1.8085951805114746,
          null
         ],
         "y": [
          -3.8832733631134033,
          -3.729217529296875,
          null
         ]
        },
        {
         "line": {
          "color": "cornflowerblue",
          "width": 1.305834628957185
         },
         "mode": "lines",
         "type": "scatter",
         "x": [
          -0.695706844329834,
          0.2706189751625061,
          null
         ],
         "y": [
          -3.8832733631134033,
          -3.2082691192626953,
          null
         ]
        },
        {
         "line": {
          "color": "cornflowerblue",
          "width": 1.3130945459705317
         },
         "mode": "lines",
         "type": "scatter",
         "x": [
          -0.695706844329834,
          4.842525482177734,
          null
         ],
         "y": [
          -3.8832733631134033,
          -6.549506664276123,
          null
         ]
        },
        {
         "line": {
          "color": "cornflowerblue",
          "width": 1.0279896695525939
         },
         "mode": "lines",
         "type": "scatter",
         "x": [
          -0.695706844329834,
          0.7593147158622742,
          null
         ],
         "y": [
          -3.8832733631134033,
          -4.895992279052734,
          null
         ]
        },
        {
         "line": {
          "color": "cornflowerblue",
          "width": 0.7742138853506682
         },
         "mode": "lines",
         "type": "scatter",
         "x": [
          -0.695706844329834,
          -2.1417486667633057,
          null
         ],
         "y": [
          -3.8832733631134033,
          -1.0157002210617065,
          null
         ]
        },
        {
         "line": {
          "color": "cornflowerblue",
          "width": 1.045240422491517
         },
         "mode": "lines",
         "type": "scatter",
         "x": [
          -0.695706844329834,
          -5.791920185089111,
          null
         ],
         "y": [
          -3.8832733631134033,
          -6.406492710113525,
          null
         ]
        },
        {
         "line": {
          "color": "cornflowerblue",
          "width": 0.8034613966712748
         },
         "mode": "lines",
         "type": "scatter",
         "x": [
          -0.695706844329834,
          -4.890204906463623,
          null
         ],
         "y": [
          -3.8832733631134033,
          -6.221857070922852,
          null
         ]
        },
        {
         "line": {
          "color": "cornflowerblue",
          "width": 1.4992888222889929
         },
         "mode": "lines",
         "type": "scatter",
         "x": [
          -0.695706844329834,
          -2.916576385498047,
          null
         ],
         "y": [
          -3.8832733631134033,
          -2.7157065868377686,
          null
         ]
        },
        {
         "line": {
          "color": "cornflowerblue",
          "width": 1.8133035439289498
         },
         "mode": "lines",
         "type": "scatter",
         "x": [
          -0.695706844329834,
          -2.382744550704956,
          null
         ],
         "y": [
          -3.8832733631134033,
          -2.972510814666748,
          null
         ]
        },
        {
         "line": {
          "color": "cornflowerblue",
          "width": 0.7097969792294546
         },
         "mode": "lines",
         "type": "scatter",
         "x": [
          -0.695706844329834,
          -4.6838507652282715,
          null
         ],
         "y": [
          -3.8832733631134033,
          1.1470887660980225,
          null
         ]
        },
        {
         "line": {
          "color": "cornflowerblue",
          "width": 1.2774318695102327
         },
         "mode": "lines",
         "type": "scatter",
         "x": [
          -0.695706844329834,
          4.053683280944824,
          null
         ],
         "y": [
          -3.8832733631134033,
          -3.584167957305908,
          null
         ]
        },
        {
         "line": {
          "color": "cornflowerblue",
          "width": 0.9729398799084927
         },
         "mode": "lines",
         "type": "scatter",
         "x": [
          -0.695706844329834,
          -3.1496315002441406,
          null
         ],
         "y": [
          -3.8832733631134033,
          -10.181135177612305,
          null
         ]
        },
        {
         "line": {
          "color": "cornflowerblue",
          "width": 0.8753981405097295
         },
         "mode": "lines",
         "type": "scatter",
         "x": [
          -0.695706844329834,
          0.11800596117973328,
          null
         ],
         "y": [
          -3.8832733631134033,
          -6.167614936828613,
          null
         ]
        },
        {
         "line": {
          "color": "cornflowerblue",
          "width": 0.7683295050963241
         },
         "mode": "lines",
         "type": "scatter",
         "x": [
          -0.695706844329834,
          -2.2358944416046143,
          null
         ],
         "y": [
          -3.8832733631134033,
          -2.6037206649780273,
          null
         ]
        },
        {
         "line": {
          "color": "cornflowerblue",
          "width": 1.3574099064521072
         },
         "mode": "lines",
         "type": "scatter",
         "x": [
          -0.695706844329834,
          -0.1273382604122162,
          null
         ],
         "y": [
          -3.8832733631134033,
          -2.524526596069336,
          null
         ]
        },
        {
         "line": {
          "color": "cornflowerblue",
          "width": 1.1133391874966185
         },
         "mode": "lines",
         "type": "scatter",
         "x": [
          -0.695706844329834,
          -0.7350497245788574,
          null
         ],
         "y": [
          -3.8832733631134033,
          -5.138309478759766,
          null
         ]
        },
        {
         "line": {
          "color": "cornflowerblue",
          "width": 0.39131622604103156
         },
         "mode": "lines",
         "type": "scatter",
         "x": [
          -0.695706844329834,
          -0.2520357370376587,
          null
         ],
         "y": [
          -3.8832733631134033,
          -8.291696548461914,
          null
         ]
        },
        {
         "line": {
          "color": "cornflowerblue",
          "width": 0
         },
         "mode": "lines",
         "type": "scatter",
         "x": [
          -0.695706844329834,
          -1.0601037740707397,
          null
         ],
         "y": [
          -3.8832733631134033,
          -2.278170585632324,
          null
         ]
        },
        {
         "line": {
          "color": "cornflowerblue",
          "width": 1.2294306702850926
         },
         "mode": "lines",
         "type": "scatter",
         "x": [
          0.7593147158622742,
          1.1390436887741089,
          null
         ],
         "y": [
          -4.895992279052734,
          -7.128432273864746,
          null
         ]
        },
        {
         "line": {
          "color": "cornflowerblue",
          "width": 0.948699250514714
         },
         "mode": "lines",
         "type": "scatter",
         "x": [
          0.7593147158622742,
          4.323518753051758,
          null
         ],
         "y": [
          -4.895992279052734,
          -3.3379104137420654,
          null
         ]
        },
        {
         "line": {
          "color": "cornflowerblue",
          "width": 0.7287055481550908
         },
         "mode": "lines",
         "type": "scatter",
         "x": [
          0.7593147158622742,
          0.0731186494231224,
          null
         ],
         "y": [
          -4.895992279052734,
          3.723130226135254,
          null
         ]
        },
        {
         "line": {
          "color": "cornflowerblue",
          "width": 0.7329301788295579
         },
         "mode": "lines",
         "type": "scatter",
         "x": [
          0.7593147158622742,
          0.5415882468223572,
          null
         ],
         "y": [
          -4.895992279052734,
          3.622282028198242,
          null
         ]
        },
        {
         "line": {
          "color": "cornflowerblue",
          "width": 0.7052823117930274
         },
         "mode": "lines",
         "type": "scatter",
         "x": [
          0.7593147158622742,
          -0.2766866683959961,
          null
         ],
         "y": [
          -4.895992279052734,
          -4.681640148162842,
          null
         ]
        },
        {
         "line": {
          "color": "cornflowerblue",
          "width": 0.9583212630273852
         },
         "mode": "lines",
         "type": "scatter",
         "x": [
          0.7593147158622742,
          -1.8085951805114746,
          null
         ],
         "y": [
          -4.895992279052734,
          -3.729217529296875,
          null
         ]
        },
        {
         "line": {
          "color": "cornflowerblue",
          "width": 1.0469384761777034
         },
         "mode": "lines",
         "type": "scatter",
         "x": [
          0.7593147158622742,
          0.02812773548066616,
          null
         ],
         "y": [
          -4.895992279052734,
          -3.478724718093872,
          null
         ]
        },
        {
         "line": {
          "color": "cornflowerblue",
          "width": 1.108558235764875
         },
         "mode": "lines",
         "type": "scatter",
         "x": [
          0.7593147158622742,
          0.09857194125652313,
          null
         ],
         "y": [
          -4.895992279052734,
          -4.941972255706787,
          null
         ]
        },
        {
         "line": {
          "color": "cornflowerblue",
          "width": 0.7714178087256442
         },
         "mode": "lines",
         "type": "scatter",
         "x": [
          0.7593147158622742,
          1.3407062292099,
          null
         ],
         "y": [
          -4.895992279052734,
          -5.794181823730469,
          null
         ]
        },
        {
         "line": {
          "color": "cornflowerblue",
          "width": 0.8976316200917364
         },
         "mode": "lines",
         "type": "scatter",
         "x": [
          0.7593147158622742,
          -2.2358944416046143,
          null
         ],
         "y": [
          -4.895992279052734,
          -2.6037206649780273,
          null
         ]
        },
        {
         "line": {
          "color": "cornflowerblue",
          "width": 0.37396005621870704
         },
         "mode": "lines",
         "type": "scatter",
         "x": [
          0.7593147158622742,
          3.2814278602600098,
          null
         ],
         "y": [
          -4.895992279052734,
          1.4431389570236206,
          null
         ]
        },
        {
         "line": {
          "color": "cornflowerblue",
          "width": 0
         },
         "mode": "lines",
         "type": "scatter",
         "x": [
          0.7593147158622742,
          1.0052075386047363,
          null
         ],
         "y": [
          -4.895992279052734,
          -8.030531883239746,
          null
         ]
        },
        {
         "line": {
          "color": "cornflowerblue",
          "width": 0.9371647175106057
         },
         "mode": "lines",
         "type": "scatter",
         "x": [
          -2.382744550704956,
          -0.6112854480743408,
          null
         ],
         "y": [
          -2.972510814666748,
          -1.3087753057479858,
          null
         ]
        },
        {
         "line": {
          "color": "cornflowerblue",
          "width": 1.2893864752134
         },
         "mode": "lines",
         "type": "scatter",
         "x": [
          -2.382744550704956,
          -1.684312105178833,
          null
         ],
         "y": [
          -2.972510814666748,
          -2.9888062477111816,
          null
         ]
        },
        {
         "line": {
          "color": "cornflowerblue",
          "width": 0.5783431590163871
         },
         "mode": "lines",
         "type": "scatter",
         "x": [
          -2.382744550704956,
          -2.163369655609131,
          null
         ],
         "y": [
          -2.972510814666748,
          -4.109903335571289,
          null
         ]
        },
        {
         "line": {
          "color": "cornflowerblue",
          "width": 0.8396551225340774
         },
         "mode": "lines",
         "type": "scatter",
         "x": [
          -2.382744550704956,
          -2.916576385498047,
          null
         ],
         "y": [
          -2.972510814666748,
          -2.7157065868377686,
          null
         ]
        },
        {
         "line": {
          "color": "cornflowerblue",
          "width": 0.8536582513481448
         },
         "mode": "lines",
         "type": "scatter",
         "x": [
          -2.382744550704956,
          -2.6546692848205566,
          null
         ],
         "y": [
          -2.972510814666748,
          -3.3455584049224854,
          null
         ]
        },
        {
         "line": {
          "color": "cornflowerblue",
          "width": 1.0272873140736338
         },
         "mode": "lines",
         "type": "scatter",
         "x": [
          -2.382744550704956,
          -0.1273382604122162,
          null
         ],
         "y": [
          -2.972510814666748,
          -2.524526596069336,
          null
         ]
        },
        {
         "line": {
          "color": "cornflowerblue",
          "width": 0
         },
         "mode": "lines",
         "type": "scatter",
         "x": [
          -2.382744550704956,
          -1.0601037740707397,
          null
         ],
         "y": [
          -2.972510814666748,
          -2.278170585632324,
          null
         ]
        },
        {
         "line": {
          "color": "cornflowerblue",
          "width": 1.2127454521849192
         },
         "mode": "lines",
         "type": "scatter",
         "x": [
          -4.462895393371582,
          -4.572055339813232,
          null
         ],
         "y": [
          1.043902039527893,
          1.424369215965271,
          null
         ]
        },
        {
         "line": {
          "color": "cornflowerblue",
          "width": 0.9936424984295074
         },
         "mode": "lines",
         "type": "scatter",
         "x": [
          -4.462895393371582,
          -1.0004652738571167,
          null
         ],
         "y": [
          1.043902039527893,
          -0.915282130241394,
          null
         ]
        },
        {
         "line": {
          "color": "cornflowerblue",
          "width": 1.5509830657324937
         },
         "mode": "lines",
         "type": "scatter",
         "x": [
          -4.462895393371582,
          -4.974451065063477,
          null
         ],
         "y": [
          1.043902039527893,
          1.329877257347107,
          null
         ]
        },
        {
         "line": {
          "color": "cornflowerblue",
          "width": 1.2643450512232475
         },
         "mode": "lines",
         "type": "scatter",
         "x": [
          -4.462895393371582,
          -5.686635971069336,
          null
         ],
         "y": [
          1.043902039527893,
          1.0812551975250244,
          null
         ]
        },
        {
         "line": {
          "color": "cornflowerblue",
          "width": 1.2303802517273064
         },
         "mode": "lines",
         "type": "scatter",
         "x": [
          -4.462895393371582,
          -4.863575458526611,
          null
         ],
         "y": [
          1.043902039527893,
          1.8526055812835693,
          null
         ]
        },
        {
         "line": {
          "color": "cornflowerblue",
          "width": 1.536126966800755
         },
         "mode": "lines",
         "type": "scatter",
         "x": [
          -4.462895393371582,
          -4.6838507652282715,
          null
         ],
         "y": [
          1.043902039527893,
          1.1470887660980225,
          null
         ]
        },
        {
         "line": {
          "color": "cornflowerblue",
          "width": 1.1406213934353344
         },
         "mode": "lines",
         "type": "scatter",
         "x": [
          -4.462895393371582,
          -0.1273382604122162,
          null
         ],
         "y": [
          1.043902039527893,
          -2.524526596069336,
          null
         ]
        },
        {
         "line": {
          "color": "cornflowerblue",
          "width": 0.5044766374784826
         },
         "mode": "lines",
         "type": "scatter",
         "x": [
          -4.462895393371582,
          -5.987621307373047,
          null
         ],
         "y": [
          1.043902039527893,
          -5.304370403289795,
          null
         ]
        },
        {
         "line": {
          "color": "cornflowerblue",
          "width": 0.6804749416503424
         },
         "mode": "lines",
         "type": "scatter",
         "x": [
          -4.462895393371582,
          -1.5755537748336792,
          null
         ],
         "y": [
          1.043902039527893,
          -0.28668516874313354,
          null
         ]
        },
        {
         "line": {
          "color": "cornflowerblue",
          "width": 1.0034794952108954
         },
         "mode": "lines",
         "type": "scatter",
         "x": [
          -4.462895393371582,
          -3.261085033416748,
          null
         ],
         "y": [
          1.043902039527893,
          -9.968637466430664,
          null
         ]
        },
        {
         "line": {
          "color": "cornflowerblue",
          "width": 0.23814805628977065
         },
         "mode": "lines",
         "type": "scatter",
         "x": [
          -4.462895393371582,
          -5.688165664672852,
          null
         ],
         "y": [
          1.043902039527893,
          1.4192664623260498,
          null
         ]
        },
        {
         "line": {
          "color": "cornflowerblue",
          "width": 0.8535016771249686
         },
         "mode": "lines",
         "type": "scatter",
         "x": [
          -4.462895393371582,
          -3.8458964824676514,
          null
         ],
         "y": [
          1.043902039527893,
          1.0176095962524414,
          null
         ]
        },
        {
         "line": {
          "color": "cornflowerblue",
          "width": 0
         },
         "mode": "lines",
         "type": "scatter",
         "x": [
          -4.462895393371582,
          -5.33353328704834,
          null
         ],
         "y": [
          1.043902039527893,
          0.6507877111434937,
          null
         ]
        },
        {
         "line": {
          "color": "cornflowerblue",
          "width": 1.052162679117791
         },
         "mode": "lines",
         "type": "scatter",
         "x": [
          -2.6546692848205566,
          -2.419635057449341,
          null
         ],
         "y": [
          -3.3455584049224854,
          -4.468696117401123,
          null
         ]
        },
        {
         "line": {
          "color": "cornflowerblue",
          "width": 0.9466744502610733
         },
         "mode": "lines",
         "type": "scatter",
         "x": [
          -2.6546692848205566,
          -1.684312105178833,
          null
         ],
         "y": [
          -3.3455584049224854,
          -2.9888062477111816,
          null
         ]
        },
        {
         "line": {
          "color": "cornflowerblue",
          "width": 0.9192268068403837
         },
         "mode": "lines",
         "type": "scatter",
         "x": [
          -2.6546692848205566,
          -1.8085951805114746,
          null
         ],
         "y": [
          -3.3455584049224854,
          -3.729217529296875,
          null
         ]
        },
        {
         "line": {
          "color": "cornflowerblue",
          "width": 1.1209107976624655
         },
         "mode": "lines",
         "type": "scatter",
         "x": [
          -2.6546692848205566,
          -2.916576385498047,
          null
         ],
         "y": [
          -3.3455584049224854,
          -2.7157065868377686,
          null
         ]
        },
        {
         "line": {
          "color": "cornflowerblue",
          "width": 0
         },
         "mode": "lines",
         "type": "scatter",
         "x": [
          -2.6546692848205566,
          -1.0601037740707397,
          null
         ],
         "y": [
          -3.3455584049224854,
          -2.278170585632324,
          null
         ]
        },
        {
         "line": {
          "color": "cornflowerblue",
          "width": 0.5527829782807926
         },
         "mode": "lines",
         "type": "scatter",
         "x": [
          -2.8954691886901855,
          0.02812773548066616,
          null
         ],
         "y": [
          -2.4151504039764404,
          -3.478724718093872,
          null
         ]
        },
        {
         "line": {
          "color": "cornflowerblue",
          "width": 0.6266052752191489
         },
         "mode": "lines",
         "type": "scatter",
         "x": [
          -2.8954691886901855,
          -5.686635971069336,
          null
         ],
         "y": [
          -2.4151504039764404,
          1.0812551975250244,
          null
         ]
        },
        {
         "line": {
          "color": "cornflowerblue",
          "width": 0.7303030873693646
         },
         "mode": "lines",
         "type": "scatter",
         "x": [
          -2.8954691886901855,
          -0.1273382604122162,
          null
         ],
         "y": [
          -2.4151504039764404,
          -2.524526596069336,
          null
         ]
        },
        {
         "line": {
          "color": "cornflowerblue",
          "width": 0.5852970379371413
         },
         "mode": "lines",
         "type": "scatter",
         "x": [
          -2.8954691886901855,
          -2.2358944416046143,
          null
         ],
         "y": [
          -2.4151504039764404,
          -2.6037206649780273,
          null
         ]
        },
        {
         "line": {
          "color": "cornflowerblue",
          "width": 0.2550995978913997
         },
         "mode": "lines",
         "type": "scatter",
         "x": [
          -2.8954691886901855,
          -5.688165664672852,
          null
         ],
         "y": [
          -2.4151504039764404,
          1.4192664623260498,
          null
         ]
        },
        {
         "line": {
          "color": "cornflowerblue",
          "width": 0
         },
         "mode": "lines",
         "type": "scatter",
         "x": [
          -2.8954691886901855,
          -1.0601037740707397,
          null
         ],
         "y": [
          -2.4151504039764404,
          -2.278170585632324,
          null
         ]
        },
        {
         "line": {
          "color": "cornflowerblue",
          "width": 0.8546866514510072
         },
         "mode": "lines",
         "type": "scatter",
         "x": [
          0.539480984210968,
          0.09857194125652313,
          null
         ],
         "y": [
          -7.247027397155762,
          -4.941972255706787,
          null
         ]
        },
        {
         "line": {
          "color": "cornflowerblue",
          "width": 0.47339541763662185
         },
         "mode": "lines",
         "type": "scatter",
         "x": [
          0.539480984210968,
          1.6747220754623413,
          null
         ],
         "y": [
          -7.247027397155762,
          -6.464766979217529,
          null
         ]
        },
        {
         "line": {
          "color": "cornflowerblue",
          "width": 0.6556447232702325
         },
         "mode": "lines",
         "type": "scatter",
         "x": [
          0.539480984210968,
          1.6242096424102783,
          null
         ],
         "y": [
          -7.247027397155762,
          -7.151811599731445,
          null
         ]
        },
        {
         "line": {
          "color": "cornflowerblue",
          "width": 0.48631483299412853
         },
         "mode": "lines",
         "type": "scatter",
         "x": [
          0.539480984210968,
          1.0597984790802002,
          null
         ],
         "y": [
          -7.247027397155762,
          -7.382706642150879,
          null
         ]
        },
        {
         "line": {
          "color": "cornflowerblue",
          "width": 0.8453301029487272
         },
         "mode": "lines",
         "type": "scatter",
         "x": [
          0.539480984210968,
          1.1390436887741089,
          null
         ],
         "y": [
          -7.247027397155762,
          -7.128432273864746,
          null
         ]
        },
        {
         "line": {
          "color": "cornflowerblue",
          "width": 0.7126236047631309
         },
         "mode": "lines",
         "type": "scatter",
         "x": [
          0.539480984210968,
          0.39786961674690247,
          null
         ],
         "y": [
          -7.247027397155762,
          -7.830792427062988,
          null
         ]
        },
        {
         "line": {
          "color": "cornflowerblue",
          "width": 0
         },
         "mode": "lines",
         "type": "scatter",
         "x": [
          0.539480984210968,
          1.0052075386047363,
          null
         ],
         "y": [
          -7.247027397155762,
          -8.030531883239746,
          null
         ]
        },
        {
         "line": {
          "color": "cornflowerblue",
          "width": 1.2415100114342847
         },
         "mode": "lines",
         "type": "scatter",
         "x": [
          0.09857194125652313,
          1.0597984790802002,
          null
         ],
         "y": [
          -4.941972255706787,
          -7.382706642150879,
          null
         ]
        },
        {
         "line": {
          "color": "cornflowerblue",
          "width": 0.8483654078689565
         },
         "mode": "lines",
         "type": "scatter",
         "x": [
          0.09857194125652313,
          -5.793375492095947,
          null
         ],
         "y": [
          -4.941972255706787,
          -6.179808616638184,
          null
         ]
        },
        {
         "line": {
          "color": "cornflowerblue",
          "width": 1.0466825829395283
         },
         "mode": "lines",
         "type": "scatter",
         "x": [
          0.09857194125652313,
          -0.4601374864578247,
          null
         ],
         "y": [
          -4.941972255706787,
          -6.281803131103516,
          null
         ]
        },
        {
         "line": {
          "color": "cornflowerblue",
          "width": 1.7315504154522274
         },
         "mode": "lines",
         "type": "scatter",
         "x": [
          0.09857194125652313,
          1.1390436887741089,
          null
         ],
         "y": [
          -4.941972255706787,
          -7.128432273864746,
          null
         ]
        },
        {
         "line": {
          "color": "cornflowerblue",
          "width": 1.1981827415540314
         },
         "mode": "lines",
         "type": "scatter",
         "x": [
          0.09857194125652313,
          -6.404237270355225,
          null
         ],
         "y": [
          -4.941972255706787,
          -5.919153213500977,
          null
         ]
        },
        {
         "line": {
          "color": "cornflowerblue",
          "width": 0.8103631496742205
         },
         "mode": "lines",
         "type": "scatter",
         "x": [
          0.09857194125652313,
          4.7516703605651855,
          null
         ],
         "y": [
          -4.941972255706787,
          -3.4347987174987793,
          null
         ]
        },
        {
         "line": {
          "color": "cornflowerblue",
          "width": 0.9023681987640457
         },
         "mode": "lines",
         "type": "scatter",
         "x": [
          0.09857194125652313,
          -4.728614807128906,
          null
         ],
         "y": [
          -4.941972255706787,
          -6.334270477294922,
          null
         ]
        },
        {
         "line": {
          "color": "cornflowerblue",
          "width": 0.8784525141383001
         },
         "mode": "lines",
         "type": "scatter",
         "x": [
          0.09857194125652313,
          -0.6384429335594177,
          null
         ],
         "y": [
          -4.941972255706787,
          -2.491394519805908,
          null
         ]
        },
        {
         "line": {
          "color": "cornflowerblue",
          "width": 0.8510584423847388
         },
         "mode": "lines",
         "type": "scatter",
         "x": [
          0.09857194125652313,
          -2.419635057449341,
          null
         ],
         "y": [
          -4.941972255706787,
          -4.468696117401123,
          null
         ]
        },
        {
         "line": {
          "color": "cornflowerblue",
          "width": 0.9837263273769997
         },
         "mode": "lines",
         "type": "scatter",
         "x": [
          0.09857194125652313,
          -5.2080864906311035,
          null
         ],
         "y": [
          -4.941972255706787,
          -6.200881004333496,
          null
         ]
        },
        {
         "line": {
          "color": "cornflowerblue",
          "width": 1.2157099988204583
         },
         "mode": "lines",
         "type": "scatter",
         "x": [
          0.09857194125652313,
          4.323518753051758,
          null
         ],
         "y": [
          -4.941972255706787,
          -3.3379104137420654,
          null
         ]
        },
        {
         "line": {
          "color": "cornflowerblue",
          "width": 1.3660647643248789
         },
         "mode": "lines",
         "type": "scatter",
         "x": [
          0.09857194125652313,
          5.643202304840088,
          null
         ],
         "y": [
          -4.941972255706787,
          -7.1055216789245605,
          null
         ]
        },
        {
         "line": {
          "color": "cornflowerblue",
          "width": 0.9970866510201357
         },
         "mode": "lines",
         "type": "scatter",
         "x": [
          0.09857194125652313,
          0.7359210252761841,
          null
         ],
         "y": [
          -4.941972255706787,
          -2.4273197650909424,
          null
         ]
        },
        {
         "line": {
          "color": "cornflowerblue",
          "width": 0.2690080422842688
         },
         "mode": "lines",
         "type": "scatter",
         "x": [
          0.09857194125652313,
          -0.0815376415848732,
          null
         ],
         "y": [
          -4.941972255706787,
          -8.81507682800293,
          null
         ]
        },
        {
         "line": {
          "color": "cornflowerblue",
          "width": 0.567475221091706
         },
         "mode": "lines",
         "type": "scatter",
         "x": [
          0.09857194125652313,
          -0.7015998363494873,
          null
         ],
         "y": [
          -4.941972255706787,
          -3.307401180267334,
          null
         ]
        },
        {
         "line": {
          "color": "cornflowerblue",
          "width": 1.7204800850636075
         },
         "mode": "lines",
         "type": "scatter",
         "x": [
          0.09857194125652313,
          -0.7350497245788574,
          null
         ],
         "y": [
          -4.941972255706787,
          -5.138309478759766,
          null
         ]
        },
        {
         "line": {
          "color": "cornflowerblue",
          "width": 1.4762891197454142
         },
         "mode": "lines",
         "type": "scatter",
         "x": [
          0.09857194125652313,
          0.39786961674690247,
          null
         ],
         "y": [
          -4.941972255706787,
          -7.830792427062988,
          null
         ]
        },
        {
         "line": {
          "color": "cornflowerblue",
          "width": 1.4434095063622572
         },
         "mode": "lines",
         "type": "scatter",
         "x": [
          0.09857194125652313,
          1.6242096424102783,
          null
         ],
         "y": [
          -4.941972255706787,
          -7.151811599731445,
          null
         ]
        },
        {
         "line": {
          "color": "cornflowerblue",
          "width": 1.712176301889614
         },
         "mode": "lines",
         "type": "scatter",
         "x": [
          0.09857194125652313,
          0.1870143860578537,
          null
         ],
         "y": [
          -4.941972255706787,
          -6.369262218475342,
          null
         ]
        },
        {
         "line": {
          "color": "cornflowerblue",
          "width": 1.4270697249198532
         },
         "mode": "lines",
         "type": "scatter",
         "x": [
          0.09857194125652313,
          -1.8085951805114746,
          null
         ],
         "y": [
          -4.941972255706787,
          -3.729217529296875,
          null
         ]
        },
        {
         "line": {
          "color": "cornflowerblue",
          "width": 1.2295837638675138
         },
         "mode": "lines",
         "type": "scatter",
         "x": [
          0.09857194125652313,
          0.02812773548066616,
          null
         ],
         "y": [
          -4.941972255706787,
          -3.478724718093872,
          null
         ]
        },
        {
         "line": {
          "color": "cornflowerblue",
          "width": 0.8163045143266299
         },
         "mode": "lines",
         "type": "scatter",
         "x": [
          0.09857194125652313,
          1.106619119644165,
          null
         ],
         "y": [
          -4.941972255706787,
          -3.8142035007476807,
          null
         ]
        },
        {
         "line": {
          "color": "cornflowerblue",
          "width": 0.9431582973151716
         },
         "mode": "lines",
         "type": "scatter",
         "x": [
          0.09857194125652313,
          1.3652284145355225,
          null
         ],
         "y": [
          -4.941972255706787,
          -3.590304136276245,
          null
         ]
        },
        {
         "line": {
          "color": "cornflowerblue",
          "width": 0.49119411801962054
         },
         "mode": "lines",
         "type": "scatter",
         "x": [
          0.09857194125652313,
          1.7392162084579468,
          null
         ],
         "y": [
          -4.941972255706787,
          -7.298854351043701,
          null
         ]
        },
        {
         "line": {
          "color": "cornflowerblue",
          "width": 0.8564559258822406
         },
         "mode": "lines",
         "type": "scatter",
         "x": [
          0.09857194125652313,
          -0.2766866683959961,
          null
         ],
         "y": [
          -4.941972255706787,
          -4.681640148162842,
          null
         ]
        },
        {
         "line": {
          "color": "cornflowerblue",
          "width": 1.2470198519221132
         },
         "mode": "lines",
         "type": "scatter",
         "x": [
          0.09857194125652313,
          5.781284809112549,
          null
         ],
         "y": [
          -4.941972255706787,
          -7.476600646972656,
          null
         ]
        },
        {
         "line": {
          "color": "cornflowerblue",
          "width": 1.1878117216744615
         },
         "mode": "lines",
         "type": "scatter",
         "x": [
          0.09857194125652313,
          0.2706189751625061,
          null
         ],
         "y": [
          -4.941972255706787,
          -3.2082691192626953,
          null
         ]
        },
        {
         "line": {
          "color": "cornflowerblue",
          "width": 1.10887777155257
         },
         "mode": "lines",
         "type": "scatter",
         "x": [
          0.09857194125652313,
          1.6747220754623413,
          null
         ],
         "y": [
          -4.941972255706787,
          -6.464766979217529,
          null
         ]
        },
        {
         "line": {
          "color": "cornflowerblue",
          "width": 0.6402409408187982
         },
         "mode": "lines",
         "type": "scatter",
         "x": [
          0.09857194125652313,
          0.16153889894485474,
          null
         ],
         "y": [
          -4.941972255706787,
          3.7165751457214355,
          null
         ]
        },
        {
         "line": {
          "color": "cornflowerblue",
          "width": 0.5304974119127555
         },
         "mode": "lines",
         "type": "scatter",
         "x": [
          0.09857194125652313,
          1.3407062292099,
          null
         ],
         "y": [
          -4.941972255706787,
          -5.794181823730469,
          null
         ]
        },
        {
         "line": {
          "color": "cornflowerblue",
          "width": 0.8452745651015878
         },
         "mode": "lines",
         "type": "scatter",
         "x": [
          0.09857194125652313,
          -4.890204906463623,
          null
         ],
         "y": [
          -4.941972255706787,
          -6.221857070922852,
          null
         ]
        },
        {
         "line": {
          "color": "cornflowerblue",
          "width": 1.0017570003188696
         },
         "mode": "lines",
         "type": "scatter",
         "x": [
          0.09857194125652313,
          -0.08317464590072632,
          null
         ],
         "y": [
          -4.941972255706787,
          -7.529576301574707,
          null
         ]
        },
        {
         "line": {
          "color": "cornflowerblue",
          "width": 1.1427358004744905
         },
         "mode": "lines",
         "type": "scatter",
         "x": [
          0.09857194125652313,
          0.9181256294250488,
          null
         ],
         "y": [
          -4.941972255706787,
          -6.51785945892334,
          null
         ]
        },
        {
         "line": {
          "color": "cornflowerblue",
          "width": 1.2188346224093012
         },
         "mode": "lines",
         "type": "scatter",
         "x": [
          0.09857194125652313,
          4.5785908699035645,
          null
         ],
         "y": [
          -4.941972255706787,
          -4.128320693969727,
          null
         ]
        },
        {
         "line": {
          "color": "cornflowerblue",
          "width": 1.1674370167308332
         },
         "mode": "lines",
         "type": "scatter",
         "x": [
          0.09857194125652313,
          4.570398330688477,
          null
         ],
         "y": [
          -4.941972255706787,
          -3.268995523452759,
          null
         ]
        },
        {
         "line": {
          "color": "cornflowerblue",
          "width": 1.1389981920796362
         },
         "mode": "lines",
         "type": "scatter",
         "x": [
          0.09857194125652313,
          -0.41577109694480896,
          null
         ],
         "y": [
          -4.941972255706787,
          -7.202605724334717,
          null
         ]
        },
        {
         "line": {
          "color": "cornflowerblue",
          "width": 0.6174453312848509
         },
         "mode": "lines",
         "type": "scatter",
         "x": [
          0.09857194125652313,
          4.0417160987854,
          null
         ],
         "y": [
          -4.941972255706787,
          -3.198374032974243,
          null
         ]
        },
        {
         "line": {
          "color": "cornflowerblue",
          "width": 1.0918401057412446
         },
         "mode": "lines",
         "type": "scatter",
         "x": [
          0.09857194125652313,
          4.053683280944824,
          null
         ],
         "y": [
          -4.941972255706787,
          -3.584167957305908,
          null
         ]
        },
        {
         "line": {
          "color": "cornflowerblue",
          "width": 0.9362442748487925
         },
         "mode": "lines",
         "type": "scatter",
         "x": [
          0.09857194125652313,
          -6.335114479064941,
          null
         ],
         "y": [
          -4.941972255706787,
          -5.957523822784424,
          null
         ]
        },
        {
         "line": {
          "color": "cornflowerblue",
          "width": 1.0398893034331582
         },
         "mode": "lines",
         "type": "scatter",
         "x": [
          0.09857194125652313,
          0.11800596117973328,
          null
         ],
         "y": [
          -4.941972255706787,
          -6.167614936828613,
          null
         ]
        },
        {
         "line": {
          "color": "cornflowerblue",
          "width": 0.7835840498210337
         },
         "mode": "lines",
         "type": "scatter",
         "x": [
          0.09857194125652313,
          -2.2358944416046143,
          null
         ],
         "y": [
          -4.941972255706787,
          -2.6037206649780273,
          null
         ]
        },
        {
         "line": {
          "color": "cornflowerblue",
          "width": 0.2742350482143879
         },
         "mode": "lines",
         "type": "scatter",
         "x": [
          0.09857194125652313,
          3.2814278602600098,
          null
         ],
         "y": [
          -4.941972255706787,
          1.4431389570236206,
          null
         ]
        },
        {
         "line": {
          "color": "cornflowerblue",
          "width": 0.7424231646564976
         },
         "mode": "lines",
         "type": "scatter",
         "x": [
          0.09857194125652313,
          -0.2520357370376587,
          null
         ],
         "y": [
          -4.941972255706787,
          -8.291696548461914,
          null
         ]
        },
        {
         "line": {
          "color": "cornflowerblue",
          "width": 0
         },
         "mode": "lines",
         "type": "scatter",
         "x": [
          0.09857194125652313,
          1.0052075386047363,
          null
         ],
         "y": [
          -4.941972255706787,
          -8.030531883239746,
          null
         ]
        },
        {
         "line": {
          "color": "cornflowerblue",
          "width": 0.5247863217472024
         },
         "mode": "lines",
         "type": "scatter",
         "x": [
          1.6747220754623413,
          1.0597984790802002,
          null
         ],
         "y": [
          -6.464766979217529,
          -7.382706642150879,
          null
         ]
        },
        {
         "line": {
          "color": "cornflowerblue",
          "width": 0.8289748876763758
         },
         "mode": "lines",
         "type": "scatter",
         "x": [
          1.6747220754623413,
          -0.4601374864578247,
          null
         ],
         "y": [
          -6.464766979217529,
          -6.281803131103516,
          null
         ]
        },
        {
         "line": {
          "color": "cornflowerblue",
          "width": 0.8051729454907446
         },
         "mode": "lines",
         "type": "scatter",
         "x": [
          1.6747220754623413,
          -0.41577109694480896,
          null
         ],
         "y": [
          -6.464766979217529,
          -7.202605724334717,
          null
         ]
        },
        {
         "line": {
          "color": "cornflowerblue",
          "width": 0.7482769347971747
         },
         "mode": "lines",
         "type": "scatter",
         "x": [
          1.6747220754623413,
          0.1870143860578537,
          null
         ],
         "y": [
          -6.464766979217529,
          -6.369262218475342,
          null
         ]
        },
        {
         "line": {
          "color": "cornflowerblue",
          "width": 0.6839343494051991
         },
         "mode": "lines",
         "type": "scatter",
         "x": [
          1.6747220754623413,
          0.11800596117973328,
          null
         ],
         "y": [
          -6.464766979217529,
          -6.167614936828613,
          null
         ]
        },
        {
         "line": {
          "color": "cornflowerblue",
          "width": 0.8870147071574891
         },
         "mode": "lines",
         "type": "scatter",
         "x": [
          1.6747220754623413,
          1.1390436887741089,
          null
         ],
         "y": [
          -6.464766979217529,
          -7.128432273864746,
          null
         ]
        },
        {
         "line": {
          "color": "cornflowerblue",
          "width": 0
         },
         "mode": "lines",
         "type": "scatter",
         "x": [
          1.6747220754623413,
          1.0052075386047363,
          null
         ],
         "y": [
          -6.464766979217529,
          -8.030531883239746,
          null
         ]
        },
        {
         "line": {
          "color": "cornflowerblue",
          "width": 0.6887158766722441
         },
         "mode": "lines",
         "type": "scatter",
         "x": [
          1.6242096424102783,
          1.0597984790802002,
          null
         ],
         "y": [
          -7.151811599731445,
          -7.382706642150879,
          null
         ]
        },
        {
         "line": {
          "color": "cornflowerblue",
          "width": 1.0752453488380165
         },
         "mode": "lines",
         "type": "scatter",
         "x": [
          1.6242096424102783,
          1.1390436887741089,
          null
         ],
         "y": [
          -7.151811599731445,
          -7.128432273864746,
          null
         ]
        },
        {
         "line": {
          "color": "cornflowerblue",
          "width": 0.3201512915641449
         },
         "mode": "lines",
         "type": "scatter",
         "x": [
          1.6242096424102783,
          1.7392162084579468,
          null
         ],
         "y": [
          -7.151811599731445,
          -7.298854351043701,
          null
         ]
        },
        {
         "line": {
          "color": "cornflowerblue",
          "width": 1.1622185306297788
         },
         "mode": "lines",
         "type": "scatter",
         "x": [
          1.6242096424102783,
          0.39786961674690247,
          null
         ],
         "y": [
          -7.151811599731445,
          -7.830792427062988,
          null
         ]
        },
        {
         "line": {
          "color": "cornflowerblue",
          "width": 0.7009988063778054
         },
         "mode": "lines",
         "type": "scatter",
         "x": [
          1.6242096424102783,
          0.9181256294250488,
          null
         ],
         "y": [
          -7.151811599731445,
          -6.51785945892334,
          null
         ]
        },
        {
         "line": {
          "color": "cornflowerblue",
          "width": 1.0857478360155157
         },
         "mode": "lines",
         "type": "scatter",
         "x": [
          1.6242096424102783,
          4.5785908699035645,
          null
         ],
         "y": [
          -7.151811599731445,
          -4.128320693969727,
          null
         ]
        },
        {
         "line": {
          "color": "cornflowerblue",
          "width": 0.6927441451177689
         },
         "mode": "lines",
         "type": "scatter",
         "x": [
          1.6242096424102783,
          -0.011628356762230396,
          null
         ],
         "y": [
          -7.151811599731445,
          3.68748140335083,
          null
         ]
        },
        {
         "line": {
          "color": "cornflowerblue",
          "width": 0.7377247942836425
         },
         "mode": "lines",
         "type": "scatter",
         "x": [
          1.6242096424102783,
          -0.7350497245788574,
          null
         ],
         "y": [
          -7.151811599731445,
          -5.138309478759766,
          null
         ]
        },
        {
         "line": {
          "color": "cornflowerblue",
          "width": 0.7137609201896244
         },
         "mode": "lines",
         "type": "scatter",
         "x": [
          1.6242096424102783,
          0.1870143860578537,
          null
         ],
         "y": [
          -7.151811599731445,
          -6.369262218475342,
          null
         ]
        },
        {
         "line": {
          "color": "cornflowerblue",
          "width": 0
         },
         "mode": "lines",
         "type": "scatter",
         "x": [
          1.6242096424102783,
          1.0052075386047363,
          null
         ],
         "y": [
          -7.151811599731445,
          -8.030531883239746,
          null
         ]
        },
        {
         "line": {
          "color": "cornflowerblue",
          "width": 0.646517857125348
         },
         "mode": "lines",
         "type": "scatter",
         "x": [
          1.0597984790802002,
          -0.7350497245788574,
          null
         ],
         "y": [
          -7.382706642150879,
          -5.138309478759766,
          null
         ]
        },
        {
         "line": {
          "color": "cornflowerblue",
          "width": 0.5635139711981263
         },
         "mode": "lines",
         "type": "scatter",
         "x": [
          1.0597984790802002,
          1.1390436887741089,
          null
         ],
         "y": [
          -7.382706642150879,
          -7.128432273864746,
          null
         ]
        },
        {
         "line": {
          "color": "cornflowerblue",
          "width": 0.6255167024295369
         },
         "mode": "lines",
         "type": "scatter",
         "x": [
          1.0597984790802002,
          0.1870143860578537,
          null
         ],
         "y": [
          -7.382706642150879,
          -6.369262218475342,
          null
         ]
        },
        {
         "line": {
          "color": "cornflowerblue",
          "width": 0.2805701104013348
         },
         "mode": "lines",
         "type": "scatter",
         "x": [
          1.0597984790802002,
          1.7392162084579468,
          null
         ],
         "y": [
          -7.382706642150879,
          -7.298854351043701,
          null
         ]
        },
        {
         "line": {
          "color": "cornflowerblue",
          "width": 0
         },
         "mode": "lines",
         "type": "scatter",
         "x": [
          1.0597984790802002,
          1.0052075386047363,
          null
         ],
         "y": [
          -7.382706642150879,
          -8.030531883239746,
          null
         ]
        },
        {
         "line": {
          "color": "cornflowerblue",
          "width": 1.3600817667139642
         },
         "mode": "lines",
         "type": "scatter",
         "x": [
          1.1390436887741089,
          -1.8085951805114746,
          null
         ],
         "y": [
          -7.128432273864746,
          -3.729217529296875,
          null
         ]
        },
        {
         "line": {
          "color": "cornflowerblue",
          "width": 1.0473458031984482
         },
         "mode": "lines",
         "type": "scatter",
         "x": [
          1.1390436887741089,
          -2.419635057449341,
          null
         ],
         "y": [
          -7.128432273864746,
          -4.468696117401123,
          null
         ]
        },
        {
         "line": {
          "color": "cornflowerblue",
          "width": 1.1535865902099696
         },
         "mode": "lines",
         "type": "scatter",
         "x": [
          1.1390436887741089,
          5.643202304840088,
          null
         ],
         "y": [
          -7.128432273864746,
          -7.1055216789245605,
          null
         ]
        },
        {
         "line": {
          "color": "cornflowerblue",
          "width": 0.724742221509067
         },
         "mode": "lines",
         "type": "scatter",
         "x": [
          1.1390436887741089,
          4.7516703605651855,
          null
         ],
         "y": [
          -7.128432273864746,
          -3.4347987174987793,
          null
         ]
        },
        {
         "line": {
          "color": "cornflowerblue",
          "width": 0.6042076569715308
         },
         "mode": "lines",
         "type": "scatter",
         "x": [
          1.1390436887741089,
          -0.6591405272483826,
          null
         ],
         "y": [
          -7.128432273864746,
          -8.202556610107422,
          null
         ]
        },
        {
         "line": {
          "color": "cornflowerblue",
          "width": 0.3663729309273672
         },
         "mode": "lines",
         "type": "scatter",
         "x": [
          1.1390436887741089,
          1.7392162084579468,
          null
         ],
         "y": [
          -7.128432273864746,
          -7.298854351043701,
          null
         ]
        },
        {
         "line": {
          "color": "cornflowerblue",
          "width": 0.8524624272352889
         },
         "mode": "lines",
         "type": "scatter",
         "x": [
          1.1390436887741089,
          0.39786961674690247,
          null
         ],
         "y": [
          -7.128432273864746,
          -7.830792427062988,
          null
         ]
        },
        {
         "line": {
          "color": "cornflowerblue",
          "width": 0.8535913431374615
         },
         "mode": "lines",
         "type": "scatter",
         "x": [
          1.1390436887741089,
          5.781284809112549,
          null
         ],
         "y": [
          -7.128432273864746,
          -7.476600646972656,
          null
         ]
        },
        {
         "line": {
          "color": "cornflowerblue",
          "width": 0.6729942752394534
         },
         "mode": "lines",
         "type": "scatter",
         "x": [
          1.1390436887741089,
          -0.08317464590072632,
          null
         ],
         "y": [
          -7.128432273864746,
          -7.529576301574707,
          null
         ]
        },
        {
         "line": {
          "color": "cornflowerblue",
          "width": 0.9196895636223779
         },
         "mode": "lines",
         "type": "scatter",
         "x": [
          1.1390436887741089,
          -0.41577109694480896,
          null
         ],
         "y": [
          -7.128432273864746,
          -7.202605724334717,
          null
         ]
        },
        {
         "line": {
          "color": "cornflowerblue",
          "width": 0.9427753853349615
         },
         "mode": "lines",
         "type": "scatter",
         "x": [
          1.1390436887741089,
          4.053683280944824,
          null
         ],
         "y": [
          -7.128432273864746,
          -3.584167957305908,
          null
         ]
        },
        {
         "line": {
          "color": "cornflowerblue",
          "width": 0.8860905167848029
         },
         "mode": "lines",
         "type": "scatter",
         "x": [
          1.1390436887741089,
          -0.7350497245788574,
          null
         ],
         "y": [
          -7.128432273864746,
          -5.138309478759766,
          null
         ]
        },
        {
         "line": {
          "color": "cornflowerblue",
          "width": 0.3816888374057674
         },
         "mode": "lines",
         "type": "scatter",
         "x": [
          1.1390436887741089,
          -0.2520357370376587,
          null
         ],
         "y": [
          -7.128432273864746,
          -8.291696548461914,
          null
         ]
        },
        {
         "line": {
          "color": "cornflowerblue",
          "width": 0
         },
         "mode": "lines",
         "type": "scatter",
         "x": [
          1.1390436887741089,
          1.0052075386047363,
          null
         ],
         "y": [
          -7.128432273864746,
          -8.030531883239746,
          null
         ]
        },
        {
         "line": {
          "color": "cornflowerblue",
          "width": 0.737267394036904
         },
         "mode": "lines",
         "type": "scatter",
         "x": [
          0.39786961674690247,
          -4.728614807128906,
          null
         ],
         "y": [
          -7.830792427062988,
          -6.334270477294922,
          null
         ]
        },
        {
         "line": {
          "color": "cornflowerblue",
          "width": 0.33583828643114155
         },
         "mode": "lines",
         "type": "scatter",
         "x": [
          0.39786961674690247,
          -0.0815376415848732,
          null
         ],
         "y": [
          -7.830792427062988,
          -8.81507682800293,
          null
         ]
        },
        {
         "line": {
          "color": "cornflowerblue",
          "width": 1.0434531792470019
         },
         "mode": "lines",
         "type": "scatter",
         "x": [
          0.39786961674690247,
          0.9181256294250488,
          null
         ],
         "y": [
          -7.830792427062988,
          -6.51785945892334,
          null
         ]
        },
        {
         "line": {
          "color": "cornflowerblue",
          "width": 0.7669422113220602
         },
         "mode": "lines",
         "type": "scatter",
         "x": [
          0.39786961674690247,
          4.053683280944824,
          null
         ],
         "y": [
          -7.830792427062988,
          -3.584167957305908,
          null
         ]
        },
        {
         "line": {
          "color": "cornflowerblue",
          "width": 0.709705039549611
         },
         "mode": "lines",
         "type": "scatter",
         "x": [
          0.39786961674690247,
          -0.2520357370376587,
          null
         ],
         "y": [
          -7.830792427062988,
          -8.291696548461914,
          null
         ]
        },
        {
         "line": {
          "color": "cornflowerblue",
          "width": 0.19120060555027468
         },
         "mode": "lines",
         "type": "scatter",
         "x": [
          0.39786961674690247,
          0.5669806003570557,
          null
         ],
         "y": [
          -7.830792427062988,
          -8.46044921875,
          null
         ]
        },
        {
         "line": {
          "color": "cornflowerblue",
          "width": 0
         },
         "mode": "lines",
         "type": "scatter",
         "x": [
          0.39786961674690247,
          1.0052075386047363,
          null
         ],
         "y": [
          -7.830792427062988,
          -8.030531883239746,
          null
         ]
        },
        {
         "line": {
          "color": "cornflowerblue",
          "width": 0.6578850826893217
         },
         "mode": "lines",
         "type": "scatter",
         "x": [
          -0.7350497245788574,
          -2.123562812805176,
          null
         ],
         "y": [
          -5.138309478759766,
          -1.7770745754241943,
          null
         ]
        },
        {
         "line": {
          "color": "cornflowerblue",
          "width": 0.8618160748567367
         },
         "mode": "lines",
         "type": "scatter",
         "x": [
          -0.7350497245788574,
          -6.404237270355225,
          null
         ],
         "y": [
          -5.138309478759766,
          -5.919153213500977,
          null
         ]
        },
        {
         "line": {
          "color": "cornflowerblue",
          "width": 1.1085007338274246
         },
         "mode": "lines",
         "type": "scatter",
         "x": [
          -0.7350497245788574,
          0.1870143860578537,
          null
         ],
         "y": [
          -5.138309478759766,
          -6.369262218475342,
          null
         ]
        },
        {
         "line": {
          "color": "cornflowerblue",
          "width": 0.7859171867116215
         },
         "mode": "lines",
         "type": "scatter",
         "x": [
          -0.7350497245788574,
          4.570398330688477,
          null
         ],
         "y": [
          -5.138309478759766,
          -3.268995523452759,
          null
         ]
        },
        {
         "line": {
          "color": "cornflowerblue",
          "width": 0.9103365767326206
         },
         "mode": "lines",
         "type": "scatter",
         "x": [
          -0.7350497245788574,
          0.02812773548066616,
          null
         ],
         "y": [
          -5.138309478759766,
          -3.478724718093872,
          null
         ]
        },
        {
         "line": {
          "color": "cornflowerblue",
          "width": 0.9457980181768115
         },
         "mode": "lines",
         "type": "scatter",
         "x": [
          -0.7350497245788574,
          -1.8085951805114746,
          null
         ],
         "y": [
          -5.138309478759766,
          -3.729217529296875,
          null
         ]
        },
        {
         "line": {
          "color": "cornflowerblue",
          "width": 0
         },
         "mode": "lines",
         "type": "scatter",
         "x": [
          -0.7350497245788574,
          1.0052075386047363,
          null
         ],
         "y": [
          -5.138309478759766,
          -8.030531883239746,
          null
         ]
        },
        {
         "line": {
          "color": "cornflowerblue",
          "width": 0.794713693293998
         },
         "mode": "lines",
         "type": "scatter",
         "x": [
          0.1870143860578537,
          -0.4601374864578247,
          null
         ],
         "y": [
          -6.369262218475342,
          -6.281803131103516,
          null
         ]
        },
        {
         "line": {
          "color": "cornflowerblue",
          "width": 1.1522643747723023
         },
         "mode": "lines",
         "type": "scatter",
         "x": [
          0.1870143860578537,
          0.02812773548066616,
          null
         ],
         "y": [
          -6.369262218475342,
          -3.478724718093872,
          null
         ]
        },
        {
         "line": {
          "color": "cornflowerblue",
          "width": 0.9387546409452798
         },
         "mode": "lines",
         "type": "scatter",
         "x": [
          0.1870143860578537,
          -1.8085951805114746,
          null
         ],
         "y": [
          -6.369262218475342,
          -3.729217529296875,
          null
         ]
        },
        {
         "line": {
          "color": "cornflowerblue",
          "width": 1.4306258362116768
         },
         "mode": "lines",
         "type": "scatter",
         "x": [
          0.1870143860578537,
          0.11800596117973328,
          null
         ],
         "y": [
          -6.369262218475342,
          -6.167614936828613,
          null
         ]
        },
        {
         "line": {
          "color": "cornflowerblue",
          "width": 0.3780908101598593
         },
         "mode": "lines",
         "type": "scatter",
         "x": [
          0.1870143860578537,
          1.3407062292099,
          null
         ],
         "y": [
          -6.369262218475342,
          -5.794181823730469,
          null
         ]
        },
        {
         "line": {
          "color": "cornflowerblue",
          "width": 0.6826217943574475
         },
         "mode": "lines",
         "type": "scatter",
         "x": [
          0.1870143860578537,
          -0.08317464590072632,
          null
         ],
         "y": [
          -6.369262218475342,
          -7.529576301574707,
          null
         ]
        },
        {
         "line": {
          "color": "cornflowerblue",
          "width": 0.7522345791278038
         },
         "mode": "lines",
         "type": "scatter",
         "x": [
          0.1870143860578537,
          0.9181256294250488,
          null
         ],
         "y": [
          -6.369262218475342,
          -6.51785945892334,
          null
         ]
        },
        {
         "line": {
          "color": "cornflowerblue",
          "width": 0
         },
         "mode": "lines",
         "type": "scatter",
         "x": [
          0.1870143860578537,
          1.0052075386047363,
          null
         ],
         "y": [
          -6.369262218475342,
          -8.030531883239746,
          null
         ]
        },
        {
         "line": {
          "color": "cornflowerblue",
          "width": 0.7334254721918625
         },
         "mode": "lines",
         "type": "scatter",
         "x": [
          -5.793375492095947,
          -6.404237270355225,
          null
         ],
         "y": [
          -6.179808616638184,
          -5.919153213500977,
          null
         ]
        },
        {
         "line": {
          "color": "cornflowerblue",
          "width": 0.77218926779796
         },
         "mode": "lines",
         "type": "scatter",
         "x": [
          -5.793375492095947,
          -5.7836833000183105,
          null
         ],
         "y": [
          -6.179808616638184,
          -5.480318069458008,
          null
         ]
        },
        {
         "line": {
          "color": "cornflowerblue",
          "width": 0.965781951511562
         },
         "mode": "lines",
         "type": "scatter",
         "x": [
          -5.793375492095947,
          -4.890204906463623,
          null
         ],
         "y": [
          -6.179808616638184,
          -6.221857070922852,
          null
         ]
        },
        {
         "line": {
          "color": "cornflowerblue",
          "width": 1.070228621966497
         },
         "mode": "lines",
         "type": "scatter",
         "x": [
          -5.793375492095947,
          -5.2080864906311035,
          null
         ],
         "y": [
          -6.179808616638184,
          -6.200881004333496,
          null
         ]
        },
        {
         "line": {
          "color": "cornflowerblue",
          "width": 1.4433168582071927
         },
         "mode": "lines",
         "type": "scatter",
         "x": [
          -5.793375492095947,
          -6.335114479064941,
          null
         ],
         "y": [
          -6.179808616638184,
          -5.957523822784424,
          null
         ]
        },
        {
         "line": {
          "color": "cornflowerblue",
          "width": 0.7185855852423535
         },
         "mode": "lines",
         "type": "scatter",
         "x": [
          -5.793375492095947,
          -4.728614807128906,
          null
         ],
         "y": [
          -6.179808616638184,
          -6.334270477294922,
          null
         ]
        },
        {
         "line": {
          "color": "cornflowerblue",
          "width": 0
         },
         "mode": "lines",
         "type": "scatter",
         "x": [
          -5.793375492095947,
          -5.410782814025879,
          null
         ],
         "y": [
          -6.179808616638184,
          -5.800204753875732,
          null
         ]
        },
        {
         "line": {
          "color": "cornflowerblue",
          "width": 0.8133565306226282
         },
         "mode": "lines",
         "type": "scatter",
         "x": [
          -6.404237270355225,
          -2.163369655609131,
          null
         ],
         "y": [
          -5.919153213500977,
          -4.109903335571289,
          null
         ]
        },
        {
         "line": {
          "color": "cornflowerblue",
          "width": 1.5736825331493303
         },
         "mode": "lines",
         "type": "scatter",
         "x": [
          -6.404237270355225,
          -6.335114479064941,
          null
         ],
         "y": [
          -5.919153213500977,
          -5.957523822784424,
          null
         ]
        },
        {
         "line": {
          "color": "cornflowerblue",
          "width": 0.8133565306226282
         },
         "mode": "lines",
         "type": "scatter",
         "x": [
          -6.404237270355225,
          -5.791920185089111,
          null
         ],
         "y": [
          -5.919153213500977,
          -6.406492710113525,
          null
         ]
        },
        {
         "line": {
          "color": "cornflowerblue",
          "width": 0.18596722827056134
         },
         "mode": "lines",
         "type": "scatter",
         "x": [
          -6.404237270355225,
          -7.857990741729736,
          null
         ],
         "y": [
          -5.919153213500977,
          -3.3920838832855225,
          null
         ]
        },
        {
         "line": {
          "color": "cornflowerblue",
          "width": 0
         },
         "mode": "lines",
         "type": "scatter",
         "x": [
          -6.404237270355225,
          -5.410782814025879,
          null
         ],
         "y": [
          -5.919153213500977,
          -5.800204753875732,
          null
         ]
        },
        {
         "line": {
          "color": "cornflowerblue",
          "width": 1.2129772488329211
         },
         "mode": "lines",
         "type": "scatter",
         "x": [
          -5.7836833000183105,
          -5.987621307373047,
          null
         ],
         "y": [
          -5.480318069458008,
          -5.304370403289795,
          null
         ]
        },
        {
         "line": {
          "color": "cornflowerblue",
          "width": 0
         },
         "mode": "lines",
         "type": "scatter",
         "x": [
          -5.7836833000183105,
          -5.410782814025879,
          null
         ],
         "y": [
          -5.480318069458008,
          -5.800204753875732,
          null
         ]
        },
        {
         "line": {
          "color": "cornflowerblue",
          "width": 1.190022210426101
         },
         "mode": "lines",
         "type": "scatter",
         "x": [
          -4.890204906463623,
          -4.728614807128906,
          null
         ],
         "y": [
          -6.221857070922852,
          -6.334270477294922,
          null
         ]
        },
        {
         "line": {
          "color": "cornflowerblue",
          "width": 1.2911550308444544
         },
         "mode": "lines",
         "type": "scatter",
         "x": [
          -4.890204906463623,
          -5.2080864906311035,
          null
         ],
         "y": [
          -6.221857070922852,
          -6.200881004333496,
          null
         ]
        },
        {
         "line": {
          "color": "cornflowerblue",
          "width": 0.933235198431964
         },
         "mode": "lines",
         "type": "scatter",
         "x": [
          -4.890204906463623,
          0.02812773548066616,
          null
         ],
         "y": [
          -6.221857070922852,
          -3.478724718093872,
          null
         ]
        },
        {
         "line": {
          "color": "cornflowerblue",
          "width": 0.7758416031255564
         },
         "mode": "lines",
         "type": "scatter",
         "x": [
          -4.890204906463623,
          -0.2520357370376587,
          null
         ],
         "y": [
          -6.221857070922852,
          -8.291696548461914,
          null
         ]
        },
        {
         "line": {
          "color": "cornflowerblue",
          "width": 0
         },
         "mode": "lines",
         "type": "scatter",
         "x": [
          -4.890204906463623,
          -5.410782814025879,
          null
         ],
         "y": [
          -6.221857070922852,
          -5.800204753875732,
          null
         ]
        },
        {
         "line": {
          "color": "cornflowerblue",
          "width": 0.7600513654378516
         },
         "mode": "lines",
         "type": "scatter",
         "x": [
          -5.2080864906311035,
          -0.1273382604122162,
          null
         ],
         "y": [
          -6.200881004333496,
          -2.524526596069336,
          null
         ]
        },
        {
         "line": {
          "color": "cornflowerblue",
          "width": 0.6916636408355381
         },
         "mode": "lines",
         "type": "scatter",
         "x": [
          -5.2080864906311035,
          0.02812773548066616,
          null
         ],
         "y": [
          -6.200881004333496,
          -3.478724718093872,
          null
         ]
        },
        {
         "line": {
          "color": "cornflowerblue",
          "width": 0.8523408830766479
         },
         "mode": "lines",
         "type": "scatter",
         "x": [
          -5.2080864906311035,
          -6.335114479064941,
          null
         ],
         "y": [
          -6.200881004333496,
          -5.957523822784424,
          null
         ]
        },
        {
         "line": {
          "color": "cornflowerblue",
          "width": 0.6516929656075225
         },
         "mode": "lines",
         "type": "scatter",
         "x": [
          -5.2080864906311035,
          -5.987621307373047,
          null
         ],
         "y": [
          -6.200881004333496,
          -5.304370403289795,
          null
         ]
        },
        {
         "line": {
          "color": "cornflowerblue",
          "width": 0
         },
         "mode": "lines",
         "type": "scatter",
         "x": [
          -5.2080864906311035,
          -5.410782814025879,
          null
         ],
         "y": [
          -6.200881004333496,
          -5.800204753875732,
          null
         ]
        },
        {
         "line": {
          "color": "cornflowerblue",
          "width": 0.8892595734562564
         },
         "mode": "lines",
         "type": "scatter",
         "x": [
          -6.335114479064941,
          -2.419635057449341,
          null
         ],
         "y": [
          -5.957523822784424,
          -4.468696117401123,
          null
         ]
        },
        {
         "line": {
          "color": "cornflowerblue",
          "width": 0.513677684201144
         },
         "mode": "lines",
         "type": "scatter",
         "x": [
          -6.335114479064941,
          -5.987621307373047,
          null
         ],
         "y": [
          -5.957523822784424,
          -5.304370403289795,
          null
         ]
        },
        {
         "line": {
          "color": "cornflowerblue",
          "width": 0.4936537047487861
         },
         "mode": "lines",
         "type": "scatter",
         "x": [
          -6.335114479064941,
          -7.857990741729736,
          null
         ],
         "y": [
          -5.957523822784424,
          -3.3920838832855225,
          null
         ]
        },
        {
         "line": {
          "color": "cornflowerblue",
          "width": 0.731527526003068
         },
         "mode": "lines",
         "type": "scatter",
         "x": [
          -6.335114479064941,
          -2.163369655609131,
          null
         ],
         "y": [
          -5.957523822784424,
          -4.109903335571289,
          null
         ]
        },
        {
         "line": {
          "color": "cornflowerblue",
          "width": 1.4785195922417724
         },
         "mode": "lines",
         "type": "scatter",
         "x": [
          -6.335114479064941,
          -5.791920185089111,
          null
         ],
         "y": [
          -5.957523822784424,
          -6.406492710113525,
          null
         ]
        },
        {
         "line": {
          "color": "cornflowerblue",
          "width": 0
         },
         "mode": "lines",
         "type": "scatter",
         "x": [
          -6.335114479064941,
          -5.410782814025879,
          null
         ],
         "y": [
          -5.957523822784424,
          -5.800204753875732,
          null
         ]
        },
        {
         "line": {
          "color": "cornflowerblue",
          "width": 0.7085818561223438
         },
         "mode": "lines",
         "type": "scatter",
         "x": [
          -1.1081401109695435,
          -1.0004652738571167,
          null
         ],
         "y": [
          -0.1596251279115677,
          -0.915282130241394,
          null
         ]
        },
        {
         "line": {
          "color": "cornflowerblue",
          "width": 0.7030429608071067
         },
         "mode": "lines",
         "type": "scatter",
         "x": [
          -1.1081401109695435,
          -0.42609289288520813,
          null
         ],
         "y": [
          -0.1596251279115677,
          -1.6907260417938232,
          null
         ]
        },
        {
         "line": {
          "color": "cornflowerblue",
          "width": 0.7279771210475601
         },
         "mode": "lines",
         "type": "scatter",
         "x": [
          -1.1081401109695435,
          -3.8458964824676514,
          null
         ],
         "y": [
          -0.1596251279115677,
          1.0176095962524414,
          null
         ]
        },
        {
         "line": {
          "color": "cornflowerblue",
          "width": 1.443740824190662
         },
         "mode": "lines",
         "type": "scatter",
         "x": [
          -1.1081401109695435,
          -0.1273382604122162,
          null
         ],
         "y": [
          -0.1596251279115677,
          -2.524526596069336,
          null
         ]
        },
        {
         "line": {
          "color": "cornflowerblue",
          "width": 0.7257747386024231
         },
         "mode": "lines",
         "type": "scatter",
         "x": [
          -1.1081401109695435,
          -0.6112854480743408,
          null
         ],
         "y": [
          -0.1596251279115677,
          -1.3087753057479858,
          null
         ]
        },
        {
         "line": {
          "color": "cornflowerblue",
          "width": 0.9716588024509784
         },
         "mode": "lines",
         "type": "scatter",
         "x": [
          -1.1081401109695435,
          -4.974451065063477,
          null
         ],
         "y": [
          -0.1596251279115677,
          1.329877257347107,
          null
         ]
        },
        {
         "line": {
          "color": "cornflowerblue",
          "width": 0.3076657889108154
         },
         "mode": "lines",
         "type": "scatter",
         "x": [
          -1.1081401109695435,
          0.4756990969181061,
          null
         ],
         "y": [
          -0.1596251279115677,
          -0.20842666923999786,
          null
         ]
        },
        {
         "line": {
          "color": "cornflowerblue",
          "width": 0.4386913376508308
         },
         "mode": "lines",
         "type": "scatter",
         "x": [
          -1.1081401109695435,
          -3.1505517959594727,
          null
         ],
         "y": [
          -0.1596251279115677,
          -10.24310302734375,
          null
         ]
        },
        {
         "line": {
          "color": "cornflowerblue",
          "width": 0
         },
         "mode": "lines",
         "type": "scatter",
         "x": [
          -1.1081401109695435,
          -1.0601037740707397,
          null
         ],
         "y": [
          -0.1596251279115677,
          -2.278170585632324,
          null
         ]
        },
        {
         "line": {
          "color": "cornflowerblue",
          "width": 0.8707769849690167
         },
         "mode": "lines",
         "type": "scatter",
         "x": [
          -1.0004652738571167,
          -0.6112854480743408,
          null
         ],
         "y": [
          -0.915282130241394,
          -1.3087753057479858,
          null
         ]
        },
        {
         "line": {
          "color": "cornflowerblue",
          "width": 1.5807467683326095
         },
         "mode": "lines",
         "type": "scatter",
         "x": [
          -1.0004652738571167,
          -0.1273382604122162,
          null
         ],
         "y": [
          -0.915282130241394,
          -2.524526596069336,
          null
         ]
        },
        {
         "line": {
          "color": "cornflowerblue",
          "width": 1.0434534936567017
         },
         "mode": "lines",
         "type": "scatter",
         "x": [
          -1.0004652738571167,
          -0.41577109694480896,
          null
         ],
         "y": [
          -0.915282130241394,
          -7.202605724334717,
          null
         ]
        },
        {
         "line": {
          "color": "cornflowerblue",
          "width": 0.8989321760954128
         },
         "mode": "lines",
         "type": "scatter",
         "x": [
          -1.0004652738571167,
          -0.42609289288520813,
          null
         ],
         "y": [
          -0.915282130241394,
          -1.6907260417938232,
          null
         ]
        },
        {
         "line": {
          "color": "cornflowerblue",
          "width": 1.0553596940659966
         },
         "mode": "lines",
         "type": "scatter",
         "x": [
          -1.0004652738571167,
          0.02812773548066616,
          null
         ],
         "y": [
          -0.915282130241394,
          -3.478724718093872,
          null
         ]
        },
        {
         "line": {
          "color": "cornflowerblue",
          "width": 0.3003774920460467
         },
         "mode": "lines",
         "type": "scatter",
         "x": [
          -1.0004652738571167,
          0.4756990969181061,
          null
         ],
         "y": [
          -0.915282130241394,
          -0.20842666923999786,
          null
         ]
        },
        {
         "line": {
          "color": "cornflowerblue",
          "width": 0.6957184324632413
         },
         "mode": "lines",
         "type": "scatter",
         "x": [
          -1.0004652738571167,
          -1.5755537748336792,
          null
         ],
         "y": [
          -0.915282130241394,
          -0.28668516874313354,
          null
         ]
        },
        {
         "line": {
          "color": "cornflowerblue",
          "width": 0.6959558941775947
         },
         "mode": "lines",
         "type": "scatter",
         "x": [
          -1.0004652738571167,
          -1.358725666999817,
          null
         ],
         "y": [
          -0.915282130241394,
          -1.635020136833191,
          null
         ]
        },
        {
         "line": {
          "color": "cornflowerblue",
          "width": 0
         },
         "mode": "lines",
         "type": "scatter",
         "x": [
          -1.0004652738571167,
          -1.0601037740707397,
          null
         ],
         "y": [
          -0.915282130241394,
          -2.278170585632324,
          null
         ]
        },
        {
         "line": {
          "color": "cornflowerblue",
          "width": 1.1015075828875014
         },
         "mode": "lines",
         "type": "scatter",
         "x": [
          -0.42609289288520813,
          0.02812773548066616,
          null
         ],
         "y": [
          -1.6907260417938232,
          -3.478724718093872,
          null
         ]
        },
        {
         "line": {
          "color": "cornflowerblue",
          "width": 1.3472304900295655
         },
         "mode": "lines",
         "type": "scatter",
         "x": [
          -0.42609289288520813,
          0.7359210252761841,
          null
         ],
         "y": [
          -1.6907260417938232,
          -2.4273197650909424,
          null
         ]
        },
        {
         "line": {
          "color": "cornflowerblue",
          "width": 0.9875143476088013
         },
         "mode": "lines",
         "type": "scatter",
         "x": [
          -0.42609289288520813,
          -1.684312105178833,
          null
         ],
         "y": [
          -1.6907260417938232,
          -2.9888062477111816,
          null
         ]
        },
        {
         "line": {
          "color": "cornflowerblue",
          "width": 0.9207436790680513
         },
         "mode": "lines",
         "type": "scatter",
         "x": [
          -0.42609289288520813,
          -0.6112854480743408,
          null
         ],
         "y": [
          -1.6907260417938232,
          -1.3087753057479858,
          null
         ]
        },
        {
         "line": {
          "color": "cornflowerblue",
          "width": 1.5641586711948228
         },
         "mode": "lines",
         "type": "scatter",
         "x": [
          -0.42609289288520813,
          -0.1273382604122162,
          null
         ],
         "y": [
          -1.6907260417938232,
          -2.524526596069336,
          null
         ]
        },
        {
         "line": {
          "color": "cornflowerblue",
          "width": 0.2980294789419554
         },
         "mode": "lines",
         "type": "scatter",
         "x": [
          -0.42609289288520813,
          0.4756990969181061,
          null
         ],
         "y": [
          -1.6907260417938232,
          -0.20842666923999786,
          null
         ]
        },
        {
         "line": {
          "color": "cornflowerblue",
          "width": 0
         },
         "mode": "lines",
         "type": "scatter",
         "x": [
          -0.42609289288520813,
          -1.0601037740707397,
          null
         ],
         "y": [
          -1.6907260417938232,
          -2.278170585632324,
          null
         ]
        },
        {
         "line": {
          "color": "cornflowerblue",
          "width": 0.9781096723558502
         },
         "mode": "lines",
         "type": "scatter",
         "x": [
          -3.8458964824676514,
          -1.9475975036621094,
          null
         ],
         "y": [
          1.0176095962524414,
          -0.8779391050338745,
          null
         ]
        },
        {
         "line": {
          "color": "cornflowerblue",
          "width": 0.20977859996563503
         },
         "mode": "lines",
         "type": "scatter",
         "x": [
          -3.8458964824676514,
          -5.225663185119629,
          null
         ],
         "y": [
          1.0176095962524414,
          0.9511251449584961,
          null
         ]
        },
        {
         "line": {
          "color": "cornflowerblue",
          "width": 0.6960382902570129
         },
         "mode": "lines",
         "type": "scatter",
         "x": [
          -3.8458964824676514,
          -1.5755537748336792,
          null
         ],
         "y": [
          1.0176095962524414,
          -0.28668516874313354,
          null
         ]
        },
        {
         "line": {
          "color": "cornflowerblue",
          "width": 1.0485095530861641
         },
         "mode": "lines",
         "type": "scatter",
         "x": [
          -3.8458964824676514,
          0.37457114458084106,
          null
         ],
         "y": [
          1.0176095962524414,
          -1.6131783723831177,
          null
         ]
        },
        {
         "line": {
          "color": "cornflowerblue",
          "width": 1.3092119555482267
         },
         "mode": "lines",
         "type": "scatter",
         "x": [
          -3.8458964824676514,
          -4.863575458526611,
          null
         ],
         "y": [
          1.0176095962524414,
          1.8526055812835693,
          null
         ]
        },
        {
         "line": {
          "color": "cornflowerblue",
          "width": 0.6825093828764702
         },
         "mode": "lines",
         "type": "scatter",
         "x": [
          -3.8458964824676514,
          -2.1417486667633057,
          null
         ],
         "y": [
          1.0176095962524414,
          -1.0157002210617065,
          null
         ]
        },
        {
         "line": {
          "color": "cornflowerblue",
          "width": 0.9076682217793339
         },
         "mode": "lines",
         "type": "scatter",
         "x": [
          -3.8458964824676514,
          5.207670211791992,
          null
         ],
         "y": [
          1.0176095962524414,
          -6.687026023864746,
          null
         ]
        },
        {
         "line": {
          "color": "cornflowerblue",
          "width": 0.8435701323489757
         },
         "mode": "lines",
         "type": "scatter",
         "x": [
          -3.8458964824676514,
          -4.6838507652282715,
          null
         ],
         "y": [
          1.0176095962524414,
          1.1470887660980225,
          null
         ]
        },
        {
         "line": {
          "color": "cornflowerblue",
          "width": 1.5157264360311917
         },
         "mode": "lines",
         "type": "scatter",
         "x": [
          -3.8458964824676514,
          -0.1273382604122162,
          null
         ],
         "y": [
          1.0176095962524414,
          -2.524526596069336,
          null
         ]
        },
        {
         "line": {
          "color": "cornflowerblue",
          "width": 0
         },
         "mode": "lines",
         "type": "scatter",
         "x": [
          -3.8458964824676514,
          -5.33353328704834,
          null
         ],
         "y": [
          1.0176095962524414,
          0.6507877111434937,
          null
         ]
        },
        {
         "line": {
          "color": "cornflowerblue",
          "width": 1.0457260042456227
         },
         "mode": "lines",
         "type": "scatter",
         "x": [
          -0.1273382604122162,
          -2.123562812805176,
          null
         ],
         "y": [
          -2.524526596069336,
          -1.7770745754241943,
          null
         ]
        },
        {
         "line": {
          "color": "cornflowerblue",
          "width": 1.6109747323235815
         },
         "mode": "lines",
         "type": "scatter",
         "x": [
          -0.1273382604122162,
          -0.6112854480743408,
          null
         ],
         "y": [
          -2.524526596069336,
          -1.3087753057479858,
          null
         ]
        },
        {
         "line": {
          "color": "cornflowerblue",
          "width": 1.1416593670392419
         },
         "mode": "lines",
         "type": "scatter",
         "x": [
          -0.1273382604122162,
          -0.6384429335594177,
          null
         ],
         "y": [
          -2.524526596069336,
          -2.491394519805908,
          null
         ]
        },
        {
         "line": {
          "color": "cornflowerblue",
          "width": 1.4723130435643852
         },
         "mode": "lines",
         "type": "scatter",
         "x": [
          -0.1273382604122162,
          -1.9475975036621094,
          null
         ],
         "y": [
          -2.524526596069336,
          -0.8779391050338745,
          null
         ]
        },
        {
         "line": {
          "color": "cornflowerblue",
          "width": 0.819904550223147
         },
         "mode": "lines",
         "type": "scatter",
         "x": [
          -0.1273382604122162,
          -5.987621307373047,
          null
         ],
         "y": [
          -2.524526596069336,
          -5.304370403289795,
          null
         ]
        },
        {
         "line": {
          "color": "cornflowerblue",
          "width": 0.9311123100546752
         },
         "mode": "lines",
         "type": "scatter",
         "x": [
          -0.1273382604122162,
          5.643202304840088,
          null
         ],
         "y": [
          -2.524526596069336,
          -7.1055216789245605,
          null
         ]
        },
        {
         "line": {
          "color": "cornflowerblue",
          "width": 1.2876528471084852
         },
         "mode": "lines",
         "type": "scatter",
         "x": [
          -0.1273382604122162,
          0.7359210252761841,
          null
         ],
         "y": [
          -2.524526596069336,
          -2.4273197650909424,
          null
         ]
        },
        {
         "line": {
          "color": "cornflowerblue",
          "width": 0.5416518427924402
         },
         "mode": "lines",
         "type": "scatter",
         "x": [
          -0.1273382604122162,
          -0.6591405272483826,
          null
         ],
         "y": [
          -2.524526596069336,
          -8.202556610107422,
          null
         ]
        },
        {
         "line": {
          "color": "cornflowerblue",
          "width": 0.6071623830343091
         },
         "mode": "lines",
         "type": "scatter",
         "x": [
          -0.1273382604122162,
          0.4756990969181061,
          null
         ],
         "y": [
          -2.524526596069336,
          -0.20842666923999786,
          null
         ]
        },
        {
         "line": {
          "color": "cornflowerblue",
          "width": 1.2928715901466967
         },
         "mode": "lines",
         "type": "scatter",
         "x": [
          -0.1273382604122162,
          0.02812773548066616,
          null
         ],
         "y": [
          -2.524526596069336,
          -3.478724718093872,
          null
         ]
        },
        {
         "line": {
          "color": "cornflowerblue",
          "width": 0.7541038829246063
         },
         "mode": "lines",
         "type": "scatter",
         "x": [
          -0.1273382604122162,
          1.106619119644165,
          null
         ],
         "y": [
          -2.524526596069336,
          -3.8142035007476807,
          null
         ]
        },
        {
         "line": {
          "color": "cornflowerblue",
          "width": 1.026725571216931
         },
         "mode": "lines",
         "type": "scatter",
         "x": [
          -0.1273382604122162,
          1.3652284145355225,
          null
         ],
         "y": [
          -2.524526596069336,
          -3.590304136276245,
          null
         ]
        },
        {
         "line": {
          "color": "cornflowerblue",
          "width": 1.2875273983217568
         },
         "mode": "lines",
         "type": "scatter",
         "x": [
          -0.1273382604122162,
          -1.5755537748336792,
          null
         ],
         "y": [
          -2.524526596069336,
          -0.28668516874313354,
          null
         ]
        },
        {
         "line": {
          "color": "cornflowerblue",
          "width": 1.4099355563556004
         },
         "mode": "lines",
         "type": "scatter",
         "x": [
          -0.1273382604122162,
          -1.684312105178833,
          null
         ],
         "y": [
          -2.524526596069336,
          -2.9888062477111816,
          null
         ]
        },
        {
         "line": {
          "color": "cornflowerblue",
          "width": 1.0220232724079692
         },
         "mode": "lines",
         "type": "scatter",
         "x": [
          -0.1273382604122162,
          -0.2766866683959961,
          null
         ],
         "y": [
          -2.524526596069336,
          -4.681640148162842,
          null
         ]
        },
        {
         "line": {
          "color": "cornflowerblue",
          "width": 0.761290643982806
         },
         "mode": "lines",
         "type": "scatter",
         "x": [
          -0.1273382604122162,
          0.37457114458084106,
          null
         ],
         "y": [
          -2.524526596069336,
          -1.6131783723831177,
          null
         ]
        },
        {
         "line": {
          "color": "cornflowerblue",
          "width": 1.284087713746031
         },
         "mode": "lines",
         "type": "scatter",
         "x": [
          -0.1273382604122162,
          -3.261085033416748,
          null
         ],
         "y": [
          -2.524526596069336,
          -9.968637466430664,
          null
         ]
        },
        {
         "line": {
          "color": "cornflowerblue",
          "width": 1.2815571118676123
         },
         "mode": "lines",
         "type": "scatter",
         "x": [
          -0.1273382604122162,
          0.2706189751625061,
          null
         ],
         "y": [
          -2.524526596069336,
          -3.2082691192626953,
          null
         ]
        },
        {
         "line": {
          "color": "cornflowerblue",
          "width": 1.331490149815153
         },
         "mode": "lines",
         "type": "scatter",
         "x": [
          -0.1273382604122162,
          -1.358725666999817,
          null
         ],
         "y": [
          -2.524526596069336,
          -1.635020136833191,
          null
         ]
        },
        {
         "line": {
          "color": "cornflowerblue",
          "width": 1.3313241583153899
         },
         "mode": "lines",
         "type": "scatter",
         "x": [
          -0.1273382604122162,
          4.842525482177734,
          null
         ],
         "y": [
          -2.524526596069336,
          -6.549506664276123,
          null
         ]
        },
        {
         "line": {
          "color": "cornflowerblue",
          "width": 1.122956142027816
         },
         "mode": "lines",
         "type": "scatter",
         "x": [
          -0.1273382604122162,
          -2.1417486667633057,
          null
         ],
         "y": [
          -2.524526596069336,
          -1.0157002210617065,
          null
         ]
        },
        {
         "line": {
          "color": "cornflowerblue",
          "width": 0.9733064303057528
         },
         "mode": "lines",
         "type": "scatter",
         "x": [
          -0.1273382604122162,
          -5.791920185089111,
          null
         ],
         "y": [
          -2.524526596069336,
          -6.406492710113525,
          null
         ]
        },
        {
         "line": {
          "color": "cornflowerblue",
          "width": 1.0347412932691324
         },
         "mode": "lines",
         "type": "scatter",
         "x": [
          -0.1273382604122162,
          -2.916576385498047,
          null
         ],
         "y": [
          -2.524526596069336,
          -2.7157065868377686,
          null
         ]
        },
        {
         "line": {
          "color": "cornflowerblue",
          "width": 0.8871510719508322
         },
         "mode": "lines",
         "type": "scatter",
         "x": [
          -0.1273382604122162,
          -0.41577109694480896,
          null
         ],
         "y": [
          -2.524526596069336,
          -7.202605724334717,
          null
         ]
        },
        {
         "line": {
          "color": "cornflowerblue",
          "width": 0.4654775778512199
         },
         "mode": "lines",
         "type": "scatter",
         "x": [
          -0.1273382604122162,
          3.2725751399993896,
          null
         ],
         "y": [
          -2.524526596069336,
          1.4593629837036133,
          null
         ]
        },
        {
         "line": {
          "color": "cornflowerblue",
          "width": 0.9921278820130996
         },
         "mode": "lines",
         "type": "scatter",
         "x": [
          -0.1273382604122162,
          5.207670211791992,
          null
         ],
         "y": [
          -2.524526596069336,
          -6.687026023864746,
          null
         ]
        },
        {
         "line": {
          "color": "cornflowerblue",
          "width": 0.9317649197412392
         },
         "mode": "lines",
         "type": "scatter",
         "x": [
          -0.1273382604122162,
          -3.1496315002441406,
          null
         ],
         "y": [
          -2.524526596069336,
          -10.181135177612305,
          null
         ]
        },
        {
         "line": {
          "color": "cornflowerblue",
          "width": 0.2255310406177019
         },
         "mode": "lines",
         "type": "scatter",
         "x": [
          -0.1273382604122162,
          -5.688165664672852,
          null
         ],
         "y": [
          -2.524526596069336,
          1.4192664623260498,
          null
         ]
        },
        {
         "line": {
          "color": "cornflowerblue",
          "width": 0.8714513607044894
         },
         "mode": "lines",
         "type": "scatter",
         "x": [
          -0.1273382604122162,
          -3.1505517959594727,
          null
         ],
         "y": [
          -2.524526596069336,
          -10.24310302734375,
          null
         ]
        },
        {
         "line": {
          "color": "cornflowerblue",
          "width": 0.9031954226171519
         },
         "mode": "lines",
         "type": "scatter",
         "x": [
          -0.1273382604122162,
          -5.686635971069336,
          null
         ],
         "y": [
          -2.524526596069336,
          1.0812551975250244,
          null
         ]
        },
        {
         "line": {
          "color": "cornflowerblue",
          "width": 0.9417456265431765
         },
         "mode": "lines",
         "type": "scatter",
         "x": [
          -0.1273382604122162,
          -2.2358944416046143,
          null
         ],
         "y": [
          -2.524526596069336,
          -2.6037206649780273,
          null
         ]
        },
        {
         "line": {
          "color": "cornflowerblue",
          "width": 0.20401963449148677
         },
         "mode": "lines",
         "type": "scatter",
         "x": [
          -0.1273382604122162,
          3.2814278602600098,
          null
         ],
         "y": [
          -2.524526596069336,
          1.4431389570236206,
          null
         ]
        },
        {
         "line": {
          "color": "cornflowerblue",
          "width": 0
         },
         "mode": "lines",
         "type": "scatter",
         "x": [
          -0.1273382604122162,
          -1.0601037740707397,
          null
         ],
         "y": [
          -2.524526596069336,
          -2.278170585632324,
          null
         ]
        },
        {
         "line": {
          "color": "cornflowerblue",
          "width": 1.1266905961426312
         },
         "mode": "lines",
         "type": "scatter",
         "x": [
          -0.6112854480743408,
          -1.684312105178833,
          null
         ],
         "y": [
          -1.3087753057479858,
          -2.9888062477111816,
          null
         ]
        },
        {
         "line": {
          "color": "cornflowerblue",
          "width": 0.3076657889108154
         },
         "mode": "lines",
         "type": "scatter",
         "x": [
          -0.6112854480743408,
          0.4756990969181061,
          null
         ],
         "y": [
          -1.3087753057479858,
          -0.20842666923999786,
          null
         ]
        },
        {
         "line": {
          "color": "cornflowerblue",
          "width": 0.6728597683119575
         },
         "mode": "lines",
         "type": "scatter",
         "x": [
          -0.6112854480743408,
          -1.5755537748336792,
          null
         ],
         "y": [
          -1.3087753057479858,
          -0.28668516874313354,
          null
         ]
        },
        {
         "line": {
          "color": "cornflowerblue",
          "width": 0.6871158522127339
         },
         "mode": "lines",
         "type": "scatter",
         "x": [
          -0.6112854480743408,
          -1.358725666999817,
          null
         ],
         "y": [
          -1.3087753057479858,
          -1.635020136833191,
          null
         ]
        },
        {
         "line": {
          "color": "cornflowerblue",
          "width": 0.4386913376508308
         },
         "mode": "lines",
         "type": "scatter",
         "x": [
          -0.6112854480743408,
          -3.1505517959594727,
          null
         ],
         "y": [
          -1.3087753057479858,
          -10.24310302734375,
          null
         ]
        },
        {
         "line": {
          "color": "cornflowerblue",
          "width": 0
         },
         "mode": "lines",
         "type": "scatter",
         "x": [
          -0.6112854480743408,
          -1.0601037740707397,
          null
         ],
         "y": [
          -1.3087753057479858,
          -2.278170585632324,
          null
         ]
        },
        {
         "line": {
          "color": "cornflowerblue",
          "width": 1.5703643656337598
         },
         "mode": "lines",
         "type": "scatter",
         "x": [
          -4.974451065063477,
          -4.572055339813232,
          null
         ],
         "y": [
          1.329877257347107,
          1.424369215965271,
          null
         ]
        },
        {
         "line": {
          "color": "cornflowerblue",
          "width": 1.2704991486658683
         },
         "mode": "lines",
         "type": "scatter",
         "x": [
          -4.974451065063477,
          -5.686635971069336,
          null
         ],
         "y": [
          1.329877257347107,
          1.0812551975250244,
          null
         ]
        },
        {
         "line": {
          "color": "cornflowerblue",
          "width": 1.2106405047380897
         },
         "mode": "lines",
         "type": "scatter",
         "x": [
          -4.974451065063477,
          -4.863575458526611,
          null
         ],
         "y": [
          1.329877257347107,
          1.8526055812835693,
          null
         ]
        },
        {
         "line": {
          "color": "cornflowerblue",
          "width": 1.1190886529413524
         },
         "mode": "lines",
         "type": "scatter",
         "x": [
          -4.974451065063477,
          -4.6838507652282715,
          null
         ],
         "y": [
          1.329877257347107,
          1.1470887660980225,
          null
         ]
        },
        {
         "line": {
          "color": "cornflowerblue",
          "width": 0.1943105983996073
         },
         "mode": "lines",
         "type": "scatter",
         "x": [
          -4.974451065063477,
          -5.688165664672852,
          null
         ],
         "y": [
          1.329877257347107,
          1.4192664623260498,
          null
         ]
        },
        {
         "line": {
          "color": "cornflowerblue",
          "width": 0
         },
         "mode": "lines",
         "type": "scatter",
         "x": [
          -4.974451065063477,
          -5.33353328704834,
          null
         ],
         "y": [
          1.329877257347107,
          0.6507877111434937,
          null
         ]
        },
        {
         "line": {
          "color": "cornflowerblue",
          "width": 0.6832082854983589
         },
         "mode": "lines",
         "type": "scatter",
         "x": [
          -2.123562812805176,
          -1.9475975036621094,
          null
         ],
         "y": [
          -1.7770745754241943,
          -0.8779391050338745,
          null
         ]
        },
        {
         "line": {
          "color": "cornflowerblue",
          "width": 0.7351525318845467
         },
         "mode": "lines",
         "type": "scatter",
         "x": [
          -2.123562812805176,
          -2.1417486667633057,
          null
         ],
         "y": [
          -1.7770745754241943,
          -1.0157002210617065,
          null
         ]
        },
        {
         "line": {
          "color": "cornflowerblue",
          "width": 0.6550568550960584
         },
         "mode": "lines",
         "type": "scatter",
         "x": [
          -2.123562812805176,
          0.02812773548066616,
          null
         ],
         "y": [
          -1.7770745754241943,
          -3.478724718093872,
          null
         ]
        },
        {
         "line": {
          "color": "cornflowerblue",
          "width": 0
         },
         "mode": "lines",
         "type": "scatter",
         "x": [
          -2.123562812805176,
          -1.0601037740707397,
          null
         ],
         "y": [
          -1.7770745754241943,
          -2.278170585632324,
          null
         ]
        },
        {
         "line": {
          "color": "cornflowerblue",
          "width": 1.2657321049599752
         },
         "mode": "lines",
         "type": "scatter",
         "x": [
          -1.9475975036621094,
          -2.916576385498047,
          null
         ],
         "y": [
          -0.8779391050338745,
          -2.7157065868377686,
          null
         ]
        },
        {
         "line": {
          "color": "cornflowerblue",
          "width": 1.0690916496753924
         },
         "mode": "lines",
         "type": "scatter",
         "x": [
          -1.9475975036621094,
          -3.261085033416748,
          null
         ],
         "y": [
          -0.8779391050338745,
          -9.968637466430664,
          null
         ]
        },
        {
         "line": {
          "color": "cornflowerblue",
          "width": 0.9797326463592462
         },
         "mode": "lines",
         "type": "scatter",
         "x": [
          -1.9475975036621094,
          0.02812773548066616,
          null
         ],
         "y": [
          -0.8779391050338745,
          -3.478724718093872,
          null
         ]
        },
        {
         "line": {
          "color": "cornflowerblue",
          "width": 0.9164836129510925
         },
         "mode": "lines",
         "type": "scatter",
         "x": [
          -1.9475975036621094,
          -1.5755537748336792,
          null
         ],
         "y": [
          -0.8779391050338745,
          -0.28668516874313354,
          null
         ]
        },
        {
         "line": {
          "color": "cornflowerblue",
          "width": 0.746568660793269
         },
         "mode": "lines",
         "type": "scatter",
         "x": [
          -1.9475975036621094,
          -1.358725666999817,
          null
         ],
         "y": [
          -0.8779391050338745,
          -1.635020136833191,
          null
         ]
        },
        {
         "line": {
          "color": "cornflowerblue",
          "width": 0.7487671279748737
         },
         "mode": "lines",
         "type": "scatter",
         "x": [
          -1.9475975036621094,
          -2.1417486667633057,
          null
         ],
         "y": [
          -0.8779391050338745,
          -1.0157002210617065,
          null
         ]
        },
        {
         "line": {
          "color": "cornflowerblue",
          "width": 0
         },
         "mode": "lines",
         "type": "scatter",
         "x": [
          -1.9475975036621094,
          -1.0601037740707397,
          null
         ],
         "y": [
          -0.8779391050338745,
          -2.278170585632324,
          null
         ]
        },
        {
         "line": {
          "color": "cornflowerblue",
          "width": 0.7138779247222193
         },
         "mode": "lines",
         "type": "scatter",
         "x": [
          -2.1417486667633057,
          0.02812773548066616,
          null
         ],
         "y": [
          -1.0157002210617065,
          -3.478724718093872,
          null
         ]
        },
        {
         "line": {
          "color": "cornflowerblue",
          "width": 0
         },
         "mode": "lines",
         "type": "scatter",
         "x": [
          -2.1417486667633057,
          -1.0601037740707397,
          null
         ],
         "y": [
          -1.0157002210617065,
          -2.278170585632324,
          null
         ]
        },
        {
         "line": {
          "color": "cornflowerblue",
          "width": 1.2500946853355392
         },
         "mode": "lines",
         "type": "scatter",
         "x": [
          0.02812773548066616,
          -0.4601374864578247,
          null
         ],
         "y": [
          -3.478724718093872,
          -6.281803131103516,
          null
         ]
        },
        {
         "line": {
          "color": "cornflowerblue",
          "width": 0.8776066446971028
         },
         "mode": "lines",
         "type": "scatter",
         "x": [
          0.02812773548066616,
          -4.728614807128906,
          null
         ],
         "y": [
          -3.478724718093872,
          -6.334270477294922,
          null
         ]
        },
        {
         "line": {
          "color": "cornflowerblue",
          "width": 1.2321436719589278
         },
         "mode": "lines",
         "type": "scatter",
         "x": [
          0.02812773548066616,
          -0.6384429335594177,
          null
         ],
         "y": [
          -3.478724718093872,
          -2.491394519805908,
          null
         ]
        },
        {
         "line": {
          "color": "cornflowerblue",
          "width": 1.16232144182521
         },
         "mode": "lines",
         "type": "scatter",
         "x": [
          0.02812773548066616,
          0.7359210252761841,
          null
         ],
         "y": [
          -3.478724718093872,
          -2.4273197650909424,
          null
         ]
        },
        {
         "line": {
          "color": "cornflowerblue",
          "width": 0.8758173005146244
         },
         "mode": "lines",
         "type": "scatter",
         "x": [
          0.02812773548066616,
          0.0731186494231224,
          null
         ],
         "y": [
          -3.478724718093872,
          3.723130226135254,
          null
         ]
        },
        {
         "line": {
          "color": "cornflowerblue",
          "width": 0.8422727712604391
         },
         "mode": "lines",
         "type": "scatter",
         "x": [
          0.02812773548066616,
          -0.7015998363494873,
          null
         ],
         "y": [
          -3.478724718093872,
          -3.307401180267334,
          null
         ]
        },
        {
         "line": {
          "color": "cornflowerblue",
          "width": 0.9384751519180878
         },
         "mode": "lines",
         "type": "scatter",
         "x": [
          0.02812773548066616,
          0.5415882468223572,
          null
         ],
         "y": [
          -3.478724718093872,
          3.622282028198242,
          null
         ]
        },
        {
         "line": {
          "color": "cornflowerblue",
          "width": 0.7638895259352613
         },
         "mode": "lines",
         "type": "scatter",
         "x": [
          0.02812773548066616,
          1.106619119644165,
          null
         ],
         "y": [
          -3.478724718093872,
          -3.8142035007476807,
          null
         ]
        },
        {
         "line": {
          "color": "cornflowerblue",
          "width": 1.125943944634948
         },
         "mode": "lines",
         "type": "scatter",
         "x": [
          0.02812773548066616,
          1.3652284145355225,
          null
         ],
         "y": [
          -3.478724718093872,
          -3.590304136276245,
          null
         ]
        },
        {
         "line": {
          "color": "cornflowerblue",
          "width": 0.9030287198154553
         },
         "mode": "lines",
         "type": "scatter",
         "x": [
          0.02812773548066616,
          -0.05931005999445915,
          null
         ],
         "y": [
          -3.478724718093872,
          3.714719295501709,
          null
         ]
        },
        {
         "line": {
          "color": "cornflowerblue",
          "width": 1.0400244209589296
         },
         "mode": "lines",
         "type": "scatter",
         "x": [
          0.02812773548066616,
          -1.684312105178833,
          null
         ],
         "y": [
          -3.478724718093872,
          -2.9888062477111816,
          null
         ]
        },
        {
         "line": {
          "color": "cornflowerblue",
          "width": 0.9011252793374207
         },
         "mode": "lines",
         "type": "scatter",
         "x": [
          0.02812773548066616,
          -0.2766866683959961,
          null
         ],
         "y": [
          -3.478724718093872,
          -4.681640148162842,
          null
         ]
        },
        {
         "line": {
          "color": "cornflowerblue",
          "width": 1.0434187325620206
         },
         "mode": "lines",
         "type": "scatter",
         "x": [
          0.02812773548066616,
          -3.261085033416748,
          null
         ],
         "y": [
          -3.478724718093872,
          -9.968637466430664,
          null
         ]
        },
        {
         "line": {
          "color": "cornflowerblue",
          "width": 0.6286731957825835
         },
         "mode": "lines",
         "type": "scatter",
         "x": [
          0.02812773548066616,
          -2.163369655609131,
          null
         ],
         "y": [
          -3.478724718093872,
          -4.109903335571289,
          null
         ]
        },
        {
         "line": {
          "color": "cornflowerblue",
          "width": 1.1362227408336927
         },
         "mode": "lines",
         "type": "scatter",
         "x": [
          0.02812773548066616,
          -1.8085951805114746,
          null
         ],
         "y": [
          -3.478724718093872,
          -3.729217529296875,
          null
         ]
        },
        {
         "line": {
          "color": "cornflowerblue",
          "width": 0.6343270582444803
         },
         "mode": "lines",
         "type": "scatter",
         "x": [
          0.02812773548066616,
          0.16153889894485474,
          null
         ],
         "y": [
          -3.478724718093872,
          3.7165751457214355,
          null
         ]
        },
        {
         "line": {
          "color": "cornflowerblue",
          "width": 0.5108105128137095
         },
         "mode": "lines",
         "type": "scatter",
         "x": [
          0.02812773548066616,
          1.3407062292099,
          null
         ],
         "y": [
          -3.478724718093872,
          -5.794181823730469,
          null
         ]
        },
        {
         "line": {
          "color": "cornflowerblue",
          "width": 0.753984115481275
         },
         "mode": "lines",
         "type": "scatter",
         "x": [
          0.02812773548066616,
          -0.08317464590072632,
          null
         ],
         "y": [
          -3.478724718093872,
          -7.529576301574707,
          null
         ]
        },
        {
         "line": {
          "color": "cornflowerblue",
          "width": 0.8101937128344255
         },
         "mode": "lines",
         "type": "scatter",
         "x": [
          0.02812773548066616,
          0.9181256294250488,
          null
         ],
         "y": [
          -3.478724718093872,
          -6.51785945892334,
          null
         ]
        },
        {
         "line": {
          "color": "cornflowerblue",
          "width": 1.0319103153362794
         },
         "mode": "lines",
         "type": "scatter",
         "x": [
          0.02812773548066616,
          -0.41577109694480896,
          null
         ],
         "y": [
          -3.478724718093872,
          -7.202605724334717,
          null
         ]
        },
        {
         "line": {
          "color": "cornflowerblue",
          "width": 0.40657599250709797
         },
         "mode": "lines",
         "type": "scatter",
         "x": [
          0.02812773548066616,
          3.2725751399993896,
          null
         ],
         "y": [
          -3.478724718093872,
          1.4593629837036133,
          null
         ]
        },
        {
         "line": {
          "color": "cornflowerblue",
          "width": 1.0724799944751156
         },
         "mode": "lines",
         "type": "scatter",
         "x": [
          0.02812773548066616,
          5.207670211791992,
          null
         ],
         "y": [
          -3.478724718093872,
          -6.687026023864746,
          null
         ]
        },
        {
         "line": {
          "color": "cornflowerblue",
          "width": 0.40285441123439786
         },
         "mode": "lines",
         "type": "scatter",
         "x": [
          0.02812773548066616,
          4.0417160987854,
          null
         ],
         "y": [
          -3.478724718093872,
          -3.198374032974243,
          null
         ]
        },
        {
         "line": {
          "color": "cornflowerblue",
          "width": 0.9085044771272045
         },
         "mode": "lines",
         "type": "scatter",
         "x": [
          0.02812773548066616,
          -3.1496315002441406,
          null
         ],
         "y": [
          -3.478724718093872,
          -10.181135177612305,
          null
         ]
        },
        {
         "line": {
          "color": "cornflowerblue",
          "width": 0.7095166991727893
         },
         "mode": "lines",
         "type": "scatter",
         "x": [
          0.02812773548066616,
          -0.011628356762230396,
          null
         ],
         "y": [
          -3.478724718093872,
          3.68748140335083,
          null
         ]
        },
        {
         "line": {
          "color": "cornflowerblue",
          "width": 0.9006036391729835
         },
         "mode": "lines",
         "type": "scatter",
         "x": [
          0.02812773548066616,
          0.11800596117973328,
          null
         ],
         "y": [
          -3.478724718093872,
          -6.167614936828613,
          null
         ]
        },
        {
         "line": {
          "color": "cornflowerblue",
          "width": 0.8914495963782514
         },
         "mode": "lines",
         "type": "scatter",
         "x": [
          0.02812773548066616,
          -2.2358944416046143,
          null
         ],
         "y": [
          -3.478724718093872,
          -2.6037206649780273,
          null
         ]
        },
        {
         "line": {
          "color": "cornflowerblue",
          "width": 0
         },
         "mode": "lines",
         "type": "scatter",
         "x": [
          0.02812773548066616,
          -1.0601037740707397,
          null
         ],
         "y": [
          -3.478724718093872,
          -2.278170585632324,
          null
         ]
        },
        {
         "line": {
          "color": "cornflowerblue",
          "width": 0.8115453340470359
         },
         "mode": "lines",
         "type": "scatter",
         "x": [
          -0.4601374864578247,
          -2.419635057449341,
          null
         ],
         "y": [
          -6.281803131103516,
          -4.468696117401123,
          null
         ]
        },
        {
         "line": {
          "color": "cornflowerblue",
          "width": 0.8181445007656246
         },
         "mode": "lines",
         "type": "scatter",
         "x": [
          -0.4601374864578247,
          0.11800596117973328,
          null
         ],
         "y": [
          -6.281803131103516,
          -6.167614936828613,
          null
         ]
        },
        {
         "line": {
          "color": "cornflowerblue",
          "width": 0.6699116321955294
         },
         "mode": "lines",
         "type": "scatter",
         "x": [
          -0.4601374864578247,
          -4.728614807128906,
          null
         ],
         "y": [
          -6.281803131103516,
          -6.334270477294922,
          null
         ]
        },
        {
         "line": {
          "color": "cornflowerblue",
          "width": 0.731452779187445
         },
         "mode": "lines",
         "type": "scatter",
         "x": [
          -0.4601374864578247,
          -0.7015998363494873,
          null
         ],
         "y": [
          -6.281803131103516,
          -3.307401180267334,
          null
         ]
        },
        {
         "line": {
          "color": "cornflowerblue",
          "width": 0.3440251115894085
         },
         "mode": "lines",
         "type": "scatter",
         "x": [
          -0.4601374864578247,
          1.3407062292099,
          null
         ],
         "y": [
          -6.281803131103516,
          -5.794181823730469,
          null
         ]
        },
        {
         "line": {
          "color": "cornflowerblue",
          "width": 0
         },
         "mode": "lines",
         "type": "scatter",
         "x": [
          -0.4601374864578247,
          1.0052075386047363,
          null
         ],
         "y": [
          -6.281803131103516,
          -8.030531883239746,
          null
         ]
        },
        {
         "line": {
          "color": "cornflowerblue",
          "width": 0.7603878556431565
         },
         "mode": "lines",
         "type": "scatter",
         "x": [
          -2.419635057449341,
          -5.791920185089111,
          null
         ],
         "y": [
          -4.468696117401123,
          -6.406492710113525,
          null
         ]
        },
        {
         "line": {
          "color": "cornflowerblue",
          "width": 0
         },
         "mode": "lines",
         "type": "scatter",
         "x": [
          -2.419635057449341,
          -1.0601037740707397,
          null
         ],
         "y": [
          -4.468696117401123,
          -2.278170585632324,
          null
         ]
        },
        {
         "line": {
          "color": "cornflowerblue",
          "width": 0.2355325599019591
         },
         "mode": "lines",
         "type": "scatter",
         "x": [
          0.11800596117973328,
          -0.0815376415848732,
          null
         ],
         "y": [
          -6.167614936828613,
          -8.81507682800293,
          null
         ]
        },
        {
         "line": {
          "color": "cornflowerblue",
          "width": 0.7371196938485625
         },
         "mode": "lines",
         "type": "scatter",
         "x": [
          0.11800596117973328,
          -0.08317464590072632,
          null
         ],
         "y": [
          -6.167614936828613,
          -7.529576301574707,
          null
         ]
        },
        {
         "line": {
          "color": "cornflowerblue",
          "width": 0.7504836196601484
         },
         "mode": "lines",
         "type": "scatter",
         "x": [
          0.11800596117973328,
          0.9181256294250488,
          null
         ],
         "y": [
          -6.167614936828613,
          -6.51785945892334,
          null
         ]
        },
        {
         "line": {
          "color": "cornflowerblue",
          "width": 0
         },
         "mode": "lines",
         "type": "scatter",
         "x": [
          0.11800596117973328,
          1.0052075386047363,
          null
         ],
         "y": [
          -6.167614936828613,
          -8.030531883239746,
          null
         ]
        },
        {
         "line": {
          "color": "cornflowerblue",
          "width": 0.8652341244146502
         },
         "mode": "lines",
         "type": "scatter",
         "x": [
          0.7359210252761841,
          -0.6384429335594177,
          null
         ],
         "y": [
          -2.4273197650909424,
          -2.491394519805908,
          null
         ]
        },
        {
         "line": {
          "color": "cornflowerblue",
          "width": 0.9783185430618998
         },
         "mode": "lines",
         "type": "scatter",
         "x": [
          0.7359210252761841,
          -1.684312105178833,
          null
         ],
         "y": [
          -2.4273197650909424,
          -2.9888062477111816,
          null
         ]
        },
        {
         "line": {
          "color": "cornflowerblue",
          "width": 0.407012115996238
         },
         "mode": "lines",
         "type": "scatter",
         "x": [
          0.7359210252761841,
          3.2725751399993896,
          null
         ],
         "y": [
          -2.4273197650909424,
          1.4593629837036133,
          null
         ]
        },
        {
         "line": {
          "color": "cornflowerblue",
          "width": 0
         },
         "mode": "lines",
         "type": "scatter",
         "x": [
          0.7359210252761841,
          -1.0601037740707397,
          null
         ],
         "y": [
          -2.4273197650909424,
          -2.278170585632324,
          null
         ]
        },
        {
         "line": {
          "color": "cornflowerblue",
          "width": 0.554172494154412
         },
         "mode": "lines",
         "type": "scatter",
         "x": [
          -1.684312105178833,
          -0.6591405272483826,
          null
         ],
         "y": [
          -2.9888062477111816,
          -8.202556610107422,
          null
         ]
        },
        {
         "line": {
          "color": "cornflowerblue",
          "width": 1.0025371856154095
         },
         "mode": "lines",
         "type": "scatter",
         "x": [
          -1.684312105178833,
          4.842525482177734,
          null
         ],
         "y": [
          -2.9888062477111816,
          -6.549506664276123,
          null
         ]
        },
        {
         "line": {
          "color": "cornflowerblue",
          "width": 0.8094764178679773
         },
         "mode": "lines",
         "type": "scatter",
         "x": [
          -1.684312105178833,
          0.37457114458084106,
          null
         ],
         "y": [
          -2.9888062477111816,
          -1.6131783723831177,
          null
         ]
        },
        {
         "line": {
          "color": "cornflowerblue",
          "width": 0.6210464393950684
         },
         "mode": "lines",
         "type": "scatter",
         "x": [
          -1.684312105178833,
          -2.163369655609131,
          null
         ],
         "y": [
          -2.9888062477111816,
          -4.109903335571289,
          null
         ]
        },
        {
         "line": {
          "color": "cornflowerblue",
          "width": 0.9954827762763065
         },
         "mode": "lines",
         "type": "scatter",
         "x": [
          -1.684312105178833,
          -2.916576385498047,
          null
         ],
         "y": [
          -2.9888062477111816,
          -2.7157065868377686,
          null
         ]
        },
        {
         "line": {
          "color": "cornflowerblue",
          "width": 0
         },
         "mode": "lines",
         "type": "scatter",
         "x": [
          -1.684312105178833,
          -1.0601037740707397,
          null
         ],
         "y": [
          -2.9888062477111816,
          -2.278170585632324,
          null
         ]
        },
        {
         "line": {
          "color": "cornflowerblue",
          "width": 0.34106540045534156
         },
         "mode": "lines",
         "type": "scatter",
         "x": [
          3.293605327606201,
          3.2814278602600098,
          null
         ],
         "y": [
          1.445583462715149,
          1.4431389570236206,
          null
         ]
        },
        {
         "line": {
          "color": "cornflowerblue",
          "width": 1.4752506664263125
         },
         "mode": "lines",
         "type": "scatter",
         "x": [
          3.293605327606201,
          3.2725751399993896,
          null
         ],
         "y": [
          1.445583462715149,
          1.4593629837036133,
          null
         ]
        },
        {
         "line": {
          "color": "cornflowerblue",
          "width": 0
         },
         "mode": "lines",
         "type": "scatter",
         "x": [
          3.293605327606201,
          3.295823335647583,
          null
         ],
         "y": [
          1.445583462715149,
          1.436713695526123,
          null
         ]
        },
        {
         "line": {
          "color": "cornflowerblue",
          "width": 0.9479452333527306
         },
         "mode": "lines",
         "type": "scatter",
         "x": [
          3.2814278602600098,
          3.2725751399993896,
          null
         ],
         "y": [
          1.4431389570236206,
          1.4593629837036133,
          null
         ]
        },
        {
         "line": {
          "color": "cornflowerblue",
          "width": 0.37090427602181303
         },
         "mode": "lines",
         "type": "scatter",
         "x": [
          3.2814278602600098,
          0.5415882468223572,
          null
         ],
         "y": [
          1.4431389570236206,
          3.622282028198242,
          null
         ]
        },
        {
         "line": {
          "color": "cornflowerblue",
          "width": 0
         },
         "mode": "lines",
         "type": "scatter",
         "x": [
          3.2814278602600098,
          3.295823335647583,
          null
         ],
         "y": [
          1.4431389570236206,
          1.436713695526123,
          null
         ]
        },
        {
         "line": {
          "color": "cornflowerblue",
          "width": 0.3543685239627649
         },
         "mode": "lines",
         "type": "scatter",
         "x": [
          3.2725751399993896,
          0.5415882468223572,
          null
         ],
         "y": [
          1.4593629837036133,
          3.622282028198242,
          null
         ]
        },
        {
         "line": {
          "color": "cornflowerblue",
          "width": 0
         },
         "mode": "lines",
         "type": "scatter",
         "x": [
          3.2725751399993896,
          3.295823335647583,
          null
         ],
         "y": [
          1.4593629837036133,
          1.436713695526123,
          null
         ]
        },
        {
         "line": {
          "color": "cornflowerblue",
          "width": 0.8461113244520344
         },
         "mode": "lines",
         "type": "scatter",
         "x": [
          -1.8085951805114746,
          -0.2766866683959961,
          null
         ],
         "y": [
          -3.729217529296875,
          -4.681640148162842,
          null
         ]
        },
        {
         "line": {
          "color": "cornflowerblue",
          "width": 1.1796797004527741
         },
         "mode": "lines",
         "type": "scatter",
         "x": [
          -1.8085951805114746,
          -2.916576385498047,
          null
         ],
         "y": [
          -3.729217529296875,
          -2.7157065868377686,
          null
         ]
        },
        {
         "line": {
          "color": "cornflowerblue",
          "width": 0
         },
         "mode": "lines",
         "type": "scatter",
         "x": [
          -1.8085951805114746,
          -1.0601037740707397,
          null
         ],
         "y": [
          -3.729217529296875,
          -2.278170585632324,
          null
         ]
        },
        {
         "line": {
          "color": "cornflowerblue",
          "width": 1.3411016016614292
         },
         "mode": "lines",
         "type": "scatter",
         "x": [
          5.643202304840088,
          4.5785908699035645,
          null
         ],
         "y": [
          -7.1055216789245605,
          -4.128320693969727,
          null
         ]
        },
        {
         "line": {
          "color": "cornflowerblue",
          "width": 2.376806762735528
         },
         "mode": "lines",
         "type": "scatter",
         "x": [
          5.643202304840088,
          5.781284809112549,
          null
         ],
         "y": [
          -7.1055216789245605,
          -7.476600646972656,
          null
         ]
        },
        {
         "line": {
          "color": "cornflowerblue",
          "width": 0.631274265003052
         },
         "mode": "lines",
         "type": "scatter",
         "x": [
          5.643202304840088,
          5.697055339813232,
          null
         ],
         "y": [
          -7.1055216789245605,
          -7.079563140869141,
          null
         ]
        },
        {
         "line": {
          "color": "cornflowerblue",
          "width": 0.5086386541947672
         },
         "mode": "lines",
         "type": "scatter",
         "x": [
          5.643202304840088,
          5.511551856994629,
          null
         ],
         "y": [
          -7.1055216789245605,
          -6.968996524810791,
          null
         ]
        },
        {
         "line": {
          "color": "cornflowerblue",
          "width": 0
         },
         "mode": "lines",
         "type": "scatter",
         "x": [
          5.643202304840088,
          5.945291042327881,
          null
         ],
         "y": [
          -7.1055216789245605,
          -6.937792778015137,
          null
         ]
        },
        {
         "line": {
          "color": "cornflowerblue",
          "width": 0
         },
         "mode": "lines",
         "type": "scatter",
         "x": [
          -2.163369655609131,
          -1.0601037740707397,
          null
         ],
         "y": [
          -4.109903335571289,
          -2.278170585632324,
          null
         ]
        },
        {
         "line": {
          "color": "cornflowerblue",
          "width": 0.5086386541947672
         },
         "mode": "lines",
         "type": "scatter",
         "x": [
          -5.791920185089111,
          -5.987621307373047,
          null
         ],
         "y": [
          -6.406492710113525,
          -5.304370403289795,
          null
         ]
        },
        {
         "line": {
          "color": "cornflowerblue",
          "width": 0.7512391332841041
         },
         "mode": "lines",
         "type": "scatter",
         "x": [
          -5.791920185089111,
          0.2706189751625061,
          null
         ],
         "y": [
          -6.406492710113525,
          -3.2082691192626953,
          null
         ]
        },
        {
         "line": {
          "color": "cornflowerblue",
          "width": 0
         },
         "mode": "lines",
         "type": "scatter",
         "x": [
          -5.791920185089111,
          -5.410782814025879,
          null
         ],
         "y": [
          -6.406492710113525,
          -5.800204753875732,
          null
         ]
        },
        {
         "line": {
          "color": "cornflowerblue",
          "width": 1.1453521502010109
         },
         "mode": "lines",
         "type": "scatter",
         "x": [
          4.7516703605651855,
          4.053683280944824,
          null
         ],
         "y": [
          -3.4347987174987793,
          -3.584167957305908,
          null
         ]
        },
        {
         "line": {
          "color": "cornflowerblue",
          "width": 1.4813382557014572
         },
         "mode": "lines",
         "type": "scatter",
         "x": [
          4.7516703605651855,
          4.570398330688477,
          null
         ],
         "y": [
          -3.4347987174987793,
          -3.268995523452759,
          null
         ]
        },
        {
         "line": {
          "color": "cornflowerblue",
          "width": 0.981603003839697
         },
         "mode": "lines",
         "type": "scatter",
         "x": [
          4.7516703605651855,
          4.323518753051758,
          null
         ],
         "y": [
          -3.4347987174987793,
          -3.3379104137420654,
          null
         ]
        },
        {
         "line": {
          "color": "cornflowerblue",
          "width": 0.9926529793667571
         },
         "mode": "lines",
         "type": "scatter",
         "x": [
          4.7516703605651855,
          4.5785908699035645,
          null
         ],
         "y": [
          -3.4347987174987793,
          -4.128320693969727,
          null
         ]
        },
        {
         "line": {
          "color": "cornflowerblue",
          "width": 0.6676742311362887
         },
         "mode": "lines",
         "type": "scatter",
         "x": [
          4.7516703605651855,
          5.022825717926025,
          null
         ],
         "y": [
          -3.4347987174987793,
          -3.4537124633789062,
          null
         ]
        },
        {
         "line": {
          "color": "cornflowerblue",
          "width": 0
         },
         "mode": "lines",
         "type": "scatter",
         "x": [
          4.7516703605651855,
          4.816677570343018,
          null
         ],
         "y": [
          -3.4347987174987793,
          -2.8877131938934326,
          null
         ]
        },
        {
         "line": {
          "color": "cornflowerblue",
          "width": 1.3414387564901258
         },
         "mode": "lines",
         "type": "scatter",
         "x": [
          4.053683280944824,
          4.323518753051758,
          null
         ],
         "y": [
          -3.584167957305908,
          -3.3379104137420654,
          null
         ]
        },
        {
         "line": {
          "color": "cornflowerblue",
          "width": 0.7453964646136978
         },
         "mode": "lines",
         "type": "scatter",
         "x": [
          4.053683280944824,
          -0.08317464590072632,
          null
         ],
         "y": [
          -3.584167957305908,
          -7.529576301574707,
          null
         ]
        },
        {
         "line": {
          "color": "cornflowerblue",
          "width": 1.5337230805615087
         },
         "mode": "lines",
         "type": "scatter",
         "x": [
          4.053683280944824,
          4.570398330688477,
          null
         ],
         "y": [
          -3.584167957305908,
          -3.268995523452759,
          null
         ]
        },
        {
         "line": {
          "color": "cornflowerblue",
          "width": 0.7480932731428112
         },
         "mode": "lines",
         "type": "scatter",
         "x": [
          4.053683280944824,
          4.0417160987854,
          null
         ],
         "y": [
          -3.584167957305908,
          -3.198374032974243,
          null
         ]
        },
        {
         "line": {
          "color": "cornflowerblue",
          "width": 0
         },
         "mode": "lines",
         "type": "scatter",
         "x": [
          4.053683280944824,
          4.816677570343018,
          null
         ],
         "y": [
          -3.584167957305908,
          -2.8877131938934326,
          null
         ]
        },
        {
         "line": {
          "color": "cornflowerblue",
          "width": 1.2162413048885385
         },
         "mode": "lines",
         "type": "scatter",
         "x": [
          4.570398330688477,
          4.323518753051758,
          null
         ],
         "y": [
          -3.268995523452759,
          -3.3379104137420654,
          null
         ]
        },
        {
         "line": {
          "color": "cornflowerblue",
          "width": 1.156675079069476
         },
         "mode": "lines",
         "type": "scatter",
         "x": [
          4.570398330688477,
          4.5785908699035645,
          null
         ],
         "y": [
          -3.268995523452759,
          -4.128320693969727,
          null
         ]
        },
        {
         "line": {
          "color": "cornflowerblue",
          "width": 0.7197312301718174
         },
         "mode": "lines",
         "type": "scatter",
         "x": [
          4.570398330688477,
          4.0417160987854,
          null
         ],
         "y": [
          -3.268995523452759,
          -3.198374032974243,
          null
         ]
        },
        {
         "line": {
          "color": "cornflowerblue",
          "width": 0.26470716435887254
         },
         "mode": "lines",
         "type": "scatter",
         "x": [
          4.570398330688477,
          5.022825717926025,
          null
         ],
         "y": [
          -3.268995523452759,
          -3.4537124633789062,
          null
         ]
        },
        {
         "line": {
          "color": "cornflowerblue",
          "width": 0
         },
         "mode": "lines",
         "type": "scatter",
         "x": [
          4.570398330688477,
          4.816677570343018,
          null
         ],
         "y": [
          -3.268995523452759,
          -2.8877131938934326,
          null
         ]
        },
        {
         "line": {
          "color": "cornflowerblue",
          "width": 1.1612563902158028
         },
         "mode": "lines",
         "type": "scatter",
         "x": [
          4.323518753051758,
          0.2706189751625061,
          null
         ],
         "y": [
          -3.3379104137420654,
          -3.2082691192626953,
          null
         ]
        },
        {
         "line": {
          "color": "cornflowerblue",
          "width": 0.9404858786885939
         },
         "mode": "lines",
         "type": "scatter",
         "x": [
          4.323518753051758,
          1.3652284145355225,
          null
         ],
         "y": [
          -3.3379104137420654,
          -3.590304136276245,
          null
         ]
        },
        {
         "line": {
          "color": "cornflowerblue",
          "width": 0.8474617763743302
         },
         "mode": "lines",
         "type": "scatter",
         "x": [
          4.323518753051758,
          4.0417160987854,
          null
         ],
         "y": [
          -3.3379104137420654,
          -3.198374032974243,
          null
         ]
        },
        {
         "line": {
          "color": "cornflowerblue",
          "width": 0
         },
         "mode": "lines",
         "type": "scatter",
         "x": [
          4.323518753051758,
          4.816677570343018,
          null
         ],
         "y": [
          -3.3379104137420654,
          -2.8877131938934326,
          null
         ]
        },
        {
         "line": {
          "color": "cornflowerblue",
          "width": 0.7967022426608494
         },
         "mode": "lines",
         "type": "scatter",
         "x": [
          4.5785908699035645,
          5.697055339813232,
          null
         ],
         "y": [
          -4.128320693969727,
          -7.079563140869141,
          null
         ]
        },
        {
         "line": {
          "color": "cornflowerblue",
          "width": 0.35014213342169687
         },
         "mode": "lines",
         "type": "scatter",
         "x": [
          4.5785908699035645,
          1.7392162084579468,
          null
         ],
         "y": [
          -4.128320693969727,
          -7.298854351043701,
          null
         ]
        },
        {
         "line": {
          "color": "cornflowerblue",
          "width": 0.9854203719942107
         },
         "mode": "lines",
         "type": "scatter",
         "x": [
          4.5785908699035645,
          0.37457114458084106,
          null
         ],
         "y": [
          -4.128320693969727,
          -1.6131783723831177,
          null
         ]
        },
        {
         "line": {
          "color": "cornflowerblue",
          "width": 1.454648695730724
         },
         "mode": "lines",
         "type": "scatter",
         "x": [
          4.5785908699035645,
          5.781284809112549,
          null
         ],
         "y": [
          -4.128320693969727,
          -7.476600646972656,
          null
         ]
        },
        {
         "line": {
          "color": "cornflowerblue",
          "width": 0.22394397892979132
         },
         "mode": "lines",
         "type": "scatter",
         "x": [
          4.5785908699035645,
          5.022825717926025,
          null
         ],
         "y": [
          -4.128320693969727,
          -3.4537124633789062,
          null
         ]
        },
        {
         "line": {
          "color": "cornflowerblue",
          "width": 0
         },
         "mode": "lines",
         "type": "scatter",
         "x": [
          4.5785908699035645,
          4.816677570343018,
          null
         ],
         "y": [
          -4.128320693969727,
          -2.8877131938934326,
          null
         ]
        },
        {
         "line": {
          "color": "cornflowerblue",
          "width": 1.1871396083823624
         },
         "mode": "lines",
         "type": "scatter",
         "x": [
          -3.1524977684020996,
          -3.1496315002441406,
          null
         ],
         "y": [
          -10.40757942199707,
          -10.181135177612305,
          null
         ]
        },
        {
         "line": {
          "color": "cornflowerblue",
          "width": 0.2890175749970686
         },
         "mode": "lines",
         "type": "scatter",
         "x": [
          -3.1524977684020996,
          -3.261085033416748,
          null
         ],
         "y": [
          -10.40757942199707,
          -9.968637466430664,
          null
         ]
        },
        {
         "line": {
          "color": "cornflowerblue",
          "width": 0.48631483299412853
         },
         "mode": "lines",
         "type": "scatter",
         "x": [
          -3.1524977684020996,
          -3.1505517959594727,
          null
         ],
         "y": [
          -10.40757942199707,
          -10.24310302734375,
          null
         ]
        },
        {
         "line": {
          "color": "cornflowerblue",
          "width": 0
         },
         "mode": "lines",
         "type": "scatter",
         "x": [
          -3.1524977684020996,
          -3.1378252506256104,
          null
         ],
         "y": [
          -10.40757942199707,
          -10.469085693359375,
          null
         ]
        },
        {
         "line": {
          "color": "cornflowerblue",
          "width": 1.6945978848253498
         },
         "mode": "lines",
         "type": "scatter",
         "x": [
          -3.1496315002441406,
          -3.261085033416748,
          null
         ],
         "y": [
          -10.181135177612305,
          -9.968637466430664,
          null
         ]
        },
        {
         "line": {
          "color": "cornflowerblue",
          "width": 1.4024914423506192
         },
         "mode": "lines",
         "type": "scatter",
         "x": [
          -3.1496315002441406,
          -3.1505517959594727,
          null
         ],
         "y": [
          -10.181135177612305,
          -10.24310302734375,
          null
         ]
        },
        {
         "line": {
          "color": "cornflowerblue",
          "width": 0
         },
         "mode": "lines",
         "type": "scatter",
         "x": [
          -3.1496315002441406,
          -3.1378252506256104,
          null
         ],
         "y": [
          -10.181135177612305,
          -10.469085693359375,
          null
         ]
        },
        {
         "line": {
          "color": "cornflowerblue",
          "width": 0.3343266074084815
         },
         "mode": "lines",
         "type": "scatter",
         "x": [
          -3.261085033416748,
          -5.225663185119629,
          null
         ],
         "y": [
          -9.968637466430664,
          0.9511251449584961,
          null
         ]
        },
        {
         "line": {
          "color": "cornflowerblue",
          "width": 2.1910127542317555
         },
         "mode": "lines",
         "type": "scatter",
         "x": [
          -3.261085033416748,
          -3.1505517959594727,
          null
         ],
         "y": [
          -9.968637466430664,
          -10.24310302734375,
          null
         ]
        },
        {
         "line": {
          "color": "cornflowerblue",
          "width": 0
         },
         "mode": "lines",
         "type": "scatter",
         "x": [
          -3.261085033416748,
          -3.1378252506256104,
          null
         ],
         "y": [
          -9.968637466430664,
          -10.469085693359375,
          null
         ]
        },
        {
         "line": {
          "color": "cornflowerblue",
          "width": 0
         },
         "mode": "lines",
         "type": "scatter",
         "x": [
          -3.1505517959594727,
          -3.1378252506256104,
          null
         ],
         "y": [
          -10.24310302734375,
          -10.469085693359375,
          null
         ]
        },
        {
         "line": {
          "color": "cornflowerblue",
          "width": 0
         },
         "mode": "lines",
         "type": "scatter",
         "x": [
          -4.728614807128906,
          -5.410782814025879,
          null
         ],
         "y": [
          -6.334270477294922,
          -5.800204753875732,
          null
         ]
        },
        {
         "line": {
          "color": "cornflowerblue",
          "width": 0.43246873331896757
         },
         "mode": "lines",
         "type": "scatter",
         "x": [
          -4.572055339813232,
          -5.686635971069336,
          null
         ],
         "y": [
          1.424369215965271,
          1.0812551975250244,
          null
         ]
        },
        {
         "line": {
          "color": "cornflowerblue",
          "width": 0.7030429608071067
         },
         "mode": "lines",
         "type": "scatter",
         "x": [
          -4.572055339813232,
          -4.863575458526611,
          null
         ],
         "y": [
          1.424369215965271,
          1.8526055812835693,
          null
         ]
        },
        {
         "line": {
          "color": "cornflowerblue",
          "width": 0.6538587164929555
         },
         "mode": "lines",
         "type": "scatter",
         "x": [
          -4.572055339813232,
          -4.6838507652282715,
          null
         ],
         "y": [
          1.424369215965271,
          1.1470887660980225,
          null
         ]
        },
        {
         "line": {
          "color": "cornflowerblue",
          "width": 0
         },
         "mode": "lines",
         "type": "scatter",
         "x": [
          -4.572055339813232,
          -5.33353328704834,
          null
         ],
         "y": [
          1.424369215965271,
          0.6507877111434937,
          null
         ]
        },
        {
         "line": {
          "color": "cornflowerblue",
          "width": 0.7675754956029772
         },
         "mode": "lines",
         "type": "scatter",
         "x": [
          -5.686635971069336,
          -4.6838507652282715,
          null
         ],
         "y": [
          1.0812551975250244,
          1.1470887660980225,
          null
         ]
        },
        {
         "line": {
          "color": "cornflowerblue",
          "width": 0.3674887553846866
         },
         "mode": "lines",
         "type": "scatter",
         "x": [
          -5.686635971069336,
          -5.688165664672852,
          null
         ],
         "y": [
          1.0812551975250244,
          1.4192664623260498,
          null
         ]
        },
        {
         "line": {
          "color": "cornflowerblue",
          "width": 0.7490261894651415
         },
         "mode": "lines",
         "type": "scatter",
         "x": [
          -5.686635971069336,
          0.2706189751625061,
          null
         ],
         "y": [
          1.0812551975250244,
          -3.2082691192626953,
          null
         ]
        },
        {
         "line": {
          "color": "cornflowerblue",
          "width": 0.8855829611783544
         },
         "mode": "lines",
         "type": "scatter",
         "x": [
          -5.686635971069336,
          -2.916576385498047,
          null
         ],
         "y": [
          1.0812551975250244,
          -2.7157065868377686,
          null
         ]
        },
        {
         "line": {
          "color": "cornflowerblue",
          "width": 0
         },
         "mode": "lines",
         "type": "scatter",
         "x": [
          -5.686635971069336,
          -5.33353328704834,
          null
         ],
         "y": [
          1.0812551975250244,
          0.6507877111434937,
          null
         ]
        },
        {
         "line": {
          "color": "cornflowerblue",
          "width": 0.925511055936063
         },
         "mode": "lines",
         "type": "scatter",
         "x": [
          -4.863575458526611,
          -0.05931005999445915,
          null
         ],
         "y": [
          1.8526055812835693,
          3.714719295501709,
          null
         ]
        },
        {
         "line": {
          "color": "cornflowerblue",
          "width": 0.6976787950328988
         },
         "mode": "lines",
         "type": "scatter",
         "x": [
          -4.863575458526611,
          -5.225663185119629,
          null
         ],
         "y": [
          1.8526055812835693,
          0.9511251449584961,
          null
         ]
        },
        {
         "line": {
          "color": "cornflowerblue",
          "width": 0.7616221084772354
         },
         "mode": "lines",
         "type": "scatter",
         "x": [
          -4.863575458526611,
          -4.6838507652282715,
          null
         ],
         "y": [
          1.8526055812835693,
          1.1470887660980225,
          null
         ]
        },
        {
         "line": {
          "color": "cornflowerblue",
          "width": 0
         },
         "mode": "lines",
         "type": "scatter",
         "x": [
          -4.863575458526611,
          -5.33353328704834,
          null
         ],
         "y": [
          1.8526055812835693,
          0.6507877111434937,
          null
         ]
        },
        {
         "line": {
          "color": "cornflowerblue",
          "width": 0
         },
         "mode": "lines",
         "type": "scatter",
         "x": [
          -4.6838507652282715,
          -5.33353328704834,
          null
         ],
         "y": [
          1.1470887660980225,
          0.6507877111434937,
          null
         ]
        },
        {
         "line": {
          "color": "cornflowerblue",
          "width": 0.9302982254236352
         },
         "mode": "lines",
         "type": "scatter",
         "x": [
          -0.6384429335594177,
          0.2706189751625061,
          null
         ],
         "y": [
          -2.491394519805908,
          -3.2082691192626953,
          null
         ]
        },
        {
         "line": {
          "color": "cornflowerblue",
          "width": 0.5832603545114469
         },
         "mode": "lines",
         "type": "scatter",
         "x": [
          -0.6384429335594177,
          -0.7015998363494873,
          null
         ],
         "y": [
          -2.491394519805908,
          -3.307401180267334,
          null
         ]
        },
        {
         "line": {
          "color": "cornflowerblue",
          "width": 0
         },
         "mode": "lines",
         "type": "scatter",
         "x": [
          -0.6384429335594177,
          -1.0601037740707397,
          null
         ],
         "y": [
          -2.491394519805908,
          -2.278170585632324,
          null
         ]
        },
        {
         "line": {
          "color": "cornflowerblue",
          "width": 0.5356327922888515
         },
         "mode": "lines",
         "type": "scatter",
         "x": [
          0.2706189751625061,
          1.106619119644165,
          null
         ],
         "y": [
          -3.2082691192626953,
          -3.8142035007476807,
          null
         ]
        },
        {
         "line": {
          "color": "cornflowerblue",
          "width": 1.2955012766771787
         },
         "mode": "lines",
         "type": "scatter",
         "x": [
          0.2706189751625061,
          4.842525482177734,
          null
         ],
         "y": [
          -3.2082691192626953,
          -6.549506664276123,
          null
         ]
        },
        {
         "line": {
          "color": "cornflowerblue",
          "width": 0.7446032016180884
         },
         "mode": "lines",
         "type": "scatter",
         "x": [
          0.2706189751625061,
          -1.358725666999817,
          null
         ],
         "y": [
          -3.2082691192626953,
          -1.635020136833191,
          null
         ]
        },
        {
         "line": {
          "color": "cornflowerblue",
          "width": 0
         },
         "mode": "lines",
         "type": "scatter",
         "x": [
          0.2706189751625061,
          -1.0601037740707397,
          null
         ],
         "y": [
          -3.2082691192626953,
          -2.278170585632324,
          null
         ]
        },
        {
         "line": {
          "color": "cornflowerblue",
          "width": 0
         },
         "mode": "lines",
         "type": "scatter",
         "x": [
          -0.41577109694480896,
          1.0052075386047363,
          null
         ],
         "y": [
          -7.202605724334717,
          -8.030531883239746,
          null
         ]
        },
        {
         "line": {
          "color": "cornflowerblue",
          "width": 0.2587789618417028
         },
         "mode": "lines",
         "type": "scatter",
         "x": [
          -2.916576385498047,
          -5.225663185119629,
          null
         ],
         "y": [
          -2.7157065868377686,
          0.9511251449584961,
          null
         ]
        },
        {
         "line": {
          "color": "cornflowerblue",
          "width": 0.370702428961507
         },
         "mode": "lines",
         "type": "scatter",
         "x": [
          -2.916576385498047,
          -5.688165664672852,
          null
         ],
         "y": [
          -2.7157065868377686,
          1.4192664623260498,
          null
         ]
        },
        {
         "line": {
          "color": "cornflowerblue",
          "width": 0
         },
         "mode": "lines",
         "type": "scatter",
         "x": [
          -2.916576385498047,
          -1.0601037740707397,
          null
         ],
         "y": [
          -2.7157065868377686,
          -2.278170585632324,
          null
         ]
        },
        {
         "line": {
          "color": "cornflowerblue",
          "width": 0
         },
         "mode": "lines",
         "type": "scatter",
         "x": [
          -5.987621307373047,
          -5.410782814025879,
          null
         ],
         "y": [
          -5.304370403289795,
          -5.800204753875732,
          null
         ]
        },
        {
         "line": {
          "color": "cornflowerblue",
          "width": 0.7130740927019065
         },
         "mode": "lines",
         "type": "scatter",
         "x": [
          -7.857990741729736,
          -7.860302448272705,
          null
         ],
         "y": [
          -3.3920838832855225,
          -3.382972240447998,
          null
         ]
        },
        {
         "line": {
          "color": "cornflowerblue",
          "width": 0
         },
         "mode": "lines",
         "type": "scatter",
         "x": [
          -7.857990741729736,
          -7.862587928771973,
          null
         ],
         "y": [
          -3.3920838832855225,
          -3.3792386054992676,
          null
         ]
        },
        {
         "line": {
          "color": "cornflowerblue",
          "width": 0
         },
         "mode": "lines",
         "type": "scatter",
         "x": [
          -7.860302448272705,
          -7.862587928771973,
          null
         ],
         "y": [
          -3.382972240447998,
          -3.3792386054992676,
          null
         ]
        },
        {
         "line": {
          "color": "cornflowerblue",
          "width": 1.9017158219545323
         },
         "mode": "lines",
         "type": "scatter",
         "x": [
          5.781284809112549,
          5.697055339813232,
          null
         ],
         "y": [
          -7.476600646972656,
          -7.079563140869141,
          null
         ]
        },
        {
         "line": {
          "color": "cornflowerblue",
          "width": 1.1699842473949937
         },
         "mode": "lines",
         "type": "scatter",
         "x": [
          5.781284809112549,
          5.511551856994629,
          null
         ],
         "y": [
          -7.476600646972656,
          -6.968996524810791,
          null
         ]
        },
        {
         "line": {
          "color": "cornflowerblue",
          "width": 0
         },
         "mode": "lines",
         "type": "scatter",
         "x": [
          5.781284809112549,
          5.945291042327881,
          null
         ],
         "y": [
          -7.476600646972656,
          -6.937792778015137,
          null
         ]
        },
        {
         "line": {
          "color": "cornflowerblue",
          "width": 0.7952927390249875
         },
         "mode": "lines",
         "type": "scatter",
         "x": [
          -0.0815376415848732,
          -0.6591405272483826,
          null
         ],
         "y": [
          -8.81507682800293,
          -8.202556610107422,
          null
         ]
        },
        {
         "line": {
          "color": "cornflowerblue",
          "width": 0.24314530298141201
         },
         "mode": "lines",
         "type": "scatter",
         "x": [
          -0.0815376415848732,
          -0.2520357370376587,
          null
         ],
         "y": [
          -8.81507682800293,
          -8.291696548461914,
          null
         ]
        },
        {
         "line": {
          "color": "cornflowerblue",
          "width": 0.221406876827854
         },
         "mode": "lines",
         "type": "scatter",
         "x": [
          -0.0815376415848732,
          -0.08317464590072632,
          null
         ],
         "y": [
          -8.81507682800293,
          -7.529576301574707,
          null
         ]
        },
        {
         "line": {
          "color": "cornflowerblue",
          "width": 0
         },
         "mode": "lines",
         "type": "scatter",
         "x": [
          -0.0815376415848732,
          1.0052075386047363,
          null
         ],
         "y": [
          -8.81507682800293,
          -8.030531883239746,
          null
         ]
        },
        {
         "line": {
          "color": "cornflowerblue",
          "width": 0.6957141232197679
         },
         "mode": "lines",
         "type": "scatter",
         "x": [
          -0.6591405272483826,
          -0.2520357370376587,
          null
         ],
         "y": [
          -8.202556610107422,
          -8.291696548461914,
          null
         ]
        },
        {
         "line": {
          "color": "cornflowerblue",
          "width": 0
         },
         "mode": "lines",
         "type": "scatter",
         "x": [
          -0.6591405272483826,
          1.0052075386047363,
          null
         ],
         "y": [
          -8.202556610107422,
          -8.030531883239746,
          null
         ]
        },
        {
         "line": {
          "color": "cornflowerblue",
          "width": 0.2272423353081865
         },
         "mode": "lines",
         "type": "scatter",
         "x": [
          -0.2520357370376587,
          0.5669806003570557,
          null
         ],
         "y": [
          -8.291696548461914,
          -8.46044921875,
          null
         ]
        },
        {
         "line": {
          "color": "cornflowerblue",
          "width": 0
         },
         "mode": "lines",
         "type": "scatter",
         "x": [
          -0.2520357370376587,
          1.0052075386047363,
          null
         ],
         "y": [
          -8.291696548461914,
          -8.030531883239746,
          null
         ]
        },
        {
         "line": {
          "color": "cornflowerblue",
          "width": 0.20977573491044682
         },
         "mode": "lines",
         "type": "scatter",
         "x": [
          -0.08317464590072632,
          0.5669806003570557,
          null
         ],
         "y": [
          -7.529576301574707,
          -8.46044921875,
          null
         ]
        },
        {
         "line": {
          "color": "cornflowerblue",
          "width": 0
         },
         "mode": "lines",
         "type": "scatter",
         "x": [
          -0.08317464590072632,
          1.0052075386047363,
          null
         ],
         "y": [
          -7.529576301574707,
          -8.030531883239746,
          null
         ]
        },
        {
         "line": {
          "color": "cornflowerblue",
          "width": 1.439425817396946
         },
         "mode": "lines",
         "type": "scatter",
         "x": [
          0.0731186494231224,
          0.5415882468223572,
          null
         ],
         "y": [
          3.723130226135254,
          3.622282028198242,
          null
         ]
        },
        {
         "line": {
          "color": "cornflowerblue",
          "width": 2.3244101559464414
         },
         "mode": "lines",
         "type": "scatter",
         "x": [
          0.0731186494231224,
          -0.011628356762230396,
          null
         ],
         "y": [
          3.723130226135254,
          3.68748140335083,
          null
         ]
        },
        {
         "line": {
          "color": "cornflowerblue",
          "width": 1.8578033021173308
         },
         "mode": "lines",
         "type": "scatter",
         "x": [
          0.0731186494231224,
          0.16153889894485474,
          null
         ],
         "y": [
          3.723130226135254,
          3.7165751457214355,
          null
         ]
        },
        {
         "line": {
          "color": "cornflowerblue",
          "width": 1.1671608891332572
         },
         "mode": "lines",
         "type": "scatter",
         "x": [
          0.0731186494231224,
          -0.05931005999445915,
          null
         ],
         "y": [
          3.723130226135254,
          3.714719295501709,
          null
         ]
        },
        {
         "line": {
          "color": "cornflowerblue",
          "width": 0
         },
         "mode": "lines",
         "type": "scatter",
         "x": [
          0.0731186494231224,
          0.2803784906864166,
          null
         ],
         "y": [
          3.723130226135254,
          3.7742855548858643,
          null
         ]
        },
        {
         "line": {
          "color": "cornflowerblue",
          "width": 1.377004168917626
         },
         "mode": "lines",
         "type": "scatter",
         "x": [
          0.5415882468223572,
          -0.011628356762230396,
          null
         ],
         "y": [
          3.622282028198242,
          3.68748140335083,
          null
         ]
        },
        {
         "line": {
          "color": "cornflowerblue",
          "width": 0.849842440725895
         },
         "mode": "lines",
         "type": "scatter",
         "x": [
          0.5415882468223572,
          -0.05931005999445915,
          null
         ],
         "y": [
          3.622282028198242,
          3.714719295501709,
          null
         ]
        },
        {
         "line": {
          "color": "cornflowerblue",
          "width": 1.4794756261722752
         },
         "mode": "lines",
         "type": "scatter",
         "x": [
          0.5415882468223572,
          0.16153889894485474,
          null
         ],
         "y": [
          3.622282028198242,
          3.7165751457214355,
          null
         ]
        },
        {
         "line": {
          "color": "cornflowerblue",
          "width": 0
         },
         "mode": "lines",
         "type": "scatter",
         "x": [
          0.5415882468223572,
          0.2803784906864166,
          null
         ],
         "y": [
          3.622282028198242,
          3.7742855548858643,
          null
         ]
        },
        {
         "line": {
          "color": "cornflowerblue",
          "width": 0.9124324371496553
         },
         "mode": "lines",
         "type": "scatter",
         "x": [
          -0.011628356762230396,
          -0.05931005999445915,
          null
         ],
         "y": [
          3.68748140335083,
          3.714719295501709,
          null
         ]
        },
        {
         "line": {
          "color": "cornflowerblue",
          "width": 1.907027157502006
         },
         "mode": "lines",
         "type": "scatter",
         "x": [
          -0.011628356762230396,
          0.16153889894485474,
          null
         ],
         "y": [
          3.68748140335083,
          3.7165751457214355,
          null
         ]
        },
        {
         "line": {
          "color": "cornflowerblue",
          "width": 0
         },
         "mode": "lines",
         "type": "scatter",
         "x": [
          -0.011628356762230396,
          0.2803784906864166,
          null
         ],
         "y": [
          3.68748140335083,
          3.7742855548858643,
          null
         ]
        },
        {
         "line": {
          "color": "cornflowerblue",
          "width": 1.4300383528155551
         },
         "mode": "lines",
         "type": "scatter",
         "x": [
          0.16153889894485474,
          -0.05931005999445915,
          null
         ],
         "y": [
          3.7165751457214355,
          3.714719295501709,
          null
         ]
        },
        {
         "line": {
          "color": "cornflowerblue",
          "width": 0
         },
         "mode": "lines",
         "type": "scatter",
         "x": [
          0.16153889894485474,
          0.2803784906864166,
          null
         ],
         "y": [
          3.7165751457214355,
          3.7742855548858643,
          null
         ]
        },
        {
         "line": {
          "color": "cornflowerblue",
          "width": 0
         },
         "mode": "lines",
         "type": "scatter",
         "x": [
          -0.05931005999445915,
          0.2803784906864166,
          null
         ],
         "y": [
          3.714719295501709,
          3.7742855548858643,
          null
         ]
        },
        {
         "line": {
          "color": "cornflowerblue",
          "width": 0.4897173398078839
         },
         "mode": "lines",
         "type": "scatter",
         "x": [
          5.697055339813232,
          4.842525482177734,
          null
         ],
         "y": [
          -7.079563140869141,
          -6.549506664276123,
          null
         ]
        },
        {
         "line": {
          "color": "cornflowerblue",
          "width": 0.7163259435918322
         },
         "mode": "lines",
         "type": "scatter",
         "x": [
          5.697055339813232,
          5.207670211791992,
          null
         ],
         "y": [
          -7.079563140869141,
          -6.687026023864746,
          null
         ]
        },
        {
         "line": {
          "color": "cornflowerblue",
          "width": 1.6357615989978862
         },
         "mode": "lines",
         "type": "scatter",
         "x": [
          5.697055339813232,
          5.511551856994629,
          null
         ],
         "y": [
          -7.079563140869141,
          -6.968996524810791,
          null
         ]
        },
        {
         "line": {
          "color": "cornflowerblue",
          "width": 0
         },
         "mode": "lines",
         "type": "scatter",
         "x": [
          5.697055339813232,
          5.945291042327881,
          null
         ],
         "y": [
          -7.079563140869141,
          -6.937792778015137,
          null
         ]
        },
        {
         "line": {
          "color": "cornflowerblue",
          "width": 1.0935325660010486
         },
         "mode": "lines",
         "type": "scatter",
         "x": [
          4.842525482177734,
          5.511551856994629,
          null
         ],
         "y": [
          -6.549506664276123,
          -6.968996524810791,
          null
         ]
        },
        {
         "line": {
          "color": "cornflowerblue",
          "width": 0.7921593194711348
         },
         "mode": "lines",
         "type": "scatter",
         "x": [
          4.842525482177734,
          -1.358725666999817,
          null
         ],
         "y": [
          -6.549506664276123,
          -1.635020136833191,
          null
         ]
        },
        {
         "line": {
          "color": "cornflowerblue",
          "width": 1.0019735352473433
         },
         "mode": "lines",
         "type": "scatter",
         "x": [
          4.842525482177734,
          5.207670211791992,
          null
         ],
         "y": [
          -6.549506664276123,
          -6.687026023864746,
          null
         ]
        },
        {
         "line": {
          "color": "cornflowerblue",
          "width": 0.7651502565592782
         },
         "mode": "lines",
         "type": "scatter",
         "x": [
          4.842525482177734,
          -2.2358944416046143,
          null
         ],
         "y": [
          -6.549506664276123,
          -2.6037206649780273,
          null
         ]
        },
        {
         "line": {
          "color": "cornflowerblue",
          "width": 0
         },
         "mode": "lines",
         "type": "scatter",
         "x": [
          4.842525482177734,
          5.945291042327881,
          null
         ],
         "y": [
          -6.549506664276123,
          -6.937792778015137,
          null
         ]
        },
        {
         "line": {
          "color": "cornflowerblue",
          "width": 1.1085559221456542
         },
         "mode": "lines",
         "type": "scatter",
         "x": [
          5.207670211791992,
          0.37457114458084106,
          null
         ],
         "y": [
          -6.687026023864746,
          -1.6131783723831177,
          null
         ]
        },
        {
         "line": {
          "color": "cornflowerblue",
          "width": 1.5112823582422228
         },
         "mode": "lines",
         "type": "scatter",
         "x": [
          5.207670211791992,
          5.511551856994629,
          null
         ],
         "y": [
          -6.687026023864746,
          -6.968996524810791,
          null
         ]
        },
        {
         "line": {
          "color": "cornflowerblue",
          "width": 0
         },
         "mode": "lines",
         "type": "scatter",
         "x": [
          5.207670211791992,
          5.945291042327881,
          null
         ],
         "y": [
          -6.687026023864746,
          -6.937792778015137,
          null
         ]
        },
        {
         "line": {
          "color": "cornflowerblue",
          "width": 0
         },
         "mode": "lines",
         "type": "scatter",
         "x": [
          5.511551856994629,
          5.945291042327881,
          null
         ],
         "y": [
          -6.968996524810791,
          -6.937792778015137,
          null
         ]
        },
        {
         "line": {
          "color": "cornflowerblue",
          "width": 1.7307930461873589
         },
         "mode": "lines",
         "type": "scatter",
         "x": [
          0.5243381857872009,
          0.4756990969181061,
          null
         ],
         "y": [
          -0.1671810895204544,
          -0.20842666923999786,
          null
         ]
        },
        {
         "line": {
          "color": "cornflowerblue",
          "width": 0
         },
         "mode": "lines",
         "type": "scatter",
         "x": [
          0.5243381857872009,
          -1.0601037740707397,
          null
         ],
         "y": [
          -0.1671810895204544,
          -2.278170585632324,
          null
         ]
        },
        {
         "line": {
          "color": "cornflowerblue",
          "width": 0
         },
         "mode": "lines",
         "type": "scatter",
         "x": [
          0.4756990969181061,
          -1.0601037740707397,
          null
         ],
         "y": [
          -0.20842666923999786,
          -2.278170585632324,
          null
         ]
        },
        {
         "line": {
          "color": "cornflowerblue",
          "width": 0.5325723286416677
         },
         "mode": "lines",
         "type": "scatter",
         "x": [
          -0.7015998363494873,
          1.3652284145355225,
          null
         ],
         "y": [
          -3.307401180267334,
          -3.590304136276245,
          null
         ]
        },
        {
         "line": {
          "color": "cornflowerblue",
          "width": 0.5582011197271198
         },
         "mode": "lines",
         "type": "scatter",
         "x": [
          -0.7015998363494873,
          1.106619119644165,
          null
         ],
         "y": [
          -3.307401180267334,
          -3.8142035007476807,
          null
         ]
        },
        {
         "line": {
          "color": "cornflowerblue",
          "width": 0
         },
         "mode": "lines",
         "type": "scatter",
         "x": [
          -0.7015998363494873,
          -1.0601037740707397,
          null
         ],
         "y": [
          -3.307401180267334,
          -2.278170585632324,
          null
         ]
        },
        {
         "line": {
          "color": "cornflowerblue",
          "width": 0.889061074118814
         },
         "mode": "lines",
         "type": "scatter",
         "x": [
          1.3652284145355225,
          4.0417160987854,
          null
         ],
         "y": [
          -3.590304136276245,
          -3.198374032974243,
          null
         ]
        },
        {
         "line": {
          "color": "cornflowerblue",
          "width": 0
         },
         "mode": "lines",
         "type": "scatter",
         "x": [
          1.3652284145355225,
          -1.0601037740707397,
          null
         ],
         "y": [
          -3.590304136276245,
          -2.278170585632324,
          null
         ]
        },
        {
         "line": {
          "color": "cornflowerblue",
          "width": 0.1860986654011515
         },
         "mode": "lines",
         "type": "scatter",
         "x": [
          1.106619119644165,
          5.022825717926025,
          null
         ],
         "y": [
          -3.8142035007476807,
          -3.4537124633789062,
          null
         ]
        },
        {
         "line": {
          "color": "cornflowerblue",
          "width": 0
         },
         "mode": "lines",
         "type": "scatter",
         "x": [
          1.106619119644165,
          -1.0601037740707397,
          null
         ],
         "y": [
          -3.8142035007476807,
          -2.278170585632324,
          null
         ]
        },
        {
         "line": {
          "color": "cornflowerblue",
          "width": 0
         },
         "mode": "lines",
         "type": "scatter",
         "x": [
          4.0417160987854,
          4.816677570343018,
          null
         ],
         "y": [
          -3.198374032974243,
          -2.8877131938934326,
          null
         ]
        },
        {
         "line": {
          "color": "cornflowerblue",
          "width": 0
         },
         "mode": "lines",
         "type": "scatter",
         "x": [
          -5.225663185119629,
          -5.33353328704834,
          null
         ],
         "y": [
          0.9511251449584961,
          0.6507877111434937,
          null
         ]
        },
        {
         "line": {
          "color": "cornflowerblue",
          "width": 0
         },
         "mode": "lines",
         "type": "scatter",
         "x": [
          -1.5755537748336792,
          -1.0601037740707397,
          null
         ],
         "y": [
          -0.28668516874313354,
          -2.278170585632324,
          null
         ]
        },
        {
         "line": {
          "color": "cornflowerblue",
          "width": 0
         },
         "mode": "lines",
         "type": "scatter",
         "x": [
          1.7392162084579468,
          1.0052075386047363,
          null
         ],
         "y": [
          -7.298854351043701,
          -8.030531883239746,
          null
         ]
        },
        {
         "line": {
          "color": "cornflowerblue",
          "width": 0.8767563304143209
         },
         "mode": "lines",
         "type": "scatter",
         "x": [
          -0.2766866683959961,
          1.3407062292099,
          null
         ],
         "y": [
          -4.681640148162842,
          -5.794181823730469,
          null
         ]
        },
        {
         "line": {
          "color": "cornflowerblue",
          "width": 0
         },
         "mode": "lines",
         "type": "scatter",
         "x": [
          -0.2766866683959961,
          -1.0601037740707397,
          null
         ],
         "y": [
          -4.681640148162842,
          -2.278170585632324,
          null
         ]
        },
        {
         "line": {
          "color": "cornflowerblue",
          "width": 0
         },
         "mode": "lines",
         "type": "scatter",
         "x": [
          1.3407062292099,
          1.0052075386047363,
          null
         ],
         "y": [
          -5.794181823730469,
          -8.030531883239746,
          null
         ]
        },
        {
         "line": {
          "color": "cornflowerblue",
          "width": 0.239451422717055
         },
         "mode": "lines",
         "type": "scatter",
         "x": [
          0.9181256294250488,
          5.022825717926025,
          null
         ],
         "y": [
          -6.51785945892334,
          -3.4537124633789062,
          null
         ]
        },
        {
         "line": {
          "color": "cornflowerblue",
          "width": 0
         },
         "mode": "lines",
         "type": "scatter",
         "x": [
          0.9181256294250488,
          1.0052075386047363,
          null
         ],
         "y": [
          -6.51785945892334,
          -8.030531883239746,
          null
         ]
        },
        {
         "line": {
          "color": "cornflowerblue",
          "width": 0
         },
         "mode": "lines",
         "type": "scatter",
         "x": [
          -2.2358944416046143,
          -1.0601037740707397,
          null
         ],
         "y": [
          -2.6037206649780273,
          -2.278170585632324,
          null
         ]
        },
        {
         "line": {
          "color": "cornflowerblue",
          "width": 0
         },
         "mode": "lines",
         "type": "scatter",
         "x": [
          0.37457114458084106,
          -1.0601037740707397,
          null
         ],
         "y": [
          -1.6131783723831177,
          -2.278170585632324,
          null
         ]
        },
        {
         "line": {
          "color": "cornflowerblue",
          "width": 0
         },
         "mode": "lines",
         "type": "scatter",
         "x": [
          -1.358725666999817,
          -1.0601037740707397,
          null
         ],
         "y": [
          -1.635020136833191,
          -2.278170585632324,
          null
         ]
        },
        {
         "line": {
          "color": "cornflowerblue",
          "width": 0
         },
         "mode": "lines",
         "type": "scatter",
         "x": [
          -5.688165664672852,
          -5.33353328704834,
          null
         ],
         "y": [
          1.4192664623260498,
          0.6507877111434937,
          null
         ]
        },
        {
         "line": {
          "color": "cornflowerblue",
          "width": 0
         },
         "mode": "lines",
         "type": "scatter",
         "x": [
          5.022825717926025,
          4.816677570343018,
          null
         ],
         "y": [
          -3.4537124633789062,
          -2.8877131938934326,
          null
         ]
        },
        {
         "line": {
          "color": "cornflowerblue",
          "width": 0
         },
         "mode": "lines",
         "type": "scatter",
         "x": [
          0.5669806003570557,
          1.0052075386047363,
          null
         ],
         "y": [
          -8.46044921875,
          -8.030531883239746,
          null
         ]
        },
        {
         "hoverinfo": "text",
         "marker": {
          "color": [
           2,
           2,
           1,
           2,
           0,
           2,
           2,
           1,
           1,
           1,
           1,
           1,
           1,
           1,
           1,
           1,
           4,
           4,
           4,
           4,
           4,
           4,
           2,
           2,
           2,
           0,
           2,
           2,
           0,
           2,
           2,
           2,
           2,
           1,
           2,
           1,
           2,
           2,
           8,
           8,
           8,
           2,
           9,
           2,
           4,
           7,
           7,
           7,
           7,
           7,
           3,
           3,
           3,
           3,
           4,
           0,
           0,
           0,
           0,
           2,
           2,
           1,
           2,
           4,
           6,
           6,
           9,
           1,
           1,
           1,
           1,
           5,
           5,
           5,
           5,
           5,
           9,
           9,
           9,
           9,
           2,
           2,
           2,
           2,
           2,
           7,
           0,
           2,
           1,
           2,
           1,
           1,
           2,
           2,
           2,
           0,
           7,
           1
          ],
          "opacity": [
           0.6,
           0.6,
           0.6,
           0.6,
           0.6,
           0.6,
           0.6,
           0.6,
           0.6,
           0.6,
           0.6,
           0.6,
           0.6,
           0.6,
           0.6,
           0.6,
           0.6,
           0.6,
           0.6,
           0.6,
           0.6,
           0.6,
           0.6,
           0.6,
           0.6,
           0.6,
           0.6,
           0.6,
           0.6,
           0.6,
           0.6,
           0.6,
           0.6,
           0.6,
           0.6,
           0.6,
           0.6,
           0.6,
           0.6,
           0.6,
           0.6,
           0.6,
           0.6,
           0.6,
           0.6,
           0.6,
           0.6,
           0.6,
           0.6,
           0.6,
           0.6,
           0.6,
           0.6,
           0.6,
           0.6,
           0.6,
           0.6,
           0.6,
           0.6,
           0.6,
           0.6,
           0.6,
           0.6,
           0.6,
           0.6,
           0.6,
           0.6,
           0.6,
           0.6,
           0.6,
           0.6,
           0.6,
           0.6,
           0.6,
           0.6,
           0.6,
           0.6,
           0.6,
           0.6,
           0.6,
           0.6,
           0.6,
           0.6,
           0.6,
           0.6,
           0.6,
           0.6,
           0.6,
           0.6,
           0.6,
           0.6,
           0.6,
           0.6,
           0.6,
           0.6,
           0.6,
           0.6,
           0.6
          ],
          "size": [
           3,
           30,
           25,
           10,
           27,
           26,
           29,
           9,
           30,
           12,
           11,
           2,
           27,
           28,
           8,
           6,
           20,
           1,
           1,
           6,
           17,
           28,
           7,
           12,
           9,
           21,
           30,
           5,
           27,
           28,
           29,
           23,
           30,
           22,
           4,
           24,
           23,
           10,
           1,
           13,
           22,
           21,
           5,
           6,
           12,
           11,
           8,
           10,
           14,
           16,
           4,
           23,
           8,
           3,
           20,
           2,
           19,
           2,
           15,
           20,
           17,
           21,
           11,
           14,
           3,
           20,
           13,
           16,
           7,
           24,
           22,
           26,
           18,
           26,
           24,
           17,
           9,
           18,
           10,
           5,
           4,
           4,
           14,
           24,
           17,
           16,
           29,
           15,
           19,
           18,
           7,
           13,
           19,
           14,
           27,
           25,
           25,
           15
          ],
          "symbol": "circle"
         },
         "mode": "markers+text",
         "text": [
          "<b>Afghanistan</b>",
          "<b>UK</b>",
          "<b>Netherlands</b>",
          "<b>Puerto Rico</b>",
          "<b>China</b>",
          "<b>Ireland</b>",
          "<b>Japan</b>",
          "<b>Algeria</b>",
          "<b>France</b>",
          "<b>Monaco</b>",
          "<b>Tunisia</b>",
          "<b>Angola</b>",
          "<b>Belgium</b>",
          "<b>Italy</b>",
          "<b>Vietnam</b>",
          "<b>Liechtenstein</b>",
          "<b>Argentina</b>",
          "<b>Bolivia</b>",
          "<b>Venezuela</b>",
          "<b>Peru</b>",
          "<b>Chile</b>",
          "<b>Spain</b>",
          "<b>Aruba</b>",
          "<b>Cambodia</b>",
          "<b>Bahamas</b>",
          "<b>United Arab Emirates</b>",
          "<b>USA</b>",
          "<b>Bahrain</b>",
          "<b>Hong Kong</b>",
          "<b>Australia</b>",
          "<b>Canada</b>",
          "<b>New Zealand</b>",
          "<b>Germany</b>",
          "<b>Austria</b>",
          "<b>Cayman Islands</b>",
          "<b>Switzerland</b>",
          "<b>Czech Republic</b>",
          "<b>Isle Of Man</b>",
          "<b>Belarus</b>",
          "<b>Ukraine</b>",
          "<b>Russia</b>",
          "<b>Luxembourg</b>",
          "<b>Cyprus</b>",
          "<b>Lithuania</b>",
          "<b>Panama</b>",
          "<b>Bosnia and Herzegovina</b>",
          "<b>Slovenia</b>",
          "<b>Republic of North Macedonia</b>",
          "<b>Croatia</b>",
          "<b>Qatar</b>",
          "<b>Botswana</b>",
          "<b>South Africa</b>",
          "<b>Kenya</b>",
          "<b>Sudan</b>",
          "<b>Brazil</b>",
          "<b>British Virgin Islands</b>",
          "<b>Taiwan</b>",
          "<b>Nepal</b>",
          "<b>Singapore</b>",
          "<b>Bulgaria</b>",
          "<b>Malta</b>",
          "<b>Romania</b>",
          "<b>Philippines</b>",
          "<b>Colombia</b>",
          "<b>Cuba</b>",
          "<b>Soviet Union</b>",
          "<b>Lebanon</b>",
          "<b>Czechoslovakia</b>",
          "<b>East Germany</b>",
          "<b>West Germany</b>",
          "<b>Poland</b>",
          "<b>Denmark</b>",
          "<b>Finland</b>",
          "<b>Sweden</b>",
          "<b>Norway</b>",
          "<b>Iceland</b>",
          "<b>Egypt</b>",
          "<b>Morocco</b>",
          "<b>Saudi Arabia</b>",
          "<b>Libya</b>",
          "<b>Estonia</b>",
          "<b>Georgia</b>",
          "<b>Federal Republic of Yugoslavia</b>",
          "<b>Hungary</b>",
          "<b>Greece</b>",
          "<b>Serbia</b>",
          "<b>India</b>",
          "<b>Indonesia</b>",
          "<b>Iran</b>",
          "<b>Israel</b>",
          "<b>Palestine</b>",
          "<b>Portugal</b>",
          "<b>Thailand</b>",
          "<b>Jordan</b>",
          "<b>Mexico</b>",
          "<b>South Korea</b>",
          "<b>Turkey</b>",
          "<b>Yugoslavia</b>"
         ],
         "textfont": {
          "size": 9
         },
         "textposition": "top center",
         "type": "scatter",
         "x": [
          -3.025320053100586,
          -0.695706844329834,
          0.7593147158622742,
          -2.382744550704956,
          -4.462895393371582,
          -2.6546692848205566,
          -2.8954691886901855,
          0.539480984210968,
          0.09857194125652313,
          1.6747220754623413,
          1.6242096424102783,
          1.0597984790802002,
          1.1390436887741089,
          0.39786961674690247,
          -0.7350497245788574,
          0.1870143860578537,
          -5.793375492095947,
          -6.404237270355225,
          -5.7836833000183105,
          -4.890204906463623,
          -5.2080864906311035,
          -6.335114479064941,
          -1.1081401109695435,
          -1.0004652738571167,
          -0.42609289288520813,
          -3.8458964824676514,
          -0.1273382604122162,
          -0.6112854480743408,
          -4.974451065063477,
          -2.123562812805176,
          -1.9475975036621094,
          -2.1417486667633057,
          0.02812773548066616,
          -0.4601374864578247,
          -2.419635057449341,
          0.11800596117973328,
          0.7359210252761841,
          -1.684312105178833,
          3.293605327606201,
          3.2814278602600098,
          3.2725751399993896,
          -1.8085951805114746,
          5.643202304840088,
          -2.163369655609131,
          -5.791920185089111,
          4.7516703605651855,
          4.053683280944824,
          4.570398330688477,
          4.323518753051758,
          4.5785908699035645,
          -3.1524977684020996,
          -3.1496315002441406,
          -3.261085033416748,
          -3.1505517959594727,
          -4.728614807128906,
          -4.572055339813232,
          -5.686635971069336,
          -4.863575458526611,
          -4.6838507652282715,
          -0.6384429335594177,
          0.2706189751625061,
          -0.41577109694480896,
          -2.916576385498047,
          -5.987621307373047,
          -7.857990741729736,
          -7.860302448272705,
          5.781284809112549,
          -0.0815376415848732,
          -0.6591405272483826,
          -0.2520357370376587,
          -0.08317464590072632,
          0.0731186494231224,
          0.5415882468223572,
          -0.011628356762230396,
          0.16153889894485474,
          -0.05931005999445915,
          5.697055339813232,
          4.842525482177734,
          5.207670211791992,
          5.511551856994629,
          0.5243381857872009,
          0.4756990969181061,
          -0.7015998363494873,
          1.3652284145355225,
          1.106619119644165,
          4.0417160987854,
          -5.225663185119629,
          -1.5755537748336792,
          1.7392162084579468,
          -0.2766866683959961,
          1.3407062292099,
          0.9181256294250488,
          -2.2358944416046143,
          0.37457114458084106,
          -1.358725666999817,
          -5.688165664672852,
          5.022825717926025,
          0.5669806003570557
         ],
         "y": [
          -3.402789354324341,
          -3.8832733631134033,
          -4.895992279052734,
          -2.972510814666748,
          1.043902039527893,
          -3.3455584049224854,
          -2.4151504039764404,
          -7.247027397155762,
          -4.941972255706787,
          -6.464766979217529,
          -7.151811599731445,
          -7.382706642150879,
          -7.128432273864746,
          -7.830792427062988,
          -5.138309478759766,
          -6.369262218475342,
          -6.179808616638184,
          -5.919153213500977,
          -5.480318069458008,
          -6.221857070922852,
          -6.200881004333496,
          -5.957523822784424,
          -0.1596251279115677,
          -0.915282130241394,
          -1.6907260417938232,
          1.0176095962524414,
          -2.524526596069336,
          -1.3087753057479858,
          1.329877257347107,
          -1.7770745754241943,
          -0.8779391050338745,
          -1.0157002210617065,
          -3.478724718093872,
          -6.281803131103516,
          -4.468696117401123,
          -6.167614936828613,
          -2.4273197650909424,
          -2.9888062477111816,
          1.445583462715149,
          1.4431389570236206,
          1.4593629837036133,
          -3.729217529296875,
          -7.1055216789245605,
          -4.109903335571289,
          -6.406492710113525,
          -3.4347987174987793,
          -3.584167957305908,
          -3.268995523452759,
          -3.3379104137420654,
          -4.128320693969727,
          -10.40757942199707,
          -10.181135177612305,
          -9.968637466430664,
          -10.24310302734375,
          -6.334270477294922,
          1.424369215965271,
          1.0812551975250244,
          1.8526055812835693,
          1.1470887660980225,
          -2.491394519805908,
          -3.2082691192626953,
          -7.202605724334717,
          -2.7157065868377686,
          -5.304370403289795,
          -3.3920838832855225,
          -3.382972240447998,
          -7.476600646972656,
          -8.81507682800293,
          -8.202556610107422,
          -8.291696548461914,
          -7.529576301574707,
          3.723130226135254,
          3.622282028198242,
          3.68748140335083,
          3.7165751457214355,
          3.714719295501709,
          -7.079563140869141,
          -6.549506664276123,
          -6.687026023864746,
          -6.968996524810791,
          -0.1671810895204544,
          -0.20842666923999786,
          -3.307401180267334,
          -3.590304136276245,
          -3.8142035007476807,
          -3.198374032974243,
          0.9511251449584961,
          -0.28668516874313354,
          -7.298854351043701,
          -4.681640148162842,
          -5.794181823730469,
          -6.51785945892334,
          -2.6037206649780273,
          -1.6131783723831177,
          -1.635020136833191,
          1.4192664623260498,
          -3.4537124633789062,
          -8.46044921875
         ]
        }
       ],
       "layout": {
        "height": 1000,
        "showlegend": false,
        "template": {
         "data": {
          "bar": [
           {
            "error_x": {
             "color": "#f2f5fa"
            },
            "error_y": {
             "color": "#f2f5fa"
            },
            "marker": {
             "line": {
              "color": "rgb(17,17,17)",
              "width": 0.5
             },
             "pattern": {
              "fillmode": "overlay",
              "size": 10,
              "solidity": 0.2
             }
            },
            "type": "bar"
           }
          ],
          "barpolar": [
           {
            "marker": {
             "line": {
              "color": "rgb(17,17,17)",
              "width": 0.5
             },
             "pattern": {
              "fillmode": "overlay",
              "size": 10,
              "solidity": 0.2
             }
            },
            "type": "barpolar"
           }
          ],
          "carpet": [
           {
            "aaxis": {
             "endlinecolor": "#A2B1C6",
             "gridcolor": "#506784",
             "linecolor": "#506784",
             "minorgridcolor": "#506784",
             "startlinecolor": "#A2B1C6"
            },
            "baxis": {
             "endlinecolor": "#A2B1C6",
             "gridcolor": "#506784",
             "linecolor": "#506784",
             "minorgridcolor": "#506784",
             "startlinecolor": "#A2B1C6"
            },
            "type": "carpet"
           }
          ],
          "choropleth": [
           {
            "colorbar": {
             "outlinewidth": 0,
             "ticks": ""
            },
            "type": "choropleth"
           }
          ],
          "contour": [
           {
            "colorbar": {
             "outlinewidth": 0,
             "ticks": ""
            },
            "colorscale": [
             [
              0,
              "#0d0887"
             ],
             [
              0.1111111111111111,
              "#46039f"
             ],
             [
              0.2222222222222222,
              "#7201a8"
             ],
             [
              0.3333333333333333,
              "#9c179e"
             ],
             [
              0.4444444444444444,
              "#bd3786"
             ],
             [
              0.5555555555555556,
              "#d8576b"
             ],
             [
              0.6666666666666666,
              "#ed7953"
             ],
             [
              0.7777777777777778,
              "#fb9f3a"
             ],
             [
              0.8888888888888888,
              "#fdca26"
             ],
             [
              1,
              "#f0f921"
             ]
            ],
            "type": "contour"
           }
          ],
          "contourcarpet": [
           {
            "colorbar": {
             "outlinewidth": 0,
             "ticks": ""
            },
            "type": "contourcarpet"
           }
          ],
          "heatmap": [
           {
            "colorbar": {
             "outlinewidth": 0,
             "ticks": ""
            },
            "colorscale": [
             [
              0,
              "#0d0887"
             ],
             [
              0.1111111111111111,
              "#46039f"
             ],
             [
              0.2222222222222222,
              "#7201a8"
             ],
             [
              0.3333333333333333,
              "#9c179e"
             ],
             [
              0.4444444444444444,
              "#bd3786"
             ],
             [
              0.5555555555555556,
              "#d8576b"
             ],
             [
              0.6666666666666666,
              "#ed7953"
             ],
             [
              0.7777777777777778,
              "#fb9f3a"
             ],
             [
              0.8888888888888888,
              "#fdca26"
             ],
             [
              1,
              "#f0f921"
             ]
            ],
            "type": "heatmap"
           }
          ],
          "heatmapgl": [
           {
            "colorbar": {
             "outlinewidth": 0,
             "ticks": ""
            },
            "colorscale": [
             [
              0,
              "#0d0887"
             ],
             [
              0.1111111111111111,
              "#46039f"
             ],
             [
              0.2222222222222222,
              "#7201a8"
             ],
             [
              0.3333333333333333,
              "#9c179e"
             ],
             [
              0.4444444444444444,
              "#bd3786"
             ],
             [
              0.5555555555555556,
              "#d8576b"
             ],
             [
              0.6666666666666666,
              "#ed7953"
             ],
             [
              0.7777777777777778,
              "#fb9f3a"
             ],
             [
              0.8888888888888888,
              "#fdca26"
             ],
             [
              1,
              "#f0f921"
             ]
            ],
            "type": "heatmapgl"
           }
          ],
          "histogram": [
           {
            "marker": {
             "pattern": {
              "fillmode": "overlay",
              "size": 10,
              "solidity": 0.2
             }
            },
            "type": "histogram"
           }
          ],
          "histogram2d": [
           {
            "colorbar": {
             "outlinewidth": 0,
             "ticks": ""
            },
            "colorscale": [
             [
              0,
              "#0d0887"
             ],
             [
              0.1111111111111111,
              "#46039f"
             ],
             [
              0.2222222222222222,
              "#7201a8"
             ],
             [
              0.3333333333333333,
              "#9c179e"
             ],
             [
              0.4444444444444444,
              "#bd3786"
             ],
             [
              0.5555555555555556,
              "#d8576b"
             ],
             [
              0.6666666666666666,
              "#ed7953"
             ],
             [
              0.7777777777777778,
              "#fb9f3a"
             ],
             [
              0.8888888888888888,
              "#fdca26"
             ],
             [
              1,
              "#f0f921"
             ]
            ],
            "type": "histogram2d"
           }
          ],
          "histogram2dcontour": [
           {
            "colorbar": {
             "outlinewidth": 0,
             "ticks": ""
            },
            "colorscale": [
             [
              0,
              "#0d0887"
             ],
             [
              0.1111111111111111,
              "#46039f"
             ],
             [
              0.2222222222222222,
              "#7201a8"
             ],
             [
              0.3333333333333333,
              "#9c179e"
             ],
             [
              0.4444444444444444,
              "#bd3786"
             ],
             [
              0.5555555555555556,
              "#d8576b"
             ],
             [
              0.6666666666666666,
              "#ed7953"
             ],
             [
              0.7777777777777778,
              "#fb9f3a"
             ],
             [
              0.8888888888888888,
              "#fdca26"
             ],
             [
              1,
              "#f0f921"
             ]
            ],
            "type": "histogram2dcontour"
           }
          ],
          "mesh3d": [
           {
            "colorbar": {
             "outlinewidth": 0,
             "ticks": ""
            },
            "type": "mesh3d"
           }
          ],
          "parcoords": [
           {
            "line": {
             "colorbar": {
              "outlinewidth": 0,
              "ticks": ""
             }
            },
            "type": "parcoords"
           }
          ],
          "pie": [
           {
            "automargin": true,
            "type": "pie"
           }
          ],
          "scatter": [
           {
            "marker": {
             "line": {
              "color": "#283442"
             }
            },
            "type": "scatter"
           }
          ],
          "scatter3d": [
           {
            "line": {
             "colorbar": {
              "outlinewidth": 0,
              "ticks": ""
             }
            },
            "marker": {
             "colorbar": {
              "outlinewidth": 0,
              "ticks": ""
             }
            },
            "type": "scatter3d"
           }
          ],
          "scattercarpet": [
           {
            "marker": {
             "colorbar": {
              "outlinewidth": 0,
              "ticks": ""
             }
            },
            "type": "scattercarpet"
           }
          ],
          "scattergeo": [
           {
            "marker": {
             "colorbar": {
              "outlinewidth": 0,
              "ticks": ""
             }
            },
            "type": "scattergeo"
           }
          ],
          "scattergl": [
           {
            "marker": {
             "line": {
              "color": "#283442"
             }
            },
            "type": "scattergl"
           }
          ],
          "scattermapbox": [
           {
            "marker": {
             "colorbar": {
              "outlinewidth": 0,
              "ticks": ""
             }
            },
            "type": "scattermapbox"
           }
          ],
          "scatterpolar": [
           {
            "marker": {
             "colorbar": {
              "outlinewidth": 0,
              "ticks": ""
             }
            },
            "type": "scatterpolar"
           }
          ],
          "scatterpolargl": [
           {
            "marker": {
             "colorbar": {
              "outlinewidth": 0,
              "ticks": ""
             }
            },
            "type": "scatterpolargl"
           }
          ],
          "scatterternary": [
           {
            "marker": {
             "colorbar": {
              "outlinewidth": 0,
              "ticks": ""
             }
            },
            "type": "scatterternary"
           }
          ],
          "surface": [
           {
            "colorbar": {
             "outlinewidth": 0,
             "ticks": ""
            },
            "colorscale": [
             [
              0,
              "#0d0887"
             ],
             [
              0.1111111111111111,
              "#46039f"
             ],
             [
              0.2222222222222222,
              "#7201a8"
             ],
             [
              0.3333333333333333,
              "#9c179e"
             ],
             [
              0.4444444444444444,
              "#bd3786"
             ],
             [
              0.5555555555555556,
              "#d8576b"
             ],
             [
              0.6666666666666666,
              "#ed7953"
             ],
             [
              0.7777777777777778,
              "#fb9f3a"
             ],
             [
              0.8888888888888888,
              "#fdca26"
             ],
             [
              1,
              "#f0f921"
             ]
            ],
            "type": "surface"
           }
          ],
          "table": [
           {
            "cells": {
             "fill": {
              "color": "#506784"
             },
             "line": {
              "color": "rgb(17,17,17)"
             }
            },
            "header": {
             "fill": {
              "color": "#2a3f5f"
             },
             "line": {
              "color": "rgb(17,17,17)"
             }
            },
            "type": "table"
           }
          ]
         },
         "layout": {
          "annotationdefaults": {
           "arrowcolor": "#f2f5fa",
           "arrowhead": 0,
           "arrowwidth": 1
          },
          "autotypenumbers": "strict",
          "coloraxis": {
           "colorbar": {
            "outlinewidth": 0,
            "ticks": ""
           }
          },
          "colorscale": {
           "diverging": [
            [
             0,
             "#8e0152"
            ],
            [
             0.1,
             "#c51b7d"
            ],
            [
             0.2,
             "#de77ae"
            ],
            [
             0.3,
             "#f1b6da"
            ],
            [
             0.4,
             "#fde0ef"
            ],
            [
             0.5,
             "#f7f7f7"
            ],
            [
             0.6,
             "#e6f5d0"
            ],
            [
             0.7,
             "#b8e186"
            ],
            [
             0.8,
             "#7fbc41"
            ],
            [
             0.9,
             "#4d9221"
            ],
            [
             1,
             "#276419"
            ]
           ],
           "sequential": [
            [
             0,
             "#0d0887"
            ],
            [
             0.1111111111111111,
             "#46039f"
            ],
            [
             0.2222222222222222,
             "#7201a8"
            ],
            [
             0.3333333333333333,
             "#9c179e"
            ],
            [
             0.4444444444444444,
             "#bd3786"
            ],
            [
             0.5555555555555556,
             "#d8576b"
            ],
            [
             0.6666666666666666,
             "#ed7953"
            ],
            [
             0.7777777777777778,
             "#fb9f3a"
            ],
            [
             0.8888888888888888,
             "#fdca26"
            ],
            [
             1,
             "#f0f921"
            ]
           ],
           "sequentialminus": [
            [
             0,
             "#0d0887"
            ],
            [
             0.1111111111111111,
             "#46039f"
            ],
            [
             0.2222222222222222,
             "#7201a8"
            ],
            [
             0.3333333333333333,
             "#9c179e"
            ],
            [
             0.4444444444444444,
             "#bd3786"
            ],
            [
             0.5555555555555556,
             "#d8576b"
            ],
            [
             0.6666666666666666,
             "#ed7953"
            ],
            [
             0.7777777777777778,
             "#fb9f3a"
            ],
            [
             0.8888888888888888,
             "#fdca26"
            ],
            [
             1,
             "#f0f921"
            ]
           ]
          },
          "colorway": [
           "#636efa",
           "#EF553B",
           "#00cc96",
           "#ab63fa",
           "#FFA15A",
           "#19d3f3",
           "#FF6692",
           "#B6E880",
           "#FF97FF",
           "#FECB52"
          ],
          "font": {
           "color": "#f2f5fa"
          },
          "geo": {
           "bgcolor": "rgb(17,17,17)",
           "lakecolor": "rgb(17,17,17)",
           "landcolor": "rgb(17,17,17)",
           "showlakes": true,
           "showland": true,
           "subunitcolor": "#506784"
          },
          "hoverlabel": {
           "align": "left"
          },
          "hovermode": "closest",
          "mapbox": {
           "style": "dark"
          },
          "paper_bgcolor": "rgb(17,17,17)",
          "plot_bgcolor": "rgb(17,17,17)",
          "polar": {
           "angularaxis": {
            "gridcolor": "#506784",
            "linecolor": "#506784",
            "ticks": ""
           },
           "bgcolor": "rgb(17,17,17)",
           "radialaxis": {
            "gridcolor": "#506784",
            "linecolor": "#506784",
            "ticks": ""
           }
          },
          "scene": {
           "xaxis": {
            "backgroundcolor": "rgb(17,17,17)",
            "gridcolor": "#506784",
            "gridwidth": 2,
            "linecolor": "#506784",
            "showbackground": true,
            "ticks": "",
            "zerolinecolor": "#C8D4E3"
           },
           "yaxis": {
            "backgroundcolor": "rgb(17,17,17)",
            "gridcolor": "#506784",
            "gridwidth": 2,
            "linecolor": "#506784",
            "showbackground": true,
            "ticks": "",
            "zerolinecolor": "#C8D4E3"
           },
           "zaxis": {
            "backgroundcolor": "rgb(17,17,17)",
            "gridcolor": "#506784",
            "gridwidth": 2,
            "linecolor": "#506784",
            "showbackground": true,
            "ticks": "",
            "zerolinecolor": "#C8D4E3"
           }
          },
          "shapedefaults": {
           "line": {
            "color": "#f2f5fa"
           }
          },
          "sliderdefaults": {
           "bgcolor": "#C8D4E3",
           "bordercolor": "rgb(17,17,17)",
           "borderwidth": 1,
           "tickwidth": 0
          },
          "ternary": {
           "aaxis": {
            "gridcolor": "#506784",
            "linecolor": "#506784",
            "ticks": ""
           },
           "baxis": {
            "gridcolor": "#506784",
            "linecolor": "#506784",
            "ticks": ""
           },
           "bgcolor": "rgb(17,17,17)",
           "caxis": {
            "gridcolor": "#506784",
            "linecolor": "#506784",
            "ticks": ""
           }
          },
          "title": {
           "x": 0.05
          },
          "updatemenudefaults": {
           "bgcolor": "#506784",
           "borderwidth": 0
          },
          "xaxis": {
           "automargin": true,
           "gridcolor": "#283442",
           "linecolor": "#506784",
           "ticks": "",
           "title": {
            "standoff": 15
           },
           "zerolinecolor": "#283442",
           "zerolinewidth": 2
          },
          "yaxis": {
           "automargin": true,
           "gridcolor": "#283442",
           "linecolor": "#506784",
           "ticks": "",
           "title": {
            "standoff": 15
           },
           "zerolinecolor": "#283442",
           "zerolinewidth": 2
          }
         }
        },
        "width": 1000,
        "xaxis": {
         "autorange": true,
         "range": [
          -8.871305685434013,
          6.711129529529256
         ],
         "showgrid": false,
         "showticklabels": false,
         "type": "linear",
         "zeroline": false
        },
        "yaxis": {
         "autorange": true,
         "range": [
          -11.2752940102271,
          4.848872327127381
         ],
         "showgrid": false,
         "showticklabels": false,
         "type": "linear",
         "zeroline": false
        }
       }
      },
      "image/png": "[encoded data removed]",
      "text/html": [
       "<div>                            <div id=\"753f82bb-ebc9-4a92-b665-6e67ecb0bfbb\" class=\"plotly-graph-div\" style=\"height:1000px; width:1000px;\"></div>            <script type=\"text/javascript\">                require([\"plotly\"], function(Plotly) {                    window.PLOTLYENV=window.PLOTLYENV || {};                                    if (document.getElementById(\"753f82bb-ebc9-4a92-b665-6e67ecb0bfbb\")) {                    Plotly.newPlot(                        \"753f82bb-ebc9-4a92-b665-6e67ecb0bfbb\",                        [{\"line\":{\"color\":\"cornflowerblue\",\"width\":0.6954798547756316},\"mode\":\"lines\",\"x\":[-3.025320053100586,-0.695706844329834,null],\"y\":[-3.402789354324341,-3.8832733631134033,null],\"type\":\"scatter\"},{\"line\":{\"color\":\"cornflowerblue\",\"width\":0.7956917453825592},\"mode\":\"lines\",\"x\":[-3.025320053100586,0.7593147158622742,null],\"y\":[-3.402789354324341,-4.895992279052734,null],\"type\":\"scatter\"},{\"line\":{\"color\":\"cornflowerblue\",\"width\":0.5320678324896667},\"mode\":\"lines\",\"x\":[-3.025320053100586,-2.382744550704956,null],\"y\":[-3.402789354324341,-2.972510814666748,null],\"type\":\"scatter\"},{\"line\":{\"color\":\"cornflowerblue\",\"width\":0.7705434091937515},\"mode\":\"lines\",\"x\":[-3.025320053100586,-4.462895393371582,null],\"y\":[-3.402789354324341,1.043902039527893,null],\"type\":\"scatter\"},{\"line\":{\"color\":\"cornflowerblue\",\"width\":0.9342003778519445},\"mode\":\"lines\",\"x\":[-3.025320053100586,-2.6546692848205566,null],\"y\":[-3.402789354324341,-3.3455584049224854,null],\"type\":\"scatter\"},{\"line\":{\"color\":\"cornflowerblue\",\"width\":0.741581746239736},\"mode\":\"lines\",\"x\":[-3.025320053100586,-2.8954691886901855,null],\"y\":[-3.402789354324341,-2.4151504039764404,null],\"type\":\"scatter\"},{\"line\":{\"color\":\"cornflowerblue\",\"width\":0.4966151125133465},\"mode\":\"lines\",\"x\":[-3.025320053100586,1.7392162084579468,null],\"y\":[-3.402789354324341,-7.298854351043701,null],\"type\":\"scatter\"},{\"line\":{\"color\":\"cornflowerblue\",\"width\":0},\"mode\":\"lines\",\"x\":[-3.025320053100586,-1.0601037740707397,null],\"y\":[-3.402789354324341,-2.278170585632324,null],\"type\":\"scatter\"},{\"line\":{\"color\":\"cornflowerblue\",\"width\":0.803640414622122},\"mode\":\"lines\",\"x\":[-0.695706844329834,-2.123562812805176,null],\"y\":[-3.8832733631134033,-1.7770745754241943,null],\"type\":\"scatter\"},{\"line\":{\"color\":\"cornflowerblue\",\"width\":1.0174727956125078},\"mode\":\"lines\",\"x\":[-0.695706844329834,-0.42609289288520813,null],\"y\":[-3.8832733631134033,-1.6907260417938232,null],\"type\":\"scatter\"},{\"line\":{\"color\":\"cornflowerblue\",\"width\":1.2734162472360238},\"mode\":\"lines\",\"x\":[-0.695706844329834,-0.6112854480743408,null],\"y\":[-3.8832733631134033,-1.3087753057479858,null],\"type\":\"scatter\"},{\"line\":{\"color\":\"cornflowerblue\",\"width\":0.9404970674275586},\"mode\":\"lines\",\"x\":[-0.695706844329834,-6.404237270355225,null],\"y\":[-3.8832733631134033,-5.919153213500977,null],\"type\":\"scatter\"},{\"line\":{\"color\":\"cornflowerblue\",\"width\":0.9526215350815781},\"mode\":\"lines\",\"x\":[-0.695706844329834,-0.6384429335594177,null],\"y\":[-3.8832733631134033,-2.491394519805908,null],\"type\":\"scatter\"},{\"line\":{\"color\":\"cornflowerblue\",\"width\":0.9500866167643858},\"mode\":\"lines\",\"x\":[-0.695706844329834,-1.0004652738571167,null],\"y\":[-3.8832733631134033,-0.915282130241394,null],\"type\":\"scatter\"},{\"line\":{\"color\":\"cornflowerblue\",\"width\":1.0148170906985354},\"mode\":\"lines\",\"x\":[-0.695706844329834,-1.9475975036621094,null],\"y\":[-3.8832733631134033,-0.8779391050338745,null],\"type\":\"scatter\"},{\"line\":{\"color\":\"cornflowerblue\",\"width\":0.7899429133911848},\"mode\":\"lines\",\"x\":[-0.695706844329834,-2.419635057449341,null],\"y\":[-3.8832733631134033,-4.468696117401123,null],\"type\":\"scatter\"},{\"line\":{\"color\":\"cornflowerblue\",\"width\":0.907512648973051},\"mode\":\"lines\",\"x\":[-0.695706844329834,5.643202304840088,null],\"y\":[-3.8832733631134033,-7.1055216789245605,null],\"type\":\"scatter\"},{\"line\":{\"color\":\"cornflowerblue\",\"width\":1.3212273281657403},\"mode\":\"lines\",\"x\":[-0.695706844329834,0.7359210252761841,null],\"y\":[-3.8832733631134033,-2.4273197650909424,null],\"type\":\"scatter\"},{\"line\":{\"color\":\"cornflowerblue\",\"width\":0.7557941138137699},\"mode\":\"lines\",\"x\":[-0.695706844329834,-0.6591405272483826,null],\"y\":[-3.8832733631134033,-8.202556610107422,null],\"type\":\"scatter\"},{\"line\":{\"color\":\"cornflowerblue\",\"width\":1.2583295886363626},\"mode\":\"lines\",\"x\":[-0.695706844329834,0.02812773548066616,null],\"y\":[-3.8832733631134033,-3.478724718093872,null],\"type\":\"scatter\"},{\"line\":{\"color\":\"cornflowerblue\",\"width\":0.5605449145731597},\"mode\":\"lines\",\"x\":[-0.695706844329834,1.106619119644165,null],\"y\":[-3.8832733631134033,-3.8142035007476807,null],\"type\":\"scatter\"},{\"line\":{\"color\":\"cornflowerblue\",\"width\":1.0688999482689436},\"mode\":\"lines\",\"x\":[-0.695706844329834,1.3652284145355225,null],\"y\":[-3.8832733631134033,-3.590304136276245,null],\"type\":\"scatter\"},{\"line\":{\"color\":\"cornflowerblue\",\"width\":0.9109624076689832},\"mode\":\"lines\",\"x\":[-0.695706844329834,-0.05931005999445915,null],\"y\":[-3.8832733631134033,3.714719295501709,null],\"type\":\"scatter\"},{\"line\":{\"color\":\"cornflowerblue\",\"width\":1.525958135069418},\"mode\":\"lines\",\"x\":[-0.695706844329834,-2.6546692848205566,null],\"y\":[-3.8832733631134033,-3.3455584049224854,null],\"type\":\"scatter\"},{\"line\":{\"color\":\"cornflowerblue\",\"width\":1.9427388273331032},\"mode\":\"lines\",\"x\":[-0.695706844329834,-1.684312105178833,null],\"y\":[-3.8832733631134033,-2.9888062477111816,null],\"type\":\"scatter\"},{\"line\":{\"color\":\"cornflowerblue\",\"width\":0.5770093999526553},\"mode\":\"lines\",\"x\":[-0.695706844329834,-2.8954691886901855,null],\"y\":[-3.8832733631134033,-2.4151504039764404,null],\"type\":\"scatter\"},{\"line\":{\"color\":\"cornflowerblue\",\"width\":1.0608381711235766},\"mode\":\"lines\",\"x\":[-0.695706844329834,0.37457114458084106,null],\"y\":[-3.8832733631134033,-1.6131783723831177,null],\"type\":\"scatter\"},{\"line\":{\"color\":\"cornflowerblue\",\"width\":0.6694083358418318},\"mode\":\"lines\",\"x\":[-0.695706844329834,5.511551856994629,null],\"y\":[-3.8832733631134033,-6.968996524810791,null],\"type\":\"scatter\"},{\"line\":{\"color\":\"cornflowerblue\",\"width\":0.9508036172245449},\"mode\":\"lines\",\"x\":[-0.695706844329834,0.1870143860578537,null],\"y\":[-3.8832733631134033,-6.369262218475342,null],\"type\":\"scatter\"},{\"line\":{\"color\":\"cornflowerblue\",\"width\":1.131843078592527},\"mode\":\"lines\",\"x\":[-0.695706844329834,-2.163369655609131,null],\"y\":[-3.8832733631134033,-4.109903335571289,null],\"type\":\"scatter\"},{\"line\":{\"color\":\"cornflowerblue\",\"width\":1.3724608179088116},\"mode\":\"lines\",\"x\":[-0.695706844329834,-1.8085951805114746,null],\"y\":[-3.8832733631134033,-3.729217529296875,null],\"type\":\"scatter\"},{\"line\":{\"color\":\"cornflowerblue\",\"width\":1.305834628957185},\"mode\":\"lines\",\"x\":[-0.695706844329834,0.2706189751625061,null],\"y\":[-3.8832733631134033,-3.2082691192626953,null],\"type\":\"scatter\"},{\"line\":{\"color\":\"cornflowerblue\",\"width\":1.3130945459705317},\"mode\":\"lines\",\"x\":[-0.695706844329834,4.842525482177734,null],\"y\":[-3.8832733631134033,-6.549506664276123,null],\"type\":\"scatter\"},{\"line\":{\"color\":\"cornflowerblue\",\"width\":1.0279896695525939},\"mode\":\"lines\",\"x\":[-0.695706844329834,0.7593147158622742,null],\"y\":[-3.8832733631134033,-4.895992279052734,null],\"type\":\"scatter\"},{\"line\":{\"color\":\"cornflowerblue\",\"width\":0.7742138853506682},\"mode\":\"lines\",\"x\":[-0.695706844329834,-2.1417486667633057,null],\"y\":[-3.8832733631134033,-1.0157002210617065,null],\"type\":\"scatter\"},{\"line\":{\"color\":\"cornflowerblue\",\"width\":1.045240422491517},\"mode\":\"lines\",\"x\":[-0.695706844329834,-5.791920185089111,null],\"y\":[-3.8832733631134033,-6.406492710113525,null],\"type\":\"scatter\"},{\"line\":{\"color\":\"cornflowerblue\",\"width\":0.8034613966712748},\"mode\":\"lines\",\"x\":[-0.695706844329834,-4.890204906463623,null],\"y\":[-3.8832733631134033,-6.221857070922852,null],\"type\":\"scatter\"},{\"line\":{\"color\":\"cornflowerblue\",\"width\":1.4992888222889929},\"mode\":\"lines\",\"x\":[-0.695706844329834,-2.916576385498047,null],\"y\":[-3.8832733631134033,-2.7157065868377686,null],\"type\":\"scatter\"},{\"line\":{\"color\":\"cornflowerblue\",\"width\":1.8133035439289498},\"mode\":\"lines\",\"x\":[-0.695706844329834,-2.382744550704956,null],\"y\":[-3.8832733631134033,-2.972510814666748,null],\"type\":\"scatter\"},{\"line\":{\"color\":\"cornflowerblue\",\"width\":0.7097969792294546},\"mode\":\"lines\",\"x\":[-0.695706844329834,-4.6838507652282715,null],\"y\":[-3.8832733631134033,1.1470887660980225,null],\"type\":\"scatter\"},{\"line\":{\"color\":\"cornflowerblue\",\"width\":1.2774318695102327},\"mode\":\"lines\",\"x\":[-0.695706844329834,4.053683280944824,null],\"y\":[-3.8832733631134033,-3.584167957305908,null],\"type\":\"scatter\"},{\"line\":{\"color\":\"cornflowerblue\",\"width\":0.9729398799084927},\"mode\":\"lines\",\"x\":[-0.695706844329834,-3.1496315002441406,null],\"y\":[-3.8832733631134033,-10.181135177612305,null],\"type\":\"scatter\"},{\"line\":{\"color\":\"cornflowerblue\",\"width\":0.8753981405097295},\"mode\":\"lines\",\"x\":[-0.695706844329834,0.11800596117973328,null],\"y\":[-3.8832733631134033,-6.167614936828613,null],\"type\":\"scatter\"},{\"line\":{\"color\":\"cornflowerblue\",\"width\":0.7683295050963241},\"mode\":\"lines\",\"x\":[-0.695706844329834,-2.2358944416046143,null],\"y\":[-3.8832733631134033,-2.6037206649780273,null],\"type\":\"scatter\"},{\"line\":{\"color\":\"cornflowerblue\",\"width\":1.3574099064521072},\"mode\":\"lines\",\"x\":[-0.695706844329834,-0.1273382604122162,null],\"y\":[-3.8832733631134033,-2.524526596069336,null],\"type\":\"scatter\"},{\"line\":{\"color\":\"cornflowerblue\",\"width\":1.1133391874966185},\"mode\":\"lines\",\"x\":[-0.695706844329834,-0.7350497245788574,null],\"y\":[-3.8832733631134033,-5.138309478759766,null],\"type\":\"scatter\"},{\"line\":{\"color\":\"cornflowerblue\",\"width\":0.39131622604103156},\"mode\":\"lines\",\"x\":[-0.695706844329834,-0.2520357370376587,null],\"y\":[-3.8832733631134033,-8.291696548461914,null],\"type\":\"scatter\"},{\"line\":{\"color\":\"cornflowerblue\",\"width\":0},\"mode\":\"lines\",\"x\":[-0.695706844329834,-1.0601037740707397,null],\"y\":[-3.8832733631134033,-2.278170585632324,null],\"type\":\"scatter\"},{\"line\":{\"color\":\"cornflowerblue\",\"width\":1.2294306702850926},\"mode\":\"lines\",\"x\":[0.7593147158622742,1.1390436887741089,null],\"y\":[-4.895992279052734,-7.128432273864746,null],\"type\":\"scatter\"},{\"line\":{\"color\":\"cornflowerblue\",\"width\":0.948699250514714},\"mode\":\"lines\",\"x\":[0.7593147158622742,4.323518753051758,null],\"y\":[-4.895992279052734,-3.3379104137420654,null],\"type\":\"scatter\"},{\"line\":{\"color\":\"cornflowerblue\",\"width\":0.7287055481550908},\"mode\":\"lines\",\"x\":[0.7593147158622742,0.0731186494231224,null],\"y\":[-4.895992279052734,3.723130226135254,null],\"type\":\"scatter\"},{\"line\":{\"color\":\"cornflowerblue\",\"width\":0.7329301788295579},\"mode\":\"lines\",\"x\":[0.7593147158622742,0.5415882468223572,null],\"y\":[-4.895992279052734,3.622282028198242,null],\"type\":\"scatter\"},{\"line\":{\"color\":\"cornflowerblue\",\"width\":0.7052823117930274},\"mode\":\"lines\",\"x\":[0.7593147158622742,-0.2766866683959961,null],\"y\":[-4.895992279052734,-4.681640148162842,null],\"type\":\"scatter\"},{\"line\":{\"color\":\"cornflowerblue\",\"width\":0.9583212630273852},\"mode\":\"lines\",\"x\":[0.7593147158622742,-1.8085951805114746,null],\"y\":[-4.895992279052734,-3.729217529296875,null],\"type\":\"scatter\"},{\"line\":{\"color\":\"cornflowerblue\",\"width\":1.0469384761777034},\"mode\":\"lines\",\"x\":[0.7593147158622742,0.02812773548066616,null],\"y\":[-4.895992279052734,-3.478724718093872,null],\"type\":\"scatter\"},{\"line\":{\"color\":\"cornflowerblue\",\"width\":1.108558235764875},\"mode\":\"lines\",\"x\":[0.7593147158622742,0.09857194125652313,null],\"y\":[-4.895992279052734,-4.941972255706787,null],\"type\":\"scatter\"},{\"line\":{\"color\":\"cornflowerblue\",\"width\":0.7714178087256442},\"mode\":\"lines\",\"x\":[0.7593147158622742,1.3407062292099,null],\"y\":[-4.895992279052734,-5.794181823730469,null],\"type\":\"scatter\"},{\"line\":{\"color\":\"cornflowerblue\",\"width\":0.8976316200917364},\"mode\":\"lines\",\"x\":[0.7593147158622742,-2.2358944416046143,null],\"y\":[-4.895992279052734,-2.6037206649780273,null],\"type\":\"scatter\"},{\"line\":{\"color\":\"cornflowerblue\",\"width\":0.37396005621870704},\"mode\":\"lines\",\"x\":[0.7593147158622742,3.2814278602600098,null],\"y\":[-4.895992279052734,1.4431389570236206,null],\"type\":\"scatter\"},{\"line\":{\"color\":\"cornflowerblue\",\"width\":0},\"mode\":\"lines\",\"x\":[0.7593147158622742,1.0052075386047363,null],\"y\":[-4.895992279052734,-8.030531883239746,null],\"type\":\"scatter\"},{\"line\":{\"color\":\"cornflowerblue\",\"width\":0.9371647175106057},\"mode\":\"lines\",\"x\":[-2.382744550704956,-0.6112854480743408,null],\"y\":[-2.972510814666748,-1.3087753057479858,null],\"type\":\"scatter\"},{\"line\":{\"color\":\"cornflowerblue\",\"width\":1.2893864752134},\"mode\":\"lines\",\"x\":[-2.382744550704956,-1.684312105178833,null],\"y\":[-2.972510814666748,-2.9888062477111816,null],\"type\":\"scatter\"},{\"line\":{\"color\":\"cornflowerblue\",\"width\":0.5783431590163871},\"mode\":\"lines\",\"x\":[-2.382744550704956,-2.163369655609131,null],\"y\":[-2.972510814666748,-4.109903335571289,null],\"type\":\"scatter\"},{\"line\":{\"color\":\"cornflowerblue\",\"width\":0.8396551225340774},\"mode\":\"lines\",\"x\":[-2.382744550704956,-2.916576385498047,null],\"y\":[-2.972510814666748,-2.7157065868377686,null],\"type\":\"scatter\"},{\"line\":{\"color\":\"cornflowerblue\",\"width\":0.8536582513481448},\"mode\":\"lines\",\"x\":[-2.382744550704956,-2.6546692848205566,null],\"y\":[-2.972510814666748,-3.3455584049224854,null],\"type\":\"scatter\"},{\"line\":{\"color\":\"cornflowerblue\",\"width\":1.0272873140736338},\"mode\":\"lines\",\"x\":[-2.382744550704956,-0.1273382604122162,null],\"y\":[-2.972510814666748,-2.524526596069336,null],\"type\":\"scatter\"},{\"line\":{\"color\":\"cornflowerblue\",\"width\":0},\"mode\":\"lines\",\"x\":[-2.382744550704956,-1.0601037740707397,null],\"y\":[-2.972510814666748,-2.278170585632324,null],\"type\":\"scatter\"},{\"line\":{\"color\":\"cornflowerblue\",\"width\":1.2127454521849192},\"mode\":\"lines\",\"x\":[-4.462895393371582,-4.572055339813232,null],\"y\":[1.043902039527893,1.424369215965271,null],\"type\":\"scatter\"},{\"line\":{\"color\":\"cornflowerblue\",\"width\":0.9936424984295074},\"mode\":\"lines\",\"x\":[-4.462895393371582,-1.0004652738571167,null],\"y\":[1.043902039527893,-0.915282130241394,null],\"type\":\"scatter\"},{\"line\":{\"color\":\"cornflowerblue\",\"width\":1.5509830657324937},\"mode\":\"lines\",\"x\":[-4.462895393371582,-4.974451065063477,null],\"y\":[1.043902039527893,1.329877257347107,null],\"type\":\"scatter\"},{\"line\":{\"color\":\"cornflowerblue\",\"width\":1.2643450512232475},\"mode\":\"lines\",\"x\":[-4.462895393371582,-5.686635971069336,null],\"y\":[1.043902039527893,1.0812551975250244,null],\"type\":\"scatter\"},{\"line\":{\"color\":\"cornflowerblue\",\"width\":1.2303802517273064},\"mode\":\"lines\",\"x\":[-4.462895393371582,-4.863575458526611,null],\"y\":[1.043902039527893,1.8526055812835693,null],\"type\":\"scatter\"},{\"line\":{\"color\":\"cornflowerblue\",\"width\":1.536126966800755},\"mode\":\"lines\",\"x\":[-4.462895393371582,-4.6838507652282715,null],\"y\":[1.043902039527893,1.1470887660980225,null],\"type\":\"scatter\"},{\"line\":{\"color\":\"cornflowerblue\",\"width\":1.1406213934353344},\"mode\":\"lines\",\"x\":[-4.462895393371582,-0.1273382604122162,null],\"y\":[1.043902039527893,-2.524526596069336,null],\"type\":\"scatter\"},{\"line\":{\"color\":\"cornflowerblue\",\"width\":0.5044766374784826},\"mode\":\"lines\",\"x\":[-4.462895393371582,-5.987621307373047,null],\"y\":[1.043902039527893,-5.304370403289795,null],\"type\":\"scatter\"},{\"line\":{\"color\":\"cornflowerblue\",\"width\":0.6804749416503424},\"mode\":\"lines\",\"x\":[-4.462895393371582,-1.5755537748336792,null],\"y\":[1.043902039527893,-0.28668516874313354,null],\"type\":\"scatter\"},{\"line\":{\"color\":\"cornflowerblue\",\"width\":1.0034794952108954},\"mode\":\"lines\",\"x\":[-4.462895393371582,-3.261085033416748,null],\"y\":[1.043902039527893,-9.968637466430664,null],\"type\":\"scatter\"},{\"line\":{\"color\":\"cornflowerblue\",\"width\":0.23814805628977065},\"mode\":\"lines\",\"x\":[-4.462895393371582,-5.688165664672852,null],\"y\":[1.043902039527893,1.4192664623260498,null],\"type\":\"scatter\"},{\"line\":{\"color\":\"cornflowerblue\",\"width\":0.8535016771249686},\"mode\":\"lines\",\"x\":[-4.462895393371582,-3.8458964824676514,null],\"y\":[1.043902039527893,1.0176095962524414,null],\"type\":\"scatter\"},{\"line\":{\"color\":\"cornflowerblue\",\"width\":0},\"mode\":\"lines\",\"x\":[-4.462895393371582,-5.33353328704834,null],\"y\":[1.043902039527893,0.6507877111434937,null],\"type\":\"scatter\"},{\"line\":{\"color\":\"cornflowerblue\",\"width\":1.052162679117791},\"mode\":\"lines\",\"x\":[-2.6546692848205566,-2.419635057449341,null],\"y\":[-3.3455584049224854,-4.468696117401123,null],\"type\":\"scatter\"},{\"line\":{\"color\":\"cornflowerblue\",\"width\":0.9466744502610733},\"mode\":\"lines\",\"x\":[-2.6546692848205566,-1.684312105178833,null],\"y\":[-3.3455584049224854,-2.9888062477111816,null],\"type\":\"scatter\"},{\"line\":{\"color\":\"cornflowerblue\",\"width\":0.9192268068403837},\"mode\":\"lines\",\"x\":[-2.6546692848205566,-1.8085951805114746,null],\"y\":[-3.3455584049224854,-3.729217529296875,null],\"type\":\"scatter\"},{\"line\":{\"color\":\"cornflowerblue\",\"width\":1.1209107976624655},\"mode\":\"lines\",\"x\":[-2.6546692848205566,-2.916576385498047,null],\"y\":[-3.3455584049224854,-2.7157065868377686,null],\"type\":\"scatter\"},{\"line\":{\"color\":\"cornflowerblue\",\"width\":0},\"mode\":\"lines\",\"x\":[-2.6546692848205566,-1.0601037740707397,null],\"y\":[-3.3455584049224854,-2.278170585632324,null],\"type\":\"scatter\"},{\"line\":{\"color\":\"cornflowerblue\",\"width\":0.5527829782807926},\"mode\":\"lines\",\"x\":[-2.8954691886901855,0.02812773548066616,null],\"y\":[-2.4151504039764404,-3.478724718093872,null],\"type\":\"scatter\"},{\"line\":{\"color\":\"cornflowerblue\",\"width\":0.6266052752191489},\"mode\":\"lines\",\"x\":[-2.8954691886901855,-5.686635971069336,null],\"y\":[-2.4151504039764404,1.0812551975250244,null],\"type\":\"scatter\"},{\"line\":{\"color\":\"cornflowerblue\",\"width\":0.7303030873693646},\"mode\":\"lines\",\"x\":[-2.8954691886901855,-0.1273382604122162,null],\"y\":[-2.4151504039764404,-2.524526596069336,null],\"type\":\"scatter\"},{\"line\":{\"color\":\"cornflowerblue\",\"width\":0.5852970379371413},\"mode\":\"lines\",\"x\":[-2.8954691886901855,-2.2358944416046143,null],\"y\":[-2.4151504039764404,-2.6037206649780273,null],\"type\":\"scatter\"},{\"line\":{\"color\":\"cornflowerblue\",\"width\":0.2550995978913997},\"mode\":\"lines\",\"x\":[-2.8954691886901855,-5.688165664672852,null],\"y\":[-2.4151504039764404,1.4192664623260498,null],\"type\":\"scatter\"},{\"line\":{\"color\":\"cornflowerblue\",\"width\":0},\"mode\":\"lines\",\"x\":[-2.8954691886901855,-1.0601037740707397,null],\"y\":[-2.4151504039764404,-2.278170585632324,null],\"type\":\"scatter\"},{\"line\":{\"color\":\"cornflowerblue\",\"width\":0.8546866514510072},\"mode\":\"lines\",\"x\":[0.539480984210968,0.09857194125652313,null],\"y\":[-7.247027397155762,-4.941972255706787,null],\"type\":\"scatter\"},{\"line\":{\"color\":\"cornflowerblue\",\"width\":0.47339541763662185},\"mode\":\"lines\",\"x\":[0.539480984210968,1.6747220754623413,null],\"y\":[-7.247027397155762,-6.464766979217529,null],\"type\":\"scatter\"},{\"line\":{\"color\":\"cornflowerblue\",\"width\":0.6556447232702325},\"mode\":\"lines\",\"x\":[0.539480984210968,1.6242096424102783,null],\"y\":[-7.247027397155762,-7.151811599731445,null],\"type\":\"scatter\"},{\"line\":{\"color\":\"cornflowerblue\",\"width\":0.48631483299412853},\"mode\":\"lines\",\"x\":[0.539480984210968,1.0597984790802002,null],\"y\":[-7.247027397155762,-7.382706642150879,null],\"type\":\"scatter\"},{\"line\":{\"color\":\"cornflowerblue\",\"width\":0.8453301029487272},\"mode\":\"lines\",\"x\":[0.539480984210968,1.1390436887741089,null],\"y\":[-7.247027397155762,-7.128432273864746,null],\"type\":\"scatter\"},{\"line\":{\"color\":\"cornflowerblue\",\"width\":0.7126236047631309},\"mode\":\"lines\",\"x\":[0.539480984210968,0.39786961674690247,null],\"y\":[-7.247027397155762,-7.830792427062988,null],\"type\":\"scatter\"},{\"line\":{\"color\":\"cornflowerblue\",\"width\":0},\"mode\":\"lines\",\"x\":[0.539480984210968,1.0052075386047363,null],\"y\":[-7.247027397155762,-8.030531883239746,null],\"type\":\"scatter\"},{\"line\":{\"color\":\"cornflowerblue\",\"width\":1.2415100114342847},\"mode\":\"lines\",\"x\":[0.09857194125652313,1.0597984790802002,null],\"y\":[-4.941972255706787,-7.382706642150879,null],\"type\":\"scatter\"},{\"line\":{\"color\":\"cornflowerblue\",\"width\":0.8483654078689565},\"mode\":\"lines\",\"x\":[0.09857194125652313,-5.793375492095947,null],\"y\":[-4.941972255706787,-6.179808616638184,null],\"type\":\"scatter\"},{\"line\":{\"color\":\"cornflowerblue\",\"width\":1.0466825829395283},\"mode\":\"lines\",\"x\":[0.09857194125652313,-0.4601374864578247,null],\"y\":[-4.941972255706787,-6.281803131103516,null],\"type\":\"scatter\"},{\"line\":{\"color\":\"cornflowerblue\",\"width\":1.7315504154522274},\"mode\":\"lines\",\"x\":[0.09857194125652313,1.1390436887741089,null],\"y\":[-4.941972255706787,-7.128432273864746,null],\"type\":\"scatter\"},{\"line\":{\"color\":\"cornflowerblue\",\"width\":1.1981827415540314},\"mode\":\"lines\",\"x\":[0.09857194125652313,-6.404237270355225,null],\"y\":[-4.941972255706787,-5.919153213500977,null],\"type\":\"scatter\"},{\"line\":{\"color\":\"cornflowerblue\",\"width\":0.8103631496742205},\"mode\":\"lines\",\"x\":[0.09857194125652313,4.7516703605651855,null],\"y\":[-4.941972255706787,-3.4347987174987793,null],\"type\":\"scatter\"},{\"line\":{\"color\":\"cornflowerblue\",\"width\":0.9023681987640457},\"mode\":\"lines\",\"x\":[0.09857194125652313,-4.728614807128906,null],\"y\":[-4.941972255706787,-6.334270477294922,null],\"type\":\"scatter\"},{\"line\":{\"color\":\"cornflowerblue\",\"width\":0.8784525141383001},\"mode\":\"lines\",\"x\":[0.09857194125652313,-0.6384429335594177,null],\"y\":[-4.941972255706787,-2.491394519805908,null],\"type\":\"scatter\"},{\"line\":{\"color\":\"cornflowerblue\",\"width\":0.8510584423847388},\"mode\":\"lines\",\"x\":[0.09857194125652313,-2.419635057449341,null],\"y\":[-4.941972255706787,-4.468696117401123,null],\"type\":\"scatter\"},{\"line\":{\"color\":\"cornflowerblue\",\"width\":0.9837263273769997},\"mode\":\"lines\",\"x\":[0.09857194125652313,-5.2080864906311035,null],\"y\":[-4.941972255706787,-6.200881004333496,null],\"type\":\"scatter\"},{\"line\":{\"color\":\"cornflowerblue\",\"width\":1.2157099988204583},\"mode\":\"lines\",\"x\":[0.09857194125652313,4.323518753051758,null],\"y\":[-4.941972255706787,-3.3379104137420654,null],\"type\":\"scatter\"},{\"line\":{\"color\":\"cornflowerblue\",\"width\":1.3660647643248789},\"mode\":\"lines\",\"x\":[0.09857194125652313,5.643202304840088,null],\"y\":[-4.941972255706787,-7.1055216789245605,null],\"type\":\"scatter\"},{\"line\":{\"color\":\"cornflowerblue\",\"width\":0.9970866510201357},\"mode\":\"lines\",\"x\":[0.09857194125652313,0.7359210252761841,null],\"y\":[-4.941972255706787,-2.4273197650909424,null],\"type\":\"scatter\"},{\"line\":{\"color\":\"cornflowerblue\",\"width\":0.2690080422842688},\"mode\":\"lines\",\"x\":[0.09857194125652313,-0.0815376415848732,null],\"y\":[-4.941972255706787,-8.81507682800293,null],\"type\":\"scatter\"},{\"line\":{\"color\":\"cornflowerblue\",\"width\":0.567475221091706},\"mode\":\"lines\",\"x\":[0.09857194125652313,-0.7015998363494873,null],\"y\":[-4.941972255706787,-3.307401180267334,null],\"type\":\"scatter\"},{\"line\":{\"color\":\"cornflowerblue\",\"width\":1.7204800850636075},\"mode\":\"lines\",\"x\":[0.09857194125652313,-0.7350497245788574,null],\"y\":[-4.941972255706787,-5.138309478759766,null],\"type\":\"scatter\"},{\"line\":{\"color\":\"cornflowerblue\",\"width\":1.4762891197454142},\"mode\":\"lines\",\"x\":[0.09857194125652313,0.39786961674690247,null],\"y\":[-4.941972255706787,-7.830792427062988,null],\"type\":\"scatter\"},{\"line\":{\"color\":\"cornflowerblue\",\"width\":1.4434095063622572},\"mode\":\"lines\",\"x\":[0.09857194125652313,1.6242096424102783,null],\"y\":[-4.941972255706787,-7.151811599731445,null],\"type\":\"scatter\"},{\"line\":{\"color\":\"cornflowerblue\",\"width\":1.712176301889614},\"mode\":\"lines\",\"x\":[0.09857194125652313,0.1870143860578537,null],\"y\":[-4.941972255706787,-6.369262218475342,null],\"type\":\"scatter\"},{\"line\":{\"color\":\"cornflowerblue\",\"width\":1.4270697249198532},\"mode\":\"lines\",\"x\":[0.09857194125652313,-1.8085951805114746,null],\"y\":[-4.941972255706787,-3.729217529296875,null],\"type\":\"scatter\"},{\"line\":{\"color\":\"cornflowerblue\",\"width\":1.2295837638675138},\"mode\":\"lines\",\"x\":[0.09857194125652313,0.02812773548066616,null],\"y\":[-4.941972255706787,-3.478724718093872,null],\"type\":\"scatter\"},{\"line\":{\"color\":\"cornflowerblue\",\"width\":0.8163045143266299},\"mode\":\"lines\",\"x\":[0.09857194125652313,1.106619119644165,null],\"y\":[-4.941972255706787,-3.8142035007476807,null],\"type\":\"scatter\"},{\"line\":{\"color\":\"cornflowerblue\",\"width\":0.9431582973151716},\"mode\":\"lines\",\"x\":[0.09857194125652313,1.3652284145355225,null],\"y\":[-4.941972255706787,-3.590304136276245,null],\"type\":\"scatter\"},{\"line\":{\"color\":\"cornflowerblue\",\"width\":0.49119411801962054},\"mode\":\"lines\",\"x\":[0.09857194125652313,1.7392162084579468,null],\"y\":[-4.941972255706787,-7.298854351043701,null],\"type\":\"scatter\"},{\"line\":{\"color\":\"cornflowerblue\",\"width\":0.8564559258822406},\"mode\":\"lines\",\"x\":[0.09857194125652313,-0.2766866683959961,null],\"y\":[-4.941972255706787,-4.681640148162842,null],\"type\":\"scatter\"},{\"line\":{\"color\":\"cornflowerblue\",\"width\":1.2470198519221132},\"mode\":\"lines\",\"x\":[0.09857194125652313,5.781284809112549,null],\"y\":[-4.941972255706787,-7.476600646972656,null],\"type\":\"scatter\"},{\"line\":{\"color\":\"cornflowerblue\",\"width\":1.1878117216744615},\"mode\":\"lines\",\"x\":[0.09857194125652313,0.2706189751625061,null],\"y\":[-4.941972255706787,-3.2082691192626953,null],\"type\":\"scatter\"},{\"line\":{\"color\":\"cornflowerblue\",\"width\":1.10887777155257},\"mode\":\"lines\",\"x\":[0.09857194125652313,1.6747220754623413,null],\"y\":[-4.941972255706787,-6.464766979217529,null],\"type\":\"scatter\"},{\"line\":{\"color\":\"cornflowerblue\",\"width\":0.6402409408187982},\"mode\":\"lines\",\"x\":[0.09857194125652313,0.16153889894485474,null],\"y\":[-4.941972255706787,3.7165751457214355,null],\"type\":\"scatter\"},{\"line\":{\"color\":\"cornflowerblue\",\"width\":0.5304974119127555},\"mode\":\"lines\",\"x\":[0.09857194125652313,1.3407062292099,null],\"y\":[-4.941972255706787,-5.794181823730469,null],\"type\":\"scatter\"},{\"line\":{\"color\":\"cornflowerblue\",\"width\":0.8452745651015878},\"mode\":\"lines\",\"x\":[0.09857194125652313,-4.890204906463623,null],\"y\":[-4.941972255706787,-6.221857070922852,null],\"type\":\"scatter\"},{\"line\":{\"color\":\"cornflowerblue\",\"width\":1.0017570003188696},\"mode\":\"lines\",\"x\":[0.09857194125652313,-0.08317464590072632,null],\"y\":[-4.941972255706787,-7.529576301574707,null],\"type\":\"scatter\"},{\"line\":{\"color\":\"cornflowerblue\",\"width\":1.1427358004744905},\"mode\":\"lines\",\"x\":[0.09857194125652313,0.9181256294250488,null],\"y\":[-4.941972255706787,-6.51785945892334,null],\"type\":\"scatter\"},{\"line\":{\"color\":\"cornflowerblue\",\"width\":1.2188346224093012},\"mode\":\"lines\",\"x\":[0.09857194125652313,4.5785908699035645,null],\"y\":[-4.941972255706787,-4.128320693969727,null],\"type\":\"scatter\"},{\"line\":{\"color\":\"cornflowerblue\",\"width\":1.1674370167308332},\"mode\":\"lines\",\"x\":[0.09857194125652313,4.570398330688477,null],\"y\":[-4.941972255706787,-3.268995523452759,null],\"type\":\"scatter\"},{\"line\":{\"color\":\"cornflowerblue\",\"width\":1.1389981920796362},\"mode\":\"lines\",\"x\":[0.09857194125652313,-0.41577109694480896,null],\"y\":[-4.941972255706787,-7.202605724334717,null],\"type\":\"scatter\"},{\"line\":{\"color\":\"cornflowerblue\",\"width\":0.6174453312848509},\"mode\":\"lines\",\"x\":[0.09857194125652313,4.0417160987854,null],\"y\":[-4.941972255706787,-3.198374032974243,null],\"type\":\"scatter\"},{\"line\":{\"color\":\"cornflowerblue\",\"width\":1.0918401057412446},\"mode\":\"lines\",\"x\":[0.09857194125652313,4.053683280944824,null],\"y\":[-4.941972255706787,-3.584167957305908,null],\"type\":\"scatter\"},{\"line\":{\"color\":\"cornflowerblue\",\"width\":0.9362442748487925},\"mode\":\"lines\",\"x\":[0.09857194125652313,-6.335114479064941,null],\"y\":[-4.941972255706787,-5.957523822784424,null],\"type\":\"scatter\"},{\"line\":{\"color\":\"cornflowerblue\",\"width\":1.0398893034331582},\"mode\":\"lines\",\"x\":[0.09857194125652313,0.11800596117973328,null],\"y\":[-4.941972255706787,-6.167614936828613,null],\"type\":\"scatter\"},{\"line\":{\"color\":\"cornflowerblue\",\"width\":0.7835840498210337},\"mode\":\"lines\",\"x\":[0.09857194125652313,-2.2358944416046143,null],\"y\":[-4.941972255706787,-2.6037206649780273,null],\"type\":\"scatter\"},{\"line\":{\"color\":\"cornflowerblue\",\"width\":0.2742350482143879},\"mode\":\"lines\",\"x\":[0.09857194125652313,3.2814278602600098,null],\"y\":[-4.941972255706787,1.4431389570236206,null],\"type\":\"scatter\"},{\"line\":{\"color\":\"cornflowerblue\",\"width\":0.7424231646564976},\"mode\":\"lines\",\"x\":[0.09857194125652313,-0.2520357370376587,null],\"y\":[-4.941972255706787,-8.291696548461914,null],\"type\":\"scatter\"},{\"line\":{\"color\":\"cornflowerblue\",\"width\":0},\"mode\":\"lines\",\"x\":[0.09857194125652313,1.0052075386047363,null],\"y\":[-4.941972255706787,-8.030531883239746,null],\"type\":\"scatter\"},{\"line\":{\"color\":\"cornflowerblue\",\"width\":0.5247863217472024},\"mode\":\"lines\",\"x\":[1.6747220754623413,1.0597984790802002,null],\"y\":[-6.464766979217529,-7.382706642150879,null],\"type\":\"scatter\"},{\"line\":{\"color\":\"cornflowerblue\",\"width\":0.8289748876763758},\"mode\":\"lines\",\"x\":[1.6747220754623413,-0.4601374864578247,null],\"y\":[-6.464766979217529,-6.281803131103516,null],\"type\":\"scatter\"},{\"line\":{\"color\":\"cornflowerblue\",\"width\":0.8051729454907446},\"mode\":\"lines\",\"x\":[1.6747220754623413,-0.41577109694480896,null],\"y\":[-6.464766979217529,-7.202605724334717,null],\"type\":\"scatter\"},{\"line\":{\"color\":\"cornflowerblue\",\"width\":0.7482769347971747},\"mode\":\"lines\",\"x\":[1.6747220754623413,0.1870143860578537,null],\"y\":[-6.464766979217529,-6.369262218475342,null],\"type\":\"scatter\"},{\"line\":{\"color\":\"cornflowerblue\",\"width\":0.6839343494051991},\"mode\":\"lines\",\"x\":[1.6747220754623413,0.11800596117973328,null],\"y\":[-6.464766979217529,-6.167614936828613,null],\"type\":\"scatter\"},{\"line\":{\"color\":\"cornflowerblue\",\"width\":0.8870147071574891},\"mode\":\"lines\",\"x\":[1.6747220754623413,1.1390436887741089,null],\"y\":[-6.464766979217529,-7.128432273864746,null],\"type\":\"scatter\"},{\"line\":{\"color\":\"cornflowerblue\",\"width\":0},\"mode\":\"lines\",\"x\":[1.6747220754623413,1.0052075386047363,null],\"y\":[-6.464766979217529,-8.030531883239746,null],\"type\":\"scatter\"},{\"line\":{\"color\":\"cornflowerblue\",\"width\":0.6887158766722441},\"mode\":\"lines\",\"x\":[1.6242096424102783,1.0597984790802002,null],\"y\":[-7.151811599731445,-7.382706642150879,null],\"type\":\"scatter\"},{\"line\":{\"color\":\"cornflowerblue\",\"width\":1.0752453488380165},\"mode\":\"lines\",\"x\":[1.6242096424102783,1.1390436887741089,null],\"y\":[-7.151811599731445,-7.128432273864746,null],\"type\":\"scatter\"},{\"line\":{\"color\":\"cornflowerblue\",\"width\":0.3201512915641449},\"mode\":\"lines\",\"x\":[1.6242096424102783,1.7392162084579468,null],\"y\":[-7.151811599731445,-7.298854351043701,null],\"type\":\"scatter\"},{\"line\":{\"color\":\"cornflowerblue\",\"width\":1.1622185306297788},\"mode\":\"lines\",\"x\":[1.6242096424102783,0.39786961674690247,null],\"y\":[-7.151811599731445,-7.830792427062988,null],\"type\":\"scatter\"},{\"line\":{\"color\":\"cornflowerblue\",\"width\":0.7009988063778054},\"mode\":\"lines\",\"x\":[1.6242096424102783,0.9181256294250488,null],\"y\":[-7.151811599731445,-6.51785945892334,null],\"type\":\"scatter\"},{\"line\":{\"color\":\"cornflowerblue\",\"width\":1.0857478360155157},\"mode\":\"lines\",\"x\":[1.6242096424102783,4.5785908699035645,null],\"y\":[-7.151811599731445,-4.128320693969727,null],\"type\":\"scatter\"},{\"line\":{\"color\":\"cornflowerblue\",\"width\":0.6927441451177689},\"mode\":\"lines\",\"x\":[1.6242096424102783,-0.011628356762230396,null],\"y\":[-7.151811599731445,3.68748140335083,null],\"type\":\"scatter\"},{\"line\":{\"color\":\"cornflowerblue\",\"width\":0.7377247942836425},\"mode\":\"lines\",\"x\":[1.6242096424102783,-0.7350497245788574,null],\"y\":[-7.151811599731445,-5.138309478759766,null],\"type\":\"scatter\"},{\"line\":{\"color\":\"cornflowerblue\",\"width\":0.7137609201896244},\"mode\":\"lines\",\"x\":[1.6242096424102783,0.1870143860578537,null],\"y\":[-7.151811599731445,-6.369262218475342,null],\"type\":\"scatter\"},{\"line\":{\"color\":\"cornflowerblue\",\"width\":0},\"mode\":\"lines\",\"x\":[1.6242096424102783,1.0052075386047363,null],\"y\":[-7.151811599731445,-8.030531883239746,null],\"type\":\"scatter\"},{\"line\":{\"color\":\"cornflowerblue\",\"width\":0.646517857125348},\"mode\":\"lines\",\"x\":[1.0597984790802002,-0.7350497245788574,null],\"y\":[-7.382706642150879,-5.138309478759766,null],\"type\":\"scatter\"},{\"line\":{\"color\":\"cornflowerblue\",\"width\":0.5635139711981263},\"mode\":\"lines\",\"x\":[1.0597984790802002,1.1390436887741089,null],\"y\":[-7.382706642150879,-7.128432273864746,null],\"type\":\"scatter\"},{\"line\":{\"color\":\"cornflowerblue\",\"width\":0.6255167024295369},\"mode\":\"lines\",\"x\":[1.0597984790802002,0.1870143860578537,null],\"y\":[-7.382706642150879,-6.369262218475342,null],\"type\":\"scatter\"},{\"line\":{\"color\":\"cornflowerblue\",\"width\":0.2805701104013348},\"mode\":\"lines\",\"x\":[1.0597984790802002,1.7392162084579468,null],\"y\":[-7.382706642150879,-7.298854351043701,null],\"type\":\"scatter\"},{\"line\":{\"color\":\"cornflowerblue\",\"width\":0},\"mode\":\"lines\",\"x\":[1.0597984790802002,1.0052075386047363,null],\"y\":[-7.382706642150879,-8.030531883239746,null],\"type\":\"scatter\"},{\"line\":{\"color\":\"cornflowerblue\",\"width\":1.3600817667139642},\"mode\":\"lines\",\"x\":[1.1390436887741089,-1.8085951805114746,null],\"y\":[-7.128432273864746,-3.729217529296875,null],\"type\":\"scatter\"},{\"line\":{\"color\":\"cornflowerblue\",\"width\":1.0473458031984482},\"mode\":\"lines\",\"x\":[1.1390436887741089,-2.419635057449341,null],\"y\":[-7.128432273864746,-4.468696117401123,null],\"type\":\"scatter\"},{\"line\":{\"color\":\"cornflowerblue\",\"width\":1.1535865902099696},\"mode\":\"lines\",\"x\":[1.1390436887741089,5.643202304840088,null],\"y\":[-7.128432273864746,-7.1055216789245605,null],\"type\":\"scatter\"},{\"line\":{\"color\":\"cornflowerblue\",\"width\":0.724742221509067},\"mode\":\"lines\",\"x\":[1.1390436887741089,4.7516703605651855,null],\"y\":[-7.128432273864746,-3.4347987174987793,null],\"type\":\"scatter\"},{\"line\":{\"color\":\"cornflowerblue\",\"width\":0.6042076569715308},\"mode\":\"lines\",\"x\":[1.1390436887741089,-0.6591405272483826,null],\"y\":[-7.128432273864746,-8.202556610107422,null],\"type\":\"scatter\"},{\"line\":{\"color\":\"cornflowerblue\",\"width\":0.3663729309273672},\"mode\":\"lines\",\"x\":[1.1390436887741089,1.7392162084579468,null],\"y\":[-7.128432273864746,-7.298854351043701,null],\"type\":\"scatter\"},{\"line\":{\"color\":\"cornflowerblue\",\"width\":0.8524624272352889},\"mode\":\"lines\",\"x\":[1.1390436887741089,0.39786961674690247,null],\"y\":[-7.128432273864746,-7.830792427062988,null],\"type\":\"scatter\"},{\"line\":{\"color\":\"cornflowerblue\",\"width\":0.8535913431374615},\"mode\":\"lines\",\"x\":[1.1390436887741089,5.781284809112549,null],\"y\":[-7.128432273864746,-7.476600646972656,null],\"type\":\"scatter\"},{\"line\":{\"color\":\"cornflowerblue\",\"width\":0.6729942752394534},\"mode\":\"lines\",\"x\":[1.1390436887741089,-0.08317464590072632,null],\"y\":[-7.128432273864746,-7.529576301574707,null],\"type\":\"scatter\"},{\"line\":{\"color\":\"cornflowerblue\",\"width\":0.9196895636223779},\"mode\":\"lines\",\"x\":[1.1390436887741089,-0.41577109694480896,null],\"y\":[-7.128432273864746,-7.202605724334717,null],\"type\":\"scatter\"},{\"line\":{\"color\":\"cornflowerblue\",\"width\":0.9427753853349615},\"mode\":\"lines\",\"x\":[1.1390436887741089,4.053683280944824,null],\"y\":[-7.128432273864746,-3.584167957305908,null],\"type\":\"scatter\"},{\"line\":{\"color\":\"cornflowerblue\",\"width\":0.8860905167848029},\"mode\":\"lines\",\"x\":[1.1390436887741089,-0.7350497245788574,null],\"y\":[-7.128432273864746,-5.138309478759766,null],\"type\":\"scatter\"},{\"line\":{\"color\":\"cornflowerblue\",\"width\":0.3816888374057674},\"mode\":\"lines\",\"x\":[1.1390436887741089,-0.2520357370376587,null],\"y\":[-7.128432273864746,-8.291696548461914,null],\"type\":\"scatter\"},{\"line\":{\"color\":\"cornflowerblue\",\"width\":0},\"mode\":\"lines\",\"x\":[1.1390436887741089,1.0052075386047363,null],\"y\":[-7.128432273864746,-8.030531883239746,null],\"type\":\"scatter\"},{\"line\":{\"color\":\"cornflowerblue\",\"width\":0.737267394036904},\"mode\":\"lines\",\"x\":[0.39786961674690247,-4.728614807128906,null],\"y\":[-7.830792427062988,-6.334270477294922,null],\"type\":\"scatter\"},{\"line\":{\"color\":\"cornflowerblue\",\"width\":0.33583828643114155},\"mode\":\"lines\",\"x\":[0.39786961674690247,-0.0815376415848732,null],\"y\":[-7.830792427062988,-8.81507682800293,null],\"type\":\"scatter\"},{\"line\":{\"color\":\"cornflowerblue\",\"width\":1.0434531792470019},\"mode\":\"lines\",\"x\":[0.39786961674690247,0.9181256294250488,null],\"y\":[-7.830792427062988,-6.51785945892334,null],\"type\":\"scatter\"},{\"line\":{\"color\":\"cornflowerblue\",\"width\":0.7669422113220602},\"mode\":\"lines\",\"x\":[0.39786961674690247,4.053683280944824,null],\"y\":[-7.830792427062988,-3.584167957305908,null],\"type\":\"scatter\"},{\"line\":{\"color\":\"cornflowerblue\",\"width\":0.709705039549611},\"mode\":\"lines\",\"x\":[0.39786961674690247,-0.2520357370376587,null],\"y\":[-7.830792427062988,-8.291696548461914,null],\"type\":\"scatter\"},{\"line\":{\"color\":\"cornflowerblue\",\"width\":0.19120060555027468},\"mode\":\"lines\",\"x\":[0.39786961674690247,0.5669806003570557,null],\"y\":[-7.830792427062988,-8.46044921875,null],\"type\":\"scatter\"},{\"line\":{\"color\":\"cornflowerblue\",\"width\":0},\"mode\":\"lines\",\"x\":[0.39786961674690247,1.0052075386047363,null],\"y\":[-7.830792427062988,-8.030531883239746,null],\"type\":\"scatter\"},{\"line\":{\"color\":\"cornflowerblue\",\"width\":0.6578850826893217},\"mode\":\"lines\",\"x\":[-0.7350497245788574,-2.123562812805176,null],\"y\":[-5.138309478759766,-1.7770745754241943,null],\"type\":\"scatter\"},{\"line\":{\"color\":\"cornflowerblue\",\"width\":0.8618160748567367},\"mode\":\"lines\",\"x\":[-0.7350497245788574,-6.404237270355225,null],\"y\":[-5.138309478759766,-5.919153213500977,null],\"type\":\"scatter\"},{\"line\":{\"color\":\"cornflowerblue\",\"width\":1.1085007338274246},\"mode\":\"lines\",\"x\":[-0.7350497245788574,0.1870143860578537,null],\"y\":[-5.138309478759766,-6.369262218475342,null],\"type\":\"scatter\"},{\"line\":{\"color\":\"cornflowerblue\",\"width\":0.7859171867116215},\"mode\":\"lines\",\"x\":[-0.7350497245788574,4.570398330688477,null],\"y\":[-5.138309478759766,-3.268995523452759,null],\"type\":\"scatter\"},{\"line\":{\"color\":\"cornflowerblue\",\"width\":0.9103365767326206},\"mode\":\"lines\",\"x\":[-0.7350497245788574,0.02812773548066616,null],\"y\":[-5.138309478759766,-3.478724718093872,null],\"type\":\"scatter\"},{\"line\":{\"color\":\"cornflowerblue\",\"width\":0.9457980181768115},\"mode\":\"lines\",\"x\":[-0.7350497245788574,-1.8085951805114746,null],\"y\":[-5.138309478759766,-3.729217529296875,null],\"type\":\"scatter\"},{\"line\":{\"color\":\"cornflowerblue\",\"width\":0},\"mode\":\"lines\",\"x\":[-0.7350497245788574,1.0052075386047363,null],\"y\":[-5.138309478759766,-8.030531883239746,null],\"type\":\"scatter\"},{\"line\":{\"color\":\"cornflowerblue\",\"width\":0.794713693293998},\"mode\":\"lines\",\"x\":[0.1870143860578537,-0.4601374864578247,null],\"y\":[-6.369262218475342,-6.281803131103516,null],\"type\":\"scatter\"},{\"line\":{\"color\":\"cornflowerblue\",\"width\":1.1522643747723023},\"mode\":\"lines\",\"x\":[0.1870143860578537,0.02812773548066616,null],\"y\":[-6.369262218475342,-3.478724718093872,null],\"type\":\"scatter\"},{\"line\":{\"color\":\"cornflowerblue\",\"width\":0.9387546409452798},\"mode\":\"lines\",\"x\":[0.1870143860578537,-1.8085951805114746,null],\"y\":[-6.369262218475342,-3.729217529296875,null],\"type\":\"scatter\"},{\"line\":{\"color\":\"cornflowerblue\",\"width\":1.4306258362116768},\"mode\":\"lines\",\"x\":[0.1870143860578537,0.11800596117973328,null],\"y\":[-6.369262218475342,-6.167614936828613,null],\"type\":\"scatter\"},{\"line\":{\"color\":\"cornflowerblue\",\"width\":0.3780908101598593},\"mode\":\"lines\",\"x\":[0.1870143860578537,1.3407062292099,null],\"y\":[-6.369262218475342,-5.794181823730469,null],\"type\":\"scatter\"},{\"line\":{\"color\":\"cornflowerblue\",\"width\":0.6826217943574475},\"mode\":\"lines\",\"x\":[0.1870143860578537,-0.08317464590072632,null],\"y\":[-6.369262218475342,-7.529576301574707,null],\"type\":\"scatter\"},{\"line\":{\"color\":\"cornflowerblue\",\"width\":0.7522345791278038},\"mode\":\"lines\",\"x\":[0.1870143860578537,0.9181256294250488,null],\"y\":[-6.369262218475342,-6.51785945892334,null],\"type\":\"scatter\"},{\"line\":{\"color\":\"cornflowerblue\",\"width\":0},\"mode\":\"lines\",\"x\":[0.1870143860578537,1.0052075386047363,null],\"y\":[-6.369262218475342,-8.030531883239746,null],\"type\":\"scatter\"},{\"line\":{\"color\":\"cornflowerblue\",\"width\":0.7334254721918625},\"mode\":\"lines\",\"x\":[-5.793375492095947,-6.404237270355225,null],\"y\":[-6.179808616638184,-5.919153213500977,null],\"type\":\"scatter\"},{\"line\":{\"color\":\"cornflowerblue\",\"width\":0.77218926779796},\"mode\":\"lines\",\"x\":[-5.793375492095947,-5.7836833000183105,null],\"y\":[-6.179808616638184,-5.480318069458008,null],\"type\":\"scatter\"},{\"line\":{\"color\":\"cornflowerblue\",\"width\":0.965781951511562},\"mode\":\"lines\",\"x\":[-5.793375492095947,-4.890204906463623,null],\"y\":[-6.179808616638184,-6.221857070922852,null],\"type\":\"scatter\"},{\"line\":{\"color\":\"cornflowerblue\",\"width\":1.070228621966497},\"mode\":\"lines\",\"x\":[-5.793375492095947,-5.2080864906311035,null],\"y\":[-6.179808616638184,-6.200881004333496,null],\"type\":\"scatter\"},{\"line\":{\"color\":\"cornflowerblue\",\"width\":1.4433168582071927},\"mode\":\"lines\",\"x\":[-5.793375492095947,-6.335114479064941,null],\"y\":[-6.179808616638184,-5.957523822784424,null],\"type\":\"scatter\"},{\"line\":{\"color\":\"cornflowerblue\",\"width\":0.7185855852423535},\"mode\":\"lines\",\"x\":[-5.793375492095947,-4.728614807128906,null],\"y\":[-6.179808616638184,-6.334270477294922,null],\"type\":\"scatter\"},{\"line\":{\"color\":\"cornflowerblue\",\"width\":0},\"mode\":\"lines\",\"x\":[-5.793375492095947,-5.410782814025879,null],\"y\":[-6.179808616638184,-5.800204753875732,null],\"type\":\"scatter\"},{\"line\":{\"color\":\"cornflowerblue\",\"width\":0.8133565306226282},\"mode\":\"lines\",\"x\":[-6.404237270355225,-2.163369655609131,null],\"y\":[-5.919153213500977,-4.109903335571289,null],\"type\":\"scatter\"},{\"line\":{\"color\":\"cornflowerblue\",\"width\":1.5736825331493303},\"mode\":\"lines\",\"x\":[-6.404237270355225,-6.335114479064941,null],\"y\":[-5.919153213500977,-5.957523822784424,null],\"type\":\"scatter\"},{\"line\":{\"color\":\"cornflowerblue\",\"width\":0.8133565306226282},\"mode\":\"lines\",\"x\":[-6.404237270355225,-5.791920185089111,null],\"y\":[-5.919153213500977,-6.406492710113525,null],\"type\":\"scatter\"},{\"line\":{\"color\":\"cornflowerblue\",\"width\":0.18596722827056134},\"mode\":\"lines\",\"x\":[-6.404237270355225,-7.857990741729736,null],\"y\":[-5.919153213500977,-3.3920838832855225,null],\"type\":\"scatter\"},{\"line\":{\"color\":\"cornflowerblue\",\"width\":0},\"mode\":\"lines\",\"x\":[-6.404237270355225,-5.410782814025879,null],\"y\":[-5.919153213500977,-5.800204753875732,null],\"type\":\"scatter\"},{\"line\":{\"color\":\"cornflowerblue\",\"width\":1.2129772488329211},\"mode\":\"lines\",\"x\":[-5.7836833000183105,-5.987621307373047,null],\"y\":[-5.480318069458008,-5.304370403289795,null],\"type\":\"scatter\"},{\"line\":{\"color\":\"cornflowerblue\",\"width\":0},\"mode\":\"lines\",\"x\":[-5.7836833000183105,-5.410782814025879,null],\"y\":[-5.480318069458008,-5.800204753875732,null],\"type\":\"scatter\"},{\"line\":{\"color\":\"cornflowerblue\",\"width\":1.190022210426101},\"mode\":\"lines\",\"x\":[-4.890204906463623,-4.728614807128906,null],\"y\":[-6.221857070922852,-6.334270477294922,null],\"type\":\"scatter\"},{\"line\":{\"color\":\"cornflowerblue\",\"width\":1.2911550308444544},\"mode\":\"lines\",\"x\":[-4.890204906463623,-5.2080864906311035,null],\"y\":[-6.221857070922852,-6.200881004333496,null],\"type\":\"scatter\"},{\"line\":{\"color\":\"cornflowerblue\",\"width\":0.933235198431964},\"mode\":\"lines\",\"x\":[-4.890204906463623,0.02812773548066616,null],\"y\":[-6.221857070922852,-3.478724718093872,null],\"type\":\"scatter\"},{\"line\":{\"color\":\"cornflowerblue\",\"width\":0.7758416031255564},\"mode\":\"lines\",\"x\":[-4.890204906463623,-0.2520357370376587,null],\"y\":[-6.221857070922852,-8.291696548461914,null],\"type\":\"scatter\"},{\"line\":{\"color\":\"cornflowerblue\",\"width\":0},\"mode\":\"lines\",\"x\":[-4.890204906463623,-5.410782814025879,null],\"y\":[-6.221857070922852,-5.800204753875732,null],\"type\":\"scatter\"},{\"line\":{\"color\":\"cornflowerblue\",\"width\":0.7600513654378516},\"mode\":\"lines\",\"x\":[-5.2080864906311035,-0.1273382604122162,null],\"y\":[-6.200881004333496,-2.524526596069336,null],\"type\":\"scatter\"},{\"line\":{\"color\":\"cornflowerblue\",\"width\":0.6916636408355381},\"mode\":\"lines\",\"x\":[-5.2080864906311035,0.02812773548066616,null],\"y\":[-6.200881004333496,-3.478724718093872,null],\"type\":\"scatter\"},{\"line\":{\"color\":\"cornflowerblue\",\"width\":0.8523408830766479},\"mode\":\"lines\",\"x\":[-5.2080864906311035,-6.335114479064941,null],\"y\":[-6.200881004333496,-5.957523822784424,null],\"type\":\"scatter\"},{\"line\":{\"color\":\"cornflowerblue\",\"width\":0.6516929656075225},\"mode\":\"lines\",\"x\":[-5.2080864906311035,-5.987621307373047,null],\"y\":[-6.200881004333496,-5.304370403289795,null],\"type\":\"scatter\"},{\"line\":{\"color\":\"cornflowerblue\",\"width\":0},\"mode\":\"lines\",\"x\":[-5.2080864906311035,-5.410782814025879,null],\"y\":[-6.200881004333496,-5.800204753875732,null],\"type\":\"scatter\"},{\"line\":{\"color\":\"cornflowerblue\",\"width\":0.8892595734562564},\"mode\":\"lines\",\"x\":[-6.335114479064941,-2.419635057449341,null],\"y\":[-5.957523822784424,-4.468696117401123,null],\"type\":\"scatter\"},{\"line\":{\"color\":\"cornflowerblue\",\"width\":0.513677684201144},\"mode\":\"lines\",\"x\":[-6.335114479064941,-5.987621307373047,null],\"y\":[-5.957523822784424,-5.304370403289795,null],\"type\":\"scatter\"},{\"line\":{\"color\":\"cornflowerblue\",\"width\":0.4936537047487861},\"mode\":\"lines\",\"x\":[-6.335114479064941,-7.857990741729736,null],\"y\":[-5.957523822784424,-3.3920838832855225,null],\"type\":\"scatter\"},{\"line\":{\"color\":\"cornflowerblue\",\"width\":0.731527526003068},\"mode\":\"lines\",\"x\":[-6.335114479064941,-2.163369655609131,null],\"y\":[-5.957523822784424,-4.109903335571289,null],\"type\":\"scatter\"},{\"line\":{\"color\":\"cornflowerblue\",\"width\":1.4785195922417724},\"mode\":\"lines\",\"x\":[-6.335114479064941,-5.791920185089111,null],\"y\":[-5.957523822784424,-6.406492710113525,null],\"type\":\"scatter\"},{\"line\":{\"color\":\"cornflowerblue\",\"width\":0},\"mode\":\"lines\",\"x\":[-6.335114479064941,-5.410782814025879,null],\"y\":[-5.957523822784424,-5.800204753875732,null],\"type\":\"scatter\"},{\"line\":{\"color\":\"cornflowerblue\",\"width\":0.7085818561223438},\"mode\":\"lines\",\"x\":[-1.1081401109695435,-1.0004652738571167,null],\"y\":[-0.1596251279115677,-0.915282130241394,null],\"type\":\"scatter\"},{\"line\":{\"color\":\"cornflowerblue\",\"width\":0.7030429608071067},\"mode\":\"lines\",\"x\":[-1.1081401109695435,-0.42609289288520813,null],\"y\":[-0.1596251279115677,-1.6907260417938232,null],\"type\":\"scatter\"},{\"line\":{\"color\":\"cornflowerblue\",\"width\":0.7279771210475601},\"mode\":\"lines\",\"x\":[-1.1081401109695435,-3.8458964824676514,null],\"y\":[-0.1596251279115677,1.0176095962524414,null],\"type\":\"scatter\"},{\"line\":{\"color\":\"cornflowerblue\",\"width\":1.443740824190662},\"mode\":\"lines\",\"x\":[-1.1081401109695435,-0.1273382604122162,null],\"y\":[-0.1596251279115677,-2.524526596069336,null],\"type\":\"scatter\"},{\"line\":{\"color\":\"cornflowerblue\",\"width\":0.7257747386024231},\"mode\":\"lines\",\"x\":[-1.1081401109695435,-0.6112854480743408,null],\"y\":[-0.1596251279115677,-1.3087753057479858,null],\"type\":\"scatter\"},{\"line\":{\"color\":\"cornflowerblue\",\"width\":0.9716588024509784},\"mode\":\"lines\",\"x\":[-1.1081401109695435,-4.974451065063477,null],\"y\":[-0.1596251279115677,1.329877257347107,null],\"type\":\"scatter\"},{\"line\":{\"color\":\"cornflowerblue\",\"width\":0.3076657889108154},\"mode\":\"lines\",\"x\":[-1.1081401109695435,0.4756990969181061,null],\"y\":[-0.1596251279115677,-0.20842666923999786,null],\"type\":\"scatter\"},{\"line\":{\"color\":\"cornflowerblue\",\"width\":0.4386913376508308},\"mode\":\"lines\",\"x\":[-1.1081401109695435,-3.1505517959594727,null],\"y\":[-0.1596251279115677,-10.24310302734375,null],\"type\":\"scatter\"},{\"line\":{\"color\":\"cornflowerblue\",\"width\":0},\"mode\":\"lines\",\"x\":[-1.1081401109695435,-1.0601037740707397,null],\"y\":[-0.1596251279115677,-2.278170585632324,null],\"type\":\"scatter\"},{\"line\":{\"color\":\"cornflowerblue\",\"width\":0.8707769849690167},\"mode\":\"lines\",\"x\":[-1.0004652738571167,-0.6112854480743408,null],\"y\":[-0.915282130241394,-1.3087753057479858,null],\"type\":\"scatter\"},{\"line\":{\"color\":\"cornflowerblue\",\"width\":1.5807467683326095},\"mode\":\"lines\",\"x\":[-1.0004652738571167,-0.1273382604122162,null],\"y\":[-0.915282130241394,-2.524526596069336,null],\"type\":\"scatter\"},{\"line\":{\"color\":\"cornflowerblue\",\"width\":1.0434534936567017},\"mode\":\"lines\",\"x\":[-1.0004652738571167,-0.41577109694480896,null],\"y\":[-0.915282130241394,-7.202605724334717,null],\"type\":\"scatter\"},{\"line\":{\"color\":\"cornflowerblue\",\"width\":0.8989321760954128},\"mode\":\"lines\",\"x\":[-1.0004652738571167,-0.42609289288520813,null],\"y\":[-0.915282130241394,-1.6907260417938232,null],\"type\":\"scatter\"},{\"line\":{\"color\":\"cornflowerblue\",\"width\":1.0553596940659966},\"mode\":\"lines\",\"x\":[-1.0004652738571167,0.02812773548066616,null],\"y\":[-0.915282130241394,-3.478724718093872,null],\"type\":\"scatter\"},{\"line\":{\"color\":\"cornflowerblue\",\"width\":0.3003774920460467},\"mode\":\"lines\",\"x\":[-1.0004652738571167,0.4756990969181061,null],\"y\":[-0.915282130241394,-0.20842666923999786,null],\"type\":\"scatter\"},{\"line\":{\"color\":\"cornflowerblue\",\"width\":0.6957184324632413},\"mode\":\"lines\",\"x\":[-1.0004652738571167,-1.5755537748336792,null],\"y\":[-0.915282130241394,-0.28668516874313354,null],\"type\":\"scatter\"},{\"line\":{\"color\":\"cornflowerblue\",\"width\":0.6959558941775947},\"mode\":\"lines\",\"x\":[-1.0004652738571167,-1.358725666999817,null],\"y\":[-0.915282130241394,-1.635020136833191,null],\"type\":\"scatter\"},{\"line\":{\"color\":\"cornflowerblue\",\"width\":0},\"mode\":\"lines\",\"x\":[-1.0004652738571167,-1.0601037740707397,null],\"y\":[-0.915282130241394,-2.278170585632324,null],\"type\":\"scatter\"},{\"line\":{\"color\":\"cornflowerblue\",\"width\":1.1015075828875014},\"mode\":\"lines\",\"x\":[-0.42609289288520813,0.02812773548066616,null],\"y\":[-1.6907260417938232,-3.478724718093872,null],\"type\":\"scatter\"},{\"line\":{\"color\":\"cornflowerblue\",\"width\":1.3472304900295655},\"mode\":\"lines\",\"x\":[-0.42609289288520813,0.7359210252761841,null],\"y\":[-1.6907260417938232,-2.4273197650909424,null],\"type\":\"scatter\"},{\"line\":{\"color\":\"cornflowerblue\",\"width\":0.9875143476088013},\"mode\":\"lines\",\"x\":[-0.42609289288520813,-1.684312105178833,null],\"y\":[-1.6907260417938232,-2.9888062477111816,null],\"type\":\"scatter\"},{\"line\":{\"color\":\"cornflowerblue\",\"width\":0.9207436790680513},\"mode\":\"lines\",\"x\":[-0.42609289288520813,-0.6112854480743408,null],\"y\":[-1.6907260417938232,-1.3087753057479858,null],\"type\":\"scatter\"},{\"line\":{\"color\":\"cornflowerblue\",\"width\":1.5641586711948228},\"mode\":\"lines\",\"x\":[-0.42609289288520813,-0.1273382604122162,null],\"y\":[-1.6907260417938232,-2.524526596069336,null],\"type\":\"scatter\"},{\"line\":{\"color\":\"cornflowerblue\",\"width\":0.2980294789419554},\"mode\":\"lines\",\"x\":[-0.42609289288520813,0.4756990969181061,null],\"y\":[-1.6907260417938232,-0.20842666923999786,null],\"type\":\"scatter\"},{\"line\":{\"color\":\"cornflowerblue\",\"width\":0},\"mode\":\"lines\",\"x\":[-0.42609289288520813,-1.0601037740707397,null],\"y\":[-1.6907260417938232,-2.278170585632324,null],\"type\":\"scatter\"},{\"line\":{\"color\":\"cornflowerblue\",\"width\":0.9781096723558502},\"mode\":\"lines\",\"x\":[-3.8458964824676514,-1.9475975036621094,null],\"y\":[1.0176095962524414,-0.8779391050338745,null],\"type\":\"scatter\"},{\"line\":{\"color\":\"cornflowerblue\",\"width\":0.20977859996563503},\"mode\":\"lines\",\"x\":[-3.8458964824676514,-5.225663185119629,null],\"y\":[1.0176095962524414,0.9511251449584961,null],\"type\":\"scatter\"},{\"line\":{\"color\":\"cornflowerblue\",\"width\":0.6960382902570129},\"mode\":\"lines\",\"x\":[-3.8458964824676514,-1.5755537748336792,null],\"y\":[1.0176095962524414,-0.28668516874313354,null],\"type\":\"scatter\"},{\"line\":{\"color\":\"cornflowerblue\",\"width\":1.0485095530861641},\"mode\":\"lines\",\"x\":[-3.8458964824676514,0.37457114458084106,null],\"y\":[1.0176095962524414,-1.6131783723831177,null],\"type\":\"scatter\"},{\"line\":{\"color\":\"cornflowerblue\",\"width\":1.3092119555482267},\"mode\":\"lines\",\"x\":[-3.8458964824676514,-4.863575458526611,null],\"y\":[1.0176095962524414,1.8526055812835693,null],\"type\":\"scatter\"},{\"line\":{\"color\":\"cornflowerblue\",\"width\":0.6825093828764702},\"mode\":\"lines\",\"x\":[-3.8458964824676514,-2.1417486667633057,null],\"y\":[1.0176095962524414,-1.0157002210617065,null],\"type\":\"scatter\"},{\"line\":{\"color\":\"cornflowerblue\",\"width\":0.9076682217793339},\"mode\":\"lines\",\"x\":[-3.8458964824676514,5.207670211791992,null],\"y\":[1.0176095962524414,-6.687026023864746,null],\"type\":\"scatter\"},{\"line\":{\"color\":\"cornflowerblue\",\"width\":0.8435701323489757},\"mode\":\"lines\",\"x\":[-3.8458964824676514,-4.6838507652282715,null],\"y\":[1.0176095962524414,1.1470887660980225,null],\"type\":\"scatter\"},{\"line\":{\"color\":\"cornflowerblue\",\"width\":1.5157264360311917},\"mode\":\"lines\",\"x\":[-3.8458964824676514,-0.1273382604122162,null],\"y\":[1.0176095962524414,-2.524526596069336,null],\"type\":\"scatter\"},{\"line\":{\"color\":\"cornflowerblue\",\"width\":0},\"mode\":\"lines\",\"x\":[-3.8458964824676514,-5.33353328704834,null],\"y\":[1.0176095962524414,0.6507877111434937,null],\"type\":\"scatter\"},{\"line\":{\"color\":\"cornflowerblue\",\"width\":1.0457260042456227},\"mode\":\"lines\",\"x\":[-0.1273382604122162,-2.123562812805176,null],\"y\":[-2.524526596069336,-1.7770745754241943,null],\"type\":\"scatter\"},{\"line\":{\"color\":\"cornflowerblue\",\"width\":1.6109747323235815},\"mode\":\"lines\",\"x\":[-0.1273382604122162,-0.6112854480743408,null],\"y\":[-2.524526596069336,-1.3087753057479858,null],\"type\":\"scatter\"},{\"line\":{\"color\":\"cornflowerblue\",\"width\":1.1416593670392419},\"mode\":\"lines\",\"x\":[-0.1273382604122162,-0.6384429335594177,null],\"y\":[-2.524526596069336,-2.491394519805908,null],\"type\":\"scatter\"},{\"line\":{\"color\":\"cornflowerblue\",\"width\":1.4723130435643852},\"mode\":\"lines\",\"x\":[-0.1273382604122162,-1.9475975036621094,null],\"y\":[-2.524526596069336,-0.8779391050338745,null],\"type\":\"scatter\"},{\"line\":{\"color\":\"cornflowerblue\",\"width\":0.819904550223147},\"mode\":\"lines\",\"x\":[-0.1273382604122162,-5.987621307373047,null],\"y\":[-2.524526596069336,-5.304370403289795,null],\"type\":\"scatter\"},{\"line\":{\"color\":\"cornflowerblue\",\"width\":0.9311123100546752},\"mode\":\"lines\",\"x\":[-0.1273382604122162,5.643202304840088,null],\"y\":[-2.524526596069336,-7.1055216789245605,null],\"type\":\"scatter\"},{\"line\":{\"color\":\"cornflowerblue\",\"width\":1.2876528471084852},\"mode\":\"lines\",\"x\":[-0.1273382604122162,0.7359210252761841,null],\"y\":[-2.524526596069336,-2.4273197650909424,null],\"type\":\"scatter\"},{\"line\":{\"color\":\"cornflowerblue\",\"width\":0.5416518427924402},\"mode\":\"lines\",\"x\":[-0.1273382604122162,-0.6591405272483826,null],\"y\":[-2.524526596069336,-8.202556610107422,null],\"type\":\"scatter\"},{\"line\":{\"color\":\"cornflowerblue\",\"width\":0.6071623830343091},\"mode\":\"lines\",\"x\":[-0.1273382604122162,0.4756990969181061,null],\"y\":[-2.524526596069336,-0.20842666923999786,null],\"type\":\"scatter\"},{\"line\":{\"color\":\"cornflowerblue\",\"width\":1.2928715901466967},\"mode\":\"lines\",\"x\":[-0.1273382604122162,0.02812773548066616,null],\"y\":[-2.524526596069336,-3.478724718093872,null],\"type\":\"scatter\"},{\"line\":{\"color\":\"cornflowerblue\",\"width\":0.7541038829246063},\"mode\":\"lines\",\"x\":[-0.1273382604122162,1.106619119644165,null],\"y\":[-2.524526596069336,-3.8142035007476807,null],\"type\":\"scatter\"},{\"line\":{\"color\":\"cornflowerblue\",\"width\":1.026725571216931},\"mode\":\"lines\",\"x\":[-0.1273382604122162,1.3652284145355225,null],\"y\":[-2.524526596069336,-3.590304136276245,null],\"type\":\"scatter\"},{\"line\":{\"color\":\"cornflowerblue\",\"width\":1.2875273983217568},\"mode\":\"lines\",\"x\":[-0.1273382604122162,-1.5755537748336792,null],\"y\":[-2.524526596069336,-0.28668516874313354,null],\"type\":\"scatter\"},{\"line\":{\"color\":\"cornflowerblue\",\"width\":1.4099355563556004},\"mode\":\"lines\",\"x\":[-0.1273382604122162,-1.684312105178833,null],\"y\":[-2.524526596069336,-2.9888062477111816,null],\"type\":\"scatter\"},{\"line\":{\"color\":\"cornflowerblue\",\"width\":1.0220232724079692},\"mode\":\"lines\",\"x\":[-0.1273382604122162,-0.2766866683959961,null],\"y\":[-2.524526596069336,-4.681640148162842,null],\"type\":\"scatter\"},{\"line\":{\"color\":\"cornflowerblue\",\"width\":0.761290643982806},\"mode\":\"lines\",\"x\":[-0.1273382604122162,0.37457114458084106,null],\"y\":[-2.524526596069336,-1.6131783723831177,null],\"type\":\"scatter\"},{\"line\":{\"color\":\"cornflowerblue\",\"width\":1.284087713746031},\"mode\":\"lines\",\"x\":[-0.1273382604122162,-3.261085033416748,null],\"y\":[-2.524526596069336,-9.968637466430664,null],\"type\":\"scatter\"},{\"line\":{\"color\":\"cornflowerblue\",\"width\":1.2815571118676123},\"mode\":\"lines\",\"x\":[-0.1273382604122162,0.2706189751625061,null],\"y\":[-2.524526596069336,-3.2082691192626953,null],\"type\":\"scatter\"},{\"line\":{\"color\":\"cornflowerblue\",\"width\":1.331490149815153},\"mode\":\"lines\",\"x\":[-0.1273382604122162,-1.358725666999817,null],\"y\":[-2.524526596069336,-1.635020136833191,null],\"type\":\"scatter\"},{\"line\":{\"color\":\"cornflowerblue\",\"width\":1.3313241583153899},\"mode\":\"lines\",\"x\":[-0.1273382604122162,4.842525482177734,null],\"y\":[-2.524526596069336,-6.549506664276123,null],\"type\":\"scatter\"},{\"line\":{\"color\":\"cornflowerblue\",\"width\":1.122956142027816},\"mode\":\"lines\",\"x\":[-0.1273382604122162,-2.1417486667633057,null],\"y\":[-2.524526596069336,-1.0157002210617065,null],\"type\":\"scatter\"},{\"line\":{\"color\":\"cornflowerblue\",\"width\":0.9733064303057528},\"mode\":\"lines\",\"x\":[-0.1273382604122162,-5.791920185089111,null],\"y\":[-2.524526596069336,-6.406492710113525,null],\"type\":\"scatter\"},{\"line\":{\"color\":\"cornflowerblue\",\"width\":1.0347412932691324},\"mode\":\"lines\",\"x\":[-0.1273382604122162,-2.916576385498047,null],\"y\":[-2.524526596069336,-2.7157065868377686,null],\"type\":\"scatter\"},{\"line\":{\"color\":\"cornflowerblue\",\"width\":0.8871510719508322},\"mode\":\"lines\",\"x\":[-0.1273382604122162,-0.41577109694480896,null],\"y\":[-2.524526596069336,-7.202605724334717,null],\"type\":\"scatter\"},{\"line\":{\"color\":\"cornflowerblue\",\"width\":0.4654775778512199},\"mode\":\"lines\",\"x\":[-0.1273382604122162,3.2725751399993896,null],\"y\":[-2.524526596069336,1.4593629837036133,null],\"type\":\"scatter\"},{\"line\":{\"color\":\"cornflowerblue\",\"width\":0.9921278820130996},\"mode\":\"lines\",\"x\":[-0.1273382604122162,5.207670211791992,null],\"y\":[-2.524526596069336,-6.687026023864746,null],\"type\":\"scatter\"},{\"line\":{\"color\":\"cornflowerblue\",\"width\":0.9317649197412392},\"mode\":\"lines\",\"x\":[-0.1273382604122162,-3.1496315002441406,null],\"y\":[-2.524526596069336,-10.181135177612305,null],\"type\":\"scatter\"},{\"line\":{\"color\":\"cornflowerblue\",\"width\":0.2255310406177019},\"mode\":\"lines\",\"x\":[-0.1273382604122162,-5.688165664672852,null],\"y\":[-2.524526596069336,1.4192664623260498,null],\"type\":\"scatter\"},{\"line\":{\"color\":\"cornflowerblue\",\"width\":0.8714513607044894},\"mode\":\"lines\",\"x\":[-0.1273382604122162,-3.1505517959594727,null],\"y\":[-2.524526596069336,-10.24310302734375,null],\"type\":\"scatter\"},{\"line\":{\"color\":\"cornflowerblue\",\"width\":0.9031954226171519},\"mode\":\"lines\",\"x\":[-0.1273382604122162,-5.686635971069336,null],\"y\":[-2.524526596069336,1.0812551975250244,null],\"type\":\"scatter\"},{\"line\":{\"color\":\"cornflowerblue\",\"width\":0.9417456265431765},\"mode\":\"lines\",\"x\":[-0.1273382604122162,-2.2358944416046143,null],\"y\":[-2.524526596069336,-2.6037206649780273,null],\"type\":\"scatter\"},{\"line\":{\"color\":\"cornflowerblue\",\"width\":0.20401963449148677},\"mode\":\"lines\",\"x\":[-0.1273382604122162,3.2814278602600098,null],\"y\":[-2.524526596069336,1.4431389570236206,null],\"type\":\"scatter\"},{\"line\":{\"color\":\"cornflowerblue\",\"width\":0},\"mode\":\"lines\",\"x\":[-0.1273382604122162,-1.0601037740707397,null],\"y\":[-2.524526596069336,-2.278170585632324,null],\"type\":\"scatter\"},{\"line\":{\"color\":\"cornflowerblue\",\"width\":1.1266905961426312},\"mode\":\"lines\",\"x\":[-0.6112854480743408,-1.684312105178833,null],\"y\":[-1.3087753057479858,-2.9888062477111816,null],\"type\":\"scatter\"},{\"line\":{\"color\":\"cornflowerblue\",\"width\":0.3076657889108154},\"mode\":\"lines\",\"x\":[-0.6112854480743408,0.4756990969181061,null],\"y\":[-1.3087753057479858,-0.20842666923999786,null],\"type\":\"scatter\"},{\"line\":{\"color\":\"cornflowerblue\",\"width\":0.6728597683119575},\"mode\":\"lines\",\"x\":[-0.6112854480743408,-1.5755537748336792,null],\"y\":[-1.3087753057479858,-0.28668516874313354,null],\"type\":\"scatter\"},{\"line\":{\"color\":\"cornflowerblue\",\"width\":0.6871158522127339},\"mode\":\"lines\",\"x\":[-0.6112854480743408,-1.358725666999817,null],\"y\":[-1.3087753057479858,-1.635020136833191,null],\"type\":\"scatter\"},{\"line\":{\"color\":\"cornflowerblue\",\"width\":0.4386913376508308},\"mode\":\"lines\",\"x\":[-0.6112854480743408,-3.1505517959594727,null],\"y\":[-1.3087753057479858,-10.24310302734375,null],\"type\":\"scatter\"},{\"line\":{\"color\":\"cornflowerblue\",\"width\":0},\"mode\":\"lines\",\"x\":[-0.6112854480743408,-1.0601037740707397,null],\"y\":[-1.3087753057479858,-2.278170585632324,null],\"type\":\"scatter\"},{\"line\":{\"color\":\"cornflowerblue\",\"width\":1.5703643656337598},\"mode\":\"lines\",\"x\":[-4.974451065063477,-4.572055339813232,null],\"y\":[1.329877257347107,1.424369215965271,null],\"type\":\"scatter\"},{\"line\":{\"color\":\"cornflowerblue\",\"width\":1.2704991486658683},\"mode\":\"lines\",\"x\":[-4.974451065063477,-5.686635971069336,null],\"y\":[1.329877257347107,1.0812551975250244,null],\"type\":\"scatter\"},{\"line\":{\"color\":\"cornflowerblue\",\"width\":1.2106405047380897},\"mode\":\"lines\",\"x\":[-4.974451065063477,-4.863575458526611,null],\"y\":[1.329877257347107,1.8526055812835693,null],\"type\":\"scatter\"},{\"line\":{\"color\":\"cornflowerblue\",\"width\":1.1190886529413524},\"mode\":\"lines\",\"x\":[-4.974451065063477,-4.6838507652282715,null],\"y\":[1.329877257347107,1.1470887660980225,null],\"type\":\"scatter\"},{\"line\":{\"color\":\"cornflowerblue\",\"width\":0.1943105983996073},\"mode\":\"lines\",\"x\":[-4.974451065063477,-5.688165664672852,null],\"y\":[1.329877257347107,1.4192664623260498,null],\"type\":\"scatter\"},{\"line\":{\"color\":\"cornflowerblue\",\"width\":0},\"mode\":\"lines\",\"x\":[-4.974451065063477,-5.33353328704834,null],\"y\":[1.329877257347107,0.6507877111434937,null],\"type\":\"scatter\"},{\"line\":{\"color\":\"cornflowerblue\",\"width\":0.6832082854983589},\"mode\":\"lines\",\"x\":[-2.123562812805176,-1.9475975036621094,null],\"y\":[-1.7770745754241943,-0.8779391050338745,null],\"type\":\"scatter\"},{\"line\":{\"color\":\"cornflowerblue\",\"width\":0.7351525318845467},\"mode\":\"lines\",\"x\":[-2.123562812805176,-2.1417486667633057,null],\"y\":[-1.7770745754241943,-1.0157002210617065,null],\"type\":\"scatter\"},{\"line\":{\"color\":\"cornflowerblue\",\"width\":0.6550568550960584},\"mode\":\"lines\",\"x\":[-2.123562812805176,0.02812773548066616,null],\"y\":[-1.7770745754241943,-3.478724718093872,null],\"type\":\"scatter\"},{\"line\":{\"color\":\"cornflowerblue\",\"width\":0},\"mode\":\"lines\",\"x\":[-2.123562812805176,-1.0601037740707397,null],\"y\":[-1.7770745754241943,-2.278170585632324,null],\"type\":\"scatter\"},{\"line\":{\"color\":\"cornflowerblue\",\"width\":1.2657321049599752},\"mode\":\"lines\",\"x\":[-1.9475975036621094,-2.916576385498047,null],\"y\":[-0.8779391050338745,-2.7157065868377686,null],\"type\":\"scatter\"},{\"line\":{\"color\":\"cornflowerblue\",\"width\":1.0690916496753924},\"mode\":\"lines\",\"x\":[-1.9475975036621094,-3.261085033416748,null],\"y\":[-0.8779391050338745,-9.968637466430664,null],\"type\":\"scatter\"},{\"line\":{\"color\":\"cornflowerblue\",\"width\":0.9797326463592462},\"mode\":\"lines\",\"x\":[-1.9475975036621094,0.02812773548066616,null],\"y\":[-0.8779391050338745,-3.478724718093872,null],\"type\":\"scatter\"},{\"line\":{\"color\":\"cornflowerblue\",\"width\":0.9164836129510925},\"mode\":\"lines\",\"x\":[-1.9475975036621094,-1.5755537748336792,null],\"y\":[-0.8779391050338745,-0.28668516874313354,null],\"type\":\"scatter\"},{\"line\":{\"color\":\"cornflowerblue\",\"width\":0.746568660793269},\"mode\":\"lines\",\"x\":[-1.9475975036621094,-1.358725666999817,null],\"y\":[-0.8779391050338745,-1.635020136833191,null],\"type\":\"scatter\"},{\"line\":{\"color\":\"cornflowerblue\",\"width\":0.7487671279748737},\"mode\":\"lines\",\"x\":[-1.9475975036621094,-2.1417486667633057,null],\"y\":[-0.8779391050338745,-1.0157002210617065,null],\"type\":\"scatter\"},{\"line\":{\"color\":\"cornflowerblue\",\"width\":0},\"mode\":\"lines\",\"x\":[-1.9475975036621094,-1.0601037740707397,null],\"y\":[-0.8779391050338745,-2.278170585632324,null],\"type\":\"scatter\"},{\"line\":{\"color\":\"cornflowerblue\",\"width\":0.7138779247222193},\"mode\":\"lines\",\"x\":[-2.1417486667633057,0.02812773548066616,null],\"y\":[-1.0157002210617065,-3.478724718093872,null],\"type\":\"scatter\"},{\"line\":{\"color\":\"cornflowerblue\",\"width\":0},\"mode\":\"lines\",\"x\":[-2.1417486667633057,-1.0601037740707397,null],\"y\":[-1.0157002210617065,-2.278170585632324,null],\"type\":\"scatter\"},{\"line\":{\"color\":\"cornflowerblue\",\"width\":1.2500946853355392},\"mode\":\"lines\",\"x\":[0.02812773548066616,-0.4601374864578247,null],\"y\":[-3.478724718093872,-6.281803131103516,null],\"type\":\"scatter\"},{\"line\":{\"color\":\"cornflowerblue\",\"width\":0.8776066446971028},\"mode\":\"lines\",\"x\":[0.02812773548066616,-4.728614807128906,null],\"y\":[-3.478724718093872,-6.334270477294922,null],\"type\":\"scatter\"},{\"line\":{\"color\":\"cornflowerblue\",\"width\":1.2321436719589278},\"mode\":\"lines\",\"x\":[0.02812773548066616,-0.6384429335594177,null],\"y\":[-3.478724718093872,-2.491394519805908,null],\"type\":\"scatter\"},{\"line\":{\"color\":\"cornflowerblue\",\"width\":1.16232144182521},\"mode\":\"lines\",\"x\":[0.02812773548066616,0.7359210252761841,null],\"y\":[-3.478724718093872,-2.4273197650909424,null],\"type\":\"scatter\"},{\"line\":{\"color\":\"cornflowerblue\",\"width\":0.8758173005146244},\"mode\":\"lines\",\"x\":[0.02812773548066616,0.0731186494231224,null],\"y\":[-3.478724718093872,3.723130226135254,null],\"type\":\"scatter\"},{\"line\":{\"color\":\"cornflowerblue\",\"width\":0.8422727712604391},\"mode\":\"lines\",\"x\":[0.02812773548066616,-0.7015998363494873,null],\"y\":[-3.478724718093872,-3.307401180267334,null],\"type\":\"scatter\"},{\"line\":{\"color\":\"cornflowerblue\",\"width\":0.9384751519180878},\"mode\":\"lines\",\"x\":[0.02812773548066616,0.5415882468223572,null],\"y\":[-3.478724718093872,3.622282028198242,null],\"type\":\"scatter\"},{\"line\":{\"color\":\"cornflowerblue\",\"width\":0.7638895259352613},\"mode\":\"lines\",\"x\":[0.02812773548066616,1.106619119644165,null],\"y\":[-3.478724718093872,-3.8142035007476807,null],\"type\":\"scatter\"},{\"line\":{\"color\":\"cornflowerblue\",\"width\":1.125943944634948},\"mode\":\"lines\",\"x\":[0.02812773548066616,1.3652284145355225,null],\"y\":[-3.478724718093872,-3.590304136276245,null],\"type\":\"scatter\"},{\"line\":{\"color\":\"cornflowerblue\",\"width\":0.9030287198154553},\"mode\":\"lines\",\"x\":[0.02812773548066616,-0.05931005999445915,null],\"y\":[-3.478724718093872,3.714719295501709,null],\"type\":\"scatter\"},{\"line\":{\"color\":\"cornflowerblue\",\"width\":1.0400244209589296},\"mode\":\"lines\",\"x\":[0.02812773548066616,-1.684312105178833,null],\"y\":[-3.478724718093872,-2.9888062477111816,null],\"type\":\"scatter\"},{\"line\":{\"color\":\"cornflowerblue\",\"width\":0.9011252793374207},\"mode\":\"lines\",\"x\":[0.02812773548066616,-0.2766866683959961,null],\"y\":[-3.478724718093872,-4.681640148162842,null],\"type\":\"scatter\"},{\"line\":{\"color\":\"cornflowerblue\",\"width\":1.0434187325620206},\"mode\":\"lines\",\"x\":[0.02812773548066616,-3.261085033416748,null],\"y\":[-3.478724718093872,-9.968637466430664,null],\"type\":\"scatter\"},{\"line\":{\"color\":\"cornflowerblue\",\"width\":0.6286731957825835},\"mode\":\"lines\",\"x\":[0.02812773548066616,-2.163369655609131,null],\"y\":[-3.478724718093872,-4.109903335571289,null],\"type\":\"scatter\"},{\"line\":{\"color\":\"cornflowerblue\",\"width\":1.1362227408336927},\"mode\":\"lines\",\"x\":[0.02812773548066616,-1.8085951805114746,null],\"y\":[-3.478724718093872,-3.729217529296875,null],\"type\":\"scatter\"},{\"line\":{\"color\":\"cornflowerblue\",\"width\":0.6343270582444803},\"mode\":\"lines\",\"x\":[0.02812773548066616,0.16153889894485474,null],\"y\":[-3.478724718093872,3.7165751457214355,null],\"type\":\"scatter\"},{\"line\":{\"color\":\"cornflowerblue\",\"width\":0.5108105128137095},\"mode\":\"lines\",\"x\":[0.02812773548066616,1.3407062292099,null],\"y\":[-3.478724718093872,-5.794181823730469,null],\"type\":\"scatter\"},{\"line\":{\"color\":\"cornflowerblue\",\"width\":0.753984115481275},\"mode\":\"lines\",\"x\":[0.02812773548066616,-0.08317464590072632,null],\"y\":[-3.478724718093872,-7.529576301574707,null],\"type\":\"scatter\"},{\"line\":{\"color\":\"cornflowerblue\",\"width\":0.8101937128344255},\"mode\":\"lines\",\"x\":[0.02812773548066616,0.9181256294250488,null],\"y\":[-3.478724718093872,-6.51785945892334,null],\"type\":\"scatter\"},{\"line\":{\"color\":\"cornflowerblue\",\"width\":1.0319103153362794},\"mode\":\"lines\",\"x\":[0.02812773548066616,-0.41577109694480896,null],\"y\":[-3.478724718093872,-7.202605724334717,null],\"type\":\"scatter\"},{\"line\":{\"color\":\"cornflowerblue\",\"width\":0.40657599250709797},\"mode\":\"lines\",\"x\":[0.02812773548066616,3.2725751399993896,null],\"y\":[-3.478724718093872,1.4593629837036133,null],\"type\":\"scatter\"},{\"line\":{\"color\":\"cornflowerblue\",\"width\":1.0724799944751156},\"mode\":\"lines\",\"x\":[0.02812773548066616,5.207670211791992,null],\"y\":[-3.478724718093872,-6.687026023864746,null],\"type\":\"scatter\"},{\"line\":{\"color\":\"cornflowerblue\",\"width\":0.40285441123439786},\"mode\":\"lines\",\"x\":[0.02812773548066616,4.0417160987854,null],\"y\":[-3.478724718093872,-3.198374032974243,null],\"type\":\"scatter\"},{\"line\":{\"color\":\"cornflowerblue\",\"width\":0.9085044771272045},\"mode\":\"lines\",\"x\":[0.02812773548066616,-3.1496315002441406,null],\"y\":[-3.478724718093872,-10.181135177612305,null],\"type\":\"scatter\"},{\"line\":{\"color\":\"cornflowerblue\",\"width\":0.7095166991727893},\"mode\":\"lines\",\"x\":[0.02812773548066616,-0.011628356762230396,null],\"y\":[-3.478724718093872,3.68748140335083,null],\"type\":\"scatter\"},{\"line\":{\"color\":\"cornflowerblue\",\"width\":0.9006036391729835},\"mode\":\"lines\",\"x\":[0.02812773548066616,0.11800596117973328,null],\"y\":[-3.478724718093872,-6.167614936828613,null],\"type\":\"scatter\"},{\"line\":{\"color\":\"cornflowerblue\",\"width\":0.8914495963782514},\"mode\":\"lines\",\"x\":[0.02812773548066616,-2.2358944416046143,null],\"y\":[-3.478724718093872,-2.6037206649780273,null],\"type\":\"scatter\"},{\"line\":{\"color\":\"cornflowerblue\",\"width\":0},\"mode\":\"lines\",\"x\":[0.02812773548066616,-1.0601037740707397,null],\"y\":[-3.478724718093872,-2.278170585632324,null],\"type\":\"scatter\"},{\"line\":{\"color\":\"cornflowerblue\",\"width\":0.8115453340470359},\"mode\":\"lines\",\"x\":[-0.4601374864578247,-2.419635057449341,null],\"y\":[-6.281803131103516,-4.468696117401123,null],\"type\":\"scatter\"},{\"line\":{\"color\":\"cornflowerblue\",\"width\":0.8181445007656246},\"mode\":\"lines\",\"x\":[-0.4601374864578247,0.11800596117973328,null],\"y\":[-6.281803131103516,-6.167614936828613,null],\"type\":\"scatter\"},{\"line\":{\"color\":\"cornflowerblue\",\"width\":0.6699116321955294},\"mode\":\"lines\",\"x\":[-0.4601374864578247,-4.728614807128906,null],\"y\":[-6.281803131103516,-6.334270477294922,null],\"type\":\"scatter\"},{\"line\":{\"color\":\"cornflowerblue\",\"width\":0.731452779187445},\"mode\":\"lines\",\"x\":[-0.4601374864578247,-0.7015998363494873,null],\"y\":[-6.281803131103516,-3.307401180267334,null],\"type\":\"scatter\"},{\"line\":{\"color\":\"cornflowerblue\",\"width\":0.3440251115894085},\"mode\":\"lines\",\"x\":[-0.4601374864578247,1.3407062292099,null],\"y\":[-6.281803131103516,-5.794181823730469,null],\"type\":\"scatter\"},{\"line\":{\"color\":\"cornflowerblue\",\"width\":0},\"mode\":\"lines\",\"x\":[-0.4601374864578247,1.0052075386047363,null],\"y\":[-6.281803131103516,-8.030531883239746,null],\"type\":\"scatter\"},{\"line\":{\"color\":\"cornflowerblue\",\"width\":0.7603878556431565},\"mode\":\"lines\",\"x\":[-2.419635057449341,-5.791920185089111,null],\"y\":[-4.468696117401123,-6.406492710113525,null],\"type\":\"scatter\"},{\"line\":{\"color\":\"cornflowerblue\",\"width\":0},\"mode\":\"lines\",\"x\":[-2.419635057449341,-1.0601037740707397,null],\"y\":[-4.468696117401123,-2.278170585632324,null],\"type\":\"scatter\"},{\"line\":{\"color\":\"cornflowerblue\",\"width\":0.2355325599019591},\"mode\":\"lines\",\"x\":[0.11800596117973328,-0.0815376415848732,null],\"y\":[-6.167614936828613,-8.81507682800293,null],\"type\":\"scatter\"},{\"line\":{\"color\":\"cornflowerblue\",\"width\":0.7371196938485625},\"mode\":\"lines\",\"x\":[0.11800596117973328,-0.08317464590072632,null],\"y\":[-6.167614936828613,-7.529576301574707,null],\"type\":\"scatter\"},{\"line\":{\"color\":\"cornflowerblue\",\"width\":0.7504836196601484},\"mode\":\"lines\",\"x\":[0.11800596117973328,0.9181256294250488,null],\"y\":[-6.167614936828613,-6.51785945892334,null],\"type\":\"scatter\"},{\"line\":{\"color\":\"cornflowerblue\",\"width\":0},\"mode\":\"lines\",\"x\":[0.11800596117973328,1.0052075386047363,null],\"y\":[-6.167614936828613,-8.030531883239746,null],\"type\":\"scatter\"},{\"line\":{\"color\":\"cornflowerblue\",\"width\":0.8652341244146502},\"mode\":\"lines\",\"x\":[0.7359210252761841,-0.6384429335594177,null],\"y\":[-2.4273197650909424,-2.491394519805908,null],\"type\":\"scatter\"},{\"line\":{\"color\":\"cornflowerblue\",\"width\":0.9783185430618998},\"mode\":\"lines\",\"x\":[0.7359210252761841,-1.684312105178833,null],\"y\":[-2.4273197650909424,-2.9888062477111816,null],\"type\":\"scatter\"},{\"line\":{\"color\":\"cornflowerblue\",\"width\":0.407012115996238},\"mode\":\"lines\",\"x\":[0.7359210252761841,3.2725751399993896,null],\"y\":[-2.4273197650909424,1.4593629837036133,null],\"type\":\"scatter\"},{\"line\":{\"color\":\"cornflowerblue\",\"width\":0},\"mode\":\"lines\",\"x\":[0.7359210252761841,-1.0601037740707397,null],\"y\":[-2.4273197650909424,-2.278170585632324,null],\"type\":\"scatter\"},{\"line\":{\"color\":\"cornflowerblue\",\"width\":0.554172494154412},\"mode\":\"lines\",\"x\":[-1.684312105178833,-0.6591405272483826,null],\"y\":[-2.9888062477111816,-8.202556610107422,null],\"type\":\"scatter\"},{\"line\":{\"color\":\"cornflowerblue\",\"width\":1.0025371856154095},\"mode\":\"lines\",\"x\":[-1.684312105178833,4.842525482177734,null],\"y\":[-2.9888062477111816,-6.549506664276123,null],\"type\":\"scatter\"},{\"line\":{\"color\":\"cornflowerblue\",\"width\":0.8094764178679773},\"mode\":\"lines\",\"x\":[-1.684312105178833,0.37457114458084106,null],\"y\":[-2.9888062477111816,-1.6131783723831177,null],\"type\":\"scatter\"},{\"line\":{\"color\":\"cornflowerblue\",\"width\":0.6210464393950684},\"mode\":\"lines\",\"x\":[-1.684312105178833,-2.163369655609131,null],\"y\":[-2.9888062477111816,-4.109903335571289,null],\"type\":\"scatter\"},{\"line\":{\"color\":\"cornflowerblue\",\"width\":0.9954827762763065},\"mode\":\"lines\",\"x\":[-1.684312105178833,-2.916576385498047,null],\"y\":[-2.9888062477111816,-2.7157065868377686,null],\"type\":\"scatter\"},{\"line\":{\"color\":\"cornflowerblue\",\"width\":0},\"mode\":\"lines\",\"x\":[-1.684312105178833,-1.0601037740707397,null],\"y\":[-2.9888062477111816,-2.278170585632324,null],\"type\":\"scatter\"},{\"line\":{\"color\":\"cornflowerblue\",\"width\":0.34106540045534156},\"mode\":\"lines\",\"x\":[3.293605327606201,3.2814278602600098,null],\"y\":[1.445583462715149,1.4431389570236206,null],\"type\":\"scatter\"},{\"line\":{\"color\":\"cornflowerblue\",\"width\":1.4752506664263125},\"mode\":\"lines\",\"x\":[3.293605327606201,3.2725751399993896,null],\"y\":[1.445583462715149,1.4593629837036133,null],\"type\":\"scatter\"},{\"line\":{\"color\":\"cornflowerblue\",\"width\":0},\"mode\":\"lines\",\"x\":[3.293605327606201,3.295823335647583,null],\"y\":[1.445583462715149,1.436713695526123,null],\"type\":\"scatter\"},{\"line\":{\"color\":\"cornflowerblue\",\"width\":0.9479452333527306},\"mode\":\"lines\",\"x\":[3.2814278602600098,3.2725751399993896,null],\"y\":[1.4431389570236206,1.4593629837036133,null],\"type\":\"scatter\"},{\"line\":{\"color\":\"cornflowerblue\",\"width\":0.37090427602181303},\"mode\":\"lines\",\"x\":[3.2814278602600098,0.5415882468223572,null],\"y\":[1.4431389570236206,3.622282028198242,null],\"type\":\"scatter\"},{\"line\":{\"color\":\"cornflowerblue\",\"width\":0},\"mode\":\"lines\",\"x\":[3.2814278602600098,3.295823335647583,null],\"y\":[1.4431389570236206,1.436713695526123,null],\"type\":\"scatter\"},{\"line\":{\"color\":\"cornflowerblue\",\"width\":0.3543685239627649},\"mode\":\"lines\",\"x\":[3.2725751399993896,0.5415882468223572,null],\"y\":[1.4593629837036133,3.622282028198242,null],\"type\":\"scatter\"},{\"line\":{\"color\":\"cornflowerblue\",\"width\":0},\"mode\":\"lines\",\"x\":[3.2725751399993896,3.295823335647583,null],\"y\":[1.4593629837036133,1.436713695526123,null],\"type\":\"scatter\"},{\"line\":{\"color\":\"cornflowerblue\",\"width\":0.8461113244520344},\"mode\":\"lines\",\"x\":[-1.8085951805114746,-0.2766866683959961,null],\"y\":[-3.729217529296875,-4.681640148162842,null],\"type\":\"scatter\"},{\"line\":{\"color\":\"cornflowerblue\",\"width\":1.1796797004527741},\"mode\":\"lines\",\"x\":[-1.8085951805114746,-2.916576385498047,null],\"y\":[-3.729217529296875,-2.7157065868377686,null],\"type\":\"scatter\"},{\"line\":{\"color\":\"cornflowerblue\",\"width\":0},\"mode\":\"lines\",\"x\":[-1.8085951805114746,-1.0601037740707397,null],\"y\":[-3.729217529296875,-2.278170585632324,null],\"type\":\"scatter\"},{\"line\":{\"color\":\"cornflowerblue\",\"width\":1.3411016016614292},\"mode\":\"lines\",\"x\":[5.643202304840088,4.5785908699035645,null],\"y\":[-7.1055216789245605,-4.128320693969727,null],\"type\":\"scatter\"},{\"line\":{\"color\":\"cornflowerblue\",\"width\":2.376806762735528},\"mode\":\"lines\",\"x\":[5.643202304840088,5.781284809112549,null],\"y\":[-7.1055216789245605,-7.476600646972656,null],\"type\":\"scatter\"},{\"line\":{\"color\":\"cornflowerblue\",\"width\":0.631274265003052},\"mode\":\"lines\",\"x\":[5.643202304840088,5.697055339813232,null],\"y\":[-7.1055216789245605,-7.079563140869141,null],\"type\":\"scatter\"},{\"line\":{\"color\":\"cornflowerblue\",\"width\":0.5086386541947672},\"mode\":\"lines\",\"x\":[5.643202304840088,5.511551856994629,null],\"y\":[-7.1055216789245605,-6.968996524810791,null],\"type\":\"scatter\"},{\"line\":{\"color\":\"cornflowerblue\",\"width\":0},\"mode\":\"lines\",\"x\":[5.643202304840088,5.945291042327881,null],\"y\":[-7.1055216789245605,-6.937792778015137,null],\"type\":\"scatter\"},{\"line\":{\"color\":\"cornflowerblue\",\"width\":0},\"mode\":\"lines\",\"x\":[-2.163369655609131,-1.0601037740707397,null],\"y\":[-4.109903335571289,-2.278170585632324,null],\"type\":\"scatter\"},{\"line\":{\"color\":\"cornflowerblue\",\"width\":0.5086386541947672},\"mode\":\"lines\",\"x\":[-5.791920185089111,-5.987621307373047,null],\"y\":[-6.406492710113525,-5.304370403289795,null],\"type\":\"scatter\"},{\"line\":{\"color\":\"cornflowerblue\",\"width\":0.7512391332841041},\"mode\":\"lines\",\"x\":[-5.791920185089111,0.2706189751625061,null],\"y\":[-6.406492710113525,-3.2082691192626953,null],\"type\":\"scatter\"},{\"line\":{\"color\":\"cornflowerblue\",\"width\":0},\"mode\":\"lines\",\"x\":[-5.791920185089111,-5.410782814025879,null],\"y\":[-6.406492710113525,-5.800204753875732,null],\"type\":\"scatter\"},{\"line\":{\"color\":\"cornflowerblue\",\"width\":1.1453521502010109},\"mode\":\"lines\",\"x\":[4.7516703605651855,4.053683280944824,null],\"y\":[-3.4347987174987793,-3.584167957305908,null],\"type\":\"scatter\"},{\"line\":{\"color\":\"cornflowerblue\",\"width\":1.4813382557014572},\"mode\":\"lines\",\"x\":[4.7516703605651855,4.570398330688477,null],\"y\":[-3.4347987174987793,-3.268995523452759,null],\"type\":\"scatter\"},{\"line\":{\"color\":\"cornflowerblue\",\"width\":0.981603003839697},\"mode\":\"lines\",\"x\":[4.7516703605651855,4.323518753051758,null],\"y\":[-3.4347987174987793,-3.3379104137420654,null],\"type\":\"scatter\"},{\"line\":{\"color\":\"cornflowerblue\",\"width\":0.9926529793667571},\"mode\":\"lines\",\"x\":[4.7516703605651855,4.5785908699035645,null],\"y\":[-3.4347987174987793,-4.128320693969727,null],\"type\":\"scatter\"},{\"line\":{\"color\":\"cornflowerblue\",\"width\":0.6676742311362887},\"mode\":\"lines\",\"x\":[4.7516703605651855,5.022825717926025,null],\"y\":[-3.4347987174987793,-3.4537124633789062,null],\"type\":\"scatter\"},{\"line\":{\"color\":\"cornflowerblue\",\"width\":0},\"mode\":\"lines\",\"x\":[4.7516703605651855,4.816677570343018,null],\"y\":[-3.4347987174987793,-2.8877131938934326,null],\"type\":\"scatter\"},{\"line\":{\"color\":\"cornflowerblue\",\"width\":1.3414387564901258},\"mode\":\"lines\",\"x\":[4.053683280944824,4.323518753051758,null],\"y\":[-3.584167957305908,-3.3379104137420654,null],\"type\":\"scatter\"},{\"line\":{\"color\":\"cornflowerblue\",\"width\":0.7453964646136978},\"mode\":\"lines\",\"x\":[4.053683280944824,-0.08317464590072632,null],\"y\":[-3.584167957305908,-7.529576301574707,null],\"type\":\"scatter\"},{\"line\":{\"color\":\"cornflowerblue\",\"width\":1.5337230805615087},\"mode\":\"lines\",\"x\":[4.053683280944824,4.570398330688477,null],\"y\":[-3.584167957305908,-3.268995523452759,null],\"type\":\"scatter\"},{\"line\":{\"color\":\"cornflowerblue\",\"width\":0.7480932731428112},\"mode\":\"lines\",\"x\":[4.053683280944824,4.0417160987854,null],\"y\":[-3.584167957305908,-3.198374032974243,null],\"type\":\"scatter\"},{\"line\":{\"color\":\"cornflowerblue\",\"width\":0},\"mode\":\"lines\",\"x\":[4.053683280944824,4.816677570343018,null],\"y\":[-3.584167957305908,-2.8877131938934326,null],\"type\":\"scatter\"},{\"line\":{\"color\":\"cornflowerblue\",\"width\":1.2162413048885385},\"mode\":\"lines\",\"x\":[4.570398330688477,4.323518753051758,null],\"y\":[-3.268995523452759,-3.3379104137420654,null],\"type\":\"scatter\"},{\"line\":{\"color\":\"cornflowerblue\",\"width\":1.156675079069476},\"mode\":\"lines\",\"x\":[4.570398330688477,4.5785908699035645,null],\"y\":[-3.268995523452759,-4.128320693969727,null],\"type\":\"scatter\"},{\"line\":{\"color\":\"cornflowerblue\",\"width\":0.7197312301718174},\"mode\":\"lines\",\"x\":[4.570398330688477,4.0417160987854,null],\"y\":[-3.268995523452759,-3.198374032974243,null],\"type\":\"scatter\"},{\"line\":{\"color\":\"cornflowerblue\",\"width\":0.26470716435887254},\"mode\":\"lines\",\"x\":[4.570398330688477,5.022825717926025,null],\"y\":[-3.268995523452759,-3.4537124633789062,null],\"type\":\"scatter\"},{\"line\":{\"color\":\"cornflowerblue\",\"width\":0},\"mode\":\"lines\",\"x\":[4.570398330688477,4.816677570343018,null],\"y\":[-3.268995523452759,-2.8877131938934326,null],\"type\":\"scatter\"},{\"line\":{\"color\":\"cornflowerblue\",\"width\":1.1612563902158028},\"mode\":\"lines\",\"x\":[4.323518753051758,0.2706189751625061,null],\"y\":[-3.3379104137420654,-3.2082691192626953,null],\"type\":\"scatter\"},{\"line\":{\"color\":\"cornflowerblue\",\"width\":0.9404858786885939},\"mode\":\"lines\",\"x\":[4.323518753051758,1.3652284145355225,null],\"y\":[-3.3379104137420654,-3.590304136276245,null],\"type\":\"scatter\"},{\"line\":{\"color\":\"cornflowerblue\",\"width\":0.8474617763743302},\"mode\":\"lines\",\"x\":[4.323518753051758,4.0417160987854,null],\"y\":[-3.3379104137420654,-3.198374032974243,null],\"type\":\"scatter\"},{\"line\":{\"color\":\"cornflowerblue\",\"width\":0},\"mode\":\"lines\",\"x\":[4.323518753051758,4.816677570343018,null],\"y\":[-3.3379104137420654,-2.8877131938934326,null],\"type\":\"scatter\"},{\"line\":{\"color\":\"cornflowerblue\",\"width\":0.7967022426608494},\"mode\":\"lines\",\"x\":[4.5785908699035645,5.697055339813232,null],\"y\":[-4.128320693969727,-7.079563140869141,null],\"type\":\"scatter\"},{\"line\":{\"color\":\"cornflowerblue\",\"width\":0.35014213342169687},\"mode\":\"lines\",\"x\":[4.5785908699035645,1.7392162084579468,null],\"y\":[-4.128320693969727,-7.298854351043701,null],\"type\":\"scatter\"},{\"line\":{\"color\":\"cornflowerblue\",\"width\":0.9854203719942107},\"mode\":\"lines\",\"x\":[4.5785908699035645,0.37457114458084106,null],\"y\":[-4.128320693969727,-1.6131783723831177,null],\"type\":\"scatter\"},{\"line\":{\"color\":\"cornflowerblue\",\"width\":1.454648695730724},\"mode\":\"lines\",\"x\":[4.5785908699035645,5.781284809112549,null],\"y\":[-4.128320693969727,-7.476600646972656,null],\"type\":\"scatter\"},{\"line\":{\"color\":\"cornflowerblue\",\"width\":0.22394397892979132},\"mode\":\"lines\",\"x\":[4.5785908699035645,5.022825717926025,null],\"y\":[-4.128320693969727,-3.4537124633789062,null],\"type\":\"scatter\"},{\"line\":{\"color\":\"cornflowerblue\",\"width\":0},\"mode\":\"lines\",\"x\":[4.5785908699035645,4.816677570343018,null],\"y\":[-4.128320693969727,-2.8877131938934326,null],\"type\":\"scatter\"},{\"line\":{\"color\":\"cornflowerblue\",\"width\":1.1871396083823624},\"mode\":\"lines\",\"x\":[-3.1524977684020996,-3.1496315002441406,null],\"y\":[-10.40757942199707,-10.181135177612305,null],\"type\":\"scatter\"},{\"line\":{\"color\":\"cornflowerblue\",\"width\":0.2890175749970686},\"mode\":\"lines\",\"x\":[-3.1524977684020996,-3.261085033416748,null],\"y\":[-10.40757942199707,-9.968637466430664,null],\"type\":\"scatter\"},{\"line\":{\"color\":\"cornflowerblue\",\"width\":0.48631483299412853},\"mode\":\"lines\",\"x\":[-3.1524977684020996,-3.1505517959594727,null],\"y\":[-10.40757942199707,-10.24310302734375,null],\"type\":\"scatter\"},{\"line\":{\"color\":\"cornflowerblue\",\"width\":0},\"mode\":\"lines\",\"x\":[-3.1524977684020996,-3.1378252506256104,null],\"y\":[-10.40757942199707,-10.469085693359375,null],\"type\":\"scatter\"},{\"line\":{\"color\":\"cornflowerblue\",\"width\":1.6945978848253498},\"mode\":\"lines\",\"x\":[-3.1496315002441406,-3.261085033416748,null],\"y\":[-10.181135177612305,-9.968637466430664,null],\"type\":\"scatter\"},{\"line\":{\"color\":\"cornflowerblue\",\"width\":1.4024914423506192},\"mode\":\"lines\",\"x\":[-3.1496315002441406,-3.1505517959594727,null],\"y\":[-10.181135177612305,-10.24310302734375,null],\"type\":\"scatter\"},{\"line\":{\"color\":\"cornflowerblue\",\"width\":0},\"mode\":\"lines\",\"x\":[-3.1496315002441406,-3.1378252506256104,null],\"y\":[-10.181135177612305,-10.469085693359375,null],\"type\":\"scatter\"},{\"line\":{\"color\":\"cornflowerblue\",\"width\":0.3343266074084815},\"mode\":\"lines\",\"x\":[-3.261085033416748,-5.225663185119629,null],\"y\":[-9.968637466430664,0.9511251449584961,null],\"type\":\"scatter\"},{\"line\":{\"color\":\"cornflowerblue\",\"width\":2.1910127542317555},\"mode\":\"lines\",\"x\":[-3.261085033416748,-3.1505517959594727,null],\"y\":[-9.968637466430664,-10.24310302734375,null],\"type\":\"scatter\"},{\"line\":{\"color\":\"cornflowerblue\",\"width\":0},\"mode\":\"lines\",\"x\":[-3.261085033416748,-3.1378252506256104,null],\"y\":[-9.968637466430664,-10.469085693359375,null],\"type\":\"scatter\"},{\"line\":{\"color\":\"cornflowerblue\",\"width\":0},\"mode\":\"lines\",\"x\":[-3.1505517959594727,-3.1378252506256104,null],\"y\":[-10.24310302734375,-10.469085693359375,null],\"type\":\"scatter\"},{\"line\":{\"color\":\"cornflowerblue\",\"width\":0},\"mode\":\"lines\",\"x\":[-4.728614807128906,-5.410782814025879,null],\"y\":[-6.334270477294922,-5.800204753875732,null],\"type\":\"scatter\"},{\"line\":{\"color\":\"cornflowerblue\",\"width\":0.43246873331896757},\"mode\":\"lines\",\"x\":[-4.572055339813232,-5.686635971069336,null],\"y\":[1.424369215965271,1.0812551975250244,null],\"type\":\"scatter\"},{\"line\":{\"color\":\"cornflowerblue\",\"width\":0.7030429608071067},\"mode\":\"lines\",\"x\":[-4.572055339813232,-4.863575458526611,null],\"y\":[1.424369215965271,1.8526055812835693,null],\"type\":\"scatter\"},{\"line\":{\"color\":\"cornflowerblue\",\"width\":0.6538587164929555},\"mode\":\"lines\",\"x\":[-4.572055339813232,-4.6838507652282715,null],\"y\":[1.424369215965271,1.1470887660980225,null],\"type\":\"scatter\"},{\"line\":{\"color\":\"cornflowerblue\",\"width\":0},\"mode\":\"lines\",\"x\":[-4.572055339813232,-5.33353328704834,null],\"y\":[1.424369215965271,0.6507877111434937,null],\"type\":\"scatter\"},{\"line\":{\"color\":\"cornflowerblue\",\"width\":0.7675754956029772},\"mode\":\"lines\",\"x\":[-5.686635971069336,-4.6838507652282715,null],\"y\":[1.0812551975250244,1.1470887660980225,null],\"type\":\"scatter\"},{\"line\":{\"color\":\"cornflowerblue\",\"width\":0.3674887553846866},\"mode\":\"lines\",\"x\":[-5.686635971069336,-5.688165664672852,null],\"y\":[1.0812551975250244,1.4192664623260498,null],\"type\":\"scatter\"},{\"line\":{\"color\":\"cornflowerblue\",\"width\":0.7490261894651415},\"mode\":\"lines\",\"x\":[-5.686635971069336,0.2706189751625061,null],\"y\":[1.0812551975250244,-3.2082691192626953,null],\"type\":\"scatter\"},{\"line\":{\"color\":\"cornflowerblue\",\"width\":0.8855829611783544},\"mode\":\"lines\",\"x\":[-5.686635971069336,-2.916576385498047,null],\"y\":[1.0812551975250244,-2.7157065868377686,null],\"type\":\"scatter\"},{\"line\":{\"color\":\"cornflowerblue\",\"width\":0},\"mode\":\"lines\",\"x\":[-5.686635971069336,-5.33353328704834,null],\"y\":[1.0812551975250244,0.6507877111434937,null],\"type\":\"scatter\"},{\"line\":{\"color\":\"cornflowerblue\",\"width\":0.925511055936063},\"mode\":\"lines\",\"x\":[-4.863575458526611,-0.05931005999445915,null],\"y\":[1.8526055812835693,3.714719295501709,null],\"type\":\"scatter\"},{\"line\":{\"color\":\"cornflowerblue\",\"width\":0.6976787950328988},\"mode\":\"lines\",\"x\":[-4.863575458526611,-5.225663185119629,null],\"y\":[1.8526055812835693,0.9511251449584961,null],\"type\":\"scatter\"},{\"line\":{\"color\":\"cornflowerblue\",\"width\":0.7616221084772354},\"mode\":\"lines\",\"x\":[-4.863575458526611,-4.6838507652282715,null],\"y\":[1.8526055812835693,1.1470887660980225,null],\"type\":\"scatter\"},{\"line\":{\"color\":\"cornflowerblue\",\"width\":0},\"mode\":\"lines\",\"x\":[-4.863575458526611,-5.33353328704834,null],\"y\":[1.8526055812835693,0.6507877111434937,null],\"type\":\"scatter\"},{\"line\":{\"color\":\"cornflowerblue\",\"width\":0},\"mode\":\"lines\",\"x\":[-4.6838507652282715,-5.33353328704834,null],\"y\":[1.1470887660980225,0.6507877111434937,null],\"type\":\"scatter\"},{\"line\":{\"color\":\"cornflowerblue\",\"width\":0.9302982254236352},\"mode\":\"lines\",\"x\":[-0.6384429335594177,0.2706189751625061,null],\"y\":[-2.491394519805908,-3.2082691192626953,null],\"type\":\"scatter\"},{\"line\":{\"color\":\"cornflowerblue\",\"width\":0.5832603545114469},\"mode\":\"lines\",\"x\":[-0.6384429335594177,-0.7015998363494873,null],\"y\":[-2.491394519805908,-3.307401180267334,null],\"type\":\"scatter\"},{\"line\":{\"color\":\"cornflowerblue\",\"width\":0},\"mode\":\"lines\",\"x\":[-0.6384429335594177,-1.0601037740707397,null],\"y\":[-2.491394519805908,-2.278170585632324,null],\"type\":\"scatter\"},{\"line\":{\"color\":\"cornflowerblue\",\"width\":0.5356327922888515},\"mode\":\"lines\",\"x\":[0.2706189751625061,1.106619119644165,null],\"y\":[-3.2082691192626953,-3.8142035007476807,null],\"type\":\"scatter\"},{\"line\":{\"color\":\"cornflowerblue\",\"width\":1.2955012766771787},\"mode\":\"lines\",\"x\":[0.2706189751625061,4.842525482177734,null],\"y\":[-3.2082691192626953,-6.549506664276123,null],\"type\":\"scatter\"},{\"line\":{\"color\":\"cornflowerblue\",\"width\":0.7446032016180884},\"mode\":\"lines\",\"x\":[0.2706189751625061,-1.358725666999817,null],\"y\":[-3.2082691192626953,-1.635020136833191,null],\"type\":\"scatter\"},{\"line\":{\"color\":\"cornflowerblue\",\"width\":0},\"mode\":\"lines\",\"x\":[0.2706189751625061,-1.0601037740707397,null],\"y\":[-3.2082691192626953,-2.278170585632324,null],\"type\":\"scatter\"},{\"line\":{\"color\":\"cornflowerblue\",\"width\":0},\"mode\":\"lines\",\"x\":[-0.41577109694480896,1.0052075386047363,null],\"y\":[-7.202605724334717,-8.030531883239746,null],\"type\":\"scatter\"},{\"line\":{\"color\":\"cornflowerblue\",\"width\":0.2587789618417028},\"mode\":\"lines\",\"x\":[-2.916576385498047,-5.225663185119629,null],\"y\":[-2.7157065868377686,0.9511251449584961,null],\"type\":\"scatter\"},{\"line\":{\"color\":\"cornflowerblue\",\"width\":0.370702428961507},\"mode\":\"lines\",\"x\":[-2.916576385498047,-5.688165664672852,null],\"y\":[-2.7157065868377686,1.4192664623260498,null],\"type\":\"scatter\"},{\"line\":{\"color\":\"cornflowerblue\",\"width\":0},\"mode\":\"lines\",\"x\":[-2.916576385498047,-1.0601037740707397,null],\"y\":[-2.7157065868377686,-2.278170585632324,null],\"type\":\"scatter\"},{\"line\":{\"color\":\"cornflowerblue\",\"width\":0},\"mode\":\"lines\",\"x\":[-5.987621307373047,-5.410782814025879,null],\"y\":[-5.304370403289795,-5.800204753875732,null],\"type\":\"scatter\"},{\"line\":{\"color\":\"cornflowerblue\",\"width\":0.7130740927019065},\"mode\":\"lines\",\"x\":[-7.857990741729736,-7.860302448272705,null],\"y\":[-3.3920838832855225,-3.382972240447998,null],\"type\":\"scatter\"},{\"line\":{\"color\":\"cornflowerblue\",\"width\":0},\"mode\":\"lines\",\"x\":[-7.857990741729736,-7.862587928771973,null],\"y\":[-3.3920838832855225,-3.3792386054992676,null],\"type\":\"scatter\"},{\"line\":{\"color\":\"cornflowerblue\",\"width\":0},\"mode\":\"lines\",\"x\":[-7.860302448272705,-7.862587928771973,null],\"y\":[-3.382972240447998,-3.3792386054992676,null],\"type\":\"scatter\"},{\"line\":{\"color\":\"cornflowerblue\",\"width\":1.9017158219545323},\"mode\":\"lines\",\"x\":[5.781284809112549,5.697055339813232,null],\"y\":[-7.476600646972656,-7.079563140869141,null],\"type\":\"scatter\"},{\"line\":{\"color\":\"cornflowerblue\",\"width\":1.1699842473949937},\"mode\":\"lines\",\"x\":[5.781284809112549,5.511551856994629,null],\"y\":[-7.476600646972656,-6.968996524810791,null],\"type\":\"scatter\"},{\"line\":{\"color\":\"cornflowerblue\",\"width\":0},\"mode\":\"lines\",\"x\":[5.781284809112549,5.945291042327881,null],\"y\":[-7.476600646972656,-6.937792778015137,null],\"type\":\"scatter\"},{\"line\":{\"color\":\"cornflowerblue\",\"width\":0.7952927390249875},\"mode\":\"lines\",\"x\":[-0.0815376415848732,-0.6591405272483826,null],\"y\":[-8.81507682800293,-8.202556610107422,null],\"type\":\"scatter\"},{\"line\":{\"color\":\"cornflowerblue\",\"width\":0.24314530298141201},\"mode\":\"lines\",\"x\":[-0.0815376415848732,-0.2520357370376587,null],\"y\":[-8.81507682800293,-8.291696548461914,null],\"type\":\"scatter\"},{\"line\":{\"color\":\"cornflowerblue\",\"width\":0.221406876827854},\"mode\":\"lines\",\"x\":[-0.0815376415848732,-0.08317464590072632,null],\"y\":[-8.81507682800293,-7.529576301574707,null],\"type\":\"scatter\"},{\"line\":{\"color\":\"cornflowerblue\",\"width\":0},\"mode\":\"lines\",\"x\":[-0.0815376415848732,1.0052075386047363,null],\"y\":[-8.81507682800293,-8.030531883239746,null],\"type\":\"scatter\"},{\"line\":{\"color\":\"cornflowerblue\",\"width\":0.6957141232197679},\"mode\":\"lines\",\"x\":[-0.6591405272483826,-0.2520357370376587,null],\"y\":[-8.202556610107422,-8.291696548461914,null],\"type\":\"scatter\"},{\"line\":{\"color\":\"cornflowerblue\",\"width\":0},\"mode\":\"lines\",\"x\":[-0.6591405272483826,1.0052075386047363,null],\"y\":[-8.202556610107422,-8.030531883239746,null],\"type\":\"scatter\"},{\"line\":{\"color\":\"cornflowerblue\",\"width\":0.2272423353081865},\"mode\":\"lines\",\"x\":[-0.2520357370376587,0.5669806003570557,null],\"y\":[-8.291696548461914,-8.46044921875,null],\"type\":\"scatter\"},{\"line\":{\"color\":\"cornflowerblue\",\"width\":0},\"mode\":\"lines\",\"x\":[-0.2520357370376587,1.0052075386047363,null],\"y\":[-8.291696548461914,-8.030531883239746,null],\"type\":\"scatter\"},{\"line\":{\"color\":\"cornflowerblue\",\"width\":0.20977573491044682},\"mode\":\"lines\",\"x\":[-0.08317464590072632,0.5669806003570557,null],\"y\":[-7.529576301574707,-8.46044921875,null],\"type\":\"scatter\"},{\"line\":{\"color\":\"cornflowerblue\",\"width\":0},\"mode\":\"lines\",\"x\":[-0.08317464590072632,1.0052075386047363,null],\"y\":[-7.529576301574707,-8.030531883239746,null],\"type\":\"scatter\"},{\"line\":{\"color\":\"cornflowerblue\",\"width\":1.439425817396946},\"mode\":\"lines\",\"x\":[0.0731186494231224,0.5415882468223572,null],\"y\":[3.723130226135254,3.622282028198242,null],\"type\":\"scatter\"},{\"line\":{\"color\":\"cornflowerblue\",\"width\":2.3244101559464414},\"mode\":\"lines\",\"x\":[0.0731186494231224,-0.011628356762230396,null],\"y\":[3.723130226135254,3.68748140335083,null],\"type\":\"scatter\"},{\"line\":{\"color\":\"cornflowerblue\",\"width\":1.8578033021173308},\"mode\":\"lines\",\"x\":[0.0731186494231224,0.16153889894485474,null],\"y\":[3.723130226135254,3.7165751457214355,null],\"type\":\"scatter\"},{\"line\":{\"color\":\"cornflowerblue\",\"width\":1.1671608891332572},\"mode\":\"lines\",\"x\":[0.0731186494231224,-0.05931005999445915,null],\"y\":[3.723130226135254,3.714719295501709,null],\"type\":\"scatter\"},{\"line\":{\"color\":\"cornflowerblue\",\"width\":0},\"mode\":\"lines\",\"x\":[0.0731186494231224,0.2803784906864166,null],\"y\":[3.723130226135254,3.7742855548858643,null],\"type\":\"scatter\"},{\"line\":{\"color\":\"cornflowerblue\",\"width\":1.377004168917626},\"mode\":\"lines\",\"x\":[0.5415882468223572,-0.011628356762230396,null],\"y\":[3.622282028198242,3.68748140335083,null],\"type\":\"scatter\"},{\"line\":{\"color\":\"cornflowerblue\",\"width\":0.849842440725895},\"mode\":\"lines\",\"x\":[0.5415882468223572,-0.05931005999445915,null],\"y\":[3.622282028198242,3.714719295501709,null],\"type\":\"scatter\"},{\"line\":{\"color\":\"cornflowerblue\",\"width\":1.4794756261722752},\"mode\":\"lines\",\"x\":[0.5415882468223572,0.16153889894485474,null],\"y\":[3.622282028198242,3.7165751457214355,null],\"type\":\"scatter\"},{\"line\":{\"color\":\"cornflowerblue\",\"width\":0},\"mode\":\"lines\",\"x\":[0.5415882468223572,0.2803784906864166,null],\"y\":[3.622282028198242,3.7742855548858643,null],\"type\":\"scatter\"},{\"line\":{\"color\":\"cornflowerblue\",\"width\":0.9124324371496553},\"mode\":\"lines\",\"x\":[-0.011628356762230396,-0.05931005999445915,null],\"y\":[3.68748140335083,3.714719295501709,null],\"type\":\"scatter\"},{\"line\":{\"color\":\"cornflowerblue\",\"width\":1.907027157502006},\"mode\":\"lines\",\"x\":[-0.011628356762230396,0.16153889894485474,null],\"y\":[3.68748140335083,3.7165751457214355,null],\"type\":\"scatter\"},{\"line\":{\"color\":\"cornflowerblue\",\"width\":0},\"mode\":\"lines\",\"x\":[-0.011628356762230396,0.2803784906864166,null],\"y\":[3.68748140335083,3.7742855548858643,null],\"type\":\"scatter\"},{\"line\":{\"color\":\"cornflowerblue\",\"width\":1.4300383528155551},\"mode\":\"lines\",\"x\":[0.16153889894485474,-0.05931005999445915,null],\"y\":[3.7165751457214355,3.714719295501709,null],\"type\":\"scatter\"},{\"line\":{\"color\":\"cornflowerblue\",\"width\":0},\"mode\":\"lines\",\"x\":[0.16153889894485474,0.2803784906864166,null],\"y\":[3.7165751457214355,3.7742855548858643,null],\"type\":\"scatter\"},{\"line\":{\"color\":\"cornflowerblue\",\"width\":0},\"mode\":\"lines\",\"x\":[-0.05931005999445915,0.2803784906864166,null],\"y\":[3.714719295501709,3.7742855548858643,null],\"type\":\"scatter\"},{\"line\":{\"color\":\"cornflowerblue\",\"width\":0.4897173398078839},\"mode\":\"lines\",\"x\":[5.697055339813232,4.842525482177734,null],\"y\":[-7.079563140869141,-6.549506664276123,null],\"type\":\"scatter\"},{\"line\":{\"color\":\"cornflowerblue\",\"width\":0.7163259435918322},\"mode\":\"lines\",\"x\":[5.697055339813232,5.207670211791992,null],\"y\":[-7.079563140869141,-6.687026023864746,null],\"type\":\"scatter\"},{\"line\":{\"color\":\"cornflowerblue\",\"width\":1.6357615989978862},\"mode\":\"lines\",\"x\":[5.697055339813232,5.511551856994629,null],\"y\":[-7.079563140869141,-6.968996524810791,null],\"type\":\"scatter\"},{\"line\":{\"color\":\"cornflowerblue\",\"width\":0},\"mode\":\"lines\",\"x\":[5.697055339813232,5.945291042327881,null],\"y\":[-7.079563140869141,-6.937792778015137,null],\"type\":\"scatter\"},{\"line\":{\"color\":\"cornflowerblue\",\"width\":1.0935325660010486},\"mode\":\"lines\",\"x\":[4.842525482177734,5.511551856994629,null],\"y\":[-6.549506664276123,-6.968996524810791,null],\"type\":\"scatter\"},{\"line\":{\"color\":\"cornflowerblue\",\"width\":0.7921593194711348},\"mode\":\"lines\",\"x\":[4.842525482177734,-1.358725666999817,null],\"y\":[-6.549506664276123,-1.635020136833191,null],\"type\":\"scatter\"},{\"line\":{\"color\":\"cornflowerblue\",\"width\":1.0019735352473433},\"mode\":\"lines\",\"x\":[4.842525482177734,5.207670211791992,null],\"y\":[-6.549506664276123,-6.687026023864746,null],\"type\":\"scatter\"},{\"line\":{\"color\":\"cornflowerblue\",\"width\":0.7651502565592782},\"mode\":\"lines\",\"x\":[4.842525482177734,-2.2358944416046143,null],\"y\":[-6.549506664276123,-2.6037206649780273,null],\"type\":\"scatter\"},{\"line\":{\"color\":\"cornflowerblue\",\"width\":0},\"mode\":\"lines\",\"x\":[4.842525482177734,5.945291042327881,null],\"y\":[-6.549506664276123,-6.937792778015137,null],\"type\":\"scatter\"},{\"line\":{\"color\":\"cornflowerblue\",\"width\":1.1085559221456542},\"mode\":\"lines\",\"x\":[5.207670211791992,0.37457114458084106,null],\"y\":[-6.687026023864746,-1.6131783723831177,null],\"type\":\"scatter\"},{\"line\":{\"color\":\"cornflowerblue\",\"width\":1.5112823582422228},\"mode\":\"lines\",\"x\":[5.207670211791992,5.511551856994629,null],\"y\":[-6.687026023864746,-6.968996524810791,null],\"type\":\"scatter\"},{\"line\":{\"color\":\"cornflowerblue\",\"width\":0},\"mode\":\"lines\",\"x\":[5.207670211791992,5.945291042327881,null],\"y\":[-6.687026023864746,-6.937792778015137,null],\"type\":\"scatter\"},{\"line\":{\"color\":\"cornflowerblue\",\"width\":0},\"mode\":\"lines\",\"x\":[5.511551856994629,5.945291042327881,null],\"y\":[-6.968996524810791,-6.937792778015137,null],\"type\":\"scatter\"},{\"line\":{\"color\":\"cornflowerblue\",\"width\":1.7307930461873589},\"mode\":\"lines\",\"x\":[0.5243381857872009,0.4756990969181061,null],\"y\":[-0.1671810895204544,-0.20842666923999786,null],\"type\":\"scatter\"},{\"line\":{\"color\":\"cornflowerblue\",\"width\":0},\"mode\":\"lines\",\"x\":[0.5243381857872009,-1.0601037740707397,null],\"y\":[-0.1671810895204544,-2.278170585632324,null],\"type\":\"scatter\"},{\"line\":{\"color\":\"cornflowerblue\",\"width\":0},\"mode\":\"lines\",\"x\":[0.4756990969181061,-1.0601037740707397,null],\"y\":[-0.20842666923999786,-2.278170585632324,null],\"type\":\"scatter\"},{\"line\":{\"color\":\"cornflowerblue\",\"width\":0.5325723286416677},\"mode\":\"lines\",\"x\":[-0.7015998363494873,1.3652284145355225,null],\"y\":[-3.307401180267334,-3.590304136276245,null],\"type\":\"scatter\"},{\"line\":{\"color\":\"cornflowerblue\",\"width\":0.5582011197271198},\"mode\":\"lines\",\"x\":[-0.7015998363494873,1.106619119644165,null],\"y\":[-3.307401180267334,-3.8142035007476807,null],\"type\":\"scatter\"},{\"line\":{\"color\":\"cornflowerblue\",\"width\":0},\"mode\":\"lines\",\"x\":[-0.7015998363494873,-1.0601037740707397,null],\"y\":[-3.307401180267334,-2.278170585632324,null],\"type\":\"scatter\"},{\"line\":{\"color\":\"cornflowerblue\",\"width\":0.889061074118814},\"mode\":\"lines\",\"x\":[1.3652284145355225,4.0417160987854,null],\"y\":[-3.590304136276245,-3.198374032974243,null],\"type\":\"scatter\"},{\"line\":{\"color\":\"cornflowerblue\",\"width\":0},\"mode\":\"lines\",\"x\":[1.3652284145355225,-1.0601037740707397,null],\"y\":[-3.590304136276245,-2.278170585632324,null],\"type\":\"scatter\"},{\"line\":{\"color\":\"cornflowerblue\",\"width\":0.1860986654011515},\"mode\":\"lines\",\"x\":[1.106619119644165,5.022825717926025,null],\"y\":[-3.8142035007476807,-3.4537124633789062,null],\"type\":\"scatter\"},{\"line\":{\"color\":\"cornflowerblue\",\"width\":0},\"mode\":\"lines\",\"x\":[1.106619119644165,-1.0601037740707397,null],\"y\":[-3.8142035007476807,-2.278170585632324,null],\"type\":\"scatter\"},{\"line\":{\"color\":\"cornflowerblue\",\"width\":0},\"mode\":\"lines\",\"x\":[4.0417160987854,4.816677570343018,null],\"y\":[-3.198374032974243,-2.8877131938934326,null],\"type\":\"scatter\"},{\"line\":{\"color\":\"cornflowerblue\",\"width\":0},\"mode\":\"lines\",\"x\":[-5.225663185119629,-5.33353328704834,null],\"y\":[0.9511251449584961,0.6507877111434937,null],\"type\":\"scatter\"},{\"line\":{\"color\":\"cornflowerblue\",\"width\":0},\"mode\":\"lines\",\"x\":[-1.5755537748336792,-1.0601037740707397,null],\"y\":[-0.28668516874313354,-2.278170585632324,null],\"type\":\"scatter\"},{\"line\":{\"color\":\"cornflowerblue\",\"width\":0},\"mode\":\"lines\",\"x\":[1.7392162084579468,1.0052075386047363,null],\"y\":[-7.298854351043701,-8.030531883239746,null],\"type\":\"scatter\"},{\"line\":{\"color\":\"cornflowerblue\",\"width\":0.8767563304143209},\"mode\":\"lines\",\"x\":[-0.2766866683959961,1.3407062292099,null],\"y\":[-4.681640148162842,-5.794181823730469,null],\"type\":\"scatter\"},{\"line\":{\"color\":\"cornflowerblue\",\"width\":0},\"mode\":\"lines\",\"x\":[-0.2766866683959961,-1.0601037740707397,null],\"y\":[-4.681640148162842,-2.278170585632324,null],\"type\":\"scatter\"},{\"line\":{\"color\":\"cornflowerblue\",\"width\":0},\"mode\":\"lines\",\"x\":[1.3407062292099,1.0052075386047363,null],\"y\":[-5.794181823730469,-8.030531883239746,null],\"type\":\"scatter\"},{\"line\":{\"color\":\"cornflowerblue\",\"width\":0.239451422717055},\"mode\":\"lines\",\"x\":[0.9181256294250488,5.022825717926025,null],\"y\":[-6.51785945892334,-3.4537124633789062,null],\"type\":\"scatter\"},{\"line\":{\"color\":\"cornflowerblue\",\"width\":0},\"mode\":\"lines\",\"x\":[0.9181256294250488,1.0052075386047363,null],\"y\":[-6.51785945892334,-8.030531883239746,null],\"type\":\"scatter\"},{\"line\":{\"color\":\"cornflowerblue\",\"width\":0},\"mode\":\"lines\",\"x\":[-2.2358944416046143,-1.0601037740707397,null],\"y\":[-2.6037206649780273,-2.278170585632324,null],\"type\":\"scatter\"},{\"line\":{\"color\":\"cornflowerblue\",\"width\":0},\"mode\":\"lines\",\"x\":[0.37457114458084106,-1.0601037740707397,null],\"y\":[-1.6131783723831177,-2.278170585632324,null],\"type\":\"scatter\"},{\"line\":{\"color\":\"cornflowerblue\",\"width\":0},\"mode\":\"lines\",\"x\":[-1.358725666999817,-1.0601037740707397,null],\"y\":[-1.635020136833191,-2.278170585632324,null],\"type\":\"scatter\"},{\"line\":{\"color\":\"cornflowerblue\",\"width\":0},\"mode\":\"lines\",\"x\":[-5.688165664672852,-5.33353328704834,null],\"y\":[1.4192664623260498,0.6507877111434937,null],\"type\":\"scatter\"},{\"line\":{\"color\":\"cornflowerblue\",\"width\":0},\"mode\":\"lines\",\"x\":[5.022825717926025,4.816677570343018,null],\"y\":[-3.4537124633789062,-2.8877131938934326,null],\"type\":\"scatter\"},{\"line\":{\"color\":\"cornflowerblue\",\"width\":0},\"mode\":\"lines\",\"x\":[0.5669806003570557,1.0052075386047363,null],\"y\":[-8.46044921875,-8.030531883239746,null],\"type\":\"scatter\"},{\"hoverinfo\":\"text\",\"marker\":{\"color\":[2,2,1,2,0,2,2,1,1,1,1,1,1,1,1,1,4,4,4,4,4,4,2,2,2,0,2,2,0,2,2,2,2,1,2,1,2,2,8,8,8,2,9,2,4,7,7,7,7,7,3,3,3,3,4,0,0,0,0,2,2,1,2,4,6,6,9,1,1,1,1,5,5,5,5,5,9,9,9,9,2,2,2,2,2,7,0,2,1,2,1,1,2,2,2,0,7,1],\"opacity\":[0.6,0.6,0.6,0.6,0.6,0.6,0.6,0.6,0.6,0.6,0.6,0.6,0.6,0.6,0.6,0.6,0.6,0.6,0.6,0.6,0.6,0.6,0.6,0.6,0.6,0.6,0.6,0.6,0.6,0.6,0.6,0.6,0.6,0.6,0.6,0.6,0.6,0.6,0.6,0.6,0.6,0.6,0.6,0.6,0.6,0.6,0.6,0.6,0.6,0.6,0.6,0.6,0.6,0.6,0.6,0.6,0.6,0.6,0.6,0.6,0.6,0.6,0.6,0.6,0.6,0.6,0.6,0.6,0.6,0.6,0.6,0.6,0.6,0.6,0.6,0.6,0.6,0.6,0.6,0.6,0.6,0.6,0.6,0.6,0.6,0.6,0.6,0.6,0.6,0.6,0.6,0.6,0.6,0.6,0.6,0.6,0.6,0.6],\"size\":[3,30,25,10,27,26,29,9,30,12,11,2,27,28,8,6,20,1,1,6,17,28,7,12,9,21,30,5,27,28,29,23,30,22,4,24,23,10,1,13,22,21,5,6,12,11,8,10,14,16,4,23,8,3,20,2,19,2,15,20,17,21,11,14,3,20,13,16,7,24,22,26,18,26,24,17,9,18,10,5,4,4,14,24,17,16,29,15,19,18,7,13,19,14,27,25,25,15],\"symbol\":\"circle\"},\"mode\":\"markers+text\",\"text\":[\"<b>Afghanistan</b>\",\"<b>UK</b>\",\"<b>Netherlands</b>\",\"<b>Puerto Rico</b>\",\"<b>China</b>\",\"<b>Ireland</b>\",\"<b>Japan</b>\",\"<b>Algeria</b>\",\"<b>France</b>\",\"<b>Monaco</b>\",\"<b>Tunisia</b>\",\"<b>Angola</b>\",\"<b>Belgium</b>\",\"<b>Italy</b>\",\"<b>Vietnam</b>\",\"<b>Liechtenstein</b>\",\"<b>Argentina</b>\",\"<b>Bolivia</b>\",\"<b>Venezuela</b>\",\"<b>Peru</b>\",\"<b>Chile</b>\",\"<b>Spain</b>\",\"<b>Aruba</b>\",\"<b>Cambodia</b>\",\"<b>Bahamas</b>\",\"<b>United Arab Emirates</b>\",\"<b>USA</b>\",\"<b>Bahrain</b>\",\"<b>Hong Kong</b>\",\"<b>Australia</b>\",\"<b>Canada</b>\",\"<b>New Zealand</b>\",\"<b>Germany</b>\",\"<b>Austria</b>\",\"<b>Cayman Islands</b>\",\"<b>Switzerland</b>\",\"<b>Czech Republic</b>\",\"<b>Isle Of Man</b>\",\"<b>Belarus</b>\",\"<b>Ukraine</b>\",\"<b>Russia</b>\",\"<b>Luxembourg</b>\",\"<b>Cyprus</b>\",\"<b>Lithuania</b>\",\"<b>Panama</b>\",\"<b>Bosnia and Herzegovina</b>\",\"<b>Slovenia</b>\",\"<b>Republic of North Macedonia</b>\",\"<b>Croatia</b>\",\"<b>Qatar</b>\",\"<b>Botswana</b>\",\"<b>South Africa</b>\",\"<b>Kenya</b>\",\"<b>Sudan</b>\",\"<b>Brazil</b>\",\"<b>British Virgin Islands</b>\",\"<b>Taiwan</b>\",\"<b>Nepal</b>\",\"<b>Singapore</b>\",\"<b>Bulgaria</b>\",\"<b>Malta</b>\",\"<b>Romania</b>\",\"<b>Philippines</b>\",\"<b>Colombia</b>\",\"<b>Cuba</b>\",\"<b>Soviet Union</b>\",\"<b>Lebanon</b>\",\"<b>Czechoslovakia</b>\",\"<b>East Germany</b>\",\"<b>West Germany</b>\",\"<b>Poland</b>\",\"<b>Denmark</b>\",\"<b>Finland</b>\",\"<b>Sweden</b>\",\"<b>Norway</b>\",\"<b>Iceland</b>\",\"<b>Egypt</b>\",\"<b>Morocco</b>\",\"<b>Saudi Arabia</b>\",\"<b>Libya</b>\",\"<b>Estonia</b>\",\"<b>Georgia</b>\",\"<b>Federal Republic of Yugoslavia</b>\",\"<b>Hungary</b>\",\"<b>Greece</b>\",\"<b>Serbia</b>\",\"<b>India</b>\",\"<b>Indonesia</b>\",\"<b>Iran</b>\",\"<b>Israel</b>\",\"<b>Palestine</b>\",\"<b>Portugal</b>\",\"<b>Thailand</b>\",\"<b>Jordan</b>\",\"<b>Mexico</b>\",\"<b>South Korea</b>\",\"<b>Turkey</b>\",\"<b>Yugoslavia</b>\"],\"textfont\":{\"size\":9},\"textposition\":\"top center\",\"x\":[-3.025320053100586,-0.695706844329834,0.7593147158622742,-2.382744550704956,-4.462895393371582,-2.6546692848205566,-2.8954691886901855,0.539480984210968,0.09857194125652313,1.6747220754623413,1.6242096424102783,1.0597984790802002,1.1390436887741089,0.39786961674690247,-0.7350497245788574,0.1870143860578537,-5.793375492095947,-6.404237270355225,-5.7836833000183105,-4.890204906463623,-5.2080864906311035,-6.335114479064941,-1.1081401109695435,-1.0004652738571167,-0.42609289288520813,-3.8458964824676514,-0.1273382604122162,-0.6112854480743408,-4.974451065063477,-2.123562812805176,-1.9475975036621094,-2.1417486667633057,0.02812773548066616,-0.4601374864578247,-2.419635057449341,0.11800596117973328,0.7359210252761841,-1.684312105178833,3.293605327606201,3.2814278602600098,3.2725751399993896,-1.8085951805114746,5.643202304840088,-2.163369655609131,-5.791920185089111,4.7516703605651855,4.053683280944824,4.570398330688477,4.323518753051758,4.5785908699035645,-3.1524977684020996,-3.1496315002441406,-3.261085033416748,-3.1505517959594727,-4.728614807128906,-4.572055339813232,-5.686635971069336,-4.863575458526611,-4.6838507652282715,-0.6384429335594177,0.2706189751625061,-0.41577109694480896,-2.916576385498047,-5.987621307373047,-7.857990741729736,-7.860302448272705,5.781284809112549,-0.0815376415848732,-0.6591405272483826,-0.2520357370376587,-0.08317464590072632,0.0731186494231224,0.5415882468223572,-0.011628356762230396,0.16153889894485474,-0.05931005999445915,5.697055339813232,4.842525482177734,5.207670211791992,5.511551856994629,0.5243381857872009,0.4756990969181061,-0.7015998363494873,1.3652284145355225,1.106619119644165,4.0417160987854,-5.225663185119629,-1.5755537748336792,1.7392162084579468,-0.2766866683959961,1.3407062292099,0.9181256294250488,-2.2358944416046143,0.37457114458084106,-1.358725666999817,-5.688165664672852,5.022825717926025,0.5669806003570557],\"y\":[-3.402789354324341,-3.8832733631134033,-4.895992279052734,-2.972510814666748,1.043902039527893,-3.3455584049224854,-2.4151504039764404,-7.247027397155762,-4.941972255706787,-6.464766979217529,-7.151811599731445,-7.382706642150879,-7.128432273864746,-7.830792427062988,-5.138309478759766,-6.369262218475342,-6.179808616638184,-5.919153213500977,-5.480318069458008,-6.221857070922852,-6.200881004333496,-5.957523822784424,-0.1596251279115677,-0.915282130241394,-1.6907260417938232,1.0176095962524414,-2.524526596069336,-1.3087753057479858,1.329877257347107,-1.7770745754241943,-0.8779391050338745,-1.0157002210617065,-3.478724718093872,-6.281803131103516,-4.468696117401123,-6.167614936828613,-2.4273197650909424,-2.9888062477111816,1.445583462715149,1.4431389570236206,1.4593629837036133,-3.729217529296875,-7.1055216789245605,-4.109903335571289,-6.406492710113525,-3.4347987174987793,-3.584167957305908,-3.268995523452759,-3.3379104137420654,-4.128320693969727,-10.40757942199707,-10.181135177612305,-9.968637466430664,-10.24310302734375,-6.334270477294922,1.424369215965271,1.0812551975250244,1.8526055812835693,1.1470887660980225,-2.491394519805908,-3.2082691192626953,-7.202605724334717,-2.7157065868377686,-5.304370403289795,-3.3920838832855225,-3.382972240447998,-7.476600646972656,-8.81507682800293,-8.202556610107422,-8.291696548461914,-7.529576301574707,3.723130226135254,3.622282028198242,3.68748140335083,3.7165751457214355,3.714719295501709,-7.079563140869141,-6.549506664276123,-6.687026023864746,-6.968996524810791,-0.1671810895204544,-0.20842666923999786,-3.307401180267334,-3.590304136276245,-3.8142035007476807,-3.198374032974243,0.9511251449584961,-0.28668516874313354,-7.298854351043701,-4.681640148162842,-5.794181823730469,-6.51785945892334,-2.6037206649780273,-1.6131783723831177,-1.635020136833191,1.4192664623260498,-3.4537124633789062,-8.46044921875],\"type\":\"scatter\"}],                        {\"height\":1000,\"width\":1000,\"xaxis\":{\"showgrid\":false,\"zeroline\":false,\"showticklabels\":false},\"yaxis\":{\"showgrid\":false,\"zeroline\":false,\"showticklabels\":false},\"template\":{\"data\":{\"barpolar\":[{\"marker\":{\"line\":{\"color\":\"rgb(17,17,17)\",\"width\":0.5},\"pattern\":{\"fillmode\":\"overlay\",\"size\":10,\"solidity\":0.2}},\"type\":\"barpolar\"}],\"bar\":[{\"error_x\":{\"color\":\"#f2f5fa\"},\"error_y\":{\"color\":\"#f2f5fa\"},\"marker\":{\"line\":{\"color\":\"rgb(17,17,17)\",\"width\":0.5},\"pattern\":{\"fillmode\":\"overlay\",\"size\":10,\"solidity\":0.2}},\"type\":\"bar\"}],\"carpet\":[{\"aaxis\":{\"endlinecolor\":\"#A2B1C6\",\"gridcolor\":\"#506784\",\"linecolor\":\"#506784\",\"minorgridcolor\":\"#506784\",\"startlinecolor\":\"#A2B1C6\"},\"baxis\":{\"endlinecolor\":\"#A2B1C6\",\"gridcolor\":\"#506784\",\"linecolor\":\"#506784\",\"minorgridcolor\":\"#506784\",\"startlinecolor\":\"#A2B1C6\"},\"type\":\"carpet\"}],\"choropleth\":[{\"colorbar\":{\"outlinewidth\":0,\"ticks\":\"\"},\"type\":\"choropleth\"}],\"contourcarpet\":[{\"colorbar\":{\"outlinewidth\":0,\"ticks\":\"\"},\"type\":\"contourcarpet\"}],\"contour\":[{\"colorbar\":{\"outlinewidth\":0,\"ticks\":\"\"},\"colorscale\":[[0.0,\"#0d0887\"],[0.1111111111111111,\"#46039f\"],[0.2222222222222222,\"#7201a8\"],[0.3333333333333333,\"#9c179e\"],[0.4444444444444444,\"#bd3786\"],[0.5555555555555556,\"#d8576b\"],[0.6666666666666666,\"#ed7953\"],[0.7777777777777778,\"#fb9f3a\"],[0.8888888888888888,\"#fdca26\"],[1.0,\"#f0f921\"]],\"type\":\"contour\"}],\"heatmapgl\":[{\"colorbar\":{\"outlinewidth\":0,\"ticks\":\"\"},\"colorscale\":[[0.0,\"#0d0887\"],[0.1111111111111111,\"#46039f\"],[0.2222222222222222,\"#7201a8\"],[0.3333333333333333,\"#9c179e\"],[0.4444444444444444,\"#bd3786\"],[0.5555555555555556,\"#d8576b\"],[0.6666666666666666,\"#ed7953\"],[0.7777777777777778,\"#fb9f3a\"],[0.8888888888888888,\"#fdca26\"],[1.0,\"#f0f921\"]],\"type\":\"heatmapgl\"}],\"heatmap\":[{\"colorbar\":{\"outlinewidth\":0,\"ticks\":\"\"},\"colorscale\":[[0.0,\"#0d0887\"],[0.1111111111111111,\"#46039f\"],[0.2222222222222222,\"#7201a8\"],[0.3333333333333333,\"#9c179e\"],[0.4444444444444444,\"#bd3786\"],[0.5555555555555556,\"#d8576b\"],[0.6666666666666666,\"#ed7953\"],[0.7777777777777778,\"#fb9f3a\"],[0.8888888888888888,\"#fdca26\"],[1.0,\"#f0f921\"]],\"type\":\"heatmap\"}],\"histogram2dcontour\":[{\"colorbar\":{\"outlinewidth\":0,\"ticks\":\"\"},\"colorscale\":[[0.0,\"#0d0887\"],[0.1111111111111111,\"#46039f\"],[0.2222222222222222,\"#7201a8\"],[0.3333333333333333,\"#9c179e\"],[0.4444444444444444,\"#bd3786\"],[0.5555555555555556,\"#d8576b\"],[0.6666666666666666,\"#ed7953\"],[0.7777777777777778,\"#fb9f3a\"],[0.8888888888888888,\"#fdca26\"],[1.0,\"#f0f921\"]],\"type\":\"histogram2dcontour\"}],\"histogram2d\":[{\"colorbar\":{\"outlinewidth\":0,\"ticks\":\"\"},\"colorscale\":[[0.0,\"#0d0887\"],[0.1111111111111111,\"#46039f\"],[0.2222222222222222,\"#7201a8\"],[0.3333333333333333,\"#9c179e\"],[0.4444444444444444,\"#bd3786\"],[0.5555555555555556,\"#d8576b\"],[0.6666666666666666,\"#ed7953\"],[0.7777777777777778,\"#fb9f3a\"],[0.8888888888888888,\"#fdca26\"],[1.0,\"#f0f921\"]],\"type\":\"histogram2d\"}],\"histogram\":[{\"marker\":{\"pattern\":{\"fillmode\":\"overlay\",\"size\":10,\"solidity\":0.2}},\"type\":\"histogram\"}],\"mesh3d\":[{\"colorbar\":{\"outlinewidth\":0,\"ticks\":\"\"},\"type\":\"mesh3d\"}],\"parcoords\":[{\"line\":{\"colorbar\":{\"outlinewidth\":0,\"ticks\":\"\"}},\"type\":\"parcoords\"}],\"pie\":[{\"automargin\":true,\"type\":\"pie\"}],\"scatter3d\":[{\"line\":{\"colorbar\":{\"outlinewidth\":0,\"ticks\":\"\"}},\"marker\":{\"colorbar\":{\"outlinewidth\":0,\"ticks\":\"\"}},\"type\":\"scatter3d\"}],\"scattercarpet\":[{\"marker\":{\"colorbar\":{\"outlinewidth\":0,\"ticks\":\"\"}},\"type\":\"scattercarpet\"}],\"scattergeo\":[{\"marker\":{\"colorbar\":{\"outlinewidth\":0,\"ticks\":\"\"}},\"type\":\"scattergeo\"}],\"scattergl\":[{\"marker\":{\"line\":{\"color\":\"#283442\"}},\"type\":\"scattergl\"}],\"scattermapbox\":[{\"marker\":{\"colorbar\":{\"outlinewidth\":0,\"ticks\":\"\"}},\"type\":\"scattermapbox\"}],\"scatterpolargl\":[{\"marker\":{\"colorbar\":{\"outlinewidth\":0,\"ticks\":\"\"}},\"type\":\"scatterpolargl\"}],\"scatterpolar\":[{\"marker\":{\"colorbar\":{\"outlinewidth\":0,\"ticks\":\"\"}},\"type\":\"scatterpolar\"}],\"scatter\":[{\"marker\":{\"line\":{\"color\":\"#283442\"}},\"type\":\"scatter\"}],\"scatterternary\":[{\"marker\":{\"colorbar\":{\"outlinewidth\":0,\"ticks\":\"\"}},\"type\":\"scatterternary\"}],\"surface\":[{\"colorbar\":{\"outlinewidth\":0,\"ticks\":\"\"},\"colorscale\":[[0.0,\"#0d0887\"],[0.1111111111111111,\"#46039f\"],[0.2222222222222222,\"#7201a8\"],[0.3333333333333333,\"#9c179e\"],[0.4444444444444444,\"#bd3786\"],[0.5555555555555556,\"#d8576b\"],[0.6666666666666666,\"#ed7953\"],[0.7777777777777778,\"#fb9f3a\"],[0.8888888888888888,\"#fdca26\"],[1.0,\"#f0f921\"]],\"type\":\"surface\"}],\"table\":[{\"cells\":{\"fill\":{\"color\":\"#506784\"},\"line\":{\"color\":\"rgb(17,17,17)\"}},\"header\":{\"fill\":{\"color\":\"#2a3f5f\"},\"line\":{\"color\":\"rgb(17,17,17)\"}},\"type\":\"table\"}]},\"layout\":{\"annotationdefaults\":{\"arrowcolor\":\"#f2f5fa\",\"arrowhead\":0,\"arrowwidth\":1},\"autotypenumbers\":\"strict\",\"coloraxis\":{\"colorbar\":{\"outlinewidth\":0,\"ticks\":\"\"}},\"colorscale\":{\"diverging\":[[0,\"#8e0152\"],[0.1,\"#c51b7d\"],[0.2,\"#de77ae\"],[0.3,\"#f1b6da\"],[0.4,\"#fde0ef\"],[0.5,\"#f7f7f7\"],[0.6,\"#e6f5d0\"],[0.7,\"#b8e186\"],[0.8,\"#7fbc41\"],[0.9,\"#4d9221\"],[1,\"#276419\"]],\"sequential\":[[0.0,\"#0d0887\"],[0.1111111111111111,\"#46039f\"],[0.2222222222222222,\"#7201a8\"],[0.3333333333333333,\"#9c179e\"],[0.4444444444444444,\"#bd3786\"],[0.5555555555555556,\"#d8576b\"],[0.6666666666666666,\"#ed7953\"],[0.7777777777777778,\"#fb9f3a\"],[0.8888888888888888,\"#fdca26\"],[1.0,\"#f0f921\"]],\"sequentialminus\":[[0.0,\"#0d0887\"],[0.1111111111111111,\"#46039f\"],[0.2222222222222222,\"#7201a8\"],[0.3333333333333333,\"#9c179e\"],[0.4444444444444444,\"#bd3786\"],[0.5555555555555556,\"#d8576b\"],[0.6666666666666666,\"#ed7953\"],[0.7777777777777778,\"#fb9f3a\"],[0.8888888888888888,\"#fdca26\"],[1.0,\"#f0f921\"]]},\"colorway\":[\"#636efa\",\"#EF553B\",\"#00cc96\",\"#ab63fa\",\"#FFA15A\",\"#19d3f3\",\"#FF6692\",\"#B6E880\",\"#FF97FF\",\"#FECB52\"],\"font\":{\"color\":\"#f2f5fa\"},\"geo\":{\"bgcolor\":\"rgb(17,17,17)\",\"lakecolor\":\"rgb(17,17,17)\",\"landcolor\":\"rgb(17,17,17)\",\"showlakes\":true,\"showland\":true,\"subunitcolor\":\"#506784\"},\"hoverlabel\":{\"align\":\"left\"},\"hovermode\":\"closest\",\"mapbox\":{\"style\":\"dark\"},\"paper_bgcolor\":\"rgb(17,17,17)\",\"plot_bgcolor\":\"rgb(17,17,17)\",\"polar\":{\"angularaxis\":{\"gridcolor\":\"#506784\",\"linecolor\":\"#506784\",\"ticks\":\"\"},\"bgcolor\":\"rgb(17,17,17)\",\"radialaxis\":{\"gridcolor\":\"#506784\",\"linecolor\":\"#506784\",\"ticks\":\"\"}},\"scene\":{\"xaxis\":{\"backgroundcolor\":\"rgb(17,17,17)\",\"gridcolor\":\"#506784\",\"gridwidth\":2,\"linecolor\":\"#506784\",\"showbackground\":true,\"ticks\":\"\",\"zerolinecolor\":\"#C8D4E3\"},\"yaxis\":{\"backgroundcolor\":\"rgb(17,17,17)\",\"gridcolor\":\"#506784\",\"gridwidth\":2,\"linecolor\":\"#506784\",\"showbackground\":true,\"ticks\":\"\",\"zerolinecolor\":\"#C8D4E3\"},\"zaxis\":{\"backgroundcolor\":\"rgb(17,17,17)\",\"gridcolor\":\"#506784\",\"gridwidth\":2,\"linecolor\":\"#506784\",\"showbackground\":true,\"ticks\":\"\",\"zerolinecolor\":\"#C8D4E3\"}},\"shapedefaults\":{\"line\":{\"color\":\"#f2f5fa\"}},\"sliderdefaults\":{\"bgcolor\":\"#C8D4E3\",\"bordercolor\":\"rgb(17,17,17)\",\"borderwidth\":1,\"tickwidth\":0},\"ternary\":{\"aaxis\":{\"gridcolor\":\"#506784\",\"linecolor\":\"#506784\",\"ticks\":\"\"},\"baxis\":{\"gridcolor\":\"#506784\",\"linecolor\":\"#506784\",\"ticks\":\"\"},\"bgcolor\":\"rgb(17,17,17)\",\"caxis\":{\"gridcolor\":\"#506784\",\"linecolor\":\"#506784\",\"ticks\":\"\"}},\"title\":{\"x\":0.05},\"updatemenudefaults\":{\"bgcolor\":\"#506784\",\"borderwidth\":0},\"xaxis\":{\"automargin\":true,\"gridcolor\":\"#283442\",\"linecolor\":\"#506784\",\"ticks\":\"\",\"title\":{\"standoff\":15},\"zerolinecolor\":\"#283442\",\"zerolinewidth\":2},\"yaxis\":{\"automargin\":true,\"gridcolor\":\"#283442\",\"linecolor\":\"#506784\",\"ticks\":\"\",\"title\":{\"standoff\":15},\"zerolinecolor\":\"#283442\",\"zerolinewidth\":2}}},\"showlegend\":false},                        {\"responsive\": true}                    ).then(function(){\n",
       "                            \n",
       "var gd = document.getElementById('753f82bb-ebc9-4a92-b665-6e67ecb0bfbb');\n",
       "var x = new MutationObserver(function (mutations, observer) {{\n",
       "        var display = window.getComputedStyle(gd).display;\n",
       "        if (!display || display === 'none') {{\n",
       "            console.log([gd, 'removed!']);\n",
       "            Plotly.purge(gd);\n",
       "            observer.disconnect();\n",
       "        }}\n",
       "}});\n",
       "\n",
       "// Listen for the removal of the full notebook cells\n",
       "var notebookContainer = gd.closest('#notebook-container');\n",
       "if (notebookContainer) {{\n",
       "    x.observe(notebookContainer, {childList: true});\n",
       "}}\n",
       "\n",
       "// Listen for the clearing of the current output cell\n",
       "var outputEl = gd.closest('.output');\n",
       "if (outputEl) {{\n",
       "    x.observe(outputEl, {childList: true});\n",
       "}}\n",
       "\n",
       "                        })                };                });            </script>        </div>"
      ]
     },
     "metadata": {},
     "output_type": "display_data"
    }
   ],
   "source": [
    "net = SemanticNetwork(data, variables = ['country'], key = 'imdb')\n",
    "\n",
    "res = net.coocurrence_multiple()\n",
    "res_top = net.get_top_nodes(top_n = 100)\n",
    "res_filtered =  net.weight_to_similarity(global_filter= 0.2, n_neighbours = 6)\n",
    "\n",
    "net.compute_network(\n",
    "        density = 1.5,\n",
    "        bin_number = 30,\n",
    "        method = \"node2vec\",\n",
    "        n_cluster = 10)\n",
    "\n",
    "net.draw_network(color=\"community\",\n",
    "                size=\"size\",\n",
    "                symbol=None,\n",
    "                textfont_size=9,\n",
    "                edge_size=3,\n",
    "                height_att=1000,\n",
    "                width_att=1000,\n",
    "                template=\"plotly_dark\")"
   ]
  },
  {
   "cell_type": "code",
   "execution_count": 4,
   "id": "43f7f9e2-c679-4cd8-b4f3-137b9dbad1a4",
   "metadata": {},
   "outputs": [
    {
     "data": {
      "text/html": [
       "<div>\n",
       "<style scoped>\n",
       "    .dataframe tbody tr th:only-of-type {\n",
       "        vertical-align: middle;\n",
       "    }\n",
       "\n",
       "    .dataframe tbody tr th {\n",
       "        vertical-align: top;\n",
       "    }\n",
       "\n",
       "    .dataframe thead th {\n",
       "        text-align: right;\n",
       "    }\n",
       "</style>\n",
       "<table border=\"1\" class=\"dataframe\">\n",
       "  <thead>\n",
       "    <tr style=\"text-align: right;\">\n",
       "      <th></th>\n",
       "      <th>centrality</th>\n",
       "      <th>community</th>\n",
       "      <th>entity</th>\n",
       "      <th>size</th>\n",
       "    </tr>\n",
       "  </thead>\n",
       "  <tbody>\n",
       "    <tr>\n",
       "      <th>Afghanistan</th>\n",
       "      <td>13.0</td>\n",
       "      <td>0</td>\n",
       "      <td>0.0</td>\n",
       "      <td>3.0</td>\n",
       "    </tr>\n",
       "    <tr>\n",
       "      <th>UK</th>\n",
       "      <td>30.0</td>\n",
       "      <td>0</td>\n",
       "      <td>0.0</td>\n",
       "      <td>30.0</td>\n",
       "    </tr>\n",
       "    <tr>\n",
       "      <th>Netherlands</th>\n",
       "      <td>28.0</td>\n",
       "      <td>1</td>\n",
       "      <td>0.0</td>\n",
       "      <td>25.0</td>\n",
       "    </tr>\n",
       "    <tr>\n",
       "      <th>Puerto Rico</th>\n",
       "      <td>18.0</td>\n",
       "      <td>0</td>\n",
       "      <td>0.0</td>\n",
       "      <td>10.0</td>\n",
       "    </tr>\n",
       "    <tr>\n",
       "      <th>China</th>\n",
       "      <td>28.0</td>\n",
       "      <td>7</td>\n",
       "      <td>0.0</td>\n",
       "      <td>27.0</td>\n",
       "    </tr>\n",
       "    <tr>\n",
       "      <th>...</th>\n",
       "      <td>...</td>\n",
       "      <td>...</td>\n",
       "      <td>...</td>\n",
       "      <td>...</td>\n",
       "    </tr>\n",
       "    <tr>\n",
       "      <th>network_center_3</th>\n",
       "      <td>NaN</td>\n",
       "      <td>3</td>\n",
       "      <td>NaN</td>\n",
       "      <td>NaN</td>\n",
       "    </tr>\n",
       "    <tr>\n",
       "      <th>network_center_4</th>\n",
       "      <td>NaN</td>\n",
       "      <td>4</td>\n",
       "      <td>NaN</td>\n",
       "      <td>NaN</td>\n",
       "    </tr>\n",
       "    <tr>\n",
       "      <th>network_center_5</th>\n",
       "      <td>NaN</td>\n",
       "      <td>5</td>\n",
       "      <td>NaN</td>\n",
       "      <td>NaN</td>\n",
       "    </tr>\n",
       "    <tr>\n",
       "      <th>network_center_6</th>\n",
       "      <td>NaN</td>\n",
       "      <td>6</td>\n",
       "      <td>NaN</td>\n",
       "      <td>NaN</td>\n",
       "    </tr>\n",
       "    <tr>\n",
       "      <th>network_center_7</th>\n",
       "      <td>NaN</td>\n",
       "      <td>7</td>\n",
       "      <td>NaN</td>\n",
       "      <td>NaN</td>\n",
       "    </tr>\n",
       "  </tbody>\n",
       "</table>\n",
       "<p>106 rows × 4 columns</p>\n",
       "</div>"
      ],
      "text/plain": [
       "                  centrality  community  entity  size\n",
       "Afghanistan             13.0          0     0.0   3.0\n",
       "UK                      30.0          0     0.0  30.0\n",
       "Netherlands             28.0          1     0.0  25.0\n",
       "Puerto Rico             18.0          0     0.0  10.0\n",
       "China                   28.0          7     0.0  27.0\n",
       "...                      ...        ...     ...   ...\n",
       "network_center_3         NaN          3     NaN   NaN\n",
       "network_center_4         NaN          4     NaN   NaN\n",
       "network_center_5         NaN          5     NaN   NaN\n",
       "network_center_6         NaN          6     NaN   NaN\n",
       "network_center_7         NaN          7     NaN   NaN\n",
       "\n",
       "[106 rows x 4 columns]"
      ]
     },
     "execution_count": 4,
     "metadata": {},
     "output_type": "execute_result"
    }
   ],
   "source": [
    "net.df_node"
   ]
  },
  {
   "cell_type": "code",
   "execution_count": 8,
   "id": "13695a32-3763-4bb9-8b81-23213f7411a0",
   "metadata": {},
   "outputs": [],
   "source": [
    "# find the centroid of the community\n",
    "# add a connection to all other + weight to increase the attraction\n",
    "# visualize bubble"
   ]
  },
  {
   "cell_type": "code",
   "execution_count": 14,
   "id": "959223ee-c0eb-4c1b-8aab-d9899c15234b",
   "metadata": {},
   "outputs": [
    {
     "data": {
      "text/plain": [
       "{0, 1, 2, 3, 4, 5, 6}"
      ]
     },
     "execution_count": 14,
     "metadata": {},
     "output_type": "execute_result"
    }
   ],
   "source": [
    "df_node = net.df_node\n",
    "for community_number in set(df_node.community):\n",
    "    net.G.add_node(f\"network_center_{community_number}\",\n",
    "                    #centrality=len(com) * larger,\n",
    "                    community=community_number,\n",
    "                    size=len(com) * bin_number)\n",
    "                "
   ]
  },
  {
   "cell_type": "code",
   "execution_count": 34,
   "id": "43607d21-ef32-4f22-af61-61dabc25ba4c",
   "metadata": {},
   "outputs": [],
   "source": [
    "def add_black_holes(G, density = 2):\n",
    "    \n",
    "    # Add centroids in the middle of every 'community' and connects it to\n",
    "    # all the nodes in the 'community'\n",
    "    \n",
    "    df_node = pd.DataFrame.from_dict(\n",
    "            dict(G.nodes(data=True)), orient=\"index\"\n",
    "        )\n",
    "    for community_number in set(df_node.community):\n",
    "    \n",
    "        G.add_node(f\"network_center_{community_number}\",\n",
    "                        community=community_number)\n",
    "\n",
    "        list_nodes = list(df_node[df_node['community'] == 1].index)\n",
    "\n",
    "        for node in list_nodes:\n",
    "                G.add_edge(f\"network_center_{community_number}\", node, weight=density)\n",
    "\n",
    "    return G"
   ]
  },
  {
   "cell_type": "code",
   "execution_count": 35,
   "id": "6e9c71f7-e904-485e-95da-ba5230f2f4bc",
   "metadata": {},
   "outputs": [],
   "source": [
    "G = add_black_holes(net.G, density = 2)"
   ]
  },
  {
   "cell_type": "code",
   "execution_count": null,
   "id": "6368ba9b-d665-4866-bc3d-2fa3b5686afe",
   "metadata": {},
   "outputs": [],
   "source": []
  },
  {
   "cell_type": "code",
   "execution_count": null,
   "id": "e9a10031-3303-4fad-87ce-24cbb5f64028",
   "metadata": {},
   "outputs": [],
   "source": []
  },
  {
   "cell_type": "code",
   "execution_count": null,
   "id": "05b05d6b-e5d2-4bf9-8b19-4f075d6c8cb0",
   "metadata": {},
   "outputs": [],
   "source": []
  },
  {
   "cell_type": "code",
   "execution_count": null,
   "id": "0b575817-9f1e-4863-b6fc-b346a579908b",
   "metadata": {},
   "outputs": [],
   "source": []
  },
  {
   "cell_type": "code",
   "execution_count": null,
   "id": "421773d2-90d9-44e3-88d1-23c91e446e8d",
   "metadata": {},
   "outputs": [],
   "source": []
  },
  {
   "cell_type": "code",
   "execution_count": null,
   "id": "fe6897f3-71c1-4474-9199-a1492e179129",
   "metadata": {},
   "outputs": [],
   "source": []
  },
  {
   "cell_type": "code",
   "execution_count": null,
   "id": "4f24fb9b-640f-459f-9f7c-eaea880a97f3",
   "metadata": {},
   "outputs": [],
   "source": []
  },
  {
   "cell_type": "code",
   "execution_count": null,
   "id": "8d39963a-b7b5-4dc5-9c83-a071c754c97a",
   "metadata": {},
   "outputs": [],
   "source": []
  },
  {
   "cell_type": "code",
   "execution_count": null,
   "id": "85661d3a-c13c-4eb2-a2e0-2aee6c3b126f",
   "metadata": {},
   "outputs": [],
   "source": []
  }
 ],
 "metadata": {
  "kernelspec": {
   "display_name": "Python 3 (ipykernel)",
   "language": "python",
   "name": "python3"
  },
  "language_info": {
   "codemirror_mode": {
    "name": "ipython",
    "version": 3
   },
   "file_extension": ".py",
   "mimetype": "text/x-python",
   "name": "python",
   "nbconvert_exporter": "python",
   "pygments_lexer": "ipython3",
   "version": "3.8.2"
  }
 },
 "nbformat": 4,
 "nbformat_minor": 5
}
