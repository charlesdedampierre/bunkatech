{
 "cells": [
  {
   "cell_type": "code",
   "execution_count": 25,
   "id": "f728eddc-51f5-442a-bf89-5bc9cecd064d",
   "metadata": {},
   "outputs": [],
   "source": [
    "from bunkatech.topic_modeling import topic_modeling\n",
    "from bunkatech.nested_topic_modeling import NestedTopicModeling\n",
    "from bunkatech.semantics.vocabulary_extension import sbert_extension\n",
    "import pandas as pd\n",
    "import bamboolib\n",
    "\n",
    "# df = pd.read_csv(\"sample_test.csv\")\n",
    "\n",
    "df = pd.read_excel(\n",
    "    \"/Users/charlesdedampierre/Desktop/SciencePo Projects/shaping-ai/labeling/SHAI-LABELS-ROUND-1.xlsx\"\n",
    ")\n",
    "\n",
    "df = df.reset_index(drop=True)\n",
    "df[\"bindex\"] = df.index\n",
    "\n",
    "folding = [\"bien\", \"opportunité\", \"innovation\", \"amélioration\", \"promesses\"]\n",
    "folding = [\"critique de l'intelligence artificielle\"]"
   ]
  },
  {
   "cell_type": "code",
   "execution_count": 26,
   "id": "af4f01f5-8130-42c9-a993-fa878cda7c87",
   "metadata": {},
   "outputs": [
    {
     "name": "stderr",
     "output_type": "stream",
     "text": [
      "Extract Terms: 100%|█████████████████████████████████████████████| 1000/1000 [00:23<00:00, 42.91it/s]\n"
     ]
    },
    {
     "data": {
      "application/vnd.jupyter.widget-view+json": {
       "model_id": "88585f3fbed04485b9ec9c89d4e2beb3",
       "version_major": 2,
       "version_minor": 0
      },
      "text/plain": [
       "Batches:   0%|          | 0/125 [00:00<?, ?it/s]"
      ]
     },
     "metadata": {},
     "output_type": "display_data"
    }
   ],
   "source": [
    "res = sbert_extension(\n",
    "    folding,\n",
    "    df,\n",
    "    text_var=\"title_lead\",\n",
    "    sample_terms=1000,\n",
    "    language=\"fr\",\n",
    "    top_n=15,\n",
    "    bert_model=\"/Volumes/OutFriend/sbert_model/distiluse-base-multilingual-cased-v1\",\n",
    ")"
   ]
  },
  {
   "cell_type": "code",
   "execution_count": null,
   "id": "230178e9-d59d-4cfe-98bc-eefac63df89f",
   "metadata": {},
   "outputs": [],
   "source": []
  },
  {
   "cell_type": "code",
   "execution_count": null,
   "id": "fa3bd0ed-67c5-4726-bbe3-2e3b4104d134",
   "metadata": {},
   "outputs": [],
   "source": []
  },
  {
   "cell_type": "code",
   "execution_count": null,
   "id": "48552909-393c-4ece-a9bf-eebf9ea068e8",
   "metadata": {},
   "outputs": [],
   "source": []
  },
  {
   "cell_type": "code",
   "execution_count": 17,
   "id": "796329eb-f96c-48a0-8d2a-d9537c6963fe",
   "metadata": {},
   "outputs": [
    {
     "name": "stdout",
     "output_type": "stream",
     "text": [
      "Embeddings..\n",
      "Reducing the vectors..\n",
      "UMAP(angular_rp_forest=True, metric='cosine', n_components=5, n_neighbors=10, verbose=True)\n",
      "Sat Mar 12 14:58:30 2022 Construct fuzzy simplicial set\n",
      "Sat Mar 12 14:58:30 2022 Finding Nearest Neighbors\n",
      "Sat Mar 12 14:58:32 2022 Finished Nearest Neighbor Search\n",
      "Sat Mar 12 14:58:34 2022 Construct embedding\n"
     ]
    },
    {
     "data": {
      "application/vnd.jupyter.widget-view+json": {
       "model_id": "15789b30ddbf4db699e1ec2ce6571ae0",
       "version_major": 2,
       "version_minor": 0
      },
      "text/plain": [
       "Epochs completed:   0%|            0/500 [00:00]"
      ]
     },
     "metadata": {},
     "output_type": "display_data"
    },
    {
     "name": "stdout",
     "output_type": "stream",
     "text": [
      "Sat Mar 12 14:58:36 2022 Finished embedding\n"
     ]
    },
    {
     "name": "stderr",
     "output_type": "stream",
     "text": [
      "Extract Terms: 100%|███████████████████████████████████████████████| 500/500 [00:10<00:00, 48.59it/s]\n"
     ]
    }
   ],
   "source": [
    "bunka = NestedTopicModeling()\n",
    "model = bunka.fit(\n",
    "    df,\n",
    "    text_var=\"title_lead\",\n",
    "    index_var=\"bindex\",\n",
    "    sample_size=1000,\n",
    "    sample_terms=500,\n",
    "    embeddings_model=\"tfidf\",\n",
    "    folding=None,\n",
    "    ngrams=(2, 2),\n",
    "    ents=False,\n",
    "    language=\"fr\",\n",
    "    db_path=\".\",\n",
    ")"
   ]
  },
  {
   "cell_type": "code",
   "execution_count": 24,
   "id": "a75476d4-c8f2-4f2e-9734-69e4851d0770",
   "metadata": {},
   "outputs": [
    {
     "data": {
      "application/vnd.plotly.v1+json": {
       "config": {
        "plotlyServerURL": "https://plot.ly"
       },
       "data": [
        {
         "branchvalues": "total",
         "customdata": [
          [
           2
          ],
          [
           1
          ],
          [
           0
          ],
          [
           2
          ],
          [
           1
          ],
          [
           1
          ],
          [
           2
          ],
          [
           6
          ],
          [
           0
          ],
          [
           0
          ],
          [
           0
          ],
          [
           1
          ],
          [
           0
          ],
          [
           0
          ],
          [
           0
          ],
          [
           0
          ],
          [
           0
          ],
          [
           0
          ],
          [
           0
          ],
          [
           3
          ],
          [
           0
          ],
          [
           2
          ],
          [
           1
          ],
          [
           0
          ],
          [
           0
          ],
          [
           3
          ],
          [
           0
          ],
          [
           0
          ],
          [
           5
          ],
          [
           2
          ],
          [
           0
          ],
          [
           0
          ],
          [
           0
          ],
          [
           1
          ],
          [
           2
          ],
          [
           0
          ],
          [
           1
          ],
          [
           1
          ],
          [
           0
          ],
          [
           0
          ],
          [
           0
          ],
          [
           0
          ],
          [
           0
          ],
          [
           0
          ],
          [
           1
          ],
          [
           0
          ],
          [
           0
          ],
          [
           0
          ],
          [
           0
          ],
          [
           0
          ],
          [
           0
          ],
          [
           4
          ],
          [
           1
          ],
          [
           0
          ],
          [
           1
          ],
          [
           1
          ],
          [
           2
          ],
          [
           0
          ],
          [
           2
          ],
          [
           0
          ],
          [
           0
          ],
          [
           0
          ],
          [
           0
          ],
          [
           1
          ],
          [
           2
          ],
          [
           0
          ],
          [
           2
          ],
          [
           0.41935483870967744
          ],
          [
           1.462962962962963
          ],
          [
           0.4074074074074074
          ],
          [
           0
          ],
          [
           0
          ],
          [
           0
          ],
          [
           1.1764705882352942
          ],
          [
           1.8979591836734695
          ],
          [
           0
          ],
          [
           0
          ],
          [
           4.7272727272727275
          ],
          [
           0
          ],
          [
           0
          ],
          [
           2
          ],
          [
           0.8947368421052632
          ],
          [
           0.3225806451612903
          ],
          [
           0.55
          ],
          [
           0
          ],
          [
           0.3333333333333333
          ],
          [
           0.6923076923076923
          ],
          [
           0
          ],
          [
           0.5217391304347826
          ],
          [
           1
          ],
          [
           0
          ],
          [
           2.48
          ],
          [
           0.5789473684210527
          ],
          [
           0
          ],
          [
           3.048780487804878
          ],
          [
           0
          ],
          [
           1.1346153846153846
          ],
          [
           0.14130434782608695
          ],
          [
           0.5163398692810458
          ],
          [
           2.041958041958042
          ],
          [
           0.07407407407407407
          ],
          [
           0.3142857142857143
          ],
          [
           1.3063063063063063
          ],
          [
           2.5728155339805827
          ],
          [
           1.0095137420718816
          ]
         ],
         "domain": {
          "x": [
           0,
           1
          ],
          "y": [
           0,
           1
          ]
         },
         "hovertemplate": "labels=%{label}<br>topic_size=%{value}<br>parent=%{parent}<extra></extra>",
         "ids": [
          "Topics Treemap/Progrès ¦ | Intelligence humaine | Alan turing/Alan turing | Lee sedol | Programme informatique/Alan turing | Lee sedol | Programme informatique",
          "Topics Treemap/Reconnaissance faciale | Business angels | Stéphane richard/Ia microsoft | Achat média | Cloud public/Alenia space | Sophia antipolis | Monde académique",
          "Topics Treemap/Sécurité routière | Réseau neuronal | Cerveau humain/Big data | Type réseau | Revue nature/Apprentissage automatique | Artificielle ia | Temps réel",
          "Topics Treemap/Expérience client | Service client | Machine learning/Big data | Marketing digital | Data scientist/Apprentissage automatique | Entreprises françaises | Opinion |",
          "Topics Treemap/Sécurité routière | Réseau neuronal | Cerveau humain/Big data | Type réseau | Revue nature/Arbitrages tactiques | Balayage alternatif | Robotisé industriel",
          "Topics Treemap/Éthique ccne | Dossier médical | Centre hospitalier/Noah harari | Homo deus | Yuval noah/Artificielle ia | Artificial intelligence | Université californienne",
          "Topics Treemap/Conseil municipal | Admission postbac | Inspection académique/Artificielle ia | Direction financière | Progrès ¦/Big data | Direction financière | Machines intelligentes",
          "Topics Treemap/Éthique ccne | Dossier médical | Centre hospitalier/Dossier médical | Imagerie médicale | Maire lr/Big data | Dossier médical | Imagerie médicale",
          "Topics Treemap/Conseil municipal | Admission postbac | Inspection académique/Grand public | Traditionnelle fête | Vie quotidienne/Big data | E édition | Objet connecté",
          "Topics Treemap/Stratégie nationale | Florence parly | Cédric villani/Commission européenne | Données personnelles | Parlement européen/Big data | Think tank | Pouvoirs publics",
          "Topics Treemap/Reconnaissance faciale | Business angels | Stéphane richard/Business angels | M euros | Bnp paribas/Business angels | Big data | This article",
          "Topics Treemap/Progrès ¦ | Intelligence humaine | Alan turing/Directeur général | Révolution technologique | Grande entreprise/Directeur général | Dernières années | Course hippique",
          "Topics Treemap/Reconnaissance faciale | Business angels | Stéphane richard/Dollars milliards | Reconnaissance faciale | Crédit social/Dollars milliards | Informatique quantique | Assistant virtuel",
          "Topics Treemap/Document contains | Assistant vocal | Google assistant/Réseau social | Application mobile | Mcable analyse/Donald trump | Candidat idéal | French tech",
          "Topics Treemap/Stratégie nationale | Florence parly | Cédric villani/Commission européenne | Données personnelles | Parlement européen/Données personnelles | Commission européenne | Reconnaissance faciale",
          "Topics Treemap/Expérience client | Service client | Machine learning/Expérience client | Transformation digitale | Service client/Expérience client | Relation client | Transformation digitale",
          "Topics Treemap/Stratégie nationale | Florence parly | Cédric villani/Florence parly | Armées florence | Informatique quantique/Florence parly | Armées florence | Pierre lemaitre",
          "Topics Treemap/Document contains | Assistant vocal | Google assistant/Conférence annuelle | Google assistant | Position dominante/Google assistant | Conférence annuelle | Nouvel assistant",
          "Topics Treemap/Document contains | Assistant vocal | Google assistant/Document contains | Er mondial | Assemblée générale/Grand public | Er mondial | Document contains",
          "Topics Treemap/Éthique ccne | Dossier médical | Centre hospitalier/Grand public | Objet connecté | Novembre h/Grand public | Intelligence artificielle | Progrès ¦",
          "Topics Treemap/Stratégie nationale | Florence parly | Cédric villani/Florence parly | Armées florence | Informatique quantique/Haute performance | Informatique quantique | Calcul intensif",
          "Topics Treemap/Conseil municipal | Admission postbac | Inspection académique/Directeur académique | Inspection académique | Éducation nationale/Inspection académique | Éducation nationale | Directeur académique",
          "Topics Treemap/Stratégie nationale | Florence parly | Cédric villani/Institut national | Commission nationale | Jeunes pousses/Institut national | Artificielle ia | Commission nationale",
          "Topics Treemap/Conseil municipal | Admission postbac | Inspection académique/Directeur académique | Inspection académique | Éducation nationale/Intelligence artificielle | Classe c | Risques moyens",
          "Topics Treemap/Sécurité routière | Réseau neuronal | Cerveau humain/Open source | Vidéos musicales | Réseau électrique/Intelligence artificielle | Deep learning | This article",
          "Topics Treemap/Progrès ¦ | Intelligence humaine | Alan turing/Directeur général | Révolution technologique | Grande entreprise/Jeu vidéo | Consommation énergétique | Objet connecté",
          "Topics Treemap/Stratégie nationale | Florence parly | Cédric villani/Institut national | Commission nationale | Jeunes pousses/Jeunes pousses | Parc naturel | Société soeur",
          "Topics Treemap/Expérience client | Service client | Machine learning/Las vegas | Jeunes pousses | Start up/Las vegas | Objet connecté | Grand public",
          "Topics Treemap/Sécurité routière | Réseau neuronal | Cerveau humain/Voiture autonome | Intelligence artificielle | Las vegas/Las vegas | Véhicule autonome | Machine learning",
          "Topics Treemap/Conseil municipal | Admission postbac | Inspection académique/Artificielle ia | Direction financière | Progrès ¦/Laurent alexandre | Artificielle ia | Batx chinois",
          "Topics Treemap/Expérience client | Service client | Machine learning/Analyse vidéo | Responsables politiques | Monnaie électronique/Machine learning | Dernières années | Nouvelle forme",
          "Topics Treemap/Reconnaissance faciale | Business angels | Stéphane richard/Ia microsoft | Achat média | Cloud public/Machine learning | Ia microsoft | Services financiers",
          "Topics Treemap/Stratégie nationale | Florence parly | Cédric villani/Stratégie nationale | Cédric villani | Rapport villani/Mardi mars | Artificielle ia | Syndicats majoritaires",
          "Topics Treemap/Progrès ¦ | Intelligence humaine | Alan turing/Petit robot | Moyenne nationale | Radars laser/Moyenne nationale | Petit robot | Mesure m",
          "Topics Treemap/Éthique ccne | Dossier médical | Centre hospitalier/Dossier médical | Imagerie médicale | Maire lr/Nouvelle étude | Quarantetrois pièges | Biopsie prélèvement",
          "Topics Treemap/Document contains | Assistant vocal | Google assistant/Conférence annuelle | Google assistant | Position dominante/Nouvelles fonctionnalités | Nouvelle technologie | Millions utilisateurs",
          "Topics Treemap/Éthique ccne | Dossier médical | Centre hospitalier/Grand public | Objet connecté | Novembre h/Objet connecté | Novembre h | Startup française",
          "Topics Treemap/Conseil municipal | Admission postbac | Inspection académique/Page c | Public algorithme | Propriété intellectuelle/Page c | Enseignement supérieur | Admission postbac",
          "Topics Treemap/Expérience client | Service client | Machine learning/Las vegas | Jeunes pousses | Start up/Personnalités audiovisuelles | Guide tv | Octobre dernier",
          "Topics Treemap/Progrès ¦ | Intelligence humaine | Alan turing/Steven spielberg | Café philo | Artificielle film/Progrès ¦ | Artificielle ia | Intelligence humaine",
          "Topics Treemap/Conseil municipal | Admission postbac | Inspection académique/Page c | Public algorithme | Propriété intellectuelle/Propriété intellectuelle | Salle renécassin | Public algorithme",
          "Topics Treemap/Reconnaissance faciale | Business angels | Stéphane richard/Business angels | M euros | Bnp paribas/Publicité arpp | Régulation professionnelle | Traitement automatique",
          "Topics Treemap/Reconnaissance faciale | Business angels | Stéphane richard/Dollars milliards | Reconnaissance faciale | Crédit social/Reconnaissance faciale | Crédit social | Russes grâce",
          "Topics Treemap/Expérience client | Service client | Machine learning/Expérience client | Transformation digitale | Service client/Retail's | S big | Big show",
          "Topics Treemap/Sécurité routière | Réseau neuronal | Cerveau humain/Mark zuckerberg | Robots tueurs | Facebook mark/Robots tueurs | Propre puce | Prix turing",
          "Topics Treemap/Sécurité routière | Réseau neuronal | Cerveau humain/Voiture autonome | Intelligence artificielle | Las vegas/Réseau neuronal | Reconnaissance faciale | Marquages colorés",
          "Topics Treemap/Sécurité routière | Réseau neuronal | Cerveau humain/Mark zuckerberg | Robots tueurs | Facebook mark/Réseau social | Mark zuckerberg | This article",
          "Topics Treemap/Document contains | Assistant vocal | Google assistant/Réseau social | Application mobile | Mcable analyse/Réseau social | Temps réel | This article",
          "Topics Treemap/Éthique ccne | Dossier médical | Centre hospitalier/Éthique ccne | États généraux | Consultatif national/Service public | Artistiques ouvretelle | Ancien directeur",
          "Topics Treemap/Sécurité routière | Réseau neuronal | Cerveau humain/Open source | Vidéos musicales | Réseau électrique/Société américaine | Application chinoise | Groupe chinois",
          "Topics Treemap/Expérience client | Service client | Machine learning/Analyse vidéo | Responsables politiques | Monnaie électronique/Sourire difficile | Temps réel | Wall street",
          "Topics Treemap/Progrès ¦ | Intelligence humaine | Alan turing/Steven spielberg | Café philo | Artificielle film/Steven spielberg | Artificielle film | Stanley kubrick",
          "Topics Treemap/Stratégie nationale | Florence parly | Cédric villani/Stratégie nationale | Cédric villani | Rapport villani/Stratégie nationale | Deep tech | Député lrem",
          "Topics Treemap/Reconnaissance faciale | Business angels | Stéphane richard/Stéphane richard | Plan stratégique | Pdg stéphane/Stéphane richard | Partenariat stratégique | Pdg stéphane",
          "Topics Treemap/Document contains | Assistant vocal | Google assistant/Assistant vocal | Vocal alexa | Objet connecté/This article | Cyberdéfense statue | Établissements financiers",
          "Topics Treemap/Expérience client | Service client | Machine learning/Big data | Marketing digital | Data scientist/This article | Marketing digital | Site web",
          "Topics Treemap/Conseil municipal | Admission postbac | Inspection académique/Grand public | Traditionnelle fête | Vie quotidienne/This article | Vie quotidienne | Agence régionale",
          "Topics Treemap/Reconnaissance faciale | Business angels | Stéphane richard/Stéphane richard | Plan stratégique | Pdg stéphane/Transformation digitale | This article | Site web",
          "Topics Treemap/Progrès ¦ | Intelligence humaine | Alan turing/Alan turing | Lee sedol | Programme informatique/Villeneuved'ascq | Intelligence humaine | Cerveau cognition",
          "Topics Treemap/Document contains | Assistant vocal | Google assistant/Assistant vocal | Vocal alexa | Objet connecté/Vocal alexa | Produit élégant | Marché asiatique",
          "Topics Treemap/Éthique ccne | Dossier médical | Centre hospitalier/Noah harari | Homo deus | Yuval noah/Yuval noah | Homo deus | Noah harari",
          "Topics Treemap/Document contains | Assistant vocal | Google assistant/Document contains | Er mondial | Assemblée générale/École polytechnique | Union européenne | Bnp paribas",
          "Topics Treemap/Éthique ccne | Dossier médical | Centre hospitalier/Éthique ccne | États généraux | Consultatif national/Éthique ccne | Consultatif national | États généraux",
          "Topics Treemap/Progrès ¦ | Intelligence humaine | Alan turing/Petit robot | Moyenne nationale | Radars laser/Êtres humains | Objet connecté | Meilleur ami",
          "Topics Treemap/Progrès ¦ | Intelligence humaine | Alan turing/Alan turing | Lee sedol | Programme informatique",
          "Topics Treemap/Expérience client | Service client | Machine learning/Analyse vidéo | Responsables politiques | Monnaie électronique",
          "Topics Treemap/Conseil municipal | Admission postbac | Inspection académique/Artificielle ia | Direction financière | Progrès ¦",
          "Topics Treemap/Document contains | Assistant vocal | Google assistant/Assistant vocal | Vocal alexa | Objet connecté",
          "Topics Treemap/Expérience client | Service client | Machine learning/Big data | Marketing digital | Data scientist",
          "Topics Treemap/Sécurité routière | Réseau neuronal | Cerveau humain/Big data | Type réseau | Revue nature",
          "Topics Treemap/Reconnaissance faciale | Business angels | Stéphane richard/Business angels | M euros | Bnp paribas",
          "Topics Treemap/Stratégie nationale | Florence parly | Cédric villani/Commission européenne | Données personnelles | Parlement européen",
          "Topics Treemap/Document contains | Assistant vocal | Google assistant/Conférence annuelle | Google assistant | Position dominante",
          "Topics Treemap/Conseil municipal | Admission postbac | Inspection académique/Directeur académique | Inspection académique | Éducation nationale",
          "Topics Treemap/Progrès ¦ | Intelligence humaine | Alan turing/Directeur général | Révolution technologique | Grande entreprise",
          "Topics Treemap/Document contains | Assistant vocal | Google assistant/Document contains | Er mondial | Assemblée générale",
          "Topics Treemap/Reconnaissance faciale | Business angels | Stéphane richard/Dollars milliards | Reconnaissance faciale | Crédit social",
          "Topics Treemap/Éthique ccne | Dossier médical | Centre hospitalier/Dossier médical | Imagerie médicale | Maire lr",
          "Topics Treemap/Expérience client | Service client | Machine learning/Expérience client | Transformation digitale | Service client",
          "Topics Treemap/Stratégie nationale | Florence parly | Cédric villani/Florence parly | Armées florence | Informatique quantique",
          "Topics Treemap/Éthique ccne | Dossier médical | Centre hospitalier/Grand public | Objet connecté | Novembre h",
          "Topics Treemap/Conseil municipal | Admission postbac | Inspection académique/Grand public | Traditionnelle fête | Vie quotidienne",
          "Topics Treemap/Reconnaissance faciale | Business angels | Stéphane richard/Ia microsoft | Achat média | Cloud public",
          "Topics Treemap/Stratégie nationale | Florence parly | Cédric villani/Institut national | Commission nationale | Jeunes pousses",
          "Topics Treemap/Expérience client | Service client | Machine learning/Las vegas | Jeunes pousses | Start up",
          "Topics Treemap/Sécurité routière | Réseau neuronal | Cerveau humain/Mark zuckerberg | Robots tueurs | Facebook mark",
          "Topics Treemap/Éthique ccne | Dossier médical | Centre hospitalier/Noah harari | Homo deus | Yuval noah",
          "Topics Treemap/Sécurité routière | Réseau neuronal | Cerveau humain/Open source | Vidéos musicales | Réseau électrique",
          "Topics Treemap/Conseil municipal | Admission postbac | Inspection académique/Page c | Public algorithme | Propriété intellectuelle",
          "Topics Treemap/Progrès ¦ | Intelligence humaine | Alan turing/Petit robot | Moyenne nationale | Radars laser",
          "Topics Treemap/Document contains | Assistant vocal | Google assistant/Réseau social | Application mobile | Mcable analyse",
          "Topics Treemap/Progrès ¦ | Intelligence humaine | Alan turing/Steven spielberg | Café philo | Artificielle film",
          "Topics Treemap/Stratégie nationale | Florence parly | Cédric villani/Stratégie nationale | Cédric villani | Rapport villani",
          "Topics Treemap/Reconnaissance faciale | Business angels | Stéphane richard/Stéphane richard | Plan stratégique | Pdg stéphane",
          "Topics Treemap/Sécurité routière | Réseau neuronal | Cerveau humain/Voiture autonome | Intelligence artificielle | Las vegas",
          "Topics Treemap/Éthique ccne | Dossier médical | Centre hospitalier/Éthique ccne | États généraux | Consultatif national",
          "Topics Treemap/Conseil municipal | Admission postbac | Inspection académique",
          "Topics Treemap/Document contains | Assistant vocal | Google assistant",
          "Topics Treemap/Expérience client | Service client | Machine learning",
          "Topics Treemap/Progrès ¦ | Intelligence humaine | Alan turing",
          "Topics Treemap/Reconnaissance faciale | Business angels | Stéphane richard",
          "Topics Treemap/Stratégie nationale | Florence parly | Cédric villani",
          "Topics Treemap/Sécurité routière | Réseau neuronal | Cerveau humain",
          "Topics Treemap/Éthique ccne | Dossier médical | Centre hospitalier",
          "Topics Treemap"
         ],
         "labels": [
          "Alan turing | Lee sedol | Programme informatique",
          "Alenia space | Sophia antipolis | Monde académique",
          "Apprentissage automatique | Artificielle ia | Temps réel",
          "Apprentissage automatique | Entreprises françaises | Opinion |",
          "Arbitrages tactiques | Balayage alternatif | Robotisé industriel",
          "Artificielle ia | Artificial intelligence | Université californienne",
          "Big data | Direction financière | Machines intelligentes",
          "Big data | Dossier médical | Imagerie médicale",
          "Big data | E édition | Objet connecté",
          "Big data | Think tank | Pouvoirs publics",
          "Business angels | Big data | This article",
          "Directeur général | Dernières années | Course hippique",
          "Dollars milliards | Informatique quantique | Assistant virtuel",
          "Donald trump | Candidat idéal | French tech",
          "Données personnelles | Commission européenne | Reconnaissance faciale",
          "Expérience client | Relation client | Transformation digitale",
          "Florence parly | Armées florence | Pierre lemaitre",
          "Google assistant | Conférence annuelle | Nouvel assistant",
          "Grand public | Er mondial | Document contains",
          "Grand public | Intelligence artificielle | Progrès ¦",
          "Haute performance | Informatique quantique | Calcul intensif",
          "Inspection académique | Éducation nationale | Directeur académique",
          "Institut national | Artificielle ia | Commission nationale",
          "Intelligence artificielle | Classe c | Risques moyens",
          "Intelligence artificielle | Deep learning | This article",
          "Jeu vidéo | Consommation énergétique | Objet connecté",
          "Jeunes pousses | Parc naturel | Société soeur",
          "Las vegas | Objet connecté | Grand public",
          "Las vegas | Véhicule autonome | Machine learning",
          "Laurent alexandre | Artificielle ia | Batx chinois",
          "Machine learning | Dernières années | Nouvelle forme",
          "Machine learning | Ia microsoft | Services financiers",
          "Mardi mars | Artificielle ia | Syndicats majoritaires",
          "Moyenne nationale | Petit robot | Mesure m",
          "Nouvelle étude | Quarantetrois pièges | Biopsie prélèvement",
          "Nouvelles fonctionnalités | Nouvelle technologie | Millions utilisateurs",
          "Objet connecté | Novembre h | Startup française",
          "Page c | Enseignement supérieur | Admission postbac",
          "Personnalités audiovisuelles | Guide tv | Octobre dernier",
          "Progrès ¦ | Artificielle ia | Intelligence humaine",
          "Propriété intellectuelle | Salle renécassin | Public algorithme",
          "Publicité arpp | Régulation professionnelle | Traitement automatique",
          "Reconnaissance faciale | Crédit social | Russes grâce",
          "Retail's | S big | Big show",
          "Robots tueurs | Propre puce | Prix turing",
          "Réseau neuronal | Reconnaissance faciale | Marquages colorés",
          "Réseau social | Mark zuckerberg | This article",
          "Réseau social | Temps réel | This article",
          "Service public | Artistiques ouvretelle | Ancien directeur",
          "Société américaine | Application chinoise | Groupe chinois",
          "Sourire difficile | Temps réel | Wall street",
          "Steven spielberg | Artificielle film | Stanley kubrick",
          "Stratégie nationale | Deep tech | Député lrem",
          "Stéphane richard | Partenariat stratégique | Pdg stéphane",
          "This article | Cyberdéfense statue | Établissements financiers",
          "This article | Marketing digital | Site web",
          "This article | Vie quotidienne | Agence régionale",
          "Transformation digitale | This article | Site web",
          "Villeneuved'ascq | Intelligence humaine | Cerveau cognition",
          "Vocal alexa | Produit élégant | Marché asiatique",
          "Yuval noah | Homo deus | Noah harari",
          "École polytechnique | Union européenne | Bnp paribas",
          "Éthique ccne | Consultatif national | États généraux",
          "Êtres humains | Objet connecté | Meilleur ami",
          "Alan turing | Lee sedol | Programme informatique",
          "Analyse vidéo | Responsables politiques | Monnaie électronique",
          "Artificielle ia | Direction financière | Progrès ¦",
          "Assistant vocal | Vocal alexa | Objet connecté",
          "Big data | Marketing digital | Data scientist",
          "Big data | Type réseau | Revue nature",
          "Business angels | M euros | Bnp paribas",
          "Commission européenne | Données personnelles | Parlement européen",
          "Conférence annuelle | Google assistant | Position dominante",
          "Directeur académique | Inspection académique | Éducation nationale",
          "Directeur général | Révolution technologique | Grande entreprise",
          "Document contains | Er mondial | Assemblée générale",
          "Dollars milliards | Reconnaissance faciale | Crédit social",
          "Dossier médical | Imagerie médicale | Maire lr",
          "Expérience client | Transformation digitale | Service client",
          "Florence parly | Armées florence | Informatique quantique",
          "Grand public | Objet connecté | Novembre h",
          "Grand public | Traditionnelle fête | Vie quotidienne",
          "Ia microsoft | Achat média | Cloud public",
          "Institut national | Commission nationale | Jeunes pousses",
          "Las vegas | Jeunes pousses | Start up",
          "Mark zuckerberg | Robots tueurs | Facebook mark",
          "Noah harari | Homo deus | Yuval noah",
          "Open source | Vidéos musicales | Réseau électrique",
          "Page c | Public algorithme | Propriété intellectuelle",
          "Petit robot | Moyenne nationale | Radars laser",
          "Réseau social | Application mobile | Mcable analyse",
          "Steven spielberg | Café philo | Artificielle film",
          "Stratégie nationale | Cédric villani | Rapport villani",
          "Stéphane richard | Plan stratégique | Pdg stéphane",
          "Voiture autonome | Intelligence artificielle | Las vegas",
          "Éthique ccne | États généraux | Consultatif national",
          "Conseil municipal | Admission postbac | Inspection académique",
          "Document contains | Assistant vocal | Google assistant",
          "Expérience client | Service client | Machine learning",
          "Progrès ¦ | Intelligence humaine | Alan turing",
          "Reconnaissance faciale | Business angels | Stéphane richard",
          "Stratégie nationale | Florence parly | Cédric villani",
          "Sécurité routière | Réseau neuronal | Cerveau humain",
          "Éthique ccne | Dossier médical | Centre hospitalier",
          "Topics Treemap"
         ],
         "marker": {
          "coloraxis": "coloraxis",
          "colors": [
           2,
           1,
           0,
           2,
           1,
           1,
           2,
           6,
           0,
           0,
           0,
           1,
           0,
           0,
           0,
           0,
           0,
           0,
           0,
           3,
           0,
           2,
           1,
           0,
           0,
           3,
           0,
           0,
           5,
           2,
           0,
           0,
           0,
           1,
           2,
           0,
           1,
           1,
           0,
           0,
           0,
           0,
           0,
           0,
           1,
           0,
           0,
           0,
           0,
           0,
           0,
           4,
           1,
           0,
           1,
           1,
           2,
           0,
           2,
           0,
           0,
           0,
           0,
           1,
           2,
           0,
           2,
           0.41935483870967744,
           1.462962962962963,
           0.4074074074074074,
           0,
           0,
           0,
           1.1764705882352942,
           1.8979591836734695,
           0,
           0,
           4.7272727272727275,
           0,
           0,
           2,
           0.8947368421052632,
           0.3225806451612903,
           0.55,
           0,
           0.3333333333333333,
           0.6923076923076923,
           0,
           0.5217391304347826,
           1,
           0,
           2.48,
           0.5789473684210527,
           0,
           3.048780487804878,
           0,
           1.1346153846153846,
           0.14130434782608695,
           0.5163398692810458,
           2.041958041958042,
           0.07407407407407407,
           0.3142857142857143,
           1.3063063063063063,
           2.5728155339805827,
           1.0095137420718816
          ]
         },
         "name": "",
         "parents": [
          "Topics Treemap/Progrès ¦ | Intelligence humaine | Alan turing/Alan turing | Lee sedol | Programme informatique",
          "Topics Treemap/Reconnaissance faciale | Business angels | Stéphane richard/Ia microsoft | Achat média | Cloud public",
          "Topics Treemap/Sécurité routière | Réseau neuronal | Cerveau humain/Big data | Type réseau | Revue nature",
          "Topics Treemap/Expérience client | Service client | Machine learning/Big data | Marketing digital | Data scientist",
          "Topics Treemap/Sécurité routière | Réseau neuronal | Cerveau humain/Big data | Type réseau | Revue nature",
          "Topics Treemap/Éthique ccne | Dossier médical | Centre hospitalier/Noah harari | Homo deus | Yuval noah",
          "Topics Treemap/Conseil municipal | Admission postbac | Inspection académique/Artificielle ia | Direction financière | Progrès ¦",
          "Topics Treemap/Éthique ccne | Dossier médical | Centre hospitalier/Dossier médical | Imagerie médicale | Maire lr",
          "Topics Treemap/Conseil municipal | Admission postbac | Inspection académique/Grand public | Traditionnelle fête | Vie quotidienne",
          "Topics Treemap/Stratégie nationale | Florence parly | Cédric villani/Commission européenne | Données personnelles | Parlement européen",
          "Topics Treemap/Reconnaissance faciale | Business angels | Stéphane richard/Business angels | M euros | Bnp paribas",
          "Topics Treemap/Progrès ¦ | Intelligence humaine | Alan turing/Directeur général | Révolution technologique | Grande entreprise",
          "Topics Treemap/Reconnaissance faciale | Business angels | Stéphane richard/Dollars milliards | Reconnaissance faciale | Crédit social",
          "Topics Treemap/Document contains | Assistant vocal | Google assistant/Réseau social | Application mobile | Mcable analyse",
          "Topics Treemap/Stratégie nationale | Florence parly | Cédric villani/Commission européenne | Données personnelles | Parlement européen",
          "Topics Treemap/Expérience client | Service client | Machine learning/Expérience client | Transformation digitale | Service client",
          "Topics Treemap/Stratégie nationale | Florence parly | Cédric villani/Florence parly | Armées florence | Informatique quantique",
          "Topics Treemap/Document contains | Assistant vocal | Google assistant/Conférence annuelle | Google assistant | Position dominante",
          "Topics Treemap/Document contains | Assistant vocal | Google assistant/Document contains | Er mondial | Assemblée générale",
          "Topics Treemap/Éthique ccne | Dossier médical | Centre hospitalier/Grand public | Objet connecté | Novembre h",
          "Topics Treemap/Stratégie nationale | Florence parly | Cédric villani/Florence parly | Armées florence | Informatique quantique",
          "Topics Treemap/Conseil municipal | Admission postbac | Inspection académique/Directeur académique | Inspection académique | Éducation nationale",
          "Topics Treemap/Stratégie nationale | Florence parly | Cédric villani/Institut national | Commission nationale | Jeunes pousses",
          "Topics Treemap/Conseil municipal | Admission postbac | Inspection académique/Directeur académique | Inspection académique | Éducation nationale",
          "Topics Treemap/Sécurité routière | Réseau neuronal | Cerveau humain/Open source | Vidéos musicales | Réseau électrique",
          "Topics Treemap/Progrès ¦ | Intelligence humaine | Alan turing/Directeur général | Révolution technologique | Grande entreprise",
          "Topics Treemap/Stratégie nationale | Florence parly | Cédric villani/Institut national | Commission nationale | Jeunes pousses",
          "Topics Treemap/Expérience client | Service client | Machine learning/Las vegas | Jeunes pousses | Start up",
          "Topics Treemap/Sécurité routière | Réseau neuronal | Cerveau humain/Voiture autonome | Intelligence artificielle | Las vegas",
          "Topics Treemap/Conseil municipal | Admission postbac | Inspection académique/Artificielle ia | Direction financière | Progrès ¦",
          "Topics Treemap/Expérience client | Service client | Machine learning/Analyse vidéo | Responsables politiques | Monnaie électronique",
          "Topics Treemap/Reconnaissance faciale | Business angels | Stéphane richard/Ia microsoft | Achat média | Cloud public",
          "Topics Treemap/Stratégie nationale | Florence parly | Cédric villani/Stratégie nationale | Cédric villani | Rapport villani",
          "Topics Treemap/Progrès ¦ | Intelligence humaine | Alan turing/Petit robot | Moyenne nationale | Radars laser",
          "Topics Treemap/Éthique ccne | Dossier médical | Centre hospitalier/Dossier médical | Imagerie médicale | Maire lr",
          "Topics Treemap/Document contains | Assistant vocal | Google assistant/Conférence annuelle | Google assistant | Position dominante",
          "Topics Treemap/Éthique ccne | Dossier médical | Centre hospitalier/Grand public | Objet connecté | Novembre h",
          "Topics Treemap/Conseil municipal | Admission postbac | Inspection académique/Page c | Public algorithme | Propriété intellectuelle",
          "Topics Treemap/Expérience client | Service client | Machine learning/Las vegas | Jeunes pousses | Start up",
          "Topics Treemap/Progrès ¦ | Intelligence humaine | Alan turing/Steven spielberg | Café philo | Artificielle film",
          "Topics Treemap/Conseil municipal | Admission postbac | Inspection académique/Page c | Public algorithme | Propriété intellectuelle",
          "Topics Treemap/Reconnaissance faciale | Business angels | Stéphane richard/Business angels | M euros | Bnp paribas",
          "Topics Treemap/Reconnaissance faciale | Business angels | Stéphane richard/Dollars milliards | Reconnaissance faciale | Crédit social",
          "Topics Treemap/Expérience client | Service client | Machine learning/Expérience client | Transformation digitale | Service client",
          "Topics Treemap/Sécurité routière | Réseau neuronal | Cerveau humain/Mark zuckerberg | Robots tueurs | Facebook mark",
          "Topics Treemap/Sécurité routière | Réseau neuronal | Cerveau humain/Voiture autonome | Intelligence artificielle | Las vegas",
          "Topics Treemap/Sécurité routière | Réseau neuronal | Cerveau humain/Mark zuckerberg | Robots tueurs | Facebook mark",
          "Topics Treemap/Document contains | Assistant vocal | Google assistant/Réseau social | Application mobile | Mcable analyse",
          "Topics Treemap/Éthique ccne | Dossier médical | Centre hospitalier/Éthique ccne | États généraux | Consultatif national",
          "Topics Treemap/Sécurité routière | Réseau neuronal | Cerveau humain/Open source | Vidéos musicales | Réseau électrique",
          "Topics Treemap/Expérience client | Service client | Machine learning/Analyse vidéo | Responsables politiques | Monnaie électronique",
          "Topics Treemap/Progrès ¦ | Intelligence humaine | Alan turing/Steven spielberg | Café philo | Artificielle film",
          "Topics Treemap/Stratégie nationale | Florence parly | Cédric villani/Stratégie nationale | Cédric villani | Rapport villani",
          "Topics Treemap/Reconnaissance faciale | Business angels | Stéphane richard/Stéphane richard | Plan stratégique | Pdg stéphane",
          "Topics Treemap/Document contains | Assistant vocal | Google assistant/Assistant vocal | Vocal alexa | Objet connecté",
          "Topics Treemap/Expérience client | Service client | Machine learning/Big data | Marketing digital | Data scientist",
          "Topics Treemap/Conseil municipal | Admission postbac | Inspection académique/Grand public | Traditionnelle fête | Vie quotidienne",
          "Topics Treemap/Reconnaissance faciale | Business angels | Stéphane richard/Stéphane richard | Plan stratégique | Pdg stéphane",
          "Topics Treemap/Progrès ¦ | Intelligence humaine | Alan turing/Alan turing | Lee sedol | Programme informatique",
          "Topics Treemap/Document contains | Assistant vocal | Google assistant/Assistant vocal | Vocal alexa | Objet connecté",
          "Topics Treemap/Éthique ccne | Dossier médical | Centre hospitalier/Noah harari | Homo deus | Yuval noah",
          "Topics Treemap/Document contains | Assistant vocal | Google assistant/Document contains | Er mondial | Assemblée générale",
          "Topics Treemap/Éthique ccne | Dossier médical | Centre hospitalier/Éthique ccne | États généraux | Consultatif national",
          "Topics Treemap/Progrès ¦ | Intelligence humaine | Alan turing/Petit robot | Moyenne nationale | Radars laser",
          "Topics Treemap/Progrès ¦ | Intelligence humaine | Alan turing",
          "Topics Treemap/Expérience client | Service client | Machine learning",
          "Topics Treemap/Conseil municipal | Admission postbac | Inspection académique",
          "Topics Treemap/Document contains | Assistant vocal | Google assistant",
          "Topics Treemap/Expérience client | Service client | Machine learning",
          "Topics Treemap/Sécurité routière | Réseau neuronal | Cerveau humain",
          "Topics Treemap/Reconnaissance faciale | Business angels | Stéphane richard",
          "Topics Treemap/Stratégie nationale | Florence parly | Cédric villani",
          "Topics Treemap/Document contains | Assistant vocal | Google assistant",
          "Topics Treemap/Conseil municipal | Admission postbac | Inspection académique",
          "Topics Treemap/Progrès ¦ | Intelligence humaine | Alan turing",
          "Topics Treemap/Document contains | Assistant vocal | Google assistant",
          "Topics Treemap/Reconnaissance faciale | Business angels | Stéphane richard",
          "Topics Treemap/Éthique ccne | Dossier médical | Centre hospitalier",
          "Topics Treemap/Expérience client | Service client | Machine learning",
          "Topics Treemap/Stratégie nationale | Florence parly | Cédric villani",
          "Topics Treemap/Éthique ccne | Dossier médical | Centre hospitalier",
          "Topics Treemap/Conseil municipal | Admission postbac | Inspection académique",
          "Topics Treemap/Reconnaissance faciale | Business angels | Stéphane richard",
          "Topics Treemap/Stratégie nationale | Florence parly | Cédric villani",
          "Topics Treemap/Expérience client | Service client | Machine learning",
          "Topics Treemap/Sécurité routière | Réseau neuronal | Cerveau humain",
          "Topics Treemap/Éthique ccne | Dossier médical | Centre hospitalier",
          "Topics Treemap/Sécurité routière | Réseau neuronal | Cerveau humain",
          "Topics Treemap/Conseil municipal | Admission postbac | Inspection académique",
          "Topics Treemap/Progrès ¦ | Intelligence humaine | Alan turing",
          "Topics Treemap/Document contains | Assistant vocal | Google assistant",
          "Topics Treemap/Progrès ¦ | Intelligence humaine | Alan turing",
          "Topics Treemap/Stratégie nationale | Florence parly | Cédric villani",
          "Topics Treemap/Reconnaissance faciale | Business angels | Stéphane richard",
          "Topics Treemap/Sécurité routière | Réseau neuronal | Cerveau humain",
          "Topics Treemap/Éthique ccne | Dossier médical | Centre hospitalier",
          "Topics Treemap",
          "Topics Treemap",
          "Topics Treemap",
          "Topics Treemap",
          "Topics Treemap",
          "Topics Treemap",
          "Topics Treemap",
          "Topics Treemap",
          ""
         ],
         "root": {
          "color": "lightgrey"
         },
         "type": "treemap",
         "values": [
          16,
          10,
          16,
          25,
          11,
          9,
          13,
          30,
          21,
          15,
          34,
          27,
          18,
          6,
          12,
          20,
          9,
          27,
          1,
          12,
          11,
          10,
          11,
          7,
          12,
          22,
          9,
          16,
          25,
          13,
          21,
          21,
          16,
          10,
          14,
          8,
          12,
          12,
          18,
          19,
          11,
          12,
          10,
          6,
          9,
          16,
          18,
          12,
          6,
          4,
          18,
          31,
          22,
          17,
          13,
          29,
          17,
          13,
          15,
          18,
          4,
          7,
          16,
          3,
          31,
          39,
          26,
          31,
          54,
          27,
          46,
          27,
          35,
          17,
          49,
          8,
          28,
          44,
          26,
          20,
          24,
          38,
          31,
          20,
          34,
          27,
          13,
          16,
          23,
          13,
          18,
          50,
          38,
          30,
          41,
          22,
          104,
          92,
          153,
          143,
          135,
          105,
          111,
          103,
          946
         ]
        }
       ],
       "layout": {
        "coloraxis": {
         "cmid": 0.78125,
         "colorbar": {
          "title": {
           "text": "score_norm"
          }
         },
         "colorscale": [
          [
           0,
           "rgb(0,0,255)"
          ],
          [
           0.1,
           "rgb(51,153,255)"
          ],
          [
           0.2,
           "rgb(102,204,255)"
          ],
          [
           0.3,
           "rgb(153,204,255)"
          ],
          [
           0.4,
           "rgb(204,204,255)"
          ],
          [
           0.5,
           "rgb(255,255,255)"
          ],
          [
           0.6,
           "rgb(255,204,255)"
          ],
          [
           0.7,
           "rgb(255,153,255)"
          ],
          [
           0.8,
           "rgb(255,102,204)"
          ],
          [
           0.9,
           "rgb(255,102,102)"
          ],
          [
           1,
           "rgb(255,0,0)"
          ]
         ]
        },
        "height": 1000,
        "legend": {
         "tracegroupgap": 0
        },
        "margin": {
         "t": 60
        },
        "template": {
         "data": {
          "bar": [
           {
            "error_x": {
             "color": "#2a3f5f"
            },
            "error_y": {
             "color": "#2a3f5f"
            },
            "marker": {
             "line": {
              "color": "#E5ECF6",
              "width": 0.5
             },
             "pattern": {
              "fillmode": "overlay",
              "size": 10,
              "solidity": 0.2
             }
            },
            "type": "bar"
           }
          ],
          "barpolar": [
           {
            "marker": {
             "line": {
              "color": "#E5ECF6",
              "width": 0.5
             },
             "pattern": {
              "fillmode": "overlay",
              "size": 10,
              "solidity": 0.2
             }
            },
            "type": "barpolar"
           }
          ],
          "carpet": [
           {
            "aaxis": {
             "endlinecolor": "#2a3f5f",
             "gridcolor": "white",
             "linecolor": "white",
             "minorgridcolor": "white",
             "startlinecolor": "#2a3f5f"
            },
            "baxis": {
             "endlinecolor": "#2a3f5f",
             "gridcolor": "white",
             "linecolor": "white",
             "minorgridcolor": "white",
             "startlinecolor": "#2a3f5f"
            },
            "type": "carpet"
           }
          ],
          "choropleth": [
           {
            "colorbar": {
             "outlinewidth": 0,
             "ticks": ""
            },
            "type": "choropleth"
           }
          ],
          "contour": [
           {
            "colorbar": {
             "outlinewidth": 0,
             "ticks": ""
            },
            "colorscale": [
             [
              0,
              "#0d0887"
             ],
             [
              0.1111111111111111,
              "#46039f"
             ],
             [
              0.2222222222222222,
              "#7201a8"
             ],
             [
              0.3333333333333333,
              "#9c179e"
             ],
             [
              0.4444444444444444,
              "#bd3786"
             ],
             [
              0.5555555555555556,
              "#d8576b"
             ],
             [
              0.6666666666666666,
              "#ed7953"
             ],
             [
              0.7777777777777778,
              "#fb9f3a"
             ],
             [
              0.8888888888888888,
              "#fdca26"
             ],
             [
              1,
              "#f0f921"
             ]
            ],
            "type": "contour"
           }
          ],
          "contourcarpet": [
           {
            "colorbar": {
             "outlinewidth": 0,
             "ticks": ""
            },
            "type": "contourcarpet"
           }
          ],
          "heatmap": [
           {
            "colorbar": {
             "outlinewidth": 0,
             "ticks": ""
            },
            "colorscale": [
             [
              0,
              "#0d0887"
             ],
             [
              0.1111111111111111,
              "#46039f"
             ],
             [
              0.2222222222222222,
              "#7201a8"
             ],
             [
              0.3333333333333333,
              "#9c179e"
             ],
             [
              0.4444444444444444,
              "#bd3786"
             ],
             [
              0.5555555555555556,
              "#d8576b"
             ],
             [
              0.6666666666666666,
              "#ed7953"
             ],
             [
              0.7777777777777778,
              "#fb9f3a"
             ],
             [
              0.8888888888888888,
              "#fdca26"
             ],
             [
              1,
              "#f0f921"
             ]
            ],
            "type": "heatmap"
           }
          ],
          "heatmapgl": [
           {
            "colorbar": {
             "outlinewidth": 0,
             "ticks": ""
            },
            "colorscale": [
             [
              0,
              "#0d0887"
             ],
             [
              0.1111111111111111,
              "#46039f"
             ],
             [
              0.2222222222222222,
              "#7201a8"
             ],
             [
              0.3333333333333333,
              "#9c179e"
             ],
             [
              0.4444444444444444,
              "#bd3786"
             ],
             [
              0.5555555555555556,
              "#d8576b"
             ],
             [
              0.6666666666666666,
              "#ed7953"
             ],
             [
              0.7777777777777778,
              "#fb9f3a"
             ],
             [
              0.8888888888888888,
              "#fdca26"
             ],
             [
              1,
              "#f0f921"
             ]
            ],
            "type": "heatmapgl"
           }
          ],
          "histogram": [
           {
            "marker": {
             "pattern": {
              "fillmode": "overlay",
              "size": 10,
              "solidity": 0.2
             }
            },
            "type": "histogram"
           }
          ],
          "histogram2d": [
           {
            "colorbar": {
             "outlinewidth": 0,
             "ticks": ""
            },
            "colorscale": [
             [
              0,
              "#0d0887"
             ],
             [
              0.1111111111111111,
              "#46039f"
             ],
             [
              0.2222222222222222,
              "#7201a8"
             ],
             [
              0.3333333333333333,
              "#9c179e"
             ],
             [
              0.4444444444444444,
              "#bd3786"
             ],
             [
              0.5555555555555556,
              "#d8576b"
             ],
             [
              0.6666666666666666,
              "#ed7953"
             ],
             [
              0.7777777777777778,
              "#fb9f3a"
             ],
             [
              0.8888888888888888,
              "#fdca26"
             ],
             [
              1,
              "#f0f921"
             ]
            ],
            "type": "histogram2d"
           }
          ],
          "histogram2dcontour": [
           {
            "colorbar": {
             "outlinewidth": 0,
             "ticks": ""
            },
            "colorscale": [
             [
              0,
              "#0d0887"
             ],
             [
              0.1111111111111111,
              "#46039f"
             ],
             [
              0.2222222222222222,
              "#7201a8"
             ],
             [
              0.3333333333333333,
              "#9c179e"
             ],
             [
              0.4444444444444444,
              "#bd3786"
             ],
             [
              0.5555555555555556,
              "#d8576b"
             ],
             [
              0.6666666666666666,
              "#ed7953"
             ],
             [
              0.7777777777777778,
              "#fb9f3a"
             ],
             [
              0.8888888888888888,
              "#fdca26"
             ],
             [
              1,
              "#f0f921"
             ]
            ],
            "type": "histogram2dcontour"
           }
          ],
          "mesh3d": [
           {
            "colorbar": {
             "outlinewidth": 0,
             "ticks": ""
            },
            "type": "mesh3d"
           }
          ],
          "parcoords": [
           {
            "line": {
             "colorbar": {
              "outlinewidth": 0,
              "ticks": ""
             }
            },
            "type": "parcoords"
           }
          ],
          "pie": [
           {
            "automargin": true,
            "type": "pie"
           }
          ],
          "scatter": [
           {
            "marker": {
             "colorbar": {
              "outlinewidth": 0,
              "ticks": ""
             }
            },
            "type": "scatter"
           }
          ],
          "scatter3d": [
           {
            "line": {
             "colorbar": {
              "outlinewidth": 0,
              "ticks": ""
             }
            },
            "marker": {
             "colorbar": {
              "outlinewidth": 0,
              "ticks": ""
             }
            },
            "type": "scatter3d"
           }
          ],
          "scattercarpet": [
           {
            "marker": {
             "colorbar": {
              "outlinewidth": 0,
              "ticks": ""
             }
            },
            "type": "scattercarpet"
           }
          ],
          "scattergeo": [
           {
            "marker": {
             "colorbar": {
              "outlinewidth": 0,
              "ticks": ""
             }
            },
            "type": "scattergeo"
           }
          ],
          "scattergl": [
           {
            "marker": {
             "colorbar": {
              "outlinewidth": 0,
              "ticks": ""
             }
            },
            "type": "scattergl"
           }
          ],
          "scattermapbox": [
           {
            "marker": {
             "colorbar": {
              "outlinewidth": 0,
              "ticks": ""
             }
            },
            "type": "scattermapbox"
           }
          ],
          "scatterpolar": [
           {
            "marker": {
             "colorbar": {
              "outlinewidth": 0,
              "ticks": ""
             }
            },
            "type": "scatterpolar"
           }
          ],
          "scatterpolargl": [
           {
            "marker": {
             "colorbar": {
              "outlinewidth": 0,
              "ticks": ""
             }
            },
            "type": "scatterpolargl"
           }
          ],
          "scatterternary": [
           {
            "marker": {
             "colorbar": {
              "outlinewidth": 0,
              "ticks": ""
             }
            },
            "type": "scatterternary"
           }
          ],
          "surface": [
           {
            "colorbar": {
             "outlinewidth": 0,
             "ticks": ""
            },
            "colorscale": [
             [
              0,
              "#0d0887"
             ],
             [
              0.1111111111111111,
              "#46039f"
             ],
             [
              0.2222222222222222,
              "#7201a8"
             ],
             [
              0.3333333333333333,
              "#9c179e"
             ],
             [
              0.4444444444444444,
              "#bd3786"
             ],
             [
              0.5555555555555556,
              "#d8576b"
             ],
             [
              0.6666666666666666,
              "#ed7953"
             ],
             [
              0.7777777777777778,
              "#fb9f3a"
             ],
             [
              0.8888888888888888,
              "#fdca26"
             ],
             [
              1,
              "#f0f921"
             ]
            ],
            "type": "surface"
           }
          ],
          "table": [
           {
            "cells": {
             "fill": {
              "color": "#EBF0F8"
             },
             "line": {
              "color": "white"
             }
            },
            "header": {
             "fill": {
              "color": "#C8D4E3"
             },
             "line": {
              "color": "white"
             }
            },
            "type": "table"
           }
          ]
         },
         "layout": {
          "annotationdefaults": {
           "arrowcolor": "#2a3f5f",
           "arrowhead": 0,
           "arrowwidth": 1
          },
          "autotypenumbers": "strict",
          "coloraxis": {
           "colorbar": {
            "outlinewidth": 0,
            "ticks": ""
           }
          },
          "colorscale": {
           "diverging": [
            [
             0,
             "#8e0152"
            ],
            [
             0.1,
             "#c51b7d"
            ],
            [
             0.2,
             "#de77ae"
            ],
            [
             0.3,
             "#f1b6da"
            ],
            [
             0.4,
             "#fde0ef"
            ],
            [
             0.5,
             "#f7f7f7"
            ],
            [
             0.6,
             "#e6f5d0"
            ],
            [
             0.7,
             "#b8e186"
            ],
            [
             0.8,
             "#7fbc41"
            ],
            [
             0.9,
             "#4d9221"
            ],
            [
             1,
             "#276419"
            ]
           ],
           "sequential": [
            [
             0,
             "#0d0887"
            ],
            [
             0.1111111111111111,
             "#46039f"
            ],
            [
             0.2222222222222222,
             "#7201a8"
            ],
            [
             0.3333333333333333,
             "#9c179e"
            ],
            [
             0.4444444444444444,
             "#bd3786"
            ],
            [
             0.5555555555555556,
             "#d8576b"
            ],
            [
             0.6666666666666666,
             "#ed7953"
            ],
            [
             0.7777777777777778,
             "#fb9f3a"
            ],
            [
             0.8888888888888888,
             "#fdca26"
            ],
            [
             1,
             "#f0f921"
            ]
           ],
           "sequentialminus": [
            [
             0,
             "#0d0887"
            ],
            [
             0.1111111111111111,
             "#46039f"
            ],
            [
             0.2222222222222222,
             "#7201a8"
            ],
            [
             0.3333333333333333,
             "#9c179e"
            ],
            [
             0.4444444444444444,
             "#bd3786"
            ],
            [
             0.5555555555555556,
             "#d8576b"
            ],
            [
             0.6666666666666666,
             "#ed7953"
            ],
            [
             0.7777777777777778,
             "#fb9f3a"
            ],
            [
             0.8888888888888888,
             "#fdca26"
            ],
            [
             1,
             "#f0f921"
            ]
           ]
          },
          "colorway": [
           "#636efa",
           "#EF553B",
           "#00cc96",
           "#ab63fa",
           "#FFA15A",
           "#19d3f3",
           "#FF6692",
           "#B6E880",
           "#FF97FF",
           "#FECB52"
          ],
          "font": {
           "color": "#2a3f5f"
          },
          "geo": {
           "bgcolor": "white",
           "lakecolor": "white",
           "landcolor": "#E5ECF6",
           "showlakes": true,
           "showland": true,
           "subunitcolor": "white"
          },
          "hoverlabel": {
           "align": "left"
          },
          "hovermode": "closest",
          "mapbox": {
           "style": "light"
          },
          "paper_bgcolor": "white",
          "plot_bgcolor": "#E5ECF6",
          "polar": {
           "angularaxis": {
            "gridcolor": "white",
            "linecolor": "white",
            "ticks": ""
           },
           "bgcolor": "#E5ECF6",
           "radialaxis": {
            "gridcolor": "white",
            "linecolor": "white",
            "ticks": ""
           }
          },
          "scene": {
           "xaxis": {
            "backgroundcolor": "#E5ECF6",
            "gridcolor": "white",
            "gridwidth": 2,
            "linecolor": "white",
            "showbackground": true,
            "ticks": "",
            "zerolinecolor": "white"
           },
           "yaxis": {
            "backgroundcolor": "#E5ECF6",
            "gridcolor": "white",
            "gridwidth": 2,
            "linecolor": "white",
            "showbackground": true,
            "ticks": "",
            "zerolinecolor": "white"
           },
           "zaxis": {
            "backgroundcolor": "#E5ECF6",
            "gridcolor": "white",
            "gridwidth": 2,
            "linecolor": "white",
            "showbackground": true,
            "ticks": "",
            "zerolinecolor": "white"
           }
          },
          "shapedefaults": {
           "line": {
            "color": "#2a3f5f"
           }
          },
          "ternary": {
           "aaxis": {
            "gridcolor": "white",
            "linecolor": "white",
            "ticks": ""
           },
           "baxis": {
            "gridcolor": "white",
            "linecolor": "white",
            "ticks": ""
           },
           "bgcolor": "#E5ECF6",
           "caxis": {
            "gridcolor": "white",
            "linecolor": "white",
            "ticks": ""
           }
          },
          "title": {
           "x": 0.05
          },
          "xaxis": {
           "automargin": true,
           "gridcolor": "white",
           "linecolor": "white",
           "ticks": "",
           "title": {
            "standoff": 15
           },
           "zerolinecolor": "white",
           "zerolinewidth": 2
          },
          "yaxis": {
           "automargin": true,
           "gridcolor": "white",
           "linecolor": "white",
           "ticks": "",
           "title": {
            "standoff": 15
           },
           "zerolinecolor": "white",
           "zerolinewidth": 2
          }
         }
        },
        "width": 1000
       }
      },
      "image/png": "[encoded data removed]",
      "text/html": [
       "<div>                            <div id=\"27f40f43-4b52-4ce6-8ef5-648c676d2813\" class=\"plotly-graph-div\" style=\"height:1000px; width:1000px;\"></div>            <script type=\"text/javascript\">                require([\"plotly\"], function(Plotly) {                    window.PLOTLYENV=window.PLOTLYENV || {};                                    if (document.getElementById(\"27f40f43-4b52-4ce6-8ef5-648c676d2813\")) {                    Plotly.newPlot(                        \"27f40f43-4b52-4ce6-8ef5-648c676d2813\",                        [{\"branchvalues\":\"total\",\"customdata\":[[2.0],[1.0],[0.0],[2.0],[1.0],[1.0],[2.0],[6.0],[0.0],[0.0],[0.0],[1.0],[0.0],[0.0],[0.0],[0.0],[0.0],[0.0],[0.0],[3.0],[0.0],[2.0],[1.0],[0.0],[0.0],[3.0],[0.0],[0.0],[5.0],[2.0],[0.0],[0.0],[0.0],[1.0],[2.0],[0.0],[1.0],[1.0],[0.0],[0.0],[0.0],[0.0],[0.0],[0.0],[1.0],[0.0],[0.0],[0.0],[0.0],[0.0],[0.0],[4.0],[1.0],[0.0],[1.0],[1.0],[2.0],[0.0],[2.0],[0.0],[0.0],[0.0],[0.0],[1.0],[2.0],[0.0],[2.0],[0.41935483870967744],[1.462962962962963],[0.4074074074074074],[0.0],[0.0],[0.0],[1.1764705882352942],[1.8979591836734695],[0.0],[0.0],[4.7272727272727275],[0.0],[0.0],[2.0],[0.8947368421052632],[0.3225806451612903],[0.55],[0.0],[0.3333333333333333],[0.6923076923076923],[0.0],[0.5217391304347826],[1.0],[0.0],[2.48],[0.5789473684210527],[0.0],[3.048780487804878],[0.0],[1.1346153846153846],[0.14130434782608695],[0.5163398692810458],[2.041958041958042],[0.07407407407407407],[0.3142857142857143],[1.3063063063063063],[2.5728155339805827],[1.0095137420718816]],\"domain\":{\"x\":[0.0,1.0],\"y\":[0.0,1.0]},\"hovertemplate\":\"labels=%{label}<br>topic_size=%{value}<br>parent=%{parent}<extra></extra>\",\"ids\":[\"Topics Treemap/Progr\\u00e8s \\u00a6 | Intelligence humaine | Alan turing/Alan turing | Lee sedol | Programme informatique/Alan turing | Lee sedol | Programme informatique\",\"Topics Treemap/Reconnaissance faciale | Business angels | St\\u00e9phane richard/Ia microsoft | Achat m\\u00e9dia | Cloud public/Alenia space | Sophia antipolis | Monde acad\\u00e9mique\",\"Topics Treemap/S\\u00e9curit\\u00e9 routi\\u00e8re | R\\u00e9seau neuronal | Cerveau humain/Big data | Type r\\u00e9seau | Revue nature/Apprentissage automatique | Artificielle ia | Temps r\\u00e9el\",\"Topics Treemap/Exp\\u00e9rience client | Service client | Machine learning/Big data | Marketing digital | Data scientist/Apprentissage automatique | Entreprises fran\\u00e7aises | Opinion |\",\"Topics Treemap/S\\u00e9curit\\u00e9 routi\\u00e8re | R\\u00e9seau neuronal | Cerveau humain/Big data | Type r\\u00e9seau | Revue nature/Arbitrages tactiques | Balayage alternatif | Robotis\\u00e9 industriel\",\"Topics Treemap/\\u00c9thique ccne | Dossier m\\u00e9dical | Centre hospitalier/Noah harari | Homo deus | Yuval noah/Artificielle ia | Artificial intelligence | Universit\\u00e9 californienne\",\"Topics Treemap/Conseil municipal | Admission postbac | Inspection acad\\u00e9mique/Artificielle ia | Direction financi\\u00e8re | Progr\\u00e8s \\u00a6/Big data | Direction financi\\u00e8re | Machines intelligentes\",\"Topics Treemap/\\u00c9thique ccne | Dossier m\\u00e9dical | Centre hospitalier/Dossier m\\u00e9dical | Imagerie m\\u00e9dicale | Maire lr/Big data | Dossier m\\u00e9dical | Imagerie m\\u00e9dicale\",\"Topics Treemap/Conseil municipal | Admission postbac | Inspection acad\\u00e9mique/Grand public | Traditionnelle f\\u00eate | Vie quotidienne/Big data | E \\u00e9dition | Objet connect\\u00e9\",\"Topics Treemap/Strat\\u00e9gie nationale | Florence parly | C\\u00e9dric villani/Commission europ\\u00e9enne | Donn\\u00e9es personnelles | Parlement europ\\u00e9en/Big data | Think tank | Pouvoirs publics\",\"Topics Treemap/Reconnaissance faciale | Business angels | St\\u00e9phane richard/Business angels | M euros | Bnp paribas/Business angels | Big data | This article\",\"Topics Treemap/Progr\\u00e8s \\u00a6 | Intelligence humaine | Alan turing/Directeur g\\u00e9n\\u00e9ral | R\\u00e9volution technologique | Grande entreprise/Directeur g\\u00e9n\\u00e9ral | Derni\\u00e8res ann\\u00e9es | Course hippique\",\"Topics Treemap/Reconnaissance faciale | Business angels | St\\u00e9phane richard/Dollars milliards | Reconnaissance faciale | Cr\\u00e9dit social/Dollars milliards | Informatique quantique | Assistant virtuel\",\"Topics Treemap/Document contains | Assistant vocal | Google assistant/R\\u00e9seau social | Application mobile | Mcable analyse/Donald trump | Candidat id\\u00e9al | French tech\",\"Topics Treemap/Strat\\u00e9gie nationale | Florence parly | C\\u00e9dric villani/Commission europ\\u00e9enne | Donn\\u00e9es personnelles | Parlement europ\\u00e9en/Donn\\u00e9es personnelles | Commission europ\\u00e9enne | Reconnaissance faciale\",\"Topics Treemap/Exp\\u00e9rience client | Service client | Machine learning/Exp\\u00e9rience client | Transformation digitale | Service client/Exp\\u00e9rience client | Relation client | Transformation digitale\",\"Topics Treemap/Strat\\u00e9gie nationale | Florence parly | C\\u00e9dric villani/Florence parly | Arm\\u00e9es florence | Informatique quantique/Florence parly | Arm\\u00e9es florence | Pierre lemaitre\",\"Topics Treemap/Document contains | Assistant vocal | Google assistant/Conf\\u00e9rence annuelle | Google assistant | Position dominante/Google assistant | Conf\\u00e9rence annuelle | Nouvel assistant\",\"Topics Treemap/Document contains | Assistant vocal | Google assistant/Document contains | Er mondial | Assembl\\u00e9e g\\u00e9n\\u00e9rale/Grand public | Er mondial | Document contains\",\"Topics Treemap/\\u00c9thique ccne | Dossier m\\u00e9dical | Centre hospitalier/Grand public | Objet connect\\u00e9 | Novembre h/Grand public | Intelligence artificielle | Progr\\u00e8s \\u00a6\",\"Topics Treemap/Strat\\u00e9gie nationale | Florence parly | C\\u00e9dric villani/Florence parly | Arm\\u00e9es florence | Informatique quantique/Haute performance | Informatique quantique | Calcul intensif\",\"Topics Treemap/Conseil municipal | Admission postbac | Inspection acad\\u00e9mique/Directeur acad\\u00e9mique | Inspection acad\\u00e9mique | \\u00c9ducation nationale/Inspection acad\\u00e9mique | \\u00c9ducation nationale | Directeur acad\\u00e9mique\",\"Topics Treemap/Strat\\u00e9gie nationale | Florence parly | C\\u00e9dric villani/Institut national | Commission nationale | Jeunes pousses/Institut national | Artificielle ia | Commission nationale\",\"Topics Treemap/Conseil municipal | Admission postbac | Inspection acad\\u00e9mique/Directeur acad\\u00e9mique | Inspection acad\\u00e9mique | \\u00c9ducation nationale/Intelligence artificielle | Classe c | Risques moyens\",\"Topics Treemap/S\\u00e9curit\\u00e9 routi\\u00e8re | R\\u00e9seau neuronal | Cerveau humain/Open source | Vid\\u00e9os musicales | R\\u00e9seau \\u00e9lectrique/Intelligence artificielle | Deep learning | This article\",\"Topics Treemap/Progr\\u00e8s \\u00a6 | Intelligence humaine | Alan turing/Directeur g\\u00e9n\\u00e9ral | R\\u00e9volution technologique | Grande entreprise/Jeu vid\\u00e9o | Consommation \\u00e9nerg\\u00e9tique | Objet connect\\u00e9\",\"Topics Treemap/Strat\\u00e9gie nationale | Florence parly | C\\u00e9dric villani/Institut national | Commission nationale | Jeunes pousses/Jeunes pousses | Parc naturel | Soci\\u00e9t\\u00e9 soeur\",\"Topics Treemap/Exp\\u00e9rience client | Service client | Machine learning/Las vegas | Jeunes pousses | Start up/Las vegas | Objet connect\\u00e9 | Grand public\",\"Topics Treemap/S\\u00e9curit\\u00e9 routi\\u00e8re | R\\u00e9seau neuronal | Cerveau humain/Voiture autonome | Intelligence artificielle | Las vegas/Las vegas | V\\u00e9hicule autonome | Machine learning\",\"Topics Treemap/Conseil municipal | Admission postbac | Inspection acad\\u00e9mique/Artificielle ia | Direction financi\\u00e8re | Progr\\u00e8s \\u00a6/Laurent alexandre | Artificielle ia | Batx chinois\",\"Topics Treemap/Exp\\u00e9rience client | Service client | Machine learning/Analyse vid\\u00e9o | Responsables politiques | Monnaie \\u00e9lectronique/Machine learning | Derni\\u00e8res ann\\u00e9es | Nouvelle forme\",\"Topics Treemap/Reconnaissance faciale | Business angels | St\\u00e9phane richard/Ia microsoft | Achat m\\u00e9dia | Cloud public/Machine learning | Ia microsoft | Services financiers\",\"Topics Treemap/Strat\\u00e9gie nationale | Florence parly | C\\u00e9dric villani/Strat\\u00e9gie nationale | C\\u00e9dric villani | Rapport villani/Mardi mars | Artificielle ia | Syndicats majoritaires\",\"Topics Treemap/Progr\\u00e8s \\u00a6 | Intelligence humaine | Alan turing/Petit robot | Moyenne nationale | Radars laser/Moyenne nationale | Petit robot | Mesure m\",\"Topics Treemap/\\u00c9thique ccne | Dossier m\\u00e9dical | Centre hospitalier/Dossier m\\u00e9dical | Imagerie m\\u00e9dicale | Maire lr/Nouvelle \\u00e9tude | Quarantetrois pi\\u00e8ges | Biopsie pr\\u00e9l\\u00e8vement\",\"Topics Treemap/Document contains | Assistant vocal | Google assistant/Conf\\u00e9rence annuelle | Google assistant | Position dominante/Nouvelles fonctionnalit\\u00e9s | Nouvelle technologie | Millions utilisateurs\",\"Topics Treemap/\\u00c9thique ccne | Dossier m\\u00e9dical | Centre hospitalier/Grand public | Objet connect\\u00e9 | Novembre h/Objet connect\\u00e9 | Novembre h | Startup fran\\u00e7aise\",\"Topics Treemap/Conseil municipal | Admission postbac | Inspection acad\\u00e9mique/Page c | Public algorithme | Propri\\u00e9t\\u00e9 intellectuelle/Page c | Enseignement sup\\u00e9rieur | Admission postbac\",\"Topics Treemap/Exp\\u00e9rience client | Service client | Machine learning/Las vegas | Jeunes pousses | Start up/Personnalit\\u00e9s audiovisuelles | Guide tv | Octobre dernier\",\"Topics Treemap/Progr\\u00e8s \\u00a6 | Intelligence humaine | Alan turing/Steven spielberg | Caf\\u00e9 philo | Artificielle film/Progr\\u00e8s \\u00a6 | Artificielle ia | Intelligence humaine\",\"Topics Treemap/Conseil municipal | Admission postbac | Inspection acad\\u00e9mique/Page c | Public algorithme | Propri\\u00e9t\\u00e9 intellectuelle/Propri\\u00e9t\\u00e9 intellectuelle | Salle ren\\u00e9cassin | Public algorithme\",\"Topics Treemap/Reconnaissance faciale | Business angels | St\\u00e9phane richard/Business angels | M euros | Bnp paribas/Publicit\\u00e9 arpp | R\\u00e9gulation professionnelle | Traitement automatique\",\"Topics Treemap/Reconnaissance faciale | Business angels | St\\u00e9phane richard/Dollars milliards | Reconnaissance faciale | Cr\\u00e9dit social/Reconnaissance faciale | Cr\\u00e9dit social | Russes gr\\u00e2ce\",\"Topics Treemap/Exp\\u00e9rience client | Service client | Machine learning/Exp\\u00e9rience client | Transformation digitale | Service client/Retail's | S big | Big show\",\"Topics Treemap/S\\u00e9curit\\u00e9 routi\\u00e8re | R\\u00e9seau neuronal | Cerveau humain/Mark zuckerberg | Robots tueurs | Facebook mark/Robots tueurs | Propre puce | Prix turing\",\"Topics Treemap/S\\u00e9curit\\u00e9 routi\\u00e8re | R\\u00e9seau neuronal | Cerveau humain/Voiture autonome | Intelligence artificielle | Las vegas/R\\u00e9seau neuronal | Reconnaissance faciale | Marquages color\\u00e9s\",\"Topics Treemap/S\\u00e9curit\\u00e9 routi\\u00e8re | R\\u00e9seau neuronal | Cerveau humain/Mark zuckerberg | Robots tueurs | Facebook mark/R\\u00e9seau social | Mark zuckerberg | This article\",\"Topics Treemap/Document contains | Assistant vocal | Google assistant/R\\u00e9seau social | Application mobile | Mcable analyse/R\\u00e9seau social | Temps r\\u00e9el | This article\",\"Topics Treemap/\\u00c9thique ccne | Dossier m\\u00e9dical | Centre hospitalier/\\u00c9thique ccne | \\u00c9tats g\\u00e9n\\u00e9raux | Consultatif national/Service public | Artistiques ouvretelle | Ancien directeur\",\"Topics Treemap/S\\u00e9curit\\u00e9 routi\\u00e8re | R\\u00e9seau neuronal | Cerveau humain/Open source | Vid\\u00e9os musicales | R\\u00e9seau \\u00e9lectrique/Soci\\u00e9t\\u00e9 am\\u00e9ricaine | Application chinoise | Groupe chinois\",\"Topics Treemap/Exp\\u00e9rience client | Service client | Machine learning/Analyse vid\\u00e9o | Responsables politiques | Monnaie \\u00e9lectronique/Sourire difficile | Temps r\\u00e9el | Wall street\",\"Topics Treemap/Progr\\u00e8s \\u00a6 | Intelligence humaine | Alan turing/Steven spielberg | Caf\\u00e9 philo | Artificielle film/Steven spielberg | Artificielle film | Stanley kubrick\",\"Topics Treemap/Strat\\u00e9gie nationale | Florence parly | C\\u00e9dric villani/Strat\\u00e9gie nationale | C\\u00e9dric villani | Rapport villani/Strat\\u00e9gie nationale | Deep tech | D\\u00e9put\\u00e9 lrem\",\"Topics Treemap/Reconnaissance faciale | Business angels | St\\u00e9phane richard/St\\u00e9phane richard | Plan strat\\u00e9gique | Pdg st\\u00e9phane/St\\u00e9phane richard | Partenariat strat\\u00e9gique | Pdg st\\u00e9phane\",\"Topics Treemap/Document contains | Assistant vocal | Google assistant/Assistant vocal | Vocal alexa | Objet connect\\u00e9/This article | Cyberd\\u00e9fense statue | \\u00c9tablissements financiers\",\"Topics Treemap/Exp\\u00e9rience client | Service client | Machine learning/Big data | Marketing digital | Data scientist/This article | Marketing digital | Site web\",\"Topics Treemap/Conseil municipal | Admission postbac | Inspection acad\\u00e9mique/Grand public | Traditionnelle f\\u00eate | Vie quotidienne/This article | Vie quotidienne | Agence r\\u00e9gionale\",\"Topics Treemap/Reconnaissance faciale | Business angels | St\\u00e9phane richard/St\\u00e9phane richard | Plan strat\\u00e9gique | Pdg st\\u00e9phane/Transformation digitale | This article | Site web\",\"Topics Treemap/Progr\\u00e8s \\u00a6 | Intelligence humaine | Alan turing/Alan turing | Lee sedol | Programme informatique/Villeneuved'ascq | Intelligence humaine | Cerveau cognition\",\"Topics Treemap/Document contains | Assistant vocal | Google assistant/Assistant vocal | Vocal alexa | Objet connect\\u00e9/Vocal alexa | Produit \\u00e9l\\u00e9gant | March\\u00e9 asiatique\",\"Topics Treemap/\\u00c9thique ccne | Dossier m\\u00e9dical | Centre hospitalier/Noah harari | Homo deus | Yuval noah/Yuval noah | Homo deus | Noah harari\",\"Topics Treemap/Document contains | Assistant vocal | Google assistant/Document contains | Er mondial | Assembl\\u00e9e g\\u00e9n\\u00e9rale/\\u00c9cole polytechnique | Union europ\\u00e9enne | Bnp paribas\",\"Topics Treemap/\\u00c9thique ccne | Dossier m\\u00e9dical | Centre hospitalier/\\u00c9thique ccne | \\u00c9tats g\\u00e9n\\u00e9raux | Consultatif national/\\u00c9thique ccne | Consultatif national | \\u00c9tats g\\u00e9n\\u00e9raux\",\"Topics Treemap/Progr\\u00e8s \\u00a6 | Intelligence humaine | Alan turing/Petit robot | Moyenne nationale | Radars laser/\\u00catres humains | Objet connect\\u00e9 | Meilleur ami\",\"Topics Treemap/Progr\\u00e8s \\u00a6 | Intelligence humaine | Alan turing/Alan turing | Lee sedol | Programme informatique\",\"Topics Treemap/Exp\\u00e9rience client | Service client | Machine learning/Analyse vid\\u00e9o | Responsables politiques | Monnaie \\u00e9lectronique\",\"Topics Treemap/Conseil municipal | Admission postbac | Inspection acad\\u00e9mique/Artificielle ia | Direction financi\\u00e8re | Progr\\u00e8s \\u00a6\",\"Topics Treemap/Document contains | Assistant vocal | Google assistant/Assistant vocal | Vocal alexa | Objet connect\\u00e9\",\"Topics Treemap/Exp\\u00e9rience client | Service client | Machine learning/Big data | Marketing digital | Data scientist\",\"Topics Treemap/S\\u00e9curit\\u00e9 routi\\u00e8re | R\\u00e9seau neuronal | Cerveau humain/Big data | Type r\\u00e9seau | Revue nature\",\"Topics Treemap/Reconnaissance faciale | Business angels | St\\u00e9phane richard/Business angels | M euros | Bnp paribas\",\"Topics Treemap/Strat\\u00e9gie nationale | Florence parly | C\\u00e9dric villani/Commission europ\\u00e9enne | Donn\\u00e9es personnelles | Parlement europ\\u00e9en\",\"Topics Treemap/Document contains | Assistant vocal | Google assistant/Conf\\u00e9rence annuelle | Google assistant | Position dominante\",\"Topics Treemap/Conseil municipal | Admission postbac | Inspection acad\\u00e9mique/Directeur acad\\u00e9mique | Inspection acad\\u00e9mique | \\u00c9ducation nationale\",\"Topics Treemap/Progr\\u00e8s \\u00a6 | Intelligence humaine | Alan turing/Directeur g\\u00e9n\\u00e9ral | R\\u00e9volution technologique | Grande entreprise\",\"Topics Treemap/Document contains | Assistant vocal | Google assistant/Document contains | Er mondial | Assembl\\u00e9e g\\u00e9n\\u00e9rale\",\"Topics Treemap/Reconnaissance faciale | Business angels | St\\u00e9phane richard/Dollars milliards | Reconnaissance faciale | Cr\\u00e9dit social\",\"Topics Treemap/\\u00c9thique ccne | Dossier m\\u00e9dical | Centre hospitalier/Dossier m\\u00e9dical | Imagerie m\\u00e9dicale | Maire lr\",\"Topics Treemap/Exp\\u00e9rience client | Service client | Machine learning/Exp\\u00e9rience client | Transformation digitale | Service client\",\"Topics Treemap/Strat\\u00e9gie nationale | Florence parly | C\\u00e9dric villani/Florence parly | Arm\\u00e9es florence | Informatique quantique\",\"Topics Treemap/\\u00c9thique ccne | Dossier m\\u00e9dical | Centre hospitalier/Grand public | Objet connect\\u00e9 | Novembre h\",\"Topics Treemap/Conseil municipal | Admission postbac | Inspection acad\\u00e9mique/Grand public | Traditionnelle f\\u00eate | Vie quotidienne\",\"Topics Treemap/Reconnaissance faciale | Business angels | St\\u00e9phane richard/Ia microsoft | Achat m\\u00e9dia | Cloud public\",\"Topics Treemap/Strat\\u00e9gie nationale | Florence parly | C\\u00e9dric villani/Institut national | Commission nationale | Jeunes pousses\",\"Topics Treemap/Exp\\u00e9rience client | Service client | Machine learning/Las vegas | Jeunes pousses | Start up\",\"Topics Treemap/S\\u00e9curit\\u00e9 routi\\u00e8re | R\\u00e9seau neuronal | Cerveau humain/Mark zuckerberg | Robots tueurs | Facebook mark\",\"Topics Treemap/\\u00c9thique ccne | Dossier m\\u00e9dical | Centre hospitalier/Noah harari | Homo deus | Yuval noah\",\"Topics Treemap/S\\u00e9curit\\u00e9 routi\\u00e8re | R\\u00e9seau neuronal | Cerveau humain/Open source | Vid\\u00e9os musicales | R\\u00e9seau \\u00e9lectrique\",\"Topics Treemap/Conseil municipal | Admission postbac | Inspection acad\\u00e9mique/Page c | Public algorithme | Propri\\u00e9t\\u00e9 intellectuelle\",\"Topics Treemap/Progr\\u00e8s \\u00a6 | Intelligence humaine | Alan turing/Petit robot | Moyenne nationale | Radars laser\",\"Topics Treemap/Document contains | Assistant vocal | Google assistant/R\\u00e9seau social | Application mobile | Mcable analyse\",\"Topics Treemap/Progr\\u00e8s \\u00a6 | Intelligence humaine | Alan turing/Steven spielberg | Caf\\u00e9 philo | Artificielle film\",\"Topics Treemap/Strat\\u00e9gie nationale | Florence parly | C\\u00e9dric villani/Strat\\u00e9gie nationale | C\\u00e9dric villani | Rapport villani\",\"Topics Treemap/Reconnaissance faciale | Business angels | St\\u00e9phane richard/St\\u00e9phane richard | Plan strat\\u00e9gique | Pdg st\\u00e9phane\",\"Topics Treemap/S\\u00e9curit\\u00e9 routi\\u00e8re | R\\u00e9seau neuronal | Cerveau humain/Voiture autonome | Intelligence artificielle | Las vegas\",\"Topics Treemap/\\u00c9thique ccne | Dossier m\\u00e9dical | Centre hospitalier/\\u00c9thique ccne | \\u00c9tats g\\u00e9n\\u00e9raux | Consultatif national\",\"Topics Treemap/Conseil municipal | Admission postbac | Inspection acad\\u00e9mique\",\"Topics Treemap/Document contains | Assistant vocal | Google assistant\",\"Topics Treemap/Exp\\u00e9rience client | Service client | Machine learning\",\"Topics Treemap/Progr\\u00e8s \\u00a6 | Intelligence humaine | Alan turing\",\"Topics Treemap/Reconnaissance faciale | Business angels | St\\u00e9phane richard\",\"Topics Treemap/Strat\\u00e9gie nationale | Florence parly | C\\u00e9dric villani\",\"Topics Treemap/S\\u00e9curit\\u00e9 routi\\u00e8re | R\\u00e9seau neuronal | Cerveau humain\",\"Topics Treemap/\\u00c9thique ccne | Dossier m\\u00e9dical | Centre hospitalier\",\"Topics Treemap\"],\"labels\":[\"Alan turing | Lee sedol | Programme informatique\",\"Alenia space | Sophia antipolis | Monde acad\\u00e9mique\",\"Apprentissage automatique | Artificielle ia | Temps r\\u00e9el\",\"Apprentissage automatique | Entreprises fran\\u00e7aises | Opinion |\",\"Arbitrages tactiques | Balayage alternatif | Robotis\\u00e9 industriel\",\"Artificielle ia | Artificial intelligence | Universit\\u00e9 californienne\",\"Big data | Direction financi\\u00e8re | Machines intelligentes\",\"Big data | Dossier m\\u00e9dical | Imagerie m\\u00e9dicale\",\"Big data | E \\u00e9dition | Objet connect\\u00e9\",\"Big data | Think tank | Pouvoirs publics\",\"Business angels | Big data | This article\",\"Directeur g\\u00e9n\\u00e9ral | Derni\\u00e8res ann\\u00e9es | Course hippique\",\"Dollars milliards | Informatique quantique | Assistant virtuel\",\"Donald trump | Candidat id\\u00e9al | French tech\",\"Donn\\u00e9es personnelles | Commission europ\\u00e9enne | Reconnaissance faciale\",\"Exp\\u00e9rience client | Relation client | Transformation digitale\",\"Florence parly | Arm\\u00e9es florence | Pierre lemaitre\",\"Google assistant | Conf\\u00e9rence annuelle | Nouvel assistant\",\"Grand public | Er mondial | Document contains\",\"Grand public | Intelligence artificielle | Progr\\u00e8s \\u00a6\",\"Haute performance | Informatique quantique | Calcul intensif\",\"Inspection acad\\u00e9mique | \\u00c9ducation nationale | Directeur acad\\u00e9mique\",\"Institut national | Artificielle ia | Commission nationale\",\"Intelligence artificielle | Classe c | Risques moyens\",\"Intelligence artificielle | Deep learning | This article\",\"Jeu vid\\u00e9o | Consommation \\u00e9nerg\\u00e9tique | Objet connect\\u00e9\",\"Jeunes pousses | Parc naturel | Soci\\u00e9t\\u00e9 soeur\",\"Las vegas | Objet connect\\u00e9 | Grand public\",\"Las vegas | V\\u00e9hicule autonome | Machine learning\",\"Laurent alexandre | Artificielle ia | Batx chinois\",\"Machine learning | Derni\\u00e8res ann\\u00e9es | Nouvelle forme\",\"Machine learning | Ia microsoft | Services financiers\",\"Mardi mars | Artificielle ia | Syndicats majoritaires\",\"Moyenne nationale | Petit robot | Mesure m\",\"Nouvelle \\u00e9tude | Quarantetrois pi\\u00e8ges | Biopsie pr\\u00e9l\\u00e8vement\",\"Nouvelles fonctionnalit\\u00e9s | Nouvelle technologie | Millions utilisateurs\",\"Objet connect\\u00e9 | Novembre h | Startup fran\\u00e7aise\",\"Page c | Enseignement sup\\u00e9rieur | Admission postbac\",\"Personnalit\\u00e9s audiovisuelles | Guide tv | Octobre dernier\",\"Progr\\u00e8s \\u00a6 | Artificielle ia | Intelligence humaine\",\"Propri\\u00e9t\\u00e9 intellectuelle | Salle ren\\u00e9cassin | Public algorithme\",\"Publicit\\u00e9 arpp | R\\u00e9gulation professionnelle | Traitement automatique\",\"Reconnaissance faciale | Cr\\u00e9dit social | Russes gr\\u00e2ce\",\"Retail's | S big | Big show\",\"Robots tueurs | Propre puce | Prix turing\",\"R\\u00e9seau neuronal | Reconnaissance faciale | Marquages color\\u00e9s\",\"R\\u00e9seau social | Mark zuckerberg | This article\",\"R\\u00e9seau social | Temps r\\u00e9el | This article\",\"Service public | Artistiques ouvretelle | Ancien directeur\",\"Soci\\u00e9t\\u00e9 am\\u00e9ricaine | Application chinoise | Groupe chinois\",\"Sourire difficile | Temps r\\u00e9el | Wall street\",\"Steven spielberg | Artificielle film | Stanley kubrick\",\"Strat\\u00e9gie nationale | Deep tech | D\\u00e9put\\u00e9 lrem\",\"St\\u00e9phane richard | Partenariat strat\\u00e9gique | Pdg st\\u00e9phane\",\"This article | Cyberd\\u00e9fense statue | \\u00c9tablissements financiers\",\"This article | Marketing digital | Site web\",\"This article | Vie quotidienne | Agence r\\u00e9gionale\",\"Transformation digitale | This article | Site web\",\"Villeneuved'ascq | Intelligence humaine | Cerveau cognition\",\"Vocal alexa | Produit \\u00e9l\\u00e9gant | March\\u00e9 asiatique\",\"Yuval noah | Homo deus | Noah harari\",\"\\u00c9cole polytechnique | Union europ\\u00e9enne | Bnp paribas\",\"\\u00c9thique ccne | Consultatif national | \\u00c9tats g\\u00e9n\\u00e9raux\",\"\\u00catres humains | Objet connect\\u00e9 | Meilleur ami\",\"Alan turing | Lee sedol | Programme informatique\",\"Analyse vid\\u00e9o | Responsables politiques | Monnaie \\u00e9lectronique\",\"Artificielle ia | Direction financi\\u00e8re | Progr\\u00e8s \\u00a6\",\"Assistant vocal | Vocal alexa | Objet connect\\u00e9\",\"Big data | Marketing digital | Data scientist\",\"Big data | Type r\\u00e9seau | Revue nature\",\"Business angels | M euros | Bnp paribas\",\"Commission europ\\u00e9enne | Donn\\u00e9es personnelles | Parlement europ\\u00e9en\",\"Conf\\u00e9rence annuelle | Google assistant | Position dominante\",\"Directeur acad\\u00e9mique | Inspection acad\\u00e9mique | \\u00c9ducation nationale\",\"Directeur g\\u00e9n\\u00e9ral | R\\u00e9volution technologique | Grande entreprise\",\"Document contains | Er mondial | Assembl\\u00e9e g\\u00e9n\\u00e9rale\",\"Dollars milliards | Reconnaissance faciale | Cr\\u00e9dit social\",\"Dossier m\\u00e9dical | Imagerie m\\u00e9dicale | Maire lr\",\"Exp\\u00e9rience client | Transformation digitale | Service client\",\"Florence parly | Arm\\u00e9es florence | Informatique quantique\",\"Grand public | Objet connect\\u00e9 | Novembre h\",\"Grand public | Traditionnelle f\\u00eate | Vie quotidienne\",\"Ia microsoft | Achat m\\u00e9dia | Cloud public\",\"Institut national | Commission nationale | Jeunes pousses\",\"Las vegas | Jeunes pousses | Start up\",\"Mark zuckerberg | Robots tueurs | Facebook mark\",\"Noah harari | Homo deus | Yuval noah\",\"Open source | Vid\\u00e9os musicales | R\\u00e9seau \\u00e9lectrique\",\"Page c | Public algorithme | Propri\\u00e9t\\u00e9 intellectuelle\",\"Petit robot | Moyenne nationale | Radars laser\",\"R\\u00e9seau social | Application mobile | Mcable analyse\",\"Steven spielberg | Caf\\u00e9 philo | Artificielle film\",\"Strat\\u00e9gie nationale | C\\u00e9dric villani | Rapport villani\",\"St\\u00e9phane richard | Plan strat\\u00e9gique | Pdg st\\u00e9phane\",\"Voiture autonome | Intelligence artificielle | Las vegas\",\"\\u00c9thique ccne | \\u00c9tats g\\u00e9n\\u00e9raux | Consultatif national\",\"Conseil municipal | Admission postbac | Inspection acad\\u00e9mique\",\"Document contains | Assistant vocal | Google assistant\",\"Exp\\u00e9rience client | Service client | Machine learning\",\"Progr\\u00e8s \\u00a6 | Intelligence humaine | Alan turing\",\"Reconnaissance faciale | Business angels | St\\u00e9phane richard\",\"Strat\\u00e9gie nationale | Florence parly | C\\u00e9dric villani\",\"S\\u00e9curit\\u00e9 routi\\u00e8re | R\\u00e9seau neuronal | Cerveau humain\",\"\\u00c9thique ccne | Dossier m\\u00e9dical | Centre hospitalier\",\"Topics Treemap\"],\"marker\":{\"coloraxis\":\"coloraxis\",\"colors\":[2.0,1.0,0.0,2.0,1.0,1.0,2.0,6.0,0.0,0.0,0.0,1.0,0.0,0.0,0.0,0.0,0.0,0.0,0.0,3.0,0.0,2.0,1.0,0.0,0.0,3.0,0.0,0.0,5.0,2.0,0.0,0.0,0.0,1.0,2.0,0.0,1.0,1.0,0.0,0.0,0.0,0.0,0.0,0.0,1.0,0.0,0.0,0.0,0.0,0.0,0.0,4.0,1.0,0.0,1.0,1.0,2.0,0.0,2.0,0.0,0.0,0.0,0.0,1.0,2.0,0.0,2.0,0.41935483870967744,1.462962962962963,0.4074074074074074,0.0,0.0,0.0,1.1764705882352942,1.8979591836734695,0.0,0.0,4.7272727272727275,0.0,0.0,2.0,0.8947368421052632,0.3225806451612903,0.55,0.0,0.3333333333333333,0.6923076923076923,0.0,0.5217391304347826,1.0,0.0,2.48,0.5789473684210527,0.0,3.048780487804878,0.0,1.1346153846153846,0.14130434782608695,0.5163398692810458,2.041958041958042,0.07407407407407407,0.3142857142857143,1.3063063063063063,2.5728155339805827,1.0095137420718816]},\"name\":\"\",\"parents\":[\"Topics Treemap/Progr\\u00e8s \\u00a6 | Intelligence humaine | Alan turing/Alan turing | Lee sedol | Programme informatique\",\"Topics Treemap/Reconnaissance faciale | Business angels | St\\u00e9phane richard/Ia microsoft | Achat m\\u00e9dia | Cloud public\",\"Topics Treemap/S\\u00e9curit\\u00e9 routi\\u00e8re | R\\u00e9seau neuronal | Cerveau humain/Big data | Type r\\u00e9seau | Revue nature\",\"Topics Treemap/Exp\\u00e9rience client | Service client | Machine learning/Big data | Marketing digital | Data scientist\",\"Topics Treemap/S\\u00e9curit\\u00e9 routi\\u00e8re | R\\u00e9seau neuronal | Cerveau humain/Big data | Type r\\u00e9seau | Revue nature\",\"Topics Treemap/\\u00c9thique ccne | Dossier m\\u00e9dical | Centre hospitalier/Noah harari | Homo deus | Yuval noah\",\"Topics Treemap/Conseil municipal | Admission postbac | Inspection acad\\u00e9mique/Artificielle ia | Direction financi\\u00e8re | Progr\\u00e8s \\u00a6\",\"Topics Treemap/\\u00c9thique ccne | Dossier m\\u00e9dical | Centre hospitalier/Dossier m\\u00e9dical | Imagerie m\\u00e9dicale | Maire lr\",\"Topics Treemap/Conseil municipal | Admission postbac | Inspection acad\\u00e9mique/Grand public | Traditionnelle f\\u00eate | Vie quotidienne\",\"Topics Treemap/Strat\\u00e9gie nationale | Florence parly | C\\u00e9dric villani/Commission europ\\u00e9enne | Donn\\u00e9es personnelles | Parlement europ\\u00e9en\",\"Topics Treemap/Reconnaissance faciale | Business angels | St\\u00e9phane richard/Business angels | M euros | Bnp paribas\",\"Topics Treemap/Progr\\u00e8s \\u00a6 | Intelligence humaine | Alan turing/Directeur g\\u00e9n\\u00e9ral | R\\u00e9volution technologique | Grande entreprise\",\"Topics Treemap/Reconnaissance faciale | Business angels | St\\u00e9phane richard/Dollars milliards | Reconnaissance faciale | Cr\\u00e9dit social\",\"Topics Treemap/Document contains | Assistant vocal | Google assistant/R\\u00e9seau social | Application mobile | Mcable analyse\",\"Topics Treemap/Strat\\u00e9gie nationale | Florence parly | C\\u00e9dric villani/Commission europ\\u00e9enne | Donn\\u00e9es personnelles | Parlement europ\\u00e9en\",\"Topics Treemap/Exp\\u00e9rience client | Service client | Machine learning/Exp\\u00e9rience client | Transformation digitale | Service client\",\"Topics Treemap/Strat\\u00e9gie nationale | Florence parly | C\\u00e9dric villani/Florence parly | Arm\\u00e9es florence | Informatique quantique\",\"Topics Treemap/Document contains | Assistant vocal | Google assistant/Conf\\u00e9rence annuelle | Google assistant | Position dominante\",\"Topics Treemap/Document contains | Assistant vocal | Google assistant/Document contains | Er mondial | Assembl\\u00e9e g\\u00e9n\\u00e9rale\",\"Topics Treemap/\\u00c9thique ccne | Dossier m\\u00e9dical | Centre hospitalier/Grand public | Objet connect\\u00e9 | Novembre h\",\"Topics Treemap/Strat\\u00e9gie nationale | Florence parly | C\\u00e9dric villani/Florence parly | Arm\\u00e9es florence | Informatique quantique\",\"Topics Treemap/Conseil municipal | Admission postbac | Inspection acad\\u00e9mique/Directeur acad\\u00e9mique | Inspection acad\\u00e9mique | \\u00c9ducation nationale\",\"Topics Treemap/Strat\\u00e9gie nationale | Florence parly | C\\u00e9dric villani/Institut national | Commission nationale | Jeunes pousses\",\"Topics Treemap/Conseil municipal | Admission postbac | Inspection acad\\u00e9mique/Directeur acad\\u00e9mique | Inspection acad\\u00e9mique | \\u00c9ducation nationale\",\"Topics Treemap/S\\u00e9curit\\u00e9 routi\\u00e8re | R\\u00e9seau neuronal | Cerveau humain/Open source | Vid\\u00e9os musicales | R\\u00e9seau \\u00e9lectrique\",\"Topics Treemap/Progr\\u00e8s \\u00a6 | Intelligence humaine | Alan turing/Directeur g\\u00e9n\\u00e9ral | R\\u00e9volution technologique | Grande entreprise\",\"Topics Treemap/Strat\\u00e9gie nationale | Florence parly | C\\u00e9dric villani/Institut national | Commission nationale | Jeunes pousses\",\"Topics Treemap/Exp\\u00e9rience client | Service client | Machine learning/Las vegas | Jeunes pousses | Start up\",\"Topics Treemap/S\\u00e9curit\\u00e9 routi\\u00e8re | R\\u00e9seau neuronal | Cerveau humain/Voiture autonome | Intelligence artificielle | Las vegas\",\"Topics Treemap/Conseil municipal | Admission postbac | Inspection acad\\u00e9mique/Artificielle ia | Direction financi\\u00e8re | Progr\\u00e8s \\u00a6\",\"Topics Treemap/Exp\\u00e9rience client | Service client | Machine learning/Analyse vid\\u00e9o | Responsables politiques | Monnaie \\u00e9lectronique\",\"Topics Treemap/Reconnaissance faciale | Business angels | St\\u00e9phane richard/Ia microsoft | Achat m\\u00e9dia | Cloud public\",\"Topics Treemap/Strat\\u00e9gie nationale | Florence parly | C\\u00e9dric villani/Strat\\u00e9gie nationale | C\\u00e9dric villani | Rapport villani\",\"Topics Treemap/Progr\\u00e8s \\u00a6 | Intelligence humaine | Alan turing/Petit robot | Moyenne nationale | Radars laser\",\"Topics Treemap/\\u00c9thique ccne | Dossier m\\u00e9dical | Centre hospitalier/Dossier m\\u00e9dical | Imagerie m\\u00e9dicale | Maire lr\",\"Topics Treemap/Document contains | Assistant vocal | Google assistant/Conf\\u00e9rence annuelle | Google assistant | Position dominante\",\"Topics Treemap/\\u00c9thique ccne | Dossier m\\u00e9dical | Centre hospitalier/Grand public | Objet connect\\u00e9 | Novembre h\",\"Topics Treemap/Conseil municipal | Admission postbac | Inspection acad\\u00e9mique/Page c | Public algorithme | Propri\\u00e9t\\u00e9 intellectuelle\",\"Topics Treemap/Exp\\u00e9rience client | Service client | Machine learning/Las vegas | Jeunes pousses | Start up\",\"Topics Treemap/Progr\\u00e8s \\u00a6 | Intelligence humaine | Alan turing/Steven spielberg | Caf\\u00e9 philo | Artificielle film\",\"Topics Treemap/Conseil municipal | Admission postbac | Inspection acad\\u00e9mique/Page c | Public algorithme | Propri\\u00e9t\\u00e9 intellectuelle\",\"Topics Treemap/Reconnaissance faciale | Business angels | St\\u00e9phane richard/Business angels | M euros | Bnp paribas\",\"Topics Treemap/Reconnaissance faciale | Business angels | St\\u00e9phane richard/Dollars milliards | Reconnaissance faciale | Cr\\u00e9dit social\",\"Topics Treemap/Exp\\u00e9rience client | Service client | Machine learning/Exp\\u00e9rience client | Transformation digitale | Service client\",\"Topics Treemap/S\\u00e9curit\\u00e9 routi\\u00e8re | R\\u00e9seau neuronal | Cerveau humain/Mark zuckerberg | Robots tueurs | Facebook mark\",\"Topics Treemap/S\\u00e9curit\\u00e9 routi\\u00e8re | R\\u00e9seau neuronal | Cerveau humain/Voiture autonome | Intelligence artificielle | Las vegas\",\"Topics Treemap/S\\u00e9curit\\u00e9 routi\\u00e8re | R\\u00e9seau neuronal | Cerveau humain/Mark zuckerberg | Robots tueurs | Facebook mark\",\"Topics Treemap/Document contains | Assistant vocal | Google assistant/R\\u00e9seau social | Application mobile | Mcable analyse\",\"Topics Treemap/\\u00c9thique ccne | Dossier m\\u00e9dical | Centre hospitalier/\\u00c9thique ccne | \\u00c9tats g\\u00e9n\\u00e9raux | Consultatif national\",\"Topics Treemap/S\\u00e9curit\\u00e9 routi\\u00e8re | R\\u00e9seau neuronal | Cerveau humain/Open source | Vid\\u00e9os musicales | R\\u00e9seau \\u00e9lectrique\",\"Topics Treemap/Exp\\u00e9rience client | Service client | Machine learning/Analyse vid\\u00e9o | Responsables politiques | Monnaie \\u00e9lectronique\",\"Topics Treemap/Progr\\u00e8s \\u00a6 | Intelligence humaine | Alan turing/Steven spielberg | Caf\\u00e9 philo | Artificielle film\",\"Topics Treemap/Strat\\u00e9gie nationale | Florence parly | C\\u00e9dric villani/Strat\\u00e9gie nationale | C\\u00e9dric villani | Rapport villani\",\"Topics Treemap/Reconnaissance faciale | Business angels | St\\u00e9phane richard/St\\u00e9phane richard | Plan strat\\u00e9gique | Pdg st\\u00e9phane\",\"Topics Treemap/Document contains | Assistant vocal | Google assistant/Assistant vocal | Vocal alexa | Objet connect\\u00e9\",\"Topics Treemap/Exp\\u00e9rience client | Service client | Machine learning/Big data | Marketing digital | Data scientist\",\"Topics Treemap/Conseil municipal | Admission postbac | Inspection acad\\u00e9mique/Grand public | Traditionnelle f\\u00eate | Vie quotidienne\",\"Topics Treemap/Reconnaissance faciale | Business angels | St\\u00e9phane richard/St\\u00e9phane richard | Plan strat\\u00e9gique | Pdg st\\u00e9phane\",\"Topics Treemap/Progr\\u00e8s \\u00a6 | Intelligence humaine | Alan turing/Alan turing | Lee sedol | Programme informatique\",\"Topics Treemap/Document contains | Assistant vocal | Google assistant/Assistant vocal | Vocal alexa | Objet connect\\u00e9\",\"Topics Treemap/\\u00c9thique ccne | Dossier m\\u00e9dical | Centre hospitalier/Noah harari | Homo deus | Yuval noah\",\"Topics Treemap/Document contains | Assistant vocal | Google assistant/Document contains | Er mondial | Assembl\\u00e9e g\\u00e9n\\u00e9rale\",\"Topics Treemap/\\u00c9thique ccne | Dossier m\\u00e9dical | Centre hospitalier/\\u00c9thique ccne | \\u00c9tats g\\u00e9n\\u00e9raux | Consultatif national\",\"Topics Treemap/Progr\\u00e8s \\u00a6 | Intelligence humaine | Alan turing/Petit robot | Moyenne nationale | Radars laser\",\"Topics Treemap/Progr\\u00e8s \\u00a6 | Intelligence humaine | Alan turing\",\"Topics Treemap/Exp\\u00e9rience client | Service client | Machine learning\",\"Topics Treemap/Conseil municipal | Admission postbac | Inspection acad\\u00e9mique\",\"Topics Treemap/Document contains | Assistant vocal | Google assistant\",\"Topics Treemap/Exp\\u00e9rience client | Service client | Machine learning\",\"Topics Treemap/S\\u00e9curit\\u00e9 routi\\u00e8re | R\\u00e9seau neuronal | Cerveau humain\",\"Topics Treemap/Reconnaissance faciale | Business angels | St\\u00e9phane richard\",\"Topics Treemap/Strat\\u00e9gie nationale | Florence parly | C\\u00e9dric villani\",\"Topics Treemap/Document contains | Assistant vocal | Google assistant\",\"Topics Treemap/Conseil municipal | Admission postbac | Inspection acad\\u00e9mique\",\"Topics Treemap/Progr\\u00e8s \\u00a6 | Intelligence humaine | Alan turing\",\"Topics Treemap/Document contains | Assistant vocal | Google assistant\",\"Topics Treemap/Reconnaissance faciale | Business angels | St\\u00e9phane richard\",\"Topics Treemap/\\u00c9thique ccne | Dossier m\\u00e9dical | Centre hospitalier\",\"Topics Treemap/Exp\\u00e9rience client | Service client | Machine learning\",\"Topics Treemap/Strat\\u00e9gie nationale | Florence parly | C\\u00e9dric villani\",\"Topics Treemap/\\u00c9thique ccne | Dossier m\\u00e9dical | Centre hospitalier\",\"Topics Treemap/Conseil municipal | Admission postbac | Inspection acad\\u00e9mique\",\"Topics Treemap/Reconnaissance faciale | Business angels | St\\u00e9phane richard\",\"Topics Treemap/Strat\\u00e9gie nationale | Florence parly | C\\u00e9dric villani\",\"Topics Treemap/Exp\\u00e9rience client | Service client | Machine learning\",\"Topics Treemap/S\\u00e9curit\\u00e9 routi\\u00e8re | R\\u00e9seau neuronal | Cerveau humain\",\"Topics Treemap/\\u00c9thique ccne | Dossier m\\u00e9dical | Centre hospitalier\",\"Topics Treemap/S\\u00e9curit\\u00e9 routi\\u00e8re | R\\u00e9seau neuronal | Cerveau humain\",\"Topics Treemap/Conseil municipal | Admission postbac | Inspection acad\\u00e9mique\",\"Topics Treemap/Progr\\u00e8s \\u00a6 | Intelligence humaine | Alan turing\",\"Topics Treemap/Document contains | Assistant vocal | Google assistant\",\"Topics Treemap/Progr\\u00e8s \\u00a6 | Intelligence humaine | Alan turing\",\"Topics Treemap/Strat\\u00e9gie nationale | Florence parly | C\\u00e9dric villani\",\"Topics Treemap/Reconnaissance faciale | Business angels | St\\u00e9phane richard\",\"Topics Treemap/S\\u00e9curit\\u00e9 routi\\u00e8re | R\\u00e9seau neuronal | Cerveau humain\",\"Topics Treemap/\\u00c9thique ccne | Dossier m\\u00e9dical | Centre hospitalier\",\"Topics Treemap\",\"Topics Treemap\",\"Topics Treemap\",\"Topics Treemap\",\"Topics Treemap\",\"Topics Treemap\",\"Topics Treemap\",\"Topics Treemap\",\"\"],\"values\":[16,10,16,25,11,9,13,30,21,15,34,27,18,6,12,20,9,27,1,12,11,10,11,7,12,22,9,16,25,13,21,21,16,10,14,8,12,12,18,19,11,12,10,6,9,16,18,12,6,4,18,31,22,17,13,29,17,13,15,18,4,7,16,3,31,39,26,31,54,27,46,27,35,17,49,8,28,44,26,20,24,38,31,20,34,27,13,16,23,13,18,50,38,30,41,22,104,92,153,143,135,105,111,103,946],\"type\":\"treemap\",\"root\":{\"color\":\"lightgrey\"}}],                        {\"template\":{\"data\":{\"bar\":[{\"error_x\":{\"color\":\"#2a3f5f\"},\"error_y\":{\"color\":\"#2a3f5f\"},\"marker\":{\"line\":{\"color\":\"#E5ECF6\",\"width\":0.5},\"pattern\":{\"fillmode\":\"overlay\",\"size\":10,\"solidity\":0.2}},\"type\":\"bar\"}],\"barpolar\":[{\"marker\":{\"line\":{\"color\":\"#E5ECF6\",\"width\":0.5},\"pattern\":{\"fillmode\":\"overlay\",\"size\":10,\"solidity\":0.2}},\"type\":\"barpolar\"}],\"carpet\":[{\"aaxis\":{\"endlinecolor\":\"#2a3f5f\",\"gridcolor\":\"white\",\"linecolor\":\"white\",\"minorgridcolor\":\"white\",\"startlinecolor\":\"#2a3f5f\"},\"baxis\":{\"endlinecolor\":\"#2a3f5f\",\"gridcolor\":\"white\",\"linecolor\":\"white\",\"minorgridcolor\":\"white\",\"startlinecolor\":\"#2a3f5f\"},\"type\":\"carpet\"}],\"choropleth\":[{\"colorbar\":{\"outlinewidth\":0,\"ticks\":\"\"},\"type\":\"choropleth\"}],\"contour\":[{\"colorbar\":{\"outlinewidth\":0,\"ticks\":\"\"},\"colorscale\":[[0.0,\"#0d0887\"],[0.1111111111111111,\"#46039f\"],[0.2222222222222222,\"#7201a8\"],[0.3333333333333333,\"#9c179e\"],[0.4444444444444444,\"#bd3786\"],[0.5555555555555556,\"#d8576b\"],[0.6666666666666666,\"#ed7953\"],[0.7777777777777778,\"#fb9f3a\"],[0.8888888888888888,\"#fdca26\"],[1.0,\"#f0f921\"]],\"type\":\"contour\"}],\"contourcarpet\":[{\"colorbar\":{\"outlinewidth\":0,\"ticks\":\"\"},\"type\":\"contourcarpet\"}],\"heatmap\":[{\"colorbar\":{\"outlinewidth\":0,\"ticks\":\"\"},\"colorscale\":[[0.0,\"#0d0887\"],[0.1111111111111111,\"#46039f\"],[0.2222222222222222,\"#7201a8\"],[0.3333333333333333,\"#9c179e\"],[0.4444444444444444,\"#bd3786\"],[0.5555555555555556,\"#d8576b\"],[0.6666666666666666,\"#ed7953\"],[0.7777777777777778,\"#fb9f3a\"],[0.8888888888888888,\"#fdca26\"],[1.0,\"#f0f921\"]],\"type\":\"heatmap\"}],\"heatmapgl\":[{\"colorbar\":{\"outlinewidth\":0,\"ticks\":\"\"},\"colorscale\":[[0.0,\"#0d0887\"],[0.1111111111111111,\"#46039f\"],[0.2222222222222222,\"#7201a8\"],[0.3333333333333333,\"#9c179e\"],[0.4444444444444444,\"#bd3786\"],[0.5555555555555556,\"#d8576b\"],[0.6666666666666666,\"#ed7953\"],[0.7777777777777778,\"#fb9f3a\"],[0.8888888888888888,\"#fdca26\"],[1.0,\"#f0f921\"]],\"type\":\"heatmapgl\"}],\"histogram\":[{\"marker\":{\"pattern\":{\"fillmode\":\"overlay\",\"size\":10,\"solidity\":0.2}},\"type\":\"histogram\"}],\"histogram2d\":[{\"colorbar\":{\"outlinewidth\":0,\"ticks\":\"\"},\"colorscale\":[[0.0,\"#0d0887\"],[0.1111111111111111,\"#46039f\"],[0.2222222222222222,\"#7201a8\"],[0.3333333333333333,\"#9c179e\"],[0.4444444444444444,\"#bd3786\"],[0.5555555555555556,\"#d8576b\"],[0.6666666666666666,\"#ed7953\"],[0.7777777777777778,\"#fb9f3a\"],[0.8888888888888888,\"#fdca26\"],[1.0,\"#f0f921\"]],\"type\":\"histogram2d\"}],\"histogram2dcontour\":[{\"colorbar\":{\"outlinewidth\":0,\"ticks\":\"\"},\"colorscale\":[[0.0,\"#0d0887\"],[0.1111111111111111,\"#46039f\"],[0.2222222222222222,\"#7201a8\"],[0.3333333333333333,\"#9c179e\"],[0.4444444444444444,\"#bd3786\"],[0.5555555555555556,\"#d8576b\"],[0.6666666666666666,\"#ed7953\"],[0.7777777777777778,\"#fb9f3a\"],[0.8888888888888888,\"#fdca26\"],[1.0,\"#f0f921\"]],\"type\":\"histogram2dcontour\"}],\"mesh3d\":[{\"colorbar\":{\"outlinewidth\":0,\"ticks\":\"\"},\"type\":\"mesh3d\"}],\"parcoords\":[{\"line\":{\"colorbar\":{\"outlinewidth\":0,\"ticks\":\"\"}},\"type\":\"parcoords\"}],\"pie\":[{\"automargin\":true,\"type\":\"pie\"}],\"scatter\":[{\"marker\":{\"colorbar\":{\"outlinewidth\":0,\"ticks\":\"\"}},\"type\":\"scatter\"}],\"scatter3d\":[{\"line\":{\"colorbar\":{\"outlinewidth\":0,\"ticks\":\"\"}},\"marker\":{\"colorbar\":{\"outlinewidth\":0,\"ticks\":\"\"}},\"type\":\"scatter3d\"}],\"scattercarpet\":[{\"marker\":{\"colorbar\":{\"outlinewidth\":0,\"ticks\":\"\"}},\"type\":\"scattercarpet\"}],\"scattergeo\":[{\"marker\":{\"colorbar\":{\"outlinewidth\":0,\"ticks\":\"\"}},\"type\":\"scattergeo\"}],\"scattergl\":[{\"marker\":{\"colorbar\":{\"outlinewidth\":0,\"ticks\":\"\"}},\"type\":\"scattergl\"}],\"scattermapbox\":[{\"marker\":{\"colorbar\":{\"outlinewidth\":0,\"ticks\":\"\"}},\"type\":\"scattermapbox\"}],\"scatterpolar\":[{\"marker\":{\"colorbar\":{\"outlinewidth\":0,\"ticks\":\"\"}},\"type\":\"scatterpolar\"}],\"scatterpolargl\":[{\"marker\":{\"colorbar\":{\"outlinewidth\":0,\"ticks\":\"\"}},\"type\":\"scatterpolargl\"}],\"scatterternary\":[{\"marker\":{\"colorbar\":{\"outlinewidth\":0,\"ticks\":\"\"}},\"type\":\"scatterternary\"}],\"surface\":[{\"colorbar\":{\"outlinewidth\":0,\"ticks\":\"\"},\"colorscale\":[[0.0,\"#0d0887\"],[0.1111111111111111,\"#46039f\"],[0.2222222222222222,\"#7201a8\"],[0.3333333333333333,\"#9c179e\"],[0.4444444444444444,\"#bd3786\"],[0.5555555555555556,\"#d8576b\"],[0.6666666666666666,\"#ed7953\"],[0.7777777777777778,\"#fb9f3a\"],[0.8888888888888888,\"#fdca26\"],[1.0,\"#f0f921\"]],\"type\":\"surface\"}],\"table\":[{\"cells\":{\"fill\":{\"color\":\"#EBF0F8\"},\"line\":{\"color\":\"white\"}},\"header\":{\"fill\":{\"color\":\"#C8D4E3\"},\"line\":{\"color\":\"white\"}},\"type\":\"table\"}]},\"layout\":{\"annotationdefaults\":{\"arrowcolor\":\"#2a3f5f\",\"arrowhead\":0,\"arrowwidth\":1},\"autotypenumbers\":\"strict\",\"coloraxis\":{\"colorbar\":{\"outlinewidth\":0,\"ticks\":\"\"}},\"colorscale\":{\"diverging\":[[0,\"#8e0152\"],[0.1,\"#c51b7d\"],[0.2,\"#de77ae\"],[0.3,\"#f1b6da\"],[0.4,\"#fde0ef\"],[0.5,\"#f7f7f7\"],[0.6,\"#e6f5d0\"],[0.7,\"#b8e186\"],[0.8,\"#7fbc41\"],[0.9,\"#4d9221\"],[1,\"#276419\"]],\"sequential\":[[0.0,\"#0d0887\"],[0.1111111111111111,\"#46039f\"],[0.2222222222222222,\"#7201a8\"],[0.3333333333333333,\"#9c179e\"],[0.4444444444444444,\"#bd3786\"],[0.5555555555555556,\"#d8576b\"],[0.6666666666666666,\"#ed7953\"],[0.7777777777777778,\"#fb9f3a\"],[0.8888888888888888,\"#fdca26\"],[1.0,\"#f0f921\"]],\"sequentialminus\":[[0.0,\"#0d0887\"],[0.1111111111111111,\"#46039f\"],[0.2222222222222222,\"#7201a8\"],[0.3333333333333333,\"#9c179e\"],[0.4444444444444444,\"#bd3786\"],[0.5555555555555556,\"#d8576b\"],[0.6666666666666666,\"#ed7953\"],[0.7777777777777778,\"#fb9f3a\"],[0.8888888888888888,\"#fdca26\"],[1.0,\"#f0f921\"]]},\"colorway\":[\"#636efa\",\"#EF553B\",\"#00cc96\",\"#ab63fa\",\"#FFA15A\",\"#19d3f3\",\"#FF6692\",\"#B6E880\",\"#FF97FF\",\"#FECB52\"],\"font\":{\"color\":\"#2a3f5f\"},\"geo\":{\"bgcolor\":\"white\",\"lakecolor\":\"white\",\"landcolor\":\"#E5ECF6\",\"showlakes\":true,\"showland\":true,\"subunitcolor\":\"white\"},\"hoverlabel\":{\"align\":\"left\"},\"hovermode\":\"closest\",\"mapbox\":{\"style\":\"light\"},\"paper_bgcolor\":\"white\",\"plot_bgcolor\":\"#E5ECF6\",\"polar\":{\"angularaxis\":{\"gridcolor\":\"white\",\"linecolor\":\"white\",\"ticks\":\"\"},\"bgcolor\":\"#E5ECF6\",\"radialaxis\":{\"gridcolor\":\"white\",\"linecolor\":\"white\",\"ticks\":\"\"}},\"scene\":{\"xaxis\":{\"backgroundcolor\":\"#E5ECF6\",\"gridcolor\":\"white\",\"gridwidth\":2,\"linecolor\":\"white\",\"showbackground\":true,\"ticks\":\"\",\"zerolinecolor\":\"white\"},\"yaxis\":{\"backgroundcolor\":\"#E5ECF6\",\"gridcolor\":\"white\",\"gridwidth\":2,\"linecolor\":\"white\",\"showbackground\":true,\"ticks\":\"\",\"zerolinecolor\":\"white\"},\"zaxis\":{\"backgroundcolor\":\"#E5ECF6\",\"gridcolor\":\"white\",\"gridwidth\":2,\"linecolor\":\"white\",\"showbackground\":true,\"ticks\":\"\",\"zerolinecolor\":\"white\"}},\"shapedefaults\":{\"line\":{\"color\":\"#2a3f5f\"}},\"ternary\":{\"aaxis\":{\"gridcolor\":\"white\",\"linecolor\":\"white\",\"ticks\":\"\"},\"baxis\":{\"gridcolor\":\"white\",\"linecolor\":\"white\",\"ticks\":\"\"},\"bgcolor\":\"#E5ECF6\",\"caxis\":{\"gridcolor\":\"white\",\"linecolor\":\"white\",\"ticks\":\"\"}},\"title\":{\"x\":0.05},\"xaxis\":{\"automargin\":true,\"gridcolor\":\"white\",\"linecolor\":\"white\",\"ticks\":\"\",\"title\":{\"standoff\":15},\"zerolinecolor\":\"white\",\"zerolinewidth\":2},\"yaxis\":{\"automargin\":true,\"gridcolor\":\"white\",\"linecolor\":\"white\",\"ticks\":\"\",\"title\":{\"standoff\":15},\"zerolinecolor\":\"white\",\"zerolinewidth\":2}}},\"coloraxis\":{\"colorbar\":{\"title\":{\"text\":\"score_norm\"}},\"colorscale\":[[0.0,\"rgb(0,0,255)\"],[0.1,\"rgb(51,153,255)\"],[0.2,\"rgb(102,204,255)\"],[0.3,\"rgb(153,204,255)\"],[0.4,\"rgb(204,204,255)\"],[0.5,\"rgb(255,255,255)\"],[0.6,\"rgb(255,204,255)\"],[0.7,\"rgb(255,153,255)\"],[0.8,\"rgb(255,102,204)\"],[0.9,\"rgb(255,102,102)\"],[1.0,\"rgb(255,0,0)\"]],\"cmid\":0.78125},\"legend\":{\"tracegroupgap\":0},\"margin\":{\"t\":60},\"height\":1000,\"width\":1000},                        {\"responsive\": true}                    ).then(function(){\n",
       "                            \n",
       "var gd = document.getElementById('27f40f43-4b52-4ce6-8ef5-648c676d2813');\n",
       "var x = new MutationObserver(function (mutations, observer) {{\n",
       "        var display = window.getComputedStyle(gd).display;\n",
       "        if (!display || display === 'none') {{\n",
       "            console.log([gd, 'removed!']);\n",
       "            Plotly.purge(gd);\n",
       "            observer.disconnect();\n",
       "        }}\n",
       "}});\n",
       "\n",
       "// Listen for the removal of the full notebook cells\n",
       "var notebookContainer = gd.closest('#notebook-container');\n",
       "if (notebookContainer) {{\n",
       "    x.observe(notebookContainer, {childList: true});\n",
       "}}\n",
       "\n",
       "// Listen for the clearing of the current output cell\n",
       "var outputEl = gd.closest('.output');\n",
       "if (outputEl) {{\n",
       "    x.observe(outputEl, {childList: true});\n",
       "}}\n",
       "\n",
       "                        })                };                });            </script>        </div>"
      ]
     },
     "metadata": {},
     "output_type": "display_data"
    }
   ],
   "source": [
    "map = bunka.make_nested_maps(\n",
    "    size_rule=\"topic_documents\",\n",
    "    map_type=\"treemap\",\n",
    "    query=extended_folding,\n",
    ")\n",
    "map.show()"
   ]
  },
  {
   "cell_type": "code",
   "execution_count": null,
   "id": "ef72ce12-64b2-4236-bb4e-439e27a67999",
   "metadata": {},
   "outputs": [],
   "source": [
    "\n"
   ]
  },
  {
   "cell_type": "code",
   "execution_count": null,
   "id": "97407fe7-ca07-44b6-97f0-21f4c98fd129",
   "metadata": {},
   "outputs": [],
   "source": [
    "\n",
    "\n",
    "data = pd.read_csv(\n",
    "    \"/Users/charlesdedampierre/Desktop/ENS Projects/imaginary-world/db_film_iw (2).csv\",\n",
    "    index_col=[0],\n",
    ")\n"
   ]
  }
 ],
 "metadata": {
  "kernelspec": {
   "display_name": "Python 3 (ipykernel)",
   "language": "python",
   "name": "python3"
  },
  "language_info": {
   "codemirror_mode": {
    "name": "ipython",
    "version": 3
   },
   "file_extension": ".py",
   "mimetype": "text/x-python",
   "name": "python",
   "nbconvert_exporter": "python",
   "pygments_lexer": "ipython3",
   "version": "3.8.2"
  }
 },
 "nbformat": 4,
 "nbformat_minor": 5
}
