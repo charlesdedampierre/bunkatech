{
 "cells": [
  {
   "cell_type": "code",
   "execution_count": 1,
   "id": "cda0046f-4b3b-41bc-bd3f-6d53758a9fd9",
   "metadata": {},
   "outputs": [],
   "source": [
    "import pandas as pd\n",
    "#from bunkadata.graphdb.extract_entity import get_wikidata_id\n",
    "from bunkadata.scraping.wikidata.wikidata import get_feature_func, get_wikidata_id\n",
    "from tqdm.notebook import tqdm\n",
    "tqdm.pandas()\n",
    "\n",
    "from bunkatech.nested_topic_modeling import NestedTopicModeling"
   ]
  },
  {
   "cell_type": "code",
   "execution_count": null,
   "id": "009b9475-bfe3-4467-bb95-bde8961664f5",
   "metadata": {},
   "outputs": [],
   "source": []
  },
  {
   "cell_type": "code",
   "execution_count": 25,
   "id": "7e831895-11af-4936-8875-ec3c903af246",
   "metadata": {},
   "outputs": [],
   "source": [
    "data = pd.read_excel('labeling/SHAI-LABELS-ROUND-1.xlsx')\n",
    "data = pd.read_csv('/Volumes/OutFriend/shaping_ai/SHAI-CORPUS-MODEL-ALL-R2.csv', sep = ';')\n",
    "data['bindex'] = data.index"
   ]
  },
  {
   "cell_type": "code",
   "execution_count": 26,
   "id": "117064c8-698d-41e7-9e9c-ecbf470865cd",
   "metadata": {},
   "outputs": [
    {
     "name": "stdout",
     "output_type": "stream",
     "text": [
      "Embeddings..\n",
      "Reducing the vectors..\n",
      "UMAP(angular_rp_forest=True, metric='cosine', n_components=5, n_neighbors=10, verbose=True)\n",
      "Wed Mar  9 15:03:55 2022 Construct fuzzy simplicial set\n",
      "Wed Mar  9 15:03:55 2022 Finding Nearest Neighbors\n",
      "Wed Mar  9 15:03:55 2022 Building RP forest with 10 trees\n",
      "Wed Mar  9 15:04:03 2022 metric NN descent for 13 iterations\n",
      "\t 1  /  13\n",
      "\t 2  /  13\n",
      "\t 3  /  13\n",
      "\t 4  /  13\n",
      "\t 5  /  13\n",
      "\t 6  /  13\n",
      "\t 7  /  13\n",
      "\t 8  /  13\n",
      "\tStopping threshold met -- exiting after 8 iterations\n",
      "Wed Mar  9 15:06:33 2022 Finished Nearest Neighbor Search\n",
      "Wed Mar  9 15:06:34 2022 Construct embedding\n"
     ]
    },
    {
     "data": {
      "application/vnd.jupyter.widget-view+json": {
       "model_id": "f619332026204947a0fda4a7fa3d6ddf",
       "version_major": 2,
       "version_minor": 0
      },
      "text/plain": [
       "Epochs completed:   0%|            0/500 [00:00]"
      ]
     },
     "metadata": {},
     "output_type": "display_data"
    },
    {
     "name": "stdout",
     "output_type": "stream",
     "text": [
      "Wed Mar  9 15:06:41 2022 Finished embedding\n"
     ]
    },
    {
     "name": "stderr",
     "output_type": "stream",
     "text": [
      "Extract Terms:  40%|█████████▋              | 4038/9993 [05:40<07:10, 13.82it/s]"
     ]
    },
    {
     "ename": "KeyboardInterrupt",
     "evalue": "",
     "output_type": "error",
     "traceback": [
      "\u001b[0;31m---------------------------------------------------------------------------\u001b[0m",
      "\u001b[0;31mKeyboardInterrupt\u001b[0m                         Traceback (most recent call last)",
      "\u001b[0;32m/var/folders/9g/c1k2z1fx1y19x5dwdxzft52w0000gn/T/ipykernel_4295/3089870143.py\u001b[0m in \u001b[0;36m<module>\u001b[0;34m\u001b[0m\n\u001b[1;32m      1\u001b[0m \u001b[0mbunka\u001b[0m \u001b[0;34m=\u001b[0m \u001b[0mNestedTopicModeling\u001b[0m\u001b[0;34m(\u001b[0m\u001b[0;34m)\u001b[0m\u001b[0;34m\u001b[0m\u001b[0;34m\u001b[0m\u001b[0m\n\u001b[0;32m----> 2\u001b[0;31m model = bunka.fit(\n\u001b[0m\u001b[1;32m      3\u001b[0m     \u001b[0mdata\u001b[0m\u001b[0;34m,\u001b[0m\u001b[0;34m\u001b[0m\u001b[0;34m\u001b[0m\u001b[0m\n\u001b[1;32m      4\u001b[0m     \u001b[0mtext_var\u001b[0m\u001b[0;34m=\u001b[0m\u001b[0;34m\"content\"\u001b[0m\u001b[0;34m,\u001b[0m\u001b[0;34m\u001b[0m\u001b[0;34m\u001b[0m\u001b[0m\n\u001b[1;32m      5\u001b[0m     \u001b[0mindex_var\u001b[0m\u001b[0;34m=\u001b[0m\u001b[0;34m\"bindex\"\u001b[0m\u001b[0;34m,\u001b[0m\u001b[0;34m\u001b[0m\u001b[0;34m\u001b[0m\u001b[0m\n",
      "\u001b[0;32m/Library/Frameworks/Python.framework/Versions/3.8/lib/python3.8/site-packages/bunkatech/nested_topic_modeling.py\u001b[0m in \u001b[0;36mfit\u001b[0;34m(self, df, text_var, index_var, sample_size, sample_terms, embeddings_model, ngrams, ents, language, db_path)\u001b[0m\n\u001b[1;32m     61\u001b[0m         \u001b[0mh_clusters\u001b[0m \u001b[0;34m=\u001b[0m \u001b[0mhierarchical_clusters\u001b[0m\u001b[0;34m(\u001b[0m\u001b[0mdf_emb\u001b[0m\u001b[0;34m)\u001b[0m\u001b[0;34m\u001b[0m\u001b[0;34m\u001b[0m\u001b[0m\n\u001b[1;32m     62\u001b[0m \u001b[0;34m\u001b[0m\u001b[0m\n\u001b[0;32m---> 63\u001b[0;31m         terms = extract_terms_df(\n\u001b[0m\u001b[1;32m     64\u001b[0m             \u001b[0mdf\u001b[0m\u001b[0;34m,\u001b[0m\u001b[0;34m\u001b[0m\u001b[0;34m\u001b[0m\u001b[0m\n\u001b[1;32m     65\u001b[0m             \u001b[0mtext_var\u001b[0m\u001b[0;34m=\u001b[0m\u001b[0mtext_var\u001b[0m\u001b[0;34m,\u001b[0m\u001b[0;34m\u001b[0m\u001b[0;34m\u001b[0m\u001b[0m\n",
      "\u001b[0;32m/Library/Frameworks/Python.framework/Versions/3.8/lib/python3.8/site-packages/bunkatech/semantics/extract_terms.py\u001b[0m in \u001b[0;36mextract_terms_df\u001b[0;34m(data, text_var, limit, sample_size, ngs, ents, ncs, drop_emoji, remove_punctuation, ngrams, include_pos, include_types, language)\u001b[0m\n\u001b[1;32m    150\u001b[0m     \u001b[0mpbar\u001b[0m \u001b[0;34m=\u001b[0m \u001b[0mtqdm\u001b[0m\u001b[0;34m(\u001b[0m\u001b[0mtotal\u001b[0m\u001b[0;34m=\u001b[0m\u001b[0mlen\u001b[0m\u001b[0;34m(\u001b[0m\u001b[0msentences\u001b[0m\u001b[0;34m)\u001b[0m\u001b[0;34m,\u001b[0m \u001b[0mdesc\u001b[0m\u001b[0;34m=\u001b[0m\u001b[0;34m\"Extract Terms\"\u001b[0m\u001b[0;34m)\u001b[0m\u001b[0;34m\u001b[0m\u001b[0;34m\u001b[0m\u001b[0m\n\u001b[1;32m    151\u001b[0m     \u001b[0;32mfor\u001b[0m \u001b[0mtext\u001b[0m \u001b[0;32min\u001b[0m \u001b[0msentences\u001b[0m\u001b[0;34m:\u001b[0m\u001b[0;34m\u001b[0m\u001b[0;34m\u001b[0m\u001b[0m\n\u001b[0;32m--> 152\u001b[0;31m         df, final = extract_terms(\n\u001b[0m\u001b[1;32m    153\u001b[0m             \u001b[0mtext\u001b[0m\u001b[0;34m,\u001b[0m\u001b[0;34m\u001b[0m\u001b[0;34m\u001b[0m\u001b[0m\n\u001b[1;32m    154\u001b[0m             \u001b[0mngs\u001b[0m\u001b[0;34m=\u001b[0m\u001b[0mngs\u001b[0m\u001b[0;34m,\u001b[0m\u001b[0;34m\u001b[0m\u001b[0;34m\u001b[0m\u001b[0m\n",
      "\u001b[0;32m/Library/Frameworks/Python.framework/Versions/3.8/lib/python3.8/site-packages/bunkatech/semantics/extract_terms.py\u001b[0m in \u001b[0;36mextract_terms\u001b[0;34m(text, ngs, ents, ncs, drop_emoji, remove_punctuation, ngrams, include_pos, include_types, language)\u001b[0m\n\u001b[1;32m     73\u001b[0m     \u001b[0;32melif\u001b[0m \u001b[0mlanguage\u001b[0m \u001b[0;34m==\u001b[0m \u001b[0;34m\"fr\"\u001b[0m\u001b[0;34m:\u001b[0m\u001b[0;34m\u001b[0m\u001b[0;34m\u001b[0m\u001b[0m\n\u001b[1;32m     74\u001b[0m         \u001b[0mlang\u001b[0m \u001b[0;34m=\u001b[0m \u001b[0mtextacy\u001b[0m\u001b[0;34m.\u001b[0m\u001b[0mload_spacy_lang\u001b[0m\u001b[0;34m(\u001b[0m\u001b[0;34m\"fr_core_news_lg\"\u001b[0m\u001b[0;34m,\u001b[0m \u001b[0mdisable\u001b[0m\u001b[0;34m=\u001b[0m\u001b[0;34m(\u001b[0m\u001b[0;34m)\u001b[0m\u001b[0;34m)\u001b[0m\u001b[0;34m\u001b[0m\u001b[0;34m\u001b[0m\u001b[0m\n\u001b[0;32m---> 75\u001b[0;31m     \u001b[0mdoc\u001b[0m \u001b[0;34m=\u001b[0m \u001b[0mtextacy\u001b[0m\u001b[0;34m.\u001b[0m\u001b[0mmake_spacy_doc\u001b[0m\u001b[0;34m(\u001b[0m\u001b[0mprepro_text\u001b[0m\u001b[0;34m,\u001b[0m \u001b[0mlang\u001b[0m\u001b[0;34m=\u001b[0m\u001b[0mlang\u001b[0m\u001b[0;34m)\u001b[0m\u001b[0;34m\u001b[0m\u001b[0;34m\u001b[0m\u001b[0m\n\u001b[0m\u001b[1;32m     76\u001b[0m \u001b[0;34m\u001b[0m\u001b[0m\n\u001b[1;32m     77\u001b[0m     \u001b[0mterms\u001b[0m \u001b[0;34m=\u001b[0m \u001b[0;34m[\u001b[0m\u001b[0;34m]\u001b[0m\u001b[0;34m\u001b[0m\u001b[0;34m\u001b[0m\u001b[0m\n",
      "\u001b[0;32m/Library/Frameworks/Python.framework/Versions/3.8/lib/python3.8/site-packages/textacy/spacier/core.py\u001b[0m in \u001b[0;36mmake_spacy_doc\u001b[0;34m(data, lang, chunk_size)\u001b[0m\n\u001b[1;32m    144\u001b[0m     \"\"\"\n\u001b[1;32m    145\u001b[0m     \u001b[0;32mif\u001b[0m \u001b[0misinstance\u001b[0m\u001b[0;34m(\u001b[0m\u001b[0mdata\u001b[0m\u001b[0;34m,\u001b[0m \u001b[0mstr\u001b[0m\u001b[0;34m)\u001b[0m\u001b[0;34m:\u001b[0m\u001b[0;34m\u001b[0m\u001b[0;34m\u001b[0m\u001b[0m\n\u001b[0;32m--> 146\u001b[0;31m         \u001b[0;32mreturn\u001b[0m \u001b[0m_make_spacy_doc_from_text\u001b[0m\u001b[0;34m(\u001b[0m\u001b[0mdata\u001b[0m\u001b[0;34m,\u001b[0m \u001b[0mlang\u001b[0m\u001b[0;34m,\u001b[0m \u001b[0mchunk_size\u001b[0m\u001b[0;34m)\u001b[0m\u001b[0;34m\u001b[0m\u001b[0;34m\u001b[0m\u001b[0m\n\u001b[0m\u001b[1;32m    147\u001b[0m     \u001b[0;32melif\u001b[0m \u001b[0misinstance\u001b[0m\u001b[0;34m(\u001b[0m\u001b[0mdata\u001b[0m\u001b[0;34m,\u001b[0m \u001b[0mDoc\u001b[0m\u001b[0;34m)\u001b[0m\u001b[0;34m:\u001b[0m\u001b[0;34m\u001b[0m\u001b[0;34m\u001b[0m\u001b[0m\n\u001b[1;32m    148\u001b[0m         \u001b[0;32mreturn\u001b[0m \u001b[0m_make_spacy_doc_from_doc\u001b[0m\u001b[0;34m(\u001b[0m\u001b[0mdata\u001b[0m\u001b[0;34m,\u001b[0m \u001b[0mlang\u001b[0m\u001b[0;34m)\u001b[0m\u001b[0;34m\u001b[0m\u001b[0;34m\u001b[0m\u001b[0m\n",
      "\u001b[0;32m/Library/Frameworks/Python.framework/Versions/3.8/lib/python3.8/site-packages/textacy/spacier/core.py\u001b[0m in \u001b[0;36m_make_spacy_doc_from_text\u001b[0;34m(text, lang, chunk_size)\u001b[0m\n\u001b[1;32m    160\u001b[0m         \u001b[0mdoc\u001b[0m \u001b[0;34m=\u001b[0m \u001b[0m_make_spacy_doc_from_text_chunks\u001b[0m\u001b[0;34m(\u001b[0m\u001b[0mtext\u001b[0m\u001b[0;34m,\u001b[0m \u001b[0mspacy_lang\u001b[0m\u001b[0;34m,\u001b[0m \u001b[0mchunk_size\u001b[0m\u001b[0;34m)\u001b[0m\u001b[0;34m\u001b[0m\u001b[0;34m\u001b[0m\u001b[0m\n\u001b[1;32m    161\u001b[0m     \u001b[0;32melse\u001b[0m\u001b[0;34m:\u001b[0m\u001b[0;34m\u001b[0m\u001b[0;34m\u001b[0m\u001b[0m\n\u001b[0;32m--> 162\u001b[0;31m         \u001b[0mdoc\u001b[0m \u001b[0;34m=\u001b[0m \u001b[0mspacy_lang\u001b[0m\u001b[0;34m(\u001b[0m\u001b[0mtext\u001b[0m\u001b[0;34m)\u001b[0m\u001b[0;34m\u001b[0m\u001b[0;34m\u001b[0m\u001b[0m\n\u001b[0m\u001b[1;32m    163\u001b[0m     \u001b[0;32mreturn\u001b[0m \u001b[0mdoc\u001b[0m\u001b[0;34m\u001b[0m\u001b[0;34m\u001b[0m\u001b[0m\n\u001b[1;32m    164\u001b[0m \u001b[0;34m\u001b[0m\u001b[0m\n",
      "\u001b[0;32m/Library/Frameworks/Python.framework/Versions/3.8/lib/python3.8/site-packages/spacy/language.py\u001b[0m in \u001b[0;36m__call__\u001b[0;34m(self, text, disable, component_cfg)\u001b[0m\n\u001b[1;32m   1011\u001b[0m                 \u001b[0merror_handler\u001b[0m \u001b[0;34m=\u001b[0m \u001b[0mproc\u001b[0m\u001b[0;34m.\u001b[0m\u001b[0mget_error_handler\u001b[0m\u001b[0;34m(\u001b[0m\u001b[0;34m)\u001b[0m\u001b[0;34m\u001b[0m\u001b[0;34m\u001b[0m\u001b[0m\n\u001b[1;32m   1012\u001b[0m             \u001b[0;32mtry\u001b[0m\u001b[0;34m:\u001b[0m\u001b[0;34m\u001b[0m\u001b[0;34m\u001b[0m\u001b[0m\n\u001b[0;32m-> 1013\u001b[0;31m                 \u001b[0mdoc\u001b[0m \u001b[0;34m=\u001b[0m \u001b[0mproc\u001b[0m\u001b[0;34m(\u001b[0m\u001b[0mdoc\u001b[0m\u001b[0;34m,\u001b[0m \u001b[0;34m**\u001b[0m\u001b[0mcomponent_cfg\u001b[0m\u001b[0;34m.\u001b[0m\u001b[0mget\u001b[0m\u001b[0;34m(\u001b[0m\u001b[0mname\u001b[0m\u001b[0;34m,\u001b[0m \u001b[0;34m{\u001b[0m\u001b[0;34m}\u001b[0m\u001b[0;34m)\u001b[0m\u001b[0;34m)\u001b[0m  \u001b[0;31m# type: ignore[call-arg]\u001b[0m\u001b[0;34m\u001b[0m\u001b[0;34m\u001b[0m\u001b[0m\n\u001b[0m\u001b[1;32m   1014\u001b[0m             \u001b[0;32mexcept\u001b[0m \u001b[0mKeyError\u001b[0m \u001b[0;32mas\u001b[0m \u001b[0me\u001b[0m\u001b[0;34m:\u001b[0m\u001b[0;34m\u001b[0m\u001b[0;34m\u001b[0m\u001b[0m\n\u001b[1;32m   1015\u001b[0m                 \u001b[0;31m# This typically happens if a component is not initialized\u001b[0m\u001b[0;34m\u001b[0m\u001b[0;34m\u001b[0m\u001b[0;34m\u001b[0m\u001b[0m\n",
      "\u001b[0;32m/Library/Frameworks/Python.framework/Versions/3.8/lib/python3.8/site-packages/spacy/pipeline/trainable_pipe.pyx\u001b[0m in \u001b[0;36mspacy.pipeline.trainable_pipe.TrainablePipe.__call__\u001b[0;34m()\u001b[0m\n",
      "\u001b[0;32m/Library/Frameworks/Python.framework/Versions/3.8/lib/python3.8/site-packages/spacy/pipeline/tok2vec.py\u001b[0m in \u001b[0;36mpredict\u001b[0;34m(self, docs)\u001b[0m\n\u001b[1;32m    119\u001b[0m         \u001b[0mDOCS\u001b[0m\u001b[0;34m:\u001b[0m \u001b[0mhttps\u001b[0m\u001b[0;34m:\u001b[0m\u001b[0;34m//\u001b[0m\u001b[0mspacy\u001b[0m\u001b[0;34m.\u001b[0m\u001b[0mio\u001b[0m\u001b[0;34m/\u001b[0m\u001b[0mapi\u001b[0m\u001b[0;34m/\u001b[0m\u001b[0mtok2vec\u001b[0m\u001b[0;31m#predict\u001b[0m\u001b[0;34m\u001b[0m\u001b[0;34m\u001b[0m\u001b[0m\n\u001b[1;32m    120\u001b[0m         \"\"\"\n\u001b[0;32m--> 121\u001b[0;31m         \u001b[0mtokvecs\u001b[0m \u001b[0;34m=\u001b[0m \u001b[0mself\u001b[0m\u001b[0;34m.\u001b[0m\u001b[0mmodel\u001b[0m\u001b[0;34m.\u001b[0m\u001b[0mpredict\u001b[0m\u001b[0;34m(\u001b[0m\u001b[0mdocs\u001b[0m\u001b[0;34m)\u001b[0m\u001b[0;34m\u001b[0m\u001b[0;34m\u001b[0m\u001b[0m\n\u001b[0m\u001b[1;32m    122\u001b[0m         \u001b[0mbatch_id\u001b[0m \u001b[0;34m=\u001b[0m \u001b[0mTok2VecListener\u001b[0m\u001b[0;34m.\u001b[0m\u001b[0mget_batch_id\u001b[0m\u001b[0;34m(\u001b[0m\u001b[0mdocs\u001b[0m\u001b[0;34m)\u001b[0m\u001b[0;34m\u001b[0m\u001b[0;34m\u001b[0m\u001b[0m\n\u001b[1;32m    123\u001b[0m         \u001b[0;32mfor\u001b[0m \u001b[0mlistener\u001b[0m \u001b[0;32min\u001b[0m \u001b[0mself\u001b[0m\u001b[0;34m.\u001b[0m\u001b[0mlisteners\u001b[0m\u001b[0;34m:\u001b[0m\u001b[0;34m\u001b[0m\u001b[0;34m\u001b[0m\u001b[0m\n",
      "\u001b[0;32m/Library/Frameworks/Python.framework/Versions/3.8/lib/python3.8/site-packages/thinc/model.py\u001b[0m in \u001b[0;36mpredict\u001b[0;34m(self, X)\u001b[0m\n\u001b[1;32m    313\u001b[0m         \u001b[0monly\u001b[0m \u001b[0mthe\u001b[0m \u001b[0moutput\u001b[0m\u001b[0;34m,\u001b[0m \u001b[0minstead\u001b[0m \u001b[0mof\u001b[0m \u001b[0mthe\u001b[0m\u001b[0;31m \u001b[0m\u001b[0;31m`\u001b[0m\u001b[0;34m(\u001b[0m\u001b[0moutput\u001b[0m\u001b[0;34m,\u001b[0m \u001b[0mcallback\u001b[0m\u001b[0;34m)\u001b[0m\u001b[0;31m`\u001b[0m \u001b[0mtuple\u001b[0m\u001b[0;34m.\u001b[0m\u001b[0;34m\u001b[0m\u001b[0;34m\u001b[0m\u001b[0m\n\u001b[1;32m    314\u001b[0m         \"\"\"\n\u001b[0;32m--> 315\u001b[0;31m         \u001b[0;32mreturn\u001b[0m \u001b[0mself\u001b[0m\u001b[0;34m.\u001b[0m\u001b[0m_func\u001b[0m\u001b[0;34m(\u001b[0m\u001b[0mself\u001b[0m\u001b[0;34m,\u001b[0m \u001b[0mX\u001b[0m\u001b[0;34m,\u001b[0m \u001b[0mis_train\u001b[0m\u001b[0;34m=\u001b[0m\u001b[0;32mFalse\u001b[0m\u001b[0;34m)\u001b[0m\u001b[0;34m[\u001b[0m\u001b[0;36m0\u001b[0m\u001b[0;34m]\u001b[0m\u001b[0;34m\u001b[0m\u001b[0;34m\u001b[0m\u001b[0m\n\u001b[0m\u001b[1;32m    316\u001b[0m \u001b[0;34m\u001b[0m\u001b[0m\n\u001b[1;32m    317\u001b[0m     \u001b[0;32mdef\u001b[0m \u001b[0mfinish_update\u001b[0m\u001b[0;34m(\u001b[0m\u001b[0mself\u001b[0m\u001b[0;34m,\u001b[0m \u001b[0moptimizer\u001b[0m\u001b[0;34m:\u001b[0m \u001b[0mOptimizer\u001b[0m\u001b[0;34m)\u001b[0m \u001b[0;34m->\u001b[0m \u001b[0;32mNone\u001b[0m\u001b[0;34m:\u001b[0m\u001b[0;34m\u001b[0m\u001b[0;34m\u001b[0m\u001b[0m\n",
      "\u001b[0;32m/Library/Frameworks/Python.framework/Versions/3.8/lib/python3.8/site-packages/thinc/layers/chain.py\u001b[0m in \u001b[0;36mforward\u001b[0;34m(model, X, is_train)\u001b[0m\n\u001b[1;32m     52\u001b[0m     \u001b[0mcallbacks\u001b[0m \u001b[0;34m=\u001b[0m \u001b[0;34m[\u001b[0m\u001b[0;34m]\u001b[0m\u001b[0;34m\u001b[0m\u001b[0;34m\u001b[0m\u001b[0m\n\u001b[1;32m     53\u001b[0m     \u001b[0;32mfor\u001b[0m \u001b[0mlayer\u001b[0m \u001b[0;32min\u001b[0m \u001b[0mmodel\u001b[0m\u001b[0;34m.\u001b[0m\u001b[0mlayers\u001b[0m\u001b[0;34m:\u001b[0m\u001b[0;34m\u001b[0m\u001b[0;34m\u001b[0m\u001b[0m\n\u001b[0;32m---> 54\u001b[0;31m         \u001b[0mY\u001b[0m\u001b[0;34m,\u001b[0m \u001b[0minc_layer_grad\u001b[0m \u001b[0;34m=\u001b[0m \u001b[0mlayer\u001b[0m\u001b[0;34m(\u001b[0m\u001b[0mX\u001b[0m\u001b[0;34m,\u001b[0m \u001b[0mis_train\u001b[0m\u001b[0;34m=\u001b[0m\u001b[0mis_train\u001b[0m\u001b[0;34m)\u001b[0m\u001b[0;34m\u001b[0m\u001b[0;34m\u001b[0m\u001b[0m\n\u001b[0m\u001b[1;32m     55\u001b[0m         \u001b[0mcallbacks\u001b[0m\u001b[0;34m.\u001b[0m\u001b[0mappend\u001b[0m\u001b[0;34m(\u001b[0m\u001b[0minc_layer_grad\u001b[0m\u001b[0;34m)\u001b[0m\u001b[0;34m\u001b[0m\u001b[0;34m\u001b[0m\u001b[0m\n\u001b[1;32m     56\u001b[0m         \u001b[0mX\u001b[0m \u001b[0;34m=\u001b[0m \u001b[0mY\u001b[0m\u001b[0;34m\u001b[0m\u001b[0;34m\u001b[0m\u001b[0m\n",
      "\u001b[0;32m/Library/Frameworks/Python.framework/Versions/3.8/lib/python3.8/site-packages/thinc/model.py\u001b[0m in \u001b[0;36m__call__\u001b[0;34m(self, X, is_train)\u001b[0m\n\u001b[1;32m    289\u001b[0m         \"\"\"Call the model's `forward` function, returning the output and a\n\u001b[1;32m    290\u001b[0m         callback to compute the gradients via backpropagation.\"\"\"\n\u001b[0;32m--> 291\u001b[0;31m         \u001b[0;32mreturn\u001b[0m \u001b[0mself\u001b[0m\u001b[0;34m.\u001b[0m\u001b[0m_func\u001b[0m\u001b[0;34m(\u001b[0m\u001b[0mself\u001b[0m\u001b[0;34m,\u001b[0m \u001b[0mX\u001b[0m\u001b[0;34m,\u001b[0m \u001b[0mis_train\u001b[0m\u001b[0;34m=\u001b[0m\u001b[0mis_train\u001b[0m\u001b[0;34m)\u001b[0m\u001b[0;34m\u001b[0m\u001b[0;34m\u001b[0m\u001b[0m\n\u001b[0m\u001b[1;32m    292\u001b[0m \u001b[0;34m\u001b[0m\u001b[0m\n\u001b[1;32m    293\u001b[0m     \u001b[0;32mdef\u001b[0m \u001b[0minitialize\u001b[0m\u001b[0;34m(\u001b[0m\u001b[0mself\u001b[0m\u001b[0;34m,\u001b[0m \u001b[0mX\u001b[0m\u001b[0;34m:\u001b[0m \u001b[0mOptional\u001b[0m\u001b[0;34m[\u001b[0m\u001b[0mInT\u001b[0m\u001b[0;34m]\u001b[0m \u001b[0;34m=\u001b[0m \u001b[0;32mNone\u001b[0m\u001b[0;34m,\u001b[0m \u001b[0mY\u001b[0m\u001b[0;34m:\u001b[0m \u001b[0mOptional\u001b[0m\u001b[0;34m[\u001b[0m\u001b[0mOutT\u001b[0m\u001b[0;34m]\u001b[0m \u001b[0;34m=\u001b[0m \u001b[0;32mNone\u001b[0m\u001b[0;34m)\u001b[0m \u001b[0;34m->\u001b[0m \u001b[0;34m\"Model\"\u001b[0m\u001b[0;34m:\u001b[0m\u001b[0;34m\u001b[0m\u001b[0;34m\u001b[0m\u001b[0m\n",
      "\u001b[0;32m/Library/Frameworks/Python.framework/Versions/3.8/lib/python3.8/site-packages/thinc/layers/chain.py\u001b[0m in \u001b[0;36mforward\u001b[0;34m(model, X, is_train)\u001b[0m\n\u001b[1;32m     52\u001b[0m     \u001b[0mcallbacks\u001b[0m \u001b[0;34m=\u001b[0m \u001b[0;34m[\u001b[0m\u001b[0;34m]\u001b[0m\u001b[0;34m\u001b[0m\u001b[0;34m\u001b[0m\u001b[0m\n\u001b[1;32m     53\u001b[0m     \u001b[0;32mfor\u001b[0m \u001b[0mlayer\u001b[0m \u001b[0;32min\u001b[0m \u001b[0mmodel\u001b[0m\u001b[0;34m.\u001b[0m\u001b[0mlayers\u001b[0m\u001b[0;34m:\u001b[0m\u001b[0;34m\u001b[0m\u001b[0;34m\u001b[0m\u001b[0m\n\u001b[0;32m---> 54\u001b[0;31m         \u001b[0mY\u001b[0m\u001b[0;34m,\u001b[0m \u001b[0minc_layer_grad\u001b[0m \u001b[0;34m=\u001b[0m \u001b[0mlayer\u001b[0m\u001b[0;34m(\u001b[0m\u001b[0mX\u001b[0m\u001b[0;34m,\u001b[0m \u001b[0mis_train\u001b[0m\u001b[0;34m=\u001b[0m\u001b[0mis_train\u001b[0m\u001b[0;34m)\u001b[0m\u001b[0;34m\u001b[0m\u001b[0;34m\u001b[0m\u001b[0m\n\u001b[0m\u001b[1;32m     55\u001b[0m         \u001b[0mcallbacks\u001b[0m\u001b[0;34m.\u001b[0m\u001b[0mappend\u001b[0m\u001b[0;34m(\u001b[0m\u001b[0minc_layer_grad\u001b[0m\u001b[0;34m)\u001b[0m\u001b[0;34m\u001b[0m\u001b[0;34m\u001b[0m\u001b[0m\n\u001b[1;32m     56\u001b[0m         \u001b[0mX\u001b[0m \u001b[0;34m=\u001b[0m \u001b[0mY\u001b[0m\u001b[0;34m\u001b[0m\u001b[0;34m\u001b[0m\u001b[0m\n",
      "\u001b[0;32m/Library/Frameworks/Python.framework/Versions/3.8/lib/python3.8/site-packages/thinc/model.py\u001b[0m in \u001b[0;36m__call__\u001b[0;34m(self, X, is_train)\u001b[0m\n\u001b[1;32m    289\u001b[0m         \"\"\"Call the model's `forward` function, returning the output and a\n\u001b[1;32m    290\u001b[0m         callback to compute the gradients via backpropagation.\"\"\"\n\u001b[0;32m--> 291\u001b[0;31m         \u001b[0;32mreturn\u001b[0m \u001b[0mself\u001b[0m\u001b[0;34m.\u001b[0m\u001b[0m_func\u001b[0m\u001b[0;34m(\u001b[0m\u001b[0mself\u001b[0m\u001b[0;34m,\u001b[0m \u001b[0mX\u001b[0m\u001b[0;34m,\u001b[0m \u001b[0mis_train\u001b[0m\u001b[0;34m=\u001b[0m\u001b[0mis_train\u001b[0m\u001b[0;34m)\u001b[0m\u001b[0;34m\u001b[0m\u001b[0;34m\u001b[0m\u001b[0m\n\u001b[0m\u001b[1;32m    292\u001b[0m \u001b[0;34m\u001b[0m\u001b[0m\n\u001b[1;32m    293\u001b[0m     \u001b[0;32mdef\u001b[0m \u001b[0minitialize\u001b[0m\u001b[0;34m(\u001b[0m\u001b[0mself\u001b[0m\u001b[0;34m,\u001b[0m \u001b[0mX\u001b[0m\u001b[0;34m:\u001b[0m \u001b[0mOptional\u001b[0m\u001b[0;34m[\u001b[0m\u001b[0mInT\u001b[0m\u001b[0;34m]\u001b[0m \u001b[0;34m=\u001b[0m \u001b[0;32mNone\u001b[0m\u001b[0;34m,\u001b[0m \u001b[0mY\u001b[0m\u001b[0;34m:\u001b[0m \u001b[0mOptional\u001b[0m\u001b[0;34m[\u001b[0m\u001b[0mOutT\u001b[0m\u001b[0;34m]\u001b[0m \u001b[0;34m=\u001b[0m \u001b[0;32mNone\u001b[0m\u001b[0;34m)\u001b[0m \u001b[0;34m->\u001b[0m \u001b[0;34m\"Model\"\u001b[0m\u001b[0;34m:\u001b[0m\u001b[0;34m\u001b[0m\u001b[0;34m\u001b[0m\u001b[0m\n",
      "\u001b[0;32m/Library/Frameworks/Python.framework/Versions/3.8/lib/python3.8/site-packages/thinc/layers/with_array.py\u001b[0m in \u001b[0;36mforward\u001b[0;34m(model, Xseq, is_train)\u001b[0m\n\u001b[1;32m     28\u001b[0m \u001b[0;32mdef\u001b[0m \u001b[0mforward\u001b[0m\u001b[0;34m(\u001b[0m\u001b[0mmodel\u001b[0m\u001b[0;34m:\u001b[0m \u001b[0mModel\u001b[0m\u001b[0;34m[\u001b[0m\u001b[0mSeqT\u001b[0m\u001b[0;34m,\u001b[0m \u001b[0mSeqT\u001b[0m\u001b[0;34m]\u001b[0m\u001b[0;34m,\u001b[0m \u001b[0mXseq\u001b[0m\u001b[0;34m:\u001b[0m \u001b[0mSeqT\u001b[0m\u001b[0;34m,\u001b[0m \u001b[0mis_train\u001b[0m\u001b[0;34m:\u001b[0m \u001b[0mbool\u001b[0m\u001b[0;34m)\u001b[0m\u001b[0;34m:\u001b[0m\u001b[0;34m\u001b[0m\u001b[0;34m\u001b[0m\u001b[0m\n\u001b[1;32m     29\u001b[0m     \u001b[0;32mif\u001b[0m \u001b[0misinstance\u001b[0m\u001b[0;34m(\u001b[0m\u001b[0mXseq\u001b[0m\u001b[0;34m,\u001b[0m \u001b[0mRagged\u001b[0m\u001b[0;34m)\u001b[0m\u001b[0;34m:\u001b[0m\u001b[0;34m\u001b[0m\u001b[0;34m\u001b[0m\u001b[0m\n\u001b[0;32m---> 30\u001b[0;31m         return _ragged_forward(\n\u001b[0m\u001b[1;32m     31\u001b[0m             \u001b[0mcast\u001b[0m\u001b[0;34m(\u001b[0m\u001b[0mModel\u001b[0m\u001b[0;34m[\u001b[0m\u001b[0mRagged\u001b[0m\u001b[0;34m,\u001b[0m \u001b[0mRagged\u001b[0m\u001b[0;34m]\u001b[0m\u001b[0;34m,\u001b[0m \u001b[0mmodel\u001b[0m\u001b[0;34m)\u001b[0m\u001b[0;34m,\u001b[0m \u001b[0mcast\u001b[0m\u001b[0;34m(\u001b[0m\u001b[0mRagged\u001b[0m\u001b[0;34m,\u001b[0m \u001b[0mXseq\u001b[0m\u001b[0;34m)\u001b[0m\u001b[0;34m,\u001b[0m \u001b[0mis_train\u001b[0m\u001b[0;34m\u001b[0m\u001b[0;34m\u001b[0m\u001b[0m\n\u001b[1;32m     32\u001b[0m         )\n",
      "\u001b[0;32m/Library/Frameworks/Python.framework/Versions/3.8/lib/python3.8/site-packages/thinc/layers/with_array.py\u001b[0m in \u001b[0;36m_ragged_forward\u001b[0;34m(model, Xr, is_train)\u001b[0m\n\u001b[1;32m     88\u001b[0m ) -> Tuple[Ragged, Callable]:\n\u001b[1;32m     89\u001b[0m     \u001b[0mlayer\u001b[0m\u001b[0;34m:\u001b[0m \u001b[0mModel\u001b[0m\u001b[0;34m[\u001b[0m\u001b[0mArrayXd\u001b[0m\u001b[0;34m,\u001b[0m \u001b[0mArrayXd\u001b[0m\u001b[0;34m]\u001b[0m \u001b[0;34m=\u001b[0m \u001b[0mmodel\u001b[0m\u001b[0;34m.\u001b[0m\u001b[0mlayers\u001b[0m\u001b[0;34m[\u001b[0m\u001b[0;36m0\u001b[0m\u001b[0;34m]\u001b[0m\u001b[0;34m\u001b[0m\u001b[0;34m\u001b[0m\u001b[0m\n\u001b[0;32m---> 90\u001b[0;31m     \u001b[0mY\u001b[0m\u001b[0;34m,\u001b[0m \u001b[0mget_dX\u001b[0m \u001b[0;34m=\u001b[0m \u001b[0mlayer\u001b[0m\u001b[0;34m(\u001b[0m\u001b[0mXr\u001b[0m\u001b[0;34m.\u001b[0m\u001b[0mdataXd\u001b[0m\u001b[0;34m,\u001b[0m \u001b[0mis_train\u001b[0m\u001b[0;34m)\u001b[0m\u001b[0;34m\u001b[0m\u001b[0;34m\u001b[0m\u001b[0m\n\u001b[0m\u001b[1;32m     91\u001b[0m \u001b[0;34m\u001b[0m\u001b[0m\n\u001b[1;32m     92\u001b[0m     \u001b[0;32mdef\u001b[0m \u001b[0mbackprop\u001b[0m\u001b[0;34m(\u001b[0m\u001b[0mdYr\u001b[0m\u001b[0;34m:\u001b[0m \u001b[0mRagged\u001b[0m\u001b[0;34m)\u001b[0m \u001b[0;34m->\u001b[0m \u001b[0mRagged\u001b[0m\u001b[0;34m:\u001b[0m\u001b[0;34m\u001b[0m\u001b[0;34m\u001b[0m\u001b[0m\n",
      "\u001b[0;32m/Library/Frameworks/Python.framework/Versions/3.8/lib/python3.8/site-packages/thinc/model.py\u001b[0m in \u001b[0;36m__call__\u001b[0;34m(self, X, is_train)\u001b[0m\n\u001b[1;32m    289\u001b[0m         \"\"\"Call the model's `forward` function, returning the output and a\n\u001b[1;32m    290\u001b[0m         callback to compute the gradients via backpropagation.\"\"\"\n\u001b[0;32m--> 291\u001b[0;31m         \u001b[0;32mreturn\u001b[0m \u001b[0mself\u001b[0m\u001b[0;34m.\u001b[0m\u001b[0m_func\u001b[0m\u001b[0;34m(\u001b[0m\u001b[0mself\u001b[0m\u001b[0;34m,\u001b[0m \u001b[0mX\u001b[0m\u001b[0;34m,\u001b[0m \u001b[0mis_train\u001b[0m\u001b[0;34m=\u001b[0m\u001b[0mis_train\u001b[0m\u001b[0;34m)\u001b[0m\u001b[0;34m\u001b[0m\u001b[0;34m\u001b[0m\u001b[0m\n\u001b[0m\u001b[1;32m    292\u001b[0m \u001b[0;34m\u001b[0m\u001b[0m\n\u001b[1;32m    293\u001b[0m     \u001b[0;32mdef\u001b[0m \u001b[0minitialize\u001b[0m\u001b[0;34m(\u001b[0m\u001b[0mself\u001b[0m\u001b[0;34m,\u001b[0m \u001b[0mX\u001b[0m\u001b[0;34m:\u001b[0m \u001b[0mOptional\u001b[0m\u001b[0;34m[\u001b[0m\u001b[0mInT\u001b[0m\u001b[0;34m]\u001b[0m \u001b[0;34m=\u001b[0m \u001b[0;32mNone\u001b[0m\u001b[0;34m,\u001b[0m \u001b[0mY\u001b[0m\u001b[0;34m:\u001b[0m \u001b[0mOptional\u001b[0m\u001b[0;34m[\u001b[0m\u001b[0mOutT\u001b[0m\u001b[0;34m]\u001b[0m \u001b[0;34m=\u001b[0m \u001b[0;32mNone\u001b[0m\u001b[0;34m)\u001b[0m \u001b[0;34m->\u001b[0m \u001b[0;34m\"Model\"\u001b[0m\u001b[0;34m:\u001b[0m\u001b[0;34m\u001b[0m\u001b[0;34m\u001b[0m\u001b[0m\n",
      "\u001b[0;32m/Library/Frameworks/Python.framework/Versions/3.8/lib/python3.8/site-packages/thinc/layers/chain.py\u001b[0m in \u001b[0;36mforward\u001b[0;34m(model, X, is_train)\u001b[0m\n\u001b[1;32m     52\u001b[0m     \u001b[0mcallbacks\u001b[0m \u001b[0;34m=\u001b[0m \u001b[0;34m[\u001b[0m\u001b[0;34m]\u001b[0m\u001b[0;34m\u001b[0m\u001b[0;34m\u001b[0m\u001b[0m\n\u001b[1;32m     53\u001b[0m     \u001b[0;32mfor\u001b[0m \u001b[0mlayer\u001b[0m \u001b[0;32min\u001b[0m \u001b[0mmodel\u001b[0m\u001b[0;34m.\u001b[0m\u001b[0mlayers\u001b[0m\u001b[0;34m:\u001b[0m\u001b[0;34m\u001b[0m\u001b[0;34m\u001b[0m\u001b[0m\n\u001b[0;32m---> 54\u001b[0;31m         \u001b[0mY\u001b[0m\u001b[0;34m,\u001b[0m \u001b[0minc_layer_grad\u001b[0m \u001b[0;34m=\u001b[0m \u001b[0mlayer\u001b[0m\u001b[0;34m(\u001b[0m\u001b[0mX\u001b[0m\u001b[0;34m,\u001b[0m \u001b[0mis_train\u001b[0m\u001b[0;34m=\u001b[0m\u001b[0mis_train\u001b[0m\u001b[0;34m)\u001b[0m\u001b[0;34m\u001b[0m\u001b[0;34m\u001b[0m\u001b[0m\n\u001b[0m\u001b[1;32m     55\u001b[0m         \u001b[0mcallbacks\u001b[0m\u001b[0;34m.\u001b[0m\u001b[0mappend\u001b[0m\u001b[0;34m(\u001b[0m\u001b[0minc_layer_grad\u001b[0m\u001b[0;34m)\u001b[0m\u001b[0;34m\u001b[0m\u001b[0;34m\u001b[0m\u001b[0m\n\u001b[1;32m     56\u001b[0m         \u001b[0mX\u001b[0m \u001b[0;34m=\u001b[0m \u001b[0mY\u001b[0m\u001b[0;34m\u001b[0m\u001b[0;34m\u001b[0m\u001b[0m\n",
      "\u001b[0;32m/Library/Frameworks/Python.framework/Versions/3.8/lib/python3.8/site-packages/thinc/model.py\u001b[0m in \u001b[0;36m__call__\u001b[0;34m(self, X, is_train)\u001b[0m\n\u001b[1;32m    289\u001b[0m         \"\"\"Call the model's `forward` function, returning the output and a\n\u001b[1;32m    290\u001b[0m         callback to compute the gradients via backpropagation.\"\"\"\n\u001b[0;32m--> 291\u001b[0;31m         \u001b[0;32mreturn\u001b[0m \u001b[0mself\u001b[0m\u001b[0;34m.\u001b[0m\u001b[0m_func\u001b[0m\u001b[0;34m(\u001b[0m\u001b[0mself\u001b[0m\u001b[0;34m,\u001b[0m \u001b[0mX\u001b[0m\u001b[0;34m,\u001b[0m \u001b[0mis_train\u001b[0m\u001b[0;34m=\u001b[0m\u001b[0mis_train\u001b[0m\u001b[0;34m)\u001b[0m\u001b[0;34m\u001b[0m\u001b[0;34m\u001b[0m\u001b[0m\n\u001b[0m\u001b[1;32m    292\u001b[0m \u001b[0;34m\u001b[0m\u001b[0m\n\u001b[1;32m    293\u001b[0m     \u001b[0;32mdef\u001b[0m \u001b[0minitialize\u001b[0m\u001b[0;34m(\u001b[0m\u001b[0mself\u001b[0m\u001b[0;34m,\u001b[0m \u001b[0mX\u001b[0m\u001b[0;34m:\u001b[0m \u001b[0mOptional\u001b[0m\u001b[0;34m[\u001b[0m\u001b[0mInT\u001b[0m\u001b[0;34m]\u001b[0m \u001b[0;34m=\u001b[0m \u001b[0;32mNone\u001b[0m\u001b[0;34m,\u001b[0m \u001b[0mY\u001b[0m\u001b[0;34m:\u001b[0m \u001b[0mOptional\u001b[0m\u001b[0;34m[\u001b[0m\u001b[0mOutT\u001b[0m\u001b[0;34m]\u001b[0m \u001b[0;34m=\u001b[0m \u001b[0;32mNone\u001b[0m\u001b[0;34m)\u001b[0m \u001b[0;34m->\u001b[0m \u001b[0;34m\"Model\"\u001b[0m\u001b[0;34m:\u001b[0m\u001b[0;34m\u001b[0m\u001b[0;34m\u001b[0m\u001b[0m\n",
      "\u001b[0;32m/Library/Frameworks/Python.framework/Versions/3.8/lib/python3.8/site-packages/thinc/layers/chain.py\u001b[0m in \u001b[0;36mforward\u001b[0;34m(model, X, is_train)\u001b[0m\n\u001b[1;32m     52\u001b[0m     \u001b[0mcallbacks\u001b[0m \u001b[0;34m=\u001b[0m \u001b[0;34m[\u001b[0m\u001b[0;34m]\u001b[0m\u001b[0;34m\u001b[0m\u001b[0;34m\u001b[0m\u001b[0m\n\u001b[1;32m     53\u001b[0m     \u001b[0;32mfor\u001b[0m \u001b[0mlayer\u001b[0m \u001b[0;32min\u001b[0m \u001b[0mmodel\u001b[0m\u001b[0;34m.\u001b[0m\u001b[0mlayers\u001b[0m\u001b[0;34m:\u001b[0m\u001b[0;34m\u001b[0m\u001b[0;34m\u001b[0m\u001b[0m\n\u001b[0;32m---> 54\u001b[0;31m         \u001b[0mY\u001b[0m\u001b[0;34m,\u001b[0m \u001b[0minc_layer_grad\u001b[0m \u001b[0;34m=\u001b[0m \u001b[0mlayer\u001b[0m\u001b[0;34m(\u001b[0m\u001b[0mX\u001b[0m\u001b[0;34m,\u001b[0m \u001b[0mis_train\u001b[0m\u001b[0;34m=\u001b[0m\u001b[0mis_train\u001b[0m\u001b[0;34m)\u001b[0m\u001b[0;34m\u001b[0m\u001b[0;34m\u001b[0m\u001b[0m\n\u001b[0m\u001b[1;32m     55\u001b[0m         \u001b[0mcallbacks\u001b[0m\u001b[0;34m.\u001b[0m\u001b[0mappend\u001b[0m\u001b[0;34m(\u001b[0m\u001b[0minc_layer_grad\u001b[0m\u001b[0;34m)\u001b[0m\u001b[0;34m\u001b[0m\u001b[0;34m\u001b[0m\u001b[0m\n\u001b[1;32m     56\u001b[0m         \u001b[0mX\u001b[0m \u001b[0;34m=\u001b[0m \u001b[0mY\u001b[0m\u001b[0;34m\u001b[0m\u001b[0;34m\u001b[0m\u001b[0m\n",
      "\u001b[0;32m/Library/Frameworks/Python.framework/Versions/3.8/lib/python3.8/site-packages/thinc/model.py\u001b[0m in \u001b[0;36m__call__\u001b[0;34m(self, X, is_train)\u001b[0m\n\u001b[1;32m    289\u001b[0m         \"\"\"Call the model's `forward` function, returning the output and a\n\u001b[1;32m    290\u001b[0m         callback to compute the gradients via backpropagation.\"\"\"\n\u001b[0;32m--> 291\u001b[0;31m         \u001b[0;32mreturn\u001b[0m \u001b[0mself\u001b[0m\u001b[0;34m.\u001b[0m\u001b[0m_func\u001b[0m\u001b[0;34m(\u001b[0m\u001b[0mself\u001b[0m\u001b[0;34m,\u001b[0m \u001b[0mX\u001b[0m\u001b[0;34m,\u001b[0m \u001b[0mis_train\u001b[0m\u001b[0;34m=\u001b[0m\u001b[0mis_train\u001b[0m\u001b[0;34m)\u001b[0m\u001b[0;34m\u001b[0m\u001b[0;34m\u001b[0m\u001b[0m\n\u001b[0m\u001b[1;32m    292\u001b[0m \u001b[0;34m\u001b[0m\u001b[0m\n\u001b[1;32m    293\u001b[0m     \u001b[0;32mdef\u001b[0m \u001b[0minitialize\u001b[0m\u001b[0;34m(\u001b[0m\u001b[0mself\u001b[0m\u001b[0;34m,\u001b[0m \u001b[0mX\u001b[0m\u001b[0;34m:\u001b[0m \u001b[0mOptional\u001b[0m\u001b[0;34m[\u001b[0m\u001b[0mInT\u001b[0m\u001b[0;34m]\u001b[0m \u001b[0;34m=\u001b[0m \u001b[0;32mNone\u001b[0m\u001b[0;34m,\u001b[0m \u001b[0mY\u001b[0m\u001b[0;34m:\u001b[0m \u001b[0mOptional\u001b[0m\u001b[0;34m[\u001b[0m\u001b[0mOutT\u001b[0m\u001b[0;34m]\u001b[0m \u001b[0;34m=\u001b[0m \u001b[0;32mNone\u001b[0m\u001b[0;34m)\u001b[0m \u001b[0;34m->\u001b[0m \u001b[0;34m\"Model\"\u001b[0m\u001b[0;34m:\u001b[0m\u001b[0;34m\u001b[0m\u001b[0;34m\u001b[0m\u001b[0m\n",
      "\u001b[0;32m/Library/Frameworks/Python.framework/Versions/3.8/lib/python3.8/site-packages/thinc/layers/maxout.py\u001b[0m in \u001b[0;36mforward\u001b[0;34m(model, X, is_train)\u001b[0m\n\u001b[1;32m     47\u001b[0m     \u001b[0mW\u001b[0m \u001b[0;34m=\u001b[0m \u001b[0mmodel\u001b[0m\u001b[0;34m.\u001b[0m\u001b[0mget_param\u001b[0m\u001b[0;34m(\u001b[0m\u001b[0;34m\"W\"\u001b[0m\u001b[0;34m)\u001b[0m\u001b[0;34m\u001b[0m\u001b[0;34m\u001b[0m\u001b[0m\n\u001b[1;32m     48\u001b[0m     \u001b[0mW\u001b[0m \u001b[0;34m=\u001b[0m \u001b[0mmodel\u001b[0m\u001b[0;34m.\u001b[0m\u001b[0mops\u001b[0m\u001b[0;34m.\u001b[0m\u001b[0mreshape2f\u001b[0m\u001b[0;34m(\u001b[0m\u001b[0mW\u001b[0m\u001b[0;34m,\u001b[0m \u001b[0mnO\u001b[0m \u001b[0;34m*\u001b[0m \u001b[0mnP\u001b[0m\u001b[0;34m,\u001b[0m \u001b[0mnI\u001b[0m\u001b[0;34m)\u001b[0m\u001b[0;34m\u001b[0m\u001b[0;34m\u001b[0m\u001b[0m\n\u001b[0;32m---> 49\u001b[0;31m     \u001b[0mY\u001b[0m \u001b[0;34m=\u001b[0m \u001b[0mmodel\u001b[0m\u001b[0;34m.\u001b[0m\u001b[0mops\u001b[0m\u001b[0;34m.\u001b[0m\u001b[0mgemm\u001b[0m\u001b[0;34m(\u001b[0m\u001b[0mX\u001b[0m\u001b[0;34m,\u001b[0m \u001b[0mW\u001b[0m\u001b[0;34m,\u001b[0m \u001b[0mtrans2\u001b[0m\u001b[0;34m=\u001b[0m\u001b[0;32mTrue\u001b[0m\u001b[0;34m)\u001b[0m\u001b[0;34m\u001b[0m\u001b[0;34m\u001b[0m\u001b[0m\n\u001b[0m\u001b[1;32m     50\u001b[0m     \u001b[0mY\u001b[0m \u001b[0;34m+=\u001b[0m \u001b[0mmodel\u001b[0m\u001b[0;34m.\u001b[0m\u001b[0mops\u001b[0m\u001b[0;34m.\u001b[0m\u001b[0mreshape1f\u001b[0m\u001b[0;34m(\u001b[0m\u001b[0mb\u001b[0m\u001b[0;34m,\u001b[0m \u001b[0mnO\u001b[0m \u001b[0;34m*\u001b[0m \u001b[0mnP\u001b[0m\u001b[0;34m)\u001b[0m\u001b[0;34m\u001b[0m\u001b[0;34m\u001b[0m\u001b[0m\n\u001b[1;32m     51\u001b[0m     \u001b[0mZ\u001b[0m \u001b[0;34m=\u001b[0m \u001b[0mmodel\u001b[0m\u001b[0;34m.\u001b[0m\u001b[0mops\u001b[0m\u001b[0;34m.\u001b[0m\u001b[0mreshape3f\u001b[0m\u001b[0;34m(\u001b[0m\u001b[0mY\u001b[0m\u001b[0;34m,\u001b[0m \u001b[0mY\u001b[0m\u001b[0;34m.\u001b[0m\u001b[0mshape\u001b[0m\u001b[0;34m[\u001b[0m\u001b[0;36m0\u001b[0m\u001b[0;34m]\u001b[0m\u001b[0;34m,\u001b[0m \u001b[0mnO\u001b[0m\u001b[0;34m,\u001b[0m \u001b[0mnP\u001b[0m\u001b[0;34m)\u001b[0m\u001b[0;34m\u001b[0m\u001b[0;34m\u001b[0m\u001b[0m\n",
      "\u001b[0;31mKeyboardInterrupt\u001b[0m: "
     ]
    }
   ],
   "source": [
    "bunka = NestedTopicModeling()\n",
    "model = bunka.fit(\n",
    "    data,\n",
    "    text_var=\"content\",\n",
    "    index_var=\"bindex\",\n",
    "    sample_size=10000,\n",
    "    sample_terms=10000,\n",
    "    embeddings_model=\"tfidf\",\n",
    "    ngrams=(2,2),\n",
    "    ents=True,\n",
    "    language=\"fr\",\n",
    "    db_path=\".\",\n",
    ")"
   ]
  },
  {
   "cell_type": "code",
   "execution_count": 4,
   "id": "d32e80fb-0fe1-4911-9b29-978f807ec782",
   "metadata": {},
   "outputs": [],
   "source": [
    "#fig = model.visualize_embeddings(nested_level = 1 , width = 1000, height = 600)\n",
    "#fig.show()"
   ]
  },
  {
   "cell_type": "code",
   "execution_count": 18,
   "id": "7716c2d3-b3a5-4d92-b8ad-390a1ea604bf",
   "metadata": {
    "tags": []
   },
   "outputs": [
    {
     "data": {
      "application/vnd.plotly.v1+json": {
       "config": {
        "plotlyServerURL": "https://plot.ly"
       },
       "data": [
        {
         "branchvalues": "total",
         "customdata": [
          [
           0
          ],
          [
           0
          ],
          [
           0
          ],
          [
           0
          ],
          [
           0
          ],
          [
           0
          ],
          [
           0
          ],
          [
           0
          ],
          [
           0
          ],
          [
           0
          ],
          [
           0
          ],
          [
           0
          ],
          [
           0
          ],
          [
           0
          ],
          [
           0
          ],
          [
           0
          ],
          [
           0
          ],
          [
           0
          ],
          [
           0
          ],
          [
           0
          ],
          [
           0
          ],
          [
           0
          ],
          [
           0
          ],
          [
           0
          ],
          [
           0
          ],
          [
           0
          ],
          [
           0
          ],
          [
           0
          ],
          [
           0
          ],
          [
           0
          ],
          [
           0
          ],
          [
           0
          ],
          [
           0
          ],
          [
           0
          ],
          [
           0
          ],
          [
           0
          ],
          [
           0
          ],
          [
           0
          ],
          [
           0
          ],
          [
           0
          ],
          [
           0
          ],
          [
           0
          ],
          [
           0
          ],
          [
           0
          ],
          [
           0
          ],
          [
           0
          ],
          [
           0
          ],
          [
           0
          ],
          [
           0
          ],
          [
           0
          ],
          [
           0
          ],
          [
           0
          ],
          [
           0
          ],
          [
           0
          ],
          [
           0
          ],
          [
           0
          ],
          [
           0
          ],
          [
           0
          ],
          [
           0
          ],
          [
           0
          ],
          [
           0
          ],
          [
           0
          ],
          [
           0
          ],
          [
           0
          ],
          [
           0
          ],
          [
           0
          ],
          [
           0
          ],
          [
           0
          ],
          [
           0
          ],
          [
           0
          ],
          [
           0
          ],
          [
           0
          ],
          [
           0
          ],
          [
           0
          ],
          [
           0
          ],
          [
           0
          ],
          [
           0
          ],
          [
           0
          ],
          [
           0
          ],
          [
           0
          ],
          [
           0
          ],
          [
           0
          ],
          [
           0
          ],
          [
           0
          ],
          [
           0
          ],
          [
           0
          ],
          [
           0
          ],
          [
           0
          ],
          [
           0
          ],
          [
           0
          ],
          [
           0
          ],
          [
           0
          ],
          [
           0
          ],
          [
           0
          ],
          [
           0
          ],
          [
           0
          ],
          [
           0
          ],
          [
           0
          ],
          [
           0
          ],
          [
           0
          ],
          [
           0
          ],
          [
           0
          ]
         ],
         "domain": {
          "x": [
           0,
           1
          ],
          "y": [
           0,
           1
          ]
         },
         "hovertemplate": "labels=%{label}<br>topic_size=%{value}<br>parent=%{parent}<extra></extra>",
         "ids": [
          "Topics Treemap/Progrès ¦ | Intelligence humaine | Alan turing/Alan turing | Google | Programme informatique/Alan turing | Hugo sarrade | Mercedes",
          "Topics Treemap/Document contains | | article | Nouvelle pépite/Nouvelle approche | Paris france | Assemblée générale/Amazon | Financial times | Utilisateurs britanniques",
          "Topics Treemap/Google | Assistant vocal | Google assistant/Judith duportail | Problème mécanique | Rencontre amoureuse/Application mobile | Big data | Poste",
          "Topics Treemap/Google | Assistant vocal | Google assistant/Intel | | usine | Start up/Application mobile | Nouvelle fonctionnalité | Nouvelle technologie",
          "Topics Treemap/Mit | Drone volt | Voiture autonome/Big data | Propriété intellectuelle | Nouvelle génération/Apprentissage automatique | Machine learning | Monde véronique",
          "Topics Treemap/Progrès ¦ | Intelligence humaine | Alan turing/Révolution technologique | Start up | Discipline scientifique/Artificielle ia | Progrès ¦ | Intelligence artificiel",
          "Topics Treemap/Éducation nationale | Éthique ccne | Florence parly/Laurent alexandre | Smart city | Vie quotidienne/Artificielle ia | Progrès ¦ | Université populaire",
          "Topics Treemap/Mit | Drone volt | Voiture autonome/Mark zuckerberg | Google | Application chinoise/Artificielle ia | This article | Microsoft",
          "Topics Treemap/Document contains | | article | Nouvelle pépite/Nouvelle approche | Paris france | Assemblée générale/Assemblée générale | Paris france | Nouvelle approche",
          "Topics Treemap/Dossier médical | Jeunes pousses | Centre hospitalier/Festival futur | Grand public | Monsieur cirque/Big data | Festival futur | E édition",
          "Topics Treemap/Machine learning | Expérience client | Ibm/Big data | Marketing digital | Donnée brute/Big data | Google | Donnée brute",
          "Topics Treemap/Ventures | Reconnaissance faciale | Angels/Lien url | Document référence | Bits quantiques/Cnrs | Transformation digitale | Renault",
          "Topics Treemap/Progrès ¦ | Intelligence humaine | Alan turing/Dernière année | Directeur général | Pouvoirs publics/Directeur général | Dernière année | Comportement routier",
          "Topics Treemap/Machine learning | Expérience client | Ibm/Microsoft | Type ia | Données client/Dispositif médical | Plein confinement | Marie pirotais",
          "Topics Treemap/Mit | Drone volt | Voiture autonome/Véhicule autonome | Tesla | Drone volt/Drone volt | Civils professionnels | Drones civils",
          "Topics Treemap/Google | Assistant vocal | Google assistant/Assistant vocal | Amazon | Lg/Enceintes connectées | Enceintes intelligentes | Relation client",
          "Topics Treemap/Éducation nationale | Éthique ccne | Florence parly/Éthique ccne | Florence parly | Consultatif national/Florence parly | Ministre des armées | Armées florence",
          "Topics Treemap/Ventures | Reconnaissance faciale | Angels/Orange | Stéphane richard | Partenariat stratégique/Foyer rural | Microsoft | This article",
          "Topics Treemap/Dossier médical | Jeunes pousses | Centre hospitalier/Dossier médical | Google | Centre hospitalier/Google | Big data | Dossier médical",
          "Topics Treemap/Google | Assistant vocal | Google assistant/Google | Assistant virtuel | Microsoft/Google | Google assistant | Conférence annuelle",
          "Topics Treemap/Mit | Drone volt | Voiture autonome/Mark zuckerberg | Google | Application chinoise/Google | Intelligence artificiel | Réseau social",
          "Topics Treemap/Progrès ¦ | Intelligence humaine | Alan turing/Alan turing | Google | Programme informatique/Google | Lee sedol | Parc éolien",
          "Topics Treemap/Mit | Drone volt | Voiture autonome/Véhicule autonome | Tesla | Drone volt/Google | Société américaine | Apple",
          "Topics Treemap/Mit | Drone volt | Voiture autonome/Mit | Petit robot | Massachusetts institute of technology/Google | Temps réel | Îà °",
          "Topics Treemap/Ventures | Reconnaissance faciale | Angels/Géant chinois | Reconnaissance faciale | Dollars milliards/Géant chinois | Dollars milliards | °c",
          "Topics Treemap/Machine learning | Expérience client | Ibm/Ibm | Bourse de paris | Afp/Ibm | Bourse de paris | Îà °",
          "Topics Treemap/Ventures | Reconnaissance faciale | Angels/Lien url | Document référence | Bits quantiques/Informatique quantique | Bits quantiques | Big data",
          "Topics Treemap/Google | Assistant vocal | Google assistant/Intel | | usine | Start up/Intel | This article | Google",
          "Topics Treemap/Dossier médical | Jeunes pousses | Centre hospitalier/Jeunes pousses | Las vegas | Monde entier/Intelligence artificiel | Objet connecté | Las vegas",
          "Topics Treemap/Google | Assistant vocal | Google assistant/Judith duportail | Problème mécanique | Rencontre amoureuse/Judith duportail | Meetic | Rencontre amoureuse",
          "Topics Treemap/Google | Assistant vocal | Google assistant/Assistant vocal | Amazon | Lg/Lg | Amazon | Enceinte echo",
          "Topics Treemap/Machine learning | Expérience client | Ibm/Ibm | Bourse de paris | Afp/Machine learning | This article | Nouvelle forme",
          "Topics Treemap/Document contains | | article | Nouvelle pépite/°c | Pousses nationales | Téléviseurs grand/Master artificial | Éducatif unique | Programme éducatif",
          "Topics Treemap/Machine learning | Expérience client | Ibm/Microsoft | Type ia | Données client/Microsoft | Google | Type ia",
          "Topics Treemap/Éducation nationale | Éthique ccne | Florence parly/Commission européenne | Stratégie nationale | Microsoft/Microsoft | Réseau social | Haute performance",
          "Topics Treemap/Dossier médical | Jeunes pousses | Centre hospitalier/Fin juillet | Données numériques | Machine learning/Objet connecté | Pme | Données numériques",
          "Topics Treemap/Ventures | Reconnaissance faciale | Angels/Orange | Stéphane richard | Partenariat stratégique/Orange | Stéphane richard | Google",
          "Topics Treemap/Dossier médical | Jeunes pousses | Centre hospitalier/Festival futur | Grand public | Monsieur cirque/Outils savants | Meilleur édito | Manuel herbomel",
          "Topics Treemap/Éducation nationale | Éthique ccne | Florence parly/Inspection académique | Directeur académique | Éducation nationale/Page c | | article | Gouvernement philippe",
          "Topics Treemap/Progrès ¦ | Intelligence humaine | Alan turing/Dernière année | Directeur général | Pouvoirs publics/Page finance | Soft skills | Direction financière",
          "Topics Treemap/Mit | Drone volt | Voiture autonome/Mit | Petit robot | Massachusetts institute of technology/Petit robot | Innovation digitale | Moyenne nationale",
          "Topics Treemap/Dossier médical | Jeunes pousses | Centre hospitalier/Dossier médical | Google | Centre hospitalier/Pr | Nouvelle étude | Trc",
          "Topics Treemap/Progrès ¦ | Intelligence humaine | Alan turing/Noah harari | Yuval noah | Steven spielberg/Progrès ¦ | Artificielle ia | Îà °",
          "Topics Treemap/Machine learning | Expérience client | Ibm/Expérience client | Service client | Relation client/Promotion immobilière | Tendance chatbot | Tchat louis",
          "Topics Treemap/Éducation nationale | Éthique ccne | Florence parly/Commission européenne | Stratégie nationale | Microsoft/Rapport villani | France ia | Député lrem",
          "Topics Treemap/Google | Assistant vocal | Google assistant/Google | Assistant virtuel | Microsoft/Reconnaissance faciale | Pme | Phénomène renaissance",
          "Topics Treemap/Ventures | Reconnaissance faciale | Angels/Géant chinois | Reconnaissance faciale | Dollars milliards/Reconnaissance faciale | Yuans milliard | Crédit social",
          "Topics Treemap/Ventures | Reconnaissance faciale | Angels/Angels | Tpe | Ventures/Rennais energiency | Publicité arpp | Régulation professionnelle",
          "Topics Treemap/Machine learning | Expérience client | Ibm/Big data | Marketing digital | Donnée brute/Site web | | article | This article",
          "Topics Treemap/Progrès ¦ | Intelligence humaine | Alan turing/Noah harari | Yuval noah | Steven spielberg/Steven spielberg | Google | Artificielle film",
          "Topics Treemap/Éducation nationale | Éthique ccne | Florence parly/Laurent alexandre | Smart city | Vie quotidienne/This article | Table ronde | Réunion publique",
          "Topics Treemap/Dossier médical | Jeunes pousses | Centre hospitalier/Jeunes pousses | Las vegas | Monde entier/Transition énergétique | Grand prix | Octobre dernier",
          "Topics Treemap/Document contains | | article | Nouvelle pépite/°c | Pousses nationales | Téléviseurs grand/Téléviseurs grand | Lg | Er mondial",
          "Topics Treemap/Dossier médical | Jeunes pousses | Centre hospitalier/Fin juillet | Données numériques | Machine learning/Télévision personnalisé | Ouestfrance site | This article",
          "Topics Treemap/Document contains | | article | Nouvelle pépite/Îà ° | Union européenne | Nouvelle pépite/Union européenne | | article | Document contains",
          "Topics Treemap/Ventures | Reconnaissance faciale | Angels/Angels | Tpe | Ventures/Ventures | Angels | Big data",
          "Topics Treemap/Mit | Drone volt | Voiture autonome/Big data | Propriété intellectuelle | Nouvelle génération/°c | Nouvelle génération | Propriété intellectuelle",
          "Topics Treemap/Éducation nationale | Éthique ccne | Florence parly/Éthique ccne | Florence parly | Consultatif national/Éthique ccne | États généraux | Robes noires",
          "Topics Treemap/Éducation nationale | Éthique ccne | Florence parly/Inspection académique | Directeur académique | Éducation nationale/Îà ° | Directeur académique | Inspection académique",
          "Topics Treemap/Machine learning | Expérience client | Ibm/Expérience client | Service client | Relation client/Îà ° | Service client | Relation client",
          "Topics Treemap/Document contains | | article | Nouvelle pépite/Îà ° | Union européenne | Nouvelle pépite/Îà ° | Startup française | Nouvelle pépite",
          "Topics Treemap/Progrès ¦ | Intelligence humaine | Alan turing/Révolution technologique | Start up | Discipline scientifique/Îà ° | °c | Meilleure prestation",
          "Topics Treemap/Progrès ¦ | Intelligence humaine | Alan turing/Alan turing | Google | Programme informatique",
          "Topics Treemap/Ventures | Reconnaissance faciale | Angels/Angels | Tpe | Ventures",
          "Topics Treemap/Google | Assistant vocal | Google assistant/Assistant vocal | Amazon | Lg",
          "Topics Treemap/Machine learning | Expérience client | Ibm/Big data | Marketing digital | Donnée brute",
          "Topics Treemap/Mit | Drone volt | Voiture autonome/Big data | Propriété intellectuelle | Nouvelle génération",
          "Topics Treemap/Éducation nationale | Éthique ccne | Florence parly/Commission européenne | Stratégie nationale | Microsoft",
          "Topics Treemap/Progrès ¦ | Intelligence humaine | Alan turing/Dernière année | Directeur général | Pouvoirs publics",
          "Topics Treemap/Dossier médical | Jeunes pousses | Centre hospitalier/Dossier médical | Google | Centre hospitalier",
          "Topics Treemap/Machine learning | Expérience client | Ibm/Expérience client | Service client | Relation client",
          "Topics Treemap/Dossier médical | Jeunes pousses | Centre hospitalier/Festival futur | Grand public | Monsieur cirque",
          "Topics Treemap/Dossier médical | Jeunes pousses | Centre hospitalier/Fin juillet | Données numériques | Machine learning",
          "Topics Treemap/Google | Assistant vocal | Google assistant/Google | Assistant virtuel | Microsoft",
          "Topics Treemap/Ventures | Reconnaissance faciale | Angels/Géant chinois | Reconnaissance faciale | Dollars milliards",
          "Topics Treemap/Machine learning | Expérience client | Ibm/Ibm | Bourse de paris | Afp",
          "Topics Treemap/Éducation nationale | Éthique ccne | Florence parly/Inspection académique | Directeur académique | Éducation nationale",
          "Topics Treemap/Google | Assistant vocal | Google assistant/Intel | | usine | Start up",
          "Topics Treemap/Dossier médical | Jeunes pousses | Centre hospitalier/Jeunes pousses | Las vegas | Monde entier",
          "Topics Treemap/Google | Assistant vocal | Google assistant/Judith duportail | Problème mécanique | Rencontre amoureuse",
          "Topics Treemap/Éducation nationale | Éthique ccne | Florence parly/Laurent alexandre | Smart city | Vie quotidienne",
          "Topics Treemap/Ventures | Reconnaissance faciale | Angels/Lien url | Document référence | Bits quantiques",
          "Topics Treemap/Mit | Drone volt | Voiture autonome/Mark zuckerberg | Google | Application chinoise",
          "Topics Treemap/Machine learning | Expérience client | Ibm/Microsoft | Type ia | Données client",
          "Topics Treemap/Mit | Drone volt | Voiture autonome/Mit | Petit robot | Massachusetts institute of technology",
          "Topics Treemap/Progrès ¦ | Intelligence humaine | Alan turing/Noah harari | Yuval noah | Steven spielberg",
          "Topics Treemap/Document contains | | article | Nouvelle pépite/Nouvelle approche | Paris france | Assemblée générale",
          "Topics Treemap/Ventures | Reconnaissance faciale | Angels/Orange | Stéphane richard | Partenariat stratégique",
          "Topics Treemap/Progrès ¦ | Intelligence humaine | Alan turing/Révolution technologique | Start up | Discipline scientifique",
          "Topics Treemap/Mit | Drone volt | Voiture autonome/Véhicule autonome | Tesla | Drone volt",
          "Topics Treemap/Document contains | | article | Nouvelle pépite/°c | Pousses nationales | Téléviseurs grand",
          "Topics Treemap/Éducation nationale | Éthique ccne | Florence parly/Éthique ccne | Florence parly | Consultatif national",
          "Topics Treemap/Document contains | | article | Nouvelle pépite/Îà ° | Union européenne | Nouvelle pépite",
          "Topics Treemap/Document contains | | article | Nouvelle pépite",
          "Topics Treemap/Dossier médical | Jeunes pousses | Centre hospitalier",
          "Topics Treemap/Google | Assistant vocal | Google assistant",
          "Topics Treemap/Machine learning | Expérience client | Ibm",
          "Topics Treemap/Mit | Drone volt | Voiture autonome",
          "Topics Treemap/Progrès ¦ | Intelligence humaine | Alan turing",
          "Topics Treemap/Ventures | Reconnaissance faciale | Angels",
          "Topics Treemap/Éducation nationale | Éthique ccne | Florence parly",
          "Topics Treemap"
         ],
         "labels": [
          "Alan turing | Hugo sarrade | Mercedes",
          "Amazon | Financial times | Utilisateurs britanniques",
          "Application mobile | Big data | Poste",
          "Application mobile | Nouvelle fonctionnalité | Nouvelle technologie",
          "Apprentissage automatique | Machine learning | Monde véronique",
          "Artificielle ia | Progrès ¦ | Intelligence artificiel",
          "Artificielle ia | Progrès ¦ | Université populaire",
          "Artificielle ia | This article | Microsoft",
          "Assemblée générale | Paris france | Nouvelle approche",
          "Big data | Festival futur | E édition",
          "Big data | Google | Donnée brute",
          "Cnrs | Transformation digitale | Renault",
          "Directeur général | Dernière année | Comportement routier",
          "Dispositif médical | Plein confinement | Marie pirotais",
          "Drone volt | Civils professionnels | Drones civils",
          "Enceintes connectées | Enceintes intelligentes | Relation client",
          "Florence parly | Ministre des armées | Armées florence",
          "Foyer rural | Microsoft | This article",
          "Google | Big data | Dossier médical",
          "Google | Google assistant | Conférence annuelle",
          "Google | Intelligence artificiel | Réseau social",
          "Google | Lee sedol | Parc éolien",
          "Google | Société américaine | Apple",
          "Google | Temps réel | Îà °",
          "Géant chinois | Dollars milliards | °c",
          "Ibm | Bourse de paris | Îà °",
          "Informatique quantique | Bits quantiques | Big data",
          "Intel | This article | Google",
          "Intelligence artificiel | Objet connecté | Las vegas",
          "Judith duportail | Meetic | Rencontre amoureuse",
          "Lg | Amazon | Enceinte echo",
          "Machine learning | This article | Nouvelle forme",
          "Master artificial | Éducatif unique | Programme éducatif",
          "Microsoft | Google | Type ia",
          "Microsoft | Réseau social | Haute performance",
          "Objet connecté | Pme | Données numériques",
          "Orange | Stéphane richard | Google",
          "Outils savants | Meilleur édito | Manuel herbomel",
          "Page c | | article | Gouvernement philippe",
          "Page finance | Soft skills | Direction financière",
          "Petit robot | Innovation digitale | Moyenne nationale",
          "Pr | Nouvelle étude | Trc",
          "Progrès ¦ | Artificielle ia | Îà °",
          "Promotion immobilière | Tendance chatbot | Tchat louis",
          "Rapport villani | France ia | Député lrem",
          "Reconnaissance faciale | Pme | Phénomène renaissance",
          "Reconnaissance faciale | Yuans milliard | Crédit social",
          "Rennais energiency | Publicité arpp | Régulation professionnelle",
          "Site web | | article | This article",
          "Steven spielberg | Google | Artificielle film",
          "This article | Table ronde | Réunion publique",
          "Transition énergétique | Grand prix | Octobre dernier",
          "Téléviseurs grand | Lg | Er mondial",
          "Télévision personnalisé | Ouestfrance site | This article",
          "Union européenne | | article | Document contains",
          "Ventures | Angels | Big data",
          "°c | Nouvelle génération | Propriété intellectuelle",
          "Éthique ccne | États généraux | Robes noires",
          "Îà ° | Directeur académique | Inspection académique",
          "Îà ° | Service client | Relation client",
          "Îà ° | Startup française | Nouvelle pépite",
          "Îà ° | °c | Meilleure prestation",
          "Alan turing | Google | Programme informatique",
          "Angels | Tpe | Ventures",
          "Assistant vocal | Amazon | Lg",
          "Big data | Marketing digital | Donnée brute",
          "Big data | Propriété intellectuelle | Nouvelle génération",
          "Commission européenne | Stratégie nationale | Microsoft",
          "Dernière année | Directeur général | Pouvoirs publics",
          "Dossier médical | Google | Centre hospitalier",
          "Expérience client | Service client | Relation client",
          "Festival futur | Grand public | Monsieur cirque",
          "Fin juillet | Données numériques | Machine learning",
          "Google | Assistant virtuel | Microsoft",
          "Géant chinois | Reconnaissance faciale | Dollars milliards",
          "Ibm | Bourse de paris | Afp",
          "Inspection académique | Directeur académique | Éducation nationale",
          "Intel | | usine | Start up",
          "Jeunes pousses | Las vegas | Monde entier",
          "Judith duportail | Problème mécanique | Rencontre amoureuse",
          "Laurent alexandre | Smart city | Vie quotidienne",
          "Lien url | Document référence | Bits quantiques",
          "Mark zuckerberg | Google | Application chinoise",
          "Microsoft | Type ia | Données client",
          "Mit | Petit robot | Massachusetts institute of technology",
          "Noah harari | Yuval noah | Steven spielberg",
          "Nouvelle approche | Paris france | Assemblée générale",
          "Orange | Stéphane richard | Partenariat stratégique",
          "Révolution technologique | Start up | Discipline scientifique",
          "Véhicule autonome | Tesla | Drone volt",
          "°c | Pousses nationales | Téléviseurs grand",
          "Éthique ccne | Florence parly | Consultatif national",
          "Îà ° | Union européenne | Nouvelle pépite",
          "Document contains | | article | Nouvelle pépite",
          "Dossier médical | Jeunes pousses | Centre hospitalier",
          "Google | Assistant vocal | Google assistant",
          "Machine learning | Expérience client | Ibm",
          "Mit | Drone volt | Voiture autonome",
          "Progrès ¦ | Intelligence humaine | Alan turing",
          "Ventures | Reconnaissance faciale | Angels",
          "Éducation nationale | Éthique ccne | Florence parly",
          "Topics Treemap"
         ],
         "marker": {
          "coloraxis": "coloraxis",
          "colors": [
           0,
           0,
           0,
           0,
           0,
           0,
           0,
           0,
           0,
           0,
           0,
           0,
           0,
           0,
           0,
           0,
           0,
           0,
           0,
           0,
           0,
           0,
           0,
           0,
           0,
           0,
           0,
           0,
           0,
           0,
           0,
           0,
           0,
           0,
           0,
           0,
           0,
           0,
           0,
           0,
           0,
           0,
           0,
           0,
           0,
           0,
           0,
           0,
           0,
           0,
           0,
           0,
           0,
           0,
           0,
           0,
           0,
           0,
           0,
           0,
           0,
           0,
           0,
           0,
           0,
           0,
           0,
           0,
           0,
           0,
           0,
           0,
           0,
           0,
           0,
           0,
           0,
           0,
           0,
           0,
           0,
           0,
           0,
           0,
           0,
           0,
           0,
           0,
           0,
           0,
           0,
           0,
           0,
           0,
           0,
           0,
           0,
           0,
           0,
           0,
           0,
           0
          ]
         },
         "name": "",
         "parents": [
          "Topics Treemap/Progrès ¦ | Intelligence humaine | Alan turing/Alan turing | Google | Programme informatique",
          "Topics Treemap/Document contains | | article | Nouvelle pépite/Nouvelle approche | Paris france | Assemblée générale",
          "Topics Treemap/Google | Assistant vocal | Google assistant/Judith duportail | Problème mécanique | Rencontre amoureuse",
          "Topics Treemap/Google | Assistant vocal | Google assistant/Intel | | usine | Start up",
          "Topics Treemap/Mit | Drone volt | Voiture autonome/Big data | Propriété intellectuelle | Nouvelle génération",
          "Topics Treemap/Progrès ¦ | Intelligence humaine | Alan turing/Révolution technologique | Start up | Discipline scientifique",
          "Topics Treemap/Éducation nationale | Éthique ccne | Florence parly/Laurent alexandre | Smart city | Vie quotidienne",
          "Topics Treemap/Mit | Drone volt | Voiture autonome/Mark zuckerberg | Google | Application chinoise",
          "Topics Treemap/Document contains | | article | Nouvelle pépite/Nouvelle approche | Paris france | Assemblée générale",
          "Topics Treemap/Dossier médical | Jeunes pousses | Centre hospitalier/Festival futur | Grand public | Monsieur cirque",
          "Topics Treemap/Machine learning | Expérience client | Ibm/Big data | Marketing digital | Donnée brute",
          "Topics Treemap/Ventures | Reconnaissance faciale | Angels/Lien url | Document référence | Bits quantiques",
          "Topics Treemap/Progrès ¦ | Intelligence humaine | Alan turing/Dernière année | Directeur général | Pouvoirs publics",
          "Topics Treemap/Machine learning | Expérience client | Ibm/Microsoft | Type ia | Données client",
          "Topics Treemap/Mit | Drone volt | Voiture autonome/Véhicule autonome | Tesla | Drone volt",
          "Topics Treemap/Google | Assistant vocal | Google assistant/Assistant vocal | Amazon | Lg",
          "Topics Treemap/Éducation nationale | Éthique ccne | Florence parly/Éthique ccne | Florence parly | Consultatif national",
          "Topics Treemap/Ventures | Reconnaissance faciale | Angels/Orange | Stéphane richard | Partenariat stratégique",
          "Topics Treemap/Dossier médical | Jeunes pousses | Centre hospitalier/Dossier médical | Google | Centre hospitalier",
          "Topics Treemap/Google | Assistant vocal | Google assistant/Google | Assistant virtuel | Microsoft",
          "Topics Treemap/Mit | Drone volt | Voiture autonome/Mark zuckerberg | Google | Application chinoise",
          "Topics Treemap/Progrès ¦ | Intelligence humaine | Alan turing/Alan turing | Google | Programme informatique",
          "Topics Treemap/Mit | Drone volt | Voiture autonome/Véhicule autonome | Tesla | Drone volt",
          "Topics Treemap/Mit | Drone volt | Voiture autonome/Mit | Petit robot | Massachusetts institute of technology",
          "Topics Treemap/Ventures | Reconnaissance faciale | Angels/Géant chinois | Reconnaissance faciale | Dollars milliards",
          "Topics Treemap/Machine learning | Expérience client | Ibm/Ibm | Bourse de paris | Afp",
          "Topics Treemap/Ventures | Reconnaissance faciale | Angels/Lien url | Document référence | Bits quantiques",
          "Topics Treemap/Google | Assistant vocal | Google assistant/Intel | | usine | Start up",
          "Topics Treemap/Dossier médical | Jeunes pousses | Centre hospitalier/Jeunes pousses | Las vegas | Monde entier",
          "Topics Treemap/Google | Assistant vocal | Google assistant/Judith duportail | Problème mécanique | Rencontre amoureuse",
          "Topics Treemap/Google | Assistant vocal | Google assistant/Assistant vocal | Amazon | Lg",
          "Topics Treemap/Machine learning | Expérience client | Ibm/Ibm | Bourse de paris | Afp",
          "Topics Treemap/Document contains | | article | Nouvelle pépite/°c | Pousses nationales | Téléviseurs grand",
          "Topics Treemap/Machine learning | Expérience client | Ibm/Microsoft | Type ia | Données client",
          "Topics Treemap/Éducation nationale | Éthique ccne | Florence parly/Commission européenne | Stratégie nationale | Microsoft",
          "Topics Treemap/Dossier médical | Jeunes pousses | Centre hospitalier/Fin juillet | Données numériques | Machine learning",
          "Topics Treemap/Ventures | Reconnaissance faciale | Angels/Orange | Stéphane richard | Partenariat stratégique",
          "Topics Treemap/Dossier médical | Jeunes pousses | Centre hospitalier/Festival futur | Grand public | Monsieur cirque",
          "Topics Treemap/Éducation nationale | Éthique ccne | Florence parly/Inspection académique | Directeur académique | Éducation nationale",
          "Topics Treemap/Progrès ¦ | Intelligence humaine | Alan turing/Dernière année | Directeur général | Pouvoirs publics",
          "Topics Treemap/Mit | Drone volt | Voiture autonome/Mit | Petit robot | Massachusetts institute of technology",
          "Topics Treemap/Dossier médical | Jeunes pousses | Centre hospitalier/Dossier médical | Google | Centre hospitalier",
          "Topics Treemap/Progrès ¦ | Intelligence humaine | Alan turing/Noah harari | Yuval noah | Steven spielberg",
          "Topics Treemap/Machine learning | Expérience client | Ibm/Expérience client | Service client | Relation client",
          "Topics Treemap/Éducation nationale | Éthique ccne | Florence parly/Commission européenne | Stratégie nationale | Microsoft",
          "Topics Treemap/Google | Assistant vocal | Google assistant/Google | Assistant virtuel | Microsoft",
          "Topics Treemap/Ventures | Reconnaissance faciale | Angels/Géant chinois | Reconnaissance faciale | Dollars milliards",
          "Topics Treemap/Ventures | Reconnaissance faciale | Angels/Angels | Tpe | Ventures",
          "Topics Treemap/Machine learning | Expérience client | Ibm/Big data | Marketing digital | Donnée brute",
          "Topics Treemap/Progrès ¦ | Intelligence humaine | Alan turing/Noah harari | Yuval noah | Steven spielberg",
          "Topics Treemap/Éducation nationale | Éthique ccne | Florence parly/Laurent alexandre | Smart city | Vie quotidienne",
          "Topics Treemap/Dossier médical | Jeunes pousses | Centre hospitalier/Jeunes pousses | Las vegas | Monde entier",
          "Topics Treemap/Document contains | | article | Nouvelle pépite/°c | Pousses nationales | Téléviseurs grand",
          "Topics Treemap/Dossier médical | Jeunes pousses | Centre hospitalier/Fin juillet | Données numériques | Machine learning",
          "Topics Treemap/Document contains | | article | Nouvelle pépite/Îà ° | Union européenne | Nouvelle pépite",
          "Topics Treemap/Ventures | Reconnaissance faciale | Angels/Angels | Tpe | Ventures",
          "Topics Treemap/Mit | Drone volt | Voiture autonome/Big data | Propriété intellectuelle | Nouvelle génération",
          "Topics Treemap/Éducation nationale | Éthique ccne | Florence parly/Éthique ccne | Florence parly | Consultatif national",
          "Topics Treemap/Éducation nationale | Éthique ccne | Florence parly/Inspection académique | Directeur académique | Éducation nationale",
          "Topics Treemap/Machine learning | Expérience client | Ibm/Expérience client | Service client | Relation client",
          "Topics Treemap/Document contains | | article | Nouvelle pépite/Îà ° | Union européenne | Nouvelle pépite",
          "Topics Treemap/Progrès ¦ | Intelligence humaine | Alan turing/Révolution technologique | Start up | Discipline scientifique",
          "Topics Treemap/Progrès ¦ | Intelligence humaine | Alan turing",
          "Topics Treemap/Ventures | Reconnaissance faciale | Angels",
          "Topics Treemap/Google | Assistant vocal | Google assistant",
          "Topics Treemap/Machine learning | Expérience client | Ibm",
          "Topics Treemap/Mit | Drone volt | Voiture autonome",
          "Topics Treemap/Éducation nationale | Éthique ccne | Florence parly",
          "Topics Treemap/Progrès ¦ | Intelligence humaine | Alan turing",
          "Topics Treemap/Dossier médical | Jeunes pousses | Centre hospitalier",
          "Topics Treemap/Machine learning | Expérience client | Ibm",
          "Topics Treemap/Dossier médical | Jeunes pousses | Centre hospitalier",
          "Topics Treemap/Dossier médical | Jeunes pousses | Centre hospitalier",
          "Topics Treemap/Google | Assistant vocal | Google assistant",
          "Topics Treemap/Ventures | Reconnaissance faciale | Angels",
          "Topics Treemap/Machine learning | Expérience client | Ibm",
          "Topics Treemap/Éducation nationale | Éthique ccne | Florence parly",
          "Topics Treemap/Google | Assistant vocal | Google assistant",
          "Topics Treemap/Dossier médical | Jeunes pousses | Centre hospitalier",
          "Topics Treemap/Google | Assistant vocal | Google assistant",
          "Topics Treemap/Éducation nationale | Éthique ccne | Florence parly",
          "Topics Treemap/Ventures | Reconnaissance faciale | Angels",
          "Topics Treemap/Mit | Drone volt | Voiture autonome",
          "Topics Treemap/Machine learning | Expérience client | Ibm",
          "Topics Treemap/Mit | Drone volt | Voiture autonome",
          "Topics Treemap/Progrès ¦ | Intelligence humaine | Alan turing",
          "Topics Treemap/Document contains | | article | Nouvelle pépite",
          "Topics Treemap/Ventures | Reconnaissance faciale | Angels",
          "Topics Treemap/Progrès ¦ | Intelligence humaine | Alan turing",
          "Topics Treemap/Mit | Drone volt | Voiture autonome",
          "Topics Treemap/Document contains | | article | Nouvelle pépite",
          "Topics Treemap/Éducation nationale | Éthique ccne | Florence parly",
          "Topics Treemap/Document contains | | article | Nouvelle pépite",
          "Topics Treemap",
          "Topics Treemap",
          "Topics Treemap",
          "Topics Treemap",
          "Topics Treemap",
          "Topics Treemap",
          "Topics Treemap",
          "Topics Treemap",
          ""
         ],
         "root": {
          "color": "lightgrey"
         },
         "type": "treemap",
         "values": [
          1,
          1,
          1,
          1,
          1,
          1,
          1,
          1,
          1,
          1,
          1,
          1,
          1,
          1,
          1,
          1,
          1,
          1,
          1,
          1,
          1,
          1,
          1,
          1,
          1,
          1,
          1,
          1,
          1,
          1,
          1,
          1,
          1,
          1,
          1,
          1,
          1,
          1,
          1,
          1,
          1,
          1,
          1,
          1,
          1,
          1,
          1,
          1,
          1,
          1,
          1,
          1,
          1,
          1,
          1,
          1,
          1,
          1,
          1,
          1,
          1,
          1,
          2,
          2,
          2,
          2,
          2,
          2,
          2,
          2,
          2,
          2,
          2,
          2,
          2,
          2,
          2,
          2,
          2,
          2,
          2,
          2,
          2,
          2,
          2,
          2,
          2,
          2,
          2,
          2,
          2,
          2,
          2,
          6,
          8,
          8,
          8,
          8,
          8,
          8,
          8,
          62
         ]
        }
       ],
       "layout": {
        "coloraxis": {
         "cmid": 0,
         "colorbar": {
          "title": {
           "text": "score_norm"
          }
         },
         "colorscale": [
          [
           0,
           "rgb(0,0,255)"
          ],
          [
           0.1,
           "rgb(51,153,255)"
          ],
          [
           0.2,
           "rgb(102,204,255)"
          ],
          [
           0.3,
           "rgb(153,204,255)"
          ],
          [
           0.4,
           "rgb(204,204,255)"
          ],
          [
           0.5,
           "rgb(255,255,255)"
          ],
          [
           0.6,
           "rgb(255,204,255)"
          ],
          [
           0.7,
           "rgb(255,153,255)"
          ],
          [
           0.8,
           "rgb(255,102,204)"
          ],
          [
           0.9,
           "rgb(255,102,102)"
          ],
          [
           1,
           "rgb(255,0,0)"
          ]
         ]
        },
        "height": 800,
        "legend": {
         "tracegroupgap": 0
        },
        "margin": {
         "t": 60
        },
        "template": {
         "data": {
          "bar": [
           {
            "error_x": {
             "color": "#2a3f5f"
            },
            "error_y": {
             "color": "#2a3f5f"
            },
            "marker": {
             "line": {
              "color": "#E5ECF6",
              "width": 0.5
             },
             "pattern": {
              "fillmode": "overlay",
              "size": 10,
              "solidity": 0.2
             }
            },
            "type": "bar"
           }
          ],
          "barpolar": [
           {
            "marker": {
             "line": {
              "color": "#E5ECF6",
              "width": 0.5
             },
             "pattern": {
              "fillmode": "overlay",
              "size": 10,
              "solidity": 0.2
             }
            },
            "type": "barpolar"
           }
          ],
          "carpet": [
           {
            "aaxis": {
             "endlinecolor": "#2a3f5f",
             "gridcolor": "white",
             "linecolor": "white",
             "minorgridcolor": "white",
             "startlinecolor": "#2a3f5f"
            },
            "baxis": {
             "endlinecolor": "#2a3f5f",
             "gridcolor": "white",
             "linecolor": "white",
             "minorgridcolor": "white",
             "startlinecolor": "#2a3f5f"
            },
            "type": "carpet"
           }
          ],
          "choropleth": [
           {
            "colorbar": {
             "outlinewidth": 0,
             "ticks": ""
            },
            "type": "choropleth"
           }
          ],
          "contour": [
           {
            "colorbar": {
             "outlinewidth": 0,
             "ticks": ""
            },
            "colorscale": [
             [
              0,
              "#0d0887"
             ],
             [
              0.1111111111111111,
              "#46039f"
             ],
             [
              0.2222222222222222,
              "#7201a8"
             ],
             [
              0.3333333333333333,
              "#9c179e"
             ],
             [
              0.4444444444444444,
              "#bd3786"
             ],
             [
              0.5555555555555556,
              "#d8576b"
             ],
             [
              0.6666666666666666,
              "#ed7953"
             ],
             [
              0.7777777777777778,
              "#fb9f3a"
             ],
             [
              0.8888888888888888,
              "#fdca26"
             ],
             [
              1,
              "#f0f921"
             ]
            ],
            "type": "contour"
           }
          ],
          "contourcarpet": [
           {
            "colorbar": {
             "outlinewidth": 0,
             "ticks": ""
            },
            "type": "contourcarpet"
           }
          ],
          "heatmap": [
           {
            "colorbar": {
             "outlinewidth": 0,
             "ticks": ""
            },
            "colorscale": [
             [
              0,
              "#0d0887"
             ],
             [
              0.1111111111111111,
              "#46039f"
             ],
             [
              0.2222222222222222,
              "#7201a8"
             ],
             [
              0.3333333333333333,
              "#9c179e"
             ],
             [
              0.4444444444444444,
              "#bd3786"
             ],
             [
              0.5555555555555556,
              "#d8576b"
             ],
             [
              0.6666666666666666,
              "#ed7953"
             ],
             [
              0.7777777777777778,
              "#fb9f3a"
             ],
             [
              0.8888888888888888,
              "#fdca26"
             ],
             [
              1,
              "#f0f921"
             ]
            ],
            "type": "heatmap"
           }
          ],
          "heatmapgl": [
           {
            "colorbar": {
             "outlinewidth": 0,
             "ticks": ""
            },
            "colorscale": [
             [
              0,
              "#0d0887"
             ],
             [
              0.1111111111111111,
              "#46039f"
             ],
             [
              0.2222222222222222,
              "#7201a8"
             ],
             [
              0.3333333333333333,
              "#9c179e"
             ],
             [
              0.4444444444444444,
              "#bd3786"
             ],
             [
              0.5555555555555556,
              "#d8576b"
             ],
             [
              0.6666666666666666,
              "#ed7953"
             ],
             [
              0.7777777777777778,
              "#fb9f3a"
             ],
             [
              0.8888888888888888,
              "#fdca26"
             ],
             [
              1,
              "#f0f921"
             ]
            ],
            "type": "heatmapgl"
           }
          ],
          "histogram": [
           {
            "marker": {
             "pattern": {
              "fillmode": "overlay",
              "size": 10,
              "solidity": 0.2
             }
            },
            "type": "histogram"
           }
          ],
          "histogram2d": [
           {
            "colorbar": {
             "outlinewidth": 0,
             "ticks": ""
            },
            "colorscale": [
             [
              0,
              "#0d0887"
             ],
             [
              0.1111111111111111,
              "#46039f"
             ],
             [
              0.2222222222222222,
              "#7201a8"
             ],
             [
              0.3333333333333333,
              "#9c179e"
             ],
             [
              0.4444444444444444,
              "#bd3786"
             ],
             [
              0.5555555555555556,
              "#d8576b"
             ],
             [
              0.6666666666666666,
              "#ed7953"
             ],
             [
              0.7777777777777778,
              "#fb9f3a"
             ],
             [
              0.8888888888888888,
              "#fdca26"
             ],
             [
              1,
              "#f0f921"
             ]
            ],
            "type": "histogram2d"
           }
          ],
          "histogram2dcontour": [
           {
            "colorbar": {
             "outlinewidth": 0,
             "ticks": ""
            },
            "colorscale": [
             [
              0,
              "#0d0887"
             ],
             [
              0.1111111111111111,
              "#46039f"
             ],
             [
              0.2222222222222222,
              "#7201a8"
             ],
             [
              0.3333333333333333,
              "#9c179e"
             ],
             [
              0.4444444444444444,
              "#bd3786"
             ],
             [
              0.5555555555555556,
              "#d8576b"
             ],
             [
              0.6666666666666666,
              "#ed7953"
             ],
             [
              0.7777777777777778,
              "#fb9f3a"
             ],
             [
              0.8888888888888888,
              "#fdca26"
             ],
             [
              1,
              "#f0f921"
             ]
            ],
            "type": "histogram2dcontour"
           }
          ],
          "mesh3d": [
           {
            "colorbar": {
             "outlinewidth": 0,
             "ticks": ""
            },
            "type": "mesh3d"
           }
          ],
          "parcoords": [
           {
            "line": {
             "colorbar": {
              "outlinewidth": 0,
              "ticks": ""
             }
            },
            "type": "parcoords"
           }
          ],
          "pie": [
           {
            "automargin": true,
            "type": "pie"
           }
          ],
          "scatter": [
           {
            "marker": {
             "colorbar": {
              "outlinewidth": 0,
              "ticks": ""
             }
            },
            "type": "scatter"
           }
          ],
          "scatter3d": [
           {
            "line": {
             "colorbar": {
              "outlinewidth": 0,
              "ticks": ""
             }
            },
            "marker": {
             "colorbar": {
              "outlinewidth": 0,
              "ticks": ""
             }
            },
            "type": "scatter3d"
           }
          ],
          "scattercarpet": [
           {
            "marker": {
             "colorbar": {
              "outlinewidth": 0,
              "ticks": ""
             }
            },
            "type": "scattercarpet"
           }
          ],
          "scattergeo": [
           {
            "marker": {
             "colorbar": {
              "outlinewidth": 0,
              "ticks": ""
             }
            },
            "type": "scattergeo"
           }
          ],
          "scattergl": [
           {
            "marker": {
             "colorbar": {
              "outlinewidth": 0,
              "ticks": ""
             }
            },
            "type": "scattergl"
           }
          ],
          "scattermapbox": [
           {
            "marker": {
             "colorbar": {
              "outlinewidth": 0,
              "ticks": ""
             }
            },
            "type": "scattermapbox"
           }
          ],
          "scatterpolar": [
           {
            "marker": {
             "colorbar": {
              "outlinewidth": 0,
              "ticks": ""
             }
            },
            "type": "scatterpolar"
           }
          ],
          "scatterpolargl": [
           {
            "marker": {
             "colorbar": {
              "outlinewidth": 0,
              "ticks": ""
             }
            },
            "type": "scatterpolargl"
           }
          ],
          "scatterternary": [
           {
            "marker": {
             "colorbar": {
              "outlinewidth": 0,
              "ticks": ""
             }
            },
            "type": "scatterternary"
           }
          ],
          "surface": [
           {
            "colorbar": {
             "outlinewidth": 0,
             "ticks": ""
            },
            "colorscale": [
             [
              0,
              "#0d0887"
             ],
             [
              0.1111111111111111,
              "#46039f"
             ],
             [
              0.2222222222222222,
              "#7201a8"
             ],
             [
              0.3333333333333333,
              "#9c179e"
             ],
             [
              0.4444444444444444,
              "#bd3786"
             ],
             [
              0.5555555555555556,
              "#d8576b"
             ],
             [
              0.6666666666666666,
              "#ed7953"
             ],
             [
              0.7777777777777778,
              "#fb9f3a"
             ],
             [
              0.8888888888888888,
              "#fdca26"
             ],
             [
              1,
              "#f0f921"
             ]
            ],
            "type": "surface"
           }
          ],
          "table": [
           {
            "cells": {
             "fill": {
              "color": "#EBF0F8"
             },
             "line": {
              "color": "white"
             }
            },
            "header": {
             "fill": {
              "color": "#C8D4E3"
             },
             "line": {
              "color": "white"
             }
            },
            "type": "table"
           }
          ]
         },
         "layout": {
          "annotationdefaults": {
           "arrowcolor": "#2a3f5f",
           "arrowhead": 0,
           "arrowwidth": 1
          },
          "autotypenumbers": "strict",
          "coloraxis": {
           "colorbar": {
            "outlinewidth": 0,
            "ticks": ""
           }
          },
          "colorscale": {
           "diverging": [
            [
             0,
             "#8e0152"
            ],
            [
             0.1,
             "#c51b7d"
            ],
            [
             0.2,
             "#de77ae"
            ],
            [
             0.3,
             "#f1b6da"
            ],
            [
             0.4,
             "#fde0ef"
            ],
            [
             0.5,
             "#f7f7f7"
            ],
            [
             0.6,
             "#e6f5d0"
            ],
            [
             0.7,
             "#b8e186"
            ],
            [
             0.8,
             "#7fbc41"
            ],
            [
             0.9,
             "#4d9221"
            ],
            [
             1,
             "#276419"
            ]
           ],
           "sequential": [
            [
             0,
             "#0d0887"
            ],
            [
             0.1111111111111111,
             "#46039f"
            ],
            [
             0.2222222222222222,
             "#7201a8"
            ],
            [
             0.3333333333333333,
             "#9c179e"
            ],
            [
             0.4444444444444444,
             "#bd3786"
            ],
            [
             0.5555555555555556,
             "#d8576b"
            ],
            [
             0.6666666666666666,
             "#ed7953"
            ],
            [
             0.7777777777777778,
             "#fb9f3a"
            ],
            [
             0.8888888888888888,
             "#fdca26"
            ],
            [
             1,
             "#f0f921"
            ]
           ],
           "sequentialminus": [
            [
             0,
             "#0d0887"
            ],
            [
             0.1111111111111111,
             "#46039f"
            ],
            [
             0.2222222222222222,
             "#7201a8"
            ],
            [
             0.3333333333333333,
             "#9c179e"
            ],
            [
             0.4444444444444444,
             "#bd3786"
            ],
            [
             0.5555555555555556,
             "#d8576b"
            ],
            [
             0.6666666666666666,
             "#ed7953"
            ],
            [
             0.7777777777777778,
             "#fb9f3a"
            ],
            [
             0.8888888888888888,
             "#fdca26"
            ],
            [
             1,
             "#f0f921"
            ]
           ]
          },
          "colorway": [
           "#636efa",
           "#EF553B",
           "#00cc96",
           "#ab63fa",
           "#FFA15A",
           "#19d3f3",
           "#FF6692",
           "#B6E880",
           "#FF97FF",
           "#FECB52"
          ],
          "font": {
           "color": "#2a3f5f"
          },
          "geo": {
           "bgcolor": "white",
           "lakecolor": "white",
           "landcolor": "#E5ECF6",
           "showlakes": true,
           "showland": true,
           "subunitcolor": "white"
          },
          "hoverlabel": {
           "align": "left"
          },
          "hovermode": "closest",
          "mapbox": {
           "style": "light"
          },
          "paper_bgcolor": "white",
          "plot_bgcolor": "#E5ECF6",
          "polar": {
           "angularaxis": {
            "gridcolor": "white",
            "linecolor": "white",
            "ticks": ""
           },
           "bgcolor": "#E5ECF6",
           "radialaxis": {
            "gridcolor": "white",
            "linecolor": "white",
            "ticks": ""
           }
          },
          "scene": {
           "xaxis": {
            "backgroundcolor": "#E5ECF6",
            "gridcolor": "white",
            "gridwidth": 2,
            "linecolor": "white",
            "showbackground": true,
            "ticks": "",
            "zerolinecolor": "white"
           },
           "yaxis": {
            "backgroundcolor": "#E5ECF6",
            "gridcolor": "white",
            "gridwidth": 2,
            "linecolor": "white",
            "showbackground": true,
            "ticks": "",
            "zerolinecolor": "white"
           },
           "zaxis": {
            "backgroundcolor": "#E5ECF6",
            "gridcolor": "white",
            "gridwidth": 2,
            "linecolor": "white",
            "showbackground": true,
            "ticks": "",
            "zerolinecolor": "white"
           }
          },
          "shapedefaults": {
           "line": {
            "color": "#2a3f5f"
           }
          },
          "ternary": {
           "aaxis": {
            "gridcolor": "white",
            "linecolor": "white",
            "ticks": ""
           },
           "baxis": {
            "gridcolor": "white",
            "linecolor": "white",
            "ticks": ""
           },
           "bgcolor": "#E5ECF6",
           "caxis": {
            "gridcolor": "white",
            "linecolor": "white",
            "ticks": ""
           }
          },
          "title": {
           "x": 0.05
          },
          "xaxis": {
           "automargin": true,
           "gridcolor": "white",
           "linecolor": "white",
           "ticks": "",
           "title": {
            "standoff": 15
           },
           "zerolinecolor": "white",
           "zerolinewidth": 2
          },
          "yaxis": {
           "automargin": true,
           "gridcolor": "white",
           "linecolor": "white",
           "ticks": "",
           "title": {
            "standoff": 15
           },
           "zerolinecolor": "white",
           "zerolinewidth": 2
          }
         }
        },
        "width": 800
       }
      },
      "image/png": "[encoded data removed]",
      "text/html": [
       "<div>                            <div id=\"37cfe433-1628-4f77-8e60-3d44103e4f2f\" class=\"plotly-graph-div\" style=\"height:800px; width:800px;\"></div>            <script type=\"text/javascript\">                require([\"plotly\"], function(Plotly) {                    window.PLOTLYENV=window.PLOTLYENV || {};                                    if (document.getElementById(\"37cfe433-1628-4f77-8e60-3d44103e4f2f\")) {                    Plotly.newPlot(                        \"37cfe433-1628-4f77-8e60-3d44103e4f2f\",                        [{\"branchvalues\":\"total\",\"customdata\":[[0.0],[0.0],[0.0],[0.0],[0.0],[0.0],[0.0],[0.0],[0.0],[0.0],[0.0],[0.0],[0.0],[0.0],[0.0],[0.0],[0.0],[0.0],[0.0],[0.0],[0.0],[0.0],[0.0],[0.0],[0.0],[0.0],[0.0],[0.0],[0.0],[0.0],[0.0],[0.0],[0.0],[0.0],[0.0],[0.0],[0.0],[0.0],[0.0],[0.0],[0.0],[0.0],[0.0],[0.0],[0.0],[0.0],[0.0],[0.0],[0.0],[0.0],[0.0],[0.0],[0.0],[0.0],[0.0],[0.0],[0.0],[0.0],[0.0],[0.0],[0.0],[0.0],[0.0],[0.0],[0.0],[0.0],[0.0],[0.0],[0.0],[0.0],[0.0],[0.0],[0.0],[0.0],[0.0],[0.0],[0.0],[0.0],[0.0],[0.0],[0.0],[0.0],[0.0],[0.0],[0.0],[0.0],[0.0],[0.0],[0.0],[0.0],[0.0],[0.0],[0.0],[0.0],[0.0],[0.0],[0.0],[0.0],[0.0],[0.0],[0.0],[0.0]],\"domain\":{\"x\":[0.0,1.0],\"y\":[0.0,1.0]},\"hovertemplate\":\"labels=%{label}<br>topic_size=%{value}<br>parent=%{parent}<extra></extra>\",\"ids\":[\"Topics Treemap/Progr\\u00e8s \\u00a6 | Intelligence humaine | Alan turing/Alan turing | Google | Programme informatique/Alan turing | Hugo sarrade | Mercedes\",\"Topics Treemap/Document contains | | article | Nouvelle p\\u00e9pite/Nouvelle approche | Paris france | Assembl\\u00e9e g\\u00e9n\\u00e9rale/Amazon | Financial times | Utilisateurs britanniques\",\"Topics Treemap/Google | Assistant vocal | Google assistant/Judith duportail | Probl\\u00e8me m\\u00e9canique | Rencontre amoureuse/Application mobile | Big data | Poste\",\"Topics Treemap/Google | Assistant vocal | Google assistant/Intel | | usine | Start up/Application mobile | Nouvelle fonctionnalit\\u00e9 | Nouvelle technologie\",\"Topics Treemap/Mit | Drone volt | Voiture autonome/Big data | Propri\\u00e9t\\u00e9 intellectuelle | Nouvelle g\\u00e9n\\u00e9ration/Apprentissage automatique | Machine learning | Monde v\\u00e9ronique\",\"Topics Treemap/Progr\\u00e8s \\u00a6 | Intelligence humaine | Alan turing/R\\u00e9volution technologique | Start up | Discipline scientifique/Artificielle ia | Progr\\u00e8s \\u00a6 | Intelligence artificiel\",\"Topics Treemap/\\u00c9ducation nationale | \\u00c9thique ccne | Florence parly/Laurent alexandre | Smart city | Vie quotidienne/Artificielle ia | Progr\\u00e8s \\u00a6 | Universit\\u00e9 populaire\",\"Topics Treemap/Mit | Drone volt | Voiture autonome/Mark zuckerberg | Google | Application chinoise/Artificielle ia | This article | Microsoft\",\"Topics Treemap/Document contains | | article | Nouvelle p\\u00e9pite/Nouvelle approche | Paris france | Assembl\\u00e9e g\\u00e9n\\u00e9rale/Assembl\\u00e9e g\\u00e9n\\u00e9rale | Paris france | Nouvelle approche\",\"Topics Treemap/Dossier m\\u00e9dical | Jeunes pousses | Centre hospitalier/Festival futur | Grand public | Monsieur cirque/Big data | Festival futur | E \\u00e9dition\",\"Topics Treemap/Machine learning | Exp\\u00e9rience client | Ibm/Big data | Marketing digital | Donn\\u00e9e brute/Big data | Google | Donn\\u00e9e brute\",\"Topics Treemap/Ventures | Reconnaissance faciale | Angels/Lien url | Document r\\u00e9f\\u00e9rence | Bits quantiques/Cnrs | Transformation digitale | Renault\",\"Topics Treemap/Progr\\u00e8s \\u00a6 | Intelligence humaine | Alan turing/Derni\\u00e8re ann\\u00e9e | Directeur g\\u00e9n\\u00e9ral | Pouvoirs publics/Directeur g\\u00e9n\\u00e9ral | Derni\\u00e8re ann\\u00e9e | Comportement routier\",\"Topics Treemap/Machine learning | Exp\\u00e9rience client | Ibm/Microsoft | Type ia | Donn\\u00e9es client/Dispositif m\\u00e9dical | Plein confinement | Marie pirotais\",\"Topics Treemap/Mit | Drone volt | Voiture autonome/V\\u00e9hicule autonome | Tesla | Drone volt/Drone volt | Civils professionnels | Drones civils\",\"Topics Treemap/Google | Assistant vocal | Google assistant/Assistant vocal | Amazon | Lg/Enceintes connect\\u00e9es | Enceintes intelligentes | Relation client\",\"Topics Treemap/\\u00c9ducation nationale | \\u00c9thique ccne | Florence parly/\\u00c9thique ccne | Florence parly | Consultatif national/Florence parly | Ministre des arm\\u00e9es | Arm\\u00e9es florence\",\"Topics Treemap/Ventures | Reconnaissance faciale | Angels/Orange | St\\u00e9phane richard | Partenariat strat\\u00e9gique/Foyer rural | Microsoft | This article\",\"Topics Treemap/Dossier m\\u00e9dical | Jeunes pousses | Centre hospitalier/Dossier m\\u00e9dical | Google | Centre hospitalier/Google | Big data | Dossier m\\u00e9dical\",\"Topics Treemap/Google | Assistant vocal | Google assistant/Google | Assistant virtuel | Microsoft/Google | Google assistant | Conf\\u00e9rence annuelle\",\"Topics Treemap/Mit | Drone volt | Voiture autonome/Mark zuckerberg | Google | Application chinoise/Google | Intelligence artificiel | R\\u00e9seau social\",\"Topics Treemap/Progr\\u00e8s \\u00a6 | Intelligence humaine | Alan turing/Alan turing | Google | Programme informatique/Google | Lee sedol | Parc \\u00e9olien\",\"Topics Treemap/Mit | Drone volt | Voiture autonome/V\\u00e9hicule autonome | Tesla | Drone volt/Google | Soci\\u00e9t\\u00e9 am\\u00e9ricaine | Apple\",\"Topics Treemap/Mit | Drone volt | Voiture autonome/Mit | Petit robot | Massachusetts institute of technology/Google | Temps r\\u00e9el | \\u00ce\\u00e0 \\u00b0\",\"Topics Treemap/Ventures | Reconnaissance faciale | Angels/G\\u00e9ant chinois | Reconnaissance faciale | Dollars milliards/G\\u00e9ant chinois | Dollars milliards | \\u00b0c\",\"Topics Treemap/Machine learning | Exp\\u00e9rience client | Ibm/Ibm | Bourse de paris | Afp/Ibm | Bourse de paris | \\u00ce\\u00e0 \\u00b0\",\"Topics Treemap/Ventures | Reconnaissance faciale | Angels/Lien url | Document r\\u00e9f\\u00e9rence | Bits quantiques/Informatique quantique | Bits quantiques | Big data\",\"Topics Treemap/Google | Assistant vocal | Google assistant/Intel | | usine | Start up/Intel | This article | Google\",\"Topics Treemap/Dossier m\\u00e9dical | Jeunes pousses | Centre hospitalier/Jeunes pousses | Las vegas | Monde entier/Intelligence artificiel | Objet connect\\u00e9 | Las vegas\",\"Topics Treemap/Google | Assistant vocal | Google assistant/Judith duportail | Probl\\u00e8me m\\u00e9canique | Rencontre amoureuse/Judith duportail | Meetic | Rencontre amoureuse\",\"Topics Treemap/Google | Assistant vocal | Google assistant/Assistant vocal | Amazon | Lg/Lg | Amazon | Enceinte echo\",\"Topics Treemap/Machine learning | Exp\\u00e9rience client | Ibm/Ibm | Bourse de paris | Afp/Machine learning | This article | Nouvelle forme\",\"Topics Treemap/Document contains | | article | Nouvelle p\\u00e9pite/\\u00b0c | Pousses nationales | T\\u00e9l\\u00e9viseurs grand/Master artificial | \\u00c9ducatif unique | Programme \\u00e9ducatif\",\"Topics Treemap/Machine learning | Exp\\u00e9rience client | Ibm/Microsoft | Type ia | Donn\\u00e9es client/Microsoft | Google | Type ia\",\"Topics Treemap/\\u00c9ducation nationale | \\u00c9thique ccne | Florence parly/Commission europ\\u00e9enne | Strat\\u00e9gie nationale | Microsoft/Microsoft | R\\u00e9seau social | Haute performance\",\"Topics Treemap/Dossier m\\u00e9dical | Jeunes pousses | Centre hospitalier/Fin juillet | Donn\\u00e9es num\\u00e9riques | Machine learning/Objet connect\\u00e9 | Pme | Donn\\u00e9es num\\u00e9riques\",\"Topics Treemap/Ventures | Reconnaissance faciale | Angels/Orange | St\\u00e9phane richard | Partenariat strat\\u00e9gique/Orange | St\\u00e9phane richard | Google\",\"Topics Treemap/Dossier m\\u00e9dical | Jeunes pousses | Centre hospitalier/Festival futur | Grand public | Monsieur cirque/Outils savants | Meilleur \\u00e9dito | Manuel herbomel\",\"Topics Treemap/\\u00c9ducation nationale | \\u00c9thique ccne | Florence parly/Inspection acad\\u00e9mique | Directeur acad\\u00e9mique | \\u00c9ducation nationale/Page c | | article | Gouvernement philippe\",\"Topics Treemap/Progr\\u00e8s \\u00a6 | Intelligence humaine | Alan turing/Derni\\u00e8re ann\\u00e9e | Directeur g\\u00e9n\\u00e9ral | Pouvoirs publics/Page finance | Soft skills | Direction financi\\u00e8re\",\"Topics Treemap/Mit | Drone volt | Voiture autonome/Mit | Petit robot | Massachusetts institute of technology/Petit robot | Innovation digitale | Moyenne nationale\",\"Topics Treemap/Dossier m\\u00e9dical | Jeunes pousses | Centre hospitalier/Dossier m\\u00e9dical | Google | Centre hospitalier/Pr | Nouvelle \\u00e9tude | Trc\",\"Topics Treemap/Progr\\u00e8s \\u00a6 | Intelligence humaine | Alan turing/Noah harari | Yuval noah | Steven spielberg/Progr\\u00e8s \\u00a6 | Artificielle ia | \\u00ce\\u00e0 \\u00b0\",\"Topics Treemap/Machine learning | Exp\\u00e9rience client | Ibm/Exp\\u00e9rience client | Service client | Relation client/Promotion immobili\\u00e8re | Tendance chatbot | Tchat louis\",\"Topics Treemap/\\u00c9ducation nationale | \\u00c9thique ccne | Florence parly/Commission europ\\u00e9enne | Strat\\u00e9gie nationale | Microsoft/Rapport villani | France ia | D\\u00e9put\\u00e9 lrem\",\"Topics Treemap/Google | Assistant vocal | Google assistant/Google | Assistant virtuel | Microsoft/Reconnaissance faciale | Pme | Ph\\u00e9nom\\u00e8ne renaissance\",\"Topics Treemap/Ventures | Reconnaissance faciale | Angels/G\\u00e9ant chinois | Reconnaissance faciale | Dollars milliards/Reconnaissance faciale | Yuans milliard | Cr\\u00e9dit social\",\"Topics Treemap/Ventures | Reconnaissance faciale | Angels/Angels | Tpe | Ventures/Rennais energiency | Publicit\\u00e9 arpp | R\\u00e9gulation professionnelle\",\"Topics Treemap/Machine learning | Exp\\u00e9rience client | Ibm/Big data | Marketing digital | Donn\\u00e9e brute/Site web | | article | This article\",\"Topics Treemap/Progr\\u00e8s \\u00a6 | Intelligence humaine | Alan turing/Noah harari | Yuval noah | Steven spielberg/Steven spielberg | Google | Artificielle film\",\"Topics Treemap/\\u00c9ducation nationale | \\u00c9thique ccne | Florence parly/Laurent alexandre | Smart city | Vie quotidienne/This article | Table ronde | R\\u00e9union publique\",\"Topics Treemap/Dossier m\\u00e9dical | Jeunes pousses | Centre hospitalier/Jeunes pousses | Las vegas | Monde entier/Transition \\u00e9nerg\\u00e9tique | Grand prix | Octobre dernier\",\"Topics Treemap/Document contains | | article | Nouvelle p\\u00e9pite/\\u00b0c | Pousses nationales | T\\u00e9l\\u00e9viseurs grand/T\\u00e9l\\u00e9viseurs grand | Lg | Er mondial\",\"Topics Treemap/Dossier m\\u00e9dical | Jeunes pousses | Centre hospitalier/Fin juillet | Donn\\u00e9es num\\u00e9riques | Machine learning/T\\u00e9l\\u00e9vision personnalis\\u00e9 | Ouestfrance site | This article\",\"Topics Treemap/Document contains | | article | Nouvelle p\\u00e9pite/\\u00ce\\u00e0 \\u00b0 | Union europ\\u00e9enne | Nouvelle p\\u00e9pite/Union europ\\u00e9enne | | article | Document contains\",\"Topics Treemap/Ventures | Reconnaissance faciale | Angels/Angels | Tpe | Ventures/Ventures | Angels | Big data\",\"Topics Treemap/Mit | Drone volt | Voiture autonome/Big data | Propri\\u00e9t\\u00e9 intellectuelle | Nouvelle g\\u00e9n\\u00e9ration/\\u00b0c | Nouvelle g\\u00e9n\\u00e9ration | Propri\\u00e9t\\u00e9 intellectuelle\",\"Topics Treemap/\\u00c9ducation nationale | \\u00c9thique ccne | Florence parly/\\u00c9thique ccne | Florence parly | Consultatif national/\\u00c9thique ccne | \\u00c9tats g\\u00e9n\\u00e9raux | Robes noires\",\"Topics Treemap/\\u00c9ducation nationale | \\u00c9thique ccne | Florence parly/Inspection acad\\u00e9mique | Directeur acad\\u00e9mique | \\u00c9ducation nationale/\\u00ce\\u00e0 \\u00b0 | Directeur acad\\u00e9mique | Inspection acad\\u00e9mique\",\"Topics Treemap/Machine learning | Exp\\u00e9rience client | Ibm/Exp\\u00e9rience client | Service client | Relation client/\\u00ce\\u00e0 \\u00b0 | Service client | Relation client\",\"Topics Treemap/Document contains | | article | Nouvelle p\\u00e9pite/\\u00ce\\u00e0 \\u00b0 | Union europ\\u00e9enne | Nouvelle p\\u00e9pite/\\u00ce\\u00e0 \\u00b0 | Startup fran\\u00e7aise | Nouvelle p\\u00e9pite\",\"Topics Treemap/Progr\\u00e8s \\u00a6 | Intelligence humaine | Alan turing/R\\u00e9volution technologique | Start up | Discipline scientifique/\\u00ce\\u00e0 \\u00b0 | \\u00b0c | Meilleure prestation\",\"Topics Treemap/Progr\\u00e8s \\u00a6 | Intelligence humaine | Alan turing/Alan turing | Google | Programme informatique\",\"Topics Treemap/Ventures | Reconnaissance faciale | Angels/Angels | Tpe | Ventures\",\"Topics Treemap/Google | Assistant vocal | Google assistant/Assistant vocal | Amazon | Lg\",\"Topics Treemap/Machine learning | Exp\\u00e9rience client | Ibm/Big data | Marketing digital | Donn\\u00e9e brute\",\"Topics Treemap/Mit | Drone volt | Voiture autonome/Big data | Propri\\u00e9t\\u00e9 intellectuelle | Nouvelle g\\u00e9n\\u00e9ration\",\"Topics Treemap/\\u00c9ducation nationale | \\u00c9thique ccne | Florence parly/Commission europ\\u00e9enne | Strat\\u00e9gie nationale | Microsoft\",\"Topics Treemap/Progr\\u00e8s \\u00a6 | Intelligence humaine | Alan turing/Derni\\u00e8re ann\\u00e9e | Directeur g\\u00e9n\\u00e9ral | Pouvoirs publics\",\"Topics Treemap/Dossier m\\u00e9dical | Jeunes pousses | Centre hospitalier/Dossier m\\u00e9dical | Google | Centre hospitalier\",\"Topics Treemap/Machine learning | Exp\\u00e9rience client | Ibm/Exp\\u00e9rience client | Service client | Relation client\",\"Topics Treemap/Dossier m\\u00e9dical | Jeunes pousses | Centre hospitalier/Festival futur | Grand public | Monsieur cirque\",\"Topics Treemap/Dossier m\\u00e9dical | Jeunes pousses | Centre hospitalier/Fin juillet | Donn\\u00e9es num\\u00e9riques | Machine learning\",\"Topics Treemap/Google | Assistant vocal | Google assistant/Google | Assistant virtuel | Microsoft\",\"Topics Treemap/Ventures | Reconnaissance faciale | Angels/G\\u00e9ant chinois | Reconnaissance faciale | Dollars milliards\",\"Topics Treemap/Machine learning | Exp\\u00e9rience client | Ibm/Ibm | Bourse de paris | Afp\",\"Topics Treemap/\\u00c9ducation nationale | \\u00c9thique ccne | Florence parly/Inspection acad\\u00e9mique | Directeur acad\\u00e9mique | \\u00c9ducation nationale\",\"Topics Treemap/Google | Assistant vocal | Google assistant/Intel | | usine | Start up\",\"Topics Treemap/Dossier m\\u00e9dical | Jeunes pousses | Centre hospitalier/Jeunes pousses | Las vegas | Monde entier\",\"Topics Treemap/Google | Assistant vocal | Google assistant/Judith duportail | Probl\\u00e8me m\\u00e9canique | Rencontre amoureuse\",\"Topics Treemap/\\u00c9ducation nationale | \\u00c9thique ccne | Florence parly/Laurent alexandre | Smart city | Vie quotidienne\",\"Topics Treemap/Ventures | Reconnaissance faciale | Angels/Lien url | Document r\\u00e9f\\u00e9rence | Bits quantiques\",\"Topics Treemap/Mit | Drone volt | Voiture autonome/Mark zuckerberg | Google | Application chinoise\",\"Topics Treemap/Machine learning | Exp\\u00e9rience client | Ibm/Microsoft | Type ia | Donn\\u00e9es client\",\"Topics Treemap/Mit | Drone volt | Voiture autonome/Mit | Petit robot | Massachusetts institute of technology\",\"Topics Treemap/Progr\\u00e8s \\u00a6 | Intelligence humaine | Alan turing/Noah harari | Yuval noah | Steven spielberg\",\"Topics Treemap/Document contains | | article | Nouvelle p\\u00e9pite/Nouvelle approche | Paris france | Assembl\\u00e9e g\\u00e9n\\u00e9rale\",\"Topics Treemap/Ventures | Reconnaissance faciale | Angels/Orange | St\\u00e9phane richard | Partenariat strat\\u00e9gique\",\"Topics Treemap/Progr\\u00e8s \\u00a6 | Intelligence humaine | Alan turing/R\\u00e9volution technologique | Start up | Discipline scientifique\",\"Topics Treemap/Mit | Drone volt | Voiture autonome/V\\u00e9hicule autonome | Tesla | Drone volt\",\"Topics Treemap/Document contains | | article | Nouvelle p\\u00e9pite/\\u00b0c | Pousses nationales | T\\u00e9l\\u00e9viseurs grand\",\"Topics Treemap/\\u00c9ducation nationale | \\u00c9thique ccne | Florence parly/\\u00c9thique ccne | Florence parly | Consultatif national\",\"Topics Treemap/Document contains | | article | Nouvelle p\\u00e9pite/\\u00ce\\u00e0 \\u00b0 | Union europ\\u00e9enne | Nouvelle p\\u00e9pite\",\"Topics Treemap/Document contains | | article | Nouvelle p\\u00e9pite\",\"Topics Treemap/Dossier m\\u00e9dical | Jeunes pousses | Centre hospitalier\",\"Topics Treemap/Google | Assistant vocal | Google assistant\",\"Topics Treemap/Machine learning | Exp\\u00e9rience client | Ibm\",\"Topics Treemap/Mit | Drone volt | Voiture autonome\",\"Topics Treemap/Progr\\u00e8s \\u00a6 | Intelligence humaine | Alan turing\",\"Topics Treemap/Ventures | Reconnaissance faciale | Angels\",\"Topics Treemap/\\u00c9ducation nationale | \\u00c9thique ccne | Florence parly\",\"Topics Treemap\"],\"labels\":[\"Alan turing | Hugo sarrade | Mercedes\",\"Amazon | Financial times | Utilisateurs britanniques\",\"Application mobile | Big data | Poste\",\"Application mobile | Nouvelle fonctionnalit\\u00e9 | Nouvelle technologie\",\"Apprentissage automatique | Machine learning | Monde v\\u00e9ronique\",\"Artificielle ia | Progr\\u00e8s \\u00a6 | Intelligence artificiel\",\"Artificielle ia | Progr\\u00e8s \\u00a6 | Universit\\u00e9 populaire\",\"Artificielle ia | This article | Microsoft\",\"Assembl\\u00e9e g\\u00e9n\\u00e9rale | Paris france | Nouvelle approche\",\"Big data | Festival futur | E \\u00e9dition\",\"Big data | Google | Donn\\u00e9e brute\",\"Cnrs | Transformation digitale | Renault\",\"Directeur g\\u00e9n\\u00e9ral | Derni\\u00e8re ann\\u00e9e | Comportement routier\",\"Dispositif m\\u00e9dical | Plein confinement | Marie pirotais\",\"Drone volt | Civils professionnels | Drones civils\",\"Enceintes connect\\u00e9es | Enceintes intelligentes | Relation client\",\"Florence parly | Ministre des arm\\u00e9es | Arm\\u00e9es florence\",\"Foyer rural | Microsoft | This article\",\"Google | Big data | Dossier m\\u00e9dical\",\"Google | Google assistant | Conf\\u00e9rence annuelle\",\"Google | Intelligence artificiel | R\\u00e9seau social\",\"Google | Lee sedol | Parc \\u00e9olien\",\"Google | Soci\\u00e9t\\u00e9 am\\u00e9ricaine | Apple\",\"Google | Temps r\\u00e9el | \\u00ce\\u00e0 \\u00b0\",\"G\\u00e9ant chinois | Dollars milliards | \\u00b0c\",\"Ibm | Bourse de paris | \\u00ce\\u00e0 \\u00b0\",\"Informatique quantique | Bits quantiques | Big data\",\"Intel | This article | Google\",\"Intelligence artificiel | Objet connect\\u00e9 | Las vegas\",\"Judith duportail | Meetic | Rencontre amoureuse\",\"Lg | Amazon | Enceinte echo\",\"Machine learning | This article | Nouvelle forme\",\"Master artificial | \\u00c9ducatif unique | Programme \\u00e9ducatif\",\"Microsoft | Google | Type ia\",\"Microsoft | R\\u00e9seau social | Haute performance\",\"Objet connect\\u00e9 | Pme | Donn\\u00e9es num\\u00e9riques\",\"Orange | St\\u00e9phane richard | Google\",\"Outils savants | Meilleur \\u00e9dito | Manuel herbomel\",\"Page c | | article | Gouvernement philippe\",\"Page finance | Soft skills | Direction financi\\u00e8re\",\"Petit robot | Innovation digitale | Moyenne nationale\",\"Pr | Nouvelle \\u00e9tude | Trc\",\"Progr\\u00e8s \\u00a6 | Artificielle ia | \\u00ce\\u00e0 \\u00b0\",\"Promotion immobili\\u00e8re | Tendance chatbot | Tchat louis\",\"Rapport villani | France ia | D\\u00e9put\\u00e9 lrem\",\"Reconnaissance faciale | Pme | Ph\\u00e9nom\\u00e8ne renaissance\",\"Reconnaissance faciale | Yuans milliard | Cr\\u00e9dit social\",\"Rennais energiency | Publicit\\u00e9 arpp | R\\u00e9gulation professionnelle\",\"Site web | | article | This article\",\"Steven spielberg | Google | Artificielle film\",\"This article | Table ronde | R\\u00e9union publique\",\"Transition \\u00e9nerg\\u00e9tique | Grand prix | Octobre dernier\",\"T\\u00e9l\\u00e9viseurs grand | Lg | Er mondial\",\"T\\u00e9l\\u00e9vision personnalis\\u00e9 | Ouestfrance site | This article\",\"Union europ\\u00e9enne | | article | Document contains\",\"Ventures | Angels | Big data\",\"\\u00b0c | Nouvelle g\\u00e9n\\u00e9ration | Propri\\u00e9t\\u00e9 intellectuelle\",\"\\u00c9thique ccne | \\u00c9tats g\\u00e9n\\u00e9raux | Robes noires\",\"\\u00ce\\u00e0 \\u00b0 | Directeur acad\\u00e9mique | Inspection acad\\u00e9mique\",\"\\u00ce\\u00e0 \\u00b0 | Service client | Relation client\",\"\\u00ce\\u00e0 \\u00b0 | Startup fran\\u00e7aise | Nouvelle p\\u00e9pite\",\"\\u00ce\\u00e0 \\u00b0 | \\u00b0c | Meilleure prestation\",\"Alan turing | Google | Programme informatique\",\"Angels | Tpe | Ventures\",\"Assistant vocal | Amazon | Lg\",\"Big data | Marketing digital | Donn\\u00e9e brute\",\"Big data | Propri\\u00e9t\\u00e9 intellectuelle | Nouvelle g\\u00e9n\\u00e9ration\",\"Commission europ\\u00e9enne | Strat\\u00e9gie nationale | Microsoft\",\"Derni\\u00e8re ann\\u00e9e | Directeur g\\u00e9n\\u00e9ral | Pouvoirs publics\",\"Dossier m\\u00e9dical | Google | Centre hospitalier\",\"Exp\\u00e9rience client | Service client | Relation client\",\"Festival futur | Grand public | Monsieur cirque\",\"Fin juillet | Donn\\u00e9es num\\u00e9riques | Machine learning\",\"Google | Assistant virtuel | Microsoft\",\"G\\u00e9ant chinois | Reconnaissance faciale | Dollars milliards\",\"Ibm | Bourse de paris | Afp\",\"Inspection acad\\u00e9mique | Directeur acad\\u00e9mique | \\u00c9ducation nationale\",\"Intel | | usine | Start up\",\"Jeunes pousses | Las vegas | Monde entier\",\"Judith duportail | Probl\\u00e8me m\\u00e9canique | Rencontre amoureuse\",\"Laurent alexandre | Smart city | Vie quotidienne\",\"Lien url | Document r\\u00e9f\\u00e9rence | Bits quantiques\",\"Mark zuckerberg | Google | Application chinoise\",\"Microsoft | Type ia | Donn\\u00e9es client\",\"Mit | Petit robot | Massachusetts institute of technology\",\"Noah harari | Yuval noah | Steven spielberg\",\"Nouvelle approche | Paris france | Assembl\\u00e9e g\\u00e9n\\u00e9rale\",\"Orange | St\\u00e9phane richard | Partenariat strat\\u00e9gique\",\"R\\u00e9volution technologique | Start up | Discipline scientifique\",\"V\\u00e9hicule autonome | Tesla | Drone volt\",\"\\u00b0c | Pousses nationales | T\\u00e9l\\u00e9viseurs grand\",\"\\u00c9thique ccne | Florence parly | Consultatif national\",\"\\u00ce\\u00e0 \\u00b0 | Union europ\\u00e9enne | Nouvelle p\\u00e9pite\",\"Document contains | | article | Nouvelle p\\u00e9pite\",\"Dossier m\\u00e9dical | Jeunes pousses | Centre hospitalier\",\"Google | Assistant vocal | Google assistant\",\"Machine learning | Exp\\u00e9rience client | Ibm\",\"Mit | Drone volt | Voiture autonome\",\"Progr\\u00e8s \\u00a6 | Intelligence humaine | Alan turing\",\"Ventures | Reconnaissance faciale | Angels\",\"\\u00c9ducation nationale | \\u00c9thique ccne | Florence parly\",\"Topics Treemap\"],\"marker\":{\"coloraxis\":\"coloraxis\",\"colors\":[0.0,0.0,0.0,0.0,0.0,0.0,0.0,0.0,0.0,0.0,0.0,0.0,0.0,0.0,0.0,0.0,0.0,0.0,0.0,0.0,0.0,0.0,0.0,0.0,0.0,0.0,0.0,0.0,0.0,0.0,0.0,0.0,0.0,0.0,0.0,0.0,0.0,0.0,0.0,0.0,0.0,0.0,0.0,0.0,0.0,0.0,0.0,0.0,0.0,0.0,0.0,0.0,0.0,0.0,0.0,0.0,0.0,0.0,0.0,0.0,0.0,0.0,0.0,0.0,0.0,0.0,0.0,0.0,0.0,0.0,0.0,0.0,0.0,0.0,0.0,0.0,0.0,0.0,0.0,0.0,0.0,0.0,0.0,0.0,0.0,0.0,0.0,0.0,0.0,0.0,0.0,0.0,0.0,0.0,0.0,0.0,0.0,0.0,0.0,0.0,0.0,0.0]},\"name\":\"\",\"parents\":[\"Topics Treemap/Progr\\u00e8s \\u00a6 | Intelligence humaine | Alan turing/Alan turing | Google | Programme informatique\",\"Topics Treemap/Document contains | | article | Nouvelle p\\u00e9pite/Nouvelle approche | Paris france | Assembl\\u00e9e g\\u00e9n\\u00e9rale\",\"Topics Treemap/Google | Assistant vocal | Google assistant/Judith duportail | Probl\\u00e8me m\\u00e9canique | Rencontre amoureuse\",\"Topics Treemap/Google | Assistant vocal | Google assistant/Intel | | usine | Start up\",\"Topics Treemap/Mit | Drone volt | Voiture autonome/Big data | Propri\\u00e9t\\u00e9 intellectuelle | Nouvelle g\\u00e9n\\u00e9ration\",\"Topics Treemap/Progr\\u00e8s \\u00a6 | Intelligence humaine | Alan turing/R\\u00e9volution technologique | Start up | Discipline scientifique\",\"Topics Treemap/\\u00c9ducation nationale | \\u00c9thique ccne | Florence parly/Laurent alexandre | Smart city | Vie quotidienne\",\"Topics Treemap/Mit | Drone volt | Voiture autonome/Mark zuckerberg | Google | Application chinoise\",\"Topics Treemap/Document contains | | article | Nouvelle p\\u00e9pite/Nouvelle approche | Paris france | Assembl\\u00e9e g\\u00e9n\\u00e9rale\",\"Topics Treemap/Dossier m\\u00e9dical | Jeunes pousses | Centre hospitalier/Festival futur | Grand public | Monsieur cirque\",\"Topics Treemap/Machine learning | Exp\\u00e9rience client | Ibm/Big data | Marketing digital | Donn\\u00e9e brute\",\"Topics Treemap/Ventures | Reconnaissance faciale | Angels/Lien url | Document r\\u00e9f\\u00e9rence | Bits quantiques\",\"Topics Treemap/Progr\\u00e8s \\u00a6 | Intelligence humaine | Alan turing/Derni\\u00e8re ann\\u00e9e | Directeur g\\u00e9n\\u00e9ral | Pouvoirs publics\",\"Topics Treemap/Machine learning | Exp\\u00e9rience client | Ibm/Microsoft | Type ia | Donn\\u00e9es client\",\"Topics Treemap/Mit | Drone volt | Voiture autonome/V\\u00e9hicule autonome | Tesla | Drone volt\",\"Topics Treemap/Google | Assistant vocal | Google assistant/Assistant vocal | Amazon | Lg\",\"Topics Treemap/\\u00c9ducation nationale | \\u00c9thique ccne | Florence parly/\\u00c9thique ccne | Florence parly | Consultatif national\",\"Topics Treemap/Ventures | Reconnaissance faciale | Angels/Orange | St\\u00e9phane richard | Partenariat strat\\u00e9gique\",\"Topics Treemap/Dossier m\\u00e9dical | Jeunes pousses | Centre hospitalier/Dossier m\\u00e9dical | Google | Centre hospitalier\",\"Topics Treemap/Google | Assistant vocal | Google assistant/Google | Assistant virtuel | Microsoft\",\"Topics Treemap/Mit | Drone volt | Voiture autonome/Mark zuckerberg | Google | Application chinoise\",\"Topics Treemap/Progr\\u00e8s \\u00a6 | Intelligence humaine | Alan turing/Alan turing | Google | Programme informatique\",\"Topics Treemap/Mit | Drone volt | Voiture autonome/V\\u00e9hicule autonome | Tesla | Drone volt\",\"Topics Treemap/Mit | Drone volt | Voiture autonome/Mit | Petit robot | Massachusetts institute of technology\",\"Topics Treemap/Ventures | Reconnaissance faciale | Angels/G\\u00e9ant chinois | Reconnaissance faciale | Dollars milliards\",\"Topics Treemap/Machine learning | Exp\\u00e9rience client | Ibm/Ibm | Bourse de paris | Afp\",\"Topics Treemap/Ventures | Reconnaissance faciale | Angels/Lien url | Document r\\u00e9f\\u00e9rence | Bits quantiques\",\"Topics Treemap/Google | Assistant vocal | Google assistant/Intel | | usine | Start up\",\"Topics Treemap/Dossier m\\u00e9dical | Jeunes pousses | Centre hospitalier/Jeunes pousses | Las vegas | Monde entier\",\"Topics Treemap/Google | Assistant vocal | Google assistant/Judith duportail | Probl\\u00e8me m\\u00e9canique | Rencontre amoureuse\",\"Topics Treemap/Google | Assistant vocal | Google assistant/Assistant vocal | Amazon | Lg\",\"Topics Treemap/Machine learning | Exp\\u00e9rience client | Ibm/Ibm | Bourse de paris | Afp\",\"Topics Treemap/Document contains | | article | Nouvelle p\\u00e9pite/\\u00b0c | Pousses nationales | T\\u00e9l\\u00e9viseurs grand\",\"Topics Treemap/Machine learning | Exp\\u00e9rience client | Ibm/Microsoft | Type ia | Donn\\u00e9es client\",\"Topics Treemap/\\u00c9ducation nationale | \\u00c9thique ccne | Florence parly/Commission europ\\u00e9enne | Strat\\u00e9gie nationale | Microsoft\",\"Topics Treemap/Dossier m\\u00e9dical | Jeunes pousses | Centre hospitalier/Fin juillet | Donn\\u00e9es num\\u00e9riques | Machine learning\",\"Topics Treemap/Ventures | Reconnaissance faciale | Angels/Orange | St\\u00e9phane richard | Partenariat strat\\u00e9gique\",\"Topics Treemap/Dossier m\\u00e9dical | Jeunes pousses | Centre hospitalier/Festival futur | Grand public | Monsieur cirque\",\"Topics Treemap/\\u00c9ducation nationale | \\u00c9thique ccne | Florence parly/Inspection acad\\u00e9mique | Directeur acad\\u00e9mique | \\u00c9ducation nationale\",\"Topics Treemap/Progr\\u00e8s \\u00a6 | Intelligence humaine | Alan turing/Derni\\u00e8re ann\\u00e9e | Directeur g\\u00e9n\\u00e9ral | Pouvoirs publics\",\"Topics Treemap/Mit | Drone volt | Voiture autonome/Mit | Petit robot | Massachusetts institute of technology\",\"Topics Treemap/Dossier m\\u00e9dical | Jeunes pousses | Centre hospitalier/Dossier m\\u00e9dical | Google | Centre hospitalier\",\"Topics Treemap/Progr\\u00e8s \\u00a6 | Intelligence humaine | Alan turing/Noah harari | Yuval noah | Steven spielberg\",\"Topics Treemap/Machine learning | Exp\\u00e9rience client | Ibm/Exp\\u00e9rience client | Service client | Relation client\",\"Topics Treemap/\\u00c9ducation nationale | \\u00c9thique ccne | Florence parly/Commission europ\\u00e9enne | Strat\\u00e9gie nationale | Microsoft\",\"Topics Treemap/Google | Assistant vocal | Google assistant/Google | Assistant virtuel | Microsoft\",\"Topics Treemap/Ventures | Reconnaissance faciale | Angels/G\\u00e9ant chinois | Reconnaissance faciale | Dollars milliards\",\"Topics Treemap/Ventures | Reconnaissance faciale | Angels/Angels | Tpe | Ventures\",\"Topics Treemap/Machine learning | Exp\\u00e9rience client | Ibm/Big data | Marketing digital | Donn\\u00e9e brute\",\"Topics Treemap/Progr\\u00e8s \\u00a6 | Intelligence humaine | Alan turing/Noah harari | Yuval noah | Steven spielberg\",\"Topics Treemap/\\u00c9ducation nationale | \\u00c9thique ccne | Florence parly/Laurent alexandre | Smart city | Vie quotidienne\",\"Topics Treemap/Dossier m\\u00e9dical | Jeunes pousses | Centre hospitalier/Jeunes pousses | Las vegas | Monde entier\",\"Topics Treemap/Document contains | | article | Nouvelle p\\u00e9pite/\\u00b0c | Pousses nationales | T\\u00e9l\\u00e9viseurs grand\",\"Topics Treemap/Dossier m\\u00e9dical | Jeunes pousses | Centre hospitalier/Fin juillet | Donn\\u00e9es num\\u00e9riques | Machine learning\",\"Topics Treemap/Document contains | | article | Nouvelle p\\u00e9pite/\\u00ce\\u00e0 \\u00b0 | Union europ\\u00e9enne | Nouvelle p\\u00e9pite\",\"Topics Treemap/Ventures | Reconnaissance faciale | Angels/Angels | Tpe | Ventures\",\"Topics Treemap/Mit | Drone volt | Voiture autonome/Big data | Propri\\u00e9t\\u00e9 intellectuelle | Nouvelle g\\u00e9n\\u00e9ration\",\"Topics Treemap/\\u00c9ducation nationale | \\u00c9thique ccne | Florence parly/\\u00c9thique ccne | Florence parly | Consultatif national\",\"Topics Treemap/\\u00c9ducation nationale | \\u00c9thique ccne | Florence parly/Inspection acad\\u00e9mique | Directeur acad\\u00e9mique | \\u00c9ducation nationale\",\"Topics Treemap/Machine learning | Exp\\u00e9rience client | Ibm/Exp\\u00e9rience client | Service client | Relation client\",\"Topics Treemap/Document contains | | article | Nouvelle p\\u00e9pite/\\u00ce\\u00e0 \\u00b0 | Union europ\\u00e9enne | Nouvelle p\\u00e9pite\",\"Topics Treemap/Progr\\u00e8s \\u00a6 | Intelligence humaine | Alan turing/R\\u00e9volution technologique | Start up | Discipline scientifique\",\"Topics Treemap/Progr\\u00e8s \\u00a6 | Intelligence humaine | Alan turing\",\"Topics Treemap/Ventures | Reconnaissance faciale | Angels\",\"Topics Treemap/Google | Assistant vocal | Google assistant\",\"Topics Treemap/Machine learning | Exp\\u00e9rience client | Ibm\",\"Topics Treemap/Mit | Drone volt | Voiture autonome\",\"Topics Treemap/\\u00c9ducation nationale | \\u00c9thique ccne | Florence parly\",\"Topics Treemap/Progr\\u00e8s \\u00a6 | Intelligence humaine | Alan turing\",\"Topics Treemap/Dossier m\\u00e9dical | Jeunes pousses | Centre hospitalier\",\"Topics Treemap/Machine learning | Exp\\u00e9rience client | Ibm\",\"Topics Treemap/Dossier m\\u00e9dical | Jeunes pousses | Centre hospitalier\",\"Topics Treemap/Dossier m\\u00e9dical | Jeunes pousses | Centre hospitalier\",\"Topics Treemap/Google | Assistant vocal | Google assistant\",\"Topics Treemap/Ventures | Reconnaissance faciale | Angels\",\"Topics Treemap/Machine learning | Exp\\u00e9rience client | Ibm\",\"Topics Treemap/\\u00c9ducation nationale | \\u00c9thique ccne | Florence parly\",\"Topics Treemap/Google | Assistant vocal | Google assistant\",\"Topics Treemap/Dossier m\\u00e9dical | Jeunes pousses | Centre hospitalier\",\"Topics Treemap/Google | Assistant vocal | Google assistant\",\"Topics Treemap/\\u00c9ducation nationale | \\u00c9thique ccne | Florence parly\",\"Topics Treemap/Ventures | Reconnaissance faciale | Angels\",\"Topics Treemap/Mit | Drone volt | Voiture autonome\",\"Topics Treemap/Machine learning | Exp\\u00e9rience client | Ibm\",\"Topics Treemap/Mit | Drone volt | Voiture autonome\",\"Topics Treemap/Progr\\u00e8s \\u00a6 | Intelligence humaine | Alan turing\",\"Topics Treemap/Document contains | | article | Nouvelle p\\u00e9pite\",\"Topics Treemap/Ventures | Reconnaissance faciale | Angels\",\"Topics Treemap/Progr\\u00e8s \\u00a6 | Intelligence humaine | Alan turing\",\"Topics Treemap/Mit | Drone volt | Voiture autonome\",\"Topics Treemap/Document contains | | article | Nouvelle p\\u00e9pite\",\"Topics Treemap/\\u00c9ducation nationale | \\u00c9thique ccne | Florence parly\",\"Topics Treemap/Document contains | | article | Nouvelle p\\u00e9pite\",\"Topics Treemap\",\"Topics Treemap\",\"Topics Treemap\",\"Topics Treemap\",\"Topics Treemap\",\"Topics Treemap\",\"Topics Treemap\",\"Topics Treemap\",\"\"],\"values\":[1,1,1,1,1,1,1,1,1,1,1,1,1,1,1,1,1,1,1,1,1,1,1,1,1,1,1,1,1,1,1,1,1,1,1,1,1,1,1,1,1,1,1,1,1,1,1,1,1,1,1,1,1,1,1,1,1,1,1,1,1,1,2,2,2,2,2,2,2,2,2,2,2,2,2,2,2,2,2,2,2,2,2,2,2,2,2,2,2,2,2,2,2,6,8,8,8,8,8,8,8,62],\"type\":\"treemap\",\"root\":{\"color\":\"lightgrey\"}}],                        {\"template\":{\"data\":{\"bar\":[{\"error_x\":{\"color\":\"#2a3f5f\"},\"error_y\":{\"color\":\"#2a3f5f\"},\"marker\":{\"line\":{\"color\":\"#E5ECF6\",\"width\":0.5},\"pattern\":{\"fillmode\":\"overlay\",\"size\":10,\"solidity\":0.2}},\"type\":\"bar\"}],\"barpolar\":[{\"marker\":{\"line\":{\"color\":\"#E5ECF6\",\"width\":0.5},\"pattern\":{\"fillmode\":\"overlay\",\"size\":10,\"solidity\":0.2}},\"type\":\"barpolar\"}],\"carpet\":[{\"aaxis\":{\"endlinecolor\":\"#2a3f5f\",\"gridcolor\":\"white\",\"linecolor\":\"white\",\"minorgridcolor\":\"white\",\"startlinecolor\":\"#2a3f5f\"},\"baxis\":{\"endlinecolor\":\"#2a3f5f\",\"gridcolor\":\"white\",\"linecolor\":\"white\",\"minorgridcolor\":\"white\",\"startlinecolor\":\"#2a3f5f\"},\"type\":\"carpet\"}],\"choropleth\":[{\"colorbar\":{\"outlinewidth\":0,\"ticks\":\"\"},\"type\":\"choropleth\"}],\"contour\":[{\"colorbar\":{\"outlinewidth\":0,\"ticks\":\"\"},\"colorscale\":[[0.0,\"#0d0887\"],[0.1111111111111111,\"#46039f\"],[0.2222222222222222,\"#7201a8\"],[0.3333333333333333,\"#9c179e\"],[0.4444444444444444,\"#bd3786\"],[0.5555555555555556,\"#d8576b\"],[0.6666666666666666,\"#ed7953\"],[0.7777777777777778,\"#fb9f3a\"],[0.8888888888888888,\"#fdca26\"],[1.0,\"#f0f921\"]],\"type\":\"contour\"}],\"contourcarpet\":[{\"colorbar\":{\"outlinewidth\":0,\"ticks\":\"\"},\"type\":\"contourcarpet\"}],\"heatmap\":[{\"colorbar\":{\"outlinewidth\":0,\"ticks\":\"\"},\"colorscale\":[[0.0,\"#0d0887\"],[0.1111111111111111,\"#46039f\"],[0.2222222222222222,\"#7201a8\"],[0.3333333333333333,\"#9c179e\"],[0.4444444444444444,\"#bd3786\"],[0.5555555555555556,\"#d8576b\"],[0.6666666666666666,\"#ed7953\"],[0.7777777777777778,\"#fb9f3a\"],[0.8888888888888888,\"#fdca26\"],[1.0,\"#f0f921\"]],\"type\":\"heatmap\"}],\"heatmapgl\":[{\"colorbar\":{\"outlinewidth\":0,\"ticks\":\"\"},\"colorscale\":[[0.0,\"#0d0887\"],[0.1111111111111111,\"#46039f\"],[0.2222222222222222,\"#7201a8\"],[0.3333333333333333,\"#9c179e\"],[0.4444444444444444,\"#bd3786\"],[0.5555555555555556,\"#d8576b\"],[0.6666666666666666,\"#ed7953\"],[0.7777777777777778,\"#fb9f3a\"],[0.8888888888888888,\"#fdca26\"],[1.0,\"#f0f921\"]],\"type\":\"heatmapgl\"}],\"histogram\":[{\"marker\":{\"pattern\":{\"fillmode\":\"overlay\",\"size\":10,\"solidity\":0.2}},\"type\":\"histogram\"}],\"histogram2d\":[{\"colorbar\":{\"outlinewidth\":0,\"ticks\":\"\"},\"colorscale\":[[0.0,\"#0d0887\"],[0.1111111111111111,\"#46039f\"],[0.2222222222222222,\"#7201a8\"],[0.3333333333333333,\"#9c179e\"],[0.4444444444444444,\"#bd3786\"],[0.5555555555555556,\"#d8576b\"],[0.6666666666666666,\"#ed7953\"],[0.7777777777777778,\"#fb9f3a\"],[0.8888888888888888,\"#fdca26\"],[1.0,\"#f0f921\"]],\"type\":\"histogram2d\"}],\"histogram2dcontour\":[{\"colorbar\":{\"outlinewidth\":0,\"ticks\":\"\"},\"colorscale\":[[0.0,\"#0d0887\"],[0.1111111111111111,\"#46039f\"],[0.2222222222222222,\"#7201a8\"],[0.3333333333333333,\"#9c179e\"],[0.4444444444444444,\"#bd3786\"],[0.5555555555555556,\"#d8576b\"],[0.6666666666666666,\"#ed7953\"],[0.7777777777777778,\"#fb9f3a\"],[0.8888888888888888,\"#fdca26\"],[1.0,\"#f0f921\"]],\"type\":\"histogram2dcontour\"}],\"mesh3d\":[{\"colorbar\":{\"outlinewidth\":0,\"ticks\":\"\"},\"type\":\"mesh3d\"}],\"parcoords\":[{\"line\":{\"colorbar\":{\"outlinewidth\":0,\"ticks\":\"\"}},\"type\":\"parcoords\"}],\"pie\":[{\"automargin\":true,\"type\":\"pie\"}],\"scatter\":[{\"marker\":{\"colorbar\":{\"outlinewidth\":0,\"ticks\":\"\"}},\"type\":\"scatter\"}],\"scatter3d\":[{\"line\":{\"colorbar\":{\"outlinewidth\":0,\"ticks\":\"\"}},\"marker\":{\"colorbar\":{\"outlinewidth\":0,\"ticks\":\"\"}},\"type\":\"scatter3d\"}],\"scattercarpet\":[{\"marker\":{\"colorbar\":{\"outlinewidth\":0,\"ticks\":\"\"}},\"type\":\"scattercarpet\"}],\"scattergeo\":[{\"marker\":{\"colorbar\":{\"outlinewidth\":0,\"ticks\":\"\"}},\"type\":\"scattergeo\"}],\"scattergl\":[{\"marker\":{\"colorbar\":{\"outlinewidth\":0,\"ticks\":\"\"}},\"type\":\"scattergl\"}],\"scattermapbox\":[{\"marker\":{\"colorbar\":{\"outlinewidth\":0,\"ticks\":\"\"}},\"type\":\"scattermapbox\"}],\"scatterpolar\":[{\"marker\":{\"colorbar\":{\"outlinewidth\":0,\"ticks\":\"\"}},\"type\":\"scatterpolar\"}],\"scatterpolargl\":[{\"marker\":{\"colorbar\":{\"outlinewidth\":0,\"ticks\":\"\"}},\"type\":\"scatterpolargl\"}],\"scatterternary\":[{\"marker\":{\"colorbar\":{\"outlinewidth\":0,\"ticks\":\"\"}},\"type\":\"scatterternary\"}],\"surface\":[{\"colorbar\":{\"outlinewidth\":0,\"ticks\":\"\"},\"colorscale\":[[0.0,\"#0d0887\"],[0.1111111111111111,\"#46039f\"],[0.2222222222222222,\"#7201a8\"],[0.3333333333333333,\"#9c179e\"],[0.4444444444444444,\"#bd3786\"],[0.5555555555555556,\"#d8576b\"],[0.6666666666666666,\"#ed7953\"],[0.7777777777777778,\"#fb9f3a\"],[0.8888888888888888,\"#fdca26\"],[1.0,\"#f0f921\"]],\"type\":\"surface\"}],\"table\":[{\"cells\":{\"fill\":{\"color\":\"#EBF0F8\"},\"line\":{\"color\":\"white\"}},\"header\":{\"fill\":{\"color\":\"#C8D4E3\"},\"line\":{\"color\":\"white\"}},\"type\":\"table\"}]},\"layout\":{\"annotationdefaults\":{\"arrowcolor\":\"#2a3f5f\",\"arrowhead\":0,\"arrowwidth\":1},\"autotypenumbers\":\"strict\",\"coloraxis\":{\"colorbar\":{\"outlinewidth\":0,\"ticks\":\"\"}},\"colorscale\":{\"diverging\":[[0,\"#8e0152\"],[0.1,\"#c51b7d\"],[0.2,\"#de77ae\"],[0.3,\"#f1b6da\"],[0.4,\"#fde0ef\"],[0.5,\"#f7f7f7\"],[0.6,\"#e6f5d0\"],[0.7,\"#b8e186\"],[0.8,\"#7fbc41\"],[0.9,\"#4d9221\"],[1,\"#276419\"]],\"sequential\":[[0.0,\"#0d0887\"],[0.1111111111111111,\"#46039f\"],[0.2222222222222222,\"#7201a8\"],[0.3333333333333333,\"#9c179e\"],[0.4444444444444444,\"#bd3786\"],[0.5555555555555556,\"#d8576b\"],[0.6666666666666666,\"#ed7953\"],[0.7777777777777778,\"#fb9f3a\"],[0.8888888888888888,\"#fdca26\"],[1.0,\"#f0f921\"]],\"sequentialminus\":[[0.0,\"#0d0887\"],[0.1111111111111111,\"#46039f\"],[0.2222222222222222,\"#7201a8\"],[0.3333333333333333,\"#9c179e\"],[0.4444444444444444,\"#bd3786\"],[0.5555555555555556,\"#d8576b\"],[0.6666666666666666,\"#ed7953\"],[0.7777777777777778,\"#fb9f3a\"],[0.8888888888888888,\"#fdca26\"],[1.0,\"#f0f921\"]]},\"colorway\":[\"#636efa\",\"#EF553B\",\"#00cc96\",\"#ab63fa\",\"#FFA15A\",\"#19d3f3\",\"#FF6692\",\"#B6E880\",\"#FF97FF\",\"#FECB52\"],\"font\":{\"color\":\"#2a3f5f\"},\"geo\":{\"bgcolor\":\"white\",\"lakecolor\":\"white\",\"landcolor\":\"#E5ECF6\",\"showlakes\":true,\"showland\":true,\"subunitcolor\":\"white\"},\"hoverlabel\":{\"align\":\"left\"},\"hovermode\":\"closest\",\"mapbox\":{\"style\":\"light\"},\"paper_bgcolor\":\"white\",\"plot_bgcolor\":\"#E5ECF6\",\"polar\":{\"angularaxis\":{\"gridcolor\":\"white\",\"linecolor\":\"white\",\"ticks\":\"\"},\"bgcolor\":\"#E5ECF6\",\"radialaxis\":{\"gridcolor\":\"white\",\"linecolor\":\"white\",\"ticks\":\"\"}},\"scene\":{\"xaxis\":{\"backgroundcolor\":\"#E5ECF6\",\"gridcolor\":\"white\",\"gridwidth\":2,\"linecolor\":\"white\",\"showbackground\":true,\"ticks\":\"\",\"zerolinecolor\":\"white\"},\"yaxis\":{\"backgroundcolor\":\"#E5ECF6\",\"gridcolor\":\"white\",\"gridwidth\":2,\"linecolor\":\"white\",\"showbackground\":true,\"ticks\":\"\",\"zerolinecolor\":\"white\"},\"zaxis\":{\"backgroundcolor\":\"#E5ECF6\",\"gridcolor\":\"white\",\"gridwidth\":2,\"linecolor\":\"white\",\"showbackground\":true,\"ticks\":\"\",\"zerolinecolor\":\"white\"}},\"shapedefaults\":{\"line\":{\"color\":\"#2a3f5f\"}},\"ternary\":{\"aaxis\":{\"gridcolor\":\"white\",\"linecolor\":\"white\",\"ticks\":\"\"},\"baxis\":{\"gridcolor\":\"white\",\"linecolor\":\"white\",\"ticks\":\"\"},\"bgcolor\":\"#E5ECF6\",\"caxis\":{\"gridcolor\":\"white\",\"linecolor\":\"white\",\"ticks\":\"\"}},\"title\":{\"x\":0.05},\"xaxis\":{\"automargin\":true,\"gridcolor\":\"white\",\"linecolor\":\"white\",\"ticks\":\"\",\"title\":{\"standoff\":15},\"zerolinecolor\":\"white\",\"zerolinewidth\":2},\"yaxis\":{\"automargin\":true,\"gridcolor\":\"white\",\"linecolor\":\"white\",\"ticks\":\"\",\"title\":{\"standoff\":15},\"zerolinecolor\":\"white\",\"zerolinewidth\":2}}},\"coloraxis\":{\"colorbar\":{\"title\":{\"text\":\"score_norm\"}},\"colorscale\":[[0.0,\"rgb(0,0,255)\"],[0.1,\"rgb(51,153,255)\"],[0.2,\"rgb(102,204,255)\"],[0.3,\"rgb(153,204,255)\"],[0.4,\"rgb(204,204,255)\"],[0.5,\"rgb(255,255,255)\"],[0.6,\"rgb(255,204,255)\"],[0.7,\"rgb(255,153,255)\"],[0.8,\"rgb(255,102,204)\"],[0.9,\"rgb(255,102,102)\"],[1.0,\"rgb(255,0,0)\"]],\"cmid\":0.0},\"legend\":{\"tracegroupgap\":0},\"margin\":{\"t\":60},\"height\":800,\"width\":800},                        {\"responsive\": true}                    ).then(function(){\n",
       "                            \n",
       "var gd = document.getElementById('37cfe433-1628-4f77-8e60-3d44103e4f2f');\n",
       "var x = new MutationObserver(function (mutations, observer) {{\n",
       "        var display = window.getComputedStyle(gd).display;\n",
       "        if (!display || display === 'none') {{\n",
       "            console.log([gd, 'removed!']);\n",
       "            Plotly.purge(gd);\n",
       "            observer.disconnect();\n",
       "        }}\n",
       "}});\n",
       "\n",
       "// Listen for the removal of the full notebook cells\n",
       "var notebookContainer = gd.closest('#notebook-container');\n",
       "if (notebookContainer) {{\n",
       "    x.observe(notebookContainer, {childList: true});\n",
       "}}\n",
       "\n",
       "// Listen for the clearing of the current output cell\n",
       "var outputEl = gd.closest('.output');\n",
       "if (outputEl) {{\n",
       "    x.observe(outputEl, {childList: true});\n",
       "}}\n",
       "\n",
       "                        })                };                });            </script>        </div>"
      ]
     },
     "metadata": {},
     "output_type": "display_data"
    }
   ],
   "source": [
    "#topic_documents\n",
    "#equal_size\n",
    "# Umap fit\n",
    "# soit le résultat est imposé, soit c'est un search\n",
    "# active learning\n",
    "\n",
    "treemap = bunka.make_nested_maps(\n",
    "    size_rule=\"equal_size\", map_type=\"treemap\", width = 800, height = 800, query = \"sex\"\n",
    ")\n",
    "\n",
    "treemap.show()"
   ]
  },
  {
   "cell_type": "code",
   "execution_count": null,
   "id": "912dfffd-aa86-43b4-bbbe-d9407ebb103a",
   "metadata": {},
   "outputs": [],
   "source": []
  },
  {
   "cell_type": "code",
   "execution_count": 6,
   "id": "6538baeb-f7cf-4f10-8a3f-9496816e0be3",
   "metadata": {},
   "outputs": [
    {
     "data": {
      "application/vnd.jupyter.widget-view+json": {
       "model_id": "c1226ec2dc1845a196b8c3f06145c396",
       "version_major": 2,
       "version_minor": 0
      },
      "text/plain": [
       "  0%|          | 0/4000 [00:00<?, ?it/s]"
      ]
     },
     "metadata": {},
     "output_type": "display_data"
    }
   ],
   "source": [
    "terms = model.terms\n",
    "terms['wikidata_id'] = terms['main form'].progress_apply(lambda x : get_wikidata_id(x, language = 'fr'))"
   ]
  },
  {
   "cell_type": "code",
   "execution_count": 7,
   "id": "dacc287a-e4ed-4786-8eee-57b1d740185b",
   "metadata": {},
   "outputs": [
    {
     "data": {
      "application/vnd.jupyter.widget-view+json": {
       "model_id": "a2e9015dbcbd4d64a76bf18edc16e365",
       "version_major": 2,
       "version_minor": 0
      },
      "text/plain": [
       "  0%|          | 0/574 [00:00<?, ?it/s]"
      ]
     },
     "metadata": {},
     "output_type": "display_data"
    }
   ],
   "source": [
    "new_terms = terms[terms['wikidata_id'].notna()]\n",
    "# instance of\n",
    "new_terms['instance_of'] = new_terms['wikidata_id'].progress_apply(lambda x: get_feature_func(x, feature_id='P31'))"
   ]
  },
  {
   "cell_type": "code",
   "execution_count": 11,
   "id": "83431e94-4a65-46dc-a101-32a6ed3172ab",
   "metadata": {},
   "outputs": [],
   "source": [
    "new_terms.to_csv('results/wikidata_extract.csv')"
   ]
  },
  {
   "cell_type": "code",
   "execution_count": 15,
   "id": "845f4a18-8aa6-425c-ba06-50e2c8ad0dbe",
   "metadata": {},
   "outputs": [],
   "source": [
    "import bamboolib"
   ]
  },
  {
   "cell_type": "code",
   "execution_count": 16,
   "id": "6ae3d07d-2419-41d7-8eab-70b5440cdc86",
   "metadata": {},
   "outputs": [
    {
     "data": {
      "application/vnd.jupyter.widget-view+json": {
       "model_id": "360a0eb2d10e4f7fb0d1e029c7f77151"
      },
      "text/html": [
       "<div>\n",
       "<style scoped>\n",
       "    .dataframe tbody tr th:only-of-type {\n",
       "        vertical-align: middle;\n",
       "    }\n",
       "\n",
       "    .dataframe tbody tr th {\n",
       "        vertical-align: top;\n",
       "    }\n",
       "\n",
       "    .dataframe thead th {\n",
       "        text-align: right;\n",
       "    }\n",
       "</style>\n",
       "<table border=\"1\" class=\"dataframe\">\n",
       "  <thead>\n",
       "    <tr style=\"text-align: right;\">\n",
       "      <th></th>\n",
       "      <th>lemma</th>\n",
       "      <th>main form</th>\n",
       "      <th>text</th>\n",
       "      <th>ent</th>\n",
       "      <th>count_terms</th>\n",
       "      <th>chi2</th>\n",
       "      <th>wikidata_id</th>\n",
       "      <th>instance_of</th>\n",
       "    </tr>\n",
       "  </thead>\n",
       "  <tbody>\n",
       "    <tr>\n",
       "      <th>2</th>\n",
       "      <td>googl</td>\n",
       "      <td>Google</td>\n",
       "      <td>google</td>\n",
       "      <td>ORG</td>\n",
       "      <td>50</td>\n",
       "      <td>349.969765</td>\n",
       "      <td>Q95</td>\n",
       "      <td>public company</td>\n",
       "    </tr>\n",
       "    <tr>\n",
       "      <th>3</th>\n",
       "      <td>google</td>\n",
       "      <td>Google</td>\n",
       "      <td>google</td>\n",
       "      <td>ORG</td>\n",
       "      <td>33</td>\n",
       "      <td>188.442953</td>\n",
       "      <td>Q95</td>\n",
       "      <td>public company</td>\n",
       "    </tr>\n",
       "    <tr>\n",
       "      <th>4</th>\n",
       "      <td>site web</td>\n",
       "      <td>Site web</td>\n",
       "      <td>site web | sites web</td>\n",
       "      <td>NaN</td>\n",
       "      <td>31</td>\n",
       "      <td>137.733585</td>\n",
       "      <td>Q35127</td>\n",
       "      <td>web server</td>\n",
       "    </tr>\n",
       "    <tr>\n",
       "      <th>5</th>\n",
       "      <td>microsoft</td>\n",
       "      <td>Microsoft</td>\n",
       "      <td>microsoft</td>\n",
       "      <td>ORG</td>\n",
       "      <td>28</td>\n",
       "      <td>245.238783</td>\n",
       "      <td>Q2283</td>\n",
       "      <td>public company</td>\n",
       "    </tr>\n",
       "    <tr>\n",
       "      <th>6</th>\n",
       "      <td>temps réel</td>\n",
       "      <td>Temps réel</td>\n",
       "      <td>temps réel</td>\n",
       "      <td>NaN</td>\n",
       "      <td>24</td>\n",
       "      <td>140.696369</td>\n",
       "      <td>Q347066</td>\n",
       "      <td>quality</td>\n",
       "    </tr>\n",
       "    <tr>\n",
       "      <th>...</th>\n",
       "      <td>...</td>\n",
       "      <td>...</td>\n",
       "      <td>...</td>\n",
       "      <td>...</td>\n",
       "      <td>...</td>\n",
       "      <td>...</td>\n",
       "      <td>...</td>\n",
       "      <td>...</td>\n",
       "    </tr>\n",
       "    <tr>\n",
       "      <th>3767</th>\n",
       "      <td>évolution humain</td>\n",
       "      <td>Évolution humaine</td>\n",
       "      <td>évolution humaine</td>\n",
       "      <td>NaN</td>\n",
       "      <td>1</td>\n",
       "      <td>7.215608</td>\n",
       "      <td>Q83944</td>\n",
       "      <td>field of work</td>\n",
       "    </tr>\n",
       "    <tr>\n",
       "      <th>3886</th>\n",
       "      <td>ville américain</td>\n",
       "      <td>Villes américaines</td>\n",
       "      <td>villes américaines</td>\n",
       "      <td>NaN</td>\n",
       "      <td>1</td>\n",
       "      <td>7.215608</td>\n",
       "      <td>Q3475546</td>\n",
       "      <td>Wikimedia list article</td>\n",
       "    </tr>\n",
       "    <tr>\n",
       "      <th>3905</th>\n",
       "      <td>vieux continent</td>\n",
       "      <td>Vieux continent</td>\n",
       "      <td>vieux continent</td>\n",
       "      <td>NaN</td>\n",
       "      <td>1</td>\n",
       "      <td>7.215608</td>\n",
       "      <td>Q46</td>\n",
       "      <td>continent</td>\n",
       "    </tr>\n",
       "    <tr>\n",
       "      <th>3957</th>\n",
       "      <td>vendredi soir</td>\n",
       "      <td>Vendredi soir</td>\n",
       "      <td>vendredi soir</td>\n",
       "      <td>NaN</td>\n",
       "      <td>1</td>\n",
       "      <td>7.215608</td>\n",
       "      <td>Q3555451</td>\n",
       "      <td>film</td>\n",
       "    </tr>\n",
       "    <tr>\n",
       "      <th>3964</th>\n",
       "      <td>venture</td>\n",
       "      <td>Ventures</td>\n",
       "      <td>ventures</td>\n",
       "      <td>ORG</td>\n",
       "      <td>1</td>\n",
       "      <td>7.215608</td>\n",
       "      <td>Q770732</td>\n",
       "      <td>instrumental band</td>\n",
       "    </tr>\n",
       "  </tbody>\n",
       "</table>\n",
       "<p>277 rows × 8 columns</p>\n",
       "</div>"
      ],
      "text/plain": [
       "                 lemma           main form                  text  ent  \\\n",
       "2                googl              Google                google  ORG   \n",
       "3               google              Google                google  ORG   \n",
       "4             site web            Site web  site web | sites web  NaN   \n",
       "5            microsoft           Microsoft             microsoft  ORG   \n",
       "6           temps réel          Temps réel            temps réel  NaN   \n",
       "...                ...                 ...                   ...  ...   \n",
       "3767  évolution humain   Évolution humaine     évolution humaine  NaN   \n",
       "3886   ville américain  Villes américaines    villes américaines  NaN   \n",
       "3905   vieux continent     Vieux continent       vieux continent  NaN   \n",
       "3957     vendredi soir       Vendredi soir         vendredi soir  NaN   \n",
       "3964           venture            Ventures              ventures  ORG   \n",
       "\n",
       "      count_terms        chi2 wikidata_id             instance_of  \n",
       "2              50  349.969765         Q95          public company  \n",
       "3              33  188.442953         Q95          public company  \n",
       "4              31  137.733585      Q35127              web server  \n",
       "5              28  245.238783       Q2283          public company  \n",
       "6              24  140.696369     Q347066                 quality  \n",
       "...           ...         ...         ...                     ...  \n",
       "3767            1    7.215608      Q83944           field of work  \n",
       "3886            1    7.215608    Q3475546  Wikimedia list article  \n",
       "3905            1    7.215608         Q46               continent  \n",
       "3957            1    7.215608    Q3555451                    film  \n",
       "3964            1    7.215608     Q770732       instrumental band  \n",
       "\n",
       "[277 rows x 8 columns]"
      ]
     },
     "metadata": {},
     "output_type": "display_data"
    }
   ],
   "source": [
    "fin = new_terms[new_terms['instance_of'].notna()]\n",
    "fin"
   ]
  },
  {
   "cell_type": "markdown",
   "id": "7dea15b7-d7a5-41ed-962c-bd73a83f3f4c",
   "metadata": {},
   "source": [
    "#### Get the networks"
   ]
  },
  {
   "cell_type": "code",
   "execution_count": 32,
   "id": "dcc6ef71-2503-479f-a56b-d241979a4b50",
   "metadata": {},
   "outputs": [],
   "source": [
    "df_indexed = model.indexed_terms[['docs', 'lemma']]\n",
    "df_indexed_wikidata = pd.merge(df_indexed, fin, on = 'lemma')\n",
    "df_indexed_wikidata['enrich_form'] = df_indexed_wikidata['main form'] + ' (' +  df_indexed_wikidata['instance_of'] + ')'"
   ]
  },
  {
   "cell_type": "code",
   "execution_count": 34,
   "id": "f9719d88-069c-429c-857d-884e8c3aa474",
   "metadata": {},
   "outputs": [
    {
     "data": {
      "application/vnd.jupyter.widget-view+json": {
       "model_id": "a8030a34603f4cb5a0ea271a80b0f145"
      },
      "text/html": [
       "<div>\n",
       "<style scoped>\n",
       "    .dataframe tbody tr th:only-of-type {\n",
       "        vertical-align: middle;\n",
       "    }\n",
       "\n",
       "    .dataframe tbody tr th {\n",
       "        vertical-align: top;\n",
       "    }\n",
       "\n",
       "    .dataframe thead th {\n",
       "        text-align: right;\n",
       "    }\n",
       "</style>\n",
       "<table border=\"1\" class=\"dataframe\">\n",
       "  <thead>\n",
       "    <tr style=\"text-align: right;\">\n",
       "      <th></th>\n",
       "      <th>docs</th>\n",
       "      <th>instance_of</th>\n",
       "      <th>enrich_form</th>\n",
       "    </tr>\n",
       "  </thead>\n",
       "  <tbody>\n",
       "    <tr>\n",
       "      <th>0</th>\n",
       "      <td>volpy récolte  m€ de plus auprès de business ...</td>\n",
       "      <td>instrumental band</td>\n",
       "      <td>Ventures (instrumental band)</td>\n",
       "    </tr>\n",
       "    <tr>\n",
       "      <th>1</th>\n",
       "      <td>risque uipath engrange  m$ pour sa série b   ...</td>\n",
       "      <td>instrumental band</td>\n",
       "      <td>Ventures (instrumental band)</td>\n",
       "    </tr>\n",
       "    <tr>\n",
       "      <th>2</th>\n",
       "      <td>l'assureur de nouvelle génération luko récolt...</td>\n",
       "      <td>instrumental band</td>\n",
       "      <td>Ventures (instrumental band)</td>\n",
       "    </tr>\n",
       "    <tr>\n",
       "      <th>3</th>\n",
       "      <td>gridc réalise une levée de fonds d' m$       ...</td>\n",
       "      <td>instrumental band</td>\n",
       "      <td>Ventures (instrumental band)</td>\n",
       "    </tr>\n",
       "    <tr>\n",
       "      <th>4</th>\n",
       "      <td>gleamer lève  millions d'euros pour diffuser ...</td>\n",
       "      <td>instrumental band</td>\n",
       "      <td>Ventures (instrumental band)</td>\n",
       "    </tr>\n",
       "    <tr>\n",
       "      <th>...</th>\n",
       "      <td>...</td>\n",
       "      <td>...</td>\n",
       "      <td>...</td>\n",
       "    </tr>\n",
       "    <tr>\n",
       "      <th>1142</th>\n",
       "      <td>bassin alésien feria d'alès sorties          ...</td>\n",
       "      <td>music genre</td>\n",
       "      <td>Swing jazz (music genre)</td>\n",
       "    </tr>\n",
       "    <tr>\n",
       "      <th>1143</th>\n",
       "      <td>en  le monde n'attendra pas les trains frança...</td>\n",
       "      <td>intergovernmental organization</td>\n",
       "      <td>Otan (intergovernmental organization)</td>\n",
       "    </tr>\n",
       "    <tr>\n",
       "      <th>1144</th>\n",
       "      <td>cybersécurité  un risque pour tous à la porté...</td>\n",
       "      <td>internet genre</td>\n",
       "      <td>Monde virtuel (internet genre)</td>\n",
       "    </tr>\n",
       "    <tr>\n",
       "      <th>1145</th>\n",
       "      <td>comment joue l'intelligence  artificielle    ...</td>\n",
       "      <td>game theory term</td>\n",
       "      <td>Meilleure réponse (game theory term)</td>\n",
       "    </tr>\n",
       "    <tr>\n",
       "      <th>1146</th>\n",
       "      <td>le dasen de la corrèze christian willhelm a p...</td>\n",
       "      <td>educational stage</td>\n",
       "      <td>École élémentaire (educational stage)</td>\n",
       "    </tr>\n",
       "  </tbody>\n",
       "</table>\n",
       "<p>1147 rows × 3 columns</p>\n",
       "</div>"
      ],
      "text/plain": [
       "                                                   docs  \\\n",
       "0      volpy récolte  m€ de plus auprès de business ...   \n",
       "1      risque uipath engrange  m$ pour sa série b   ...   \n",
       "2      l'assureur de nouvelle génération luko récolt...   \n",
       "3      gridc réalise une levée de fonds d' m$       ...   \n",
       "4      gleamer lève  millions d'euros pour diffuser ...   \n",
       "...                                                 ...   \n",
       "1142   bassin alésien feria d'alès sorties          ...   \n",
       "1143   en  le monde n'attendra pas les trains frança...   \n",
       "1144   cybersécurité  un risque pour tous à la porté...   \n",
       "1145   comment joue l'intelligence  artificielle    ...   \n",
       "1146   le dasen de la corrèze christian willhelm a p...   \n",
       "\n",
       "                         instance_of                            enrich_form  \n",
       "0                  instrumental band           Ventures (instrumental band)  \n",
       "1                  instrumental band           Ventures (instrumental band)  \n",
       "2                  instrumental band           Ventures (instrumental band)  \n",
       "3                  instrumental band           Ventures (instrumental band)  \n",
       "4                  instrumental band           Ventures (instrumental band)  \n",
       "...                              ...                                    ...  \n",
       "1142                     music genre               Swing jazz (music genre)  \n",
       "1143  intergovernmental organization  Otan (intergovernmental organization)  \n",
       "1144                  internet genre         Monde virtuel (internet genre)  \n",
       "1145                game theory term   Meilleure réponse (game theory term)  \n",
       "1146               educational stage  École élémentaire (educational stage)  \n",
       "\n",
       "[1147 rows x 3 columns]"
      ]
     },
     "metadata": {},
     "output_type": "display_data"
    }
   ],
   "source": [
    "df_indexed_wikidata = df_indexed_wikidata[['docs', 'instance_of', 'enrich_form']]\n",
    "df_indexed_wikidata"
   ]
  },
  {
   "cell_type": "code",
   "execution_count": 35,
   "id": "c446d25c-f449-40b7-aa98-0df0a73aa193",
   "metadata": {},
   "outputs": [],
   "source": [
    "from bunkatech.networks.networks import network_analysis"
   ]
  },
  {
   "cell_type": "code",
   "execution_count": 47,
   "id": "b8d78a29-64f9-4245-864f-f5a639f1ca38",
   "metadata": {},
   "outputs": [
    {
     "data": {
      "application/vnd.jupyter.widget-view+json": {
       "model_id": "97b7282ebd7940218a18b1ff4fe6e555",
       "version_major": 2,
       "version_minor": 0
      },
      "text/plain": [
       "Computing transition probabilities:   0%|          | 0/219 [00:00<?, ?it/s]"
      ]
     },
     "metadata": {},
     "output_type": "display_data"
    },
    {
     "name": "stderr",
     "output_type": "stream",
     "text": [
      "Generating walks (CPU: 1): 100%|██████████| 2/2 [00:00<00:00,  8.78it/s]2022-03-07 13:06:30,342 - INFO : collecting all words and their counts\n",
      "2022-03-07 13:06:30,344 - INFO : PROGRESS: at sentence #0, processed 0 words, keeping 0 word types\n",
      "2022-03-07 13:06:30,366 - INFO : collected 219 word types from a corpus of 175200 raw words and 2190 sentences\n",
      "2022-03-07 13:06:30,367 - INFO : Creating a fresh vocabulary\n",
      "2022-03-07 13:06:30,369 - INFO : Word2Vec lifecycle event {'msg': 'effective_min_count=1 retains 219 unique words (100.0%% of original 219, drops 0)', 'datetime': '2022-03-07T13:06:30.369340', 'gensim': '4.1.2', 'python': '3.8.2 (v3.8.2:7b3ab5921f, Feb 24 2020, 17:52:18) \\n[Clang 6.0 (clang-600.0.57)]', 'platform': 'macOS-10.15.5-x86_64-i386-64bit', 'event': 'prepare_vocab'}\n",
      "2022-03-07 13:06:30,370 - INFO : Word2Vec lifecycle event {'msg': 'effective_min_count=1 leaves 175200 word corpus (100.0%% of original 175200, drops 0)', 'datetime': '2022-03-07T13:06:30.370485', 'gensim': '4.1.2', 'python': '3.8.2 (v3.8.2:7b3ab5921f, Feb 24 2020, 17:52:18) \\n[Clang 6.0 (clang-600.0.57)]', 'platform': 'macOS-10.15.5-x86_64-i386-64bit', 'event': 'prepare_vocab'}\n",
      "2022-03-07 13:06:30,372 - INFO : deleting the raw counts dictionary of 219 items\n",
      "2022-03-07 13:06:30,373 - INFO : sample=0.001 downsamples 168 most-common words\n",
      "2022-03-07 13:06:30,373 - INFO : Word2Vec lifecycle event {'msg': 'downsampling leaves estimated 112568.01910056968 word corpus (64.3%% of prior 175200)', 'datetime': '2022-03-07T13:06:30.373894', 'gensim': '4.1.2', 'python': '3.8.2 (v3.8.2:7b3ab5921f, Feb 24 2020, 17:52:18) \\n[Clang 6.0 (clang-600.0.57)]', 'platform': 'macOS-10.15.5-x86_64-i386-64bit', 'event': 'prepare_vocab'}\n",
      "2022-03-07 13:06:30,377 - INFO : estimated required memory for 219 words and 700 dimensions: 1335900 bytes\n",
      "2022-03-07 13:06:30,378 - INFO : resetting layer weights\n",
      "2022-03-07 13:06:30,381 - INFO : Word2Vec lifecycle event {'update': False, 'trim_rule': 'None', 'datetime': '2022-03-07T13:06:30.381250', 'gensim': '4.1.2', 'python': '3.8.2 (v3.8.2:7b3ab5921f, Feb 24 2020, 17:52:18) \\n[Clang 6.0 (clang-600.0.57)]', 'platform': 'macOS-10.15.5-x86_64-i386-64bit', 'event': 'build_vocab'}\n",
      "2022-03-07 13:06:30,382 - INFO : Word2Vec lifecycle event {'msg': 'training model with 8 workers on 219 vocabulary and 700 features, using sg=1 hs=0 sample=0.001 negative=5 window=30 shrink_windows=True', 'datetime': '2022-03-07T13:06:30.382001', 'gensim': '4.1.2', 'python': '3.8.2 (v3.8.2:7b3ab5921f, Feb 24 2020, 17:52:18) \\n[Clang 6.0 (clang-600.0.57)]', 'platform': 'macOS-10.15.5-x86_64-i386-64bit', 'event': 'train'}\n",
      "2022-03-07 13:06:31,552 - INFO : EPOCH 1 - PROGRESS: at 51.37% examples, 49398 words/s, in_qsize 9, out_qsize 0\n",
      "2022-03-07 13:06:31,574 - INFO : worker thread finished; awaiting finish of 7 more threads\n",
      "2022-03-07 13:06:31,585 - INFO : worker thread finished; awaiting finish of 6 more threads\n",
      "2022-03-07 13:06:31,587 - INFO : worker thread finished; awaiting finish of 5 more threads\n",
      "2022-03-07 13:06:31,588 - INFO : worker thread finished; awaiting finish of 4 more threads\n",
      "2022-03-07 13:06:31,590 - INFO : worker thread finished; awaiting finish of 3 more threads\n",
      "2022-03-07 13:06:31,603 - INFO : worker thread finished; awaiting finish of 2 more threads\n",
      "2022-03-07 13:06:31,726 - INFO : worker thread finished; awaiting finish of 1 more threads\n",
      "2022-03-07 13:06:31,839 - INFO : worker thread finished; awaiting finish of 0 more threads\n",
      "2022-03-07 13:06:31,840 - INFO : EPOCH - 1 : training on 175200 raw words (112304 effective words) took 1.5s, 77439 effective words/s\n",
      "2022-03-07 13:06:32,953 - INFO : EPOCH 2 - PROGRESS: at 51.37% examples, 52339 words/s, in_qsize 9, out_qsize 0\n",
      "2022-03-07 13:06:32,974 - INFO : worker thread finished; awaiting finish of 7 more threads\n",
      "2022-03-07 13:06:33,002 - INFO : worker thread finished; awaiting finish of 6 more threads\n",
      "2022-03-07 13:06:33,008 - INFO : worker thread finished; awaiting finish of 5 more threads\n",
      "2022-03-07 13:06:33,018 - INFO : worker thread finished; awaiting finish of 4 more threads\n",
      "2022-03-07 13:06:33,025 - INFO : worker thread finished; awaiting finish of 3 more threads\n",
      "2022-03-07 13:06:33,028 - INFO : worker thread finished; awaiting finish of 2 more threads\n",
      "2022-03-07 13:06:33,147 - INFO : worker thread finished; awaiting finish of 1 more threads\n",
      "2022-03-07 13:06:33,249 - INFO : worker thread finished; awaiting finish of 0 more threads\n",
      "2022-03-07 13:06:33,250 - INFO : EPOCH - 2 : training on 175200 raw words (112529 effective words) took 1.4s, 80091 effective words/s\n",
      "2022-03-07 13:06:34,393 - INFO : EPOCH 3 - PROGRESS: at 51.37% examples, 50541 words/s, in_qsize 9, out_qsize 0\n",
      "2022-03-07 13:06:34,417 - INFO : worker thread finished; awaiting finish of 7 more threads\n",
      "2022-03-07 13:06:34,450 - INFO : worker thread finished; awaiting finish of 6 more threads\n",
      "2022-03-07 13:06:34,451 - INFO : worker thread finished; awaiting finish of 5 more threads\n",
      "2022-03-07 13:06:34,454 - INFO : worker thread finished; awaiting finish of 4 more threads\n",
      "2022-03-07 13:06:34,463 - INFO : worker thread finished; awaiting finish of 3 more threads\n",
      "2022-03-07 13:06:34,472 - INFO : worker thread finished; awaiting finish of 2 more threads\n",
      "2022-03-07 13:06:34,581 - INFO : worker thread finished; awaiting finish of 1 more threads\n",
      "2022-03-07 13:06:34,693 - INFO : worker thread finished; awaiting finish of 0 more threads\n",
      "2022-03-07 13:06:34,694 - INFO : EPOCH - 3 : training on 175200 raw words (112577 effective words) took 1.4s, 78219 effective words/s\n",
      "2022-03-07 13:06:35,828 - INFO : EPOCH 4 - PROGRESS: at 51.37% examples, 51210 words/s, in_qsize 9, out_qsize 0\n",
      "2022-03-07 13:06:35,859 - INFO : worker thread finished; awaiting finish of 7 more threads\n",
      "2022-03-07 13:06:35,860 - INFO : worker thread finished; awaiting finish of 6 more threads\n",
      "2022-03-07 13:06:35,863 - INFO : worker thread finished; awaiting finish of 5 more threads\n",
      "2022-03-07 13:06:35,866 - INFO : worker thread finished; awaiting finish of 4 more threads\n",
      "2022-03-07 13:06:35,867 - INFO : worker thread finished; awaiting finish of 3 more threads\n",
      "2022-03-07 13:06:35,868 - INFO : worker thread finished; awaiting finish of 2 more threads\n",
      "2022-03-07 13:06:36,002 - INFO : worker thread finished; awaiting finish of 1 more threads\n",
      "2022-03-07 13:06:36,109 - INFO : worker thread finished; awaiting finish of 0 more threads\n",
      "2022-03-07 13:06:36,110 - INFO : EPOCH - 4 : training on 175200 raw words (112652 effective words) took 1.4s, 79798 effective words/s\n",
      "2022-03-07 13:06:37,262 - INFO : EPOCH 5 - PROGRESS: at 51.37% examples, 50331 words/s, in_qsize 9, out_qsize 0\n",
      "2022-03-07 13:06:37,309 - INFO : worker thread finished; awaiting finish of 7 more threads\n",
      "2022-03-07 13:06:37,317 - INFO : worker thread finished; awaiting finish of 6 more threads\n",
      "2022-03-07 13:06:37,318 - INFO : worker thread finished; awaiting finish of 5 more threads\n",
      "2022-03-07 13:06:37,323 - INFO : worker thread finished; awaiting finish of 4 more threads\n",
      "2022-03-07 13:06:37,328 - INFO : worker thread finished; awaiting finish of 3 more threads\n",
      "2022-03-07 13:06:37,381 - INFO : worker thread finished; awaiting finish of 2 more threads\n",
      "2022-03-07 13:06:37,541 - INFO : worker thread finished; awaiting finish of 1 more threads\n",
      "2022-03-07 13:06:37,658 - INFO : worker thread finished; awaiting finish of 0 more threads\n",
      "2022-03-07 13:06:37,659 - INFO : EPOCH - 5 : training on 175200 raw words (112645 effective words) took 1.5s, 73026 effective words/s\n",
      "2022-03-07 13:06:37,659 - INFO : Word2Vec lifecycle event {'msg': 'training on 876000 raw words (562707 effective words) took 7.3s, 77324 effective words/s', 'datetime': '2022-03-07T13:06:37.659681', 'gensim': '4.1.2', 'python': '3.8.2 (v3.8.2:7b3ab5921f, Feb 24 2020, 17:52:18) \\n[Clang 6.0 (clang-600.0.57)]', 'platform': 'macOS-10.15.5-x86_64-i386-64bit', 'event': 'train'}\n",
      "2022-03-07 13:06:37,660 - INFO : Word2Vec lifecycle event {'params': 'Word2Vec(vocab=219, vector_size=700, alpha=0.025)', 'datetime': '2022-03-07T13:06:37.660310', 'gensim': '4.1.2', 'python': '3.8.2 (v3.8.2:7b3ab5921f, Feb 24 2020, 17:52:18) \\n[Clang 6.0 (clang-600.0.57)]', 'platform': 'macOS-10.15.5-x86_64-i386-64bit', 'event': 'created'}\n"
     ]
    }
   ],
   "source": [
    "res = network_analysis(df_indexed_wikidata, \n",
    "                      variables = ['enrich_form'],\n",
    "                      key = 'docs',\n",
    "                      method = 'node2vec',\n",
    "                      height_att = 1000, \n",
    "                      width_att = 1000,\n",
    "                      n_neighbours = 7,\n",
    "                      global_filter = 0.3,\n",
    "                      top_nodes = 400)"
   ]
  },
  {
   "cell_type": "code",
   "execution_count": null,
   "id": "58bf9a14-0a2a-473d-82d8-901699d5d18a",
   "metadata": {},
   "outputs": [],
   "source": []
  },
  {
   "cell_type": "code",
   "execution_count": 48,
   "id": "68d2557e-e227-4c62-8d70-4a024f339d2b",
   "metadata": {},
   "outputs": [
    {
     "data": {
      "text/plain": [
       "'results/enrich_data_lead_paragrapg.html'"
      ]
     },
     "execution_count": 48,
     "metadata": {},
     "output_type": "execute_result"
    }
   ],
   "source": [
    "import plotly\n",
    "plotly.offline.plot(res, filename = 'results/enrich_data_lead_paragraph.html', auto_open=True)"
   ]
  },
  {
   "cell_type": "code",
   "execution_count": 49,
   "id": "aca7e10d-26d2-43d4-af6b-18146f874582",
   "metadata": {},
   "outputs": [
    {
     "data": {
      "application/vnd.jupyter.widget-view+json": {
       "model_id": "3d14598927094d1b84fd705ae5ede152",
       "version_major": 2,
       "version_minor": 0
      },
      "text/plain": [
       "Computing transition probabilities:   0%|          | 0/160 [00:00<?, ?it/s]"
      ]
     },
     "metadata": {},
     "output_type": "display_data"
    },
    {
     "name": "stderr",
     "output_type": "stream",
     "text": [
      "\n",
      "Generating walks (CPU: 1):   0%|          | 0/2 [00:00<?, ?it/s]\n",
      "Generating walks (CPU: 2):   0%|          | 0/2 [00:00<?, ?it/s]\n",
      "Generating walks (CPU: 3):   0%|          | 0/1 [00:00<?, ?it/s]\n",
      "Generating walks (CPU: 4):   0%|          | 0/1 [00:00<?, ?it/s]\n",
      "Generating walks (CPU: 3): 100%|██████████| 1/1 [00:00<00:00, 13.74it/s]\n",
      "Generating walks (CPU: 1): 100%|██████████| 2/2 [00:00<00:00, 15.21it/s]\n",
      "Generating walks (CPU: 2): 100%|██████████| 2/2 [00:00<00:00, 13.75it/s]\n",
      "Generating walks (CPU: 8): 100%|██████████| 1/1 [00:00<00:00, 21.61it/s]2022-03-07 13:07:30,168 - INFO : collecting all words and their counts\n",
      "2022-03-07 13:07:30,169 - INFO : PROGRESS: at sentence #0, processed 0 words, keeping 0 word types\n",
      "2022-03-07 13:07:30,184 - INFO : collected 160 word types from a corpus of 128000 raw words and 1600 sentences\n",
      "2022-03-07 13:07:30,185 - INFO : Creating a fresh vocabulary\n",
      "2022-03-07 13:07:30,186 - INFO : Word2Vec lifecycle event {'msg': 'effective_min_count=1 retains 160 unique words (100.0%% of original 160, drops 0)', 'datetime': '2022-03-07T13:07:30.186431', 'gensim': '4.1.2', 'python': '3.8.2 (v3.8.2:7b3ab5921f, Feb 24 2020, 17:52:18) \\n[Clang 6.0 (clang-600.0.57)]', 'platform': 'macOS-10.15.5-x86_64-i386-64bit', 'event': 'prepare_vocab'}\n",
      "2022-03-07 13:07:30,187 - INFO : Word2Vec lifecycle event {'msg': 'effective_min_count=1 leaves 128000 word corpus (100.0%% of original 128000, drops 0)', 'datetime': '2022-03-07T13:07:30.187024', 'gensim': '4.1.2', 'python': '3.8.2 (v3.8.2:7b3ab5921f, Feb 24 2020, 17:52:18) \\n[Clang 6.0 (clang-600.0.57)]', 'platform': 'macOS-10.15.5-x86_64-i386-64bit', 'event': 'prepare_vocab'}\n",
      "2022-03-07 13:07:30,188 - INFO : deleting the raw counts dictionary of 160 items\n",
      "2022-03-07 13:07:30,189 - INFO : sample=0.001 downsamples 134 most-common words\n",
      "2022-03-07 13:07:30,190 - INFO : Word2Vec lifecycle event {'msg': 'downsampling leaves estimated 67059.54542116386 word corpus (52.4%% of prior 128000)', 'datetime': '2022-03-07T13:07:30.190293', 'gensim': '4.1.2', 'python': '3.8.2 (v3.8.2:7b3ab5921f, Feb 24 2020, 17:52:18) \\n[Clang 6.0 (clang-600.0.57)]', 'platform': 'macOS-10.15.5-x86_64-i386-64bit', 'event': 'prepare_vocab'}\n",
      "2022-03-07 13:07:30,193 - INFO : estimated required memory for 160 words and 700 dimensions: 976000 bytes\n",
      "2022-03-07 13:07:30,194 - INFO : resetting layer weights\n",
      "2022-03-07 13:07:30,196 - INFO : Word2Vec lifecycle event {'update': False, 'trim_rule': 'None', 'datetime': '2022-03-07T13:07:30.196154', 'gensim': '4.1.2', 'python': '3.8.2 (v3.8.2:7b3ab5921f, Feb 24 2020, 17:52:18) \\n[Clang 6.0 (clang-600.0.57)]', 'platform': 'macOS-10.15.5-x86_64-i386-64bit', 'event': 'build_vocab'}\n",
      "2022-03-07 13:07:30,197 - INFO : Word2Vec lifecycle event {'msg': 'training model with 8 workers on 160 vocabulary and 700 features, using sg=1 hs=0 sample=0.001 negative=5 window=30 shrink_windows=True', 'datetime': '2022-03-07T13:07:30.197057', 'gensim': '4.1.2', 'python': '3.8.2 (v3.8.2:7b3ab5921f, Feb 24 2020, 17:52:18) \\n[Clang 6.0 (clang-600.0.57)]', 'platform': 'macOS-10.15.5-x86_64-i386-64bit', 'event': 'train'}\n",
      "2022-03-07 13:07:30,713 - INFO : worker thread finished; awaiting finish of 7 more threads\n",
      "2022-03-07 13:07:30,717 - INFO : worker thread finished; awaiting finish of 6 more threads\n",
      "2022-03-07 13:07:30,723 - INFO : worker thread finished; awaiting finish of 5 more threads\n",
      "2022-03-07 13:07:30,987 - INFO : worker thread finished; awaiting finish of 4 more threads\n",
      "2022-03-07 13:07:31,040 - INFO : worker thread finished; awaiting finish of 3 more threads\n",
      "2022-03-07 13:07:31,043 - INFO : worker thread finished; awaiting finish of 2 more threads\n",
      "2022-03-07 13:07:31,047 - INFO : worker thread finished; awaiting finish of 1 more threads\n",
      "2022-03-07 13:07:31,054 - INFO : worker thread finished; awaiting finish of 0 more threads\n",
      "2022-03-07 13:07:31,054 - INFO : EPOCH - 1 : training on 128000 raw words (66877 effective words) took 0.9s, 78550 effective words/s\n",
      "2022-03-07 13:07:31,575 - INFO : worker thread finished; awaiting finish of 7 more threads\n",
      "2022-03-07 13:07:31,583 - INFO : worker thread finished; awaiting finish of 6 more threads\n",
      "2022-03-07 13:07:31,592 - INFO : worker thread finished; awaiting finish of 5 more threads\n",
      "2022-03-07 13:07:31,860 - INFO : worker thread finished; awaiting finish of 4 more threads\n",
      "2022-03-07 13:07:31,906 - INFO : worker thread finished; awaiting finish of 3 more threads\n",
      "2022-03-07 13:07:31,910 - INFO : worker thread finished; awaiting finish of 2 more threads\n",
      "2022-03-07 13:07:31,912 - INFO : worker thread finished; awaiting finish of 1 more threads\n",
      "2022-03-07 13:07:31,913 - INFO : worker thread finished; awaiting finish of 0 more threads\n",
      "2022-03-07 13:07:31,914 - INFO : EPOCH - 2 : training on 128000 raw words (67102 effective words) took 0.9s, 78441 effective words/s\n",
      "2022-03-07 13:07:32,439 - INFO : worker thread finished; awaiting finish of 7 more threads\n",
      "2022-03-07 13:07:32,449 - INFO : worker thread finished; awaiting finish of 6 more threads\n",
      "2022-03-07 13:07:32,451 - INFO : worker thread finished; awaiting finish of 5 more threads\n",
      "2022-03-07 13:07:32,716 - INFO : worker thread finished; awaiting finish of 4 more threads\n",
      "2022-03-07 13:07:32,749 - INFO : worker thread finished; awaiting finish of 3 more threads\n",
      "2022-03-07 13:07:32,759 - INFO : worker thread finished; awaiting finish of 2 more threads\n",
      "2022-03-07 13:07:32,765 - INFO : worker thread finished; awaiting finish of 1 more threads\n",
      "2022-03-07 13:07:32,778 - INFO : worker thread finished; awaiting finish of 0 more threads\n",
      "2022-03-07 13:07:32,779 - INFO : EPOCH - 3 : training on 128000 raw words (66977 effective words) took 0.9s, 77754 effective words/s\n",
      "2022-03-07 13:07:33,300 - INFO : worker thread finished; awaiting finish of 7 more threads\n",
      "2022-03-07 13:07:33,317 - INFO : worker thread finished; awaiting finish of 6 more threads\n",
      "2022-03-07 13:07:33,318 - INFO : worker thread finished; awaiting finish of 5 more threads\n",
      "2022-03-07 13:07:33,589 - INFO : worker thread finished; awaiting finish of 4 more threads\n",
      "2022-03-07 13:07:33,620 - INFO : worker thread finished; awaiting finish of 3 more threads\n",
      "2022-03-07 13:07:33,623 - INFO : worker thread finished; awaiting finish of 2 more threads\n",
      "2022-03-07 13:07:33,630 - INFO : worker thread finished; awaiting finish of 1 more threads\n",
      "2022-03-07 13:07:33,633 - INFO : worker thread finished; awaiting finish of 0 more threads\n",
      "2022-03-07 13:07:33,633 - INFO : EPOCH - 4 : training on 128000 raw words (67195 effective words) took 0.8s, 79083 effective words/s\n",
      "2022-03-07 13:07:34,160 - INFO : worker thread finished; awaiting finish of 7 more threads\n",
      "2022-03-07 13:07:34,168 - INFO : worker thread finished; awaiting finish of 6 more threads\n",
      "2022-03-07 13:07:34,190 - INFO : worker thread finished; awaiting finish of 5 more threads\n",
      "2022-03-07 13:07:34,458 - INFO : worker thread finished; awaiting finish of 4 more threads\n",
      "2022-03-07 13:07:34,484 - INFO : worker thread finished; awaiting finish of 3 more threads\n",
      "2022-03-07 13:07:34,489 - INFO : worker thread finished; awaiting finish of 2 more threads\n",
      "2022-03-07 13:07:34,498 - INFO : worker thread finished; awaiting finish of 1 more threads\n",
      "2022-03-07 13:07:34,501 - INFO : worker thread finished; awaiting finish of 0 more threads\n",
      "2022-03-07 13:07:34,502 - INFO : EPOCH - 5 : training on 128000 raw words (66924 effective words) took 0.9s, 77383 effective words/s\n",
      "2022-03-07 13:07:34,503 - INFO : Word2Vec lifecycle event {'msg': 'training on 640000 raw words (335075 effective words) took 4.3s, 77821 effective words/s', 'datetime': '2022-03-07T13:07:34.503471', 'gensim': '4.1.2', 'python': '3.8.2 (v3.8.2:7b3ab5921f, Feb 24 2020, 17:52:18) \\n[Clang 6.0 (clang-600.0.57)]', 'platform': 'macOS-10.15.5-x86_64-i386-64bit', 'event': 'train'}\n",
      "2022-03-07 13:07:34,504 - INFO : Word2Vec lifecycle event {'params': 'Word2Vec(vocab=160, vector_size=700, alpha=0.025)', 'datetime': '2022-03-07T13:07:34.504170', 'gensim': '4.1.2', 'python': '3.8.2 (v3.8.2:7b3ab5921f, Feb 24 2020, 17:52:18) \\n[Clang 6.0 (clang-600.0.57)]', 'platform': 'macOS-10.15.5-x86_64-i386-64bit', 'event': 'created'}\n"
     ]
    },
    {
     "data": {
      "text/plain": [
       "'results/instance_of_data_lead_paragraph.html'"
      ]
     },
     "execution_count": 49,
     "metadata": {},
     "output_type": "execute_result"
    },
    {
     "name": "stderr",
     "output_type": "stream",
     "text": [
      "\n",
      "\n",
      "\n",
      "\n",
      "\n",
      "\n",
      "\n",
      "\n"
     ]
    }
   ],
   "source": [
    "res = network_analysis(df_indexed_wikidata, \n",
    "                      variables = ['instance_of'],\n",
    "                      key = 'docs',\n",
    "                      method = 'node2vec',\n",
    "                      height_att = 1000, \n",
    "                      width_att = 1000,\n",
    "                      n_neighbours = 7,\n",
    "                      global_filter = 0.3,\n",
    "                      top_nodes = 400)\n",
    "\n",
    "plotly.offline.plot(res, filename = 'results/instance_of_data_lead_paragraph.html', auto_open=True)"
   ]
  },
  {
   "cell_type": "code",
   "execution_count": null,
   "id": "18d19e28-bdb4-4e3e-b798-89fae2fa1950",
   "metadata": {},
   "outputs": [],
   "source": []
  },
  {
   "cell_type": "code",
   "execution_count": 51,
   "id": "7a36ba8f-b8e3-4762-9f82-7aa188ebdfa2",
   "metadata": {},
   "outputs": [],
   "source": []
  },
  {
   "cell_type": "code",
   "execution_count": null,
   "id": "04ff49c4-281b-4a4c-8d71-b6515b75eb97",
   "metadata": {},
   "outputs": [],
   "source": []
  },
  {
   "cell_type": "code",
   "execution_count": 23,
   "id": "c29338cb-2a97-4d1c-9df6-858cb16a66b6",
   "metadata": {},
   "outputs": [],
   "source": [
    "# Subclass of\n",
    "#new_terms['sublass_of'] = new_terms['wikidata_id'].progress_apply(lambda x: get_feature_func(x, feature_id='P279'))"
   ]
  },
  {
   "cell_type": "code",
   "execution_count": null,
   "id": "f79b49fe-6608-45c8-b22b-c60d601df007",
   "metadata": {},
   "outputs": [],
   "source": []
  },
  {
   "cell_type": "code",
   "execution_count": 24,
   "id": "d0f9f7f2-5ba5-4d8d-8b51-19be5cc72e8a",
   "metadata": {},
   "outputs": [],
   "source": [
    "#import bamboolib\n",
    "#new_terms"
   ]
  },
  {
   "cell_type": "code",
   "execution_count": null,
   "id": "c9a71d7e-f2a5-4833-85f2-afd1096f8b44",
   "metadata": {},
   "outputs": [],
   "source": []
  },
  {
   "cell_type": "code",
   "execution_count": 61,
   "id": "55e2de15-053b-4117-8ff5-143c76020236",
   "metadata": {},
   "outputs": [
    {
     "data": {
      "application/vnd.jupyter.widget-view+json": {
       "model_id": "7d16f51fb14f43639108da695d71c2d4"
      },
      "text/html": [
       "<div>\n",
       "<style scoped>\n",
       "    .dataframe tbody tr th:only-of-type {\n",
       "        vertical-align: middle;\n",
       "    }\n",
       "\n",
       "    .dataframe tbody tr th {\n",
       "        vertical-align: top;\n",
       "    }\n",
       "\n",
       "    .dataframe thead th {\n",
       "        text-align: right;\n",
       "    }\n",
       "</style>\n",
       "<table border=\"1\" class=\"dataframe\">\n",
       "  <thead>\n",
       "    <tr style=\"text-align: right;\">\n",
       "      <th></th>\n",
       "      <th>Unnamed: 0</th>\n",
       "      <th>stem</th>\n",
       "      <th>main form</th>\n",
       "      <th>forms</th>\n",
       "      <th>ent</th>\n",
       "      <th>frequency</th>\n",
       "      <th>chi2</th>\n",
       "      <th>extract_type</th>\n",
       "      <th>wikidata_id</th>\n",
       "      <th>sublass_of</th>\n",
       "      <th>instance_of</th>\n",
       "    </tr>\n",
       "  </thead>\n",
       "  <tbody>\n",
       "    <tr>\n",
       "      <th>0</th>\n",
       "      <td>0</td>\n",
       "      <td>google</td>\n",
       "      <td>GOOGLE</td>\n",
       "      <td>Google|&amp;|google|&amp;|GOOGLE</td>\n",
       "      <td>ORG</td>\n",
       "      <td>708</td>\n",
       "      <td>4806.389143</td>\n",
       "      <td>entities</td>\n",
       "      <td>Q95</td>\n",
       "      <td>None</td>\n",
       "      <td>public company</td>\n",
       "    </tr>\n",
       "    <tr>\n",
       "      <th>1</th>\n",
       "      <td>1</td>\n",
       "      <td>microsoft</td>\n",
       "      <td>MICROSOFT</td>\n",
       "      <td>Microsoft|&amp;|MICROSOFT|&amp;|microsoft</td>\n",
       "      <td>ORG</td>\n",
       "      <td>318</td>\n",
       "      <td>2044.619320</td>\n",
       "      <td>entities</td>\n",
       "      <td>Q2283</td>\n",
       "      <td>None</td>\n",
       "      <td>public company</td>\n",
       "    </tr>\n",
       "    <tr>\n",
       "      <th>3</th>\n",
       "      <td>3</td>\n",
       "      <td>ibm</td>\n",
       "      <td>IBM</td>\n",
       "      <td>IBM</td>\n",
       "      <td>ORG</td>\n",
       "      <td>264</td>\n",
       "      <td>2433.475947</td>\n",
       "      <td>entities</td>\n",
       "      <td>Q37156</td>\n",
       "      <td>None</td>\n",
       "      <td>computer hardware</td>\n",
       "    </tr>\n",
       "    <tr>\n",
       "      <th>6</th>\n",
       "      <td>6</td>\n",
       "      <td>elon musk</td>\n",
       "      <td>Elon Musk</td>\n",
       "      <td>Elon Musk</td>\n",
       "      <td>PER|&amp;|ORG</td>\n",
       "      <td>163</td>\n",
       "      <td>1229.772746</td>\n",
       "      <td>entities</td>\n",
       "      <td>Q317521</td>\n",
       "      <td>None</td>\n",
       "      <td>human</td>\n",
       "    </tr>\n",
       "    <tr>\n",
       "      <th>8</th>\n",
       "      <td>8</td>\n",
       "      <td>mit</td>\n",
       "      <td>MIT</td>\n",
       "      <td>MIT</td>\n",
       "      <td>ORG</td>\n",
       "      <td>135</td>\n",
       "      <td>842.667106</td>\n",
       "      <td>entities</td>\n",
       "      <td>Q49108</td>\n",
       "      <td>None</td>\n",
       "      <td>university</td>\n",
       "    </tr>\n",
       "    <tr>\n",
       "      <th>...</th>\n",
       "      <td>...</td>\n",
       "      <td>...</td>\n",
       "      <td>...</td>\n",
       "      <td>...</td>\n",
       "      <td>...</td>\n",
       "      <td>...</td>\n",
       "      <td>...</td>\n",
       "      <td>...</td>\n",
       "      <td>...</td>\n",
       "      <td>...</td>\n",
       "      <td>...</td>\n",
       "    </tr>\n",
       "    <tr>\n",
       "      <th>8735</th>\n",
       "      <td>3735</td>\n",
       "      <td>marc andreessen</td>\n",
       "      <td>Marc Andreessen</td>\n",
       "      <td>Marc Andreessen</td>\n",
       "      <td>NP</td>\n",
       "      <td>5</td>\n",
       "      <td>39.539776</td>\n",
       "      <td>bigrams_nouns</td>\n",
       "      <td>Q62882</td>\n",
       "      <td>None</td>\n",
       "      <td>human</td>\n",
       "    </tr>\n",
       "    <tr>\n",
       "      <th>8985</th>\n",
       "      <td>3985</td>\n",
       "      <td>de leamour</td>\n",
       "      <td>de l'amour</td>\n",
       "      <td>de l'amour</td>\n",
       "      <td>NP</td>\n",
       "      <td>5</td>\n",
       "      <td>38.628169</td>\n",
       "      <td>bigrams_nouns</td>\n",
       "      <td>Q4728510</td>\n",
       "      <td>None</td>\n",
       "      <td>film</td>\n",
       "    </tr>\n",
       "    <tr>\n",
       "      <th>9094</th>\n",
       "      <td>4094</td>\n",
       "      <td>sciences et avenir</td>\n",
       "      <td>Sciences et Avenir</td>\n",
       "      <td>Sciences et Avenir</td>\n",
       "      <td>NP</td>\n",
       "      <td>4</td>\n",
       "      <td>31.631821</td>\n",
       "      <td>bigrams_nouns</td>\n",
       "      <td>Q546262</td>\n",
       "      <td>None</td>\n",
       "      <td>periodical</td>\n",
       "    </tr>\n",
       "    <tr>\n",
       "      <th>9195</th>\n",
       "      <td>4195</td>\n",
       "      <td>roger penrose</td>\n",
       "      <td>Roger Penrose</td>\n",
       "      <td>Roger Penrose</td>\n",
       "      <td>NP</td>\n",
       "      <td>4</td>\n",
       "      <td>32.524395</td>\n",
       "      <td>bigrams_nouns</td>\n",
       "      <td>Q193803</td>\n",
       "      <td>None</td>\n",
       "      <td>human</td>\n",
       "    </tr>\n",
       "    <tr>\n",
       "      <th>9884</th>\n",
       "      <td>4884</td>\n",
       "      <td>dans leespace</td>\n",
       "      <td>dans l'espace</td>\n",
       "      <td>dans l'espace</td>\n",
       "      <td>NP</td>\n",
       "      <td>4</td>\n",
       "      <td>39.539776</td>\n",
       "      <td>bigrams_nouns</td>\n",
       "      <td>Q107292139</td>\n",
       "      <td>None</td>\n",
       "      <td>musical work/composition</td>\n",
       "    </tr>\n",
       "  </tbody>\n",
       "</table>\n",
       "<p>1723 rows × 11 columns</p>\n",
       "</div>"
      ],
      "text/plain": [
       "      Unnamed: 0                stem           main form  \\\n",
       "0              0              google              GOOGLE   \n",
       "1              1           microsoft           MICROSOFT   \n",
       "3              3                 ibm                 IBM   \n",
       "6              6           elon musk           Elon Musk   \n",
       "8              8                 mit                 MIT   \n",
       "...          ...                 ...                 ...   \n",
       "8735        3735     marc andreessen     Marc Andreessen   \n",
       "8985        3985          de leamour          de l'amour   \n",
       "9094        4094  sciences et avenir  Sciences et Avenir   \n",
       "9195        4195       roger penrose       Roger Penrose   \n",
       "9884        4884       dans leespace       dans l'espace   \n",
       "\n",
       "                                  forms        ent  frequency         chi2  \\\n",
       "0              Google|&|google|&|GOOGLE        ORG        708  4806.389143   \n",
       "1     Microsoft|&|MICROSOFT|&|microsoft        ORG        318  2044.619320   \n",
       "3                                   IBM        ORG        264  2433.475947   \n",
       "6                             Elon Musk  PER|&|ORG        163  1229.772746   \n",
       "8                                   MIT        ORG        135   842.667106   \n",
       "...                                 ...        ...        ...          ...   \n",
       "8735                    Marc Andreessen         NP          5    39.539776   \n",
       "8985                         de l'amour         NP          5    38.628169   \n",
       "9094                 Sciences et Avenir         NP          4    31.631821   \n",
       "9195                      Roger Penrose         NP          4    32.524395   \n",
       "9884                      dans l'espace         NP          4    39.539776   \n",
       "\n",
       "       extract_type wikidata_id sublass_of               instance_of  \n",
       "0          entities         Q95       None            public company  \n",
       "1          entities       Q2283       None            public company  \n",
       "3          entities      Q37156       None         computer hardware  \n",
       "6          entities     Q317521       None                     human  \n",
       "8          entities      Q49108       None                university  \n",
       "...             ...         ...        ...                       ...  \n",
       "8735  bigrams_nouns      Q62882       None                     human  \n",
       "8985  bigrams_nouns    Q4728510       None                      film  \n",
       "9094  bigrams_nouns     Q546262       None                periodical  \n",
       "9195  bigrams_nouns     Q193803       None                     human  \n",
       "9884  bigrams_nouns  Q107292139       None  musical work/composition  \n",
       "\n",
       "[1723 rows x 11 columns]"
      ]
     },
     "metadata": {},
     "output_type": "display_data"
    }
   ],
   "source": [
    "new_terms.to_csv('results_terms_wikidata.csv')\n",
    "test = new_terms[new_terms['instance_of'].notna()]\n",
    "test = test[test['instance_of'] != 'Wikimedia disambiguation page']\n",
    "test = test[test['instance_of'] != 'Wikimedia human name disambiguation page']\n",
    "test"
   ]
  },
  {
   "cell_type": "code",
   "execution_count": 59,
   "id": "9aab59db-e9e5-42e7-ac66-534c1abcf200",
   "metadata": {},
   "outputs": [
    {
     "data": {
      "application/vnd.plotly.v1+json": {
       "config": {
        "plotlyServerURL": "https://plot.ly"
       },
       "data": [
        {
         "alignmentgroup": "True",
         "hovertemplate": "frequency=%{x}<br>instance_of=%{y}<extra></extra>",
         "legendgroup": "",
         "marker": {
          "color": "#636efa"
         },
         "name": "",
         "offsetgroup": "",
         "orientation": "h",
         "showlegend": false,
         "textposition": "auto",
         "type": "bar",
         "x": [
          4,
          4,
          4,
          4,
          4,
          4,
          4,
          4,
          4,
          4,
          4,
          4,
          4,
          5,
          6,
          6,
          6,
          6,
          6,
          6,
          7,
          7,
          7,
          7,
          8,
          8,
          8,
          8,
          8,
          9,
          9,
          9,
          9,
          10,
          10,
          11,
          13,
          14,
          15,
          15,
          17,
          17,
          19,
          20,
          21,
          25,
          34,
          88,
          124,
          625
         ],
         "xaxis": "x",
         "y": [
          "conglomerate",
          "law firm",
          "Public Scientific and Technical Research Establishment",
          "animation studio",
          "higher education institution",
          "consulting company",
          "specialty channel",
          "credit institution",
          "political party",
          "academic journal",
          "position",
          "publisher",
          "brick and mortar",
          "commune of France",
          "radio station",
          "government agency",
          "holding company",
          "software",
          "intelligence agency",
          "engineering school",
          "magazine",
          "university in France",
          "profession",
          "private university",
          "film",
          "company",
          "subsidiary",
          "brand",
          "grande école",
          "venture capital firm",
          "newspaper",
          "intergovernmental organization",
          "airline",
          "fictional human",
          "consonant letter",
          "daily newspaper",
          "research institute",
          "nonprofit organization",
          "multinational corporation",
          "university",
          "bank",
          "female given name",
          "automobile manufacturer",
          "male given name",
          "website",
          "organization",
          "family name",
          "business",
          "public company",
          "human"
         ],
         "yaxis": "y"
        }
       ],
       "layout": {
        "autosize": true,
        "barmode": "relative",
        "legend": {
         "tracegroupgap": 0
        },
        "margin": {
         "t": 60
        },
        "template": {
         "data": {
          "bar": [
           {
            "error_x": {
             "color": "#2a3f5f"
            },
            "error_y": {
             "color": "#2a3f5f"
            },
            "marker": {
             "line": {
              "color": "#E5ECF6",
              "width": 0.5
             }
            },
            "type": "bar"
           }
          ],
          "barpolar": [
           {
            "marker": {
             "line": {
              "color": "#E5ECF6",
              "width": 0.5
             }
            },
            "type": "barpolar"
           }
          ],
          "carpet": [
           {
            "aaxis": {
             "endlinecolor": "#2a3f5f",
             "gridcolor": "white",
             "linecolor": "white",
             "minorgridcolor": "white",
             "startlinecolor": "#2a3f5f"
            },
            "baxis": {
             "endlinecolor": "#2a3f5f",
             "gridcolor": "white",
             "linecolor": "white",
             "minorgridcolor": "white",
             "startlinecolor": "#2a3f5f"
            },
            "type": "carpet"
           }
          ],
          "choropleth": [
           {
            "colorbar": {
             "outlinewidth": 0,
             "ticks": ""
            },
            "type": "choropleth"
           }
          ],
          "contour": [
           {
            "colorbar": {
             "outlinewidth": 0,
             "ticks": ""
            },
            "colorscale": [
             [
              0,
              "#0d0887"
             ],
             [
              0.1111111111111111,
              "#46039f"
             ],
             [
              0.2222222222222222,
              "#7201a8"
             ],
             [
              0.3333333333333333,
              "#9c179e"
             ],
             [
              0.4444444444444444,
              "#bd3786"
             ],
             [
              0.5555555555555556,
              "#d8576b"
             ],
             [
              0.6666666666666666,
              "#ed7953"
             ],
             [
              0.7777777777777778,
              "#fb9f3a"
             ],
             [
              0.8888888888888888,
              "#fdca26"
             ],
             [
              1,
              "#f0f921"
             ]
            ],
            "type": "contour"
           }
          ],
          "contourcarpet": [
           {
            "colorbar": {
             "outlinewidth": 0,
             "ticks": ""
            },
            "type": "contourcarpet"
           }
          ],
          "heatmap": [
           {
            "colorbar": {
             "outlinewidth": 0,
             "ticks": ""
            },
            "colorscale": [
             [
              0,
              "#0d0887"
             ],
             [
              0.1111111111111111,
              "#46039f"
             ],
             [
              0.2222222222222222,
              "#7201a8"
             ],
             [
              0.3333333333333333,
              "#9c179e"
             ],
             [
              0.4444444444444444,
              "#bd3786"
             ],
             [
              0.5555555555555556,
              "#d8576b"
             ],
             [
              0.6666666666666666,
              "#ed7953"
             ],
             [
              0.7777777777777778,
              "#fb9f3a"
             ],
             [
              0.8888888888888888,
              "#fdca26"
             ],
             [
              1,
              "#f0f921"
             ]
            ],
            "type": "heatmap"
           }
          ],
          "heatmapgl": [
           {
            "colorbar": {
             "outlinewidth": 0,
             "ticks": ""
            },
            "colorscale": [
             [
              0,
              "#0d0887"
             ],
             [
              0.1111111111111111,
              "#46039f"
             ],
             [
              0.2222222222222222,
              "#7201a8"
             ],
             [
              0.3333333333333333,
              "#9c179e"
             ],
             [
              0.4444444444444444,
              "#bd3786"
             ],
             [
              0.5555555555555556,
              "#d8576b"
             ],
             [
              0.6666666666666666,
              "#ed7953"
             ],
             [
              0.7777777777777778,
              "#fb9f3a"
             ],
             [
              0.8888888888888888,
              "#fdca26"
             ],
             [
              1,
              "#f0f921"
             ]
            ],
            "type": "heatmapgl"
           }
          ],
          "histogram": [
           {
            "marker": {
             "colorbar": {
              "outlinewidth": 0,
              "ticks": ""
             }
            },
            "type": "histogram"
           }
          ],
          "histogram2d": [
           {
            "colorbar": {
             "outlinewidth": 0,
             "ticks": ""
            },
            "colorscale": [
             [
              0,
              "#0d0887"
             ],
             [
              0.1111111111111111,
              "#46039f"
             ],
             [
              0.2222222222222222,
              "#7201a8"
             ],
             [
              0.3333333333333333,
              "#9c179e"
             ],
             [
              0.4444444444444444,
              "#bd3786"
             ],
             [
              0.5555555555555556,
              "#d8576b"
             ],
             [
              0.6666666666666666,
              "#ed7953"
             ],
             [
              0.7777777777777778,
              "#fb9f3a"
             ],
             [
              0.8888888888888888,
              "#fdca26"
             ],
             [
              1,
              "#f0f921"
             ]
            ],
            "type": "histogram2d"
           }
          ],
          "histogram2dcontour": [
           {
            "colorbar": {
             "outlinewidth": 0,
             "ticks": ""
            },
            "colorscale": [
             [
              0,
              "#0d0887"
             ],
             [
              0.1111111111111111,
              "#46039f"
             ],
             [
              0.2222222222222222,
              "#7201a8"
             ],
             [
              0.3333333333333333,
              "#9c179e"
             ],
             [
              0.4444444444444444,
              "#bd3786"
             ],
             [
              0.5555555555555556,
              "#d8576b"
             ],
             [
              0.6666666666666666,
              "#ed7953"
             ],
             [
              0.7777777777777778,
              "#fb9f3a"
             ],
             [
              0.8888888888888888,
              "#fdca26"
             ],
             [
              1,
              "#f0f921"
             ]
            ],
            "type": "histogram2dcontour"
           }
          ],
          "mesh3d": [
           {
            "colorbar": {
             "outlinewidth": 0,
             "ticks": ""
            },
            "type": "mesh3d"
           }
          ],
          "parcoords": [
           {
            "line": {
             "colorbar": {
              "outlinewidth": 0,
              "ticks": ""
             }
            },
            "type": "parcoords"
           }
          ],
          "pie": [
           {
            "automargin": true,
            "type": "pie"
           }
          ],
          "scatter": [
           {
            "marker": {
             "colorbar": {
              "outlinewidth": 0,
              "ticks": ""
             }
            },
            "type": "scatter"
           }
          ],
          "scatter3d": [
           {
            "line": {
             "colorbar": {
              "outlinewidth": 0,
              "ticks": ""
             }
            },
            "marker": {
             "colorbar": {
              "outlinewidth": 0,
              "ticks": ""
             }
            },
            "type": "scatter3d"
           }
          ],
          "scattercarpet": [
           {
            "marker": {
             "colorbar": {
              "outlinewidth": 0,
              "ticks": ""
             }
            },
            "type": "scattercarpet"
           }
          ],
          "scattergeo": [
           {
            "marker": {
             "colorbar": {
              "outlinewidth": 0,
              "ticks": ""
             }
            },
            "type": "scattergeo"
           }
          ],
          "scattergl": [
           {
            "marker": {
             "colorbar": {
              "outlinewidth": 0,
              "ticks": ""
             }
            },
            "type": "scattergl"
           }
          ],
          "scattermapbox": [
           {
            "marker": {
             "colorbar": {
              "outlinewidth": 0,
              "ticks": ""
             }
            },
            "type": "scattermapbox"
           }
          ],
          "scatterpolar": [
           {
            "marker": {
             "colorbar": {
              "outlinewidth": 0,
              "ticks": ""
             }
            },
            "type": "scatterpolar"
           }
          ],
          "scatterpolargl": [
           {
            "marker": {
             "colorbar": {
              "outlinewidth": 0,
              "ticks": ""
             }
            },
            "type": "scatterpolargl"
           }
          ],
          "scatterternary": [
           {
            "marker": {
             "colorbar": {
              "outlinewidth": 0,
              "ticks": ""
             }
            },
            "type": "scatterternary"
           }
          ],
          "surface": [
           {
            "colorbar": {
             "outlinewidth": 0,
             "ticks": ""
            },
            "colorscale": [
             [
              0,
              "#0d0887"
             ],
             [
              0.1111111111111111,
              "#46039f"
             ],
             [
              0.2222222222222222,
              "#7201a8"
             ],
             [
              0.3333333333333333,
              "#9c179e"
             ],
             [
              0.4444444444444444,
              "#bd3786"
             ],
             [
              0.5555555555555556,
              "#d8576b"
             ],
             [
              0.6666666666666666,
              "#ed7953"
             ],
             [
              0.7777777777777778,
              "#fb9f3a"
             ],
             [
              0.8888888888888888,
              "#fdca26"
             ],
             [
              1,
              "#f0f921"
             ]
            ],
            "type": "surface"
           }
          ],
          "table": [
           {
            "cells": {
             "fill": {
              "color": "#EBF0F8"
             },
             "line": {
              "color": "white"
             }
            },
            "header": {
             "fill": {
              "color": "#C8D4E3"
             },
             "line": {
              "color": "white"
             }
            },
            "type": "table"
           }
          ]
         },
         "layout": {
          "annotationdefaults": {
           "arrowcolor": "#2a3f5f",
           "arrowhead": 0,
           "arrowwidth": 1
          },
          "autotypenumbers": "strict",
          "coloraxis": {
           "colorbar": {
            "outlinewidth": 0,
            "ticks": ""
           }
          },
          "colorscale": {
           "diverging": [
            [
             0,
             "#8e0152"
            ],
            [
             0.1,
             "#c51b7d"
            ],
            [
             0.2,
             "#de77ae"
            ],
            [
             0.3,
             "#f1b6da"
            ],
            [
             0.4,
             "#fde0ef"
            ],
            [
             0.5,
             "#f7f7f7"
            ],
            [
             0.6,
             "#e6f5d0"
            ],
            [
             0.7,
             "#b8e186"
            ],
            [
             0.8,
             "#7fbc41"
            ],
            [
             0.9,
             "#4d9221"
            ],
            [
             1,
             "#276419"
            ]
           ],
           "sequential": [
            [
             0,
             "#0d0887"
            ],
            [
             0.1111111111111111,
             "#46039f"
            ],
            [
             0.2222222222222222,
             "#7201a8"
            ],
            [
             0.3333333333333333,
             "#9c179e"
            ],
            [
             0.4444444444444444,
             "#bd3786"
            ],
            [
             0.5555555555555556,
             "#d8576b"
            ],
            [
             0.6666666666666666,
             "#ed7953"
            ],
            [
             0.7777777777777778,
             "#fb9f3a"
            ],
            [
             0.8888888888888888,
             "#fdca26"
            ],
            [
             1,
             "#f0f921"
            ]
           ],
           "sequentialminus": [
            [
             0,
             "#0d0887"
            ],
            [
             0.1111111111111111,
             "#46039f"
            ],
            [
             0.2222222222222222,
             "#7201a8"
            ],
            [
             0.3333333333333333,
             "#9c179e"
            ],
            [
             0.4444444444444444,
             "#bd3786"
            ],
            [
             0.5555555555555556,
             "#d8576b"
            ],
            [
             0.6666666666666666,
             "#ed7953"
            ],
            [
             0.7777777777777778,
             "#fb9f3a"
            ],
            [
             0.8888888888888888,
             "#fdca26"
            ],
            [
             1,
             "#f0f921"
            ]
           ]
          },
          "colorway": [
           "#636efa",
           "#EF553B",
           "#00cc96",
           "#ab63fa",
           "#FFA15A",
           "#19d3f3",
           "#FF6692",
           "#B6E880",
           "#FF97FF",
           "#FECB52"
          ],
          "font": {
           "color": "#2a3f5f"
          },
          "geo": {
           "bgcolor": "white",
           "lakecolor": "white",
           "landcolor": "#E5ECF6",
           "showlakes": true,
           "showland": true,
           "subunitcolor": "white"
          },
          "hoverlabel": {
           "align": "left"
          },
          "hovermode": "closest",
          "mapbox": {
           "style": "light"
          },
          "paper_bgcolor": "white",
          "plot_bgcolor": "#E5ECF6",
          "polar": {
           "angularaxis": {
            "gridcolor": "white",
            "linecolor": "white",
            "ticks": ""
           },
           "bgcolor": "#E5ECF6",
           "radialaxis": {
            "gridcolor": "white",
            "linecolor": "white",
            "ticks": ""
           }
          },
          "scene": {
           "xaxis": {
            "backgroundcolor": "#E5ECF6",
            "gridcolor": "white",
            "gridwidth": 2,
            "linecolor": "white",
            "showbackground": true,
            "ticks": "",
            "zerolinecolor": "white"
           },
           "yaxis": {
            "backgroundcolor": "#E5ECF6",
            "gridcolor": "white",
            "gridwidth": 2,
            "linecolor": "white",
            "showbackground": true,
            "ticks": "",
            "zerolinecolor": "white"
           },
           "zaxis": {
            "backgroundcolor": "#E5ECF6",
            "gridcolor": "white",
            "gridwidth": 2,
            "linecolor": "white",
            "showbackground": true,
            "ticks": "",
            "zerolinecolor": "white"
           }
          },
          "shapedefaults": {
           "line": {
            "color": "#2a3f5f"
           }
          },
          "ternary": {
           "aaxis": {
            "gridcolor": "white",
            "linecolor": "white",
            "ticks": ""
           },
           "baxis": {
            "gridcolor": "white",
            "linecolor": "white",
            "ticks": ""
           },
           "bgcolor": "#E5ECF6",
           "caxis": {
            "gridcolor": "white",
            "linecolor": "white",
            "ticks": ""
           }
          },
          "title": {
           "x": 0.05
          },
          "xaxis": {
           "automargin": true,
           "gridcolor": "white",
           "linecolor": "white",
           "ticks": "",
           "title": {
            "standoff": 15
           },
           "zerolinecolor": "white",
           "zerolinewidth": 2
          },
          "yaxis": {
           "automargin": true,
           "gridcolor": "white",
           "linecolor": "white",
           "ticks": "",
           "title": {
            "standoff": 15
           },
           "zerolinecolor": "white",
           "zerolinewidth": 2
          }
         }
        },
        "xaxis": {
         "anchor": "y",
         "autorange": true,
         "domain": [
          0,
          1
         ],
         "range": [
          0,
          657.8947368421053
         ],
         "title": {
          "text": "frequency"
         },
         "type": "linear"
        },
        "yaxis": {
         "anchor": "x",
         "autorange": true,
         "domain": [
          0,
          1
         ],
         "range": [
          -0.5,
          49.5
         ],
         "title": {
          "text": "instance_of"
         },
         "type": "category"
        }
       }
      },
      "image/png": "[encoded data removed]",
      "text/html": [
       "<div>                            <div id=\"9b60756b-d37f-474d-b92d-480548dc62c2\" class=\"plotly-graph-div\" style=\"height:1000px; width:100%;\"></div>            <script type=\"text/javascript\">                require([\"plotly\"], function(Plotly) {                    window.PLOTLYENV=window.PLOTLYENV || {};                                    if (document.getElementById(\"9b60756b-d37f-474d-b92d-480548dc62c2\")) {                    Plotly.newPlot(                        \"9b60756b-d37f-474d-b92d-480548dc62c2\",                        [{\"alignmentgroup\": \"True\", \"hovertemplate\": \"frequency=%{x}<br>instance_of=%{y}<extra></extra>\", \"legendgroup\": \"\", \"marker\": {\"color\": \"#636efa\"}, \"name\": \"\", \"offsetgroup\": \"\", \"orientation\": \"h\", \"showlegend\": false, \"textposition\": \"auto\", \"type\": \"bar\", \"x\": [4, 4, 4, 4, 4, 4, 4, 4, 4, 4, 4, 4, 4, 5, 6, 6, 6, 6, 6, 6, 7, 7, 7, 7, 8, 8, 8, 8, 8, 9, 9, 9, 9, 10, 10, 11, 13, 14, 15, 15, 17, 17, 19, 20, 21, 25, 34, 88, 124, 625], \"xaxis\": \"x\", \"y\": [\"conglomerate\", \"law firm\", \"Public Scientific and Technical Research Establishment\", \"animation studio\", \"higher education institution\", \"consulting company\", \"specialty channel\", \"credit institution\", \"political party\", \"academic journal\", \"position\", \"publisher\", \"brick and mortar\", \"commune of France\", \"radio station\", \"government agency\", \"holding company\", \"software\", \"intelligence agency\", \"engineering school\", \"magazine\", \"university in France\", \"profession\", \"private university\", \"film\", \"company\", \"subsidiary\", \"brand\", \"grande \\u00e9cole\", \"venture capital firm\", \"newspaper\", \"intergovernmental organization\", \"airline\", \"fictional human\", \"consonant letter\", \"daily newspaper\", \"research institute\", \"nonprofit organization\", \"multinational corporation\", \"university\", \"bank\", \"female given name\", \"automobile manufacturer\", \"male given name\", \"website\", \"organization\", \"family name\", \"business\", \"public company\", \"human\"], \"yaxis\": \"y\"}],                        {\"barmode\": \"relative\", \"height\": 1000, \"legend\": {\"tracegroupgap\": 0}, \"margin\": {\"t\": 60}, \"template\": {\"data\": {\"bar\": [{\"error_x\": {\"color\": \"#2a3f5f\"}, \"error_y\": {\"color\": \"#2a3f5f\"}, \"marker\": {\"line\": {\"color\": \"#E5ECF6\", \"width\": 0.5}}, \"type\": \"bar\"}], \"barpolar\": [{\"marker\": {\"line\": {\"color\": \"#E5ECF6\", \"width\": 0.5}}, \"type\": \"barpolar\"}], \"carpet\": [{\"aaxis\": {\"endlinecolor\": \"#2a3f5f\", \"gridcolor\": \"white\", \"linecolor\": \"white\", \"minorgridcolor\": \"white\", \"startlinecolor\": \"#2a3f5f\"}, \"baxis\": {\"endlinecolor\": \"#2a3f5f\", \"gridcolor\": \"white\", \"linecolor\": \"white\", \"minorgridcolor\": \"white\", \"startlinecolor\": \"#2a3f5f\"}, \"type\": \"carpet\"}], \"choropleth\": [{\"colorbar\": {\"outlinewidth\": 0, \"ticks\": \"\"}, \"type\": \"choropleth\"}], \"contour\": [{\"colorbar\": {\"outlinewidth\": 0, \"ticks\": \"\"}, \"colorscale\": [[0.0, \"#0d0887\"], [0.1111111111111111, \"#46039f\"], [0.2222222222222222, \"#7201a8\"], [0.3333333333333333, \"#9c179e\"], [0.4444444444444444, \"#bd3786\"], [0.5555555555555556, \"#d8576b\"], [0.6666666666666666, \"#ed7953\"], [0.7777777777777778, \"#fb9f3a\"], [0.8888888888888888, \"#fdca26\"], [1.0, \"#f0f921\"]], \"type\": \"contour\"}], \"contourcarpet\": [{\"colorbar\": {\"outlinewidth\": 0, \"ticks\": \"\"}, \"type\": \"contourcarpet\"}], \"heatmap\": [{\"colorbar\": {\"outlinewidth\": 0, \"ticks\": \"\"}, \"colorscale\": [[0.0, \"#0d0887\"], [0.1111111111111111, \"#46039f\"], [0.2222222222222222, \"#7201a8\"], [0.3333333333333333, \"#9c179e\"], [0.4444444444444444, \"#bd3786\"], [0.5555555555555556, \"#d8576b\"], [0.6666666666666666, \"#ed7953\"], [0.7777777777777778, \"#fb9f3a\"], [0.8888888888888888, \"#fdca26\"], [1.0, \"#f0f921\"]], \"type\": \"heatmap\"}], \"heatmapgl\": [{\"colorbar\": {\"outlinewidth\": 0, \"ticks\": \"\"}, \"colorscale\": [[0.0, \"#0d0887\"], [0.1111111111111111, \"#46039f\"], [0.2222222222222222, \"#7201a8\"], [0.3333333333333333, \"#9c179e\"], [0.4444444444444444, \"#bd3786\"], [0.5555555555555556, \"#d8576b\"], [0.6666666666666666, \"#ed7953\"], [0.7777777777777778, \"#fb9f3a\"], [0.8888888888888888, \"#fdca26\"], [1.0, \"#f0f921\"]], \"type\": \"heatmapgl\"}], \"histogram\": [{\"marker\": {\"colorbar\": {\"outlinewidth\": 0, \"ticks\": \"\"}}, \"type\": \"histogram\"}], \"histogram2d\": [{\"colorbar\": {\"outlinewidth\": 0, \"ticks\": \"\"}, \"colorscale\": [[0.0, \"#0d0887\"], [0.1111111111111111, \"#46039f\"], [0.2222222222222222, \"#7201a8\"], [0.3333333333333333, \"#9c179e\"], [0.4444444444444444, \"#bd3786\"], [0.5555555555555556, \"#d8576b\"], [0.6666666666666666, \"#ed7953\"], [0.7777777777777778, \"#fb9f3a\"], [0.8888888888888888, \"#fdca26\"], [1.0, \"#f0f921\"]], \"type\": \"histogram2d\"}], \"histogram2dcontour\": [{\"colorbar\": {\"outlinewidth\": 0, \"ticks\": \"\"}, \"colorscale\": [[0.0, \"#0d0887\"], [0.1111111111111111, \"#46039f\"], [0.2222222222222222, \"#7201a8\"], [0.3333333333333333, \"#9c179e\"], [0.4444444444444444, \"#bd3786\"], [0.5555555555555556, \"#d8576b\"], [0.6666666666666666, \"#ed7953\"], [0.7777777777777778, \"#fb9f3a\"], [0.8888888888888888, \"#fdca26\"], [1.0, \"#f0f921\"]], \"type\": \"histogram2dcontour\"}], \"mesh3d\": [{\"colorbar\": {\"outlinewidth\": 0, \"ticks\": \"\"}, \"type\": \"mesh3d\"}], \"parcoords\": [{\"line\": {\"colorbar\": {\"outlinewidth\": 0, \"ticks\": \"\"}}, \"type\": \"parcoords\"}], \"pie\": [{\"automargin\": true, \"type\": \"pie\"}], \"scatter\": [{\"marker\": {\"colorbar\": {\"outlinewidth\": 0, \"ticks\": \"\"}}, \"type\": \"scatter\"}], \"scatter3d\": [{\"line\": {\"colorbar\": {\"outlinewidth\": 0, \"ticks\": \"\"}}, \"marker\": {\"colorbar\": {\"outlinewidth\": 0, \"ticks\": \"\"}}, \"type\": \"scatter3d\"}], \"scattercarpet\": [{\"marker\": {\"colorbar\": {\"outlinewidth\": 0, \"ticks\": \"\"}}, \"type\": \"scattercarpet\"}], \"scattergeo\": [{\"marker\": {\"colorbar\": {\"outlinewidth\": 0, \"ticks\": \"\"}}, \"type\": \"scattergeo\"}], \"scattergl\": [{\"marker\": {\"colorbar\": {\"outlinewidth\": 0, \"ticks\": \"\"}}, \"type\": \"scattergl\"}], \"scattermapbox\": [{\"marker\": {\"colorbar\": {\"outlinewidth\": 0, \"ticks\": \"\"}}, \"type\": \"scattermapbox\"}], \"scatterpolar\": [{\"marker\": {\"colorbar\": {\"outlinewidth\": 0, \"ticks\": \"\"}}, \"type\": \"scatterpolar\"}], \"scatterpolargl\": [{\"marker\": {\"colorbar\": {\"outlinewidth\": 0, \"ticks\": \"\"}}, \"type\": \"scatterpolargl\"}], \"scatterternary\": [{\"marker\": {\"colorbar\": {\"outlinewidth\": 0, \"ticks\": \"\"}}, \"type\": \"scatterternary\"}], \"surface\": [{\"colorbar\": {\"outlinewidth\": 0, \"ticks\": \"\"}, \"colorscale\": [[0.0, \"#0d0887\"], [0.1111111111111111, \"#46039f\"], [0.2222222222222222, \"#7201a8\"], [0.3333333333333333, \"#9c179e\"], [0.4444444444444444, \"#bd3786\"], [0.5555555555555556, \"#d8576b\"], [0.6666666666666666, \"#ed7953\"], [0.7777777777777778, \"#fb9f3a\"], [0.8888888888888888, \"#fdca26\"], [1.0, \"#f0f921\"]], \"type\": \"surface\"}], \"table\": [{\"cells\": {\"fill\": {\"color\": \"#EBF0F8\"}, \"line\": {\"color\": \"white\"}}, \"header\": {\"fill\": {\"color\": \"#C8D4E3\"}, \"line\": {\"color\": \"white\"}}, \"type\": \"table\"}]}, \"layout\": {\"annotationdefaults\": {\"arrowcolor\": \"#2a3f5f\", \"arrowhead\": 0, \"arrowwidth\": 1}, \"autotypenumbers\": \"strict\", \"coloraxis\": {\"colorbar\": {\"outlinewidth\": 0, \"ticks\": \"\"}}, \"colorscale\": {\"diverging\": [[0, \"#8e0152\"], [0.1, \"#c51b7d\"], [0.2, \"#de77ae\"], [0.3, \"#f1b6da\"], [0.4, \"#fde0ef\"], [0.5, \"#f7f7f7\"], [0.6, \"#e6f5d0\"], [0.7, \"#b8e186\"], [0.8, \"#7fbc41\"], [0.9, \"#4d9221\"], [1, \"#276419\"]], \"sequential\": [[0.0, \"#0d0887\"], [0.1111111111111111, \"#46039f\"], [0.2222222222222222, \"#7201a8\"], [0.3333333333333333, \"#9c179e\"], [0.4444444444444444, \"#bd3786\"], [0.5555555555555556, \"#d8576b\"], [0.6666666666666666, \"#ed7953\"], [0.7777777777777778, \"#fb9f3a\"], [0.8888888888888888, \"#fdca26\"], [1.0, \"#f0f921\"]], \"sequentialminus\": [[0.0, \"#0d0887\"], [0.1111111111111111, \"#46039f\"], [0.2222222222222222, \"#7201a8\"], [0.3333333333333333, \"#9c179e\"], [0.4444444444444444, \"#bd3786\"], [0.5555555555555556, \"#d8576b\"], [0.6666666666666666, \"#ed7953\"], [0.7777777777777778, \"#fb9f3a\"], [0.8888888888888888, \"#fdca26\"], [1.0, \"#f0f921\"]]}, \"colorway\": [\"#636efa\", \"#EF553B\", \"#00cc96\", \"#ab63fa\", \"#FFA15A\", \"#19d3f3\", \"#FF6692\", \"#B6E880\", \"#FF97FF\", \"#FECB52\"], \"font\": {\"color\": \"#2a3f5f\"}, \"geo\": {\"bgcolor\": \"white\", \"lakecolor\": \"white\", \"landcolor\": \"#E5ECF6\", \"showlakes\": true, \"showland\": true, \"subunitcolor\": \"white\"}, \"hoverlabel\": {\"align\": \"left\"}, \"hovermode\": \"closest\", \"mapbox\": {\"style\": \"light\"}, \"paper_bgcolor\": \"white\", \"plot_bgcolor\": \"#E5ECF6\", \"polar\": {\"angularaxis\": {\"gridcolor\": \"white\", \"linecolor\": \"white\", \"ticks\": \"\"}, \"bgcolor\": \"#E5ECF6\", \"radialaxis\": {\"gridcolor\": \"white\", \"linecolor\": \"white\", \"ticks\": \"\"}}, \"scene\": {\"xaxis\": {\"backgroundcolor\": \"#E5ECF6\", \"gridcolor\": \"white\", \"gridwidth\": 2, \"linecolor\": \"white\", \"showbackground\": true, \"ticks\": \"\", \"zerolinecolor\": \"white\"}, \"yaxis\": {\"backgroundcolor\": \"#E5ECF6\", \"gridcolor\": \"white\", \"gridwidth\": 2, \"linecolor\": \"white\", \"showbackground\": true, \"ticks\": \"\", \"zerolinecolor\": \"white\"}, \"zaxis\": {\"backgroundcolor\": \"#E5ECF6\", \"gridcolor\": \"white\", \"gridwidth\": 2, \"linecolor\": \"white\", \"showbackground\": true, \"ticks\": \"\", \"zerolinecolor\": \"white\"}}, \"shapedefaults\": {\"line\": {\"color\": \"#2a3f5f\"}}, \"ternary\": {\"aaxis\": {\"gridcolor\": \"white\", \"linecolor\": \"white\", \"ticks\": \"\"}, \"baxis\": {\"gridcolor\": \"white\", \"linecolor\": \"white\", \"ticks\": \"\"}, \"bgcolor\": \"#E5ECF6\", \"caxis\": {\"gridcolor\": \"white\", \"linecolor\": \"white\", \"ticks\": \"\"}}, \"title\": {\"x\": 0.05}, \"xaxis\": {\"automargin\": true, \"gridcolor\": \"white\", \"linecolor\": \"white\", \"ticks\": \"\", \"title\": {\"standoff\": 15}, \"zerolinecolor\": \"white\", \"zerolinewidth\": 2}, \"yaxis\": {\"automargin\": true, \"gridcolor\": \"white\", \"linecolor\": \"white\", \"ticks\": \"\", \"title\": {\"standoff\": 15}, \"zerolinecolor\": \"white\", \"zerolinewidth\": 2}}}, \"xaxis\": {\"anchor\": \"y\", \"domain\": [0.0, 1.0], \"title\": {\"text\": \"frequency\"}}, \"yaxis\": {\"anchor\": \"x\", \"domain\": [0.0, 1.0], \"title\": {\"text\": \"instance_of\"}}},                        {\"responsive\": true}                    ).then(function(){\n",
       "                            \n",
       "var gd = document.getElementById('9b60756b-d37f-474d-b92d-480548dc62c2');\n",
       "var x = new MutationObserver(function (mutations, observer) {{\n",
       "        var display = window.getComputedStyle(gd).display;\n",
       "        if (!display || display === 'none') {{\n",
       "            console.log([gd, 'removed!']);\n",
       "            Plotly.purge(gd);\n",
       "            observer.disconnect();\n",
       "        }}\n",
       "}});\n",
       "\n",
       "// Listen for the removal of the full notebook cells\n",
       "var notebookContainer = gd.closest('#notebook-container');\n",
       "if (notebookContainer) {{\n",
       "    x.observe(notebookContainer, {childList: true});\n",
       "}}\n",
       "\n",
       "// Listen for the clearing of the current output cell\n",
       "var outputEl = gd.closest('.output');\n",
       "if (outputEl) {{\n",
       "    x.observe(outputEl, {childList: true});\n",
       "}}\n",
       "\n",
       "                        })                };                });            </script>        </div>"
      ]
     },
     "metadata": {},
     "output_type": "display_data"
    }
   ],
   "source": [
    "\n",
    "\n",
    "\n",
    "test = test.groupby('instance_of')['frequency'].count().reset_index().sort_values('frequency', ascending=True)\n",
    "\n",
    "import plotly.express as px\n",
    "fig = px.bar(test.tail(50), x='frequency', y='instance_of', height = 1000)\n",
    "fig"
   ]
  },
  {
   "cell_type": "code",
   "execution_count": null,
   "id": "de6af8cb-0ff3-4e77-aebc-5029ebcef98b",
   "metadata": {},
   "outputs": [],
   "source": []
  },
  {
   "cell_type": "code",
   "execution_count": null,
   "id": "ac374830-f1f7-4213-a24c-35c5c344ad33",
   "metadata": {},
   "outputs": [],
   "source": []
  }
 ],
 "metadata": {
  "kernelspec": {
   "display_name": "Python 3 (ipykernel)",
   "language": "python",
   "name": "python3"
  },
  "language_info": {
   "codemirror_mode": {
    "name": "ipython",
    "version": 3
   },
   "file_extension": ".py",
   "mimetype": "text/x-python",
   "name": "python",
   "nbconvert_exporter": "python",
   "pygments_lexer": "ipython3",
   "version": "3.8.2"
  }
 },
 "nbformat": 4,
 "nbformat_minor": 5
}
