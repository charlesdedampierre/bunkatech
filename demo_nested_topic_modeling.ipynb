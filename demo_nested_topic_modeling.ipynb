{
 "cells": [
  {
   "cell_type": "code",
   "execution_count": 2,
   "id": "894ee96f-010e-45d8-ab08-d12db043caf3",
   "metadata": {},
   "outputs": [],
   "source": [
    "import pandas as pd\n",
    "from bunkatech.topic_modeling.nested_topics import NestedTopicModeling\n",
    "\n",
    "data = pd.read_csv(\n",
    "    \"/Users/charlesdedampierre/Desktop/ENS Projects/imaginary-world/db_film_iw (2).csv\",\n",
    "    index_col=[0],\n",
    ")\n",
    "\n",
    "data = data.sample(100)"
   ]
  },
  {
   "cell_type": "code",
   "execution_count": 3,
   "id": "1eac03f6-028d-4e5c-8b0a-48f80f51a8c8",
   "metadata": {},
   "outputs": [
    {
     "name": "stderr",
     "output_type": "stream",
     "text": [
      "Extract Terms: 100%|███████████████████████████████████████████████████| 100/100 [00:01<00:00, 58.15it/s]\n"
     ]
    },
    {
     "data": {
      "application/vnd.jupyter.widget-view+json": {
       "model_id": "65bfb84ae2fd45928b34eae2ce3d79e9",
       "version_major": 2,
       "version_minor": 0
      },
      "text/plain": [
       "Batches:   0%|          | 0/16 [00:00<?, ?it/s]"
      ]
     },
     "metadata": {},
     "output_type": "display_data"
    }
   ],
   "source": [
    "# All the basic components to compute before more specialized computation\n",
    "nested = NestedTopicModeling(data = data,\n",
    "                        text_var = 'description',\n",
    "                        index_var = 'imdb',\n",
    "                        extract_terms=True,\n",
    "                        terms_embedding=True,\n",
    "                        docs_embedding=True,\n",
    "                        sample_size_terms=500,\n",
    "                        terms_limit=500,\n",
    "                        terms_ents=True,\n",
    "                        terms_ngrams=(1, 2),\n",
    "                        terms_ncs=True,\n",
    "                        terms_include_pos=[\"NOUN\", \"PROPN\", \"ADJ\"],\n",
    "                        terms_include_types=[\"PERSON\", \"ORG\"],\n",
    "                        terms_embedding_model=\"distiluse-base-multilingual-cased-v1\",\n",
    "                        docs_embedding_model=\"tfidf\",\n",
    "                        language=\"en\",\n",
    "                        terms_path=None,\n",
    "                        terms_embeddings_path=None,\n",
    "                        docs_embeddings_path=None)"
   ]
  },
  {
   "cell_type": "code",
   "execution_count": 4,
   "id": "ed53b593-0b22-4235-be3f-8fa45e9f17d9",
   "metadata": {},
   "outputs": [
    {
     "name": "stdout",
     "output_type": "stream",
     "text": [
      "UMAP(angular_rp_forest=True, metric='cosine', n_components=5, n_neighbors=10, verbose=True)\n",
      "Thu Mar 17 21:49:11 2022 Construct fuzzy simplicial set\n",
      "Thu Mar 17 21:49:11 2022 Finding Nearest Neighbors\n",
      "Thu Mar 17 21:49:13 2022 Finished Nearest Neighbor Search\n",
      "Thu Mar 17 21:49:15 2022 Construct embedding\n"
     ]
    },
    {
     "data": {
      "application/vnd.jupyter.widget-view+json": {
       "model_id": "7c0672ae4bab4d999e68343f18089eca",
       "version_major": 2,
       "version_minor": 0
      },
      "text/plain": [
       "Epochs completed:   0%|            0/500 [00:00]"
      ]
     },
     "metadata": {},
     "output_type": "display_data"
    },
    {
     "name": "stdout",
     "output_type": "stream",
     "text": [
      "Thu Mar 17 21:49:17 2022 Finished embedding\n"
     ]
    }
   ],
   "source": [
    "nested.fit(folding = None)"
   ]
  },
  {
   "cell_type": "code",
   "execution_count": 8,
   "id": "da63bfcb-ce0c-4a8f-9955-90019ee044f8",
   "metadata": {},
   "outputs": [
    {
     "data": {
      "application/vnd.plotly.v1+json": {
       "config": {
        "plotlyServerURL": "https://plot.ly"
       },
       "data": [
        {
         "branchvalues": "total",
         "customdata": [
          [
           0
          ],
          [
           0
          ],
          [
           0
          ],
          [
           0
          ],
          [
           0
          ],
          [
           0
          ],
          [
           0
          ],
          [
           0
          ],
          [
           0
          ],
          [
           0
          ],
          [
           0
          ],
          [
           0
          ],
          [
           0
          ],
          [
           0
          ],
          [
           0
          ],
          [
           0
          ],
          [
           0
          ],
          [
           0
          ],
          [
           0
          ],
          [
           0
          ],
          [
           0
          ],
          [
           0
          ],
          [
           0
          ],
          [
           0
          ],
          [
           0
          ],
          [
           0
          ],
          [
           1
          ],
          [
           0
          ],
          [
           0
          ],
          [
           0
          ],
          [
           0
          ],
          [
           0
          ],
          [
           0
          ],
          [
           0
          ],
          [
           0
          ],
          [
           0
          ],
          [
           0
          ],
          [
           0
          ],
          [
           0
          ],
          [
           0
          ],
          [
           0
          ],
          [
           0
          ],
          [
           0
          ],
          [
           0
          ],
          [
           0
          ],
          [
           0
          ],
          [
           0
          ],
          [
           0
          ],
          [
           0
          ],
          [
           0
          ],
          [
           1
          ],
          [
           0
          ],
          [
           0
          ],
          [
           0
          ],
          [
           0
          ],
          [
           0
          ],
          [
           0
          ],
          [
           0
          ],
          [
           0
          ],
          [
           0
          ],
          [
           0
          ],
          [
           0
          ],
          [
           0.5
          ],
          [
           0
          ],
          [
           0
          ],
          [
           0
          ],
          [
           0
          ],
          [
           0
          ],
          [
           0
          ],
          [
           0
          ],
          [
           0
          ],
          [
           0
          ],
          [
           0
          ],
          [
           0
          ],
          [
           0.5
          ],
          [
           0
          ],
          [
           0
          ],
          [
           0
          ],
          [
           0
          ],
          [
           0.25
          ],
          [
           0
          ],
          [
           0
          ],
          [
           0
          ],
          [
           0
          ],
          [
           0
          ],
          [
           0
          ],
          [
           0.038461538461538464
          ]
         ],
         "domain": {
          "x": [
           0,
           1
          ],
          "y": [
           0,
           1
          ]
         },
         "hovertemplate": "labels=%{label}<br>topic_size=%{value}<br>parent=%{parent}<extra></extra>",
         "ids": [
          "Topics Treemap/self | inhabitant | paris/south | army | man/army | refuge | japan",
          "Topics Treemap/evening | country | death/girl | house | evening/bad | word processor | ordinary word",
          "Topics Treemap/attraction | time | natured womanizer/film | agent | ari gold/boy | movie | movie star vincent chase",
          "Topics Treemap/mother | businesswoman | college/child | mother | college/child | mother | college",
          "Topics Treemap/attraction | time | natured womanizer/club | party | man/club | party | man",
          "Topics Treemap/story | local | 1960/force | successful | mine/force | year | successful",
          "Topics Treemap/new | black | series/gang | month | town/gang | son | town",
          "Topics Treemap/hotel | 21st | garden/couple | garden | france/garden | mysterious | father",
          "Topics Treemap/attraction | time | natured womanizer/club | party | man/good | natured | mutual attraction set",
          "Topics Treemap/new | black | series/new | group | friend/group | friend | city",
          "Topics Treemap/hotel | 21st | garden/couple | garden | france/hotel | couple | people",
          "Topics Treemap/evening | country | death/girl | house | evening/house | love | opposite house",
          "Topics Treemap/new | black | series/black | house | party/house | man | party",
          "Topics Treemap/mother | businesswoman | college/mysterious | insane | psychologist/insane | order | psychologist",
          "Topics Treemap/evening | country | death/student | teacher | infamous/insane | transylvania | body",
          "Topics Treemap/evening | country | death/television | police | japan/japan | newspaper and television station | newspaper",
          "Topics Treemap/story | local | 1960/life | career | famous/life | career | story",
          "Topics Treemap/story | local | 1960/series | city | theme/local | city | son",
          "Topics Treemap/mother | businesswoman | college/businesswoman | single | man/love | italian | postman",
          "Topics Treemap/hotel | 21st | garden/war | teenage | love/love | war | woman",
          "Topics Treemap/hotel | 21st | garden/war | teenage | love/man | frankenstein | friend",
          "Topics Treemap/evening | country | death/institution | mental | mental institution/man | institution | mental",
          "Topics Treemap/war | world war | war ii/man | woman | military central/man | young man | playing",
          "Topics Treemap/hotel | 21st | garden/century | new | 21st/member | thing | drama",
          "Topics Treemap/mother | businesswoman | college/underworld | mysterious serial killer | mysterious serial/mysterious serial killer | mysterious serial | scotland yard",
          "Topics Treemap/mother | businesswoman | college/mysterious | insane | psychologist/mysterious | the young daughter | origin",
          "Topics Treemap/evening | country | death/television | police | japan/new | police | man",
          "Topics Treemap/mother | businesswoman | college/child | mother | college/new | teacher | new york",
          "Topics Treemap/story | local | 1960/force | successful | mine/obsessed | policeman | policeman hell",
          "Topics Treemap/new | black | series/police | force | reckless test pilot hal jordan/pilot | reckless test | reckless",
          "Topics Treemap/hotel | 21st | garden/police | world | city/police | city | murder",
          "Topics Treemap/attraction | time | natured womanizer/film | agent | ari gold/preview | quentin | attraction",
          "Topics Treemap/new | black | series/police | force | reckless test pilot hal jordan/series | city | new",
          "Topics Treemap/story | local | 1960/series | city | theme/series | theme | film",
          "Topics Treemap/new | black | series/black | house | party/series | world | underpaid chicago white sox",
          "Topics Treemap/story | local | 1960/woman | silkworm | william moulton/silkworm | obsessed | obelix",
          "Topics Treemap/self | inhabitant | paris/south | army | man/south | man | black",
          "Topics Treemap/mother | businesswoman | college/businesswoman | single | man/successful | man | single",
          "Topics Treemap/self | inhabitant | paris/self | teacher | underachieving texan school/teacher | school | texan school",
          "Topics Treemap/story | local | 1960/life | career | famous/terrorist | long | qaeda terrorist",
          "Topics Treemap/self | inhabitant | paris/multiple | twisting tale | multiple chemical sensitivity/twisting tale | soul | tale",
          "Topics Treemap/hotel | 21st | garden/century | new | 21st/village | hotel | new",
          "Topics Treemap/war | world war | war ii/man | woman | military central/war ii | ii | world war ii",
          "Topics Treemap/new | black | series/gang | month | town/wife | matthew scudder | private",
          "Topics Treemap/new | black | series/new | group | friend/wife | reality | michael",
          "Topics Treemap/mother | businesswoman | college/underworld | mysterious serial killer | mysterious serial/woman | middle | middle-aged woman",
          "Topics Treemap/self | inhabitant | paris/self | teacher | underachieving texan school/woman | middle-class rural estate | class",
          "Topics Treemap/self | inhabitant | paris/multiple | twisting tale | multiple chemical sensitivity/woman | multiple | two high school boy",
          "Topics Treemap/story | local | 1960/woman | silkworm | william moulton/woman | polyamorous | wife",
          "Topics Treemap/hotel | 21st | garden/police | world | city/world | man | woman",
          "Topics Treemap/evening | country | death/institution | mental | mental institution/world | thing | theme",
          "Topics Treemap/evening | country | death/student | teacher | infamous/year | club | student",
          "Topics Treemap/new | black | series/black | house | party",
          "Topics Treemap/mother | businesswoman | college/businesswoman | single | man",
          "Topics Treemap/hotel | 21st | garden/century | new | 21st",
          "Topics Treemap/mother | businesswoman | college/child | mother | college",
          "Topics Treemap/attraction | time | natured womanizer/club | party | man",
          "Topics Treemap/hotel | 21st | garden/couple | garden | france",
          "Topics Treemap/attraction | time | natured womanizer/film | agent | ari gold",
          "Topics Treemap/story | local | 1960/force | successful | mine",
          "Topics Treemap/new | black | series/gang | month | town",
          "Topics Treemap/evening | country | death/girl | house | evening",
          "Topics Treemap/evening | country | death/institution | mental | mental institution",
          "Topics Treemap/story | local | 1960/life | career | famous",
          "Topics Treemap/war | world war | war ii/man | woman | military central",
          "Topics Treemap/self | inhabitant | paris/multiple | twisting tale | multiple chemical sensitivity",
          "Topics Treemap/mother | businesswoman | college/mysterious | insane | psychologist",
          "Topics Treemap/new | black | series/new | group | friend",
          "Topics Treemap/new | black | series/police | force | reckless test pilot hal jordan",
          "Topics Treemap/hotel | 21st | garden/police | world | city",
          "Topics Treemap/self | inhabitant | paris/self | teacher | underachieving texan school",
          "Topics Treemap/story | local | 1960/series | city | theme",
          "Topics Treemap/self | inhabitant | paris/south | army | man",
          "Topics Treemap/evening | country | death/student | teacher | infamous",
          "Topics Treemap/evening | country | death/television | police | japan",
          "Topics Treemap/mother | businesswoman | college/underworld | mysterious serial killer | mysterious serial",
          "Topics Treemap/hotel | 21st | garden/war | teenage | love",
          "Topics Treemap/story | local | 1960/woman | silkworm | william moulton",
          "Topics Treemap/attraction | time | natured womanizer",
          "Topics Treemap/evening | country | death",
          "Topics Treemap/hotel | 21st | garden",
          "Topics Treemap/mother | businesswoman | college",
          "Topics Treemap/new | black | series",
          "Topics Treemap/self | inhabitant | paris",
          "Topics Treemap/story | local | 1960",
          "Topics Treemap/war | world war | war ii",
          "Topics Treemap"
         ],
         "labels": [
          "army | refuge | japan",
          "bad | word processor | ordinary word",
          "boy | movie | movie star vincent chase",
          "child | mother | college",
          "club | party | man",
          "force | year | successful",
          "gang | son | town",
          "garden | mysterious | father",
          "good | natured | mutual attraction set",
          "group | friend | city",
          "hotel | couple | people",
          "house | love | opposite house",
          "house | man | party",
          "insane | order | psychologist",
          "insane | transylvania | body",
          "japan | newspaper and television station | newspaper",
          "life | career | story",
          "local | city | son",
          "love | italian | postman",
          "love | war | woman",
          "man | frankenstein | friend",
          "man | institution | mental",
          "man | young man | playing",
          "member | thing | drama",
          "mysterious serial killer | mysterious serial | scotland yard",
          "mysterious | the young daughter | origin",
          "new | police | man",
          "new | teacher | new york",
          "obsessed | policeman | policeman hell",
          "pilot | reckless test | reckless",
          "police | city | murder",
          "preview | quentin | attraction",
          "series | city | new",
          "series | theme | film",
          "series | world | underpaid chicago white sox",
          "silkworm | obsessed | obelix",
          "south | man | black",
          "successful | man | single",
          "teacher | school | texan school",
          "terrorist | long | qaeda terrorist",
          "twisting tale | soul | tale",
          "village | hotel | new",
          "war ii | ii | world war ii",
          "wife | matthew scudder | private",
          "wife | reality | michael",
          "woman | middle | middle-aged woman",
          "woman | middle-class rural estate | class",
          "woman | multiple | two high school boy",
          "woman | polyamorous | wife",
          "world | man | woman",
          "world | thing | theme",
          "year | club | student",
          "black | house | party",
          "businesswoman | single | man",
          "century | new | 21st",
          "child | mother | college",
          "club | party | man",
          "couple | garden | france",
          "film | agent | ari gold",
          "force | successful | mine",
          "gang | month | town",
          "girl | house | evening",
          "institution | mental | mental institution",
          "life | career | famous",
          "man | woman | military central",
          "multiple | twisting tale | multiple chemical sensitivity",
          "mysterious | insane | psychologist",
          "new | group | friend",
          "police | force | reckless test pilot hal jordan",
          "police | world | city",
          "self | teacher | underachieving texan school",
          "series | city | theme",
          "south | army | man",
          "student | teacher | infamous",
          "television | police | japan",
          "underworld | mysterious serial killer | mysterious serial",
          "war | teenage | love",
          "woman | silkworm | william moulton",
          "attraction | time | natured womanizer",
          "evening | country | death",
          "hotel | 21st | garden",
          "mother | businesswoman | college",
          "new | black | series",
          "self | inhabitant | paris",
          "story | local | 1960",
          "war | world war | war ii",
          "Topics Treemap"
         ],
         "marker": {
          "coloraxis": "coloraxis",
          "colors": [
           0,
           0,
           0,
           0,
           0,
           0,
           0,
           0,
           0,
           0,
           0,
           0,
           0,
           0,
           0,
           0,
           0,
           0,
           0,
           0,
           0,
           0,
           0,
           0,
           0,
           0,
           1,
           0,
           0,
           0,
           0,
           0,
           0,
           0,
           0,
           0,
           0,
           0,
           0,
           0,
           0,
           0,
           0,
           0,
           0,
           0,
           0,
           0,
           0,
           0,
           1,
           0,
           0,
           0,
           0,
           0,
           0,
           0,
           0,
           0,
           0,
           0,
           0.5,
           0,
           0,
           0,
           0,
           0,
           0,
           0,
           0,
           0,
           0,
           0,
           0.5,
           0,
           0,
           0,
           0,
           0.25,
           0,
           0,
           0,
           0,
           0,
           0,
           0.038461538461538464
          ]
         },
         "name": "",
         "parents": [
          "Topics Treemap/self | inhabitant | paris/south | army | man",
          "Topics Treemap/evening | country | death/girl | house | evening",
          "Topics Treemap/attraction | time | natured womanizer/film | agent | ari gold",
          "Topics Treemap/mother | businesswoman | college/child | mother | college",
          "Topics Treemap/attraction | time | natured womanizer/club | party | man",
          "Topics Treemap/story | local | 1960/force | successful | mine",
          "Topics Treemap/new | black | series/gang | month | town",
          "Topics Treemap/hotel | 21st | garden/couple | garden | france",
          "Topics Treemap/attraction | time | natured womanizer/club | party | man",
          "Topics Treemap/new | black | series/new | group | friend",
          "Topics Treemap/hotel | 21st | garden/couple | garden | france",
          "Topics Treemap/evening | country | death/girl | house | evening",
          "Topics Treemap/new | black | series/black | house | party",
          "Topics Treemap/mother | businesswoman | college/mysterious | insane | psychologist",
          "Topics Treemap/evening | country | death/student | teacher | infamous",
          "Topics Treemap/evening | country | death/television | police | japan",
          "Topics Treemap/story | local | 1960/life | career | famous",
          "Topics Treemap/story | local | 1960/series | city | theme",
          "Topics Treemap/mother | businesswoman | college/businesswoman | single | man",
          "Topics Treemap/hotel | 21st | garden/war | teenage | love",
          "Topics Treemap/hotel | 21st | garden/war | teenage | love",
          "Topics Treemap/evening | country | death/institution | mental | mental institution",
          "Topics Treemap/war | world war | war ii/man | woman | military central",
          "Topics Treemap/hotel | 21st | garden/century | new | 21st",
          "Topics Treemap/mother | businesswoman | college/underworld | mysterious serial killer | mysterious serial",
          "Topics Treemap/mother | businesswoman | college/mysterious | insane | psychologist",
          "Topics Treemap/evening | country | death/television | police | japan",
          "Topics Treemap/mother | businesswoman | college/child | mother | college",
          "Topics Treemap/story | local | 1960/force | successful | mine",
          "Topics Treemap/new | black | series/police | force | reckless test pilot hal jordan",
          "Topics Treemap/hotel | 21st | garden/police | world | city",
          "Topics Treemap/attraction | time | natured womanizer/film | agent | ari gold",
          "Topics Treemap/new | black | series/police | force | reckless test pilot hal jordan",
          "Topics Treemap/story | local | 1960/series | city | theme",
          "Topics Treemap/new | black | series/black | house | party",
          "Topics Treemap/story | local | 1960/woman | silkworm | william moulton",
          "Topics Treemap/self | inhabitant | paris/south | army | man",
          "Topics Treemap/mother | businesswoman | college/businesswoman | single | man",
          "Topics Treemap/self | inhabitant | paris/self | teacher | underachieving texan school",
          "Topics Treemap/story | local | 1960/life | career | famous",
          "Topics Treemap/self | inhabitant | paris/multiple | twisting tale | multiple chemical sensitivity",
          "Topics Treemap/hotel | 21st | garden/century | new | 21st",
          "Topics Treemap/war | world war | war ii/man | woman | military central",
          "Topics Treemap/new | black | series/gang | month | town",
          "Topics Treemap/new | black | series/new | group | friend",
          "Topics Treemap/mother | businesswoman | college/underworld | mysterious serial killer | mysterious serial",
          "Topics Treemap/self | inhabitant | paris/self | teacher | underachieving texan school",
          "Topics Treemap/self | inhabitant | paris/multiple | twisting tale | multiple chemical sensitivity",
          "Topics Treemap/story | local | 1960/woman | silkworm | william moulton",
          "Topics Treemap/hotel | 21st | garden/police | world | city",
          "Topics Treemap/evening | country | death/institution | mental | mental institution",
          "Topics Treemap/evening | country | death/student | teacher | infamous",
          "Topics Treemap/new | black | series",
          "Topics Treemap/mother | businesswoman | college",
          "Topics Treemap/hotel | 21st | garden",
          "Topics Treemap/mother | businesswoman | college",
          "Topics Treemap/attraction | time | natured womanizer",
          "Topics Treemap/hotel | 21st | garden",
          "Topics Treemap/attraction | time | natured womanizer",
          "Topics Treemap/story | local | 1960",
          "Topics Treemap/new | black | series",
          "Topics Treemap/evening | country | death",
          "Topics Treemap/evening | country | death",
          "Topics Treemap/story | local | 1960",
          "Topics Treemap/war | world war | war ii",
          "Topics Treemap/self | inhabitant | paris",
          "Topics Treemap/mother | businesswoman | college",
          "Topics Treemap/new | black | series",
          "Topics Treemap/new | black | series",
          "Topics Treemap/hotel | 21st | garden",
          "Topics Treemap/self | inhabitant | paris",
          "Topics Treemap/story | local | 1960",
          "Topics Treemap/self | inhabitant | paris",
          "Topics Treemap/evening | country | death",
          "Topics Treemap/evening | country | death",
          "Topics Treemap/mother | businesswoman | college",
          "Topics Treemap/hotel | 21st | garden",
          "Topics Treemap/story | local | 1960",
          "Topics Treemap",
          "Topics Treemap",
          "Topics Treemap",
          "Topics Treemap",
          "Topics Treemap",
          "Topics Treemap",
          "Topics Treemap",
          "Topics Treemap",
          ""
         ],
         "root": {
          "color": "lightgrey"
         },
         "type": "treemap",
         "values": [
          1,
          1,
          1,
          1,
          1,
          1,
          1,
          1,
          1,
          1,
          1,
          1,
          1,
          1,
          1,
          1,
          1,
          1,
          1,
          1,
          1,
          1,
          1,
          1,
          1,
          1,
          1,
          1,
          1,
          1,
          1,
          1,
          1,
          1,
          1,
          1,
          1,
          1,
          1,
          1,
          1,
          1,
          1,
          1,
          1,
          1,
          1,
          1,
          1,
          1,
          1,
          1,
          2,
          2,
          2,
          2,
          2,
          2,
          2,
          2,
          2,
          2,
          2,
          2,
          2,
          2,
          2,
          2,
          2,
          2,
          2,
          2,
          2,
          2,
          2,
          2,
          2,
          2,
          4,
          8,
          8,
          8,
          8,
          6,
          8,
          2,
          52
         ]
        }
       ],
       "layout": {
        "coloraxis": {
         "cmid": 0.038461538461538464,
         "colorbar": {
          "title": {
           "text": "score_norm"
          }
         },
         "colorscale": [
          [
           0,
           "rgb(0,0,255)"
          ],
          [
           0.1,
           "rgb(51,153,255)"
          ],
          [
           0.2,
           "rgb(102,204,255)"
          ],
          [
           0.3,
           "rgb(153,204,255)"
          ],
          [
           0.4,
           "rgb(204,204,255)"
          ],
          [
           0.5,
           "rgb(255,255,255)"
          ],
          [
           0.6,
           "rgb(255,204,255)"
          ],
          [
           0.7,
           "rgb(255,153,255)"
          ],
          [
           0.8,
           "rgb(255,102,204)"
          ],
          [
           0.9,
           "rgb(255,102,102)"
          ],
          [
           1,
           "rgb(255,0,0)"
          ]
         ]
        },
        "height": 1000,
        "legend": {
         "tracegroupgap": 0
        },
        "margin": {
         "t": 60
        },
        "template": {
         "data": {
          "bar": [
           {
            "error_x": {
             "color": "#2a3f5f"
            },
            "error_y": {
             "color": "#2a3f5f"
            },
            "marker": {
             "line": {
              "color": "#E5ECF6",
              "width": 0.5
             },
             "pattern": {
              "fillmode": "overlay",
              "size": 10,
              "solidity": 0.2
             }
            },
            "type": "bar"
           }
          ],
          "barpolar": [
           {
            "marker": {
             "line": {
              "color": "#E5ECF6",
              "width": 0.5
             },
             "pattern": {
              "fillmode": "overlay",
              "size": 10,
              "solidity": 0.2
             }
            },
            "type": "barpolar"
           }
          ],
          "carpet": [
           {
            "aaxis": {
             "endlinecolor": "#2a3f5f",
             "gridcolor": "white",
             "linecolor": "white",
             "minorgridcolor": "white",
             "startlinecolor": "#2a3f5f"
            },
            "baxis": {
             "endlinecolor": "#2a3f5f",
             "gridcolor": "white",
             "linecolor": "white",
             "minorgridcolor": "white",
             "startlinecolor": "#2a3f5f"
            },
            "type": "carpet"
           }
          ],
          "choropleth": [
           {
            "colorbar": {
             "outlinewidth": 0,
             "ticks": ""
            },
            "type": "choropleth"
           }
          ],
          "contour": [
           {
            "colorbar": {
             "outlinewidth": 0,
             "ticks": ""
            },
            "colorscale": [
             [
              0,
              "#0d0887"
             ],
             [
              0.1111111111111111,
              "#46039f"
             ],
             [
              0.2222222222222222,
              "#7201a8"
             ],
             [
              0.3333333333333333,
              "#9c179e"
             ],
             [
              0.4444444444444444,
              "#bd3786"
             ],
             [
              0.5555555555555556,
              "#d8576b"
             ],
             [
              0.6666666666666666,
              "#ed7953"
             ],
             [
              0.7777777777777778,
              "#fb9f3a"
             ],
             [
              0.8888888888888888,
              "#fdca26"
             ],
             [
              1,
              "#f0f921"
             ]
            ],
            "type": "contour"
           }
          ],
          "contourcarpet": [
           {
            "colorbar": {
             "outlinewidth": 0,
             "ticks": ""
            },
            "type": "contourcarpet"
           }
          ],
          "heatmap": [
           {
            "colorbar": {
             "outlinewidth": 0,
             "ticks": ""
            },
            "colorscale": [
             [
              0,
              "#0d0887"
             ],
             [
              0.1111111111111111,
              "#46039f"
             ],
             [
              0.2222222222222222,
              "#7201a8"
             ],
             [
              0.3333333333333333,
              "#9c179e"
             ],
             [
              0.4444444444444444,
              "#bd3786"
             ],
             [
              0.5555555555555556,
              "#d8576b"
             ],
             [
              0.6666666666666666,
              "#ed7953"
             ],
             [
              0.7777777777777778,
              "#fb9f3a"
             ],
             [
              0.8888888888888888,
              "#fdca26"
             ],
             [
              1,
              "#f0f921"
             ]
            ],
            "type": "heatmap"
           }
          ],
          "heatmapgl": [
           {
            "colorbar": {
             "outlinewidth": 0,
             "ticks": ""
            },
            "colorscale": [
             [
              0,
              "#0d0887"
             ],
             [
              0.1111111111111111,
              "#46039f"
             ],
             [
              0.2222222222222222,
              "#7201a8"
             ],
             [
              0.3333333333333333,
              "#9c179e"
             ],
             [
              0.4444444444444444,
              "#bd3786"
             ],
             [
              0.5555555555555556,
              "#d8576b"
             ],
             [
              0.6666666666666666,
              "#ed7953"
             ],
             [
              0.7777777777777778,
              "#fb9f3a"
             ],
             [
              0.8888888888888888,
              "#fdca26"
             ],
             [
              1,
              "#f0f921"
             ]
            ],
            "type": "heatmapgl"
           }
          ],
          "histogram": [
           {
            "marker": {
             "pattern": {
              "fillmode": "overlay",
              "size": 10,
              "solidity": 0.2
             }
            },
            "type": "histogram"
           }
          ],
          "histogram2d": [
           {
            "colorbar": {
             "outlinewidth": 0,
             "ticks": ""
            },
            "colorscale": [
             [
              0,
              "#0d0887"
             ],
             [
              0.1111111111111111,
              "#46039f"
             ],
             [
              0.2222222222222222,
              "#7201a8"
             ],
             [
              0.3333333333333333,
              "#9c179e"
             ],
             [
              0.4444444444444444,
              "#bd3786"
             ],
             [
              0.5555555555555556,
              "#d8576b"
             ],
             [
              0.6666666666666666,
              "#ed7953"
             ],
             [
              0.7777777777777778,
              "#fb9f3a"
             ],
             [
              0.8888888888888888,
              "#fdca26"
             ],
             [
              1,
              "#f0f921"
             ]
            ],
            "type": "histogram2d"
           }
          ],
          "histogram2dcontour": [
           {
            "colorbar": {
             "outlinewidth": 0,
             "ticks": ""
            },
            "colorscale": [
             [
              0,
              "#0d0887"
             ],
             [
              0.1111111111111111,
              "#46039f"
             ],
             [
              0.2222222222222222,
              "#7201a8"
             ],
             [
              0.3333333333333333,
              "#9c179e"
             ],
             [
              0.4444444444444444,
              "#bd3786"
             ],
             [
              0.5555555555555556,
              "#d8576b"
             ],
             [
              0.6666666666666666,
              "#ed7953"
             ],
             [
              0.7777777777777778,
              "#fb9f3a"
             ],
             [
              0.8888888888888888,
              "#fdca26"
             ],
             [
              1,
              "#f0f921"
             ]
            ],
            "type": "histogram2dcontour"
           }
          ],
          "mesh3d": [
           {
            "colorbar": {
             "outlinewidth": 0,
             "ticks": ""
            },
            "type": "mesh3d"
           }
          ],
          "parcoords": [
           {
            "line": {
             "colorbar": {
              "outlinewidth": 0,
              "ticks": ""
             }
            },
            "type": "parcoords"
           }
          ],
          "pie": [
           {
            "automargin": true,
            "type": "pie"
           }
          ],
          "scatter": [
           {
            "marker": {
             "colorbar": {
              "outlinewidth": 0,
              "ticks": ""
             }
            },
            "type": "scatter"
           }
          ],
          "scatter3d": [
           {
            "line": {
             "colorbar": {
              "outlinewidth": 0,
              "ticks": ""
             }
            },
            "marker": {
             "colorbar": {
              "outlinewidth": 0,
              "ticks": ""
             }
            },
            "type": "scatter3d"
           }
          ],
          "scattercarpet": [
           {
            "marker": {
             "colorbar": {
              "outlinewidth": 0,
              "ticks": ""
             }
            },
            "type": "scattercarpet"
           }
          ],
          "scattergeo": [
           {
            "marker": {
             "colorbar": {
              "outlinewidth": 0,
              "ticks": ""
             }
            },
            "type": "scattergeo"
           }
          ],
          "scattergl": [
           {
            "marker": {
             "colorbar": {
              "outlinewidth": 0,
              "ticks": ""
             }
            },
            "type": "scattergl"
           }
          ],
          "scattermapbox": [
           {
            "marker": {
             "colorbar": {
              "outlinewidth": 0,
              "ticks": ""
             }
            },
            "type": "scattermapbox"
           }
          ],
          "scatterpolar": [
           {
            "marker": {
             "colorbar": {
              "outlinewidth": 0,
              "ticks": ""
             }
            },
            "type": "scatterpolar"
           }
          ],
          "scatterpolargl": [
           {
            "marker": {
             "colorbar": {
              "outlinewidth": 0,
              "ticks": ""
             }
            },
            "type": "scatterpolargl"
           }
          ],
          "scatterternary": [
           {
            "marker": {
             "colorbar": {
              "outlinewidth": 0,
              "ticks": ""
             }
            },
            "type": "scatterternary"
           }
          ],
          "surface": [
           {
            "colorbar": {
             "outlinewidth": 0,
             "ticks": ""
            },
            "colorscale": [
             [
              0,
              "#0d0887"
             ],
             [
              0.1111111111111111,
              "#46039f"
             ],
             [
              0.2222222222222222,
              "#7201a8"
             ],
             [
              0.3333333333333333,
              "#9c179e"
             ],
             [
              0.4444444444444444,
              "#bd3786"
             ],
             [
              0.5555555555555556,
              "#d8576b"
             ],
             [
              0.6666666666666666,
              "#ed7953"
             ],
             [
              0.7777777777777778,
              "#fb9f3a"
             ],
             [
              0.8888888888888888,
              "#fdca26"
             ],
             [
              1,
              "#f0f921"
             ]
            ],
            "type": "surface"
           }
          ],
          "table": [
           {
            "cells": {
             "fill": {
              "color": "#EBF0F8"
             },
             "line": {
              "color": "white"
             }
            },
            "header": {
             "fill": {
              "color": "#C8D4E3"
             },
             "line": {
              "color": "white"
             }
            },
            "type": "table"
           }
          ]
         },
         "layout": {
          "annotationdefaults": {
           "arrowcolor": "#2a3f5f",
           "arrowhead": 0,
           "arrowwidth": 1
          },
          "autotypenumbers": "strict",
          "coloraxis": {
           "colorbar": {
            "outlinewidth": 0,
            "ticks": ""
           }
          },
          "colorscale": {
           "diverging": [
            [
             0,
             "#8e0152"
            ],
            [
             0.1,
             "#c51b7d"
            ],
            [
             0.2,
             "#de77ae"
            ],
            [
             0.3,
             "#f1b6da"
            ],
            [
             0.4,
             "#fde0ef"
            ],
            [
             0.5,
             "#f7f7f7"
            ],
            [
             0.6,
             "#e6f5d0"
            ],
            [
             0.7,
             "#b8e186"
            ],
            [
             0.8,
             "#7fbc41"
            ],
            [
             0.9,
             "#4d9221"
            ],
            [
             1,
             "#276419"
            ]
           ],
           "sequential": [
            [
             0,
             "#0d0887"
            ],
            [
             0.1111111111111111,
             "#46039f"
            ],
            [
             0.2222222222222222,
             "#7201a8"
            ],
            [
             0.3333333333333333,
             "#9c179e"
            ],
            [
             0.4444444444444444,
             "#bd3786"
            ],
            [
             0.5555555555555556,
             "#d8576b"
            ],
            [
             0.6666666666666666,
             "#ed7953"
            ],
            [
             0.7777777777777778,
             "#fb9f3a"
            ],
            [
             0.8888888888888888,
             "#fdca26"
            ],
            [
             1,
             "#f0f921"
            ]
           ],
           "sequentialminus": [
            [
             0,
             "#0d0887"
            ],
            [
             0.1111111111111111,
             "#46039f"
            ],
            [
             0.2222222222222222,
             "#7201a8"
            ],
            [
             0.3333333333333333,
             "#9c179e"
            ],
            [
             0.4444444444444444,
             "#bd3786"
            ],
            [
             0.5555555555555556,
             "#d8576b"
            ],
            [
             0.6666666666666666,
             "#ed7953"
            ],
            [
             0.7777777777777778,
             "#fb9f3a"
            ],
            [
             0.8888888888888888,
             "#fdca26"
            ],
            [
             1,
             "#f0f921"
            ]
           ]
          },
          "colorway": [
           "#636efa",
           "#EF553B",
           "#00cc96",
           "#ab63fa",
           "#FFA15A",
           "#19d3f3",
           "#FF6692",
           "#B6E880",
           "#FF97FF",
           "#FECB52"
          ],
          "font": {
           "color": "#2a3f5f"
          },
          "geo": {
           "bgcolor": "white",
           "lakecolor": "white",
           "landcolor": "#E5ECF6",
           "showlakes": true,
           "showland": true,
           "subunitcolor": "white"
          },
          "hoverlabel": {
           "align": "left"
          },
          "hovermode": "closest",
          "mapbox": {
           "style": "light"
          },
          "paper_bgcolor": "white",
          "plot_bgcolor": "#E5ECF6",
          "polar": {
           "angularaxis": {
            "gridcolor": "white",
            "linecolor": "white",
            "ticks": ""
           },
           "bgcolor": "#E5ECF6",
           "radialaxis": {
            "gridcolor": "white",
            "linecolor": "white",
            "ticks": ""
           }
          },
          "scene": {
           "xaxis": {
            "backgroundcolor": "#E5ECF6",
            "gridcolor": "white",
            "gridwidth": 2,
            "linecolor": "white",
            "showbackground": true,
            "ticks": "",
            "zerolinecolor": "white"
           },
           "yaxis": {
            "backgroundcolor": "#E5ECF6",
            "gridcolor": "white",
            "gridwidth": 2,
            "linecolor": "white",
            "showbackground": true,
            "ticks": "",
            "zerolinecolor": "white"
           },
           "zaxis": {
            "backgroundcolor": "#E5ECF6",
            "gridcolor": "white",
            "gridwidth": 2,
            "linecolor": "white",
            "showbackground": true,
            "ticks": "",
            "zerolinecolor": "white"
           }
          },
          "shapedefaults": {
           "line": {
            "color": "#2a3f5f"
           }
          },
          "ternary": {
           "aaxis": {
            "gridcolor": "white",
            "linecolor": "white",
            "ticks": ""
           },
           "baxis": {
            "gridcolor": "white",
            "linecolor": "white",
            "ticks": ""
           },
           "bgcolor": "#E5ECF6",
           "caxis": {
            "gridcolor": "white",
            "linecolor": "white",
            "ticks": ""
           }
          },
          "title": {
           "x": 0.05
          },
          "xaxis": {
           "automargin": true,
           "gridcolor": "white",
           "linecolor": "white",
           "ticks": "",
           "title": {
            "standoff": 15
           },
           "zerolinecolor": "white",
           "zerolinewidth": 2
          },
          "yaxis": {
           "automargin": true,
           "gridcolor": "white",
           "linecolor": "white",
           "ticks": "",
           "title": {
            "standoff": 15
           },
           "zerolinecolor": "white",
           "zerolinewidth": 2
          }
         }
        },
        "width": 1000
       }
      },
      "image/png": "[encoded data removed]",
      "text/html": [
       "<div>                            <div id=\"91eb88fe-be5d-4e24-9e1a-85aef707bbdb\" class=\"plotly-graph-div\" style=\"height:1000px; width:1000px;\"></div>            <script type=\"text/javascript\">                require([\"plotly\"], function(Plotly) {                    window.PLOTLYENV=window.PLOTLYENV || {};                                    if (document.getElementById(\"91eb88fe-be5d-4e24-9e1a-85aef707bbdb\")) {                    Plotly.newPlot(                        \"91eb88fe-be5d-4e24-9e1a-85aef707bbdb\",                        [{\"branchvalues\":\"total\",\"customdata\":[[0.0],[0.0],[0.0],[0.0],[0.0],[0.0],[0.0],[0.0],[0.0],[0.0],[0.0],[0.0],[0.0],[0.0],[0.0],[0.0],[0.0],[0.0],[0.0],[0.0],[0.0],[0.0],[0.0],[0.0],[0.0],[0.0],[1.0],[0.0],[0.0],[0.0],[0.0],[0.0],[0.0],[0.0],[0.0],[0.0],[0.0],[0.0],[0.0],[0.0],[0.0],[0.0],[0.0],[0.0],[0.0],[0.0],[0.0],[0.0],[0.0],[0.0],[1.0],[0.0],[0.0],[0.0],[0.0],[0.0],[0.0],[0.0],[0.0],[0.0],[0.0],[0.0],[0.5],[0.0],[0.0],[0.0],[0.0],[0.0],[0.0],[0.0],[0.0],[0.0],[0.0],[0.0],[0.5],[0.0],[0.0],[0.0],[0.0],[0.25],[0.0],[0.0],[0.0],[0.0],[0.0],[0.0],[0.038461538461538464]],\"domain\":{\"x\":[0.0,1.0],\"y\":[0.0,1.0]},\"hovertemplate\":\"labels=%{label}<br>topic_size=%{value}<br>parent=%{parent}<extra></extra>\",\"ids\":[\"Topics Treemap/self | inhabitant | paris/south | army | man/army | refuge | japan\",\"Topics Treemap/evening | country | death/girl | house | evening/bad | word processor | ordinary word\",\"Topics Treemap/attraction | time | natured womanizer/film | agent | ari gold/boy | movie | movie star vincent chase\",\"Topics Treemap/mother | businesswoman | college/child | mother | college/child | mother | college\",\"Topics Treemap/attraction | time | natured womanizer/club | party | man/club | party | man\",\"Topics Treemap/story | local | 1960/force | successful | mine/force | year | successful\",\"Topics Treemap/new | black | series/gang | month | town/gang | son | town\",\"Topics Treemap/hotel | 21st | garden/couple | garden | france/garden | mysterious | father\",\"Topics Treemap/attraction | time | natured womanizer/club | party | man/good | natured | mutual attraction set\",\"Topics Treemap/new | black | series/new | group | friend/group | friend | city\",\"Topics Treemap/hotel | 21st | garden/couple | garden | france/hotel | couple | people\",\"Topics Treemap/evening | country | death/girl | house | evening/house | love | opposite house\",\"Topics Treemap/new | black | series/black | house | party/house | man | party\",\"Topics Treemap/mother | businesswoman | college/mysterious | insane | psychologist/insane | order | psychologist\",\"Topics Treemap/evening | country | death/student | teacher | infamous/insane | transylvania | body\",\"Topics Treemap/evening | country | death/television | police | japan/japan | newspaper and television station | newspaper\",\"Topics Treemap/story | local | 1960/life | career | famous/life | career | story\",\"Topics Treemap/story | local | 1960/series | city | theme/local | city | son\",\"Topics Treemap/mother | businesswoman | college/businesswoman | single | man/love | italian | postman\",\"Topics Treemap/hotel | 21st | garden/war | teenage | love/love | war | woman\",\"Topics Treemap/hotel | 21st | garden/war | teenage | love/man | frankenstein | friend\",\"Topics Treemap/evening | country | death/institution | mental | mental institution/man | institution | mental\",\"Topics Treemap/war | world war | war ii/man | woman | military central/man | young man | playing\",\"Topics Treemap/hotel | 21st | garden/century | new | 21st/member | thing | drama\",\"Topics Treemap/mother | businesswoman | college/underworld | mysterious serial killer | mysterious serial/mysterious serial killer | mysterious serial | scotland yard\",\"Topics Treemap/mother | businesswoman | college/mysterious | insane | psychologist/mysterious | the young daughter | origin\",\"Topics Treemap/evening | country | death/television | police | japan/new | police | man\",\"Topics Treemap/mother | businesswoman | college/child | mother | college/new | teacher | new york\",\"Topics Treemap/story | local | 1960/force | successful | mine/obsessed | policeman | policeman hell\",\"Topics Treemap/new | black | series/police | force | reckless test pilot hal jordan/pilot | reckless test | reckless\",\"Topics Treemap/hotel | 21st | garden/police | world | city/police | city | murder\",\"Topics Treemap/attraction | time | natured womanizer/film | agent | ari gold/preview | quentin | attraction\",\"Topics Treemap/new | black | series/police | force | reckless test pilot hal jordan/series | city | new\",\"Topics Treemap/story | local | 1960/series | city | theme/series | theme | film\",\"Topics Treemap/new | black | series/black | house | party/series | world | underpaid chicago white sox\",\"Topics Treemap/story | local | 1960/woman | silkworm | william moulton/silkworm | obsessed | obelix\",\"Topics Treemap/self | inhabitant | paris/south | army | man/south | man | black\",\"Topics Treemap/mother | businesswoman | college/businesswoman | single | man/successful | man | single\",\"Topics Treemap/self | inhabitant | paris/self | teacher | underachieving texan school/teacher | school | texan school\",\"Topics Treemap/story | local | 1960/life | career | famous/terrorist | long | qaeda terrorist\",\"Topics Treemap/self | inhabitant | paris/multiple | twisting tale | multiple chemical sensitivity/twisting tale | soul | tale\",\"Topics Treemap/hotel | 21st | garden/century | new | 21st/village | hotel | new\",\"Topics Treemap/war | world war | war ii/man | woman | military central/war ii | ii | world war ii\",\"Topics Treemap/new | black | series/gang | month | town/wife | matthew scudder | private\",\"Topics Treemap/new | black | series/new | group | friend/wife | reality | michael\",\"Topics Treemap/mother | businesswoman | college/underworld | mysterious serial killer | mysterious serial/woman | middle | middle-aged woman\",\"Topics Treemap/self | inhabitant | paris/self | teacher | underachieving texan school/woman | middle-class rural estate | class\",\"Topics Treemap/self | inhabitant | paris/multiple | twisting tale | multiple chemical sensitivity/woman | multiple | two high school boy\",\"Topics Treemap/story | local | 1960/woman | silkworm | william moulton/woman | polyamorous | wife\",\"Topics Treemap/hotel | 21st | garden/police | world | city/world | man | woman\",\"Topics Treemap/evening | country | death/institution | mental | mental institution/world | thing | theme\",\"Topics Treemap/evening | country | death/student | teacher | infamous/year | club | student\",\"Topics Treemap/new | black | series/black | house | party\",\"Topics Treemap/mother | businesswoman | college/businesswoman | single | man\",\"Topics Treemap/hotel | 21st | garden/century | new | 21st\",\"Topics Treemap/mother | businesswoman | college/child | mother | college\",\"Topics Treemap/attraction | time | natured womanizer/club | party | man\",\"Topics Treemap/hotel | 21st | garden/couple | garden | france\",\"Topics Treemap/attraction | time | natured womanizer/film | agent | ari gold\",\"Topics Treemap/story | local | 1960/force | successful | mine\",\"Topics Treemap/new | black | series/gang | month | town\",\"Topics Treemap/evening | country | death/girl | house | evening\",\"Topics Treemap/evening | country | death/institution | mental | mental institution\",\"Topics Treemap/story | local | 1960/life | career | famous\",\"Topics Treemap/war | world war | war ii/man | woman | military central\",\"Topics Treemap/self | inhabitant | paris/multiple | twisting tale | multiple chemical sensitivity\",\"Topics Treemap/mother | businesswoman | college/mysterious | insane | psychologist\",\"Topics Treemap/new | black | series/new | group | friend\",\"Topics Treemap/new | black | series/police | force | reckless test pilot hal jordan\",\"Topics Treemap/hotel | 21st | garden/police | world | city\",\"Topics Treemap/self | inhabitant | paris/self | teacher | underachieving texan school\",\"Topics Treemap/story | local | 1960/series | city | theme\",\"Topics Treemap/self | inhabitant | paris/south | army | man\",\"Topics Treemap/evening | country | death/student | teacher | infamous\",\"Topics Treemap/evening | country | death/television | police | japan\",\"Topics Treemap/mother | businesswoman | college/underworld | mysterious serial killer | mysterious serial\",\"Topics Treemap/hotel | 21st | garden/war | teenage | love\",\"Topics Treemap/story | local | 1960/woman | silkworm | william moulton\",\"Topics Treemap/attraction | time | natured womanizer\",\"Topics Treemap/evening | country | death\",\"Topics Treemap/hotel | 21st | garden\",\"Topics Treemap/mother | businesswoman | college\",\"Topics Treemap/new | black | series\",\"Topics Treemap/self | inhabitant | paris\",\"Topics Treemap/story | local | 1960\",\"Topics Treemap/war | world war | war ii\",\"Topics Treemap\"],\"labels\":[\"army | refuge | japan\",\"bad | word processor | ordinary word\",\"boy | movie | movie star vincent chase\",\"child | mother | college\",\"club | party | man\",\"force | year | successful\",\"gang | son | town\",\"garden | mysterious | father\",\"good | natured | mutual attraction set\",\"group | friend | city\",\"hotel | couple | people\",\"house | love | opposite house\",\"house | man | party\",\"insane | order | psychologist\",\"insane | transylvania | body\",\"japan | newspaper and television station | newspaper\",\"life | career | story\",\"local | city | son\",\"love | italian | postman\",\"love | war | woman\",\"man | frankenstein | friend\",\"man | institution | mental\",\"man | young man | playing\",\"member | thing | drama\",\"mysterious serial killer | mysterious serial | scotland yard\",\"mysterious | the young daughter | origin\",\"new | police | man\",\"new | teacher | new york\",\"obsessed | policeman | policeman hell\",\"pilot | reckless test | reckless\",\"police | city | murder\",\"preview | quentin | attraction\",\"series | city | new\",\"series | theme | film\",\"series | world | underpaid chicago white sox\",\"silkworm | obsessed | obelix\",\"south | man | black\",\"successful | man | single\",\"teacher | school | texan school\",\"terrorist | long | qaeda terrorist\",\"twisting tale | soul | tale\",\"village | hotel | new\",\"war ii | ii | world war ii\",\"wife | matthew scudder | private\",\"wife | reality | michael\",\"woman | middle | middle-aged woman\",\"woman | middle-class rural estate | class\",\"woman | multiple | two high school boy\",\"woman | polyamorous | wife\",\"world | man | woman\",\"world | thing | theme\",\"year | club | student\",\"black | house | party\",\"businesswoman | single | man\",\"century | new | 21st\",\"child | mother | college\",\"club | party | man\",\"couple | garden | france\",\"film | agent | ari gold\",\"force | successful | mine\",\"gang | month | town\",\"girl | house | evening\",\"institution | mental | mental institution\",\"life | career | famous\",\"man | woman | military central\",\"multiple | twisting tale | multiple chemical sensitivity\",\"mysterious | insane | psychologist\",\"new | group | friend\",\"police | force | reckless test pilot hal jordan\",\"police | world | city\",\"self | teacher | underachieving texan school\",\"series | city | theme\",\"south | army | man\",\"student | teacher | infamous\",\"television | police | japan\",\"underworld | mysterious serial killer | mysterious serial\",\"war | teenage | love\",\"woman | silkworm | william moulton\",\"attraction | time | natured womanizer\",\"evening | country | death\",\"hotel | 21st | garden\",\"mother | businesswoman | college\",\"new | black | series\",\"self | inhabitant | paris\",\"story | local | 1960\",\"war | world war | war ii\",\"Topics Treemap\"],\"marker\":{\"coloraxis\":\"coloraxis\",\"colors\":[0.0,0.0,0.0,0.0,0.0,0.0,0.0,0.0,0.0,0.0,0.0,0.0,0.0,0.0,0.0,0.0,0.0,0.0,0.0,0.0,0.0,0.0,0.0,0.0,0.0,0.0,1.0,0.0,0.0,0.0,0.0,0.0,0.0,0.0,0.0,0.0,0.0,0.0,0.0,0.0,0.0,0.0,0.0,0.0,0.0,0.0,0.0,0.0,0.0,0.0,1.0,0.0,0.0,0.0,0.0,0.0,0.0,0.0,0.0,0.0,0.0,0.0,0.5,0.0,0.0,0.0,0.0,0.0,0.0,0.0,0.0,0.0,0.0,0.0,0.5,0.0,0.0,0.0,0.0,0.25,0.0,0.0,0.0,0.0,0.0,0.0,0.038461538461538464]},\"name\":\"\",\"parents\":[\"Topics Treemap/self | inhabitant | paris/south | army | man\",\"Topics Treemap/evening | country | death/girl | house | evening\",\"Topics Treemap/attraction | time | natured womanizer/film | agent | ari gold\",\"Topics Treemap/mother | businesswoman | college/child | mother | college\",\"Topics Treemap/attraction | time | natured womanizer/club | party | man\",\"Topics Treemap/story | local | 1960/force | successful | mine\",\"Topics Treemap/new | black | series/gang | month | town\",\"Topics Treemap/hotel | 21st | garden/couple | garden | france\",\"Topics Treemap/attraction | time | natured womanizer/club | party | man\",\"Topics Treemap/new | black | series/new | group | friend\",\"Topics Treemap/hotel | 21st | garden/couple | garden | france\",\"Topics Treemap/evening | country | death/girl | house | evening\",\"Topics Treemap/new | black | series/black | house | party\",\"Topics Treemap/mother | businesswoman | college/mysterious | insane | psychologist\",\"Topics Treemap/evening | country | death/student | teacher | infamous\",\"Topics Treemap/evening | country | death/television | police | japan\",\"Topics Treemap/story | local | 1960/life | career | famous\",\"Topics Treemap/story | local | 1960/series | city | theme\",\"Topics Treemap/mother | businesswoman | college/businesswoman | single | man\",\"Topics Treemap/hotel | 21st | garden/war | teenage | love\",\"Topics Treemap/hotel | 21st | garden/war | teenage | love\",\"Topics Treemap/evening | country | death/institution | mental | mental institution\",\"Topics Treemap/war | world war | war ii/man | woman | military central\",\"Topics Treemap/hotel | 21st | garden/century | new | 21st\",\"Topics Treemap/mother | businesswoman | college/underworld | mysterious serial killer | mysterious serial\",\"Topics Treemap/mother | businesswoman | college/mysterious | insane | psychologist\",\"Topics Treemap/evening | country | death/television | police | japan\",\"Topics Treemap/mother | businesswoman | college/child | mother | college\",\"Topics Treemap/story | local | 1960/force | successful | mine\",\"Topics Treemap/new | black | series/police | force | reckless test pilot hal jordan\",\"Topics Treemap/hotel | 21st | garden/police | world | city\",\"Topics Treemap/attraction | time | natured womanizer/film | agent | ari gold\",\"Topics Treemap/new | black | series/police | force | reckless test pilot hal jordan\",\"Topics Treemap/story | local | 1960/series | city | theme\",\"Topics Treemap/new | black | series/black | house | party\",\"Topics Treemap/story | local | 1960/woman | silkworm | william moulton\",\"Topics Treemap/self | inhabitant | paris/south | army | man\",\"Topics Treemap/mother | businesswoman | college/businesswoman | single | man\",\"Topics Treemap/self | inhabitant | paris/self | teacher | underachieving texan school\",\"Topics Treemap/story | local | 1960/life | career | famous\",\"Topics Treemap/self | inhabitant | paris/multiple | twisting tale | multiple chemical sensitivity\",\"Topics Treemap/hotel | 21st | garden/century | new | 21st\",\"Topics Treemap/war | world war | war ii/man | woman | military central\",\"Topics Treemap/new | black | series/gang | month | town\",\"Topics Treemap/new | black | series/new | group | friend\",\"Topics Treemap/mother | businesswoman | college/underworld | mysterious serial killer | mysterious serial\",\"Topics Treemap/self | inhabitant | paris/self | teacher | underachieving texan school\",\"Topics Treemap/self | inhabitant | paris/multiple | twisting tale | multiple chemical sensitivity\",\"Topics Treemap/story | local | 1960/woman | silkworm | william moulton\",\"Topics Treemap/hotel | 21st | garden/police | world | city\",\"Topics Treemap/evening | country | death/institution | mental | mental institution\",\"Topics Treemap/evening | country | death/student | teacher | infamous\",\"Topics Treemap/new | black | series\",\"Topics Treemap/mother | businesswoman | college\",\"Topics Treemap/hotel | 21st | garden\",\"Topics Treemap/mother | businesswoman | college\",\"Topics Treemap/attraction | time | natured womanizer\",\"Topics Treemap/hotel | 21st | garden\",\"Topics Treemap/attraction | time | natured womanizer\",\"Topics Treemap/story | local | 1960\",\"Topics Treemap/new | black | series\",\"Topics Treemap/evening | country | death\",\"Topics Treemap/evening | country | death\",\"Topics Treemap/story | local | 1960\",\"Topics Treemap/war | world war | war ii\",\"Topics Treemap/self | inhabitant | paris\",\"Topics Treemap/mother | businesswoman | college\",\"Topics Treemap/new | black | series\",\"Topics Treemap/new | black | series\",\"Topics Treemap/hotel | 21st | garden\",\"Topics Treemap/self | inhabitant | paris\",\"Topics Treemap/story | local | 1960\",\"Topics Treemap/self | inhabitant | paris\",\"Topics Treemap/evening | country | death\",\"Topics Treemap/evening | country | death\",\"Topics Treemap/mother | businesswoman | college\",\"Topics Treemap/hotel | 21st | garden\",\"Topics Treemap/story | local | 1960\",\"Topics Treemap\",\"Topics Treemap\",\"Topics Treemap\",\"Topics Treemap\",\"Topics Treemap\",\"Topics Treemap\",\"Topics Treemap\",\"Topics Treemap\",\"\"],\"values\":[1,1,1,1,1,1,1,1,1,1,1,1,1,1,1,1,1,1,1,1,1,1,1,1,1,1,1,1,1,1,1,1,1,1,1,1,1,1,1,1,1,1,1,1,1,1,1,1,1,1,1,1,2,2,2,2,2,2,2,2,2,2,2,2,2,2,2,2,2,2,2,2,2,2,2,2,2,2,4,8,8,8,8,6,8,2,52],\"type\":\"treemap\",\"root\":{\"color\":\"lightgrey\"}}],                        {\"template\":{\"data\":{\"bar\":[{\"error_x\":{\"color\":\"#2a3f5f\"},\"error_y\":{\"color\":\"#2a3f5f\"},\"marker\":{\"line\":{\"color\":\"#E5ECF6\",\"width\":0.5},\"pattern\":{\"fillmode\":\"overlay\",\"size\":10,\"solidity\":0.2}},\"type\":\"bar\"}],\"barpolar\":[{\"marker\":{\"line\":{\"color\":\"#E5ECF6\",\"width\":0.5},\"pattern\":{\"fillmode\":\"overlay\",\"size\":10,\"solidity\":0.2}},\"type\":\"barpolar\"}],\"carpet\":[{\"aaxis\":{\"endlinecolor\":\"#2a3f5f\",\"gridcolor\":\"white\",\"linecolor\":\"white\",\"minorgridcolor\":\"white\",\"startlinecolor\":\"#2a3f5f\"},\"baxis\":{\"endlinecolor\":\"#2a3f5f\",\"gridcolor\":\"white\",\"linecolor\":\"white\",\"minorgridcolor\":\"white\",\"startlinecolor\":\"#2a3f5f\"},\"type\":\"carpet\"}],\"choropleth\":[{\"colorbar\":{\"outlinewidth\":0,\"ticks\":\"\"},\"type\":\"choropleth\"}],\"contour\":[{\"colorbar\":{\"outlinewidth\":0,\"ticks\":\"\"},\"colorscale\":[[0.0,\"#0d0887\"],[0.1111111111111111,\"#46039f\"],[0.2222222222222222,\"#7201a8\"],[0.3333333333333333,\"#9c179e\"],[0.4444444444444444,\"#bd3786\"],[0.5555555555555556,\"#d8576b\"],[0.6666666666666666,\"#ed7953\"],[0.7777777777777778,\"#fb9f3a\"],[0.8888888888888888,\"#fdca26\"],[1.0,\"#f0f921\"]],\"type\":\"contour\"}],\"contourcarpet\":[{\"colorbar\":{\"outlinewidth\":0,\"ticks\":\"\"},\"type\":\"contourcarpet\"}],\"heatmap\":[{\"colorbar\":{\"outlinewidth\":0,\"ticks\":\"\"},\"colorscale\":[[0.0,\"#0d0887\"],[0.1111111111111111,\"#46039f\"],[0.2222222222222222,\"#7201a8\"],[0.3333333333333333,\"#9c179e\"],[0.4444444444444444,\"#bd3786\"],[0.5555555555555556,\"#d8576b\"],[0.6666666666666666,\"#ed7953\"],[0.7777777777777778,\"#fb9f3a\"],[0.8888888888888888,\"#fdca26\"],[1.0,\"#f0f921\"]],\"type\":\"heatmap\"}],\"heatmapgl\":[{\"colorbar\":{\"outlinewidth\":0,\"ticks\":\"\"},\"colorscale\":[[0.0,\"#0d0887\"],[0.1111111111111111,\"#46039f\"],[0.2222222222222222,\"#7201a8\"],[0.3333333333333333,\"#9c179e\"],[0.4444444444444444,\"#bd3786\"],[0.5555555555555556,\"#d8576b\"],[0.6666666666666666,\"#ed7953\"],[0.7777777777777778,\"#fb9f3a\"],[0.8888888888888888,\"#fdca26\"],[1.0,\"#f0f921\"]],\"type\":\"heatmapgl\"}],\"histogram\":[{\"marker\":{\"pattern\":{\"fillmode\":\"overlay\",\"size\":10,\"solidity\":0.2}},\"type\":\"histogram\"}],\"histogram2d\":[{\"colorbar\":{\"outlinewidth\":0,\"ticks\":\"\"},\"colorscale\":[[0.0,\"#0d0887\"],[0.1111111111111111,\"#46039f\"],[0.2222222222222222,\"#7201a8\"],[0.3333333333333333,\"#9c179e\"],[0.4444444444444444,\"#bd3786\"],[0.5555555555555556,\"#d8576b\"],[0.6666666666666666,\"#ed7953\"],[0.7777777777777778,\"#fb9f3a\"],[0.8888888888888888,\"#fdca26\"],[1.0,\"#f0f921\"]],\"type\":\"histogram2d\"}],\"histogram2dcontour\":[{\"colorbar\":{\"outlinewidth\":0,\"ticks\":\"\"},\"colorscale\":[[0.0,\"#0d0887\"],[0.1111111111111111,\"#46039f\"],[0.2222222222222222,\"#7201a8\"],[0.3333333333333333,\"#9c179e\"],[0.4444444444444444,\"#bd3786\"],[0.5555555555555556,\"#d8576b\"],[0.6666666666666666,\"#ed7953\"],[0.7777777777777778,\"#fb9f3a\"],[0.8888888888888888,\"#fdca26\"],[1.0,\"#f0f921\"]],\"type\":\"histogram2dcontour\"}],\"mesh3d\":[{\"colorbar\":{\"outlinewidth\":0,\"ticks\":\"\"},\"type\":\"mesh3d\"}],\"parcoords\":[{\"line\":{\"colorbar\":{\"outlinewidth\":0,\"ticks\":\"\"}},\"type\":\"parcoords\"}],\"pie\":[{\"automargin\":true,\"type\":\"pie\"}],\"scatter\":[{\"marker\":{\"colorbar\":{\"outlinewidth\":0,\"ticks\":\"\"}},\"type\":\"scatter\"}],\"scatter3d\":[{\"line\":{\"colorbar\":{\"outlinewidth\":0,\"ticks\":\"\"}},\"marker\":{\"colorbar\":{\"outlinewidth\":0,\"ticks\":\"\"}},\"type\":\"scatter3d\"}],\"scattercarpet\":[{\"marker\":{\"colorbar\":{\"outlinewidth\":0,\"ticks\":\"\"}},\"type\":\"scattercarpet\"}],\"scattergeo\":[{\"marker\":{\"colorbar\":{\"outlinewidth\":0,\"ticks\":\"\"}},\"type\":\"scattergeo\"}],\"scattergl\":[{\"marker\":{\"colorbar\":{\"outlinewidth\":0,\"ticks\":\"\"}},\"type\":\"scattergl\"}],\"scattermapbox\":[{\"marker\":{\"colorbar\":{\"outlinewidth\":0,\"ticks\":\"\"}},\"type\":\"scattermapbox\"}],\"scatterpolar\":[{\"marker\":{\"colorbar\":{\"outlinewidth\":0,\"ticks\":\"\"}},\"type\":\"scatterpolar\"}],\"scatterpolargl\":[{\"marker\":{\"colorbar\":{\"outlinewidth\":0,\"ticks\":\"\"}},\"type\":\"scatterpolargl\"}],\"scatterternary\":[{\"marker\":{\"colorbar\":{\"outlinewidth\":0,\"ticks\":\"\"}},\"type\":\"scatterternary\"}],\"surface\":[{\"colorbar\":{\"outlinewidth\":0,\"ticks\":\"\"},\"colorscale\":[[0.0,\"#0d0887\"],[0.1111111111111111,\"#46039f\"],[0.2222222222222222,\"#7201a8\"],[0.3333333333333333,\"#9c179e\"],[0.4444444444444444,\"#bd3786\"],[0.5555555555555556,\"#d8576b\"],[0.6666666666666666,\"#ed7953\"],[0.7777777777777778,\"#fb9f3a\"],[0.8888888888888888,\"#fdca26\"],[1.0,\"#f0f921\"]],\"type\":\"surface\"}],\"table\":[{\"cells\":{\"fill\":{\"color\":\"#EBF0F8\"},\"line\":{\"color\":\"white\"}},\"header\":{\"fill\":{\"color\":\"#C8D4E3\"},\"line\":{\"color\":\"white\"}},\"type\":\"table\"}]},\"layout\":{\"annotationdefaults\":{\"arrowcolor\":\"#2a3f5f\",\"arrowhead\":0,\"arrowwidth\":1},\"autotypenumbers\":\"strict\",\"coloraxis\":{\"colorbar\":{\"outlinewidth\":0,\"ticks\":\"\"}},\"colorscale\":{\"diverging\":[[0,\"#8e0152\"],[0.1,\"#c51b7d\"],[0.2,\"#de77ae\"],[0.3,\"#f1b6da\"],[0.4,\"#fde0ef\"],[0.5,\"#f7f7f7\"],[0.6,\"#e6f5d0\"],[0.7,\"#b8e186\"],[0.8,\"#7fbc41\"],[0.9,\"#4d9221\"],[1,\"#276419\"]],\"sequential\":[[0.0,\"#0d0887\"],[0.1111111111111111,\"#46039f\"],[0.2222222222222222,\"#7201a8\"],[0.3333333333333333,\"#9c179e\"],[0.4444444444444444,\"#bd3786\"],[0.5555555555555556,\"#d8576b\"],[0.6666666666666666,\"#ed7953\"],[0.7777777777777778,\"#fb9f3a\"],[0.8888888888888888,\"#fdca26\"],[1.0,\"#f0f921\"]],\"sequentialminus\":[[0.0,\"#0d0887\"],[0.1111111111111111,\"#46039f\"],[0.2222222222222222,\"#7201a8\"],[0.3333333333333333,\"#9c179e\"],[0.4444444444444444,\"#bd3786\"],[0.5555555555555556,\"#d8576b\"],[0.6666666666666666,\"#ed7953\"],[0.7777777777777778,\"#fb9f3a\"],[0.8888888888888888,\"#fdca26\"],[1.0,\"#f0f921\"]]},\"colorway\":[\"#636efa\",\"#EF553B\",\"#00cc96\",\"#ab63fa\",\"#FFA15A\",\"#19d3f3\",\"#FF6692\",\"#B6E880\",\"#FF97FF\",\"#FECB52\"],\"font\":{\"color\":\"#2a3f5f\"},\"geo\":{\"bgcolor\":\"white\",\"lakecolor\":\"white\",\"landcolor\":\"#E5ECF6\",\"showlakes\":true,\"showland\":true,\"subunitcolor\":\"white\"},\"hoverlabel\":{\"align\":\"left\"},\"hovermode\":\"closest\",\"mapbox\":{\"style\":\"light\"},\"paper_bgcolor\":\"white\",\"plot_bgcolor\":\"#E5ECF6\",\"polar\":{\"angularaxis\":{\"gridcolor\":\"white\",\"linecolor\":\"white\",\"ticks\":\"\"},\"bgcolor\":\"#E5ECF6\",\"radialaxis\":{\"gridcolor\":\"white\",\"linecolor\":\"white\",\"ticks\":\"\"}},\"scene\":{\"xaxis\":{\"backgroundcolor\":\"#E5ECF6\",\"gridcolor\":\"white\",\"gridwidth\":2,\"linecolor\":\"white\",\"showbackground\":true,\"ticks\":\"\",\"zerolinecolor\":\"white\"},\"yaxis\":{\"backgroundcolor\":\"#E5ECF6\",\"gridcolor\":\"white\",\"gridwidth\":2,\"linecolor\":\"white\",\"showbackground\":true,\"ticks\":\"\",\"zerolinecolor\":\"white\"},\"zaxis\":{\"backgroundcolor\":\"#E5ECF6\",\"gridcolor\":\"white\",\"gridwidth\":2,\"linecolor\":\"white\",\"showbackground\":true,\"ticks\":\"\",\"zerolinecolor\":\"white\"}},\"shapedefaults\":{\"line\":{\"color\":\"#2a3f5f\"}},\"ternary\":{\"aaxis\":{\"gridcolor\":\"white\",\"linecolor\":\"white\",\"ticks\":\"\"},\"baxis\":{\"gridcolor\":\"white\",\"linecolor\":\"white\",\"ticks\":\"\"},\"bgcolor\":\"#E5ECF6\",\"caxis\":{\"gridcolor\":\"white\",\"linecolor\":\"white\",\"ticks\":\"\"}},\"title\":{\"x\":0.05},\"xaxis\":{\"automargin\":true,\"gridcolor\":\"white\",\"linecolor\":\"white\",\"ticks\":\"\",\"title\":{\"standoff\":15},\"zerolinecolor\":\"white\",\"zerolinewidth\":2},\"yaxis\":{\"automargin\":true,\"gridcolor\":\"white\",\"linecolor\":\"white\",\"ticks\":\"\",\"title\":{\"standoff\":15},\"zerolinecolor\":\"white\",\"zerolinewidth\":2}}},\"coloraxis\":{\"colorbar\":{\"title\":{\"text\":\"score_norm\"}},\"colorscale\":[[0.0,\"rgb(0,0,255)\"],[0.1,\"rgb(51,153,255)\"],[0.2,\"rgb(102,204,255)\"],[0.3,\"rgb(153,204,255)\"],[0.4,\"rgb(204,204,255)\"],[0.5,\"rgb(255,255,255)\"],[0.6,\"rgb(255,204,255)\"],[0.7,\"rgb(255,153,255)\"],[0.8,\"rgb(255,102,204)\"],[0.9,\"rgb(255,102,102)\"],[1.0,\"rgb(255,0,0)\"]],\"cmid\":0.038461538461538464},\"legend\":{\"tracegroupgap\":0},\"margin\":{\"t\":60},\"height\":1000,\"width\":1000},                        {\"responsive\": true}                    ).then(function(){\n",
       "                            \n",
       "var gd = document.getElementById('91eb88fe-be5d-4e24-9e1a-85aef707bbdb');\n",
       "var x = new MutationObserver(function (mutations, observer) {{\n",
       "        var display = window.getComputedStyle(gd).display;\n",
       "        if (!display || display === 'none') {{\n",
       "            console.log([gd, 'removed!']);\n",
       "            Plotly.purge(gd);\n",
       "            observer.disconnect();\n",
       "        }}\n",
       "}});\n",
       "\n",
       "// Listen for the removal of the full notebook cells\n",
       "var notebookContainer = gd.closest('#notebook-container');\n",
       "if (notebookContainer) {{\n",
       "    x.observe(notebookContainer, {childList: true});\n",
       "}}\n",
       "\n",
       "// Listen for the clearing of the current output cell\n",
       "var outputEl = gd.closest('.output');\n",
       "if (outputEl) {{\n",
       "    x.observe(outputEl, {childList: true});\n",
       "}}\n",
       "\n",
       "                        })                };                });            </script>        </div>"
      ]
     },
     "metadata": {},
     "output_type": "display_data"
    }
   ],
   "source": [
    "nested.nested_maps(\n",
    "        size_rule=\"equal_size\",\n",
    "        map_type=\"treemap\",\n",
    "        width=1000,\n",
    "        height=1000,\n",
    "        query=['death'])"
   ]
  },
  {
   "cell_type": "code",
   "execution_count": 9,
   "id": "261eee49-1734-4aac-9bc2-c4eab15ec096",
   "metadata": {},
   "outputs": [
    {
     "name": "stdout",
     "output_type": "stream",
     "text": [
      "UMAP( verbose=True)\n",
      "Thu Mar 17 21:50:23 2022 Construct fuzzy simplicial set\n",
      "Thu Mar 17 21:50:24 2022 Finding Nearest Neighbors\n",
      "Thu Mar 17 21:50:24 2022 Finished Nearest Neighbor Search\n",
      "Thu Mar 17 21:50:24 2022 Construct embedding\n"
     ]
    },
    {
     "data": {
      "application/vnd.jupyter.widget-view+json": {
       "model_id": "648396f1128d424abe697257ef4af914",
       "version_major": 2,
       "version_minor": 0
      },
      "text/plain": [
       "Epochs completed:   0%|            0/500 [00:00]"
      ]
     },
     "metadata": {},
     "output_type": "display_data"
    },
    {
     "name": "stdout",
     "output_type": "stream",
     "text": [
      "Thu Mar 17 21:50:26 2022 Finished embedding\n"
     ]
    },
    {
     "data": {
      "application/vnd.plotly.v1+json": {
       "config": {
        "plotlyServerURL": "https://plot.ly"
       },
       "data": [
        {
         "customdata": [
          [
           "After discovering a mysterious artifact buried beneath the Lunar surface,<br>mankind sets off on a quest to find its origins<br>with help from intelligent supercomputer H.A.L. 9000.<br>"
          ],
          [
           "Grief-stricken mother Christine Collins (Angelina Jolie) takes on the L.A.P.D.<br>to her own detriment when it tries to pass off<br>an obvious impostor as her missing child.<br>"
          ],
          [
           "A successful, single businesswoman who dreams of having a baby<br>discovers she is infertile and hires a working class woman<br>to be her unlikely surrogate.<br>"
          ]
         ],
         "hovertemplate": "clusters=4 - mother | businesswoman | college<br>dim_1=%{x}<br>dim_2=%{y}<br>description=%{customdata[0]}<extra></extra>",
         "legendgroup": "4 - mother | businesswoman | college",
         "marker": {
          "color": "#636efa",
          "symbol": "circle"
         },
         "mode": "markers",
         "name": "4 - mother | businesswoman | college",
         "orientation": "v",
         "showlegend": true,
         "type": "scatter",
         "x": [
          2.945636749267578,
          1.1571521759033203,
          0.9246277213096619
         ],
         "xaxis": "x",
         "y": [
          -0.949103057384491,
          -1.83576500415802,
          -1.5401540994644165
         ],
         "yaxis": "y"
        },
        {
         "customdata": [
          [
           "Quentin Tarantino and Robert Rodriguez's homage to exploitation double features<br>in the 60s and 70s with two back-to-back cult films<br>that include previews of coming attractions between them.<br>"
          ]
         ],
         "hovertemplate": "clusters=5 - attraction | time | natured womanizer<br>dim_1=%{x}<br>dim_2=%{y}<br>description=%{customdata[0]}<extra></extra>",
         "legendgroup": "5 - attraction | time | natured womanizer",
         "marker": {
          "color": "#EF553B",
          "symbol": "circle"
         },
         "mode": "markers",
         "name": "5 - attraction | time | natured womanizer",
         "orientation": "v",
         "showlegend": true,
         "type": "scatter",
         "x": [
          1.9157440662384033
         ],
         "xaxis": "x",
         "y": [
          -0.3499164283275604
         ],
         "yaxis": "y"
        },
        {
         "customdata": [
          [
           "Atticus Finch, a lawyer in the Depression-era South, defends a<br>black man against an undeserved rape charge, and his children<br>against prejudice.<br>"
          ]
         ],
         "hovertemplate": "clusters=6 - self | inhabitant | paris<br>dim_1=%{x}<br>dim_2=%{y}<br>description=%{customdata[0]}<extra></extra>",
         "legendgroup": "6 - self | inhabitant | paris",
         "marker": {
          "color": "#00cc96",
          "symbol": "circle"
         },
         "mode": "markers",
         "name": "6 - self | inhabitant | paris",
         "orientation": "v",
         "showlegend": true,
         "type": "scatter",
         "x": [
          4.837560653686523
         ],
         "xaxis": "x",
         "y": [
          1.9988226890563965
         ],
         "yaxis": "y"
        },
        {
         "customdata": [
          [
           "Two hip detectives protect a witness to a murder while<br>investigating a case of stolen heroin from the evidence storage<br>room from their police precinct.<br>"
          ]
         ],
         "hovertemplate": "clusters=3 - hotel | 21st | garden<br>dim_1=%{x}<br>dim_2=%{y}<br>description=%{customdata[0]}<extra></extra>",
         "legendgroup": "3 - hotel | 21st | garden",
         "marker": {
          "color": "#ab63fa",
          "symbol": "circle"
         },
         "mode": "markers",
         "name": "3 - hotel | 21st | garden",
         "orientation": "v",
         "showlegend": true,
         "type": "scatter",
         "x": [
          1.389344334602356
         ],
         "xaxis": "x",
         "y": [
          2.3897902965545654
         ],
         "yaxis": "y"
        },
        {
         "customdata": [
          [
           "An American grandson of the infamous scientist, struggling to prove<br>that his grandfather was not as insane as people believe,<br>is invited to Transylvania, where he discovers the process that<br>reanimates a dead body.<br>"
          ]
         ],
         "hovertemplate": "clusters=2 - evening | country | death<br>dim_1=%{x}<br>dim_2=%{y}<br>description=%{customdata[0]}<extra></extra>",
         "legendgroup": "2 - evening | country | death",
         "marker": {
          "color": "#FFA15A",
          "symbol": "circle"
         },
         "mode": "markers",
         "name": "2 - evening | country | death",
         "orientation": "v",
         "showlegend": true,
         "type": "scatter",
         "x": [
          4.3716349601745605
         ],
         "xaxis": "x",
         "y": [
          -0.1460040658712387
         ],
         "yaxis": "y"
        },
        {
         "customdata": [
          [
           "Reckless test pilot Hal Jordan is granted an alien ring<br>that bestows him with otherworldly powers that inducts him into<br>an intergalactic police force, the Green Lantern Corps.<br>"
          ],
          [
           "After an Alaskan town is plunged into darkness for a<br>month, it is attacked by a bloodthirsty gang of vampires.<br>"
          ]
         ],
         "hovertemplate": "clusters=7 - new | black | series<br>dim_1=%{x}<br>dim_2=%{y}<br>description=%{customdata[0]}<extra></extra>",
         "legendgroup": "7 - new | black | series",
         "marker": {
          "color": "#19d3f3",
          "symbol": "circle"
         },
         "mode": "markers",
         "name": "7 - new | black | series",
         "orientation": "v",
         "showlegend": true,
         "type": "scatter",
         "x": [
          7.304352283477783,
          7.748630046844482
         ],
         "xaxis": "x",
         "y": [
          1.8092988729476929,
          1.9785043001174927
         ],
         "yaxis": "y"
        },
        {
         "customdata": [
          [
           "A father becomes worried when a local gangster befriends his<br>son in the Bronx in the 1960s.<br>"
          ]
         ],
         "hovertemplate": "clusters=0 - story | local | 1960<br>dim_1=%{x}<br>dim_2=%{y}<br>description=%{customdata[0]}<extra></extra>",
         "legendgroup": "0 - story | local | 1960",
         "marker": {
          "color": "#FF6692",
          "symbol": "circle"
         },
         "mode": "markers",
         "name": "0 - story | local | 1960",
         "orientation": "v",
         "showlegend": true,
         "type": "scatter",
         "x": [
          6.223383903503418
         ],
         "xaxis": "x",
         "y": [
          3.299833059310913
         ],
         "yaxis": "y"
        }
       ],
       "layout": {
        "height": 1000,
        "legend": {
         "title": {
          "text": "clusters"
         },
         "tracegroupgap": 0
        },
        "margin": {
         "t": 60
        },
        "template": {
         "data": {
          "bar": [
           {
            "error_x": {
             "color": "#2a3f5f"
            },
            "error_y": {
             "color": "#2a3f5f"
            },
            "marker": {
             "line": {
              "color": "#E5ECF6",
              "width": 0.5
             },
             "pattern": {
              "fillmode": "overlay",
              "size": 10,
              "solidity": 0.2
             }
            },
            "type": "bar"
           }
          ],
          "barpolar": [
           {
            "marker": {
             "line": {
              "color": "#E5ECF6",
              "width": 0.5
             },
             "pattern": {
              "fillmode": "overlay",
              "size": 10,
              "solidity": 0.2
             }
            },
            "type": "barpolar"
           }
          ],
          "carpet": [
           {
            "aaxis": {
             "endlinecolor": "#2a3f5f",
             "gridcolor": "white",
             "linecolor": "white",
             "minorgridcolor": "white",
             "startlinecolor": "#2a3f5f"
            },
            "baxis": {
             "endlinecolor": "#2a3f5f",
             "gridcolor": "white",
             "linecolor": "white",
             "minorgridcolor": "white",
             "startlinecolor": "#2a3f5f"
            },
            "type": "carpet"
           }
          ],
          "choropleth": [
           {
            "colorbar": {
             "outlinewidth": 0,
             "ticks": ""
            },
            "type": "choropleth"
           }
          ],
          "contour": [
           {
            "colorbar": {
             "outlinewidth": 0,
             "ticks": ""
            },
            "colorscale": [
             [
              0,
              "#0d0887"
             ],
             [
              0.1111111111111111,
              "#46039f"
             ],
             [
              0.2222222222222222,
              "#7201a8"
             ],
             [
              0.3333333333333333,
              "#9c179e"
             ],
             [
              0.4444444444444444,
              "#bd3786"
             ],
             [
              0.5555555555555556,
              "#d8576b"
             ],
             [
              0.6666666666666666,
              "#ed7953"
             ],
             [
              0.7777777777777778,
              "#fb9f3a"
             ],
             [
              0.8888888888888888,
              "#fdca26"
             ],
             [
              1,
              "#f0f921"
             ]
            ],
            "type": "contour"
           }
          ],
          "contourcarpet": [
           {
            "colorbar": {
             "outlinewidth": 0,
             "ticks": ""
            },
            "type": "contourcarpet"
           }
          ],
          "heatmap": [
           {
            "colorbar": {
             "outlinewidth": 0,
             "ticks": ""
            },
            "colorscale": [
             [
              0,
              "#0d0887"
             ],
             [
              0.1111111111111111,
              "#46039f"
             ],
             [
              0.2222222222222222,
              "#7201a8"
             ],
             [
              0.3333333333333333,
              "#9c179e"
             ],
             [
              0.4444444444444444,
              "#bd3786"
             ],
             [
              0.5555555555555556,
              "#d8576b"
             ],
             [
              0.6666666666666666,
              "#ed7953"
             ],
             [
              0.7777777777777778,
              "#fb9f3a"
             ],
             [
              0.8888888888888888,
              "#fdca26"
             ],
             [
              1,
              "#f0f921"
             ]
            ],
            "type": "heatmap"
           }
          ],
          "heatmapgl": [
           {
            "colorbar": {
             "outlinewidth": 0,
             "ticks": ""
            },
            "colorscale": [
             [
              0,
              "#0d0887"
             ],
             [
              0.1111111111111111,
              "#46039f"
             ],
             [
              0.2222222222222222,
              "#7201a8"
             ],
             [
              0.3333333333333333,
              "#9c179e"
             ],
             [
              0.4444444444444444,
              "#bd3786"
             ],
             [
              0.5555555555555556,
              "#d8576b"
             ],
             [
              0.6666666666666666,
              "#ed7953"
             ],
             [
              0.7777777777777778,
              "#fb9f3a"
             ],
             [
              0.8888888888888888,
              "#fdca26"
             ],
             [
              1,
              "#f0f921"
             ]
            ],
            "type": "heatmapgl"
           }
          ],
          "histogram": [
           {
            "marker": {
             "pattern": {
              "fillmode": "overlay",
              "size": 10,
              "solidity": 0.2
             }
            },
            "type": "histogram"
           }
          ],
          "histogram2d": [
           {
            "colorbar": {
             "outlinewidth": 0,
             "ticks": ""
            },
            "colorscale": [
             [
              0,
              "#0d0887"
             ],
             [
              0.1111111111111111,
              "#46039f"
             ],
             [
              0.2222222222222222,
              "#7201a8"
             ],
             [
              0.3333333333333333,
              "#9c179e"
             ],
             [
              0.4444444444444444,
              "#bd3786"
             ],
             [
              0.5555555555555556,
              "#d8576b"
             ],
             [
              0.6666666666666666,
              "#ed7953"
             ],
             [
              0.7777777777777778,
              "#fb9f3a"
             ],
             [
              0.8888888888888888,
              "#fdca26"
             ],
             [
              1,
              "#f0f921"
             ]
            ],
            "type": "histogram2d"
           }
          ],
          "histogram2dcontour": [
           {
            "colorbar": {
             "outlinewidth": 0,
             "ticks": ""
            },
            "colorscale": [
             [
              0,
              "#0d0887"
             ],
             [
              0.1111111111111111,
              "#46039f"
             ],
             [
              0.2222222222222222,
              "#7201a8"
             ],
             [
              0.3333333333333333,
              "#9c179e"
             ],
             [
              0.4444444444444444,
              "#bd3786"
             ],
             [
              0.5555555555555556,
              "#d8576b"
             ],
             [
              0.6666666666666666,
              "#ed7953"
             ],
             [
              0.7777777777777778,
              "#fb9f3a"
             ],
             [
              0.8888888888888888,
              "#fdca26"
             ],
             [
              1,
              "#f0f921"
             ]
            ],
            "type": "histogram2dcontour"
           }
          ],
          "mesh3d": [
           {
            "colorbar": {
             "outlinewidth": 0,
             "ticks": ""
            },
            "type": "mesh3d"
           }
          ],
          "parcoords": [
           {
            "line": {
             "colorbar": {
              "outlinewidth": 0,
              "ticks": ""
             }
            },
            "type": "parcoords"
           }
          ],
          "pie": [
           {
            "automargin": true,
            "type": "pie"
           }
          ],
          "scatter": [
           {
            "marker": {
             "colorbar": {
              "outlinewidth": 0,
              "ticks": ""
             }
            },
            "type": "scatter"
           }
          ],
          "scatter3d": [
           {
            "line": {
             "colorbar": {
              "outlinewidth": 0,
              "ticks": ""
             }
            },
            "marker": {
             "colorbar": {
              "outlinewidth": 0,
              "ticks": ""
             }
            },
            "type": "scatter3d"
           }
          ],
          "scattercarpet": [
           {
            "marker": {
             "colorbar": {
              "outlinewidth": 0,
              "ticks": ""
             }
            },
            "type": "scattercarpet"
           }
          ],
          "scattergeo": [
           {
            "marker": {
             "colorbar": {
              "outlinewidth": 0,
              "ticks": ""
             }
            },
            "type": "scattergeo"
           }
          ],
          "scattergl": [
           {
            "marker": {
             "colorbar": {
              "outlinewidth": 0,
              "ticks": ""
             }
            },
            "type": "scattergl"
           }
          ],
          "scattermapbox": [
           {
            "marker": {
             "colorbar": {
              "outlinewidth": 0,
              "ticks": ""
             }
            },
            "type": "scattermapbox"
           }
          ],
          "scatterpolar": [
           {
            "marker": {
             "colorbar": {
              "outlinewidth": 0,
              "ticks": ""
             }
            },
            "type": "scatterpolar"
           }
          ],
          "scatterpolargl": [
           {
            "marker": {
             "colorbar": {
              "outlinewidth": 0,
              "ticks": ""
             }
            },
            "type": "scatterpolargl"
           }
          ],
          "scatterternary": [
           {
            "marker": {
             "colorbar": {
              "outlinewidth": 0,
              "ticks": ""
             }
            },
            "type": "scatterternary"
           }
          ],
          "surface": [
           {
            "colorbar": {
             "outlinewidth": 0,
             "ticks": ""
            },
            "colorscale": [
             [
              0,
              "#0d0887"
             ],
             [
              0.1111111111111111,
              "#46039f"
             ],
             [
              0.2222222222222222,
              "#7201a8"
             ],
             [
              0.3333333333333333,
              "#9c179e"
             ],
             [
              0.4444444444444444,
              "#bd3786"
             ],
             [
              0.5555555555555556,
              "#d8576b"
             ],
             [
              0.6666666666666666,
              "#ed7953"
             ],
             [
              0.7777777777777778,
              "#fb9f3a"
             ],
             [
              0.8888888888888888,
              "#fdca26"
             ],
             [
              1,
              "#f0f921"
             ]
            ],
            "type": "surface"
           }
          ],
          "table": [
           {
            "cells": {
             "fill": {
              "color": "#EBF0F8"
             },
             "line": {
              "color": "white"
             }
            },
            "header": {
             "fill": {
              "color": "#C8D4E3"
             },
             "line": {
              "color": "white"
             }
            },
            "type": "table"
           }
          ]
         },
         "layout": {
          "annotationdefaults": {
           "arrowcolor": "#2a3f5f",
           "arrowhead": 0,
           "arrowwidth": 1
          },
          "autotypenumbers": "strict",
          "coloraxis": {
           "colorbar": {
            "outlinewidth": 0,
            "ticks": ""
           }
          },
          "colorscale": {
           "diverging": [
            [
             0,
             "#8e0152"
            ],
            [
             0.1,
             "#c51b7d"
            ],
            [
             0.2,
             "#de77ae"
            ],
            [
             0.3,
             "#f1b6da"
            ],
            [
             0.4,
             "#fde0ef"
            ],
            [
             0.5,
             "#f7f7f7"
            ],
            [
             0.6,
             "#e6f5d0"
            ],
            [
             0.7,
             "#b8e186"
            ],
            [
             0.8,
             "#7fbc41"
            ],
            [
             0.9,
             "#4d9221"
            ],
            [
             1,
             "#276419"
            ]
           ],
           "sequential": [
            [
             0,
             "#0d0887"
            ],
            [
             0.1111111111111111,
             "#46039f"
            ],
            [
             0.2222222222222222,
             "#7201a8"
            ],
            [
             0.3333333333333333,
             "#9c179e"
            ],
            [
             0.4444444444444444,
             "#bd3786"
            ],
            [
             0.5555555555555556,
             "#d8576b"
            ],
            [
             0.6666666666666666,
             "#ed7953"
            ],
            [
             0.7777777777777778,
             "#fb9f3a"
            ],
            [
             0.8888888888888888,
             "#fdca26"
            ],
            [
             1,
             "#f0f921"
            ]
           ],
           "sequentialminus": [
            [
             0,
             "#0d0887"
            ],
            [
             0.1111111111111111,
             "#46039f"
            ],
            [
             0.2222222222222222,
             "#7201a8"
            ],
            [
             0.3333333333333333,
             "#9c179e"
            ],
            [
             0.4444444444444444,
             "#bd3786"
            ],
            [
             0.5555555555555556,
             "#d8576b"
            ],
            [
             0.6666666666666666,
             "#ed7953"
            ],
            [
             0.7777777777777778,
             "#fb9f3a"
            ],
            [
             0.8888888888888888,
             "#fdca26"
            ],
            [
             1,
             "#f0f921"
            ]
           ]
          },
          "colorway": [
           "#636efa",
           "#EF553B",
           "#00cc96",
           "#ab63fa",
           "#FFA15A",
           "#19d3f3",
           "#FF6692",
           "#B6E880",
           "#FF97FF",
           "#FECB52"
          ],
          "font": {
           "color": "#2a3f5f"
          },
          "geo": {
           "bgcolor": "white",
           "lakecolor": "white",
           "landcolor": "#E5ECF6",
           "showlakes": true,
           "showland": true,
           "subunitcolor": "white"
          },
          "hoverlabel": {
           "align": "left"
          },
          "hovermode": "closest",
          "mapbox": {
           "style": "light"
          },
          "paper_bgcolor": "white",
          "plot_bgcolor": "#E5ECF6",
          "polar": {
           "angularaxis": {
            "gridcolor": "white",
            "linecolor": "white",
            "ticks": ""
           },
           "bgcolor": "#E5ECF6",
           "radialaxis": {
            "gridcolor": "white",
            "linecolor": "white",
            "ticks": ""
           }
          },
          "scene": {
           "xaxis": {
            "backgroundcolor": "#E5ECF6",
            "gridcolor": "white",
            "gridwidth": 2,
            "linecolor": "white",
            "showbackground": true,
            "ticks": "",
            "zerolinecolor": "white"
           },
           "yaxis": {
            "backgroundcolor": "#E5ECF6",
            "gridcolor": "white",
            "gridwidth": 2,
            "linecolor": "white",
            "showbackground": true,
            "ticks": "",
            "zerolinecolor": "white"
           },
           "zaxis": {
            "backgroundcolor": "#E5ECF6",
            "gridcolor": "white",
            "gridwidth": 2,
            "linecolor": "white",
            "showbackground": true,
            "ticks": "",
            "zerolinecolor": "white"
           }
          },
          "shapedefaults": {
           "line": {
            "color": "#2a3f5f"
           }
          },
          "ternary": {
           "aaxis": {
            "gridcolor": "white",
            "linecolor": "white",
            "ticks": ""
           },
           "baxis": {
            "gridcolor": "white",
            "linecolor": "white",
            "ticks": ""
           },
           "bgcolor": "#E5ECF6",
           "caxis": {
            "gridcolor": "white",
            "linecolor": "white",
            "ticks": ""
           }
          },
          "title": {
           "x": 0.05
          },
          "xaxis": {
           "automargin": true,
           "gridcolor": "white",
           "linecolor": "white",
           "ticks": "",
           "title": {
            "standoff": 15
           },
           "zerolinecolor": "white",
           "zerolinewidth": 2
          },
          "yaxis": {
           "automargin": true,
           "gridcolor": "white",
           "linecolor": "white",
           "ticks": "",
           "title": {
            "standoff": 15
           },
           "zerolinecolor": "white",
           "zerolinewidth": 2
          }
         }
        },
        "width": 1000,
        "xaxis": {
         "anchor": "y",
         "autorange": true,
         "domain": [
          0,
          1
         ],
         "range": [
          0.4921205316630887,
          8.181137236491056
         ],
         "title": {
          "text": "dim_1"
         },
         "type": "linear"
        },
        "yaxis": {
         "anchor": "x",
         "autorange": true,
         "domain": [
          0,
          1
         ],
         "range": [
          -2.148992935622042,
          3.613060990774935
         ],
         "title": {
          "text": "dim_2"
         },
         "type": "linear"
        }
       }
      },
      "image/png": "[encoded data removed]",
      "text/html": [
       "<div>                            <div id=\"9c49c03e-ed15-4527-8d7e-eda37792e49a\" class=\"plotly-graph-div\" style=\"height:1000px; width:1000px;\"></div>            <script type=\"text/javascript\">                require([\"plotly\"], function(Plotly) {                    window.PLOTLYENV=window.PLOTLYENV || {};                                    if (document.getElementById(\"9c49c03e-ed15-4527-8d7e-eda37792e49a\")) {                    Plotly.newPlot(                        \"9c49c03e-ed15-4527-8d7e-eda37792e49a\",                        [{\"customdata\":[[\"After discovering a mysterious artifact buried beneath the Lunar surface,<br>mankind sets off on a quest to find its origins<br>with help from intelligent supercomputer H.A.L. 9000.<br>\"],[\"Grief-stricken mother Christine Collins (Angelina Jolie) takes on the L.A.P.D.<br>to her own detriment when it tries to pass off<br>an obvious impostor as her missing child.<br>\"],[\"A successful, single businesswoman who dreams of having a baby<br>discovers she is infertile and hires a working class woman<br>to be her unlikely surrogate.<br>\"]],\"hovertemplate\":\"clusters=4 - mother | businesswoman | college<br>dim_1=%{x}<br>dim_2=%{y}<br>description=%{customdata[0]}<extra></extra>\",\"legendgroup\":\"4 - mother | businesswoman | college\",\"marker\":{\"color\":\"#636efa\",\"symbol\":\"circle\"},\"mode\":\"markers\",\"name\":\"4 - mother | businesswoman | college\",\"orientation\":\"v\",\"showlegend\":true,\"x\":[2.945636749267578,1.1571521759033203,0.9246277213096619],\"xaxis\":\"x\",\"y\":[-0.949103057384491,-1.83576500415802,-1.5401540994644165],\"yaxis\":\"y\",\"type\":\"scatter\"},{\"customdata\":[[\"Quentin Tarantino and Robert Rodriguez's homage to exploitation double features<br>in the 60s and 70s with two back-to-back cult films<br>that include previews of coming attractions between them.<br>\"]],\"hovertemplate\":\"clusters=5 - attraction | time | natured womanizer<br>dim_1=%{x}<br>dim_2=%{y}<br>description=%{customdata[0]}<extra></extra>\",\"legendgroup\":\"5 - attraction | time | natured womanizer\",\"marker\":{\"color\":\"#EF553B\",\"symbol\":\"circle\"},\"mode\":\"markers\",\"name\":\"5 - attraction | time | natured womanizer\",\"orientation\":\"v\",\"showlegend\":true,\"x\":[1.9157440662384033],\"xaxis\":\"x\",\"y\":[-0.3499164283275604],\"yaxis\":\"y\",\"type\":\"scatter\"},{\"customdata\":[[\"Atticus Finch, a lawyer in the Depression-era South, defends a<br>black man against an undeserved rape charge, and his children<br>against prejudice.<br>\"]],\"hovertemplate\":\"clusters=6 - self | inhabitant | paris<br>dim_1=%{x}<br>dim_2=%{y}<br>description=%{customdata[0]}<extra></extra>\",\"legendgroup\":\"6 - self | inhabitant | paris\",\"marker\":{\"color\":\"#00cc96\",\"symbol\":\"circle\"},\"mode\":\"markers\",\"name\":\"6 - self | inhabitant | paris\",\"orientation\":\"v\",\"showlegend\":true,\"x\":[4.837560653686523],\"xaxis\":\"x\",\"y\":[1.9988226890563965],\"yaxis\":\"y\",\"type\":\"scatter\"},{\"customdata\":[[\"Two hip detectives protect a witness to a murder while<br>investigating a case of stolen heroin from the evidence storage<br>room from their police precinct.<br>\"]],\"hovertemplate\":\"clusters=3 - hotel | 21st | garden<br>dim_1=%{x}<br>dim_2=%{y}<br>description=%{customdata[0]}<extra></extra>\",\"legendgroup\":\"3 - hotel | 21st | garden\",\"marker\":{\"color\":\"#ab63fa\",\"symbol\":\"circle\"},\"mode\":\"markers\",\"name\":\"3 - hotel | 21st | garden\",\"orientation\":\"v\",\"showlegend\":true,\"x\":[1.389344334602356],\"xaxis\":\"x\",\"y\":[2.3897902965545654],\"yaxis\":\"y\",\"type\":\"scatter\"},{\"customdata\":[[\"An American grandson of the infamous scientist, struggling to prove<br>that his grandfather was not as insane as people believe,<br>is invited to Transylvania, where he discovers the process that<br>reanimates a dead body.<br>\"]],\"hovertemplate\":\"clusters=2 - evening | country | death<br>dim_1=%{x}<br>dim_2=%{y}<br>description=%{customdata[0]}<extra></extra>\",\"legendgroup\":\"2 - evening | country | death\",\"marker\":{\"color\":\"#FFA15A\",\"symbol\":\"circle\"},\"mode\":\"markers\",\"name\":\"2 - evening | country | death\",\"orientation\":\"v\",\"showlegend\":true,\"x\":[4.3716349601745605],\"xaxis\":\"x\",\"y\":[-0.1460040658712387],\"yaxis\":\"y\",\"type\":\"scatter\"},{\"customdata\":[[\"Reckless test pilot Hal Jordan is granted an alien ring<br>that bestows him with otherworldly powers that inducts him into<br>an intergalactic police force, the Green Lantern Corps.<br>\"],[\"After an Alaskan town is plunged into darkness for a<br>month, it is attacked by a bloodthirsty gang of vampires.<br>\"]],\"hovertemplate\":\"clusters=7 - new | black | series<br>dim_1=%{x}<br>dim_2=%{y}<br>description=%{customdata[0]}<extra></extra>\",\"legendgroup\":\"7 - new | black | series\",\"marker\":{\"color\":\"#19d3f3\",\"symbol\":\"circle\"},\"mode\":\"markers\",\"name\":\"7 - new | black | series\",\"orientation\":\"v\",\"showlegend\":true,\"x\":[7.304352283477783,7.748630046844482],\"xaxis\":\"x\",\"y\":[1.8092988729476929,1.9785043001174927],\"yaxis\":\"y\",\"type\":\"scatter\"},{\"customdata\":[[\"A father becomes worried when a local gangster befriends his<br>son in the Bronx in the 1960s.<br>\"]],\"hovertemplate\":\"clusters=0 - story | local | 1960<br>dim_1=%{x}<br>dim_2=%{y}<br>description=%{customdata[0]}<extra></extra>\",\"legendgroup\":\"0 - story | local | 1960\",\"marker\":{\"color\":\"#FF6692\",\"symbol\":\"circle\"},\"mode\":\"markers\",\"name\":\"0 - story | local | 1960\",\"orientation\":\"v\",\"showlegend\":true,\"x\":[6.223383903503418],\"xaxis\":\"x\",\"y\":[3.299833059310913],\"yaxis\":\"y\",\"type\":\"scatter\"}],                        {\"template\":{\"data\":{\"bar\":[{\"error_x\":{\"color\":\"#2a3f5f\"},\"error_y\":{\"color\":\"#2a3f5f\"},\"marker\":{\"line\":{\"color\":\"#E5ECF6\",\"width\":0.5},\"pattern\":{\"fillmode\":\"overlay\",\"size\":10,\"solidity\":0.2}},\"type\":\"bar\"}],\"barpolar\":[{\"marker\":{\"line\":{\"color\":\"#E5ECF6\",\"width\":0.5},\"pattern\":{\"fillmode\":\"overlay\",\"size\":10,\"solidity\":0.2}},\"type\":\"barpolar\"}],\"carpet\":[{\"aaxis\":{\"endlinecolor\":\"#2a3f5f\",\"gridcolor\":\"white\",\"linecolor\":\"white\",\"minorgridcolor\":\"white\",\"startlinecolor\":\"#2a3f5f\"},\"baxis\":{\"endlinecolor\":\"#2a3f5f\",\"gridcolor\":\"white\",\"linecolor\":\"white\",\"minorgridcolor\":\"white\",\"startlinecolor\":\"#2a3f5f\"},\"type\":\"carpet\"}],\"choropleth\":[{\"colorbar\":{\"outlinewidth\":0,\"ticks\":\"\"},\"type\":\"choropleth\"}],\"contour\":[{\"colorbar\":{\"outlinewidth\":0,\"ticks\":\"\"},\"colorscale\":[[0.0,\"#0d0887\"],[0.1111111111111111,\"#46039f\"],[0.2222222222222222,\"#7201a8\"],[0.3333333333333333,\"#9c179e\"],[0.4444444444444444,\"#bd3786\"],[0.5555555555555556,\"#d8576b\"],[0.6666666666666666,\"#ed7953\"],[0.7777777777777778,\"#fb9f3a\"],[0.8888888888888888,\"#fdca26\"],[1.0,\"#f0f921\"]],\"type\":\"contour\"}],\"contourcarpet\":[{\"colorbar\":{\"outlinewidth\":0,\"ticks\":\"\"},\"type\":\"contourcarpet\"}],\"heatmap\":[{\"colorbar\":{\"outlinewidth\":0,\"ticks\":\"\"},\"colorscale\":[[0.0,\"#0d0887\"],[0.1111111111111111,\"#46039f\"],[0.2222222222222222,\"#7201a8\"],[0.3333333333333333,\"#9c179e\"],[0.4444444444444444,\"#bd3786\"],[0.5555555555555556,\"#d8576b\"],[0.6666666666666666,\"#ed7953\"],[0.7777777777777778,\"#fb9f3a\"],[0.8888888888888888,\"#fdca26\"],[1.0,\"#f0f921\"]],\"type\":\"heatmap\"}],\"heatmapgl\":[{\"colorbar\":{\"outlinewidth\":0,\"ticks\":\"\"},\"colorscale\":[[0.0,\"#0d0887\"],[0.1111111111111111,\"#46039f\"],[0.2222222222222222,\"#7201a8\"],[0.3333333333333333,\"#9c179e\"],[0.4444444444444444,\"#bd3786\"],[0.5555555555555556,\"#d8576b\"],[0.6666666666666666,\"#ed7953\"],[0.7777777777777778,\"#fb9f3a\"],[0.8888888888888888,\"#fdca26\"],[1.0,\"#f0f921\"]],\"type\":\"heatmapgl\"}],\"histogram\":[{\"marker\":{\"pattern\":{\"fillmode\":\"overlay\",\"size\":10,\"solidity\":0.2}},\"type\":\"histogram\"}],\"histogram2d\":[{\"colorbar\":{\"outlinewidth\":0,\"ticks\":\"\"},\"colorscale\":[[0.0,\"#0d0887\"],[0.1111111111111111,\"#46039f\"],[0.2222222222222222,\"#7201a8\"],[0.3333333333333333,\"#9c179e\"],[0.4444444444444444,\"#bd3786\"],[0.5555555555555556,\"#d8576b\"],[0.6666666666666666,\"#ed7953\"],[0.7777777777777778,\"#fb9f3a\"],[0.8888888888888888,\"#fdca26\"],[1.0,\"#f0f921\"]],\"type\":\"histogram2d\"}],\"histogram2dcontour\":[{\"colorbar\":{\"outlinewidth\":0,\"ticks\":\"\"},\"colorscale\":[[0.0,\"#0d0887\"],[0.1111111111111111,\"#46039f\"],[0.2222222222222222,\"#7201a8\"],[0.3333333333333333,\"#9c179e\"],[0.4444444444444444,\"#bd3786\"],[0.5555555555555556,\"#d8576b\"],[0.6666666666666666,\"#ed7953\"],[0.7777777777777778,\"#fb9f3a\"],[0.8888888888888888,\"#fdca26\"],[1.0,\"#f0f921\"]],\"type\":\"histogram2dcontour\"}],\"mesh3d\":[{\"colorbar\":{\"outlinewidth\":0,\"ticks\":\"\"},\"type\":\"mesh3d\"}],\"parcoords\":[{\"line\":{\"colorbar\":{\"outlinewidth\":0,\"ticks\":\"\"}},\"type\":\"parcoords\"}],\"pie\":[{\"automargin\":true,\"type\":\"pie\"}],\"scatter\":[{\"marker\":{\"colorbar\":{\"outlinewidth\":0,\"ticks\":\"\"}},\"type\":\"scatter\"}],\"scatter3d\":[{\"line\":{\"colorbar\":{\"outlinewidth\":0,\"ticks\":\"\"}},\"marker\":{\"colorbar\":{\"outlinewidth\":0,\"ticks\":\"\"}},\"type\":\"scatter3d\"}],\"scattercarpet\":[{\"marker\":{\"colorbar\":{\"outlinewidth\":0,\"ticks\":\"\"}},\"type\":\"scattercarpet\"}],\"scattergeo\":[{\"marker\":{\"colorbar\":{\"outlinewidth\":0,\"ticks\":\"\"}},\"type\":\"scattergeo\"}],\"scattergl\":[{\"marker\":{\"colorbar\":{\"outlinewidth\":0,\"ticks\":\"\"}},\"type\":\"scattergl\"}],\"scattermapbox\":[{\"marker\":{\"colorbar\":{\"outlinewidth\":0,\"ticks\":\"\"}},\"type\":\"scattermapbox\"}],\"scatterpolar\":[{\"marker\":{\"colorbar\":{\"outlinewidth\":0,\"ticks\":\"\"}},\"type\":\"scatterpolar\"}],\"scatterpolargl\":[{\"marker\":{\"colorbar\":{\"outlinewidth\":0,\"ticks\":\"\"}},\"type\":\"scatterpolargl\"}],\"scatterternary\":[{\"marker\":{\"colorbar\":{\"outlinewidth\":0,\"ticks\":\"\"}},\"type\":\"scatterternary\"}],\"surface\":[{\"colorbar\":{\"outlinewidth\":0,\"ticks\":\"\"},\"colorscale\":[[0.0,\"#0d0887\"],[0.1111111111111111,\"#46039f\"],[0.2222222222222222,\"#7201a8\"],[0.3333333333333333,\"#9c179e\"],[0.4444444444444444,\"#bd3786\"],[0.5555555555555556,\"#d8576b\"],[0.6666666666666666,\"#ed7953\"],[0.7777777777777778,\"#fb9f3a\"],[0.8888888888888888,\"#fdca26\"],[1.0,\"#f0f921\"]],\"type\":\"surface\"}],\"table\":[{\"cells\":{\"fill\":{\"color\":\"#EBF0F8\"},\"line\":{\"color\":\"white\"}},\"header\":{\"fill\":{\"color\":\"#C8D4E3\"},\"line\":{\"color\":\"white\"}},\"type\":\"table\"}]},\"layout\":{\"annotationdefaults\":{\"arrowcolor\":\"#2a3f5f\",\"arrowhead\":0,\"arrowwidth\":1},\"autotypenumbers\":\"strict\",\"coloraxis\":{\"colorbar\":{\"outlinewidth\":0,\"ticks\":\"\"}},\"colorscale\":{\"diverging\":[[0,\"#8e0152\"],[0.1,\"#c51b7d\"],[0.2,\"#de77ae\"],[0.3,\"#f1b6da\"],[0.4,\"#fde0ef\"],[0.5,\"#f7f7f7\"],[0.6,\"#e6f5d0\"],[0.7,\"#b8e186\"],[0.8,\"#7fbc41\"],[0.9,\"#4d9221\"],[1,\"#276419\"]],\"sequential\":[[0.0,\"#0d0887\"],[0.1111111111111111,\"#46039f\"],[0.2222222222222222,\"#7201a8\"],[0.3333333333333333,\"#9c179e\"],[0.4444444444444444,\"#bd3786\"],[0.5555555555555556,\"#d8576b\"],[0.6666666666666666,\"#ed7953\"],[0.7777777777777778,\"#fb9f3a\"],[0.8888888888888888,\"#fdca26\"],[1.0,\"#f0f921\"]],\"sequentialminus\":[[0.0,\"#0d0887\"],[0.1111111111111111,\"#46039f\"],[0.2222222222222222,\"#7201a8\"],[0.3333333333333333,\"#9c179e\"],[0.4444444444444444,\"#bd3786\"],[0.5555555555555556,\"#d8576b\"],[0.6666666666666666,\"#ed7953\"],[0.7777777777777778,\"#fb9f3a\"],[0.8888888888888888,\"#fdca26\"],[1.0,\"#f0f921\"]]},\"colorway\":[\"#636efa\",\"#EF553B\",\"#00cc96\",\"#ab63fa\",\"#FFA15A\",\"#19d3f3\",\"#FF6692\",\"#B6E880\",\"#FF97FF\",\"#FECB52\"],\"font\":{\"color\":\"#2a3f5f\"},\"geo\":{\"bgcolor\":\"white\",\"lakecolor\":\"white\",\"landcolor\":\"#E5ECF6\",\"showlakes\":true,\"showland\":true,\"subunitcolor\":\"white\"},\"hoverlabel\":{\"align\":\"left\"},\"hovermode\":\"closest\",\"mapbox\":{\"style\":\"light\"},\"paper_bgcolor\":\"white\",\"plot_bgcolor\":\"#E5ECF6\",\"polar\":{\"angularaxis\":{\"gridcolor\":\"white\",\"linecolor\":\"white\",\"ticks\":\"\"},\"bgcolor\":\"#E5ECF6\",\"radialaxis\":{\"gridcolor\":\"white\",\"linecolor\":\"white\",\"ticks\":\"\"}},\"scene\":{\"xaxis\":{\"backgroundcolor\":\"#E5ECF6\",\"gridcolor\":\"white\",\"gridwidth\":2,\"linecolor\":\"white\",\"showbackground\":true,\"ticks\":\"\",\"zerolinecolor\":\"white\"},\"yaxis\":{\"backgroundcolor\":\"#E5ECF6\",\"gridcolor\":\"white\",\"gridwidth\":2,\"linecolor\":\"white\",\"showbackground\":true,\"ticks\":\"\",\"zerolinecolor\":\"white\"},\"zaxis\":{\"backgroundcolor\":\"#E5ECF6\",\"gridcolor\":\"white\",\"gridwidth\":2,\"linecolor\":\"white\",\"showbackground\":true,\"ticks\":\"\",\"zerolinecolor\":\"white\"}},\"shapedefaults\":{\"line\":{\"color\":\"#2a3f5f\"}},\"ternary\":{\"aaxis\":{\"gridcolor\":\"white\",\"linecolor\":\"white\",\"ticks\":\"\"},\"baxis\":{\"gridcolor\":\"white\",\"linecolor\":\"white\",\"ticks\":\"\"},\"bgcolor\":\"#E5ECF6\",\"caxis\":{\"gridcolor\":\"white\",\"linecolor\":\"white\",\"ticks\":\"\"}},\"title\":{\"x\":0.05},\"xaxis\":{\"automargin\":true,\"gridcolor\":\"white\",\"linecolor\":\"white\",\"ticks\":\"\",\"title\":{\"standoff\":15},\"zerolinecolor\":\"white\",\"zerolinewidth\":2},\"yaxis\":{\"automargin\":true,\"gridcolor\":\"white\",\"linecolor\":\"white\",\"ticks\":\"\",\"title\":{\"standoff\":15},\"zerolinecolor\":\"white\",\"zerolinewidth\":2}}},\"xaxis\":{\"anchor\":\"y\",\"domain\":[0.0,1.0],\"title\":{\"text\":\"dim_1\"}},\"yaxis\":{\"anchor\":\"x\",\"domain\":[0.0,1.0],\"title\":{\"text\":\"dim_2\"}},\"legend\":{\"title\":{\"text\":\"clusters\"},\"tracegroupgap\":0},\"margin\":{\"t\":60},\"height\":1000,\"width\":1000},                        {\"responsive\": true}                    ).then(function(){\n",
       "                            \n",
       "var gd = document.getElementById('9c49c03e-ed15-4527-8d7e-eda37792e49a');\n",
       "var x = new MutationObserver(function (mutations, observer) {{\n",
       "        var display = window.getComputedStyle(gd).display;\n",
       "        if (!display || display === 'none') {{\n",
       "            console.log([gd, 'removed!']);\n",
       "            Plotly.purge(gd);\n",
       "            observer.disconnect();\n",
       "        }}\n",
       "}});\n",
       "\n",
       "// Listen for the removal of the full notebook cells\n",
       "var notebookContainer = gd.closest('#notebook-container');\n",
       "if (notebookContainer) {{\n",
       "    x.observe(notebookContainer, {childList: true});\n",
       "}}\n",
       "\n",
       "// Listen for the clearing of the current output cell\n",
       "var outputEl = gd.closest('.output');\n",
       "if (outputEl) {{\n",
       "    x.observe(outputEl, {childList: true});\n",
       "}}\n",
       "\n",
       "                        })                };                });            </script>        </div>"
      ]
     },
     "metadata": {},
     "output_type": "display_data"
    }
   ],
   "source": [
    "nested.visualize_embeddings(nested_level=0)"
   ]
  },
  {
   "cell_type": "code",
   "execution_count": 10,
   "id": "7c25930d-85cb-406b-8ef1-8e1ccce64a50",
   "metadata": {},
   "outputs": [
    {
     "data": {
      "text/html": [
       "<div>\n",
       "<style scoped>\n",
       "    .dataframe tbody tr th:only-of-type {\n",
       "        vertical-align: middle;\n",
       "    }\n",
       "\n",
       "    .dataframe tbody tr th {\n",
       "        vertical-align: top;\n",
       "    }\n",
       "\n",
       "    .dataframe thead th {\n",
       "        text-align: right;\n",
       "    }\n",
       "</style>\n",
       "<table border=\"1\" class=\"dataframe\">\n",
       "  <thead>\n",
       "    <tr style=\"text-align: right;\">\n",
       "      <th></th>\n",
       "      <th>clusters</th>\n",
       "      <th>centroid_docs</th>\n",
       "      <th>farest_doc</th>\n",
       "      <th>cluster_radius</th>\n",
       "    </tr>\n",
       "  </thead>\n",
       "  <tbody>\n",
       "    <tr>\n",
       "      <th>0</th>\n",
       "      <td>0</td>\n",
       "      <td>The story of a married silkworm merchant-turne...</td>\n",
       "      <td>A chronicle of the decade-long hunt for al-Qae...</td>\n",
       "      <td>1.562793</td>\n",
       "    </tr>\n",
       "    <tr>\n",
       "      <th>1</th>\n",
       "      <td>1</td>\n",
       "      <td>During World War II era, a young woman, Wang J...</td>\n",
       "      <td>An American family on holiday in Africa become...</td>\n",
       "      <td>1.487849</td>\n",
       "    </tr>\n",
       "    <tr>\n",
       "      <th>2</th>\n",
       "      <td>2</td>\n",
       "      <td>A newspaper and television station funded by a...</td>\n",
       "      <td>After being committed for 17 years, Michael My...</td>\n",
       "      <td>1.661325</td>\n",
       "    </tr>\n",
       "    <tr>\n",
       "      <th>3</th>\n",
       "      <td>3</td>\n",
       "      <td>A couple tries to repair their marriage while ...</td>\n",
       "      <td>Amidst the war climate, a teenage boy discover...</td>\n",
       "      <td>1.482303</td>\n",
       "    </tr>\n",
       "    <tr>\n",
       "      <th>4</th>\n",
       "      <td>4</td>\n",
       "      <td>After a break up, Jenny moves in with writer K...</td>\n",
       "      <td>A mysterious serial killer is shocking the und...</td>\n",
       "      <td>1.979434</td>\n",
       "    </tr>\n",
       "    <tr>\n",
       "      <th>5</th>\n",
       "      <td>5</td>\n",
       "      <td>Quentin Tarantino and Robert Rodriguez's homag...</td>\n",
       "      <td>A small-time rancher agrees to hold a captured...</td>\n",
       "      <td>1.298589</td>\n",
       "    </tr>\n",
       "    <tr>\n",
       "      <th>6</th>\n",
       "      <td>6</td>\n",
       "      <td>Nat Turner, a literate slave and preacher in t...</td>\n",
       "      <td>A group of slackers face an army of zombies. T...</td>\n",
       "      <td>1.661522</td>\n",
       "    </tr>\n",
       "    <tr>\n",
       "      <th>7</th>\n",
       "      <td>7</td>\n",
       "      <td>The Moorish General Othello is manipulated int...</td>\n",
       "      <td>A dramatization of the Black Sox scandal when ...</td>\n",
       "      <td>1.414965</td>\n",
       "    </tr>\n",
       "  </tbody>\n",
       "</table>\n",
       "</div>"
      ],
      "text/plain": [
       "   clusters                                      centroid_docs  \\\n",
       "0         0  The story of a married silkworm merchant-turne...   \n",
       "1         1  During World War II era, a young woman, Wang J...   \n",
       "2         2  A newspaper and television station funded by a...   \n",
       "3         3  A couple tries to repair their marriage while ...   \n",
       "4         4  After a break up, Jenny moves in with writer K...   \n",
       "5         5  Quentin Tarantino and Robert Rodriguez's homag...   \n",
       "6         6  Nat Turner, a literate slave and preacher in t...   \n",
       "7         7  The Moorish General Othello is manipulated int...   \n",
       "\n",
       "                                          farest_doc  cluster_radius  \n",
       "0  A chronicle of the decade-long hunt for al-Qae...        1.562793  \n",
       "1  An American family on holiday in Africa become...        1.487849  \n",
       "2  After being committed for 17 years, Michael My...        1.661325  \n",
       "3  Amidst the war climate, a teenage boy discover...        1.482303  \n",
       "4  A mysterious serial killer is shocking the und...        1.979434  \n",
       "5  A small-time rancher agrees to hold a captured...        1.298589  \n",
       "6  A group of slackers face an army of zombies. T...        1.661522  \n",
       "7  A dramatization of the Black Sox scandal when ...        1.414965  "
      ]
     },
     "execution_count": 10,
     "metadata": {},
     "output_type": "execute_result"
    }
   ],
   "source": [
    "nested.get_centroid_documents(nested_level=0, top_elements=2)"
   ]
  },
  {
   "cell_type": "code",
   "execution_count": null,
   "id": "0075e9bb-cc22-4062-91af-410a2a3da78f",
   "metadata": {},
   "outputs": [],
   "source": []
  }
 ],
 "metadata": {
  "kernelspec": {
   "display_name": "Python 3 (ipykernel)",
   "language": "python",
   "name": "python3"
  },
  "language_info": {
   "codemirror_mode": {
    "name": "ipython",
    "version": 3
   },
   "file_extension": ".py",
   "mimetype": "text/x-python",
   "name": "python",
   "nbconvert_exporter": "python",
   "pygments_lexer": "ipython3",
   "version": "3.8.2"
  }
 },
 "nbformat": 4,
 "nbformat_minor": 5
}
